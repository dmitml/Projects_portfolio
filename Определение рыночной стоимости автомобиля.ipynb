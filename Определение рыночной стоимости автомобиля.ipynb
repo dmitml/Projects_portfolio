{
 "cells": [
  {
   "cell_type": "markdown",
   "metadata": {},
   "source": [
    "## Описание проекта, загрузка и подготовка данных"
   ]
  },
  {
   "cell_type": "markdown",
   "metadata": {},
   "source": [
    "### Введение\n",
    "______\n",
    "**Название проекта**  \n",
    "\n",
    "Определение рыночной стоимости автомобиля клиента сервисом по продаже автомобилей с пробегом «Не бит, не крашен».\n",
    "_____\n",
    "\n",
    "**Цель исследования**  \n",
    "\n",
    "Построение моделей для предсказания рыночной стоимости автомобиля клиента с учетом качества предсказания и времени обучения модели.\n",
    "_______\n",
    "**Задачи исследования**\n",
    "\n",
    "- Провести необходимую предобработку датасетов с данными о параметрах автомобиля\n",
    "- Провести исследовательский анализ данных с учетом их типа\n",
    "- Провести корреляционный анализ категориальных и количественных признаков\n",
    "- Построить модели для предсказания рыночной стоимости автомобиля клиента\n",
    "- Провести сравнительный анализ времени обучения и качества моделей\n",
    "_____\n",
    "**Исходные данные**  \n",
    "\n",
    "Имеются данные, представленные в виде одного датасета, содержащего следующую информацию:\n",
    "\n",
    "- `DateCrawled` — дата скачивания анкеты из базы\n",
    "- `VehicleType` — тип автомобильного кузова\n",
    "- `RegistrationYear` — год регистрации автомобиля\n",
    "- `Gearbox` — тип коробки передач\n",
    "- `Power` — мощность (л. с.)\n",
    "- `Model` — модель автомобиля\n",
    "- `Kilometer` — пробег (км)\n",
    "- `RegistrationMonth` — месяц регистрации автомобиля\n",
    "- `FuelType` — тип топлива\n",
    "- `Brand` — марка автомобиля\n",
    "- `Repaired` — была машина в ремонте или нет\n",
    "- `DateCreated` — дата создания анкеты\n",
    "- `NumberOfPictures` — количество фотографий автомобиля\n",
    "- `PostalCode` — почтовый индекс владельца анкеты (пользователя)\n",
    "- `LastSeen` — дата последней активности пользователя    \n",
    "целевой признак:\n",
    "- `Price` — цена (евро)"
   ]
  },
  {
   "cell_type": "markdown",
   "metadata": {},
   "source": [
    "### Установка и импорт библиотек"
   ]
  },
  {
   "cell_type": "code",
   "execution_count": 1,
   "metadata": {},
   "outputs": [],
   "source": [
    "!pip install -U scikit-learn -q\n",
    "!pip install phik -q\n",
    "!pip install lightgbm scikit-learn -q\n",
    "!pip install catboost -q"
   ]
  },
  {
   "cell_type": "code",
   "execution_count": 2,
   "metadata": {},
   "outputs": [],
   "source": [
    "import pandas as pd\n",
    "import matplotlib.pyplot as plt\n",
    "import seaborn as sns\n",
    "import numpy as np\n",
    "import scipy.stats as st\n",
    "import lightgbm as lgb\n",
    "import os\n",
    "import phik\n",
    "import math\n",
    "import warnings\n",
    "import re\n",
    "import catboost\n",
    "\n",
    "from phik import phik_matrix\n",
    "from phik.report import plot_correlation_matrix\n",
    "from scipy.stats import uniform\n",
    "from lightgbm import LGBMRegressor\n",
    "from catboost import CatBoostRegressor\n",
    "from sklearn.linear_model import SGDRegressor\n",
    "from sklearn.model_selection import (train_test_split, RandomizedSearchCV)\n",
    "from sklearn.preprocessing import (\n",
    "    StandardScaler, \n",
    "    MinMaxScaler, \n",
    "    RobustScaler,\n",
    "    OneHotEncoder\n",
    ")\n",
    "from sklearn.linear_model import Lasso, LinearRegression, Ridge\n",
    "from sklearn.tree import DecisionTreeRegressor\n",
    "from sklearn.pipeline import Pipeline\n",
    "from sklearn.compose import ColumnTransformer\n",
    "from sklearn.impute import SimpleImputer\n",
    "from sklearn.metrics import (\n",
    "    mean_squared_error, \n",
    "    mean_absolute_error\n",
    ")"
   ]
  },
  {
   "cell_type": "code",
   "execution_count": 3,
   "metadata": {},
   "outputs": [],
   "source": [
    "# системные настройки\n",
    "pd.set_option('display.max_columns', None)\n",
    "pd.set_option('display.max_colwidth', None)\n",
    "warnings.filterwarnings(\"ignore\")"
   ]
  },
  {
   "cell_type": "code",
   "execution_count": 4,
   "metadata": {},
   "outputs": [],
   "source": [
    "# объявление констант\n",
    "RANDOM_STATE = 42\n",
    "TEST_SIZE = 0.25"
   ]
  },
  {
   "cell_type": "markdown",
   "metadata": {},
   "source": [
    "### Объявление функций"
   ]
  },
  {
   "cell_type": "code",
   "execution_count": 5,
   "metadata": {},
   "outputs": [],
   "source": [
    "# функция для краткого обзора датасетов\n",
    "def view_df(df):\n",
    "    display(df.head()) \n",
    "    display(df.info()) \n",
    "    display(df.columns) \n",
    "    display(df.describe())"
   ]
  },
  {
   "cell_type": "code",
   "execution_count": 6,
   "metadata": {},
   "outputs": [],
   "source": [
    "# Функция для определения типа значений в столбце с текстом и числами\n",
    "def sort_key(val):\n",
    "    if isinstance(val, str):\n",
    "        return (1, val)\n",
    "    return (0, val)"
   ]
  },
  {
   "cell_type": "code",
   "execution_count": 7,
   "metadata": {},
   "outputs": [],
   "source": [
    "# функция для описания количественных признаков при статистическом анализе\n",
    "def histbox_plot(df, list_col):\n",
    "    for name in list_col:\n",
    "        i = 1\n",
    "        plt.figure(figsize=(12, 4))\n",
    "        plt.suptitle(f'Гистограмма и диаграмма размаха признака - {name}', \n",
    "                     fontsize = 13, fontweight='bold')\n",
    "    \n",
    "        plt.subplot(i, 2, i) \n",
    "        sns.histplot(data=df, x=name, kde=True)\n",
    "    \n",
    "        plt.subplot(i, 2, i+1)\n",
    "        sns.boxplot(data=df, x=name)\n",
    "    \n",
    "        plt.tight_layout()\n",
    "        plt.show();\n",
    "    \n",
    "        display(df[name].describe())"
   ]
  },
  {
   "cell_type": "code",
   "execution_count": 8,
   "metadata": {},
   "outputs": [],
   "source": [
    "# функции для описания категориальных признаков при статистическом анализе\n",
    "# круговая диаграмма\n",
    "def pie_plot(df, list_col):\n",
    "    i = 1\n",
    "    plt.figure(figsize=(12, 12))\n",
    "    for name in list_col:\n",
    "        plt.subplot(3, 2, i)\n",
    "        df[name].value_counts().plot.pie(label='', autopct='%1.0f%%', title=name)\n",
    "        i +=1\n",
    "\n",
    "    plt.tight_layout()\n",
    "    plt.show();\n",
    "    \n",
    "# столбчатая диаграмма\n",
    "def colum_plot(df, list_col):\n",
    "    i = 1\n",
    "    plt.figure(figsize=(20, 4))\n",
    "    for name in list_col:\n",
    "        plt.subplot(math.ceil(len(list_col) / 2), 2, i)\n",
    "        order = df[name].value_counts().index\n",
    "        sns.countplot(data=df, x=name, order=order)\n",
    "        plt.xticks(rotation=90)\n",
    "        plt.ylabel('Количество')\n",
    "        i +=1\n",
    "\n",
    "    plt.tight_layout()\n",
    "    plt.show();\n",
    "    \n",
    "# столбчатая диаграмма с ограничением по количеству\n",
    "def colum_n_plot(df, list_col):\n",
    "    i = 1\n",
    "    plt.figure(figsize=(20, 4))\n",
    "    for name in list_col:\n",
    "        plt.subplot(math.ceil(len(list_col) / 2), 2, i)\n",
    "        order = df[name].value_counts().index[:30]\n",
    "        sns.countplot(data=df, x=name, order=order)\n",
    "        plt.xticks(rotation=90)\n",
    "        plt.ylabel('Количество')\n",
    "        i +=1\n",
    "\n",
    "    plt.tight_layout()\n",
    "    plt.show();"
   ]
  },
  {
   "cell_type": "code",
   "execution_count": 9,
   "metadata": {},
   "outputs": [],
   "source": [
    "# функция для построения матрицы Phik\n",
    "def phik_matrix_(df, interval_cols):\n",
    "    \n",
    "    phik_overview = phik_matrix(df, interval_cols=interval_cols) \n",
    "    plot_correlation_matrix(\n",
    "        phik_overview.values,\n",
    "        x_labels=phik_overview.columns,\n",
    "        y_labels=phik_overview.index,\n",
    "        vmin=0, vmax=1, color_map='Greens',\n",
    "        title=f'матрица $\\phi_K$',\n",
    "        fontsize_factor=1,\n",
    "        figsize=(12, 6)\n",
    "    )"
   ]
  },
  {
   "cell_type": "markdown",
   "metadata": {},
   "source": [
    "### Загрузка данных"
   ]
  },
  {
   "cell_type": "code",
   "execution_count": 10,
   "metadata": {},
   "outputs": [],
   "source": [
    "pth = '/datasets/autos.csv'\n",
    "\n",
    "if os.path.exists(pth):\n",
    "     df = pd.read_csv(pth, sep=',', parse_dates=['DateCrawled', 'DateCreated', 'LastSeen'])\n",
    "else:\n",
    "    print('Something is wrong with loading data')"
   ]
  },
  {
   "cell_type": "markdown",
   "metadata": {},
   "source": [
    "### Общая информация о датасетах"
   ]
  },
  {
   "cell_type": "code",
   "execution_count": 11,
   "metadata": {},
   "outputs": [
    {
     "data": {
      "text/html": [
       "<div>\n",
       "<style scoped>\n",
       "    .dataframe tbody tr th:only-of-type {\n",
       "        vertical-align: middle;\n",
       "    }\n",
       "\n",
       "    .dataframe tbody tr th {\n",
       "        vertical-align: top;\n",
       "    }\n",
       "\n",
       "    .dataframe thead th {\n",
       "        text-align: right;\n",
       "    }\n",
       "</style>\n",
       "<table border=\"1\" class=\"dataframe\">\n",
       "  <thead>\n",
       "    <tr style=\"text-align: right;\">\n",
       "      <th></th>\n",
       "      <th>DateCrawled</th>\n",
       "      <th>Price</th>\n",
       "      <th>VehicleType</th>\n",
       "      <th>RegistrationYear</th>\n",
       "      <th>Gearbox</th>\n",
       "      <th>Power</th>\n",
       "      <th>Model</th>\n",
       "      <th>Kilometer</th>\n",
       "      <th>RegistrationMonth</th>\n",
       "      <th>FuelType</th>\n",
       "      <th>Brand</th>\n",
       "      <th>Repaired</th>\n",
       "      <th>DateCreated</th>\n",
       "      <th>NumberOfPictures</th>\n",
       "      <th>PostalCode</th>\n",
       "      <th>LastSeen</th>\n",
       "    </tr>\n",
       "  </thead>\n",
       "  <tbody>\n",
       "    <tr>\n",
       "      <th>0</th>\n",
       "      <td>2016-03-24 11:52:17</td>\n",
       "      <td>480</td>\n",
       "      <td>NaN</td>\n",
       "      <td>1993</td>\n",
       "      <td>manual</td>\n",
       "      <td>0</td>\n",
       "      <td>golf</td>\n",
       "      <td>150000</td>\n",
       "      <td>0</td>\n",
       "      <td>petrol</td>\n",
       "      <td>volkswagen</td>\n",
       "      <td>NaN</td>\n",
       "      <td>2016-03-24</td>\n",
       "      <td>0</td>\n",
       "      <td>70435</td>\n",
       "      <td>2016-04-07 03:16:57</td>\n",
       "    </tr>\n",
       "    <tr>\n",
       "      <th>1</th>\n",
       "      <td>2016-03-24 10:58:45</td>\n",
       "      <td>18300</td>\n",
       "      <td>coupe</td>\n",
       "      <td>2011</td>\n",
       "      <td>manual</td>\n",
       "      <td>190</td>\n",
       "      <td>NaN</td>\n",
       "      <td>125000</td>\n",
       "      <td>5</td>\n",
       "      <td>gasoline</td>\n",
       "      <td>audi</td>\n",
       "      <td>yes</td>\n",
       "      <td>2016-03-24</td>\n",
       "      <td>0</td>\n",
       "      <td>66954</td>\n",
       "      <td>2016-04-07 01:46:50</td>\n",
       "    </tr>\n",
       "    <tr>\n",
       "      <th>2</th>\n",
       "      <td>2016-03-14 12:52:21</td>\n",
       "      <td>9800</td>\n",
       "      <td>suv</td>\n",
       "      <td>2004</td>\n",
       "      <td>auto</td>\n",
       "      <td>163</td>\n",
       "      <td>grand</td>\n",
       "      <td>125000</td>\n",
       "      <td>8</td>\n",
       "      <td>gasoline</td>\n",
       "      <td>jeep</td>\n",
       "      <td>NaN</td>\n",
       "      <td>2016-03-14</td>\n",
       "      <td>0</td>\n",
       "      <td>90480</td>\n",
       "      <td>2016-04-05 12:47:46</td>\n",
       "    </tr>\n",
       "    <tr>\n",
       "      <th>3</th>\n",
       "      <td>2016-03-17 16:54:04</td>\n",
       "      <td>1500</td>\n",
       "      <td>small</td>\n",
       "      <td>2001</td>\n",
       "      <td>manual</td>\n",
       "      <td>75</td>\n",
       "      <td>golf</td>\n",
       "      <td>150000</td>\n",
       "      <td>6</td>\n",
       "      <td>petrol</td>\n",
       "      <td>volkswagen</td>\n",
       "      <td>no</td>\n",
       "      <td>2016-03-17</td>\n",
       "      <td>0</td>\n",
       "      <td>91074</td>\n",
       "      <td>2016-03-17 17:40:17</td>\n",
       "    </tr>\n",
       "    <tr>\n",
       "      <th>4</th>\n",
       "      <td>2016-03-31 17:25:20</td>\n",
       "      <td>3600</td>\n",
       "      <td>small</td>\n",
       "      <td>2008</td>\n",
       "      <td>manual</td>\n",
       "      <td>69</td>\n",
       "      <td>fabia</td>\n",
       "      <td>90000</td>\n",
       "      <td>7</td>\n",
       "      <td>gasoline</td>\n",
       "      <td>skoda</td>\n",
       "      <td>no</td>\n",
       "      <td>2016-03-31</td>\n",
       "      <td>0</td>\n",
       "      <td>60437</td>\n",
       "      <td>2016-04-06 10:17:21</td>\n",
       "    </tr>\n",
       "  </tbody>\n",
       "</table>\n",
       "</div>"
      ],
      "text/plain": [
       "          DateCrawled  Price VehicleType  RegistrationYear Gearbox  Power  \\\n",
       "0 2016-03-24 11:52:17    480         NaN              1993  manual      0   \n",
       "1 2016-03-24 10:58:45  18300       coupe              2011  manual    190   \n",
       "2 2016-03-14 12:52:21   9800         suv              2004    auto    163   \n",
       "3 2016-03-17 16:54:04   1500       small              2001  manual     75   \n",
       "4 2016-03-31 17:25:20   3600       small              2008  manual     69   \n",
       "\n",
       "   Model  Kilometer  RegistrationMonth  FuelType       Brand Repaired  \\\n",
       "0   golf     150000                  0    petrol  volkswagen      NaN   \n",
       "1    NaN     125000                  5  gasoline        audi      yes   \n",
       "2  grand     125000                  8  gasoline        jeep      NaN   \n",
       "3   golf     150000                  6    petrol  volkswagen       no   \n",
       "4  fabia      90000                  7  gasoline       skoda       no   \n",
       "\n",
       "  DateCreated  NumberOfPictures  PostalCode            LastSeen  \n",
       "0  2016-03-24                 0       70435 2016-04-07 03:16:57  \n",
       "1  2016-03-24                 0       66954 2016-04-07 01:46:50  \n",
       "2  2016-03-14                 0       90480 2016-04-05 12:47:46  \n",
       "3  2016-03-17                 0       91074 2016-03-17 17:40:17  \n",
       "4  2016-03-31                 0       60437 2016-04-06 10:17:21  "
      ]
     },
     "metadata": {},
     "output_type": "display_data"
    },
    {
     "name": "stdout",
     "output_type": "stream",
     "text": [
      "<class 'pandas.core.frame.DataFrame'>\n",
      "RangeIndex: 354369 entries, 0 to 354368\n",
      "Data columns (total 16 columns):\n",
      " #   Column             Non-Null Count   Dtype         \n",
      "---  ------             --------------   -----         \n",
      " 0   DateCrawled        354369 non-null  datetime64[ns]\n",
      " 1   Price              354369 non-null  int64         \n",
      " 2   VehicleType        316879 non-null  object        \n",
      " 3   RegistrationYear   354369 non-null  int64         \n",
      " 4   Gearbox            334536 non-null  object        \n",
      " 5   Power              354369 non-null  int64         \n",
      " 6   Model              334664 non-null  object        \n",
      " 7   Kilometer          354369 non-null  int64         \n",
      " 8   RegistrationMonth  354369 non-null  int64         \n",
      " 9   FuelType           321474 non-null  object        \n",
      " 10  Brand              354369 non-null  object        \n",
      " 11  Repaired           283215 non-null  object        \n",
      " 12  DateCreated        354369 non-null  datetime64[ns]\n",
      " 13  NumberOfPictures   354369 non-null  int64         \n",
      " 14  PostalCode         354369 non-null  int64         \n",
      " 15  LastSeen           354369 non-null  datetime64[ns]\n",
      "dtypes: datetime64[ns](3), int64(7), object(6)\n",
      "memory usage: 43.3+ MB\n"
     ]
    },
    {
     "data": {
      "text/plain": [
       "None"
      ]
     },
     "metadata": {},
     "output_type": "display_data"
    },
    {
     "data": {
      "text/plain": [
       "Index(['DateCrawled', 'Price', 'VehicleType', 'RegistrationYear', 'Gearbox',\n",
       "       'Power', 'Model', 'Kilometer', 'RegistrationMonth', 'FuelType', 'Brand',\n",
       "       'Repaired', 'DateCreated', 'NumberOfPictures', 'PostalCode',\n",
       "       'LastSeen'],\n",
       "      dtype='object')"
      ]
     },
     "metadata": {},
     "output_type": "display_data"
    },
    {
     "data": {
      "text/html": [
       "<div>\n",
       "<style scoped>\n",
       "    .dataframe tbody tr th:only-of-type {\n",
       "        vertical-align: middle;\n",
       "    }\n",
       "\n",
       "    .dataframe tbody tr th {\n",
       "        vertical-align: top;\n",
       "    }\n",
       "\n",
       "    .dataframe thead th {\n",
       "        text-align: right;\n",
       "    }\n",
       "</style>\n",
       "<table border=\"1\" class=\"dataframe\">\n",
       "  <thead>\n",
       "    <tr style=\"text-align: right;\">\n",
       "      <th></th>\n",
       "      <th>Price</th>\n",
       "      <th>RegistrationYear</th>\n",
       "      <th>Power</th>\n",
       "      <th>Kilometer</th>\n",
       "      <th>RegistrationMonth</th>\n",
       "      <th>NumberOfPictures</th>\n",
       "      <th>PostalCode</th>\n",
       "    </tr>\n",
       "  </thead>\n",
       "  <tbody>\n",
       "    <tr>\n",
       "      <th>count</th>\n",
       "      <td>354369.000000</td>\n",
       "      <td>354369.000000</td>\n",
       "      <td>354369.000000</td>\n",
       "      <td>354369.000000</td>\n",
       "      <td>354369.000000</td>\n",
       "      <td>354369.0</td>\n",
       "      <td>354369.000000</td>\n",
       "    </tr>\n",
       "    <tr>\n",
       "      <th>mean</th>\n",
       "      <td>4416.656776</td>\n",
       "      <td>2004.234448</td>\n",
       "      <td>110.094337</td>\n",
       "      <td>128211.172535</td>\n",
       "      <td>5.714645</td>\n",
       "      <td>0.0</td>\n",
       "      <td>50508.689087</td>\n",
       "    </tr>\n",
       "    <tr>\n",
       "      <th>std</th>\n",
       "      <td>4514.158514</td>\n",
       "      <td>90.227958</td>\n",
       "      <td>189.850405</td>\n",
       "      <td>37905.341530</td>\n",
       "      <td>3.726421</td>\n",
       "      <td>0.0</td>\n",
       "      <td>25783.096248</td>\n",
       "    </tr>\n",
       "    <tr>\n",
       "      <th>min</th>\n",
       "      <td>0.000000</td>\n",
       "      <td>1000.000000</td>\n",
       "      <td>0.000000</td>\n",
       "      <td>5000.000000</td>\n",
       "      <td>0.000000</td>\n",
       "      <td>0.0</td>\n",
       "      <td>1067.000000</td>\n",
       "    </tr>\n",
       "    <tr>\n",
       "      <th>25%</th>\n",
       "      <td>1050.000000</td>\n",
       "      <td>1999.000000</td>\n",
       "      <td>69.000000</td>\n",
       "      <td>125000.000000</td>\n",
       "      <td>3.000000</td>\n",
       "      <td>0.0</td>\n",
       "      <td>30165.000000</td>\n",
       "    </tr>\n",
       "    <tr>\n",
       "      <th>50%</th>\n",
       "      <td>2700.000000</td>\n",
       "      <td>2003.000000</td>\n",
       "      <td>105.000000</td>\n",
       "      <td>150000.000000</td>\n",
       "      <td>6.000000</td>\n",
       "      <td>0.0</td>\n",
       "      <td>49413.000000</td>\n",
       "    </tr>\n",
       "    <tr>\n",
       "      <th>75%</th>\n",
       "      <td>6400.000000</td>\n",
       "      <td>2008.000000</td>\n",
       "      <td>143.000000</td>\n",
       "      <td>150000.000000</td>\n",
       "      <td>9.000000</td>\n",
       "      <td>0.0</td>\n",
       "      <td>71083.000000</td>\n",
       "    </tr>\n",
       "    <tr>\n",
       "      <th>max</th>\n",
       "      <td>20000.000000</td>\n",
       "      <td>9999.000000</td>\n",
       "      <td>20000.000000</td>\n",
       "      <td>150000.000000</td>\n",
       "      <td>12.000000</td>\n",
       "      <td>0.0</td>\n",
       "      <td>99998.000000</td>\n",
       "    </tr>\n",
       "  </tbody>\n",
       "</table>\n",
       "</div>"
      ],
      "text/plain": [
       "               Price  RegistrationYear          Power      Kilometer  \\\n",
       "count  354369.000000     354369.000000  354369.000000  354369.000000   \n",
       "mean     4416.656776       2004.234448     110.094337  128211.172535   \n",
       "std      4514.158514         90.227958     189.850405   37905.341530   \n",
       "min         0.000000       1000.000000       0.000000    5000.000000   \n",
       "25%      1050.000000       1999.000000      69.000000  125000.000000   \n",
       "50%      2700.000000       2003.000000     105.000000  150000.000000   \n",
       "75%      6400.000000       2008.000000     143.000000  150000.000000   \n",
       "max     20000.000000       9999.000000   20000.000000  150000.000000   \n",
       "\n",
       "       RegistrationMonth  NumberOfPictures     PostalCode  \n",
       "count      354369.000000          354369.0  354369.000000  \n",
       "mean            5.714645               0.0   50508.689087  \n",
       "std             3.726421               0.0   25783.096248  \n",
       "min             0.000000               0.0    1067.000000  \n",
       "25%             3.000000               0.0   30165.000000  \n",
       "50%             6.000000               0.0   49413.000000  \n",
       "75%             9.000000               0.0   71083.000000  \n",
       "max            12.000000               0.0   99998.000000  "
      ]
     },
     "metadata": {},
     "output_type": "display_data"
    }
   ],
   "source": [
    "view_df(df)"
   ]
  },
  {
   "cell_type": "markdown",
   "metadata": {},
   "source": [
    "**Вывод:** загружена и получена общая информация по датасету:\n",
    "- имеются пропуски в 5 столбцах: `VehicleType`, `Gearbox`, `Model`,  `FuelType`, `Repaired`\n",
    "- названия столбцов не соответствуют \"змеиному типу\"\n",
    "- имеются аномальные минимумы в столбцах: `Price`, `Power`, `RegistrationMonth`, `RegistrationYear`и аномальные максимумы в столбцах: `RegistrationYear`, `Power`\n",
    "- неинформативный столбец `NumberOfPictures`\n",
    "- тип данных соответствуют описанию.     \n",
    "Более подробный анализ, а также выявление дубликатов, обработка пропусков, аномальных значений и пр. будут произведены на следующих этапах обработки данных"
   ]
  },
  {
   "cell_type": "markdown",
   "metadata": {},
   "source": [
    "##  Предобработка данных"
   ]
  },
  {
   "cell_type": "markdown",
   "metadata": {},
   "source": [
    "### Корректировка названий столбцов"
   ]
  },
  {
   "cell_type": "code",
   "execution_count": 12,
   "metadata": {},
   "outputs": [
    {
     "data": {
      "text/plain": [
       "Index(['date_crawled', 'price', 'vehicle_type', 'registration_year', 'gearbox',\n",
       "       'power', 'model', 'kilometer', 'registration_month', 'fuel_type',\n",
       "       'brand', 'repaired', 'date_created', 'number_of_pictures',\n",
       "       'postal_code', 'last_seen'],\n",
       "      dtype='object')"
      ]
     },
     "execution_count": 12,
     "metadata": {},
     "output_type": "execute_result"
    }
   ],
   "source": [
    "df.columns = [re.sub(r'(?<!^)(?=[A-Z])', '_', i).lower() for i in df.columns]\n",
    "df.columns"
   ]
  },
  {
   "cell_type": "markdown",
   "metadata": {},
   "source": [
    "### Обработка неявных дубликатов"
   ]
  },
  {
   "cell_type": "code",
   "execution_count": 13,
   "metadata": {},
   "outputs": [
    {
     "name": "stdout",
     "output_type": "stream",
     "text": [
      "Уникальные значения в колонке 'vehicle_type':\n",
      " [nan 'coupe' 'suv' 'small' 'sedan' 'convertible' 'bus' 'wagon' 'other']\n",
      "\n",
      "Уникальные значения в колонке 'gearbox':\n",
      " ['manual' 'auto' nan]\n",
      "\n",
      "Уникальные значения в колонке 'model':\n",
      " ['golf' nan 'grand' 'fabia' '3er' '2_reihe' 'other' 'c_max' '3_reihe'\n",
      " 'passat' 'navara' 'ka' 'polo' 'twingo' 'a_klasse' 'scirocco' '5er'\n",
      " 'meriva' 'arosa' 'c4' 'civic' 'transporter' 'punto' 'e_klasse' 'clio'\n",
      " 'kadett' 'kangoo' 'corsa' 'one' 'fortwo' '1er' 'b_klasse' 'signum'\n",
      " 'astra' 'a8' 'jetta' 'fiesta' 'c_klasse' 'micra' 'vito' 'sprinter' '156'\n",
      " 'escort' 'forester' 'xc_reihe' 'scenic' 'a4' 'a1' 'insignia' 'combo'\n",
      " 'focus' 'tt' 'a6' 'jazz' 'omega' 'slk' '7er' '80' '147' '100' 'z_reihe'\n",
      " 'sportage' 'sorento' 'v40' 'ibiza' 'mustang' 'eos' 'touran' 'getz' 'a3'\n",
      " 'almera' 'megane' 'lupo' 'r19' 'zafira' 'caddy' 'mondeo' 'cordoba' 'colt'\n",
      " 'impreza' 'vectra' 'berlingo' 'tiguan' 'i_reihe' 'espace' 'sharan'\n",
      " '6_reihe' 'panda' 'up' 'seicento' 'ceed' '5_reihe' 'yeti' 'octavia' 'mii'\n",
      " 'rx_reihe' '6er' 'modus' 'fox' 'matiz' 'beetle' 'c1' 'rio' 'touareg'\n",
      " 'logan' 'spider' 'cuore' 's_max' 'a2' 'galaxy' 'c3' 'viano' 's_klasse'\n",
      " '1_reihe' 'avensis' 'roomster' 'sl' 'kaefer' 'santa' 'cooper' 'leon'\n",
      " '4_reihe' 'a5' '500' 'laguna' 'ptcruiser' 'clk' 'primera' 'x_reihe'\n",
      " 'exeo' '159' 'transit' 'juke' 'qashqai' 'carisma' 'accord' 'corolla'\n",
      " 'lanos' 'phaeton' 'verso' 'swift' 'rav' 'picanto' 'boxster' 'kalos'\n",
      " 'superb' 'stilo' 'alhambra' 'mx_reihe' 'roadster' 'ypsilon' 'cayenne'\n",
      " 'galant' 'justy' '90' 'sirion' 'crossfire' 'agila' 'duster' 'cr_reihe'\n",
      " 'v50' 'c_reihe' 'v_klasse' 'm_klasse' 'yaris' 'c5' 'aygo' 'cc' 'carnival'\n",
      " 'fusion' '911' 'bora' 'forfour' 'm_reihe' 'cl' 'tigra' '300c' 'spark'\n",
      " 'v70' 'kuga' 'x_type' 'ducato' 's_type' 'x_trail' 'toledo' 'altea'\n",
      " 'voyager' 'calibra' 'bravo' 'antara' 'tucson' 'citigo' 'jimny' 'wrangler'\n",
      " 'lybra' 'q7' 'lancer' 'captiva' 'c2' 'discovery' 'freelander' 'sandero'\n",
      " 'note' '900' 'cherokee' 'clubman' 'samara' 'defender' '601' 'cx_reihe'\n",
      " 'legacy' 'pajero' 'auris' 'niva' 's60' 'nubira' 'vivaro' 'g_klasse'\n",
      " 'lodgy' '850' 'range_rover' 'q3' 'serie_2' 'glk' 'charade' 'croma'\n",
      " 'outlander' 'doblo' 'musa' 'move' '9000' 'v60' '145' 'aveo' '200' 'b_max'\n",
      " 'range_rover_sport' 'terios' 'rangerover' 'q5' 'range_rover_evoque'\n",
      " 'materia' 'delta' 'gl' 'kalina' 'amarok' 'elefantino' 'i3' 'kappa'\n",
      " 'serie_3' 'serie_1']\n",
      "\n",
      "Уникальные значения в колонке 'fuel_type':\n",
      " ['petrol' 'gasoline' nan 'lpg' 'other' 'hybrid' 'cng' 'electric']\n",
      "\n",
      "Уникальные значения в колонке 'brand':\n",
      " ['volkswagen' 'audi' 'jeep' 'skoda' 'bmw' 'peugeot' 'ford' 'mazda'\n",
      " 'nissan' 'renault' 'mercedes_benz' 'opel' 'seat' 'citroen' 'honda' 'fiat'\n",
      " 'mini' 'smart' 'hyundai' 'sonstige_autos' 'alfa_romeo' 'subaru' 'volvo'\n",
      " 'mitsubishi' 'kia' 'suzuki' 'lancia' 'toyota' 'chevrolet' 'dacia'\n",
      " 'daihatsu' 'trabant' 'saab' 'chrysler' 'jaguar' 'daewoo' 'porsche'\n",
      " 'rover' 'land_rover' 'lada']\n",
      "\n",
      "Уникальные значения в колонке 'repaired':\n",
      " [nan 'yes' 'no']\n",
      "\n"
     ]
    }
   ],
   "source": [
    "for column in df.select_dtypes(exclude=[np.number, np.datetime64]).columns.values:\n",
    "    print(f\"Уникальные значения в колонке '{column}':\\n {df[column].unique()}\")\n",
    "    print()"
   ]
  },
  {
   "cell_type": "markdown",
   "metadata": {},
   "source": [
    "В значениях рассматриваемых стлобцов неявные дубликаты отсутствуют. Столбец `model` отдельно проанализируем с использованием функции `sort_key`"
   ]
  },
  {
   "cell_type": "code",
   "execution_count": 14,
   "metadata": {},
   "outputs": [
    {
     "name": "stdout",
     "output_type": "stream",
     "text": [
      "Уникальные значения в колонке 'model': [nan, '100', '145', '147', '156', '159', '1_reihe', '1er', '200', '2_reihe', '300c', '3_reihe', '3er', '4_reihe', '500', '5_reihe', '5er', '601', '6_reihe', '6er', '7er', '80', '850', '90', '900', '9000', '911', 'a1', 'a2', 'a3', 'a4', 'a5', 'a6', 'a8', 'a_klasse', 'accord', 'agila', 'alhambra', 'almera', 'altea', 'amarok', 'antara', 'arosa', 'astra', 'auris', 'avensis', 'aveo', 'aygo', 'b_klasse', 'b_max', 'beetle', 'berlingo', 'bora', 'boxster', 'bravo', 'c1', 'c2', 'c3', 'c4', 'c5', 'c_klasse', 'c_max', 'c_reihe', 'caddy', 'calibra', 'captiva', 'carisma', 'carnival', 'cayenne', 'cc', 'ceed', 'charade', 'cherokee', 'citigo', 'civic', 'cl', 'clio', 'clk', 'clubman', 'colt', 'combo', 'cooper', 'cordoba', 'corolla', 'corsa', 'cr_reihe', 'croma', 'crossfire', 'cuore', 'cx_reihe', 'defender', 'delta', 'discovery', 'doblo', 'ducato', 'duster', 'e_klasse', 'elefantino', 'eos', 'escort', 'espace', 'exeo', 'fabia', 'fiesta', 'focus', 'forester', 'forfour', 'fortwo', 'fox', 'freelander', 'fusion', 'g_klasse', 'galant', 'galaxy', 'getz', 'gl', 'glk', 'golf', 'grand', 'i3', 'i_reihe', 'ibiza', 'impreza', 'insignia', 'jazz', 'jetta', 'jimny', 'juke', 'justy', 'ka', 'kadett', 'kaefer', 'kalina', 'kalos', 'kangoo', 'kappa', 'kuga', 'laguna', 'lancer', 'lanos', 'legacy', 'leon', 'lodgy', 'logan', 'lupo', 'lybra', 'm_klasse', 'm_reihe', 'materia', 'matiz', 'megane', 'meriva', 'micra', 'mii', 'modus', 'mondeo', 'move', 'musa', 'mustang', 'mx_reihe', 'navara', 'niva', 'note', 'nubira', 'octavia', 'omega', 'one', 'other', 'outlander', 'pajero', 'panda', 'passat', 'phaeton', 'picanto', 'polo', 'primera', 'ptcruiser', 'punto', 'q3', 'q5', 'q7', 'qashqai', 'r19', 'range_rover', 'range_rover_evoque', 'range_rover_sport', 'rangerover', 'rav', 'rio', 'roadster', 'roomster', 'rx_reihe', 's60', 's_klasse', 's_max', 's_type', 'samara', 'sandero', 'santa', 'scenic', 'scirocco', 'seicento', 'serie_1', 'serie_2', 'serie_3', 'sharan', 'signum', 'sirion', 'sl', 'slk', 'sorento', 'spark', 'spider', 'sportage', 'sprinter', 'stilo', 'superb', 'swift', 'terios', 'tigra', 'tiguan', 'toledo', 'touareg', 'touran', 'transit', 'transporter', 'tt', 'tucson', 'twingo', 'up', 'v40', 'v50', 'v60', 'v70', 'v_klasse', 'vectra', 'verso', 'viano', 'vito', 'vivaro', 'voyager', 'wrangler', 'x_reihe', 'x_trail', 'x_type', 'xc_reihe', 'yaris', 'yeti', 'ypsilon', 'z_reihe', 'zafira']\n"
     ]
    }
   ],
   "source": [
    "# Получение уникальных значений и их сортировка\n",
    "unique_values = df['model'].unique()\n",
    "sorted_unique_values = sorted(unique_values, key=sort_key)\n",
    "\n",
    "print(f\"Уникальные значения в колонке 'model': {sorted_unique_values}\")"
   ]
  },
  {
   "cell_type": "markdown",
   "metadata": {},
   "source": [
    "В столбце `model` присутствуют неявные дубликаты, заменим их"
   ]
  },
  {
   "cell_type": "code",
   "execution_count": 15,
   "metadata": {},
   "outputs": [],
   "source": [
    "df['model'] = df['model'].replace('rangerover', 'range_rover')"
   ]
  },
  {
   "cell_type": "markdown",
   "metadata": {},
   "source": [
    "### Обработка пропусков"
   ]
  },
  {
   "cell_type": "code",
   "execution_count": 16,
   "metadata": {},
   "outputs": [
    {
     "data": {
      "text/plain": [
       "array([nan, 'sedan', 'small', 'convertible', 'coupe', 'wagon', 'bus',\n",
       "       'other'], dtype=object)"
      ]
     },
     "execution_count": 16,
     "metadata": {},
     "output_type": "execute_result"
    }
   ],
   "source": [
    "df.loc[(df['model'] == 'golf') & (df['brand'] == \"volkswagen\") \n",
    "       & (df['registration_year'] == 1993), 'vehicle_type'].unique()"
   ]
  },
  {
   "cell_type": "markdown",
   "metadata": {},
   "source": [
    "Восстановить пропуски в категориальных столбцах `vehicle_type`, `gearbox`, `model`, `fuel_type`, `repaired`, не представляется возможным по имеющейся информации, необходимо обращение к экспертам. Даже для столбца `vehicle_type` при одинковой марке, моделе и годе выпуска авто присутствует значительное количество вариантов. При условии, что встречающаяся категория `other` в данных столбцах заполнялась корректно, т.е действительно при отутствии необходимой категории, тогда пропуски заменим значением `unk`  (неизвестно)."
   ]
  },
  {
   "cell_type": "code",
   "execution_count": 17,
   "metadata": {},
   "outputs": [],
   "source": [
    "colum_nan = ['vehicle_type', 'gearbox', 'model', 'fuel_type', 'repaired']\n",
    "df[colum_nan] = df[colum_nan].fillna('unk')"
   ]
  },
  {
   "cell_type": "markdown",
   "metadata": {},
   "source": [
    "**Вывод:** по результатам предобработки данных названия столбцов были приведены к \"змеиному типу\", заменили некорректное наименование марки автомобиля, выявленные в данных пропуски заполнены значением `unk` (неизвестно), таким образом, получена отдельная категория данных.    \n",
    "Перед началом следующего этапа подготовки данных сохраним оригинальный датасет"
   ]
  },
  {
   "cell_type": "code",
   "execution_count": 18,
   "metadata": {},
   "outputs": [],
   "source": [
    "df_orig = df"
   ]
  },
  {
   "cell_type": "markdown",
   "metadata": {},
   "source": [
    "## Подготовка данных"
   ]
  },
  {
   "cell_type": "markdown",
   "metadata": {},
   "source": [
    "### Предварительный отбор признаков"
   ]
  },
  {
   "cell_type": "markdown",
   "metadata": {},
   "source": [
    "Проведем предварительный отбор признаков, которые явно не могут иметь отношения к прогнозу целевого признака - `цена`, а именно: `date_crawled`, `date_created`, `last_seen`. Исключим признак `registration_month`, так как в документах на автомобиль, равно как и в объявлениях, не указывается месяц, а только год выпуска, следовательно и объединение этого параметра с `registration_year` не имеет смысла. Также исключим `number_of_pictures`, как признак с нулевой дисперсией, а значит бесполезный для прогнозирования."
   ]
  },
  {
   "cell_type": "code",
   "execution_count": 19,
   "metadata": {},
   "outputs": [],
   "source": [
    "df = df.drop(['date_crawled', 'date_created', 'last_seen', \n",
    "              'registration_month', 'number_of_pictures'], axis=1)"
   ]
  },
  {
   "cell_type": "markdown",
   "metadata": {},
   "source": [
    "### Обработка явных дубликатов"
   ]
  },
  {
   "cell_type": "code",
   "execution_count": 20,
   "metadata": {},
   "outputs": [
    {
     "data": {
      "text/plain": [
       "23511"
      ]
     },
     "execution_count": 20,
     "metadata": {},
     "output_type": "execute_result"
    }
   ],
   "source": [
    "df.duplicated().sum()"
   ]
  },
  {
   "cell_type": "code",
   "execution_count": 21,
   "metadata": {},
   "outputs": [
    {
     "data": {
      "text/plain": [
       "330858"
      ]
     },
     "execution_count": 21,
     "metadata": {},
     "output_type": "execute_result"
    }
   ],
   "source": [
    "df = df.drop_duplicates()\n",
    "df.shape[0]"
   ]
  },
  {
   "cell_type": "code",
   "execution_count": 22,
   "metadata": {
    "scrolled": true
   },
   "outputs": [
    {
     "name": "stdout",
     "output_type": "stream",
     "text": [
      "Доля текущего объема данных относительно первоначального: 93.4%\n"
     ]
    }
   ],
   "source": [
    "print(f'Доля текущего объема данных относительно первоначального: {df.shape[0]/df_orig.shape[0]:.1%}')"
   ]
  },
  {
   "cell_type": "markdown",
   "metadata": {},
   "source": [
    "### Исследовательский анализ данных"
   ]
  },
  {
   "cell_type": "markdown",
   "metadata": {},
   "source": [
    "Выделим количественные и категориальные признаки"
   ]
  },
  {
   "cell_type": "code",
   "execution_count": 23,
   "metadata": {},
   "outputs": [
    {
     "name": "stdout",
     "output_type": "stream",
     "text": [
      "11\n"
     ]
    }
   ],
   "source": [
    "num_col_df = df.select_dtypes(include='number').columns.tolist()\n",
    "cat_col_df = df.select_dtypes(exclude='number').columns.tolist()\n",
    "print(len(num_col_df + cat_col_df))"
   ]
  },
  {
   "cell_type": "markdown",
   "metadata": {},
   "source": [
    "#### Cтатистический анализ количественных признаков"
   ]
  },
  {
   "cell_type": "markdown",
   "metadata": {},
   "source": [
    "На этапе загрузки данных в признаках `price`, `registration_year` и `power` были выявлены аномальные значения, обработаем их:  \n",
    "- для признака `price` исключим значения менее 50 евро как аномальные и малочисленные, а также искажающие общую картину цен на автомобили\n",
    "- для признака `registration_year` ограничим выборку диапазоном 1980 - 2024 гг, количество автомобилей до 1980 резко снижается и для автомобилей такого возраста цену не имеет смысла прогнозировать, так она определяется уже не рынком, а другими факторами (по цене \"металла\" или антикварным рынком и пр.)\n",
    "- для признака `power` ограничим выборку диапазоном 30 - 300 л.с., т.к автомобили с мощностью ниже этого дипазона выпускались исключительно редко, а выше этого диапазона идет так же достаточно редкая категория спорткаров со своим рынком и правилами формирования цены."
   ]
  },
  {
   "cell_type": "code",
   "execution_count": 24,
   "metadata": {},
   "outputs": [
    {
     "data": {
      "text/plain": [
       "272728"
      ]
     },
     "execution_count": 24,
     "metadata": {},
     "output_type": "execute_result"
    }
   ],
   "source": [
    "df = df.query('price >=50 & 1980 <= registration_year <= 2016 & 30 <= power <= 620')\n",
    "len(df)"
   ]
  },
  {
   "cell_type": "code",
   "execution_count": 25,
   "metadata": {
    "scrolled": false
   },
   "outputs": [
    {
     "data": {
      "image/png": "[encoded data removed]",
      "text/plain": [
       "<Figure size 864x288 with 2 Axes>"
      ]
     },
     "metadata": {
      "needs_background": "light"
     },
     "output_type": "display_data"
    },
    {
     "data": {
      "text/plain": [
       "count    272728.000000\n",
       "mean       4807.949719\n",
       "std        4592.381065\n",
       "min          50.000000\n",
       "25%        1300.000000\n",
       "50%        3100.000000\n",
       "75%        6950.000000\n",
       "max       20000.000000\n",
       "Name: price, dtype: float64"
      ]
     },
     "metadata": {},
     "output_type": "display_data"
    },
    {
     "data": {
      "image/png": "[encoded data removed]",
      "text/plain": [
       "<Figure size 864x288 with 2 Axes>"
      ]
     },
     "metadata": {
      "needs_background": "light"
     },
     "output_type": "display_data"
    },
    {
     "data": {
      "text/plain": [
       "count    272728.000000\n",
       "mean       2003.042489\n",
       "std           5.909968\n",
       "min        1980.000000\n",
       "25%        1999.000000\n",
       "50%        2003.000000\n",
       "75%        2007.000000\n",
       "max        2016.000000\n",
       "Name: registration_year, dtype: float64"
      ]
     },
     "metadata": {},
     "output_type": "display_data"
    },
    {
     "data": {
      "image/png": "[encoded data removed]",
      "text/plain": [
       "<Figure size 864x288 with 2 Axes>"
      ]
     },
     "metadata": {
      "needs_background": "light"
     },
     "output_type": "display_data"
    },
    {
     "data": {
      "text/plain": [
       "count    272728.000000\n",
       "mean        120.722753\n",
       "std          53.572457\n",
       "min          30.000000\n",
       "25%          77.000000\n",
       "50%         111.000000\n",
       "75%         150.000000\n",
       "max         620.000000\n",
       "Name: power, dtype: float64"
      ]
     },
     "metadata": {},
     "output_type": "display_data"
    },
    {
     "data": {
      "image/png": "[encoded data removed]",
      "text/plain": [
       "<Figure size 864x288 with 2 Axes>"
      ]
     },
     "metadata": {
      "needs_background": "light"
     },
     "output_type": "display_data"
    },
    {
     "data": {
      "text/plain": [
       "count    272728.000000\n",
       "mean     128807.163181\n",
       "std       36326.384665\n",
       "min        5000.000000\n",
       "25%      125000.000000\n",
       "50%      150000.000000\n",
       "75%      150000.000000\n",
       "max      150000.000000\n",
       "Name: kilometer, dtype: float64"
      ]
     },
     "metadata": {},
     "output_type": "display_data"
    },
    {
     "data": {
      "image/png": "[encoded data removed]",
      "text/plain": [
       "<Figure size 864x288 with 2 Axes>"
      ]
     },
     "metadata": {
      "needs_background": "light"
     },
     "output_type": "display_data"
    },
    {
     "data": {
      "text/plain": [
       "count    272728.000000\n",
       "mean      51475.105677\n",
       "std       25778.315286\n",
       "min        1067.000000\n",
       "25%       31134.000000\n",
       "50%       50667.000000\n",
       "75%       72336.000000\n",
       "max       99998.000000\n",
       "Name: postal_code, dtype: float64"
      ]
     },
     "metadata": {},
     "output_type": "display_data"
    }
   ],
   "source": [
    "histbox_plot(df, num_col_df)"
   ]
  },
  {
   "cell_type": "markdown",
   "metadata": {},
   "source": [
    "Из диаграмм и таблиц видно, что аномальные значения и выбросы в количественных признаках исключены. Признаки  имеют явно ненормальное распределение: смещение вершин к границам диапазона, несколько вершин, пропуски и т.д. Значения признака `kilometer` вызывают вопросы, как минимум 50% его значений приходится на его максимальное значение в 150_000 км. Возможно при формировании анкеты не было возможности установить большее значение, здесь требуется обращение к эксперту. Признак `PostalCode`, на первый  взгляд, может иметь опосредованное значение для прогноза цены, как признак, указывающий на географию нахождения автомобиля. Решение о его использовании примем на этапе корреляционного анализа данных."
   ]
  },
  {
   "cell_type": "markdown",
   "metadata": {},
   "source": [
    "#### Cтатистический анализ категориальных признаков"
   ]
  },
  {
   "cell_type": "code",
   "execution_count": 26,
   "metadata": {},
   "outputs": [
    {
     "data": {
      "image/png": "[encoded data removed]",
      "text/plain": [
       "<Figure size 864x864 with 3 Axes>"
      ]
     },
     "metadata": {},
     "output_type": "display_data"
    }
   ],
   "source": [
    "pie_plot(df, ['vehicle_type', 'gearbox', 'repaired'])"
   ]
  },
  {
   "cell_type": "code",
   "execution_count": 27,
   "metadata": {},
   "outputs": [
    {
     "data": {
      "image/png": "[encoded data removed]",
      "text/plain": [
       "<Figure size 1440x288 with 1 Axes>"
      ]
     },
     "metadata": {
      "needs_background": "light"
     },
     "output_type": "display_data"
    }
   ],
   "source": [
    "colum_plot(df, ['fuel_type'])"
   ]
  },
  {
   "cell_type": "code",
   "execution_count": 28,
   "metadata": {},
   "outputs": [
    {
     "data": {
      "image/png": "[encoded data removed]",
      "text/plain": [
       "<Figure size 1440x288 with 1 Axes>"
      ]
     },
     "metadata": {
      "needs_background": "light"
     },
     "output_type": "display_data"
    }
   ],
   "source": [
    "colum_plot(df, ['brand'])"
   ]
  },
  {
   "cell_type": "markdown",
   "metadata": {},
   "source": [
    "По причине большого количества моделей отобразим 30 наибольших по количеству "
   ]
  },
  {
   "cell_type": "code",
   "execution_count": 29,
   "metadata": {},
   "outputs": [
    {
     "data": {
      "image/png": "[encoded data removed]",
      "text/plain": [
       "<Figure size 1440x288 with 1 Axes>"
      ]
     },
     "metadata": {
      "needs_background": "light"
     },
     "output_type": "display_data"
    }
   ],
   "source": [
    "colum_n_plot(df, ['model'])"
   ]
  },
  {
   "cell_type": "markdown",
   "metadata": {},
   "source": [
    "Из диаграмм и графиков получаем следующую информацию об автомобилях:\n",
    "- тип кузова `small` и `sedan` занимают половину от общего объема\n",
    "- почти 80% авто представлены с ручной коробкой передач \n",
    "- 75% авто не находилось в ремонте, по 16% информация отсутствует\n",
    "- большинство авто используют вид топлива `petrol` и `gasoline`\n",
    "- самыми популярными являются европейские бренды, из которых лидрует `volkswagen` с большим отрывом. Их модель `golf` соответственно является наиболее популярной среди других моделей"
   ]
  },
  {
   "cell_type": "markdown",
   "metadata": {},
   "source": [
    "### Корреляционный анализ"
   ]
  },
  {
   "cell_type": "markdown",
   "metadata": {},
   "source": [
    "В связи с тем, что не все признаки распределены нормально, для корреляционного анализа используем $\\phi_k$ матрицу, которая устойчива к ненормальному распределению, позволяет учитывать нелинейные зависимости и работает с различными типами признаков"
   ]
  },
  {
   "cell_type": "code",
   "execution_count": 30,
   "metadata": {},
   "outputs": [
    {
     "data": {
      "image/png": "[encoded data removed]",
      "text/plain": [
       "<Figure size 864x432 with 2 Axes>"
      ]
     },
     "metadata": {
      "needs_background": "light"
     },
     "output_type": "display_data"
    }
   ],
   "source": [
    "phik_matrix_(df, num_col_df)"
   ]
  },
  {
   "cell_type": "markdown",
   "metadata": {},
   "source": [
    "**Вывод:** из анализа матрицы видно, что имеется мультиколлинеарность в данных между входными признаками `brand` и `model`, а также близкая к мультиколлинеарности ситуация между  `vehicle_type` и `model`.     \n",
    "У целевого признака `price` имеется:\n",
    "- высокая теснота связи с признаком `registration_year` и заметная теснота связи с признаком `model` и `power`, эти параметры действительно крайне важны выборе автомобиля\n",
    "\n",
    "По другим признакам наблюдается:\n",
    "- заметная теснота связи параметра `model` c параметрами `registration_year`, `gearbox`, `power` и `fuel_type`, между `brand` и `power`,  `gearbox`, а также между `registration_year` и `vehicle_type`. \n",
    "\n",
    "У параметра `model` наблюдается корреляция с большинством праметров, что логично, так как модель автомобиля является определяющей для них и по ней можно восстановить большинство из них, т.е этот параметр наиболее информативен. Принимая это внимание, а также, что модели авто прямо соответствует ее марка, из мультиколлерующей пары `brand` и `model` исключим для дальнейшего обучения моделей параметр `brand`.    \n",
    "У параметра `postal_code`, как и ожидалось, практически отсутствует корреляция со всеми признаками, также исключим для дальнейшего обучения моделей."
   ]
  },
  {
   "cell_type": "code",
   "execution_count": 31,
   "metadata": {},
   "outputs": [],
   "source": [
    "df = df.drop(['brand', 'postal_code'], axis=1)"
   ]
  },
  {
   "cell_type": "code",
   "execution_count": 32,
   "metadata": {},
   "outputs": [
    {
     "data": {
      "text/plain": [
       "18740"
      ]
     },
     "execution_count": 32,
     "metadata": {},
     "output_type": "execute_result"
    }
   ],
   "source": [
    "df.duplicated().sum()"
   ]
  },
  {
   "cell_type": "code",
   "execution_count": 33,
   "metadata": {},
   "outputs": [
    {
     "data": {
      "text/plain": [
       "(253988, 9)"
      ]
     },
     "execution_count": 33,
     "metadata": {},
     "output_type": "execute_result"
    }
   ],
   "source": [
    "df = df.drop_duplicates()\n",
    "df.shape"
   ]
  },
  {
   "cell_type": "markdown",
   "metadata": {},
   "source": [
    "## Обучение моделей"
   ]
  },
  {
   "cell_type": "markdown",
   "metadata": {},
   "source": [
    "Для подбора модели будем использовать один общий пайплайн для всех моделей и инструмент подбора гиперпараметров `RandomizedSearchCV`. Выбор лучшей модели будет осуществляться на основе метрики — `RMSE`\n",
    "\n",
    "В рамках пайплайна использовались следующие инструменты:    \n",
    "\n",
    "для кодирования категориальных признаков:\n",
    "- OneHotEncoder \n",
    "\n",
    "для масштабирования количественных признаков:\n",
    "- StandardScaler, MinMaxScaler, RobustScaler, без масштабирования\n",
    "\n",
    "типы методов:\n",
    "- LinearRegression, Ridge, Lasso, DecisionTreeRegressor, LGBMRegressor,  CatBoostRegressor со своими настройками гиперпараметров\n",
    "\n",
    "Путем проведения серии обучения моделей с подбором гиперпараметров, были определены их оптимальные значения, которые были зафиксированы в приведенном ниже пайплайне."
   ]
  },
  {
   "cell_type": "markdown",
   "metadata": {},
   "source": [
    "Выделим количественные и категориальные признаки"
   ]
  },
  {
   "cell_type": "code",
   "execution_count": 34,
   "metadata": {},
   "outputs": [
    {
     "name": "stdout",
     "output_type": "stream",
     "text": [
      "['price', 'registration_year', 'power', 'kilometer']\n",
      "['vehicle_type', 'gearbox', 'model', 'fuel_type', 'repaired']\n"
     ]
    }
   ],
   "source": [
    "num_col_df = df.select_dtypes(include='number').columns.tolist()\n",
    "cat_col_df = df.select_dtypes(exclude='number').columns.tolist()\n",
    "print(num_col_df)\n",
    "print(cat_col_df)"
   ]
  },
  {
   "cell_type": "code",
   "execution_count": 35,
   "metadata": {},
   "outputs": [
    {
     "name": "stdout",
     "output_type": "stream",
     "text": [
      "[LightGBM] [Warning] feature_fraction is set=0.8, colsample_bytree=1.0 will be ignored. Current value: feature_fraction=0.8\n",
      "[LightGBM] [Warning] feature_fraction is set=0.8, colsample_bytree=1.0 will be ignored. Current value: feature_fraction=0.8\n",
      "[LightGBM] [Warning] feature_fraction is set=0.8, colsample_bytree=1.0 will be ignored. Current value: feature_fraction=0.8\n",
      "[LightGBM] [Warning] feature_fraction is set=0.8, colsample_bytree=1.0 will be ignored. Current value: feature_fraction=0.8\n",
      "[LightGBM] [Warning] feature_fraction is set=0.8, colsample_bytree=1.0 will be ignored. Current value: feature_fraction=0.8\n",
      "[LightGBM] [Warning] feature_fraction is set=0.8, colsample_bytree=1.0 will be ignored. Current value: feature_fraction=0.8\n"
     ]
    },
    {
     "data": {
      "text/plain": [
       "'Лучшая модель и её параметры:'"
      ]
     },
     "metadata": {},
     "output_type": "display_data"
    },
    {
     "data": {
      "text/plain": [
       "{'models__num_leaves': 50,\n",
       " 'models__n_estimators': 200,\n",
       " 'models__max_depth': -1,\n",
       " 'models__learning_rate': 0.1,\n",
       " 'models__feature_fraction': 0.8,\n",
       " 'models': LGBMRegressor()}"
      ]
     },
     "metadata": {},
     "output_type": "display_data"
    },
    {
     "name": "stdout",
     "output_type": "stream",
     "text": [
      "Метрика RMSE, полученная с помощью кросс-валидации: 1607.4\n",
      "CPU times: user 5min 21s, sys: 41.6 s, total: 6min 2s\n",
      "Wall time: 6min 6s\n"
     ]
    }
   ],
   "source": [
    "%%time\n",
    "# разобъем данные на тренировочную и тестовую выборки\n",
    "X_train, X_test, y_train, y_test = train_test_split(\n",
    "    df.drop(['price'], axis=1),\n",
    "    df['price'],\n",
    "    test_size = TEST_SIZE, \n",
    "    random_state = RANDOM_STATE)\n",
    "\n",
    "# создаём списки с названиями признаков\n",
    "ohe_columns = cat_col_df\n",
    "num_columns = num_col_df[1:]\n",
    "\n",
    "# создаём пайплайн для подготовки признаков из списка ohe_columns\n",
    "ohe_pipe = Pipeline(\n",
    "    [('simpleImputer_ohe', SimpleImputer(missing_values=np.nan, strategy='most_frequent')),\n",
    "     ('ohe', OneHotEncoder(drop='first', handle_unknown='ignore', sparse_output=False))\n",
    "    ]\n",
    "    )\n",
    "\n",
    "# создаём общий пайплайн для подготовки данных\n",
    "data_preprocessor = ColumnTransformer(\n",
    "    [('ohe', ohe_pipe, ohe_columns),\n",
    "     ('num', StandardScaler(), num_columns)\n",
    "    ], \n",
    "    remainder='passthrough'\n",
    ")\n",
    "\n",
    "# создаём итоговый пайплайн: подготовка данных и модель\n",
    "pipe_final = Pipeline([\n",
    "    ('preprocessor', data_preprocessor),\n",
    "    ('models', None)\n",
    "])\n",
    "\n",
    "param_grid = [\n",
    "\n",
    "    # словарь для модели LinearRegression()\n",
    "    {\n",
    "        'models': [LinearRegression()],\n",
    "        'models__fit_intercept': [True],\n",
    "        'preprocessor__num': [StandardScaler()]  \n",
    "    },\n",
    "    \n",
    "    # словарь для модели Lasso()\n",
    "    {\n",
    "        'models': [Lasso(random_state=RANDOM_STATE)],\n",
    "        'models__alpha': [2.9],\n",
    "        'models__tol': [0.0001],\n",
    "        'preprocessor__num': [StandardScaler()]  \n",
    "    },\n",
    "    \n",
    "    # словарь для модели Ridge()\n",
    "    {\n",
    "        'models': [Ridge(random_state=RANDOM_STATE)],\n",
    "        'models__alpha': [1.8],\n",
    "        'models__tol': [0.01],\n",
    "        'preprocessor__num': [MinMaxScaler()]  \n",
    "    },\n",
    "    \n",
    "    # словарь для модели DecisionTreeRegressor()\n",
    "    {\n",
    "        'models': [DecisionTreeRegressor(random_state=RANDOM_STATE)],\n",
    "        'models__max_depth': [19],\n",
    "        'models__min_samples_leaf': [8],\n",
    "        'models__min_samples_split': [7]\n",
    "    },\n",
    "    \n",
    "    # словарь для модели LGBMRegressor()\n",
    "    {\n",
    "        'models': [LGBMRegressor()],\n",
    "        'models__num_leaves': [50],\n",
    "        'models__learning_rate': [0.1],\n",
    "        'models__n_estimators': [200],\n",
    "        'models__max_depth': [-1],\n",
    "        'models__feature_fraction': [0.8]\n",
    "    },\n",
    "    \n",
    "    # Параметры для CatBoostRegressor()\n",
    "    {\n",
    "        'models': [CatBoostRegressor(verbose=0)],\n",
    "        'models__depth': [10],\n",
    "        'models__learning_rate': [0.1],\n",
    "        'models__iterations': [200]\n",
    "    }\n",
    "    \n",
    "]\n",
    "randomized_search = RandomizedSearchCV(\n",
    "    pipe_final, \n",
    "    param_grid, \n",
    "    cv=5,\n",
    "    scoring='neg_root_mean_squared_error',\n",
    "    random_state=RANDOM_STATE,\n",
    "    n_jobs=-1,\n",
    "    n_iter=6\n",
    ")\n",
    "randomized_search.fit(X_train, y_train)\n",
    "\n",
    "display('Лучшая модель и её параметры:', randomized_search.best_params_)\n",
    "print (f'Метрика RMSE, полученная с помощью кросс-валидации: {randomized_search.best_score_ * -1:.1f}')"
   ]
  },
  {
   "cell_type": "markdown",
   "metadata": {},
   "source": [
    "**Вывод:** моделью, показавшей наилучшие результаты метрики `RMSE` на кроссвалидационной выборке, стала `LGBMRegressor` с параметрами: максимальное количество листьев в одном дереве - 50, скорость обучения - 0.1, количество деревьев в ансамбле - 200, максимальная глубина деревьев не ограничена, доля признаков, используемых для обучения каждого дерева - 0.8\n",
    "\n",
    "Дополнительно были подобраны гиперпараметры и обучена модель `SGDRegressor`, но по причине невысокой метрики ~  2450, модель была исключена из пайплайна для экономии времени."
   ]
  },
  {
   "cell_type": "markdown",
   "metadata": {},
   "source": [
    "## Анализ моделей"
   ]
  },
  {
   "cell_type": "markdown",
   "metadata": {},
   "source": [
    "Сохраним результаты работы со всеми моделями в result"
   ]
  },
  {
   "cell_type": "code",
   "execution_count": 36,
   "metadata": {
    "scrolled": false
   },
   "outputs": [
    {
     "data": {
      "text/html": [
       "<div>\n",
       "<style scoped>\n",
       "    .dataframe tbody tr th:only-of-type {\n",
       "        vertical-align: middle;\n",
       "    }\n",
       "\n",
       "    .dataframe tbody tr th {\n",
       "        vertical-align: top;\n",
       "    }\n",
       "\n",
       "    .dataframe thead th {\n",
       "        text-align: right;\n",
       "    }\n",
       "</style>\n",
       "<table border=\"1\" class=\"dataframe\">\n",
       "  <thead>\n",
       "    <tr style=\"text-align: right;\">\n",
       "      <th></th>\n",
       "      <th>rank_test_score</th>\n",
       "      <th>param_models</th>\n",
       "      <th>mean_test_score</th>\n",
       "      <th>params</th>\n",
       "      <th>mean_fit_time</th>\n",
       "    </tr>\n",
       "  </thead>\n",
       "  <tbody>\n",
       "    <tr>\n",
       "      <th>4</th>\n",
       "      <td>1</td>\n",
       "      <td>LGBMRegressor()</td>\n",
       "      <td>-1607.355702</td>\n",
       "      <td>{'models__num_leaves': 50, 'models__n_estimators': 200, 'models__max_depth': -1, 'models__learning_rate': 0.1, 'models__feature_fraction': 0.8, 'models': LGBMRegressor()}</td>\n",
       "      <td>17.598766</td>\n",
       "    </tr>\n",
       "    <tr>\n",
       "      <th>5</th>\n",
       "      <td>2</td>\n",
       "      <td>&lt;catboost.core.CatBoostRegressor object at 0x7fc1138e1070&gt;</td>\n",
       "      <td>-1668.033350</td>\n",
       "      <td>{'models__learning_rate': 0.1, 'models__iterations': 200, 'models__depth': 10, 'models': &lt;catboost.core.CatBoostRegressor object at 0x7fc1138e1070&gt;}</td>\n",
       "      <td>22.177560</td>\n",
       "    </tr>\n",
       "    <tr>\n",
       "      <th>3</th>\n",
       "      <td>3</td>\n",
       "      <td>DecisionTreeRegressor(random_state=42)</td>\n",
       "      <td>-1825.425815</td>\n",
       "      <td>{'models__min_samples_split': 7, 'models__min_samples_leaf': 8, 'models__max_depth': 19, 'models': DecisionTreeRegressor(random_state=42)}</td>\n",
       "      <td>4.161663</td>\n",
       "    </tr>\n",
       "    <tr>\n",
       "      <th>0</th>\n",
       "      <td>4</td>\n",
       "      <td>LinearRegression()</td>\n",
       "      <td>-2481.197011</td>\n",
       "      <td>{'preprocessor__num': StandardScaler(), 'models__fit_intercept': True, 'models': LinearRegression()}</td>\n",
       "      <td>12.301988</td>\n",
       "    </tr>\n",
       "    <tr>\n",
       "      <th>2</th>\n",
       "      <td>5</td>\n",
       "      <td>Ridge(random_state=42)</td>\n",
       "      <td>-2481.285791</td>\n",
       "      <td>{'preprocessor__num': MinMaxScaler(), 'models__tol': 0.01, 'models__alpha': 1.8, 'models': Ridge(random_state=42)}</td>\n",
       "      <td>2.387171</td>\n",
       "    </tr>\n",
       "    <tr>\n",
       "      <th>1</th>\n",
       "      <td>6</td>\n",
       "      <td>Lasso(random_state=42)</td>\n",
       "      <td>-2575.187494</td>\n",
       "      <td>{'preprocessor__num': StandardScaler(), 'models__tol': 0.0001, 'models__alpha': 2.9, 'models': Lasso(random_state=42)}</td>\n",
       "      <td>4.986738</td>\n",
       "    </tr>\n",
       "  </tbody>\n",
       "</table>\n",
       "</div>"
      ],
      "text/plain": [
       "   rank_test_score  \\\n",
       "4                1   \n",
       "5                2   \n",
       "3                3   \n",
       "0                4   \n",
       "2                5   \n",
       "1                6   \n",
       "\n",
       "                                                 param_models  \\\n",
       "4                                             LGBMRegressor()   \n",
       "5  <catboost.core.CatBoostRegressor object at 0x7fc1138e1070>   \n",
       "3                      DecisionTreeRegressor(random_state=42)   \n",
       "0                                          LinearRegression()   \n",
       "2                                      Ridge(random_state=42)   \n",
       "1                                      Lasso(random_state=42)   \n",
       "\n",
       "   mean_test_score  \\\n",
       "4     -1607.355702   \n",
       "5     -1668.033350   \n",
       "3     -1825.425815   \n",
       "0     -2481.197011   \n",
       "2     -2481.285791   \n",
       "1     -2575.187494   \n",
       "\n",
       "                                                                                                                                                                       params  \\\n",
       "4  {'models__num_leaves': 50, 'models__n_estimators': 200, 'models__max_depth': -1, 'models__learning_rate': 0.1, 'models__feature_fraction': 0.8, 'models': LGBMRegressor()}   \n",
       "5                        {'models__learning_rate': 0.1, 'models__iterations': 200, 'models__depth': 10, 'models': <catboost.core.CatBoostRegressor object at 0x7fc1138e1070>}   \n",
       "3                                  {'models__min_samples_split': 7, 'models__min_samples_leaf': 8, 'models__max_depth': 19, 'models': DecisionTreeRegressor(random_state=42)}   \n",
       "0                                                                        {'preprocessor__num': StandardScaler(), 'models__fit_intercept': True, 'models': LinearRegression()}   \n",
       "2                                                          {'preprocessor__num': MinMaxScaler(), 'models__tol': 0.01, 'models__alpha': 1.8, 'models': Ridge(random_state=42)}   \n",
       "1                                                      {'preprocessor__num': StandardScaler(), 'models__tol': 0.0001, 'models__alpha': 2.9, 'models': Lasso(random_state=42)}   \n",
       "\n",
       "   mean_fit_time  \n",
       "4      17.598766  \n",
       "5      22.177560  \n",
       "3       4.161663  \n",
       "0      12.301988  \n",
       "2       2.387171  \n",
       "1       4.986738  "
      ]
     },
     "execution_count": 36,
     "metadata": {},
     "output_type": "execute_result"
    }
   ],
   "source": [
    "result = pd.DataFrame(randomized_search.cv_results_)\n",
    "result = result[\n",
    "    ['rank_test_score', 'param_models', 'mean_test_score','params', 'mean_fit_time']\n",
    "    ].sort_values('rank_test_score')\n",
    "result"
   ]
  },
  {
   "cell_type": "code",
   "execution_count": 37,
   "metadata": {},
   "outputs": [
    {
     "name": "stdout",
     "output_type": "stream",
     "text": [
      "\n",
      "                            Таблица анализа моделей по возрастанию метрики\n"
     ]
    },
    {
     "data": {
      "text/html": [
       "<div>\n",
       "<style scoped>\n",
       "    .dataframe tbody tr th:only-of-type {\n",
       "        vertical-align: middle;\n",
       "    }\n",
       "\n",
       "    .dataframe tbody tr th {\n",
       "        vertical-align: top;\n",
       "    }\n",
       "\n",
       "    .dataframe thead th {\n",
       "        text-align: right;\n",
       "    }\n",
       "</style>\n",
       "<table border=\"1\" class=\"dataframe\">\n",
       "  <thead>\n",
       "    <tr style=\"text-align: right;\">\n",
       "      <th></th>\n",
       "      <th>Место</th>\n",
       "      <th>Модель</th>\n",
       "      <th>Метрика RMSE</th>\n",
       "      <th>Время обучения с учетом кросс-вал, сек</th>\n",
       "    </tr>\n",
       "  </thead>\n",
       "  <tbody>\n",
       "    <tr>\n",
       "      <th>4</th>\n",
       "      <td>1</td>\n",
       "      <td>LGBMRegressor()</td>\n",
       "      <td>-1607.355702</td>\n",
       "      <td>87.993829</td>\n",
       "    </tr>\n",
       "    <tr>\n",
       "      <th>5</th>\n",
       "      <td>2</td>\n",
       "      <td>&lt;catboost.core.CatBoostRegressor object at 0x7fc1138e1070&gt;</td>\n",
       "      <td>-1668.033350</td>\n",
       "      <td>110.887798</td>\n",
       "    </tr>\n",
       "    <tr>\n",
       "      <th>3</th>\n",
       "      <td>3</td>\n",
       "      <td>DecisionTreeRegressor(random_state=42)</td>\n",
       "      <td>-1825.425815</td>\n",
       "      <td>20.808316</td>\n",
       "    </tr>\n",
       "    <tr>\n",
       "      <th>0</th>\n",
       "      <td>4</td>\n",
       "      <td>LinearRegression()</td>\n",
       "      <td>-2481.197011</td>\n",
       "      <td>61.509940</td>\n",
       "    </tr>\n",
       "    <tr>\n",
       "      <th>2</th>\n",
       "      <td>5</td>\n",
       "      <td>Ridge(random_state=42)</td>\n",
       "      <td>-2481.285791</td>\n",
       "      <td>11.935855</td>\n",
       "    </tr>\n",
       "    <tr>\n",
       "      <th>1</th>\n",
       "      <td>6</td>\n",
       "      <td>Lasso(random_state=42)</td>\n",
       "      <td>-2575.187494</td>\n",
       "      <td>24.933690</td>\n",
       "    </tr>\n",
       "  </tbody>\n",
       "</table>\n",
       "</div>"
      ],
      "text/plain": [
       "   Место                                                      Модель  \\\n",
       "4      1                                             LGBMRegressor()   \n",
       "5      2  <catboost.core.CatBoostRegressor object at 0x7fc1138e1070>   \n",
       "3      3                      DecisionTreeRegressor(random_state=42)   \n",
       "0      4                                          LinearRegression()   \n",
       "2      5                                      Ridge(random_state=42)   \n",
       "1      6                                      Lasso(random_state=42)   \n",
       "\n",
       "   Метрика RMSE  Время обучения с учетом кросс-вал, сек  \n",
       "4  -1607.355702                               87.993829  \n",
       "5  -1668.033350                              110.887798  \n",
       "3  -1825.425815                               20.808316  \n",
       "0  -2481.197011                               61.509940  \n",
       "2  -2481.285791                               11.935855  \n",
       "1  -2575.187494                               24.933690  "
      ]
     },
     "metadata": {},
     "output_type": "display_data"
    },
    {
     "name": "stdout",
     "output_type": "stream",
     "text": [
      "\n",
      "                       Таблица анализа моделей по возрастанию времени обучения\n"
     ]
    },
    {
     "data": {
      "text/html": [
       "<div>\n",
       "<style scoped>\n",
       "    .dataframe tbody tr th:only-of-type {\n",
       "        vertical-align: middle;\n",
       "    }\n",
       "\n",
       "    .dataframe tbody tr th {\n",
       "        vertical-align: top;\n",
       "    }\n",
       "\n",
       "    .dataframe thead th {\n",
       "        text-align: right;\n",
       "    }\n",
       "</style>\n",
       "<table border=\"1\" class=\"dataframe\">\n",
       "  <thead>\n",
       "    <tr style=\"text-align: right;\">\n",
       "      <th></th>\n",
       "      <th>Место</th>\n",
       "      <th>Модель</th>\n",
       "      <th>Метрика RMSE</th>\n",
       "      <th>Время обучения с учетом кросс-вал, сек</th>\n",
       "    </tr>\n",
       "  </thead>\n",
       "  <tbody>\n",
       "    <tr>\n",
       "      <th>2</th>\n",
       "      <td>5</td>\n",
       "      <td>Ridge(random_state=42)</td>\n",
       "      <td>-2481.285791</td>\n",
       "      <td>11.935855</td>\n",
       "    </tr>\n",
       "    <tr>\n",
       "      <th>3</th>\n",
       "      <td>3</td>\n",
       "      <td>DecisionTreeRegressor(random_state=42)</td>\n",
       "      <td>-1825.425815</td>\n",
       "      <td>20.808316</td>\n",
       "    </tr>\n",
       "    <tr>\n",
       "      <th>1</th>\n",
       "      <td>6</td>\n",
       "      <td>Lasso(random_state=42)</td>\n",
       "      <td>-2575.187494</td>\n",
       "      <td>24.933690</td>\n",
       "    </tr>\n",
       "    <tr>\n",
       "      <th>0</th>\n",
       "      <td>4</td>\n",
       "      <td>LinearRegression()</td>\n",
       "      <td>-2481.197011</td>\n",
       "      <td>61.509940</td>\n",
       "    </tr>\n",
       "    <tr>\n",
       "      <th>4</th>\n",
       "      <td>1</td>\n",
       "      <td>LGBMRegressor()</td>\n",
       "      <td>-1607.355702</td>\n",
       "      <td>87.993829</td>\n",
       "    </tr>\n",
       "    <tr>\n",
       "      <th>5</th>\n",
       "      <td>2</td>\n",
       "      <td>&lt;catboost.core.CatBoostRegressor object at 0x7fc1138e1070&gt;</td>\n",
       "      <td>-1668.033350</td>\n",
       "      <td>110.887798</td>\n",
       "    </tr>\n",
       "  </tbody>\n",
       "</table>\n",
       "</div>"
      ],
      "text/plain": [
       "   Место                                                      Модель  \\\n",
       "2      5                                      Ridge(random_state=42)   \n",
       "3      3                      DecisionTreeRegressor(random_state=42)   \n",
       "1      6                                      Lasso(random_state=42)   \n",
       "0      4                                          LinearRegression()   \n",
       "4      1                                             LGBMRegressor()   \n",
       "5      2  <catboost.core.CatBoostRegressor object at 0x7fc1138e1070>   \n",
       "\n",
       "   Метрика RMSE  Время обучения с учетом кросс-вал, сек  \n",
       "2  -2481.285791                               11.935855  \n",
       "3  -1825.425815                               20.808316  \n",
       "1  -2575.187494                               24.933690  \n",
       "0  -2481.197011                               61.509940  \n",
       "4  -1607.355702                               87.993829  \n",
       "5  -1668.033350                              110.887798  "
      ]
     },
     "metadata": {},
     "output_type": "display_data"
    }
   ],
   "source": [
    "result_fin = result.drop(['params'], axis=1)\n",
    "\n",
    "# Рассчитаем время обучения с учетом кросс-валидации\n",
    "result_fin['mean_fit_time'] *= 5\n",
    "\n",
    "result_fin.columns = ['Место', 'Модель', 'Метрика RMSE',  'Время обучения с учетом кросс-вал, сек']\n",
    "\n",
    "print('\\n                            Таблица анализа моделей по возрастанию метрики')\n",
    "display(result_fin)\n",
    "print('\\n                       Таблица анализа моделей по возрастанию времени обучения')\n",
    "display(result_fin.sort_values('Время обучения с учетом кросс-вал, сек'))"
   ]
  },
  {
   "cell_type": "markdown",
   "metadata": {},
   "source": [
    "**Вывод:** моделью, показавшей наилучшие результаты на кроссвалидационной выборке, стала `LGBMRegressor` со значением метрики RMSE `1607,4`(при этом при увеличении количество деревьев в ансамбле модель `CatBoostRegressor` начинает показывать даже лучшие результаты, но резко увеличивается время обучения). Моделью с минимальным временем обучения и приемлимой метрикой по условию задания 2481,3 стала `Ridge`.      \n",
    "\n",
    "С учетом значительного лучшего результата метрики выберем в качестве оптимальной модель `LGBMRegressor`. Рассчитаем на ее основе прогноз и метрику RMSE на тестовых данных."
   ]
  },
  {
   "cell_type": "code",
   "execution_count": 38,
   "metadata": {},
   "outputs": [
    {
     "name": "stdout",
     "output_type": "stream",
     "text": [
      "Метрика RMSE на тестовых данных: 1595.4\n",
      "\n"
     ]
    }
   ],
   "source": [
    "y_pred = randomized_search.predict(X_test)\n",
    "rmse = mean_squared_error(y_test, y_pred, squared=False)\n",
    "print(f'Метрика RMSE на тестовых данных: {rmse:.1f}\\n')"
   ]
  },
  {
   "cell_type": "markdown",
   "metadata": {},
   "source": [
    "С учетом вышеизложенного модель `LGBMRegressor` будет рекомендована Заказчику для использования в приложении по определению рыночной стоимости автомобиля. "
   ]
  },
  {
   "cell_type": "markdown",
   "metadata": {},
   "source": [
    "## Общий вывод"
   ]
  },
  {
   "cell_type": "markdown",
   "metadata": {},
   "source": [
    "**В рамках проекта была проведена:** предобработка данных, исследовательский анализ данных с необходимой визуализацией, статистический анализ признаков по типам, изучена взаимосвязь между признаками на основе корреляционного анализа.    \n",
    "С целью прогноза рыночной стоимости автомобиля обучены шесть моделей, расчитана метрика `RMSE` и отобрана лучшая модель на основе данной метрики. Проведен сравнительный анализ времени обучения и качества моделей.\n",
    "_____________\n",
    "\n",
    "**На этапе предобработки данных:** по результатам предобработки данных названия столбцов были приведены к \"змеиному типу\", заменили некорректное наименование марки автомобиля, выявленные в данных пропуски заполнены значением `unk` (неизвестно), таким образом, получена отдельная категория данных.    \n",
    "\n",
    "**На этапе исследовательского анализа данных:** проведен предварительный отбор признаков, которые явно не могли иметь отношения к прогнозу целевого признака или являлись неинформативными: `date_crawled`, `date_created`, `last_seen`, `registration_month`, `number_of_pictures` и исключили их. Более глубоко исследованы количественные и категориальные данные с использованием графических инструментов, описаны характеристики данных. Были обработаны аномальные значения в признаках `price`, `registration_year`, `power`.\n",
    "\n",
    "**На этапе корреляционного анализа признаков:** изучена взаимосвязь между всеми признаками на основе матрицы Phik. Из анализа матрицы видно, что имеется мультиколлинеарность в данных между входными признаками `brand` и `model`, а также близкая к мультиколлинеарности ситуация между `vehicle_type` и `model`.     \n",
    "У целевого признака `price` имеется:\n",
    "- высокая теснота связи с признаком `registration_year` и заметная теснота связи с признаком `model` и `power`, эти параметры действительно крайне важны выборе автомобиля\n",
    "\n",
    "По другим признакам наблюдается:\n",
    "- заметная теснота связи параметра `model` c параметрами `registration_year`, `gearbox`, `power` и `fuel_type`, между `brand` и `power`,  `gearbox`, а также между `registration_year` и `vehicle_type`. \n",
    "\n",
    "Принимая во внимание, что параметр `model` наиболее информативен, а также, что модели авто прямо соответствует ее марка, из мультиколлерующей пары `brand` и `model` исключили для дальнейшего обучения моделей параметр `brand`. У параметра `postal_code`, практически отсутствует корреляция со всеми признаками, также исключили для дальнейшего обучения моделей.\n",
    "\n",
    "**На этапе обучения и выбора лучшей модели:** с использованием пайплайнов обработаны количественные и категориальные признаки, обучены 6 моделей: `LinearRegression`, `Ridge`, `Lasso`, `DecisionTreeRegressor`, `LGBMRegressor`,  `CatBoostRegressor`. Для каждой из моделей подобраны гиперпараметры. Для выбора лучшей модели использовалась заданная метрика `RMSE`.       \n",
    "\n",
    "Моделью, показавшей наилучшие результаты метрики `RMSE` на кроссвалидационной выборке, стала `LGBMRegressor` с параметрами: максимальное количество листьев в одном дереве - 50, скорость обучения - 0.1, количество деревьев в ансамбле - 200, максимальная глубина деревьев не ограничена, доля признаков, используемых для обучения каждого дерева - 0.8.    \n",
    "С использованием данной модели `RMSE`, полученная с помощью кросс-валидации, составила `1607,4`\n",
    "\n",
    "**На этапе анализа моделей:** проведен сравнительный анализ времени обучения и качества моделей. Моделью, показавшей наилучшие результаты на кроссвалидационной выборке, стала `LGBMRegressor` со значением метрики RMSE `1607,4`, следующей по качеству метрики идет модель `CatBoostRegressor `. Моделью с минимальным временем обучения и приемлимой метрикой по условию задания 2416,9 стала `Ridge`.\n",
    "\n",
    "С учетом значительного лучшего результата метрики выберем в качестве оптимальной модель `LGBMRegressor`.    \n",
    "С использованием данной модели `RMSE`, полученная на тестовых данных, составила `1595,4`\n",
    "\n",
    "С учетом вышеизложенного модель `LGBMRegressor` будет рекомендована Заказчику для использования в приложении по определению рыночной стоимости автомобиля. "
   ]
  }
 ],
 "metadata": {
  "ExecuteTimeLog": [
   {
    "duration": 10,
    "start_time": "2024-07-17T08:58:46.348Z"
   },
   {
    "duration": 9988,
    "start_time": "2024-07-17T09:25:16.091Z"
   },
   {
    "duration": 1626,
    "start_time": "2024-07-17T10:01:15.497Z"
   },
   {
    "duration": 3,
    "start_time": "2024-07-17T10:01:21.589Z"
   },
   {
    "duration": 3,
    "start_time": "2024-07-17T10:01:22.056Z"
   },
   {
    "duration": 4,
    "start_time": "2024-07-17T10:01:23.550Z"
   },
   {
    "duration": 7,
    "start_time": "2024-07-17T10:01:23.911Z"
   },
   {
    "duration": 5,
    "start_time": "2024-07-17T10:01:24.983Z"
   },
   {
    "duration": 9,
    "start_time": "2024-07-17T10:01:25.644Z"
   },
   {
    "duration": 1258,
    "start_time": "2024-07-17T10:01:27.755Z"
   },
   {
    "duration": 120,
    "start_time": "2024-07-17T10:02:09.229Z"
   },
   {
    "duration": 239,
    "start_time": "2024-07-17T10:02:22.807Z"
   },
   {
    "duration": 5,
    "start_time": "2024-07-17T10:20:56.945Z"
   },
   {
    "duration": 10,
    "start_time": "2024-07-17T10:23:53.545Z"
   },
   {
    "duration": 3,
    "start_time": "2024-07-17T10:24:00.435Z"
   },
   {
    "duration": 5,
    "start_time": "2024-07-17T10:24:22.777Z"
   },
   {
    "duration": 965,
    "start_time": "2024-07-17T10:47:53.316Z"
   },
   {
    "duration": 200,
    "start_time": "2024-07-17T10:47:56.221Z"
   },
   {
    "duration": 951,
    "start_time": "2024-07-17T10:48:24.490Z"
   },
   {
    "duration": 178,
    "start_time": "2024-07-17T10:48:26.435Z"
   },
   {
    "duration": 1030,
    "start_time": "2024-07-17T10:53:19.190Z"
   },
   {
    "duration": 167,
    "start_time": "2024-07-17T10:53:21.071Z"
   },
   {
    "duration": 902,
    "start_time": "2024-07-17T10:54:04.556Z"
   },
   {
    "duration": 173,
    "start_time": "2024-07-17T10:54:06.107Z"
   },
   {
    "duration": 1048,
    "start_time": "2024-07-17T10:54:52.952Z"
   },
   {
    "duration": 131,
    "start_time": "2024-07-17T10:54:54.045Z"
   },
   {
    "duration": 5,
    "start_time": "2024-07-17T11:25:32.957Z"
   },
   {
    "duration": 166,
    "start_time": "2024-07-17T11:34:49.693Z"
   },
   {
    "duration": 131,
    "start_time": "2024-07-17T11:39:07.847Z"
   },
   {
    "duration": 138,
    "start_time": "2024-07-17T11:39:50.575Z"
   },
   {
    "duration": 43,
    "start_time": "2024-07-17T11:40:55.671Z"
   },
   {
    "duration": 131,
    "start_time": "2024-07-17T11:41:15.841Z"
   },
   {
    "duration": 41,
    "start_time": "2024-07-17T11:43:06.414Z"
   },
   {
    "duration": 129,
    "start_time": "2024-07-17T11:43:40.894Z"
   },
   {
    "duration": 6722,
    "start_time": "2024-07-17T11:46:08.922Z"
   },
   {
    "duration": 44,
    "start_time": "2024-07-17T11:46:59.117Z"
   },
   {
    "duration": 3,
    "start_time": "2024-07-17T11:49:41.412Z"
   },
   {
    "duration": 43,
    "start_time": "2024-07-17T11:50:03.544Z"
   },
   {
    "duration": 10,
    "start_time": "2024-07-17T11:59:43.561Z"
   },
   {
    "duration": 32,
    "start_time": "2024-07-17T11:59:57.758Z"
   },
   {
    "duration": 41,
    "start_time": "2024-07-17T12:00:10.574Z"
   },
   {
    "duration": 144,
    "start_time": "2024-07-17T12:02:30.122Z"
   },
   {
    "duration": 143,
    "start_time": "2024-07-17T12:02:48.953Z"
   },
   {
    "duration": 148,
    "start_time": "2024-07-17T12:03:12.908Z"
   },
   {
    "duration": 24,
    "start_time": "2024-07-17T12:54:44.751Z"
   },
   {
    "duration": 30,
    "start_time": "2024-07-17T12:55:32.371Z"
   },
   {
    "duration": 24,
    "start_time": "2024-07-17T13:02:56.963Z"
   },
   {
    "duration": 24,
    "start_time": "2024-07-17T13:11:23.089Z"
   },
   {
    "duration": 27,
    "start_time": "2024-07-17T13:27:05.364Z"
   },
   {
    "duration": 135,
    "start_time": "2024-07-17T13:27:41.441Z"
   },
   {
    "duration": 5,
    "start_time": "2024-07-17T13:37:51.803Z"
   },
   {
    "duration": 9,
    "start_time": "2024-07-17T13:37:51.810Z"
   },
   {
    "duration": 15,
    "start_time": "2024-07-17T13:37:51.821Z"
   },
   {
    "duration": 4,
    "start_time": "2024-07-17T13:37:51.838Z"
   },
   {
    "duration": 21,
    "start_time": "2024-07-17T13:37:51.844Z"
   },
   {
    "duration": 6,
    "start_time": "2024-07-17T13:37:51.867Z"
   },
   {
    "duration": 10,
    "start_time": "2024-07-17T13:37:51.874Z"
   },
   {
    "duration": 9,
    "start_time": "2024-07-17T13:37:51.886Z"
   },
   {
    "duration": 1005,
    "start_time": "2024-07-17T13:37:51.896Z"
   },
   {
    "duration": 148,
    "start_time": "2024-07-17T13:37:52.906Z"
   },
   {
    "duration": 5,
    "start_time": "2024-07-17T13:37:53.056Z"
   },
   {
    "duration": 152,
    "start_time": "2024-07-17T13:37:53.062Z"
   },
   {
    "duration": 25,
    "start_time": "2024-07-17T13:37:53.216Z"
   },
   {
    "duration": 18,
    "start_time": "2024-07-17T13:37:53.242Z"
   },
   {
    "duration": 24,
    "start_time": "2024-07-17T13:38:24.137Z"
   },
   {
    "duration": 35,
    "start_time": "2024-07-17T13:51:43.646Z"
   },
   {
    "duration": 28,
    "start_time": "2024-07-17T13:52:19.051Z"
   },
   {
    "duration": 8,
    "start_time": "2024-07-17T13:54:28.872Z"
   },
   {
    "duration": 923,
    "start_time": "2024-07-17T13:54:43.523Z"
   },
   {
    "duration": 43,
    "start_time": "2024-07-17T13:55:13.517Z"
   },
   {
    "duration": 35,
    "start_time": "2024-07-17T13:59:17.362Z"
   },
   {
    "duration": 35,
    "start_time": "2024-07-17T14:00:03.148Z"
   },
   {
    "duration": 17,
    "start_time": "2024-07-17T14:00:26.010Z"
   },
   {
    "duration": 18,
    "start_time": "2024-07-17T14:00:39.378Z"
   },
   {
    "duration": 40,
    "start_time": "2024-07-17T14:00:44.541Z"
   },
   {
    "duration": 46,
    "start_time": "2024-07-17T14:01:22.607Z"
   },
   {
    "duration": 279,
    "start_time": "2024-07-17T14:12:19.067Z"
   },
   {
    "duration": 42,
    "start_time": "2024-07-17T14:15:33.946Z"
   },
   {
    "duration": 33,
    "start_time": "2024-07-17T14:22:41.371Z"
   },
   {
    "duration": 4,
    "start_time": "2024-07-17T14:29:58.748Z"
   },
   {
    "duration": 20,
    "start_time": "2024-07-17T14:29:58.754Z"
   },
   {
    "duration": 13,
    "start_time": "2024-07-17T14:29:58.776Z"
   },
   {
    "duration": 5,
    "start_time": "2024-07-17T14:29:58.790Z"
   },
   {
    "duration": 4,
    "start_time": "2024-07-17T14:29:58.797Z"
   },
   {
    "duration": 7,
    "start_time": "2024-07-17T14:29:58.803Z"
   },
   {
    "duration": 5,
    "start_time": "2024-07-17T14:29:58.812Z"
   },
   {
    "duration": 9,
    "start_time": "2024-07-17T14:29:58.819Z"
   },
   {
    "duration": 1012,
    "start_time": "2024-07-17T14:29:58.830Z"
   },
   {
    "duration": 135,
    "start_time": "2024-07-17T14:29:59.843Z"
   },
   {
    "duration": 5,
    "start_time": "2024-07-17T14:29:59.980Z"
   },
   {
    "duration": 156,
    "start_time": "2024-07-17T14:29:59.987Z"
   },
   {
    "duration": 25,
    "start_time": "2024-07-17T14:30:00.145Z"
   },
   {
    "duration": 51,
    "start_time": "2024-07-17T14:30:00.173Z"
   },
   {
    "duration": 58,
    "start_time": "2024-07-17T14:30:00.226Z"
   },
   {
    "duration": 0,
    "start_time": "2024-07-17T14:30:00.286Z"
   },
   {
    "duration": 0,
    "start_time": "2024-07-17T14:30:00.287Z"
   },
   {
    "duration": 0,
    "start_time": "2024-07-17T14:30:00.288Z"
   },
   {
    "duration": 0,
    "start_time": "2024-07-17T14:30:00.289Z"
   },
   {
    "duration": 36,
    "start_time": "2024-07-17T14:30:15.626Z"
   },
   {
    "duration": 42,
    "start_time": "2024-07-17T14:30:23.953Z"
   },
   {
    "duration": 272,
    "start_time": "2024-07-17T14:30:32.463Z"
   },
   {
    "duration": 62,
    "start_time": "2024-07-17T14:35:21.138Z"
   },
   {
    "duration": 47,
    "start_time": "2024-07-17T14:36:18.632Z"
   },
   {
    "duration": 48,
    "start_time": "2024-07-17T14:36:37.481Z"
   },
   {
    "duration": 34,
    "start_time": "2024-07-17T14:40:39.759Z"
   },
   {
    "duration": 4,
    "start_time": "2024-07-17T15:07:45.595Z"
   },
   {
    "duration": 157,
    "start_time": "2024-07-17T15:17:59.182Z"
   },
   {
    "duration": 125,
    "start_time": "2024-07-17T15:18:07.228Z"
   },
   {
    "duration": 106,
    "start_time": "2024-07-17T15:18:20.093Z"
   },
   {
    "duration": 2,
    "start_time": "2024-07-17T15:19:00.788Z"
   },
   {
    "duration": 255,
    "start_time": "2024-07-17T15:19:21.237Z"
   },
   {
    "duration": 13,
    "start_time": "2024-07-17T15:32:25.579Z"
   },
   {
    "duration": 87,
    "start_time": "2024-07-17T15:47:08.713Z"
   },
   {
    "duration": 533,
    "start_time": "2024-07-17T15:48:33.491Z"
   },
   {
    "duration": 544,
    "start_time": "2024-07-17T15:49:20.882Z"
   },
   {
    "duration": 89,
    "start_time": "2024-07-17T15:50:00.200Z"
   },
   {
    "duration": 3,
    "start_time": "2024-07-17T15:56:24.314Z"
   },
   {
    "duration": 206,
    "start_time": "2024-07-17T15:56:29.492Z"
   },
   {
    "duration": 5,
    "start_time": "2024-07-17T15:59:56.658Z"
   },
   {
    "duration": 4,
    "start_time": "2024-07-17T15:59:56.665Z"
   },
   {
    "duration": 4,
    "start_time": "2024-07-17T15:59:56.671Z"
   },
   {
    "duration": 4,
    "start_time": "2024-07-17T15:59:56.677Z"
   },
   {
    "duration": 4,
    "start_time": "2024-07-17T15:59:56.683Z"
   },
   {
    "duration": 7,
    "start_time": "2024-07-17T15:59:56.688Z"
   },
   {
    "duration": 5,
    "start_time": "2024-07-17T15:59:56.697Z"
   },
   {
    "duration": 8,
    "start_time": "2024-07-17T15:59:56.703Z"
   },
   {
    "duration": 1024,
    "start_time": "2024-07-17T15:59:56.713Z"
   },
   {
    "duration": 225,
    "start_time": "2024-07-17T15:59:57.739Z"
   },
   {
    "duration": 5,
    "start_time": "2024-07-17T15:59:57.965Z"
   },
   {
    "duration": 153,
    "start_time": "2024-07-17T15:59:57.972Z"
   },
   {
    "duration": 24,
    "start_time": "2024-07-17T15:59:58.127Z"
   },
   {
    "duration": 22,
    "start_time": "2024-07-17T15:59:58.153Z"
   },
   {
    "duration": 56,
    "start_time": "2024-07-17T15:59:58.177Z"
   },
   {
    "duration": 20,
    "start_time": "2024-07-17T15:59:58.235Z"
   },
   {
    "duration": 102,
    "start_time": "2024-07-17T15:59:58.256Z"
   },
   {
    "duration": 90,
    "start_time": "2024-07-17T15:59:58.360Z"
   },
   {
    "duration": 12,
    "start_time": "2024-07-17T15:59:58.452Z"
   },
   {
    "duration": 50,
    "start_time": "2024-07-17T15:59:58.465Z"
   },
   {
    "duration": 0,
    "start_time": "2024-07-17T15:59:58.517Z"
   },
   {
    "duration": 0,
    "start_time": "2024-07-17T15:59:58.518Z"
   },
   {
    "duration": 15,
    "start_time": "2024-07-17T18:48:08.865Z"
   },
   {
    "duration": 5,
    "start_time": "2024-07-17T18:59:36.028Z"
   },
   {
    "duration": 10,
    "start_time": "2024-07-17T18:59:36.034Z"
   },
   {
    "duration": 8,
    "start_time": "2024-07-17T18:59:36.045Z"
   },
   {
    "duration": 4,
    "start_time": "2024-07-17T18:59:36.055Z"
   },
   {
    "duration": 3,
    "start_time": "2024-07-17T18:59:36.061Z"
   },
   {
    "duration": 6,
    "start_time": "2024-07-17T18:59:36.065Z"
   },
   {
    "duration": 15,
    "start_time": "2024-07-17T18:59:36.072Z"
   },
   {
    "duration": 32,
    "start_time": "2024-07-17T18:59:36.088Z"
   },
   {
    "duration": 1006,
    "start_time": "2024-07-17T18:59:36.121Z"
   },
   {
    "duration": 229,
    "start_time": "2024-07-17T18:59:37.129Z"
   },
   {
    "duration": 4,
    "start_time": "2024-07-17T18:59:37.360Z"
   },
   {
    "duration": 149,
    "start_time": "2024-07-17T18:59:37.366Z"
   },
   {
    "duration": 24,
    "start_time": "2024-07-17T18:59:37.518Z"
   },
   {
    "duration": 14,
    "start_time": "2024-07-17T18:59:37.543Z"
   },
   {
    "duration": 69,
    "start_time": "2024-07-17T18:59:37.558Z"
   },
   {
    "duration": 120,
    "start_time": "2024-07-17T18:59:37.629Z"
   },
   {
    "duration": 3,
    "start_time": "2024-07-17T18:59:37.751Z"
   },
   {
    "duration": 15,
    "start_time": "2024-07-17T18:59:37.756Z"
   },
   {
    "duration": 59,
    "start_time": "2024-07-17T18:59:37.772Z"
   },
   {
    "duration": 0,
    "start_time": "2024-07-17T18:59:37.833Z"
   },
   {
    "duration": 0,
    "start_time": "2024-07-17T18:59:37.835Z"
   },
   {
    "duration": 104,
    "start_time": "2024-07-17T19:00:08.793Z"
   },
   {
    "duration": 12,
    "start_time": "2024-07-17T19:00:26.217Z"
   },
   {
    "duration": 101,
    "start_time": "2024-07-17T19:20:45.332Z"
   },
   {
    "duration": 20,
    "start_time": "2024-07-17T19:20:52.833Z"
   },
   {
    "duration": 11,
    "start_time": "2024-07-17T19:20:53.565Z"
   },
   {
    "duration": 101,
    "start_time": "2024-07-17T19:20:54.227Z"
   },
   {
    "duration": 180,
    "start_time": "2024-07-17T19:22:11.854Z"
   },
   {
    "duration": 196,
    "start_time": "2024-07-17T19:23:03.853Z"
   },
   {
    "duration": 15,
    "start_time": "2024-07-17T19:26:03.484Z"
   },
   {
    "duration": 5,
    "start_time": "2024-07-17T19:26:16.535Z"
   },
   {
    "duration": 4,
    "start_time": "2024-07-17T19:26:16.541Z"
   },
   {
    "duration": 2,
    "start_time": "2024-07-17T19:26:16.547Z"
   },
   {
    "duration": 3,
    "start_time": "2024-07-17T19:26:16.551Z"
   },
   {
    "duration": 2,
    "start_time": "2024-07-17T19:26:16.556Z"
   },
   {
    "duration": 5,
    "start_time": "2024-07-17T19:26:16.560Z"
   },
   {
    "duration": 5,
    "start_time": "2024-07-17T19:26:16.566Z"
   },
   {
    "duration": 8,
    "start_time": "2024-07-17T19:26:16.572Z"
   },
   {
    "duration": 1036,
    "start_time": "2024-07-17T19:26:16.581Z"
   },
   {
    "duration": 236,
    "start_time": "2024-07-17T19:26:17.619Z"
   },
   {
    "duration": 6,
    "start_time": "2024-07-17T19:26:17.857Z"
   },
   {
    "duration": 151,
    "start_time": "2024-07-17T19:26:17.865Z"
   },
   {
    "duration": 23,
    "start_time": "2024-07-17T19:26:18.018Z"
   },
   {
    "duration": 47,
    "start_time": "2024-07-17T19:26:18.043Z"
   },
   {
    "duration": 47,
    "start_time": "2024-07-17T19:26:18.092Z"
   },
   {
    "duration": 110,
    "start_time": "2024-07-17T19:26:18.141Z"
   },
   {
    "duration": 2,
    "start_time": "2024-07-17T19:26:18.253Z"
   },
   {
    "duration": 25,
    "start_time": "2024-07-17T19:26:18.256Z"
   },
   {
    "duration": 10,
    "start_time": "2024-07-17T19:26:18.282Z"
   },
   {
    "duration": 195,
    "start_time": "2024-07-17T19:26:18.293Z"
   },
   {
    "duration": 211,
    "start_time": "2024-07-17T19:26:18.490Z"
   },
   {
    "duration": 25,
    "start_time": "2024-07-17T19:26:18.703Z"
   },
   {
    "duration": 191,
    "start_time": "2024-07-17T19:41:06.322Z"
   },
   {
    "duration": 192,
    "start_time": "2024-07-17T19:41:17.598Z"
   },
   {
    "duration": 3,
    "start_time": "2024-07-17T19:41:50.671Z"
   },
   {
    "duration": 3,
    "start_time": "2024-07-17T19:42:34.191Z"
   },
   {
    "duration": 4,
    "start_time": "2024-07-17T19:42:44.653Z"
   },
   {
    "duration": 3,
    "start_time": "2024-07-17T19:43:16.409Z"
   },
   {
    "duration": 10,
    "start_time": "2024-07-17T19:49:02.758Z"
   },
   {
    "duration": 5,
    "start_time": "2024-07-17T19:49:36.268Z"
   },
   {
    "duration": 11,
    "start_time": "2024-07-17T19:49:36.275Z"
   },
   {
    "duration": 9,
    "start_time": "2024-07-17T19:49:36.287Z"
   },
   {
    "duration": 23,
    "start_time": "2024-07-17T19:49:36.298Z"
   },
   {
    "duration": 4,
    "start_time": "2024-07-17T19:49:36.323Z"
   },
   {
    "duration": 4,
    "start_time": "2024-07-17T19:49:36.328Z"
   },
   {
    "duration": 5,
    "start_time": "2024-07-17T19:49:36.334Z"
   },
   {
    "duration": 8,
    "start_time": "2024-07-17T19:49:36.340Z"
   },
   {
    "duration": 1090,
    "start_time": "2024-07-17T19:49:36.349Z"
   },
   {
    "duration": 233,
    "start_time": "2024-07-17T19:49:37.441Z"
   },
   {
    "duration": 5,
    "start_time": "2024-07-17T19:49:37.676Z"
   },
   {
    "duration": 182,
    "start_time": "2024-07-17T19:49:37.683Z"
   },
   {
    "duration": 24,
    "start_time": "2024-07-17T19:49:37.866Z"
   },
   {
    "duration": 37,
    "start_time": "2024-07-17T19:49:37.892Z"
   },
   {
    "duration": 48,
    "start_time": "2024-07-17T19:49:37.931Z"
   },
   {
    "duration": 117,
    "start_time": "2024-07-17T19:49:37.981Z"
   },
   {
    "duration": 11,
    "start_time": "2024-07-17T19:49:38.099Z"
   },
   {
    "duration": 26,
    "start_time": "2024-07-17T19:49:38.112Z"
   },
   {
    "duration": 10,
    "start_time": "2024-07-17T19:49:38.140Z"
   },
   {
    "duration": 213,
    "start_time": "2024-07-17T19:49:38.151Z"
   },
   {
    "duration": 218,
    "start_time": "2024-07-17T19:49:38.365Z"
   },
   {
    "duration": 3,
    "start_time": "2024-07-17T19:49:38.584Z"
   },
   {
    "duration": 22,
    "start_time": "2024-07-17T19:49:38.589Z"
   },
   {
    "duration": 16,
    "start_time": "2024-07-17T19:49:38.614Z"
   },
   {
    "duration": 0,
    "start_time": "2024-07-17T19:49:38.631Z"
   },
   {
    "duration": 7,
    "start_time": "2024-07-17T19:53:12.643Z"
   },
   {
    "duration": 3,
    "start_time": "2024-07-17T19:53:12.652Z"
   },
   {
    "duration": 8,
    "start_time": "2024-07-17T19:53:12.657Z"
   },
   {
    "duration": 6,
    "start_time": "2024-07-17T19:53:12.666Z"
   },
   {
    "duration": 5,
    "start_time": "2024-07-17T19:53:12.674Z"
   },
   {
    "duration": 5,
    "start_time": "2024-07-17T19:53:12.680Z"
   },
   {
    "duration": 4,
    "start_time": "2024-07-17T19:53:12.686Z"
   },
   {
    "duration": 8,
    "start_time": "2024-07-17T19:53:12.692Z"
   },
   {
    "duration": 1016,
    "start_time": "2024-07-17T19:53:12.701Z"
   },
   {
    "duration": 212,
    "start_time": "2024-07-17T19:53:13.718Z"
   },
   {
    "duration": 5,
    "start_time": "2024-07-17T19:53:13.931Z"
   },
   {
    "duration": 149,
    "start_time": "2024-07-17T19:53:13.938Z"
   },
   {
    "duration": 28,
    "start_time": "2024-07-17T19:53:14.089Z"
   },
   {
    "duration": 13,
    "start_time": "2024-07-17T19:53:14.121Z"
   },
   {
    "duration": 48,
    "start_time": "2024-07-17T19:53:14.136Z"
   },
   {
    "duration": 136,
    "start_time": "2024-07-17T19:53:14.208Z"
   },
   {
    "duration": 6,
    "start_time": "2024-07-17T19:53:14.345Z"
   },
   {
    "duration": 16,
    "start_time": "2024-07-17T19:53:14.353Z"
   },
   {
    "duration": 9,
    "start_time": "2024-07-17T19:53:14.371Z"
   },
   {
    "duration": 176,
    "start_time": "2024-07-17T19:53:14.382Z"
   },
   {
    "duration": 177,
    "start_time": "2024-07-17T19:53:14.559Z"
   },
   {
    "duration": 4,
    "start_time": "2024-07-17T19:53:14.738Z"
   },
   {
    "duration": 10,
    "start_time": "2024-07-17T19:53:14.743Z"
   },
   {
    "duration": 10,
    "start_time": "2024-07-17T19:53:14.755Z"
   },
   {
    "duration": 0,
    "start_time": "2024-07-17T19:53:14.767Z"
   },
   {
    "duration": 4,
    "start_time": "2024-07-17T19:54:03.286Z"
   },
   {
    "duration": 10,
    "start_time": "2024-07-17T19:54:03.292Z"
   },
   {
    "duration": 16,
    "start_time": "2024-07-17T19:54:03.303Z"
   },
   {
    "duration": 17,
    "start_time": "2024-07-17T19:54:03.321Z"
   },
   {
    "duration": 7,
    "start_time": "2024-07-17T19:54:03.340Z"
   },
   {
    "duration": 7,
    "start_time": "2024-07-17T19:54:03.348Z"
   },
   {
    "duration": 4,
    "start_time": "2024-07-17T19:54:03.357Z"
   },
   {
    "duration": 12,
    "start_time": "2024-07-17T19:54:03.363Z"
   },
   {
    "duration": 1038,
    "start_time": "2024-07-17T19:54:03.377Z"
   },
   {
    "duration": 213,
    "start_time": "2024-07-17T19:54:04.418Z"
   },
   {
    "duration": 4,
    "start_time": "2024-07-17T19:54:04.633Z"
   },
   {
    "duration": 149,
    "start_time": "2024-07-17T19:54:04.638Z"
   },
   {
    "duration": 27,
    "start_time": "2024-07-17T19:54:04.789Z"
   },
   {
    "duration": 14,
    "start_time": "2024-07-17T19:54:04.817Z"
   },
   {
    "duration": 45,
    "start_time": "2024-07-17T19:54:04.832Z"
   },
   {
    "duration": 114,
    "start_time": "2024-07-17T19:54:04.878Z"
   },
   {
    "duration": 14,
    "start_time": "2024-07-17T19:54:04.994Z"
   },
   {
    "duration": 17,
    "start_time": "2024-07-17T19:54:05.010Z"
   },
   {
    "duration": 9,
    "start_time": "2024-07-17T19:54:05.029Z"
   },
   {
    "duration": 193,
    "start_time": "2024-07-17T19:54:05.040Z"
   },
   {
    "duration": 203,
    "start_time": "2024-07-17T19:54:05.234Z"
   },
   {
    "duration": 3,
    "start_time": "2024-07-17T19:54:05.438Z"
   },
   {
    "duration": 15,
    "start_time": "2024-07-17T19:54:05.443Z"
   },
   {
    "duration": 26,
    "start_time": "2024-07-17T19:54:05.460Z"
   },
   {
    "duration": 0,
    "start_time": "2024-07-17T19:54:05.488Z"
   },
   {
    "duration": 9,
    "start_time": "2024-07-17T19:55:39.327Z"
   },
   {
    "duration": 22,
    "start_time": "2024-07-17T19:56:02.480Z"
   },
   {
    "duration": 87064,
    "start_time": "2024-07-17T20:12:25.813Z"
   },
   {
    "duration": 4,
    "start_time": "2024-07-17T20:19:08.958Z"
   },
   {
    "duration": 86895,
    "start_time": "2024-07-17T20:19:30.897Z"
   },
   {
    "duration": 9,
    "start_time": "2024-07-17T20:25:56.998Z"
   },
   {
    "duration": 8,
    "start_time": "2024-07-17T20:26:16.051Z"
   },
   {
    "duration": 9,
    "start_time": "2024-07-17T20:29:29.629Z"
   },
   {
    "duration": 8,
    "start_time": "2024-07-17T20:29:50.142Z"
   },
   {
    "duration": 8,
    "start_time": "2024-07-17T20:31:03.205Z"
   },
   {
    "duration": 7,
    "start_time": "2024-07-17T20:31:10.365Z"
   },
   {
    "duration": 68,
    "start_time": "2024-07-17T20:34:04.072Z"
   },
   {
    "duration": 153,
    "start_time": "2024-07-17T20:34:14.486Z"
   },
   {
    "duration": 121,
    "start_time": "2024-07-17T20:35:11.164Z"
   },
   {
    "duration": 42,
    "start_time": "2024-07-17T20:35:30.001Z"
   },
   {
    "duration": 3477,
    "start_time": "2024-07-17T20:35:47.397Z"
   },
   {
    "duration": 1923,
    "start_time": "2024-07-17T20:36:18.465Z"
   },
   {
    "duration": 1931,
    "start_time": "2024-07-17T20:36:45.197Z"
   },
   {
    "duration": 43,
    "start_time": "2024-07-17T20:37:37.814Z"
   },
   {
    "duration": 68,
    "start_time": "2024-07-17T20:37:56.016Z"
   },
   {
    "duration": 1068,
    "start_time": "2024-07-17T20:38:01.982Z"
   },
   {
    "duration": 55,
    "start_time": "2024-07-17T20:38:12.459Z"
   },
   {
    "duration": 55,
    "start_time": "2024-07-17T20:38:25.117Z"
   },
   {
    "duration": 55,
    "start_time": "2024-07-17T20:38:38.224Z"
   },
   {
    "duration": 55,
    "start_time": "2024-07-17T20:38:43.974Z"
   },
   {
    "duration": 1055,
    "start_time": "2024-07-17T20:38:51.318Z"
   },
   {
    "duration": 196,
    "start_time": "2024-07-17T20:38:55.511Z"
   },
   {
    "duration": 5,
    "start_time": "2024-07-17T20:39:54.358Z"
   },
   {
    "duration": 5,
    "start_time": "2024-07-17T20:39:54.365Z"
   },
   {
    "duration": 4,
    "start_time": "2024-07-17T20:39:54.371Z"
   },
   {
    "duration": 6,
    "start_time": "2024-07-17T20:39:54.377Z"
   },
   {
    "duration": 21,
    "start_time": "2024-07-17T20:39:54.385Z"
   },
   {
    "duration": 6,
    "start_time": "2024-07-17T20:39:54.408Z"
   },
   {
    "duration": 5,
    "start_time": "2024-07-17T20:39:54.415Z"
   },
   {
    "duration": 17,
    "start_time": "2024-07-17T20:39:54.422Z"
   },
   {
    "duration": 1014,
    "start_time": "2024-07-17T20:39:54.441Z"
   },
   {
    "duration": 203,
    "start_time": "2024-07-17T20:39:55.458Z"
   },
   {
    "duration": 4,
    "start_time": "2024-07-17T20:39:55.663Z"
   },
   {
    "duration": 144,
    "start_time": "2024-07-17T20:39:55.669Z"
   },
   {
    "duration": 22,
    "start_time": "2024-07-17T20:39:55.815Z"
   },
   {
    "duration": 14,
    "start_time": "2024-07-17T20:39:55.839Z"
   },
   {
    "duration": 57,
    "start_time": "2024-07-17T20:39:55.855Z"
   },
   {
    "duration": 108,
    "start_time": "2024-07-17T20:39:55.913Z"
   },
   {
    "duration": 3,
    "start_time": "2024-07-17T20:39:56.022Z"
   },
   {
    "duration": 18,
    "start_time": "2024-07-17T20:39:56.026Z"
   },
   {
    "duration": 9,
    "start_time": "2024-07-17T20:39:56.046Z"
   },
   {
    "duration": 189,
    "start_time": "2024-07-17T20:39:56.056Z"
   },
   {
    "duration": 198,
    "start_time": "2024-07-17T20:39:56.247Z"
   },
   {
    "duration": 3,
    "start_time": "2024-07-17T20:39:56.446Z"
   },
   {
    "duration": 10,
    "start_time": "2024-07-17T20:39:56.451Z"
   },
   {
    "duration": 21,
    "start_time": "2024-07-17T20:39:56.463Z"
   },
   {
    "duration": 1995,
    "start_time": "2024-07-17T20:40:06.257Z"
   },
   {
    "duration": 391,
    "start_time": "2024-07-17T20:41:26.329Z"
   },
   {
    "duration": 596,
    "start_time": "2024-07-17T20:41:59.536Z"
   },
   {
    "duration": 1835,
    "start_time": "2024-07-17T20:43:11.109Z"
   },
   {
    "duration": 4,
    "start_time": "2024-07-17T20:44:32.192Z"
   },
   {
    "duration": 481,
    "start_time": "2024-07-17T20:44:51.616Z"
   },
   {
    "duration": 4,
    "start_time": "2024-07-17T20:50:25.462Z"
   },
   {
    "duration": 359,
    "start_time": "2024-07-17T20:50:25.968Z"
   },
   {
    "duration": 4,
    "start_time": "2024-07-17T20:51:57.248Z"
   },
   {
    "duration": 397,
    "start_time": "2024-07-17T20:51:58.490Z"
   },
   {
    "duration": 4,
    "start_time": "2024-07-17T20:52:46.777Z"
   },
   {
    "duration": 355,
    "start_time": "2024-07-17T20:52:48.285Z"
   },
   {
    "duration": 44531,
    "start_time": "2024-07-17T20:54:13.189Z"
   },
   {
    "duration": 2065,
    "start_time": "2024-07-17T20:55:01.657Z"
   },
   {
    "duration": 1802,
    "start_time": "2024-07-17T20:55:16.146Z"
   },
   {
    "duration": 1710,
    "start_time": "2024-07-17T20:56:00.408Z"
   },
   {
    "duration": 1609,
    "start_time": "2024-07-17T20:56:22.186Z"
   },
   {
    "duration": 1546,
    "start_time": "2024-07-17T20:56:46.642Z"
   },
   {
    "duration": 1602,
    "start_time": "2024-07-17T20:56:56.389Z"
   },
   {
    "duration": 1324,
    "start_time": "2024-07-18T07:51:55.534Z"
   },
   {
    "duration": 0,
    "start_time": "2024-07-18T07:51:56.860Z"
   },
   {
    "duration": 0,
    "start_time": "2024-07-18T07:51:56.861Z"
   },
   {
    "duration": 0,
    "start_time": "2024-07-18T07:51:56.862Z"
   },
   {
    "duration": 0,
    "start_time": "2024-07-18T07:51:56.863Z"
   },
   {
    "duration": 0,
    "start_time": "2024-07-18T07:51:56.864Z"
   },
   {
    "duration": 0,
    "start_time": "2024-07-18T07:51:56.865Z"
   },
   {
    "duration": 0,
    "start_time": "2024-07-18T07:51:56.866Z"
   },
   {
    "duration": 0,
    "start_time": "2024-07-18T07:51:56.867Z"
   },
   {
    "duration": 0,
    "start_time": "2024-07-18T07:51:56.869Z"
   },
   {
    "duration": 0,
    "start_time": "2024-07-18T07:51:56.869Z"
   },
   {
    "duration": 0,
    "start_time": "2024-07-18T07:51:56.870Z"
   },
   {
    "duration": 0,
    "start_time": "2024-07-18T07:51:56.871Z"
   },
   {
    "duration": 0,
    "start_time": "2024-07-18T07:51:56.872Z"
   },
   {
    "duration": 0,
    "start_time": "2024-07-18T07:51:56.873Z"
   },
   {
    "duration": 0,
    "start_time": "2024-07-18T07:51:56.874Z"
   },
   {
    "duration": 0,
    "start_time": "2024-07-18T07:51:56.875Z"
   },
   {
    "duration": 0,
    "start_time": "2024-07-18T07:51:56.876Z"
   },
   {
    "duration": 0,
    "start_time": "2024-07-18T07:51:56.877Z"
   },
   {
    "duration": 0,
    "start_time": "2024-07-18T07:51:56.878Z"
   },
   {
    "duration": 0,
    "start_time": "2024-07-18T07:51:56.879Z"
   },
   {
    "duration": 0,
    "start_time": "2024-07-18T07:51:56.880Z"
   },
   {
    "duration": 0,
    "start_time": "2024-07-18T07:51:56.881Z"
   },
   {
    "duration": 0,
    "start_time": "2024-07-18T07:51:56.911Z"
   },
   {
    "duration": 0,
    "start_time": "2024-07-18T07:51:56.912Z"
   },
   {
    "duration": 10335,
    "start_time": "2024-07-18T07:52:20.575Z"
   },
   {
    "duration": 195,
    "start_time": "2024-07-18T07:52:30.912Z"
   },
   {
    "duration": 3,
    "start_time": "2024-07-18T07:52:31.109Z"
   },
   {
    "duration": 99,
    "start_time": "2024-07-18T07:52:31.115Z"
   },
   {
    "duration": 59,
    "start_time": "2024-07-18T07:52:31.216Z"
   },
   {
    "duration": 128,
    "start_time": "2024-07-18T07:52:31.276Z"
   },
   {
    "duration": 183,
    "start_time": "2024-07-18T07:52:31.406Z"
   },
   {
    "duration": 52,
    "start_time": "2024-07-18T07:52:31.590Z"
   },
   {
    "duration": 85,
    "start_time": "2024-07-18T07:52:31.644Z"
   },
   {
    "duration": 3040,
    "start_time": "2024-07-18T07:52:31.733Z"
   },
   {
    "duration": 176,
    "start_time": "2024-07-18T07:52:34.774Z"
   },
   {
    "duration": 4,
    "start_time": "2024-07-18T07:52:34.951Z"
   },
   {
    "duration": 132,
    "start_time": "2024-07-18T07:52:34.957Z"
   },
   {
    "duration": 30,
    "start_time": "2024-07-18T07:52:35.091Z"
   },
   {
    "duration": 36,
    "start_time": "2024-07-18T07:52:35.122Z"
   },
   {
    "duration": 47,
    "start_time": "2024-07-18T07:52:35.160Z"
   },
   {
    "duration": 129,
    "start_time": "2024-07-18T07:52:35.209Z"
   },
   {
    "duration": 2,
    "start_time": "2024-07-18T07:52:35.340Z"
   },
   {
    "duration": 24,
    "start_time": "2024-07-18T07:52:35.344Z"
   },
   {
    "duration": 10,
    "start_time": "2024-07-18T07:52:35.370Z"
   },
   {
    "duration": 214,
    "start_time": "2024-07-18T07:52:35.381Z"
   },
   {
    "duration": 221,
    "start_time": "2024-07-18T07:52:35.597Z"
   },
   {
    "duration": 3,
    "start_time": "2024-07-18T07:52:35.819Z"
   },
   {
    "duration": 38,
    "start_time": "2024-07-18T07:52:35.823Z"
   },
   {
    "duration": 26,
    "start_time": "2024-07-18T07:52:35.862Z"
   },
   {
    "duration": 37,
    "start_time": "2024-07-18T07:54:49.887Z"
   },
   {
    "duration": 19,
    "start_time": "2024-07-18T07:55:59.578Z"
   },
   {
    "duration": 16,
    "start_time": "2024-07-18T07:56:23.538Z"
   },
   {
    "duration": 16,
    "start_time": "2024-07-18T07:57:04.994Z"
   },
   {
    "duration": 17,
    "start_time": "2024-07-18T07:57:15.153Z"
   },
   {
    "duration": 17,
    "start_time": "2024-07-18T07:57:22.349Z"
   },
   {
    "duration": 17,
    "start_time": "2024-07-18T07:57:49.437Z"
   },
   {
    "duration": 16,
    "start_time": "2024-07-18T07:58:17.102Z"
   },
   {
    "duration": 17,
    "start_time": "2024-07-18T07:58:24.942Z"
   },
   {
    "duration": 16,
    "start_time": "2024-07-18T07:58:35.332Z"
   },
   {
    "duration": 18,
    "start_time": "2024-07-18T07:58:58.323Z"
   },
   {
    "duration": 25,
    "start_time": "2024-07-18T07:59:12.069Z"
   },
   {
    "duration": 43,
    "start_time": "2024-07-18T07:59:22.561Z"
   },
   {
    "duration": 20,
    "start_time": "2024-07-18T07:59:33.127Z"
   },
   {
    "duration": 18,
    "start_time": "2024-07-18T07:59:45.629Z"
   },
   {
    "duration": 1789,
    "start_time": "2024-07-18T08:02:12.608Z"
   },
   {
    "duration": 1781,
    "start_time": "2024-07-18T08:02:21.345Z"
   },
   {
    "duration": 1706,
    "start_time": "2024-07-18T08:02:35.992Z"
   },
   {
    "duration": 1479,
    "start_time": "2024-07-18T08:09:43.956Z"
   },
   {
    "duration": 1400,
    "start_time": "2024-07-18T08:09:53.320Z"
   },
   {
    "duration": 1640,
    "start_time": "2024-07-18T08:10:09.038Z"
   },
   {
    "duration": 18,
    "start_time": "2024-07-18T08:10:56.369Z"
   },
   {
    "duration": 22,
    "start_time": "2024-07-18T08:11:06.637Z"
   },
   {
    "duration": 18,
    "start_time": "2024-07-18T08:11:13.847Z"
   },
   {
    "duration": 16,
    "start_time": "2024-07-18T08:11:24.110Z"
   },
   {
    "duration": 1606,
    "start_time": "2024-07-18T08:11:59.653Z"
   },
   {
    "duration": 1619,
    "start_time": "2024-07-18T08:12:30.150Z"
   },
   {
    "duration": 33,
    "start_time": "2024-07-18T08:19:22.139Z"
   },
   {
    "duration": 21,
    "start_time": "2024-07-18T08:19:35.678Z"
   },
   {
    "duration": 4,
    "start_time": "2024-07-18T08:20:59.805Z"
   },
   {
    "duration": 23,
    "start_time": "2024-07-18T08:20:59.810Z"
   },
   {
    "duration": 6,
    "start_time": "2024-07-18T08:20:59.835Z"
   },
   {
    "duration": 3,
    "start_time": "2024-07-18T08:20:59.844Z"
   },
   {
    "duration": 3,
    "start_time": "2024-07-18T08:20:59.849Z"
   },
   {
    "duration": 8,
    "start_time": "2024-07-18T08:20:59.853Z"
   },
   {
    "duration": 11,
    "start_time": "2024-07-18T08:20:59.863Z"
   },
   {
    "duration": 20,
    "start_time": "2024-07-18T08:20:59.876Z"
   },
   {
    "duration": 903,
    "start_time": "2024-07-18T08:20:59.897Z"
   },
   {
    "duration": 180,
    "start_time": "2024-07-18T08:21:00.802Z"
   },
   {
    "duration": 4,
    "start_time": "2024-07-18T08:21:00.984Z"
   },
   {
    "duration": 158,
    "start_time": "2024-07-18T08:21:00.989Z"
   },
   {
    "duration": 21,
    "start_time": "2024-07-18T08:21:01.149Z"
   },
   {
    "duration": 36,
    "start_time": "2024-07-18T08:21:01.171Z"
   },
   {
    "duration": 79,
    "start_time": "2024-07-18T08:21:01.208Z"
   },
   {
    "duration": 109,
    "start_time": "2024-07-18T08:21:01.288Z"
   },
   {
    "duration": 7,
    "start_time": "2024-07-18T08:21:01.398Z"
   },
   {
    "duration": 63,
    "start_time": "2024-07-18T08:21:01.406Z"
   },
   {
    "duration": 61,
    "start_time": "2024-07-18T08:21:01.471Z"
   },
   {
    "duration": 213,
    "start_time": "2024-07-18T08:21:01.533Z"
   },
   {
    "duration": 196,
    "start_time": "2024-07-18T08:21:01.747Z"
   },
   {
    "duration": 3,
    "start_time": "2024-07-18T08:21:01.945Z"
   },
   {
    "duration": 25,
    "start_time": "2024-07-18T08:21:01.949Z"
   },
   {
    "duration": 65,
    "start_time": "2024-07-18T08:21:01.975Z"
   },
   {
    "duration": 68531,
    "start_time": "2024-07-18T08:21:02.041Z"
   },
   {
    "duration": 23,
    "start_time": "2024-07-18T08:22:10.573Z"
   },
   {
    "duration": 2695,
    "start_time": "2024-07-18T08:22:10.597Z"
   },
   {
    "duration": 1479,
    "start_time": "2024-07-18T08:22:13.296Z"
   },
   {
    "duration": 7881,
    "start_time": "2024-07-18T08:22:14.777Z"
   },
   {
    "duration": 16,
    "start_time": "2024-07-18T08:22:22.659Z"
   },
   {
    "duration": 3096,
    "start_time": "2024-07-18T08:23:40.168Z"
   },
   {
    "duration": 4,
    "start_time": "2024-07-18T08:26:43.929Z"
   },
   {
    "duration": 4,
    "start_time": "2024-07-18T08:27:01.165Z"
   },
   {
    "duration": 4334,
    "start_time": "2024-07-18T08:27:47.204Z"
   },
   {
    "duration": 4,
    "start_time": "2024-07-18T08:31:01.499Z"
   },
   {
    "duration": 3,
    "start_time": "2024-07-18T08:31:49.084Z"
   },
   {
    "duration": 3,
    "start_time": "2024-07-18T08:31:54.957Z"
   },
   {
    "duration": 10,
    "start_time": "2024-07-18T08:32:10.197Z"
   },
   {
    "duration": 177,
    "start_time": "2024-07-18T08:32:33.579Z"
   },
   {
    "duration": 8,
    "start_time": "2024-07-18T09:00:24.339Z"
   },
   {
    "duration": 4,
    "start_time": "2024-07-18T09:00:59.981Z"
   },
   {
    "duration": 8,
    "start_time": "2024-07-18T09:01:08.543Z"
   },
   {
    "duration": 423,
    "start_time": "2024-07-18T09:01:56.440Z"
   },
   {
    "duration": 3874,
    "start_time": "2024-07-18T09:02:56.457Z"
   },
   {
    "duration": 4,
    "start_time": "2024-07-18T09:03:38.337Z"
   },
   {
    "duration": 3826,
    "start_time": "2024-07-18T09:03:39.461Z"
   },
   {
    "duration": 3,
    "start_time": "2024-07-18T09:04:34.438Z"
   },
   {
    "duration": 282,
    "start_time": "2024-07-18T09:04:35.283Z"
   },
   {
    "duration": 1041,
    "start_time": "2024-07-18T09:04:47.027Z"
   },
   {
    "duration": 4,
    "start_time": "2024-07-18T09:05:07.973Z"
   },
   {
    "duration": 970,
    "start_time": "2024-07-18T09:05:12.724Z"
   },
   {
    "duration": 3,
    "start_time": "2024-07-18T09:06:00.909Z"
   },
   {
    "duration": 876,
    "start_time": "2024-07-18T09:06:01.235Z"
   },
   {
    "duration": 3,
    "start_time": "2024-07-18T09:06:14.825Z"
   },
   {
    "duration": 893,
    "start_time": "2024-07-18T09:06:19.849Z"
   },
   {
    "duration": 4,
    "start_time": "2024-07-18T09:07:20.471Z"
   },
   {
    "duration": 1002,
    "start_time": "2024-07-18T09:07:40.112Z"
   },
   {
    "duration": 375,
    "start_time": "2024-07-18T09:07:54.649Z"
   },
   {
    "duration": 663,
    "start_time": "2024-07-18T09:08:12.678Z"
   },
   {
    "duration": 3,
    "start_time": "2024-07-18T09:08:24.729Z"
   },
   {
    "duration": 550,
    "start_time": "2024-07-18T09:08:25.041Z"
   },
   {
    "duration": 409,
    "start_time": "2024-07-18T09:09:21.321Z"
   },
   {
    "duration": 3,
    "start_time": "2024-07-18T09:11:35.573Z"
   },
   {
    "duration": 272,
    "start_time": "2024-07-18T09:11:36.783Z"
   },
   {
    "duration": 4,
    "start_time": "2024-07-18T09:11:45.334Z"
   },
   {
    "duration": 259,
    "start_time": "2024-07-18T09:11:45.670Z"
   },
   {
    "duration": 4,
    "start_time": "2024-07-18T09:13:16.886Z"
   },
   {
    "duration": 392,
    "start_time": "2024-07-18T09:13:17.232Z"
   },
   {
    "duration": 586,
    "start_time": "2024-07-18T09:13:32.082Z"
   },
   {
    "duration": 4,
    "start_time": "2024-07-18T09:16:40.367Z"
   },
   {
    "duration": 359,
    "start_time": "2024-07-18T09:16:41.281Z"
   },
   {
    "duration": 633,
    "start_time": "2024-07-18T09:16:44.391Z"
   },
   {
    "duration": 3303,
    "start_time": "2024-07-18T09:17:34.954Z"
   },
   {
    "duration": 5,
    "start_time": "2024-07-18T09:20:50.497Z"
   },
   {
    "duration": 397,
    "start_time": "2024-07-18T09:21:09.372Z"
   },
   {
    "duration": 4,
    "start_time": "2024-07-18T09:21:39.542Z"
   },
   {
    "duration": 448,
    "start_time": "2024-07-18T09:21:43.084Z"
   },
   {
    "duration": 7,
    "start_time": "2024-07-18T10:05:50.447Z"
   },
   {
    "duration": 4,
    "start_time": "2024-07-18T10:05:55.605Z"
   },
   {
    "duration": 82,
    "start_time": "2024-07-18T10:05:57.102Z"
   },
   {
    "duration": 433,
    "start_time": "2024-07-18T10:06:11.227Z"
   },
   {
    "duration": 339,
    "start_time": "2024-07-18T10:06:29.215Z"
   },
   {
    "duration": 555,
    "start_time": "2024-07-18T10:06:47.314Z"
   },
   {
    "duration": 474,
    "start_time": "2024-07-18T10:07:04.294Z"
   },
   {
    "duration": 3,
    "start_time": "2024-07-18T10:21:39.925Z"
   },
   {
    "duration": 3,
    "start_time": "2024-07-18T10:22:12.246Z"
   },
   {
    "duration": 5657,
    "start_time": "2024-07-18T10:22:12.548Z"
   },
   {
    "duration": 3,
    "start_time": "2024-07-18T10:22:32.655Z"
   },
   {
    "duration": 5638,
    "start_time": "2024-07-18T10:22:32.944Z"
   },
   {
    "duration": 4,
    "start_time": "2024-07-18T10:45:41.362Z"
   },
   {
    "duration": 71,
    "start_time": "2024-07-18T11:00:12.055Z"
   },
   {
    "duration": 4,
    "start_time": "2024-07-18T11:00:55.273Z"
   },
   {
    "duration": 75,
    "start_time": "2024-07-18T11:02:32.381Z"
   },
   {
    "duration": 4,
    "start_time": "2024-07-18T11:03:13.247Z"
   },
   {
    "duration": 21579,
    "start_time": "2024-07-18T11:03:16.928Z"
   },
   {
    "duration": 62,
    "start_time": "2024-07-18T11:09:42.940Z"
   },
   {
    "duration": 373,
    "start_time": "2024-07-18T11:09:58.656Z"
   },
   {
    "duration": 19,
    "start_time": "2024-07-18T11:10:24.339Z"
   },
   {
    "duration": 325,
    "start_time": "2024-07-18T11:10:47.374Z"
   },
   {
    "duration": 14,
    "start_time": "2024-07-18T11:11:19.308Z"
   },
   {
    "duration": 375,
    "start_time": "2024-07-18T11:11:21.997Z"
   },
   {
    "duration": 18,
    "start_time": "2024-07-18T11:11:54.267Z"
   },
   {
    "duration": 18,
    "start_time": "2024-07-18T11:12:03.660Z"
   },
   {
    "duration": 19,
    "start_time": "2024-07-18T11:12:08.913Z"
   },
   {
    "duration": 20,
    "start_time": "2024-07-18T11:12:26.954Z"
   },
   {
    "duration": 656,
    "start_time": "2024-07-18T11:12:37.524Z"
   },
   {
    "duration": 1070,
    "start_time": "2024-07-18T11:12:59.958Z"
   },
   {
    "duration": 744,
    "start_time": "2024-07-18T11:13:21.353Z"
   },
   {
    "duration": 27,
    "start_time": "2024-07-18T11:15:26.079Z"
   },
   {
    "duration": 4526,
    "start_time": "2024-07-18T11:15:52.552Z"
   },
   {
    "duration": 5514,
    "start_time": "2024-07-18T11:16:11.625Z"
   },
   {
    "duration": 5,
    "start_time": "2024-07-18T11:18:23.381Z"
   },
   {
    "duration": 6,
    "start_time": "2024-07-18T11:18:23.388Z"
   },
   {
    "duration": 10,
    "start_time": "2024-07-18T11:18:23.395Z"
   },
   {
    "duration": 4,
    "start_time": "2024-07-18T11:18:23.406Z"
   },
   {
    "duration": 4,
    "start_time": "2024-07-18T11:18:23.412Z"
   },
   {
    "duration": 15,
    "start_time": "2024-07-18T11:18:23.417Z"
   },
   {
    "duration": 24,
    "start_time": "2024-07-18T11:18:23.433Z"
   },
   {
    "duration": 6,
    "start_time": "2024-07-18T11:18:23.459Z"
   },
   {
    "duration": 7,
    "start_time": "2024-07-18T11:18:23.467Z"
   },
   {
    "duration": 845,
    "start_time": "2024-07-18T11:18:23.475Z"
   },
   {
    "duration": 171,
    "start_time": "2024-07-18T11:18:24.321Z"
   },
   {
    "duration": 4,
    "start_time": "2024-07-18T11:18:24.493Z"
   },
   {
    "duration": 185,
    "start_time": "2024-07-18T11:18:24.498Z"
   },
   {
    "duration": 19,
    "start_time": "2024-07-18T11:18:24.685Z"
   },
   {
    "duration": 22,
    "start_time": "2024-07-18T11:18:24.706Z"
   },
   {
    "duration": 48,
    "start_time": "2024-07-18T11:18:24.730Z"
   },
   {
    "duration": 80,
    "start_time": "2024-07-18T11:18:24.779Z"
   },
   {
    "duration": 9,
    "start_time": "2024-07-18T11:18:24.861Z"
   },
   {
    "duration": 27,
    "start_time": "2024-07-18T11:18:24.871Z"
   },
   {
    "duration": 9,
    "start_time": "2024-07-18T11:18:24.899Z"
   },
   {
    "duration": 164,
    "start_time": "2024-07-18T11:18:24.909Z"
   },
   {
    "duration": 187,
    "start_time": "2024-07-18T11:18:25.074Z"
   },
   {
    "duration": 3,
    "start_time": "2024-07-18T11:18:25.263Z"
   },
   {
    "duration": 16,
    "start_time": "2024-07-18T11:18:25.267Z"
   },
   {
    "duration": 31,
    "start_time": "2024-07-18T11:18:25.284Z"
   },
   {
    "duration": 68653,
    "start_time": "2024-07-18T11:18:25.317Z"
   },
   {
    "duration": 24,
    "start_time": "2024-07-18T11:19:33.971Z"
   },
   {
    "duration": 5794,
    "start_time": "2024-07-18T11:19:33.996Z"
   },
   {
    "duration": 467,
    "start_time": "2024-07-18T11:19:39.791Z"
   },
   {
    "duration": 376,
    "start_time": "2024-07-18T11:19:40.259Z"
   },
   {
    "duration": 657,
    "start_time": "2024-07-18T11:19:40.637Z"
   },
   {
    "duration": 503,
    "start_time": "2024-07-18T11:19:41.295Z"
   },
   {
    "duration": 4,
    "start_time": "2024-07-18T11:19:41.799Z"
   },
   {
    "duration": 5633,
    "start_time": "2024-07-18T11:19:41.812Z"
   },
   {
    "duration": 4,
    "start_time": "2024-07-18T11:19:47.447Z"
   },
   {
    "duration": 24508,
    "start_time": "2024-07-18T11:19:47.452Z"
   },
   {
    "duration": 0,
    "start_time": "2024-07-18T11:20:11.961Z"
   },
   {
    "duration": 5648,
    "start_time": "2024-07-18T11:21:05.817Z"
   },
   {
    "duration": 21,
    "start_time": "2024-07-18T11:22:19.829Z"
   },
   {
    "duration": 15,
    "start_time": "2024-07-18T11:23:21.904Z"
   },
   {
    "duration": 16,
    "start_time": "2024-07-18T11:23:42.238Z"
   },
   {
    "duration": 5346,
    "start_time": "2024-07-18T11:23:53.735Z"
   },
   {
    "duration": 17,
    "start_time": "2024-07-18T11:26:26.369Z"
   },
   {
    "duration": 15,
    "start_time": "2024-07-18T11:26:40.732Z"
   },
   {
    "duration": 212521,
    "start_time": "2024-07-18T11:26:47.096Z"
   },
   {
    "duration": 4,
    "start_time": "2024-07-18T11:30:52.996Z"
   },
   {
    "duration": 19,
    "start_time": "2024-07-18T11:30:53.002Z"
   },
   {
    "duration": 5,
    "start_time": "2024-07-18T11:30:53.022Z"
   },
   {
    "duration": 8,
    "start_time": "2024-07-18T11:30:53.028Z"
   },
   {
    "duration": 23,
    "start_time": "2024-07-18T11:30:53.038Z"
   },
   {
    "duration": 9,
    "start_time": "2024-07-18T11:30:53.062Z"
   },
   {
    "duration": 7,
    "start_time": "2024-07-18T11:30:53.072Z"
   },
   {
    "duration": 7,
    "start_time": "2024-07-18T11:30:53.080Z"
   },
   {
    "duration": 7,
    "start_time": "2024-07-18T11:30:53.088Z"
   },
   {
    "duration": 811,
    "start_time": "2024-07-18T11:30:53.096Z"
   },
   {
    "duration": 180,
    "start_time": "2024-07-18T11:30:53.909Z"
   },
   {
    "duration": 4,
    "start_time": "2024-07-18T11:30:54.091Z"
   },
   {
    "duration": 193,
    "start_time": "2024-07-18T11:30:54.096Z"
   },
   {
    "duration": 23,
    "start_time": "2024-07-18T11:30:54.290Z"
   },
   {
    "duration": 35,
    "start_time": "2024-07-18T11:30:54.314Z"
   },
   {
    "duration": 38,
    "start_time": "2024-07-18T11:30:54.350Z"
   },
   {
    "duration": 81,
    "start_time": "2024-07-18T11:30:54.390Z"
   },
   {
    "duration": 6,
    "start_time": "2024-07-18T11:30:54.472Z"
   },
   {
    "duration": 69,
    "start_time": "2024-07-18T11:30:54.479Z"
   },
   {
    "duration": 63,
    "start_time": "2024-07-18T11:30:54.549Z"
   },
   {
    "duration": 169,
    "start_time": "2024-07-18T11:30:54.613Z"
   },
   {
    "duration": 187,
    "start_time": "2024-07-18T11:30:54.783Z"
   },
   {
    "duration": 2,
    "start_time": "2024-07-18T11:30:54.972Z"
   },
   {
    "duration": 12,
    "start_time": "2024-07-18T11:30:54.975Z"
   },
   {
    "duration": 27,
    "start_time": "2024-07-18T11:30:54.988Z"
   },
   {
    "duration": 68969,
    "start_time": "2024-07-18T11:30:55.016Z"
   },
   {
    "duration": 35,
    "start_time": "2024-07-18T11:32:03.986Z"
   },
   {
    "duration": 5761,
    "start_time": "2024-07-18T11:32:04.022Z"
   },
   {
    "duration": 484,
    "start_time": "2024-07-18T11:32:09.786Z"
   },
   {
    "duration": 373,
    "start_time": "2024-07-18T11:32:10.272Z"
   },
   {
    "duration": 624,
    "start_time": "2024-07-18T11:32:10.647Z"
   },
   {
    "duration": 479,
    "start_time": "2024-07-18T11:32:11.272Z"
   },
   {
    "duration": 4,
    "start_time": "2024-07-18T11:32:11.752Z"
   },
   {
    "duration": 5692,
    "start_time": "2024-07-18T11:32:11.757Z"
   },
   {
    "duration": 29,
    "start_time": "2024-07-18T11:32:17.450Z"
   },
   {
    "duration": 114134,
    "start_time": "2024-07-18T11:32:17.481Z"
   },
   {
    "duration": 0,
    "start_time": "2024-07-18T11:34:11.616Z"
   },
   {
    "duration": 152661,
    "start_time": "2024-07-18T11:36:16.053Z"
   },
   {
    "duration": 124,
    "start_time": "2024-07-18T11:38:51.715Z"
   },
   {
    "duration": 13,
    "start_time": "2024-07-18T11:39:35.010Z"
   },
   {
    "duration": 15,
    "start_time": "2024-07-18T11:39:40.805Z"
   },
   {
    "duration": 82,
    "start_time": "2024-07-18T11:39:47.206Z"
   },
   {
    "duration": 94,
    "start_time": "2024-07-18T11:39:52.794Z"
   },
   {
    "duration": 127833,
    "start_time": "2024-07-18T11:40:00.980Z"
   },
   {
    "duration": 1974,
    "start_time": "2024-07-18T11:51:13.992Z"
   },
   {
    "duration": 4,
    "start_time": "2024-07-18T11:51:15.968Z"
   },
   {
    "duration": 12,
    "start_time": "2024-07-18T11:51:15.974Z"
   },
   {
    "duration": 20,
    "start_time": "2024-07-18T11:51:15.987Z"
   },
   {
    "duration": 14,
    "start_time": "2024-07-18T11:51:16.009Z"
   },
   {
    "duration": 9,
    "start_time": "2024-07-18T11:51:16.024Z"
   },
   {
    "duration": 11,
    "start_time": "2024-07-18T11:51:16.034Z"
   },
   {
    "duration": 25,
    "start_time": "2024-07-18T11:51:16.046Z"
   },
   {
    "duration": 22,
    "start_time": "2024-07-18T11:51:16.072Z"
   },
   {
    "duration": 3433,
    "start_time": "2024-07-18T11:51:16.095Z"
   },
   {
    "duration": 269,
    "start_time": "2024-07-18T11:51:19.529Z"
   },
   {
    "duration": 12,
    "start_time": "2024-07-18T11:51:19.800Z"
   },
   {
    "duration": 126,
    "start_time": "2024-07-18T11:51:19.814Z"
   },
   {
    "duration": 18,
    "start_time": "2024-07-18T11:51:19.943Z"
   },
   {
    "duration": 33,
    "start_time": "2024-07-18T11:51:19.962Z"
   },
   {
    "duration": 38,
    "start_time": "2024-07-18T11:51:19.996Z"
   },
   {
    "duration": 88,
    "start_time": "2024-07-18T11:51:20.036Z"
   },
   {
    "duration": 3,
    "start_time": "2024-07-18T11:51:20.125Z"
   },
   {
    "duration": 53,
    "start_time": "2024-07-18T11:51:20.130Z"
   },
   {
    "duration": 9,
    "start_time": "2024-07-18T11:51:20.185Z"
   },
   {
    "duration": 200,
    "start_time": "2024-07-18T11:51:20.196Z"
   },
   {
    "duration": 214,
    "start_time": "2024-07-18T11:51:20.398Z"
   },
   {
    "duration": 4,
    "start_time": "2024-07-18T11:51:20.613Z"
   },
   {
    "duration": 55,
    "start_time": "2024-07-18T11:51:20.618Z"
   },
   {
    "duration": 48,
    "start_time": "2024-07-18T11:51:20.675Z"
   },
   {
    "duration": 15,
    "start_time": "2024-07-18T11:51:20.724Z"
   },
   {
    "duration": 36,
    "start_time": "2024-07-18T11:51:20.740Z"
   },
   {
    "duration": 4696,
    "start_time": "2024-07-18T11:51:20.778Z"
   },
   {
    "duration": 477,
    "start_time": "2024-07-18T11:51:25.475Z"
   },
   {
    "duration": 405,
    "start_time": "2024-07-18T11:51:25.953Z"
   },
   {
    "duration": 566,
    "start_time": "2024-07-18T11:51:26.359Z"
   },
   {
    "duration": 516,
    "start_time": "2024-07-18T11:51:26.927Z"
   },
   {
    "duration": 4,
    "start_time": "2024-07-18T11:51:27.445Z"
   },
   {
    "duration": 5771,
    "start_time": "2024-07-18T11:51:27.451Z"
   },
   {
    "duration": 16,
    "start_time": "2024-07-18T11:51:33.224Z"
   },
   {
    "duration": 13,
    "start_time": "2024-07-18T11:51:33.242Z"
   },
   {
    "duration": 107,
    "start_time": "2024-07-18T11:51:33.257Z"
   },
   {
    "duration": 118,
    "start_time": "2024-07-18T11:51:33.366Z"
   },
   {
    "duration": 4077,
    "start_time": "2024-07-18T11:51:33.486Z"
   },
   {
    "duration": 0,
    "start_time": "2024-07-18T11:51:37.565Z"
   },
   {
    "duration": 17,
    "start_time": "2024-07-18T11:52:15.911Z"
   },
   {
    "duration": 15,
    "start_time": "2024-07-18T11:52:36.968Z"
   },
   {
    "duration": 124453,
    "start_time": "2024-07-18T11:52:44.684Z"
   },
   {
    "duration": 68938,
    "start_time": "2024-07-18T11:54:56.283Z"
   },
   {
    "duration": 70642,
    "start_time": "2024-07-18T11:56:57.175Z"
   },
   {
    "duration": 70214,
    "start_time": "2024-07-18T11:59:47.302Z"
   },
   {
    "duration": 118736,
    "start_time": "2024-07-18T12:02:24.814Z"
   },
   {
    "duration": 47,
    "start_time": "2024-07-18T12:12:53.190Z"
   },
   {
    "duration": 119336,
    "start_time": "2024-07-18T12:14:18.504Z"
   },
   {
    "duration": 15,
    "start_time": "2024-07-18T12:17:38.505Z"
   },
   {
    "duration": 15,
    "start_time": "2024-07-18T12:18:44.047Z"
   },
   {
    "duration": 21,
    "start_time": "2024-07-18T12:19:18.324Z"
   },
   {
    "duration": 14,
    "start_time": "2024-07-18T12:24:23.582Z"
   },
   {
    "duration": 42,
    "start_time": "2024-07-18T12:25:46.044Z"
   },
   {
    "duration": 42,
    "start_time": "2024-07-18T12:25:58.261Z"
   },
   {
    "duration": 117461,
    "start_time": "2024-07-18T12:26:15.775Z"
   },
   {
    "duration": 356,
    "start_time": "2024-07-18T12:31:45.213Z"
   },
   {
    "duration": 15,
    "start_time": "2024-07-18T12:32:12.593Z"
   },
   {
    "duration": 117698,
    "start_time": "2024-07-18T12:35:53.218Z"
   },
   {
    "duration": 191704,
    "start_time": "2024-07-18T13:04:53.759Z"
   },
   {
    "duration": 42,
    "start_time": "2024-07-18T13:10:18.495Z"
   },
   {
    "duration": 120177,
    "start_time": "2024-07-18T13:10:35.218Z"
   },
   {
    "duration": 16,
    "start_time": "2024-07-18T13:13:44.456Z"
   },
   {
    "duration": 235356,
    "start_time": "2024-07-18T13:14:45.342Z"
   },
   {
    "duration": 561371,
    "start_time": "2024-07-18T13:22:16.760Z"
   },
   {
    "duration": 28,
    "start_time": "2024-07-18T13:35:24.059Z"
   },
   {
    "duration": 528023,
    "start_time": "2024-07-18T13:40:36.091Z"
   },
   {
    "duration": 28,
    "start_time": "2024-07-18T13:50:54.788Z"
   },
   {
    "duration": 109534,
    "start_time": "2024-07-18T13:55:07.279Z"
   },
   {
    "duration": 14,
    "start_time": "2024-07-18T13:57:54.235Z"
   },
   {
    "duration": 502133,
    "start_time": "2024-07-18T14:00:49.744Z"
   },
   {
    "duration": 27,
    "start_time": "2024-07-18T14:23:29.440Z"
   },
   {
    "duration": 129098,
    "start_time": "2024-07-18T14:30:19.080Z"
   },
   {
    "duration": 14,
    "start_time": "2024-07-18T14:40:53.547Z"
   },
   {
    "duration": 112,
    "start_time": "2024-07-18T14:54:34.888Z"
   },
   {
    "duration": 24,
    "start_time": "2024-07-18T14:54:43.688Z"
   },
   {
    "duration": 114,
    "start_time": "2024-07-18T14:54:52.568Z"
   },
   {
    "duration": 36663,
    "start_time": "2024-07-18T14:55:29.150Z"
   },
   {
    "duration": 139710,
    "start_time": "2024-07-18T14:56:57.410Z"
   },
   {
    "duration": 126,
    "start_time": "2024-07-18T15:00:47.255Z"
   },
   {
    "duration": 2653,
    "start_time": "2024-07-18T15:08:42.362Z"
   },
   {
    "duration": 1258,
    "start_time": "2024-07-18T15:09:26.030Z"
   },
   {
    "duration": 2,
    "start_time": "2024-07-18T15:09:27.290Z"
   },
   {
    "duration": 41,
    "start_time": "2024-07-18T15:09:27.293Z"
   },
   {
    "duration": 5,
    "start_time": "2024-07-18T15:09:27.336Z"
   },
   {
    "duration": 3,
    "start_time": "2024-07-18T15:09:27.343Z"
   },
   {
    "duration": 4,
    "start_time": "2024-07-18T15:09:27.347Z"
   },
   {
    "duration": 6,
    "start_time": "2024-07-18T15:09:27.352Z"
   },
   {
    "duration": 8,
    "start_time": "2024-07-18T15:09:27.360Z"
   },
   {
    "duration": 27,
    "start_time": "2024-07-18T15:09:27.370Z"
   },
   {
    "duration": 927,
    "start_time": "2024-07-18T15:09:27.398Z"
   },
   {
    "duration": 174,
    "start_time": "2024-07-18T15:09:28.326Z"
   },
   {
    "duration": 11,
    "start_time": "2024-07-18T15:09:28.501Z"
   },
   {
    "duration": 125,
    "start_time": "2024-07-18T15:09:28.513Z"
   },
   {
    "duration": 19,
    "start_time": "2024-07-18T15:09:28.641Z"
   },
   {
    "duration": 18,
    "start_time": "2024-07-18T15:09:28.661Z"
   },
   {
    "duration": 46,
    "start_time": "2024-07-18T15:09:28.681Z"
   },
   {
    "duration": 114,
    "start_time": "2024-07-18T15:09:28.728Z"
   },
   {
    "duration": 2,
    "start_time": "2024-07-18T15:09:28.843Z"
   },
   {
    "duration": 33,
    "start_time": "2024-07-18T15:09:28.847Z"
   },
   {
    "duration": 11,
    "start_time": "2024-07-18T15:09:28.882Z"
   },
   {
    "duration": 238,
    "start_time": "2024-07-18T15:09:28.895Z"
   },
   {
    "duration": 216,
    "start_time": "2024-07-18T15:09:29.135Z"
   },
   {
    "duration": 2,
    "start_time": "2024-07-18T15:09:29.353Z"
   },
   {
    "duration": 43,
    "start_time": "2024-07-18T15:09:29.357Z"
   },
   {
    "duration": 66,
    "start_time": "2024-07-18T15:09:29.401Z"
   },
   {
    "duration": 2,
    "start_time": "2024-07-18T15:09:29.468Z"
   },
   {
    "duration": 33,
    "start_time": "2024-07-18T15:09:29.471Z"
   },
   {
    "duration": 4566,
    "start_time": "2024-07-18T15:09:29.505Z"
   },
   {
    "duration": 471,
    "start_time": "2024-07-18T15:09:34.072Z"
   },
   {
    "duration": 391,
    "start_time": "2024-07-18T15:09:34.544Z"
   },
   {
    "duration": 588,
    "start_time": "2024-07-18T15:09:34.936Z"
   },
   {
    "duration": 563,
    "start_time": "2024-07-18T15:09:35.526Z"
   },
   {
    "duration": 3,
    "start_time": "2024-07-18T15:09:36.091Z"
   },
   {
    "duration": 5611,
    "start_time": "2024-07-18T15:09:36.095Z"
   },
   {
    "duration": 3,
    "start_time": "2024-07-18T15:09:41.707Z"
   },
   {
    "duration": 16,
    "start_time": "2024-07-18T15:09:41.711Z"
   },
   {
    "duration": 107,
    "start_time": "2024-07-18T15:09:41.728Z"
   },
   {
    "duration": 114,
    "start_time": "2024-07-18T15:09:41.836Z"
   },
   {
    "duration": 15,
    "start_time": "2024-07-18T15:09:41.951Z"
   },
   {
    "duration": 231,
    "start_time": "2024-07-18T15:09:54.826Z"
   },
   {
    "duration": 4,
    "start_time": "2024-07-18T15:13:51.236Z"
   },
   {
    "duration": 44007,
    "start_time": "2024-07-18T15:15:42.430Z"
   },
   {
    "duration": 12,
    "start_time": "2024-07-18T15:17:01.054Z"
   },
   {
    "duration": 679814,
    "start_time": "2024-07-18T15:20:32.431Z"
   },
   {
    "duration": 24,
    "start_time": "2024-07-18T15:38:02.317Z"
   },
   {
    "duration": 217490,
    "start_time": "2024-07-18T15:46:45.535Z"
   },
   {
    "duration": 107,
    "start_time": "2024-07-18T15:53:41.194Z"
   },
   {
    "duration": 20225,
    "start_time": "2024-07-18T15:53:58.230Z"
   },
   {
    "duration": 89449,
    "start_time": "2024-07-18T15:54:24.868Z"
   },
   {
    "duration": 20,
    "start_time": "2024-07-18T16:04:28.308Z"
   },
   {
    "duration": 141,
    "start_time": "2024-07-18T16:07:39.783Z"
   },
   {
    "duration": 142,
    "start_time": "2024-07-18T16:11:33.971Z"
   },
   {
    "duration": 47001,
    "start_time": "2024-07-18T16:12:20.534Z"
   },
   {
    "duration": 143,
    "start_time": "2024-07-18T16:14:12.796Z"
   },
   {
    "duration": 125,
    "start_time": "2024-07-18T16:14:25.777Z"
   },
   {
    "duration": 146,
    "start_time": "2024-07-18T16:16:37.651Z"
   },
   {
    "duration": 2721,
    "start_time": "2024-07-18T16:20:27.360Z"
   },
   {
    "duration": 1239,
    "start_time": "2024-07-18T16:21:24.710Z"
   },
   {
    "duration": 3,
    "start_time": "2024-07-18T16:21:25.951Z"
   },
   {
    "duration": 23,
    "start_time": "2024-07-18T16:21:25.955Z"
   },
   {
    "duration": 6,
    "start_time": "2024-07-18T16:21:25.979Z"
   },
   {
    "duration": 3,
    "start_time": "2024-07-18T16:21:25.987Z"
   },
   {
    "duration": 8,
    "start_time": "2024-07-18T16:21:25.991Z"
   },
   {
    "duration": 6,
    "start_time": "2024-07-18T16:21:26.000Z"
   },
   {
    "duration": 83,
    "start_time": "2024-07-18T16:21:26.007Z"
   },
   {
    "duration": 13,
    "start_time": "2024-07-18T16:21:26.092Z"
   },
   {
    "duration": 967,
    "start_time": "2024-07-18T16:21:26.107Z"
   },
   {
    "duration": 218,
    "start_time": "2024-07-18T16:21:27.076Z"
   },
   {
    "duration": 4,
    "start_time": "2024-07-18T16:21:27.296Z"
   },
   {
    "duration": 134,
    "start_time": "2024-07-18T16:21:27.301Z"
   },
   {
    "duration": 21,
    "start_time": "2024-07-18T16:21:27.437Z"
   },
   {
    "duration": 13,
    "start_time": "2024-07-18T16:21:27.459Z"
   },
   {
    "duration": 111,
    "start_time": "2024-07-18T16:21:27.473Z"
   },
   {
    "duration": 79,
    "start_time": "2024-07-18T16:21:27.586Z"
   },
   {
    "duration": 2,
    "start_time": "2024-07-18T16:21:27.667Z"
   },
   {
    "duration": 48,
    "start_time": "2024-07-18T16:21:27.670Z"
   },
   {
    "duration": 9,
    "start_time": "2024-07-18T16:21:27.719Z"
   },
   {
    "duration": 215,
    "start_time": "2024-07-18T16:21:27.729Z"
   },
   {
    "duration": 412,
    "start_time": "2024-07-18T16:21:27.946Z"
   },
   {
    "duration": 3,
    "start_time": "2024-07-18T16:21:28.412Z"
   },
   {
    "duration": 17,
    "start_time": "2024-07-18T16:21:28.417Z"
   },
   {
    "duration": 24,
    "start_time": "2024-07-18T16:21:28.435Z"
   },
   {
    "duration": 52,
    "start_time": "2024-07-18T16:21:28.461Z"
   },
   {
    "duration": 28,
    "start_time": "2024-07-18T16:21:28.515Z"
   },
   {
    "duration": 5009,
    "start_time": "2024-07-18T16:21:28.545Z"
   },
   {
    "duration": 487,
    "start_time": "2024-07-18T16:21:33.555Z"
   },
   {
    "duration": 392,
    "start_time": "2024-07-18T16:21:34.043Z"
   },
   {
    "duration": 579,
    "start_time": "2024-07-18T16:21:34.437Z"
   },
   {
    "duration": 569,
    "start_time": "2024-07-18T16:21:35.018Z"
   },
   {
    "duration": 3,
    "start_time": "2024-07-18T16:21:35.590Z"
   },
   {
    "duration": 5675,
    "start_time": "2024-07-18T16:21:35.595Z"
   },
   {
    "duration": 2,
    "start_time": "2024-07-18T16:21:41.272Z"
   },
   {
    "duration": 19,
    "start_time": "2024-07-18T16:21:41.275Z"
   },
   {
    "duration": 108,
    "start_time": "2024-07-18T16:21:41.296Z"
   },
   {
    "duration": 114,
    "start_time": "2024-07-18T16:21:41.406Z"
   },
   {
    "duration": 15,
    "start_time": "2024-07-18T16:21:41.521Z"
   },
   {
    "duration": 346,
    "start_time": "2024-07-18T16:21:41.538Z"
   },
   {
    "duration": 8,
    "start_time": "2024-07-18T16:21:41.887Z"
   },
   {
    "duration": 0,
    "start_time": "2024-07-18T16:21:41.897Z"
   },
   {
    "duration": 0,
    "start_time": "2024-07-18T16:21:41.898Z"
   },
   {
    "duration": 0,
    "start_time": "2024-07-18T16:21:41.898Z"
   },
   {
    "duration": 0,
    "start_time": "2024-07-18T16:21:41.899Z"
   },
   {
    "duration": 5,
    "start_time": "2024-07-18T16:23:10.937Z"
   },
   {
    "duration": 168,
    "start_time": "2024-07-18T16:23:20.970Z"
   },
   {
    "duration": 147,
    "start_time": "2024-07-18T16:24:32.169Z"
   },
   {
    "duration": 2571,
    "start_time": "2024-07-18T16:26:39.123Z"
   },
   {
    "duration": 6,
    "start_time": "2024-07-18T16:26:45.136Z"
   },
   {
    "duration": 158,
    "start_time": "2024-07-18T16:27:06.189Z"
   },
   {
    "duration": 138,
    "start_time": "2024-07-18T16:28:41.379Z"
   },
   {
    "duration": 1234,
    "start_time": "2024-07-18T16:29:07.561Z"
   },
   {
    "duration": 3,
    "start_time": "2024-07-18T16:29:08.796Z"
   },
   {
    "duration": 11,
    "start_time": "2024-07-18T16:29:08.801Z"
   },
   {
    "duration": 7,
    "start_time": "2024-07-18T16:29:08.814Z"
   },
   {
    "duration": 3,
    "start_time": "2024-07-18T16:29:08.823Z"
   },
   {
    "duration": 4,
    "start_time": "2024-07-18T16:29:08.827Z"
   },
   {
    "duration": 7,
    "start_time": "2024-07-18T16:29:08.832Z"
   },
   {
    "duration": 10,
    "start_time": "2024-07-18T16:29:08.840Z"
   },
   {
    "duration": 10,
    "start_time": "2024-07-18T16:29:08.851Z"
   },
   {
    "duration": 1256,
    "start_time": "2024-07-18T16:29:08.862Z"
   },
   {
    "duration": 394,
    "start_time": "2024-07-18T16:29:10.119Z"
   },
   {
    "duration": 4,
    "start_time": "2024-07-18T16:29:10.514Z"
   },
   {
    "duration": 219,
    "start_time": "2024-07-18T16:29:10.520Z"
   },
   {
    "duration": 72,
    "start_time": "2024-07-18T16:29:10.741Z"
   },
   {
    "duration": 10,
    "start_time": "2024-07-18T16:29:10.814Z"
   },
   {
    "duration": 41,
    "start_time": "2024-07-18T16:29:10.826Z"
   },
   {
    "duration": 109,
    "start_time": "2024-07-18T16:29:10.869Z"
   },
   {
    "duration": 2,
    "start_time": "2024-07-18T16:29:10.980Z"
   },
   {
    "duration": 64,
    "start_time": "2024-07-18T16:29:10.983Z"
   },
   {
    "duration": 9,
    "start_time": "2024-07-18T16:29:11.048Z"
   },
   {
    "duration": 222,
    "start_time": "2024-07-18T16:29:11.058Z"
   },
   {
    "duration": 220,
    "start_time": "2024-07-18T16:29:11.282Z"
   },
   {
    "duration": 9,
    "start_time": "2024-07-18T16:29:11.503Z"
   },
   {
    "duration": 58,
    "start_time": "2024-07-18T16:29:11.513Z"
   },
   {
    "duration": 27,
    "start_time": "2024-07-18T16:29:11.573Z"
   },
   {
    "duration": 2,
    "start_time": "2024-07-18T16:29:11.601Z"
   },
   {
    "duration": 29,
    "start_time": "2024-07-18T16:29:11.604Z"
   },
   {
    "duration": 4749,
    "start_time": "2024-07-18T16:29:11.634Z"
   },
   {
    "duration": 455,
    "start_time": "2024-07-18T16:29:16.385Z"
   },
   {
    "duration": 401,
    "start_time": "2024-07-18T16:29:16.841Z"
   },
   {
    "duration": 602,
    "start_time": "2024-07-18T16:29:17.243Z"
   },
   {
    "duration": 554,
    "start_time": "2024-07-18T16:29:17.846Z"
   },
   {
    "duration": 10,
    "start_time": "2024-07-18T16:29:18.402Z"
   },
   {
    "duration": 5496,
    "start_time": "2024-07-18T16:29:18.414Z"
   },
   {
    "duration": 2,
    "start_time": "2024-07-18T16:29:23.912Z"
   },
   {
    "duration": 35,
    "start_time": "2024-07-18T16:29:23.915Z"
   },
   {
    "duration": 106,
    "start_time": "2024-07-18T16:29:23.951Z"
   },
   {
    "duration": 118,
    "start_time": "2024-07-18T16:29:24.058Z"
   },
   {
    "duration": 15,
    "start_time": "2024-07-18T16:29:24.177Z"
   },
   {
    "duration": 249,
    "start_time": "2024-07-18T16:29:24.193Z"
   },
   {
    "duration": 9,
    "start_time": "2024-07-18T16:29:24.446Z"
   },
   {
    "duration": 0,
    "start_time": "2024-07-18T16:29:24.456Z"
   },
   {
    "duration": 0,
    "start_time": "2024-07-18T16:29:24.457Z"
   },
   {
    "duration": 0,
    "start_time": "2024-07-18T16:29:24.458Z"
   },
   {
    "duration": 0,
    "start_time": "2024-07-18T16:29:24.460Z"
   },
   {
    "duration": 168,
    "start_time": "2024-07-18T16:30:54.118Z"
   },
   {
    "duration": 161,
    "start_time": "2024-07-18T16:33:00.005Z"
   },
   {
    "duration": 5,
    "start_time": "2024-07-18T16:48:05.273Z"
   },
   {
    "duration": 322,
    "start_time": "2024-07-18T16:49:53.583Z"
   },
   {
    "duration": 49748,
    "start_time": "2024-07-18T16:51:28.356Z"
   },
   {
    "duration": 143,
    "start_time": "2024-07-18T16:52:57.157Z"
   },
   {
    "duration": 39937,
    "start_time": "2024-07-18T16:53:54.571Z"
   },
   {
    "duration": 1122370,
    "start_time": "2024-07-18T16:55:24.695Z"
   },
   {
    "duration": 14,
    "start_time": "2024-07-18T17:25:58.892Z"
   },
   {
    "duration": 5,
    "start_time": "2024-07-18T17:26:40.916Z"
   },
   {
    "duration": 9,
    "start_time": "2024-07-18T17:26:40.923Z"
   },
   {
    "duration": 6,
    "start_time": "2024-07-18T17:26:40.933Z"
   },
   {
    "duration": 3,
    "start_time": "2024-07-18T17:26:40.969Z"
   },
   {
    "duration": 5,
    "start_time": "2024-07-18T17:26:40.973Z"
   },
   {
    "duration": 7,
    "start_time": "2024-07-18T17:26:40.980Z"
   },
   {
    "duration": 7,
    "start_time": "2024-07-18T17:26:40.988Z"
   },
   {
    "duration": 17,
    "start_time": "2024-07-18T17:26:40.997Z"
   },
   {
    "duration": 7,
    "start_time": "2024-07-18T17:26:41.031Z"
   },
   {
    "duration": 879,
    "start_time": "2024-07-18T17:26:41.040Z"
   },
   {
    "duration": 196,
    "start_time": "2024-07-18T17:26:41.920Z"
   },
   {
    "duration": 5,
    "start_time": "2024-07-18T17:26:42.118Z"
   },
   {
    "duration": 129,
    "start_time": "2024-07-18T17:26:42.125Z"
   },
   {
    "duration": 18,
    "start_time": "2024-07-18T17:26:42.256Z"
   },
   {
    "duration": 11,
    "start_time": "2024-07-18T17:26:42.275Z"
   },
   {
    "duration": 51,
    "start_time": "2024-07-18T17:26:42.288Z"
   },
   {
    "duration": 88,
    "start_time": "2024-07-18T17:26:42.341Z"
   },
   {
    "duration": 6,
    "start_time": "2024-07-18T17:26:42.431Z"
   },
   {
    "duration": 17,
    "start_time": "2024-07-18T17:26:42.438Z"
   },
   {
    "duration": 9,
    "start_time": "2024-07-18T17:26:42.457Z"
   },
   {
    "duration": 190,
    "start_time": "2024-07-18T17:26:42.467Z"
   },
   {
    "duration": 199,
    "start_time": "2024-07-18T17:26:42.659Z"
   },
   {
    "duration": 3,
    "start_time": "2024-07-18T17:26:42.859Z"
   },
   {
    "duration": 23,
    "start_time": "2024-07-18T17:26:42.864Z"
   },
   {
    "duration": 48,
    "start_time": "2024-07-18T17:26:42.889Z"
   },
   {
    "duration": 8126,
    "start_time": "2024-07-18T17:26:42.938Z"
   },
   {
    "duration": 489,
    "start_time": "2024-07-18T17:26:51.066Z"
   },
   {
    "duration": 389,
    "start_time": "2024-07-18T17:26:51.556Z"
   },
   {
    "duration": 618,
    "start_time": "2024-07-18T17:26:51.946Z"
   },
   {
    "duration": 448,
    "start_time": "2024-07-18T17:26:52.565Z"
   },
   {
    "duration": 4,
    "start_time": "2024-07-18T17:26:53.014Z"
   },
   {
    "duration": 5505,
    "start_time": "2024-07-18T17:26:53.020Z"
   },
   {
    "duration": 3,
    "start_time": "2024-07-18T17:26:58.526Z"
   },
   {
    "duration": 11,
    "start_time": "2024-07-18T17:26:58.531Z"
   },
   {
    "duration": 123,
    "start_time": "2024-07-18T17:26:58.544Z"
   },
   {
    "duration": 123,
    "start_time": "2024-07-18T17:26:58.669Z"
   },
   {
    "duration": 21,
    "start_time": "2024-07-18T17:26:58.793Z"
   },
   {
    "duration": 210219,
    "start_time": "2024-07-18T17:26:58.815Z"
   },
   {
    "duration": 11,
    "start_time": "2024-07-18T17:30:29.035Z"
   },
   {
    "duration": 17,
    "start_time": "2024-07-18T17:30:29.047Z"
   },
   {
    "duration": 8,
    "start_time": "2024-07-18T17:30:29.066Z"
   },
   {
    "duration": 88,
    "start_time": "2024-07-18T17:30:29.075Z"
   },
   {
    "duration": 0,
    "start_time": "2024-07-18T17:30:29.164Z"
   },
   {
    "duration": 141343,
    "start_time": "2024-07-18T17:41:14.264Z"
   },
   {
    "duration": 175261,
    "start_time": "2024-07-18T17:47:05.251Z"
   },
   {
    "duration": 10597,
    "start_time": "2024-07-18T18:04:41.257Z"
   },
   {
    "duration": 314819,
    "start_time": "2024-07-18T18:04:57.893Z"
   },
   {
    "duration": 17,
    "start_time": "2024-07-18T18:11:58.961Z"
   },
   {
    "duration": 1661,
    "start_time": "2024-07-18T18:35:10.187Z"
   },
   {
    "duration": 1568,
    "start_time": "2024-07-18T18:38:48.665Z"
   },
   {
    "duration": 104,
    "start_time": "2024-07-18T18:49:42.779Z"
   },
   {
    "duration": 5,
    "start_time": "2024-07-18T21:21:46.695Z"
   },
   {
    "duration": 11,
    "start_time": "2024-07-18T21:21:46.702Z"
   },
   {
    "duration": 4,
    "start_time": "2024-07-18T21:21:46.714Z"
   },
   {
    "duration": 4,
    "start_time": "2024-07-18T21:21:46.719Z"
   },
   {
    "duration": 3,
    "start_time": "2024-07-18T21:21:46.725Z"
   },
   {
    "duration": 5,
    "start_time": "2024-07-18T21:21:46.729Z"
   },
   {
    "duration": 11,
    "start_time": "2024-07-18T21:21:46.735Z"
   },
   {
    "duration": 6,
    "start_time": "2024-07-18T21:21:46.748Z"
   },
   {
    "duration": 11,
    "start_time": "2024-07-18T21:21:46.755Z"
   },
   {
    "duration": 925,
    "start_time": "2024-07-18T21:21:46.767Z"
   },
   {
    "duration": 183,
    "start_time": "2024-07-18T21:21:47.694Z"
   },
   {
    "duration": 5,
    "start_time": "2024-07-18T21:21:47.879Z"
   },
   {
    "duration": 131,
    "start_time": "2024-07-18T21:21:47.886Z"
   },
   {
    "duration": 18,
    "start_time": "2024-07-18T21:21:48.021Z"
   },
   {
    "duration": 17,
    "start_time": "2024-07-18T21:21:48.042Z"
   },
   {
    "duration": 38,
    "start_time": "2024-07-18T21:21:48.061Z"
   },
   {
    "duration": 89,
    "start_time": "2024-07-18T21:21:48.101Z"
   },
   {
    "duration": 6,
    "start_time": "2024-07-18T21:21:48.192Z"
   },
   {
    "duration": 28,
    "start_time": "2024-07-18T21:21:48.199Z"
   },
   {
    "duration": 179,
    "start_time": "2024-07-18T21:21:48.228Z"
   },
   {
    "duration": 186,
    "start_time": "2024-07-18T21:21:48.408Z"
   },
   {
    "duration": 3,
    "start_time": "2024-07-18T21:21:48.595Z"
   },
   {
    "duration": 26,
    "start_time": "2024-07-18T21:21:48.599Z"
   },
   {
    "duration": 27,
    "start_time": "2024-07-18T21:21:48.626Z"
   },
   {
    "duration": 7719,
    "start_time": "2024-07-18T21:21:48.654Z"
   },
   {
    "duration": 539,
    "start_time": "2024-07-18T21:21:56.374Z"
   },
   {
    "duration": 399,
    "start_time": "2024-07-18T21:21:56.915Z"
   },
   {
    "duration": 920,
    "start_time": "2024-07-18T21:21:57.315Z"
   },
   {
    "duration": 684,
    "start_time": "2024-07-18T21:21:58.236Z"
   },
   {
    "duration": 4,
    "start_time": "2024-07-18T21:21:58.921Z"
   },
   {
    "duration": 5401,
    "start_time": "2024-07-18T21:21:58.926Z"
   },
   {
    "duration": 10,
    "start_time": "2024-07-18T21:22:04.328Z"
   },
   {
    "duration": 92,
    "start_time": "2024-07-18T21:22:04.339Z"
   },
   {
    "duration": 97,
    "start_time": "2024-07-18T21:22:04.433Z"
   },
   {
    "duration": 14,
    "start_time": "2024-07-18T21:22:04.531Z"
   },
   {
    "duration": 280884,
    "start_time": "2024-07-18T21:22:04.546Z"
   },
   {
    "duration": 96,
    "start_time": "2024-07-18T21:26:45.432Z"
   },
   {
    "duration": 1338,
    "start_time": "2024-07-18T21:26:45.530Z"
   },
   {
    "duration": 16,
    "start_time": "2024-07-18T21:27:26.758Z"
   },
   {
    "duration": 6,
    "start_time": "2024-07-18T21:34:51.078Z"
   },
   {
    "duration": 13,
    "start_time": "2024-07-18T21:34:51.085Z"
   },
   {
    "duration": 15,
    "start_time": "2024-07-18T21:34:51.100Z"
   },
   {
    "duration": 10,
    "start_time": "2024-07-18T21:34:51.117Z"
   },
   {
    "duration": 15,
    "start_time": "2024-07-18T21:34:51.129Z"
   },
   {
    "duration": 9,
    "start_time": "2024-07-18T21:34:51.145Z"
   },
   {
    "duration": 18,
    "start_time": "2024-07-18T21:34:51.156Z"
   },
   {
    "duration": 17,
    "start_time": "2024-07-18T21:34:51.175Z"
   },
   {
    "duration": 15,
    "start_time": "2024-07-18T21:34:51.193Z"
   },
   {
    "duration": 815,
    "start_time": "2024-07-18T21:34:51.210Z"
   },
   {
    "duration": 170,
    "start_time": "2024-07-18T21:34:52.026Z"
   },
   {
    "duration": 4,
    "start_time": "2024-07-18T21:34:52.197Z"
   },
   {
    "duration": 121,
    "start_time": "2024-07-18T21:34:52.211Z"
   },
   {
    "duration": 20,
    "start_time": "2024-07-18T21:34:52.335Z"
   },
   {
    "duration": 42,
    "start_time": "2024-07-18T21:34:52.356Z"
   },
   {
    "duration": 39,
    "start_time": "2024-07-18T21:34:52.399Z"
   },
   {
    "duration": 123,
    "start_time": "2024-07-18T21:34:52.439Z"
   },
   {
    "duration": 8,
    "start_time": "2024-07-18T21:34:52.563Z"
   },
   {
    "duration": 68,
    "start_time": "2024-07-18T21:34:52.573Z"
   },
   {
    "duration": 185,
    "start_time": "2024-07-18T21:34:52.643Z"
   },
   {
    "duration": 191,
    "start_time": "2024-07-18T21:34:52.829Z"
   },
   {
    "duration": 3,
    "start_time": "2024-07-18T21:34:53.022Z"
   },
   {
    "duration": 140,
    "start_time": "2024-07-18T21:34:53.026Z"
   },
   {
    "duration": 27,
    "start_time": "2024-07-18T21:34:53.167Z"
   },
   {
    "duration": 8201,
    "start_time": "2024-07-18T21:34:53.195Z"
   },
   {
    "duration": 450,
    "start_time": "2024-07-18T21:35:01.397Z"
   },
   {
    "duration": 374,
    "start_time": "2024-07-18T21:35:01.848Z"
   },
   {
    "duration": 535,
    "start_time": "2024-07-18T21:35:02.223Z"
   },
   {
    "duration": 511,
    "start_time": "2024-07-18T21:35:02.760Z"
   },
   {
    "duration": 3,
    "start_time": "2024-07-18T21:35:03.272Z"
   },
   {
    "duration": 5498,
    "start_time": "2024-07-18T21:35:03.277Z"
   },
   {
    "duration": 14,
    "start_time": "2024-07-18T21:35:08.777Z"
   },
   {
    "duration": 2,
    "start_time": "2024-07-18T21:35:08.793Z"
   },
   {
    "duration": 117,
    "start_time": "2024-07-18T21:35:08.796Z"
   },
   {
    "duration": 117,
    "start_time": "2024-07-18T21:35:08.915Z"
   },
   {
    "duration": 16,
    "start_time": "2024-07-18T21:35:09.034Z"
   },
   {
    "duration": 317166,
    "start_time": "2024-07-18T21:35:09.052Z"
   },
   {
    "duration": 15,
    "start_time": "2024-07-18T21:40:26.220Z"
   },
   {
    "duration": 14,
    "start_time": "2024-07-18T21:40:26.237Z"
   },
   {
    "duration": 15263,
    "start_time": "2024-07-19T07:22:57.419Z"
   },
   {
    "duration": 1620,
    "start_time": "2024-07-19T07:23:12.684Z"
   },
   {
    "duration": 3,
    "start_time": "2024-07-19T07:23:14.306Z"
   },
   {
    "duration": 14,
    "start_time": "2024-07-19T07:23:14.310Z"
   },
   {
    "duration": 3,
    "start_time": "2024-07-19T07:23:14.327Z"
   },
   {
    "duration": 5,
    "start_time": "2024-07-19T07:23:14.332Z"
   },
   {
    "duration": 4,
    "start_time": "2024-07-19T07:23:14.339Z"
   },
   {
    "duration": 7,
    "start_time": "2024-07-19T07:23:14.346Z"
   },
   {
    "duration": 13,
    "start_time": "2024-07-19T07:23:14.355Z"
   },
   {
    "duration": 29,
    "start_time": "2024-07-19T07:23:14.370Z"
   },
   {
    "duration": 1369,
    "start_time": "2024-07-19T07:23:14.401Z"
   },
   {
    "duration": 201,
    "start_time": "2024-07-19T07:23:15.772Z"
   },
   {
    "duration": 10,
    "start_time": "2024-07-19T07:23:15.975Z"
   },
   {
    "duration": 147,
    "start_time": "2024-07-19T07:23:15.987Z"
   },
   {
    "duration": 23,
    "start_time": "2024-07-19T07:23:16.136Z"
   },
   {
    "duration": 28,
    "start_time": "2024-07-19T07:23:16.160Z"
   },
   {
    "duration": 45,
    "start_time": "2024-07-19T07:23:16.189Z"
   },
   {
    "duration": 137,
    "start_time": "2024-07-19T07:23:16.236Z"
   },
   {
    "duration": 3,
    "start_time": "2024-07-19T07:23:16.374Z"
   },
   {
    "duration": 43,
    "start_time": "2024-07-19T07:23:16.378Z"
   },
   {
    "duration": 225,
    "start_time": "2024-07-19T07:23:16.423Z"
   },
   {
    "duration": 249,
    "start_time": "2024-07-19T07:23:16.649Z"
   },
   {
    "duration": 3,
    "start_time": "2024-07-19T07:23:16.899Z"
   },
   {
    "duration": 122,
    "start_time": "2024-07-19T07:23:16.904Z"
   },
   {
    "duration": 38,
    "start_time": "2024-07-19T07:23:17.028Z"
   },
   {
    "duration": 8867,
    "start_time": "2024-07-19T07:23:17.068Z"
   },
   {
    "duration": 529,
    "start_time": "2024-07-19T07:23:25.936Z"
   },
   {
    "duration": 430,
    "start_time": "2024-07-19T07:23:26.466Z"
   },
   {
    "duration": 669,
    "start_time": "2024-07-19T07:23:26.898Z"
   },
   {
    "duration": 549,
    "start_time": "2024-07-19T07:23:27.569Z"
   },
   {
    "duration": 6745,
    "start_time": "2024-07-19T07:23:28.119Z"
   },
   {
    "duration": 15,
    "start_time": "2024-07-19T07:39:35.926Z"
   },
   {
    "duration": 105,
    "start_time": "2024-07-19T07:39:36.764Z"
   },
   {
    "duration": 133,
    "start_time": "2024-07-19T07:39:37.798Z"
   },
   {
    "duration": 16,
    "start_time": "2024-07-19T07:39:39.355Z"
   },
   {
    "duration": 25518,
    "start_time": "2024-07-19T07:40:02.646Z"
   },
   {
    "duration": 1441866,
    "start_time": "2024-07-19T07:40:31.623Z"
   },
   {
    "duration": 25,
    "start_time": "2024-07-19T08:27:17.584Z"
   },
   {
    "duration": 96265,
    "start_time": "2024-07-19T08:29:42.820Z"
   },
   {
    "duration": 438811,
    "start_time": "2024-07-19T08:33:39.474Z"
   },
   {
    "duration": 21,
    "start_time": "2024-07-19T08:42:02.801Z"
   },
   {
    "duration": 19,
    "start_time": "2024-07-19T08:45:51.517Z"
   },
   {
    "duration": 19,
    "start_time": "2024-07-19T08:50:40.412Z"
   },
   {
    "duration": 381282,
    "start_time": "2024-07-19T08:50:55.703Z"
   },
   {
    "duration": 1913,
    "start_time": "2024-07-19T09:00:57.291Z"
   },
   {
    "duration": 1946,
    "start_time": "2024-07-19T09:01:06.155Z"
   },
   {
    "duration": 1970,
    "start_time": "2024-07-19T09:01:50.423Z"
   },
   {
    "duration": 60,
    "start_time": "2024-07-19T09:02:09.347Z"
   },
   {
    "duration": 1880,
    "start_time": "2024-07-19T09:02:24.031Z"
   },
   {
    "duration": 1857,
    "start_time": "2024-07-19T09:03:11.742Z"
   },
   {
    "duration": 1979,
    "start_time": "2024-07-19T09:04:20.116Z"
   },
   {
    "duration": 20,
    "start_time": "2024-07-19T09:15:13.986Z"
   },
   {
    "duration": 4,
    "start_time": "2024-07-19T09:20:57.562Z"
   },
   {
    "duration": 12,
    "start_time": "2024-07-19T09:21:04.991Z"
   },
   {
    "duration": 18,
    "start_time": "2024-07-19T09:24:18.700Z"
   },
   {
    "duration": 293,
    "start_time": "2024-07-19T09:27:49.560Z"
   },
   {
    "duration": 15,
    "start_time": "2024-07-19T09:29:00.645Z"
   },
   {
    "duration": 20,
    "start_time": "2024-07-19T09:30:10.297Z"
   },
   {
    "duration": 59,
    "start_time": "2024-07-19T09:30:13.294Z"
   },
   {
    "duration": 14,
    "start_time": "2024-07-19T09:30:21.492Z"
   },
   {
    "duration": 11,
    "start_time": "2024-07-19T09:30:30.172Z"
   },
   {
    "duration": 17,
    "start_time": "2024-07-19T09:32:01.232Z"
   },
   {
    "duration": 41,
    "start_time": "2024-07-19T09:34:50.272Z"
   },
   {
    "duration": 8,
    "start_time": "2024-07-19T09:34:57.074Z"
   },
   {
    "duration": 15,
    "start_time": "2024-07-19T09:35:16.843Z"
   },
   {
    "duration": 18,
    "start_time": "2024-07-19T09:35:25.101Z"
   },
   {
    "duration": 19,
    "start_time": "2024-07-19T09:39:07.716Z"
   },
   {
    "duration": 21,
    "start_time": "2024-07-19T09:39:38.806Z"
   },
   {
    "duration": 51,
    "start_time": "2024-07-19T09:40:03.262Z"
   },
   {
    "duration": 19,
    "start_time": "2024-07-19T09:40:17.354Z"
   },
   {
    "duration": 27,
    "start_time": "2024-07-19T09:40:50.172Z"
   },
   {
    "duration": 22,
    "start_time": "2024-07-19T09:41:00.221Z"
   },
   {
    "duration": 19,
    "start_time": "2024-07-19T09:42:43.381Z"
   },
   {
    "duration": 23,
    "start_time": "2024-07-19T10:05:45.993Z"
   },
   {
    "duration": 28,
    "start_time": "2024-07-19T10:06:10.482Z"
   },
   {
    "duration": 30,
    "start_time": "2024-07-19T10:06:31.385Z"
   },
   {
    "duration": 18,
    "start_time": "2024-07-19T10:06:49.461Z"
   },
   {
    "duration": 20,
    "start_time": "2024-07-19T10:06:49.952Z"
   },
   {
    "duration": 31,
    "start_time": "2024-07-19T10:07:18.114Z"
   },
   {
    "duration": 20,
    "start_time": "2024-07-19T10:07:38.309Z"
   },
   {
    "duration": 21,
    "start_time": "2024-07-19T10:08:10.035Z"
   },
   {
    "duration": 11126,
    "start_time": "2024-07-19T11:34:34.358Z"
   },
   {
    "duration": 1481,
    "start_time": "2024-07-19T11:34:45.490Z"
   },
   {
    "duration": 3,
    "start_time": "2024-07-19T11:34:46.972Z"
   },
   {
    "duration": 13,
    "start_time": "2024-07-19T11:34:46.977Z"
   },
   {
    "duration": 12,
    "start_time": "2024-07-19T11:34:46.993Z"
   },
   {
    "duration": 39,
    "start_time": "2024-07-19T11:34:47.006Z"
   },
   {
    "duration": 17,
    "start_time": "2024-07-19T11:34:47.047Z"
   },
   {
    "duration": 7,
    "start_time": "2024-07-19T11:34:47.066Z"
   },
   {
    "duration": 21,
    "start_time": "2024-07-19T11:34:47.075Z"
   },
   {
    "duration": 1168,
    "start_time": "2024-07-19T11:34:47.099Z"
   },
   {
    "duration": 252,
    "start_time": "2024-07-19T11:34:48.268Z"
   },
   {
    "duration": 4,
    "start_time": "2024-07-19T11:34:48.522Z"
   },
   {
    "duration": 160,
    "start_time": "2024-07-19T11:34:48.528Z"
   },
   {
    "duration": 25,
    "start_time": "2024-07-19T11:34:48.693Z"
   },
   {
    "duration": 27,
    "start_time": "2024-07-19T11:34:48.719Z"
   },
   {
    "duration": 57,
    "start_time": "2024-07-19T11:34:48.748Z"
   },
   {
    "duration": 118,
    "start_time": "2024-07-19T11:34:48.808Z"
   },
   {
    "duration": 3,
    "start_time": "2024-07-19T11:34:48.928Z"
   },
   {
    "duration": 24,
    "start_time": "2024-07-19T11:34:48.933Z"
   },
   {
    "duration": 229,
    "start_time": "2024-07-19T11:34:48.958Z"
   },
   {
    "duration": 268,
    "start_time": "2024-07-19T11:34:49.189Z"
   },
   {
    "duration": 3,
    "start_time": "2024-07-19T11:34:49.459Z"
   },
   {
    "duration": 47,
    "start_time": "2024-07-19T11:34:49.463Z"
   },
   {
    "duration": 37,
    "start_time": "2024-07-19T11:34:49.512Z"
   },
   {
    "duration": 9798,
    "start_time": "2024-07-19T11:34:49.551Z"
   },
   {
    "duration": 668,
    "start_time": "2024-07-19T11:34:59.350Z"
   },
   {
    "duration": 429,
    "start_time": "2024-07-19T11:35:00.020Z"
   },
   {
    "duration": 678,
    "start_time": "2024-07-19T11:35:00.452Z"
   },
   {
    "duration": 610,
    "start_time": "2024-07-19T11:35:01.132Z"
   },
   {
    "duration": 6986,
    "start_time": "2024-07-19T11:35:01.743Z"
   },
   {
    "duration": 14,
    "start_time": "2024-07-19T11:35:08.730Z"
   },
   {
    "duration": 121,
    "start_time": "2024-07-19T11:35:08.745Z"
   },
   {
    "duration": 151,
    "start_time": "2024-07-19T11:35:08.867Z"
   },
   {
    "duration": 16,
    "start_time": "2024-07-19T11:35:09.020Z"
   },
   {
    "duration": 818781,
    "start_time": "2024-07-19T11:35:09.038Z"
   },
   {
    "duration": 84,
    "start_time": "2024-07-19T11:48:47.821Z"
   },
   {
    "duration": 20,
    "start_time": "2024-07-19T11:48:47.907Z"
   },
   {
    "duration": 10914,
    "start_time": "2024-07-19T11:49:16.397Z"
   },
   {
    "duration": 2205,
    "start_time": "2024-07-19T11:49:27.314Z"
   },
   {
    "duration": 2,
    "start_time": "2024-07-19T11:49:29.521Z"
   },
   {
    "duration": 60,
    "start_time": "2024-07-19T11:49:29.525Z"
   },
   {
    "duration": 10,
    "start_time": "2024-07-19T11:49:29.587Z"
   },
   {
    "duration": 4,
    "start_time": "2024-07-19T11:49:29.598Z"
   },
   {
    "duration": 6,
    "start_time": "2024-07-19T11:49:29.604Z"
   },
   {
    "duration": 6,
    "start_time": "2024-07-19T11:49:29.612Z"
   },
   {
    "duration": 16,
    "start_time": "2024-07-19T11:49:29.620Z"
   },
   {
    "duration": 1187,
    "start_time": "2024-07-19T11:49:29.638Z"
   },
   {
    "duration": 224,
    "start_time": "2024-07-19T11:49:30.826Z"
   },
   {
    "duration": 5,
    "start_time": "2024-07-19T11:49:31.052Z"
   },
   {
    "duration": 179,
    "start_time": "2024-07-19T11:49:31.058Z"
   },
   {
    "duration": 24,
    "start_time": "2024-07-19T11:49:31.239Z"
   },
   {
    "duration": 33,
    "start_time": "2024-07-19T11:49:31.264Z"
   },
   {
    "duration": 64,
    "start_time": "2024-07-19T11:49:31.298Z"
   },
   {
    "duration": 131,
    "start_time": "2024-07-19T11:49:31.364Z"
   },
   {
    "duration": 3,
    "start_time": "2024-07-19T11:49:31.497Z"
   },
   {
    "duration": 39,
    "start_time": "2024-07-19T11:49:31.503Z"
   },
   {
    "duration": 222,
    "start_time": "2024-07-19T11:49:31.544Z"
   },
   {
    "duration": 270,
    "start_time": "2024-07-19T11:49:31.767Z"
   },
   {
    "duration": 3,
    "start_time": "2024-07-19T11:49:32.038Z"
   },
   {
    "duration": 19,
    "start_time": "2024-07-19T11:49:32.043Z"
   },
   {
    "duration": 55,
    "start_time": "2024-07-19T11:49:32.064Z"
   },
   {
    "duration": 8906,
    "start_time": "2024-07-19T11:49:32.121Z"
   },
   {
    "duration": 1263,
    "start_time": "2024-07-19T11:49:41.028Z"
   },
   {
    "duration": 627,
    "start_time": "2024-07-19T11:49:42.293Z"
   },
   {
    "duration": 644,
    "start_time": "2024-07-19T11:49:42.923Z"
   },
   {
    "duration": 549,
    "start_time": "2024-07-19T11:49:43.569Z"
   },
   {
    "duration": 6902,
    "start_time": "2024-07-19T11:49:44.119Z"
   },
   {
    "duration": 15,
    "start_time": "2024-07-19T11:49:51.023Z"
   },
   {
    "duration": 140,
    "start_time": "2024-07-19T11:49:51.040Z"
   },
   {
    "duration": 146,
    "start_time": "2024-07-19T11:49:51.182Z"
   },
   {
    "duration": 17,
    "start_time": "2024-07-19T11:49:51.329Z"
   },
   {
    "duration": 10973,
    "start_time": "2024-07-19T12:03:32.590Z"
   },
   {
    "duration": 1291,
    "start_time": "2024-07-19T12:03:43.565Z"
   },
   {
    "duration": 3,
    "start_time": "2024-07-19T12:03:44.858Z"
   },
   {
    "duration": 9,
    "start_time": "2024-07-19T12:03:44.863Z"
   },
   {
    "duration": 11,
    "start_time": "2024-07-19T12:03:44.873Z"
   },
   {
    "duration": 4,
    "start_time": "2024-07-19T12:03:44.885Z"
   },
   {
    "duration": 5,
    "start_time": "2024-07-19T12:03:44.890Z"
   },
   {
    "duration": 7,
    "start_time": "2024-07-19T12:03:44.896Z"
   },
   {
    "duration": 5,
    "start_time": "2024-07-19T12:03:44.904Z"
   },
   {
    "duration": 1028,
    "start_time": "2024-07-19T12:03:44.911Z"
   },
   {
    "duration": 261,
    "start_time": "2024-07-19T12:03:45.940Z"
   },
   {
    "duration": 5,
    "start_time": "2024-07-19T12:03:46.203Z"
   },
   {
    "duration": 181,
    "start_time": "2024-07-19T12:03:46.209Z"
   },
   {
    "duration": 23,
    "start_time": "2024-07-19T12:03:46.392Z"
   },
   {
    "duration": 14,
    "start_time": "2024-07-19T12:03:46.416Z"
   },
   {
    "duration": 60,
    "start_time": "2024-07-19T12:03:46.432Z"
   },
   {
    "duration": 109,
    "start_time": "2024-07-19T12:03:46.493Z"
   },
   {
    "duration": 3,
    "start_time": "2024-07-19T12:03:46.603Z"
   },
   {
    "duration": 26,
    "start_time": "2024-07-19T12:03:46.607Z"
   },
   {
    "duration": 237,
    "start_time": "2024-07-19T12:03:46.634Z"
   },
   {
    "duration": 244,
    "start_time": "2024-07-19T12:03:46.873Z"
   },
   {
    "duration": 3,
    "start_time": "2024-07-19T12:03:47.118Z"
   },
   {
    "duration": 21,
    "start_time": "2024-07-19T12:03:47.123Z"
   },
   {
    "duration": 59,
    "start_time": "2024-07-19T12:03:47.145Z"
   },
   {
    "duration": 8335,
    "start_time": "2024-07-19T12:03:47.206Z"
   },
   {
    "duration": 607,
    "start_time": "2024-07-19T12:03:55.543Z"
   },
   {
    "duration": 380,
    "start_time": "2024-07-19T12:03:56.151Z"
   },
   {
    "duration": 619,
    "start_time": "2024-07-19T12:03:56.534Z"
   },
   {
    "duration": 558,
    "start_time": "2024-07-19T12:03:57.155Z"
   },
   {
    "duration": 6358,
    "start_time": "2024-07-19T12:03:57.714Z"
   },
   {
    "duration": 16,
    "start_time": "2024-07-19T12:04:04.074Z"
   },
   {
    "duration": 129,
    "start_time": "2024-07-19T12:04:04.092Z"
   },
   {
    "duration": 122,
    "start_time": "2024-07-19T12:04:04.223Z"
   },
   {
    "duration": 17,
    "start_time": "2024-07-19T12:04:04.346Z"
   },
   {
    "duration": 412641,
    "start_time": "2024-07-19T12:04:04.365Z"
   },
   {
    "duration": 84,
    "start_time": "2024-07-19T12:10:57.008Z"
   },
   {
    "duration": 21,
    "start_time": "2024-07-19T12:10:57.094Z"
   },
   {
    "duration": 15361,
    "start_time": "2024-07-19T21:33:45.128Z"
   },
   {
    "duration": 1663,
    "start_time": "2024-07-19T21:34:00.492Z"
   },
   {
    "duration": 3,
    "start_time": "2024-07-19T21:34:02.157Z"
   },
   {
    "duration": 89,
    "start_time": "2024-07-19T21:34:02.161Z"
   },
   {
    "duration": 21,
    "start_time": "2024-07-19T21:34:02.252Z"
   },
   {
    "duration": 31,
    "start_time": "2024-07-19T21:34:02.274Z"
   },
   {
    "duration": 39,
    "start_time": "2024-07-19T21:34:02.306Z"
   },
   {
    "duration": 24,
    "start_time": "2024-07-19T21:34:02.347Z"
   },
   {
    "duration": 22,
    "start_time": "2024-07-19T21:34:02.373Z"
   },
   {
    "duration": 3225,
    "start_time": "2024-07-19T21:34:02.398Z"
   },
   {
    "duration": 270,
    "start_time": "2024-07-19T21:34:05.625Z"
   },
   {
    "duration": 5,
    "start_time": "2024-07-19T21:34:05.897Z"
   },
   {
    "duration": 162,
    "start_time": "2024-07-19T21:34:05.903Z"
   },
   {
    "duration": 28,
    "start_time": "2024-07-19T21:34:06.067Z"
   },
   {
    "duration": 64,
    "start_time": "2024-07-19T21:34:06.097Z"
   },
   {
    "duration": 58,
    "start_time": "2024-07-19T21:34:06.162Z"
   },
   {
    "duration": 142,
    "start_time": "2024-07-19T21:38:21.927Z"
   },
   {
    "duration": 107,
    "start_time": "2024-07-19T21:38:35.386Z"
   },
   {
    "duration": 135,
    "start_time": "2024-07-19T21:38:52.604Z"
   },
   {
    "duration": 115,
    "start_time": "2024-07-19T21:39:01.183Z"
   },
   {
    "duration": 85,
    "start_time": "2024-07-19T22:11:07.124Z"
   },
   {
    "duration": 29,
    "start_time": "2024-07-19T22:11:12.823Z"
   },
   {
    "duration": 16547,
    "start_time": "2024-07-19T22:15:56.682Z"
   },
   {
    "duration": 9,
    "start_time": "2024-07-19T22:16:55.200Z"
   },
   {
    "duration": 3389,
    "start_time": "2024-07-19T22:17:07.714Z"
   },
   {
    "duration": 2170,
    "start_time": "2024-07-19T22:17:24.065Z"
   },
   {
    "duration": 57,
    "start_time": "2024-07-19T22:22:38.003Z"
   },
   {
    "duration": 10,
    "start_time": "2024-07-19T22:23:11.394Z"
   },
   {
    "duration": 3,
    "start_time": "2024-07-19T22:23:32.459Z"
   },
   {
    "duration": 25,
    "start_time": "2024-07-19T22:23:34.967Z"
   },
   {
    "duration": 174,
    "start_time": "2024-07-19T22:23:37.243Z"
   },
   {
    "duration": 168,
    "start_time": "2024-07-19T22:23:38.431Z"
   },
   {
    "duration": 3,
    "start_time": "2024-07-19T22:23:46.489Z"
   },
   {
    "duration": 6,
    "start_time": "2024-07-19T22:24:44.296Z"
   },
   {
    "duration": 74,
    "start_time": "2024-07-19T22:24:44.304Z"
   },
   {
    "duration": 4,
    "start_time": "2024-07-19T22:24:44.380Z"
   },
   {
    "duration": 6,
    "start_time": "2024-07-19T22:24:44.386Z"
   },
   {
    "duration": 12,
    "start_time": "2024-07-19T22:24:44.394Z"
   },
   {
    "duration": 12,
    "start_time": "2024-07-19T22:24:44.408Z"
   },
   {
    "duration": 23,
    "start_time": "2024-07-19T22:24:44.421Z"
   },
   {
    "duration": 13,
    "start_time": "2024-07-19T22:24:44.446Z"
   },
   {
    "duration": 1096,
    "start_time": "2024-07-19T22:24:44.460Z"
   },
   {
    "duration": 202,
    "start_time": "2024-07-19T22:24:45.558Z"
   },
   {
    "duration": 5,
    "start_time": "2024-07-19T22:24:45.762Z"
   },
   {
    "duration": 140,
    "start_time": "2024-07-19T22:24:45.782Z"
   },
   {
    "duration": 25,
    "start_time": "2024-07-19T22:24:45.924Z"
   },
   {
    "duration": 33,
    "start_time": "2024-07-19T22:24:45.952Z"
   },
   {
    "duration": 55,
    "start_time": "2024-07-19T22:24:45.987Z"
   },
   {
    "duration": 140,
    "start_time": "2024-07-19T22:24:46.043Z"
   },
   {
    "duration": 5,
    "start_time": "2024-07-19T22:24:46.185Z"
   },
   {
    "duration": 43,
    "start_time": "2024-07-19T22:24:46.192Z"
   },
   {
    "duration": 183,
    "start_time": "2024-07-19T22:24:46.237Z"
   },
   {
    "duration": 316,
    "start_time": "2024-07-19T22:24:46.422Z"
   },
   {
    "duration": 4,
    "start_time": "2024-07-19T22:24:46.739Z"
   },
   {
    "duration": 31,
    "start_time": "2024-07-19T22:24:46.745Z"
   },
   {
    "duration": 29,
    "start_time": "2024-07-19T22:24:46.782Z"
   },
   {
    "duration": 9757,
    "start_time": "2024-07-19T22:24:46.813Z"
   },
   {
    "duration": 28,
    "start_time": "2024-07-19T22:25:00.475Z"
   },
   {
    "duration": 8804,
    "start_time": "2024-07-19T22:25:05.442Z"
   },
   {
    "duration": 6,
    "start_time": "2024-07-19T22:39:05.515Z"
   },
   {
    "duration": 21,
    "start_time": "2024-07-19T22:39:05.523Z"
   },
   {
    "duration": 9,
    "start_time": "2024-07-19T22:39:05.545Z"
   },
   {
    "duration": 14,
    "start_time": "2024-07-19T22:39:05.556Z"
   },
   {
    "duration": 19,
    "start_time": "2024-07-19T22:39:05.572Z"
   },
   {
    "duration": 6,
    "start_time": "2024-07-19T22:39:05.592Z"
   },
   {
    "duration": 11,
    "start_time": "2024-07-19T22:39:05.600Z"
   },
   {
    "duration": 24,
    "start_time": "2024-07-19T22:39:05.612Z"
   },
   {
    "duration": 1065,
    "start_time": "2024-07-19T22:39:05.638Z"
   },
   {
    "duration": 219,
    "start_time": "2024-07-19T22:39:06.705Z"
   },
   {
    "duration": 5,
    "start_time": "2024-07-19T22:39:06.926Z"
   },
   {
    "duration": 150,
    "start_time": "2024-07-19T22:39:06.932Z"
   },
   {
    "duration": 23,
    "start_time": "2024-07-19T22:39:07.084Z"
   },
   {
    "duration": 21,
    "start_time": "2024-07-19T22:39:07.110Z"
   },
   {
    "duration": 52,
    "start_time": "2024-07-19T22:39:07.133Z"
   },
   {
    "duration": 116,
    "start_time": "2024-07-19T22:39:07.187Z"
   },
   {
    "duration": 8,
    "start_time": "2024-07-19T22:39:07.304Z"
   },
   {
    "duration": 18,
    "start_time": "2024-07-19T22:39:07.314Z"
   },
   {
    "duration": 193,
    "start_time": "2024-07-19T22:39:07.334Z"
   },
   {
    "duration": 202,
    "start_time": "2024-07-19T22:39:07.529Z"
   },
   {
    "duration": 3,
    "start_time": "2024-07-19T22:39:07.733Z"
   },
   {
    "duration": 21,
    "start_time": "2024-07-19T22:39:07.738Z"
   },
   {
    "duration": 47,
    "start_time": "2024-07-19T22:39:07.761Z"
   },
   {
    "duration": 9490,
    "start_time": "2024-07-19T22:39:07.810Z"
   },
   {
    "duration": 688,
    "start_time": "2024-07-19T22:39:17.302Z"
   },
   {
    "duration": 428,
    "start_time": "2024-07-19T22:39:17.992Z"
   },
   {
    "duration": 740,
    "start_time": "2024-07-19T22:39:18.421Z"
   },
   {
    "duration": 530,
    "start_time": "2024-07-19T22:39:19.163Z"
   },
   {
    "duration": 6758,
    "start_time": "2024-07-19T22:39:19.695Z"
   },
   {
    "duration": 13,
    "start_time": "2024-07-19T22:39:26.454Z"
   },
   {
    "duration": 109,
    "start_time": "2024-07-19T22:39:26.469Z"
   },
   {
    "duration": 118,
    "start_time": "2024-07-19T22:39:26.580Z"
   },
   {
    "duration": 58,
    "start_time": "2024-07-19T22:40:28.436Z"
   },
   {
    "duration": 6,
    "start_time": "2024-07-19T22:46:05.834Z"
   },
   {
    "duration": 34,
    "start_time": "2024-07-19T22:46:05.842Z"
   },
   {
    "duration": 19,
    "start_time": "2024-07-19T22:46:05.878Z"
   },
   {
    "duration": 14,
    "start_time": "2024-07-19T22:46:05.899Z"
   },
   {
    "duration": 10,
    "start_time": "2024-07-19T22:46:05.915Z"
   },
   {
    "duration": 17,
    "start_time": "2024-07-19T22:46:05.927Z"
   },
   {
    "duration": 13,
    "start_time": "2024-07-19T22:46:05.946Z"
   },
   {
    "duration": 7,
    "start_time": "2024-07-19T22:46:05.960Z"
   },
   {
    "duration": 1017,
    "start_time": "2024-07-19T22:46:05.968Z"
   },
   {
    "duration": 217,
    "start_time": "2024-07-19T22:46:06.986Z"
   },
   {
    "duration": 5,
    "start_time": "2024-07-19T22:46:07.205Z"
   },
   {
    "duration": 174,
    "start_time": "2024-07-19T22:46:07.211Z"
   },
   {
    "duration": 24,
    "start_time": "2024-07-19T22:46:07.387Z"
   },
   {
    "duration": 24,
    "start_time": "2024-07-19T22:46:07.416Z"
   },
   {
    "duration": 64,
    "start_time": "2024-07-19T22:46:07.442Z"
   },
   {
    "duration": 161,
    "start_time": "2024-07-19T22:46:07.508Z"
   },
   {
    "duration": 12,
    "start_time": "2024-07-19T22:46:07.672Z"
   },
   {
    "duration": 24,
    "start_time": "2024-07-19T22:46:07.686Z"
   },
   {
    "duration": 207,
    "start_time": "2024-07-19T22:46:07.712Z"
   },
   {
    "duration": 199,
    "start_time": "2024-07-19T22:46:07.921Z"
   },
   {
    "duration": 3,
    "start_time": "2024-07-19T22:46:08.122Z"
   },
   {
    "duration": 62,
    "start_time": "2024-07-19T22:46:08.126Z"
   },
   {
    "duration": 27,
    "start_time": "2024-07-19T22:46:08.190Z"
   },
   {
    "duration": 9452,
    "start_time": "2024-07-19T22:46:08.219Z"
   },
   {
    "duration": 610,
    "start_time": "2024-07-19T22:46:17.672Z"
   },
   {
    "duration": 439,
    "start_time": "2024-07-19T22:46:18.284Z"
   },
   {
    "duration": 642,
    "start_time": "2024-07-19T22:46:18.724Z"
   },
   {
    "duration": 547,
    "start_time": "2024-07-19T22:46:19.368Z"
   },
   {
    "duration": 6548,
    "start_time": "2024-07-19T22:46:19.917Z"
   },
   {
    "duration": 20,
    "start_time": "2024-07-19T22:46:26.468Z"
   },
   {
    "duration": 119,
    "start_time": "2024-07-19T22:46:26.489Z"
   },
   {
    "duration": 124,
    "start_time": "2024-07-19T22:46:26.610Z"
   },
   {
    "duration": 15,
    "start_time": "2024-07-19T22:46:26.736Z"
   },
   {
    "duration": 363545,
    "start_time": "2024-07-19T22:46:26.753Z"
   },
   {
    "duration": 20,
    "start_time": "2024-07-19T23:00:12.871Z"
   },
   {
    "duration": 26,
    "start_time": "2024-07-19T23:01:31.929Z"
   },
   {
    "duration": 1844,
    "start_time": "2024-07-19T23:03:46.576Z"
   },
   {
    "duration": 1840,
    "start_time": "2024-07-19T23:07:27.157Z"
   },
   {
    "duration": 10874,
    "start_time": "2024-07-19T23:21:20.145Z"
   },
   {
    "duration": 1397,
    "start_time": "2024-07-19T23:21:31.022Z"
   },
   {
    "duration": 4,
    "start_time": "2024-07-19T23:21:32.420Z"
   },
   {
    "duration": 8,
    "start_time": "2024-07-19T23:21:32.426Z"
   },
   {
    "duration": 21,
    "start_time": "2024-07-19T23:21:32.435Z"
   },
   {
    "duration": 16,
    "start_time": "2024-07-19T23:21:32.457Z"
   },
   {
    "duration": 5,
    "start_time": "2024-07-19T23:21:32.474Z"
   },
   {
    "duration": 27,
    "start_time": "2024-07-19T23:21:32.481Z"
   },
   {
    "duration": 9,
    "start_time": "2024-07-19T23:21:32.510Z"
   },
   {
    "duration": 1163,
    "start_time": "2024-07-19T23:21:32.521Z"
   },
   {
    "duration": 237,
    "start_time": "2024-07-19T23:21:33.686Z"
   },
   {
    "duration": 6,
    "start_time": "2024-07-19T23:21:33.925Z"
   },
   {
    "duration": 172,
    "start_time": "2024-07-19T23:21:33.933Z"
   },
   {
    "duration": 39,
    "start_time": "2024-07-19T23:21:34.107Z"
   },
   {
    "duration": 13,
    "start_time": "2024-07-19T23:21:34.148Z"
   },
   {
    "duration": 58,
    "start_time": "2024-07-19T23:21:34.163Z"
   },
   {
    "duration": 138,
    "start_time": "2024-07-19T23:21:34.223Z"
   },
   {
    "duration": 3,
    "start_time": "2024-07-19T23:21:34.362Z"
   },
   {
    "duration": 28,
    "start_time": "2024-07-19T23:21:34.366Z"
   },
   {
    "duration": 233,
    "start_time": "2024-07-19T23:21:34.396Z"
   },
   {
    "duration": 258,
    "start_time": "2024-07-19T23:21:34.631Z"
   },
   {
    "duration": 3,
    "start_time": "2024-07-19T23:21:34.891Z"
   },
   {
    "duration": 21,
    "start_time": "2024-07-19T23:21:34.895Z"
   },
   {
    "duration": 27,
    "start_time": "2024-07-19T23:21:34.918Z"
   },
   {
    "duration": 8942,
    "start_time": "2024-07-19T23:21:34.947Z"
   },
   {
    "duration": 579,
    "start_time": "2024-07-19T23:21:43.891Z"
   },
   {
    "duration": 452,
    "start_time": "2024-07-19T23:21:44.472Z"
   },
   {
    "duration": 701,
    "start_time": "2024-07-19T23:21:44.929Z"
   },
   {
    "duration": 575,
    "start_time": "2024-07-19T23:21:45.631Z"
   },
   {
    "duration": 6790,
    "start_time": "2024-07-19T23:21:46.207Z"
   },
   {
    "duration": 14,
    "start_time": "2024-07-19T23:21:52.998Z"
   },
   {
    "duration": 109,
    "start_time": "2024-07-19T23:21:53.013Z"
   },
   {
    "duration": 117,
    "start_time": "2024-07-19T23:21:53.123Z"
   },
   {
    "duration": 15,
    "start_time": "2024-07-19T23:21:53.242Z"
   },
   {
    "duration": 366933,
    "start_time": "2024-07-19T23:21:53.259Z"
   },
   {
    "duration": 20,
    "start_time": "2024-07-19T23:28:00.194Z"
   },
   {
    "duration": 81,
    "start_time": "2024-07-19T23:28:00.216Z"
   },
   {
    "duration": 1897,
    "start_time": "2024-07-19T23:28:00.298Z"
   }
  ],
  "kernelspec": {
   "display_name": "Python 3 (ipykernel)",
   "language": "python",
   "name": "python3"
  },
  "language_info": {
   "codemirror_mode": {
    "name": "ipython",
    "version": 3
   },
   "file_extension": ".py",
   "mimetype": "text/x-python",
   "name": "python",
   "nbconvert_exporter": "python",
   "pygments_lexer": "ipython3",
   "version": "3.9.5"
  },
  "toc": {
   "base_numbering": 1,
   "nav_menu": {},
   "number_sections": true,
   "sideBar": true,
   "skip_h1_title": true,
   "title_cell": "Table of Contents",
   "title_sidebar": "Contents",
   "toc_cell": false,
   "toc_position": {
    "height": "calc(100% - 180px)",
    "left": "10px",
    "top": "150px",
    "width": "199.477px"
   },
   "toc_section_display": true,
   "toc_window_display": true
  }
 },
 "nbformat": 4,
 "nbformat_minor": 2
}
