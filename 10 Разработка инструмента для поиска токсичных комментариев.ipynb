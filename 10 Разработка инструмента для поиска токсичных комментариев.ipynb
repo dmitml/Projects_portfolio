{
 "cells": [
  {
   "cell_type": "markdown",
   "metadata": {
    "toc": true
   },
   "source": [
    "<h1>Содержание<span class=\"tocSkip\"></span></h1>\n",
    "<div class=\"toc\"><ul class=\"toc-item\"><li><span><a href=\"#Описание-проекта,-загрузка-и-подготовка-данных\" data-toc-modified-id=\"Описание-проекта,-загрузка-и-подготовка-данных-1\"><span class=\"toc-item-num\">1&nbsp;&nbsp;</span>Описание проекта, загрузка и подготовка данных</a></span><ul class=\"toc-item\"><li><span><a href=\"#Введение\" data-toc-modified-id=\"Введение-1.1\"><span class=\"toc-item-num\">1.1&nbsp;&nbsp;</span>Введение</a></span></li><li><span><a href=\"#Установка-и-импорт-библиотек\" data-toc-modified-id=\"Установка-и-импорт-библиотек-1.2\"><span class=\"toc-item-num\">1.2&nbsp;&nbsp;</span>Установка и импорт библиотек</a></span></li><li><span><a href=\"#Объявление-функций\" data-toc-modified-id=\"Объявление-функций-1.3\"><span class=\"toc-item-num\">1.3&nbsp;&nbsp;</span>Объявление функций</a></span></li><li><span><a href=\"#Загрузка-данных\" data-toc-modified-id=\"Загрузка-данных-1.4\"><span class=\"toc-item-num\">1.4&nbsp;&nbsp;</span>Загрузка данных</a></span></li><li><span><a href=\"#Общая-информация-о-датасете\" data-toc-modified-id=\"Общая-информация-о-датасете-1.5\"><span class=\"toc-item-num\">1.5&nbsp;&nbsp;</span>Общая информация о датасете</a></span></li></ul></li><li><span><a href=\"#Предобработка-данных\" data-toc-modified-id=\"Предобработка-данных-2\"><span class=\"toc-item-num\">2&nbsp;&nbsp;</span>Предобработка данных</a></span><ul class=\"toc-item\"><li><span><a href=\"#Обработка-явных-дубликатов\" data-toc-modified-id=\"Обработка-явных-дубликатов-2.1\"><span class=\"toc-item-num\">2.1&nbsp;&nbsp;</span>Обработка явных дубликатов</a></span></li><li><span><a href=\"#Анализ-целевого-признака\" data-toc-modified-id=\"Анализ-целевого-признака-2.2\"><span class=\"toc-item-num\">2.2&nbsp;&nbsp;</span>Анализ целевого признака</a></span></li><li><span><a href=\"#Очистка-и-лемматизация-текста\" data-toc-modified-id=\"Очистка-и-лемматизация-текста-2.3\"><span class=\"toc-item-num\">2.3&nbsp;&nbsp;</span>Очистка и лемматизация текста</a></span></li></ul></li><li><span><a href=\"#Обучение\" data-toc-modified-id=\"Обучение-3\"><span class=\"toc-item-num\">3&nbsp;&nbsp;</span>Обучение</a></span></li><li><span><a href=\"#Тестирование-лучшей-модели\" data-toc-modified-id=\"Тестирование-лучшей-модели-4\"><span class=\"toc-item-num\">4&nbsp;&nbsp;</span>Тестирование лучшей модели</a></span></li><li><span><a href=\"#Выводы\" data-toc-modified-id=\"Выводы-5\"><span class=\"toc-item-num\">5&nbsp;&nbsp;</span>Выводы</a></span></li><li><span><a href=\"#Дополнительная-работа-(BERT)\" data-toc-modified-id=\"Дополнительная-работа-(BERT)-6\"><span class=\"toc-item-num\">6&nbsp;&nbsp;</span>Дополнительная работа (BERT)</a></span><ul class=\"toc-item\"><li><span><a href=\"#Формирование-выборки-для-модели\" data-toc-modified-id=\"Формирование-выборки-для-модели-6.1\"><span class=\"toc-item-num\">6.1&nbsp;&nbsp;</span>Формирование выборки для модели</a></span></li><li><span><a href=\"#Токенизация-текста\" data-toc-modified-id=\"Токенизация-текста-6.2\"><span class=\"toc-item-num\">6.2&nbsp;&nbsp;</span>Токенизация текста</a></span></li><li><span><a href=\"#Создание-признаков-для-модели\" data-toc-modified-id=\"Создание-признаков-для-модели-6.3\"><span class=\"toc-item-num\">6.3&nbsp;&nbsp;</span>Создание признаков для модели</a></span></li></ul></li><li><span><a href=\"#Обучение\" data-toc-modified-id=\"Обучение-7\"><span class=\"toc-item-num\">7&nbsp;&nbsp;</span>Обучение</a></span></li><li><span><a href=\"#Тестирование-лучшей-модели\" data-toc-modified-id=\"Тестирование-лучшей-модели-8\"><span class=\"toc-item-num\">8&nbsp;&nbsp;</span>Тестирование лучшей модели</a></span></li></ul></div>"
   ]
  },
  {
   "cell_type": "markdown",
   "metadata": {},
   "source": [
    "## Описание проекта, загрузка и подготовка данных"
   ]
  },
  {
   "cell_type": "markdown",
   "metadata": {},
   "source": [
    "### Введение\n",
    "______\n",
    "**Название проекта**  \n",
    "\n",
    "Разработка инструмента для поиска токсичных комментариев пользователей интернет-магазина.\n",
    "_____\n",
    "\n",
    "**Цель исследования**  \n",
    "\n",
    "Построение модели для классификации комментариев на позитивные и негативные при редактировании и дополнении пользователями описания товаров интернет-магазина.\n",
    "_______\n",
    "**Задачи исследования**\n",
    "\n",
    "- Загрузить и подготовить данные\n",
    "- Провести необходимую предобработку датасета\n",
    "- Обучить разные модели с различными гиперпараметрами\n",
    "- Проверить данные на тестовой выборке и сделать выводы.\n",
    "\n",
    "Значение метрики **F1** на тестовой выборке должно быть не меньше **0,75**\n",
    "_____\n",
    "**Исходные данные**  \n",
    "\n",
    "Имеются данные, представленные в виде одного датасета, содержащего следующую информацию:\n",
    "\n",
    "- `text` — текст комментария    \n",
    "\n",
    "целевой признак:\n",
    "- `toxic` — позитивный/негативный комментарий"
   ]
  },
  {
   "cell_type": "markdown",
   "metadata": {},
   "source": [
    "### Установка и импорт библиотек"
   ]
  },
  {
   "cell_type": "code",
   "execution_count": 1,
   "metadata": {
    "scrolled": true
   },
   "outputs": [
    {
     "name": "stdout",
     "output_type": "stream",
     "text": [
      "\u001b[38;5;2m[+] Download and installation successful\u001b[0m\n",
      "You can now load the package via spacy.load('en_core_web_sm')\n"
     ]
    }
   ],
   "source": [
    "!pip install spacy -q\n",
    "!python -m spacy download en_core_web_sm -q\n",
    "!pip install lightgbm scikit-learn -q\n",
    "!pip install catboost -q"
   ]
  },
  {
   "cell_type": "code",
   "execution_count": 2,
   "metadata": {},
   "outputs": [
    {
     "name": "stderr",
     "output_type": "stream",
     "text": [
      "[nltk_data] Downloading package stopwords to\n",
      "[nltk_data]     C:\\Users\\Dmitry\\AppData\\Roaming\\nltk_data...\n",
      "[nltk_data]   Package stopwords is already up-to-date!\n"
     ]
    },
    {
     "data": {
      "text/plain": [
       "True"
      ]
     },
     "execution_count": 2,
     "metadata": {},
     "output_type": "execute_result"
    }
   ],
   "source": [
    "import pandas as pd\n",
    "import matplotlib.pyplot as plt\n",
    "import seaborn as sns\n",
    "import numpy as np\n",
    "import scipy.stats as st\n",
    "import nltk\n",
    "import lightgbm as lgb\n",
    "import os\n",
    "import math\n",
    "import warnings\n",
    "import re\n",
    "import catboost\n",
    "import sys\n",
    "import spacy\n",
    "import torch\n",
    "import transformers\n",
    "\n",
    "from transformers import AutoTokenizer, AutoModelForSequenceClassification\n",
    "from tqdm import tqdm\n",
    "from scipy.stats import uniform\n",
    "from lightgbm import LGBMClassifier \n",
    "from catboost import CatBoostClassifier\n",
    "from sklearn.ensemble import RandomForestClassifier\n",
    "from sklearn.model_selection import train_test_split, GridSearchCV, RandomizedSearchCV\n",
    "from nltk.corpus import stopwords\n",
    "from sklearn.feature_extraction.text import TfidfVectorizer\n",
    "from sklearn.linear_model import LogisticRegression, LinearRegression, Ridge\n",
    "from sklearn.neighbors import KNeighborsClassifier\n",
    "from sklearn.tree import DecisionTreeClassifier\n",
    "from sklearn.svm import SVC\n",
    "from sklearn.pipeline import Pipeline\n",
    "from sklearn.compose import ColumnTransformer\n",
    "from sklearn.metrics import (\n",
    "    f1_score,\n",
    "    confusion_matrix,\n",
    "    ConfusionMatrixDisplay,\n",
    "    roc_curve,\n",
    "    auc\n",
    ")\n",
    "nltk.download('stopwords')"
   ]
  },
  {
   "cell_type": "code",
   "execution_count": 3,
   "metadata": {},
   "outputs": [],
   "source": [
    "# системные настройки\n",
    "pd.set_option('display.max_columns', None)\n",
    "pd.set_option('display.max_colwidth', None)\n",
    "warnings.filterwarnings(\"ignore\")"
   ]
  },
  {
   "cell_type": "code",
   "execution_count": 4,
   "metadata": {},
   "outputs": [],
   "source": [
    "# объявление констант\n",
    "RANDOM_STATE = 42\n",
    "TEST_SIZE = 0.1"
   ]
  },
  {
   "cell_type": "markdown",
   "metadata": {},
   "source": [
    "### Объявление функций"
   ]
  },
  {
   "cell_type": "code",
   "execution_count": 5,
   "metadata": {},
   "outputs": [],
   "source": [
    "# функция для краткого обзора датасетов\n",
    "def view_df(df):\n",
    "    display(df.head()) \n",
    "    df.info() \n",
    "    display(df.columns) \n",
    "    display(df.describe())\n",
    "    \n",
    "# функция для описания категориальных признаков - круговая диаграмма\n",
    "def pie_plot(df, list_col):\n",
    "    i = 1\n",
    "    plt.figure(figsize=(8, 8))\n",
    "    for name in list_col:\n",
    "        plt.subplot(3, 2, i)\n",
    "        df[name].value_counts().plot.pie(label='', autopct='%1.0f%%', title=name)\n",
    "        i +=1\n",
    "\n",
    "    plt.tight_layout()\n",
    "    plt.show();"
   ]
  },
  {
   "cell_type": "markdown",
   "metadata": {},
   "source": [
    "### Загрузка данных"
   ]
  },
  {
   "cell_type": "code",
   "execution_count": 6,
   "metadata": {},
   "outputs": [
    {
     "name": "stdout",
     "output_type": "stream",
     "text": [
      "Использован путь: C:\\Ipynb\\datasets\\toxic_comments.csv\n"
     ]
    }
   ],
   "source": [
    "pth_1 = '/datasets/toxic_comments.csv'\n",
    "pth_2 = r'C:\\Ipynb\\datasets\\toxic_comments.csv'\n",
    "\n",
    "if os.path.exists(pth_1):\n",
    "    df = pd.read_csv(pth_1, index_col=[0])\n",
    "    print('Использован путь:', pth_1)\n",
    "elif os.path.exists(pth_2):\n",
    "    df = pd.read_csv(pth_2, index_col=[0])\n",
    "    print('Использован путь:', pth_2)\n",
    "else:\n",
    "    print('Something is wrong with loading data')"
   ]
  },
  {
   "cell_type": "markdown",
   "metadata": {},
   "source": [
    "### Общая информация о датасете"
   ]
  },
  {
   "cell_type": "code",
   "execution_count": 7,
   "metadata": {},
   "outputs": [
    {
     "data": {
      "text/html": [
       "<div>\n",
       "<style scoped>\n",
       "    .dataframe tbody tr th:only-of-type {\n",
       "        vertical-align: middle;\n",
       "    }\n",
       "\n",
       "    .dataframe tbody tr th {\n",
       "        vertical-align: top;\n",
       "    }\n",
       "\n",
       "    .dataframe thead th {\n",
       "        text-align: right;\n",
       "    }\n",
       "</style>\n",
       "<table border=\"1\" class=\"dataframe\">\n",
       "  <thead>\n",
       "    <tr style=\"text-align: right;\">\n",
       "      <th></th>\n",
       "      <th>text</th>\n",
       "      <th>toxic</th>\n",
       "    </tr>\n",
       "  </thead>\n",
       "  <tbody>\n",
       "    <tr>\n",
       "      <th>0</th>\n",
       "      <td>Explanation\\nWhy the edits made under my username Hardcore Metallica Fan were reverted? They weren't vandalisms, just closure on some GAs after I voted at New York Dolls FAC. And please don't remove the template from the talk page since I'm retired now.89.205.38.27</td>\n",
       "      <td>0</td>\n",
       "    </tr>\n",
       "    <tr>\n",
       "      <th>1</th>\n",
       "      <td>D'aww! He matches this background colour I'm seemingly stuck with. Thanks.  (talk) 21:51, January 11, 2016 (UTC)</td>\n",
       "      <td>0</td>\n",
       "    </tr>\n",
       "    <tr>\n",
       "      <th>2</th>\n",
       "      <td>Hey man, I'm really not trying to edit war. It's just that this guy is constantly removing relevant information and talking to me through edits instead of my talk page. He seems to care more about the formatting than the actual info.</td>\n",
       "      <td>0</td>\n",
       "    </tr>\n",
       "    <tr>\n",
       "      <th>3</th>\n",
       "      <td>\"\\nMore\\nI can't make any real suggestions on improvement - I wondered if the section statistics should be later on, or a subsection of \"\"types of accidents\"\"  -I think the references may need tidying so that they are all in the exact same format ie date format etc. I can do that later on, if no-one else does first - if you have any preferences for formatting style on references or want to do it yourself please let me know.\\n\\nThere appears to be a backlog on articles for review so I guess there may be a delay until a reviewer turns up. It's listed in the relevant form eg Wikipedia:Good_article_nominations#Transport  \"</td>\n",
       "      <td>0</td>\n",
       "    </tr>\n",
       "    <tr>\n",
       "      <th>4</th>\n",
       "      <td>You, sir, are my hero. Any chance you remember what page that's on?</td>\n",
       "      <td>0</td>\n",
       "    </tr>\n",
       "  </tbody>\n",
       "</table>\n",
       "</div>"
      ],
      "text/plain": [
       "                                                                                                                                                                                                                                                                                                                                                                                                                                                                                                                                                                                                                                                 text  \\\n",
       "0                                                                                                                                                                                                                                                                                                                                                                           Explanation\\nWhy the edits made under my username Hardcore Metallica Fan were reverted? They weren't vandalisms, just closure on some GAs after I voted at New York Dolls FAC. And please don't remove the template from the talk page since I'm retired now.89.205.38.27   \n",
       "1                                                                                                                                                                                                                                                                                                                                                                                                                                                                                                                                    D'aww! He matches this background colour I'm seemingly stuck with. Thanks.  (talk) 21:51, January 11, 2016 (UTC)   \n",
       "2                                                                                                                                                                                                                                                                                                                                                                                                           Hey man, I'm really not trying to edit war. It's just that this guy is constantly removing relevant information and talking to me through edits instead of my talk page. He seems to care more about the formatting than the actual info.   \n",
       "3  \"\\nMore\\nI can't make any real suggestions on improvement - I wondered if the section statistics should be later on, or a subsection of \"\"types of accidents\"\"  -I think the references may need tidying so that they are all in the exact same format ie date format etc. I can do that later on, if no-one else does first - if you have any preferences for formatting style on references or want to do it yourself please let me know.\\n\\nThere appears to be a backlog on articles for review so I guess there may be a delay until a reviewer turns up. It's listed in the relevant form eg Wikipedia:Good_article_nominations#Transport  \"   \n",
       "4                                                                                                                                                                                                                                                                                                                                                                                                                                                                                                                                                                                 You, sir, are my hero. Any chance you remember what page that's on?   \n",
       "\n",
       "   toxic  \n",
       "0      0  \n",
       "1      0  \n",
       "2      0  \n",
       "3      0  \n",
       "4      0  "
      ]
     },
     "metadata": {},
     "output_type": "display_data"
    },
    {
     "name": "stdout",
     "output_type": "stream",
     "text": [
      "<class 'pandas.core.frame.DataFrame'>\n",
      "Int64Index: 159292 entries, 0 to 159450\n",
      "Data columns (total 2 columns):\n",
      " #   Column  Non-Null Count   Dtype \n",
      "---  ------  --------------   ----- \n",
      " 0   text    159292 non-null  object\n",
      " 1   toxic   159292 non-null  int64 \n",
      "dtypes: int64(1), object(1)\n",
      "memory usage: 3.6+ MB\n"
     ]
    },
    {
     "data": {
      "text/plain": [
       "Index(['text', 'toxic'], dtype='object')"
      ]
     },
     "metadata": {},
     "output_type": "display_data"
    },
    {
     "data": {
      "text/html": [
       "<div>\n",
       "<style scoped>\n",
       "    .dataframe tbody tr th:only-of-type {\n",
       "        vertical-align: middle;\n",
       "    }\n",
       "\n",
       "    .dataframe tbody tr th {\n",
       "        vertical-align: top;\n",
       "    }\n",
       "\n",
       "    .dataframe thead th {\n",
       "        text-align: right;\n",
       "    }\n",
       "</style>\n",
       "<table border=\"1\" class=\"dataframe\">\n",
       "  <thead>\n",
       "    <tr style=\"text-align: right;\">\n",
       "      <th></th>\n",
       "      <th>toxic</th>\n",
       "    </tr>\n",
       "  </thead>\n",
       "  <tbody>\n",
       "    <tr>\n",
       "      <th>count</th>\n",
       "      <td>159292.000000</td>\n",
       "    </tr>\n",
       "    <tr>\n",
       "      <th>mean</th>\n",
       "      <td>0.101612</td>\n",
       "    </tr>\n",
       "    <tr>\n",
       "      <th>std</th>\n",
       "      <td>0.302139</td>\n",
       "    </tr>\n",
       "    <tr>\n",
       "      <th>min</th>\n",
       "      <td>0.000000</td>\n",
       "    </tr>\n",
       "    <tr>\n",
       "      <th>25%</th>\n",
       "      <td>0.000000</td>\n",
       "    </tr>\n",
       "    <tr>\n",
       "      <th>50%</th>\n",
       "      <td>0.000000</td>\n",
       "    </tr>\n",
       "    <tr>\n",
       "      <th>75%</th>\n",
       "      <td>0.000000</td>\n",
       "    </tr>\n",
       "    <tr>\n",
       "      <th>max</th>\n",
       "      <td>1.000000</td>\n",
       "    </tr>\n",
       "  </tbody>\n",
       "</table>\n",
       "</div>"
      ],
      "text/plain": [
       "               toxic\n",
       "count  159292.000000\n",
       "mean        0.101612\n",
       "std         0.302139\n",
       "min         0.000000\n",
       "25%         0.000000\n",
       "50%         0.000000\n",
       "75%         0.000000\n",
       "max         1.000000"
      ]
     },
     "metadata": {},
     "output_type": "display_data"
    }
   ],
   "source": [
    "view_df(df)"
   ]
  },
  {
   "cell_type": "markdown",
   "metadata": {},
   "source": [
    "**Вывод:** загружена и получена общая информация по датасету: пропуски в данных отсутствуют, тип данных соответствует описанию.  \n",
    "Более подробный анализ, а также выявление дубликатов, будет произведено на следующем этапе обработки данных"
   ]
  },
  {
   "cell_type": "markdown",
   "metadata": {},
   "source": [
    "##  Предобработка данных"
   ]
  },
  {
   "cell_type": "markdown",
   "metadata": {},
   "source": [
    "### Обработка явных дубликатов"
   ]
  },
  {
   "cell_type": "code",
   "execution_count": 8,
   "metadata": {},
   "outputs": [
    {
     "data": {
      "text/plain": [
       "0"
      ]
     },
     "execution_count": 8,
     "metadata": {},
     "output_type": "execute_result"
    }
   ],
   "source": [
    "df.duplicated(subset = 'text').sum()"
   ]
  },
  {
   "cell_type": "markdown",
   "metadata": {},
   "source": [
    "Дубликаты в комментариях отсутствуют"
   ]
  },
  {
   "cell_type": "markdown",
   "metadata": {},
   "source": [
    "### Анализ целевого признака"
   ]
  },
  {
   "cell_type": "markdown",
   "metadata": {},
   "source": [
    "Проанализируем распределение целевого признака `toxic`"
   ]
  },
  {
   "cell_type": "code",
   "execution_count": 9,
   "metadata": {},
   "outputs": [
    {
     "data": {
      "text/plain": [
       "0    0.898\n",
       "1    0.102\n",
       "Name: toxic, dtype: float64"
      ]
     },
     "execution_count": 9,
     "metadata": {},
     "output_type": "execute_result"
    }
   ],
   "source": [
    "round(df['toxic'].value_counts(normalize=True), 3)"
   ]
  },
  {
   "cell_type": "code",
   "execution_count": 10,
   "metadata": {},
   "outputs": [
    {
     "data": {
      "image/png": "[encoded data removed]",
      "text/plain": [
       "<Figure size 800x800 with 1 Axes>"
      ]
     },
     "metadata": {},
     "output_type": "display_data"
    }
   ],
   "source": [
    "pie_plot(df, ['toxic'])"
   ]
  },
  {
   "cell_type": "markdown",
   "metadata": {},
   "source": [
    "В целевом признаке `toxic` присутствует дисбаланс классов: 10% токсичных комментариев, учтем это при обучении модели.  "
   ]
  },
  {
   "cell_type": "markdown",
   "metadata": {},
   "source": [
    "### Очистка и лемматизация текста"
   ]
  },
  {
   "cell_type": "code",
   "execution_count": 11,
   "metadata": {},
   "outputs": [
    {
     "name": "stderr",
     "output_type": "stream",
     "text": [
      "100%|██████████| 159292/159292 [11:10<00:00, 237.55it/s]\n"
     ]
    },
    {
     "data": {
      "text/html": [
       "<div>\n",
       "<style scoped>\n",
       "    .dataframe tbody tr th:only-of-type {\n",
       "        vertical-align: middle;\n",
       "    }\n",
       "\n",
       "    .dataframe tbody tr th {\n",
       "        vertical-align: top;\n",
       "    }\n",
       "\n",
       "    .dataframe thead th {\n",
       "        text-align: right;\n",
       "    }\n",
       "</style>\n",
       "<table border=\"1\" class=\"dataframe\">\n",
       "  <thead>\n",
       "    <tr style=\"text-align: right;\">\n",
       "      <th></th>\n",
       "      <th>text</th>\n",
       "      <th>toxic</th>\n",
       "      <th>clean_text</th>\n",
       "      <th>lemm_text</th>\n",
       "    </tr>\n",
       "  </thead>\n",
       "  <tbody>\n",
       "    <tr>\n",
       "      <th>0</th>\n",
       "      <td>Explanation\\nWhy the edits made under my username Hardcore Metallica Fan were reverted? They weren't vandalisms, just closure on some GAs after I voted at New York Dolls FAC. And please don't remove the template from the talk page since I'm retired now.89.205.38.27</td>\n",
       "      <td>0</td>\n",
       "      <td>Explanation Why the edits made under my username Hardcore Metallica Fan were reverted They weren't vandalisms just closure on some GAs after I voted at New York Dolls FAC And please don't remove the template from the talk page since I'm retired now</td>\n",
       "      <td>Explanation why the edit make under my username Hardcore Metallica Fan be revert they be not vandalism just closure on some gas after I vote at New York Dolls FAC and please do not remove the template from the talk page since I be retire now</td>\n",
       "    </tr>\n",
       "  </tbody>\n",
       "</table>\n",
       "</div>"
      ],
      "text/plain": [
       "                                                                                                                                                                                                                                                                        text  \\\n",
       "0  Explanation\\nWhy the edits made under my username Hardcore Metallica Fan were reverted? They weren't vandalisms, just closure on some GAs after I voted at New York Dolls FAC. And please don't remove the template from the talk page since I'm retired now.89.205.38.27   \n",
       "\n",
       "   toxic  \\\n",
       "0      0   \n",
       "\n",
       "                                                                                                                                                                                                                                                 clean_text  \\\n",
       "0  Explanation Why the edits made under my username Hardcore Metallica Fan were reverted They weren't vandalisms just closure on some GAs after I voted at New York Dolls FAC And please don't remove the template from the talk page since I'm retired now   \n",
       "\n",
       "                                                                                                                                                                                                                                           lemm_text  \n",
       "0  Explanation why the edit make under my username Hardcore Metallica Fan be revert they be not vandalism just closure on some gas after I vote at New York Dolls FAC and please do not remove the template from the talk page since I be retire now  "
      ]
     },
     "execution_count": 11,
     "metadata": {},
     "output_type": "execute_result"
    }
   ],
   "source": [
    "# Загрузка модели Spacy\n",
    "nlp = spacy.load('en_core_web_sm', disable=['parser', 'ner'])\n",
    "\n",
    "# Функция для очистки текста\n",
    "def clear_text(text):\n",
    "    clear_list = re.sub(r\"[^a-zA-Z']\", ' ', text)\n",
    "    clear_text = ' '.join(clear_list.split())\n",
    "    return clear_text\n",
    "\n",
    "df['clean_text'] = df['text'].apply(lambda x: clear_text(x))\n",
    "\n",
    "# Лемматизация с использованием пайплайна\n",
    "lemm_texts = []\n",
    "total = df.shape[0]\n",
    "nlp_pipe = nlp.pipe(df['clean_text'].values, disable=['ner', 'parser'])\n",
    "\n",
    "for doc in tqdm(nlp_pipe, total=total):\n",
    "    lemm_text = \" \".join([token.lemma_ for token in doc])\n",
    "    lemm_texts.append(lemm_text)\n",
    "\n",
    "df['lemm_text'] = lemm_texts\n",
    "\n",
    "# Отображение результата\n",
    "df.head(1)"
   ]
  },
  {
   "cell_type": "markdown",
   "metadata": {},
   "source": [
    "## Обучение"
   ]
  },
  {
   "cell_type": "markdown",
   "metadata": {},
   "source": [
    "Для подбора модели будем использовать один общий пайплайн для всех моделей и инструмент подбора гиперпараметров `RandomizedSearchCV`. Выбор лучшей модели будет осуществляться на основе метрики — `F1`\n",
    "\n",
    "В рамках пайплайна использовались следующие инструменты:    \n",
    "\n",
    "- для преобразования текстовых данных в числовую матрицу на основе TF-IDF: `TfidfVectorizer`, в т.ч с использованием униграмм и биграмм\n",
    "\n",
    "типы моделей:\n",
    "- `LogisticRegression, RandomForestClassifier, KNeighborsClassifier, LGBMClassifier, CatBoostClassifier` со своими настройками гиперпараметров\n",
    "\n",
    "Для удобства и сокращения времени проверки на ревью, путем проведения серии обучения моделей с подбором гиперпараметров, были определены их оптимальные значения, которые были зафиксированы в приведенном ниже пайплайне."
   ]
  },
  {
   "cell_type": "code",
   "execution_count": 12,
   "metadata": {},
   "outputs": [
    {
     "data": {
      "text/plain": [
       "'Лучшая модель и её параметры:'"
      ]
     },
     "metadata": {},
     "output_type": "display_data"
    },
    {
     "data": {
      "text/plain": [
       "{'models__num_leaves': 63,\n",
       " 'models__n_estimators': 500,\n",
       " 'models__max_depth': 47,\n",
       " 'models__learning_rate': 0.05,\n",
       " 'models__feature_fraction': 0.6,\n",
       " 'models': LGBMClassifier(n_jobs=1, random_state=42, verbose=-1)}"
      ]
     },
     "metadata": {},
     "output_type": "display_data"
    },
    {
     "name": "stdout",
     "output_type": "stream",
     "text": [
      "Метрика F1, полученная с помощью кросс-валидации: 0.778\n",
      "CPU times: total: 9min 25s\n",
      "Wall time: 34min 56s\n"
     ]
    }
   ],
   "source": [
    "%%time\n",
    "# разобъем данные на тренировочную и тестовую выборки\n",
    "X_train, X_test, y_train, y_test = train_test_split(df['lemm_text'],\n",
    "                                                    df['toxic'],\n",
    "                                                    stratify = df['toxic'],\n",
    "                                                    test_size=TEST_SIZE,\n",
    "                                                    random_state=RANDOM_STATE)\n",
    "\n",
    "stop_words = list(stopwords.words('english'))\n",
    "\n",
    "# создаём итоговый пайплайн: подготовка данных и модель\n",
    "pipe_final = Pipeline([  \n",
    "    ('vect', TfidfVectorizer(stop_words=stop_words,\n",
    "                            min_df=0.0001,\n",
    "                            max_df=0.95, \n",
    "                            ngram_range=(1, 2))),\n",
    "    ('models', None)\n",
    "])\n",
    "\n",
    "param_grid = [\n",
    "    \n",
    "   # словарь для модели RandomForestClassifier()\n",
    "    {\n",
    "        'models': [RandomForestClassifier(class_weight='balanced', random_state=RANDOM_STATE)],\n",
    "        'models__max_depth': [42],\n",
    "        'models__min_samples_leaf': [3],\n",
    "        'models__min_samples_split': [3],\n",
    "        'models__n_estimators': [100]\n",
    "    },\n",
    "    \n",
    "    # словарь для модели KNeighborsClassifier() \n",
    "    {\n",
    "        'models': [KNeighborsClassifier()],\n",
    "        'models__n_neighbors': [31]\n",
    "    },\n",
    "\n",
    "    # словарь для модели LogisticRegression()\n",
    "    {\n",
    "        'models': [LogisticRegression(class_weight='balanced', random_state=RANDOM_STATE)],\n",
    "        'models__solver': ['saga'],\n",
    "        'models__penalty': ['l2'],\n",
    "        'models__C': [5]\n",
    "    },\n",
    "\n",
    "    # словарь для модели LGBMClassifier\n",
    "    {\n",
    "        'models': [LGBMClassifier(verbose=-1, random_state=RANDOM_STATE, n_jobs=1)],\n",
    "        'models__num_leaves': [63],  \n",
    "        'models__learning_rate': [0.05],  \n",
    "        'models__n_estimators': [500],  \n",
    "        'models__max_depth': [47],  \n",
    "        'models__feature_fraction': [0.6]\n",
    "    },\n",
    "    \n",
    "    # словарь для модели CatBoostClassifier\n",
    "    {\n",
    "        'models': [CatBoostClassifier(verbose=0, random_state=RANDOM_STATE)],\n",
    "        'models__learning_rate': [0.05],  \n",
    "        'models__iterations': [100]  \n",
    "    }\n",
    "]\n",
    "\n",
    "randomized_search = RandomizedSearchCV(\n",
    "    pipe_final, \n",
    "    param_grid, \n",
    "    cv=5,\n",
    "    scoring='f1',\n",
    "    random_state=RANDOM_STATE,\n",
    "    n_jobs=-1,\n",
    "    n_iter=5\n",
    ")\n",
    "randomized_search.fit(X_train, y_train)\n",
    "\n",
    "display('Лучшая модель и её параметры:', randomized_search.best_params_)\n",
    "print (f'Метрика F1, полученная с помощью кросс-валидации: {randomized_search.best_score_:.3f}')"
   ]
  },
  {
   "cell_type": "code",
   "execution_count": 13,
   "metadata": {},
   "outputs": [
    {
     "data": {
      "text/html": [
       "<div>\n",
       "<style scoped>\n",
       "    .dataframe tbody tr th:only-of-type {\n",
       "        vertical-align: middle;\n",
       "    }\n",
       "\n",
       "    .dataframe tbody tr th {\n",
       "        vertical-align: top;\n",
       "    }\n",
       "\n",
       "    .dataframe thead th {\n",
       "        text-align: right;\n",
       "    }\n",
       "</style>\n",
       "<table border=\"1\" class=\"dataframe\">\n",
       "  <thead>\n",
       "    <tr style=\"text-align: right;\">\n",
       "      <th></th>\n",
       "      <th>rank_test_score</th>\n",
       "      <th>param_models</th>\n",
       "      <th>mean_test_score</th>\n",
       "      <th>params</th>\n",
       "    </tr>\n",
       "  </thead>\n",
       "  <tbody>\n",
       "    <tr>\n",
       "      <th>3</th>\n",
       "      <td>1</td>\n",
       "      <td>LGBMClassifier(n_jobs=1, random_state=42, verbose=-1)</td>\n",
       "      <td>0.778103</td>\n",
       "      <td>{'models__num_leaves': 63, 'models__n_estimators': 500, 'models__max_depth': 47, 'models__learning_rate': 0.05, 'models__feature_fraction': 0.6, 'models': LGBMClassifier(n_jobs=1, random_state=42, verbose=-1)}</td>\n",
       "    </tr>\n",
       "    <tr>\n",
       "      <th>2</th>\n",
       "      <td>2</td>\n",
       "      <td>LogisticRegression(class_weight='balanced', random_state=42)</td>\n",
       "      <td>0.751649</td>\n",
       "      <td>{'models__solver': 'saga', 'models__penalty': 'l2', 'models__C': 5, 'models': LogisticRegression(class_weight='balanced', random_state=42)}</td>\n",
       "    </tr>\n",
       "    <tr>\n",
       "      <th>4</th>\n",
       "      <td>3</td>\n",
       "      <td>&lt;catboost.core.CatBoostClassifier object at 0x0000025A3A486220&gt;</td>\n",
       "      <td>0.605600</td>\n",
       "      <td>{'models__learning_rate': 0.05, 'models__iterations': 100, 'models': &lt;catboost.core.CatBoostClassifier object at 0x0000025A3A486220&gt;}</td>\n",
       "    </tr>\n",
       "    <tr>\n",
       "      <th>0</th>\n",
       "      <td>4</td>\n",
       "      <td>RandomForestClassifier(class_weight='balanced', random_state=42)</td>\n",
       "      <td>0.492324</td>\n",
       "      <td>{'models__n_estimators': 100, 'models__min_samples_split': 3, 'models__min_samples_leaf': 3, 'models__max_depth': 42, 'models': RandomForestClassifier(class_weight='balanced', random_state=42)}</td>\n",
       "    </tr>\n",
       "    <tr>\n",
       "      <th>1</th>\n",
       "      <td>5</td>\n",
       "      <td>KNeighborsClassifier()</td>\n",
       "      <td>0.138001</td>\n",
       "      <td>{'models__n_neighbors': 31, 'models': KNeighborsClassifier()}</td>\n",
       "    </tr>\n",
       "  </tbody>\n",
       "</table>\n",
       "</div>"
      ],
      "text/plain": [
       "   rank_test_score  \\\n",
       "3                1   \n",
       "2                2   \n",
       "4                3   \n",
       "0                4   \n",
       "1                5   \n",
       "\n",
       "                                                       param_models  \\\n",
       "3             LGBMClassifier(n_jobs=1, random_state=42, verbose=-1)   \n",
       "2      LogisticRegression(class_weight='balanced', random_state=42)   \n",
       "4   <catboost.core.CatBoostClassifier object at 0x0000025A3A486220>   \n",
       "0  RandomForestClassifier(class_weight='balanced', random_state=42)   \n",
       "1                                            KNeighborsClassifier()   \n",
       "\n",
       "   mean_test_score  \\\n",
       "3         0.778103   \n",
       "2         0.751649   \n",
       "4         0.605600   \n",
       "0         0.492324   \n",
       "1         0.138001   \n",
       "\n",
       "                                                                                                                                                                                                              params  \n",
       "3  {'models__num_leaves': 63, 'models__n_estimators': 500, 'models__max_depth': 47, 'models__learning_rate': 0.05, 'models__feature_fraction': 0.6, 'models': LGBMClassifier(n_jobs=1, random_state=42, verbose=-1)}  \n",
       "2                                                                        {'models__solver': 'saga', 'models__penalty': 'l2', 'models__C': 5, 'models': LogisticRegression(class_weight='balanced', random_state=42)}  \n",
       "4                                                                              {'models__learning_rate': 0.05, 'models__iterations': 100, 'models': <catboost.core.CatBoostClassifier object at 0x0000025A3A486220>}  \n",
       "0                  {'models__n_estimators': 100, 'models__min_samples_split': 3, 'models__min_samples_leaf': 3, 'models__max_depth': 42, 'models': RandomForestClassifier(class_weight='balanced', random_state=42)}  \n",
       "1                                                                                                                                                      {'models__n_neighbors': 31, 'models': KNeighborsClassifier()}  "
      ]
     },
     "execution_count": 13,
     "metadata": {},
     "output_type": "execute_result"
    }
   ],
   "source": [
    "# Отобразим результаты работы со всеми моделями\n",
    "result = pd.DataFrame(randomized_search.cv_results_)\n",
    "result = result[\n",
    "    ['rank_test_score', 'param_models', 'mean_test_score','params']\n",
    "    ].sort_values('rank_test_score')\n",
    "result.head(10)"
   ]
  },
  {
   "cell_type": "markdown",
   "metadata": {},
   "source": [
    "**Вывод:** моделью, показавшей наилучшие результаты метрики `F1` равное 0.778 на кроссвалидационной выборке, стала `LGBMClassifier` с параметрами: число листьев - 63, скорость обучения - 0.05, количество деревьев - 500, максимальная глубина - 47, доля признаков для обучения - 0.6."
   ]
  },
  {
   "cell_type": "markdown",
   "metadata": {},
   "source": [
    "## Тестирование лучшей модели"
   ]
  },
  {
   "cell_type": "markdown",
   "metadata": {},
   "source": [
    "Проведем анализ лучшей модели на основе матрицы ошибок и ROC-кривой модели"
   ]
  },
  {
   "cell_type": "code",
   "execution_count": 14,
   "metadata": {},
   "outputs": [
    {
     "data": {
      "image/png": "[encoded data removed]",
      "text/plain": [
       "<Figure size 1600x600 with 2 Axes>"
      ]
     },
     "metadata": {},
     "output_type": "display_data"
    }
   ],
   "source": [
    "# Предсказания меток и вероятностей\n",
    "y_pred = randomized_search.predict(X_test)\n",
    "y_probа = randomized_search.predict_proba(X_test)[:, 1]\n",
    "\n",
    "# Построение матрицы ошибок\n",
    "cm = confusion_matrix(y_test, y_pred)\n",
    "\n",
    "# Построение ROC-кривой\n",
    "fpr, tpr, _ = roc_curve(y_test, y_probа)\n",
    "roc_auc = auc(fpr, tpr)\n",
    "\n",
    "# Отображение объектов\n",
    "fig, (ax1, ax2) = plt.subplots(1, 2, figsize=(16, 6))\n",
    "\n",
    "# Матрица ошибок\n",
    "sns.heatmap(cm, annot=True, fmt='d', cmap='Blues', cbar=False, annot_kws={\"size\": 16}, ax=ax1)\n",
    "ax1.set_title('Матрица ошибок', fontsize=20)\n",
    "ax1.set_xlabel('Прогнозированный класс', fontsize=15)\n",
    "ax1.set_ylabel('Истинный класс', fontsize=15)\n",
    "ax1.set_xticks([0.5, 1.5])\n",
    "ax1.set_xticklabels(['Класс 0', 'Класс 1'], fontsize=12)\n",
    "ax1.set_yticks([0.5, 1.5])\n",
    "ax1.set_yticklabels(['Класс 0', 'Класс 1'], fontsize=12)\n",
    "\n",
    "# ROC-кривая\n",
    "ax2.plot(fpr, tpr, color='darkorange', lw=2, label='ROC-кривая (AUC = %0.4f)' % roc_auc)\n",
    "ax2.plot([0, 1], [0, 1], color='navy', lw=2, linestyle='--')\n",
    "ax2.set_xlim([0.0, 1.0])\n",
    "ax2.set_ylim([0.0, 1.05])\n",
    "ax2.set_xlabel('Ложно положительные', fontsize=15)\n",
    "ax2.set_ylabel('Истинно положительные', fontsize=15)\n",
    "ax2.set_title('ROC-кривая', fontsize=20)\n",
    "ax2.legend(loc=\"lower right\", fontsize=14)\n",
    "ax2.grid(True)\n",
    "\n",
    "plt.tight_layout()\n",
    "plt.show()"
   ]
  },
  {
   "cell_type": "markdown",
   "metadata": {},
   "source": [
    "**Вывод:** матрица ошибок показывает, что модели есть куда улучшаться, она значительно лучше справляется с классификацией объектов класса 0, чем с классификацией объектов класса 1. Одно из возможных решений - использование моделей не просто анализирующих фразы, но и понимающих контекст запросов, например, предобученной на большом корпусе данных модели BERT.\n",
    "ROC-кривая находится выше диагонали, что говорит о том, что наша модель лучше случайной и значение AUC указывает на хорошую общую способность модели различать классы."
   ]
  },
  {
   "cell_type": "markdown",
   "metadata": {},
   "source": [
    "Расчитаем метрику F1 для лучшей модели на тестовых данных"
   ]
  },
  {
   "cell_type": "code",
   "execution_count": 15,
   "metadata": {},
   "outputs": [
    {
     "name": "stdout",
     "output_type": "stream",
     "text": [
      "Метрика F1 на тестовых данных: 0.790\n"
     ]
    }
   ],
   "source": [
    "f1 = f1_score(y_test, y_pred)\n",
    "print(f'Метрика F1 на тестовых данных: {f1:.3f}')"
   ]
  },
  {
   "cell_type": "markdown",
   "metadata": {},
   "source": [
    "Метрика `F1`, полученная на тестовых данных с использованием лучшей модели, составила `0.79`, что удовлетворяет заданному значению по проекту"
   ]
  },
  {
   "cell_type": "markdown",
   "metadata": {},
   "source": [
    "## Выводы"
   ]
  },
  {
   "cell_type": "markdown",
   "metadata": {},
   "source": [
    "**В рамках проекта был проведен:** анализ данных, в т.ч. графический. Проведена очистка и лемматизация комментариев, сформированы новые признаки для обучения моделей на основе TF-IDF: `TfidfVectorizer`, в т.ч с использованием униграмм и биграмм.\n",
    "\n",
    "С целью классификации комментариев обучены 5 моделей, расчитана метрика `F1` и отобрана лучшая модель на основе данной метрики. Произведен анализ лучшей модели на основе матрицы ошибок и ROC-кривой, рассчитан прогноз и метрика для лучшей модели на тестовых данных.\n",
    "_____________\n",
    "\n",
    "**На этапе предобработки данных:** загружена и получена общая информация по датасету: пропуски в данных отсутствуют, тип данных соответствует описанию. \n",
    "\n",
    "**На этапе анализа и подготовки данных:** проведен анализ распределения целевого признака. Проведена очистка и лемматизация всего объема комментариев, сформированы новые признаки для обучения моделей с помощью преобразования текстовых данных в числовую матрицу на основе TF-IDF: `TfidfVectorizer`, в т.ч с использованием униграмм и биграмм.\n",
    "\n",
    "**На этапе обучения и выбора лучшей модели:** с использованием пайплайнов обучены 5 моделей: `LogisticRegression`, `RandomForestClassifier`, `KNeighborsClassifier`, `LGBMClassifier`,  `CatBoostClassifier`. Для каждой из моделей подобраны оптимальные гиперпараметры. Для выбора лучшей модели использовалась заданная метрика `F1`.    \n",
    "\n",
    "Моделью, показавшей наилучшие результаты метрики `F1` на кроссвалидационной выборке, стала `LGBMClassifier` с параметрами: число листьев - 63, скорость обучения - 0.05, количество деревьев - 500, максимальная глубина - 47, доля признаков для обучения - 0.6.    \n",
    "С использованием данной модели `F1`, полученная с помощью кросс-валидации, составила `0.778`\n",
    "\n",
    "**На этапе тестирования лучшей модели:** Произведен анализ лучшей модели на основе матрицы ошибок и ROC-кривой, который показал, что модель лучше справляется с классификацией объектов класса 0, чем с классификацией объектов класса 1. Одно из возможных решений - использование моделей не просто анализирующих фразы, но и понимающих контекст запросов, например, предобученной на большом корпусе данных модели BERT.\n",
    "ROC-кривая и значение AUC указывают на хорошую общую способность модели различать классы.    \n",
    "Рассчитаннная для лучшей модели метрика `F1` на тестовых данных составила `0.79`. \n",
    "\n",
    "С учетом вышеизложенного модель `LGBMClassifier` может быть рекомендована для использования при классификации комментариев пользователей на позитивные и негативные."
   ]
  },
  {
   "cell_type": "markdown",
   "metadata": {},
   "source": [
    "## Дополнительная работа (BERT)"
   ]
  },
  {
   "cell_type": "markdown",
   "metadata": {},
   "source": [
    "Проведем дополнительно (вне основного задания) аналогичный расчет метрики F1 с использованием предобученной модели `toxic-bert`"
   ]
  },
  {
   "cell_type": "markdown",
   "metadata": {},
   "source": [
    "### Формирование выборки для модели"
   ]
  },
  {
   "cell_type": "markdown",
   "metadata": {},
   "source": [
    "Сформируем выборку из общего датасета с сохранением пропорции классов"
   ]
  },
  {
   "cell_type": "code",
   "execution_count": 16,
   "metadata": {},
   "outputs": [
    {
     "name": "stdout",
     "output_type": "stream",
     "text": [
      "(2000, 4) \n",
      " 0    0.8985\n",
      "1    0.1015\n",
      "Name: toxic, dtype: float64\n"
     ]
    }
   ],
   "source": [
    "sample_size = 2000\n",
    "\n",
    "# Поддержание пропорций\n",
    "class_1_sample = df[df['toxic'] == 1].sample(n=round(sample_size * len(df[df['toxic'] == 1]) / len(df)), \n",
    "                                             random_state=RANDOM_STATE)\n",
    "class_0_sample = df[df['toxic'] == 0].sample(n=round(sample_size * len(df[df['toxic'] == 0]) / len(df)), \n",
    "                                             random_state=RANDOM_STATE)\n",
    "\n",
    "# Объединение и перемешивание данных\n",
    "df_sample = pd.concat([class_1_sample, class_0_sample])\\\n",
    "              .sample(frac=1, random_state=RANDOM_STATE).reset_index(drop=True)\n",
    "\n",
    "print(df_sample.shape,'\\n', df_sample['toxic'].value_counts(normalize=True))"
   ]
  },
  {
   "cell_type": "markdown",
   "metadata": {},
   "source": [
    "### Токенизация текста"
   ]
  },
  {
   "cell_type": "markdown",
   "metadata": {},
   "source": [
    "Учтем, что тензоры модели BERT обрабатывают последовательности не более 512 токенов"
   ]
  },
  {
   "cell_type": "code",
   "execution_count": 17,
   "metadata": {},
   "outputs": [
    {
     "name": "stdout",
     "output_type": "stream",
     "text": [
      "[  101  4165  2066  1037  2933 10856 10695   102     0     0     0     0\n",
      "     0     0     0     0     0     0     0     0]\n",
      "(2000, 512)\n"
     ]
    }
   ],
   "source": [
    "# Инициализируем токенайзер модели BERT с подготовленным словарем\n",
    "tokenizer = AutoTokenizer.from_pretrained(\"unitary/toxic-bert\")\n",
    "\n",
    "# Токенизация\n",
    "tokenized = df_sample['text'].apply(lambda x: tokenizer.encode(x, add_special_tokens=True, max_length=512, \n",
    "                                                               truncation=True))\n",
    "# Дополнение токенов до максимальной длины\n",
    "padded = tokenized.apply(lambda x: x + [0]*(512 - len(x)))\n",
    "padded = np.array(padded.tolist())\n",
    "print(padded[0][:20])\n",
    "\n",
    "# Создание \"маски внимания\"\n",
    "attention_mask = np.where(padded != 0, 1, 0)\n",
    "print(attention_mask.shape)"
   ]
  },
  {
   "cell_type": "markdown",
   "metadata": {},
   "source": [
    "### Создание признаков для модели"
   ]
  },
  {
   "cell_type": "markdown",
   "metadata": {},
   "source": [
    "Преобразование текстов в эмбеддинги с использованием предобученной модели `toxic-bert`"
   ]
  },
  {
   "cell_type": "code",
   "execution_count": 18,
   "metadata": {},
   "outputs": [
    {
     "name": "stderr",
     "output_type": "stream",
     "text": [
      "100%|██████████| 20/20 [41:05<00:00, 123.28s/it]\n"
     ]
    },
    {
     "data": {
      "text/plain": [
       "(2000, 6)"
      ]
     },
     "execution_count": 18,
     "metadata": {},
     "output_type": "execute_result"
    }
   ],
   "source": [
    "model = AutoModelForSequenceClassification.from_pretrained(\"unitary/toxic-bert\")\n",
    "\n",
    "# Создаем эмбеддинги батчами\n",
    "batch_size = 100\n",
    "embeddings = []\n",
    "for i in tqdm(range(padded.shape[0] // batch_size)):\n",
    "    batch = torch.LongTensor(padded[batch_size*i:batch_size*(i+1)]) \n",
    "    attention_mask_batch = torch.LongTensor(attention_mask[batch_size*i:batch_size*(i+1)])\n",
    "\n",
    "# Для ускорения вычисления в библиотеке torch укажем, что градиенты не нужны: модель дообучать не будем.\n",
    "    with torch.no_grad():\n",
    "        batch_embeddings = model(batch, attention_mask=attention_mask_batch)\n",
    "    embeddings.append(batch_embeddings[0].numpy())    \n",
    "\n",
    "# Сбор эмбеддингов в матрицу признаков\n",
    "features = np.concatenate(embeddings)\n",
    "features.shape"
   ]
  },
  {
   "cell_type": "markdown",
   "metadata": {},
   "source": [
    "## Обучение"
   ]
  },
  {
   "cell_type": "markdown",
   "metadata": {},
   "source": [
    "Для подбора модели будем использовать один общий пайплайн для всех моделей и инструмент подбора гиперпараметров `GridSearchCV`. Выбор лучшей модели будет осуществляться на основе метрики — `F1`\n",
    "\n",
    "В рамках пайплайна использовались следующие типы моделей:    \n",
    "\n",
    "- `LogisticRegression, RandomForestClassifier, KNeighborsClassifier, LGBMClassifier, CatBoostClassifier` со своими настройками гиперпараметров\n",
    "\n",
    "Для удобства и сокращения времени проверки на ревью, путем проведения серии обучения моделей с подбором гиперпараметров, были определены их оптимальные значения, которые были зафиксированы в приведенном ниже пайплайне."
   ]
  },
  {
   "cell_type": "code",
   "execution_count": 19,
   "metadata": {},
   "outputs": [
    {
     "name": "stdout",
     "output_type": "stream",
     "text": [
      "Fitting 5 folds for each of 6 candidates, totalling 30 fits\n"
     ]
    },
    {
     "data": {
      "text/plain": [
       "'Лучшая модель и её параметры:'"
      ]
     },
     "metadata": {},
     "output_type": "display_data"
    },
    {
     "data": {
      "text/plain": [
       "{'models': <catboost.core.CatBoostClassifier at 0x25a3a486910>,\n",
       " 'models__depth': 10,\n",
       " 'models__iterations': 100,\n",
       " 'models__learning_rate': 0.01}"
      ]
     },
     "metadata": {},
     "output_type": "display_data"
    },
    {
     "name": "stdout",
     "output_type": "stream",
     "text": [
      "Метрика F1, полученная с помощью кросс-валидации: 0.934\n",
      "CPU times: total: 1.88 s\n",
      "Wall time: 10.3 s\n"
     ]
    }
   ],
   "source": [
    "%%time\n",
    "# разобъем данные на тренировочную и тестовую выборки\n",
    "X_train, X_test, y_train, y_test = train_test_split(features,\n",
    "                                                    df_sample['toxic'],\n",
    "                                                    stratify = df_sample['toxic'],\n",
    "                                                    test_size=TEST_SIZE,\n",
    "                                                    random_state=RANDOM_STATE)\n",
    "\n",
    "# создаём итоговый пайплайн: подготовка данных и модель\n",
    "pipe_final = Pipeline([  \n",
    "    ('models', None)\n",
    "])\n",
    "\n",
    "param_grid = [\n",
    "    \n",
    "    # словарь для модели RandomForestClassifier()\n",
    "    {\n",
    "        'models': [RandomForestClassifier(class_weight='balanced', random_state=RANDOM_STATE)],\n",
    "        'models__max_depth': [25],\n",
    "        'models__min_samples_leaf': [5],\n",
    "        'models__min_samples_split': [5],\n",
    "        'models__max_features': [3],\n",
    "        'models__n_estimators': [200]\n",
    "    },\n",
    "    \n",
    "    # словарь для модели KNeighborsClassifier() \n",
    "    {\n",
    "        'models': [KNeighborsClassifier()],\n",
    "        'models__n_neighbors': [13]\n",
    "    },\n",
    "\n",
    "    # словарь для модели LogisticRegression()\n",
    "    {\n",
    "        'models': [LogisticRegression(class_weight='balanced', random_state=RANDOM_STATE)],\n",
    "        'models__solver': ['saga'],\n",
    "        'models__penalty': ['l1'],\n",
    "        'models__C': [3]\n",
    "    },\n",
    "    \n",
    "    # словарь для модели SVC()\n",
    "    {\n",
    "        'models': [SVC(probability=True, class_weight='balanced', random_state=RANDOM_STATE)],\n",
    "        'models__kernel': ['poly'],\n",
    "        'models__degree': [3],\n",
    "        'models__C': [10],\n",
    "        'models__gamma': [0.01]\n",
    "    },\n",
    "  \n",
    "    # словарь для модели LGBMClassifier\n",
    "    {\n",
    "        'models': [LGBMClassifier(verbose=-1, random_state=RANDOM_STATE, n_jobs=1)],\n",
    "        'models__num_leaves': [20],  # число листьев\n",
    "        'models__learning_rate': [0.05],  # скорость обучения\n",
    "        'models__n_estimators': [300],  # количество деревьев\n",
    "        'models__max_depth': [5],  # максимальная глубина\n",
    "        'models__feature_fraction': [0.6]  # доля признаков для обучения\n",
    "    },\n",
    "    \n",
    "    # словарь для CatBoostClassifier\n",
    "    {\n",
    "        'models': [CatBoostClassifier(verbose=0, random_state=RANDOM_STATE)],\n",
    "        'models__depth': [10],  # глубина деревьев\n",
    "        'models__learning_rate': [0.01],  # скорость обучения\n",
    "        'models__iterations': [100]  # количество итераций\n",
    "    }\n",
    "]\n",
    "\n",
    "grid_search = GridSearchCV(\n",
    "    pipe_final, \n",
    "    param_grid, \n",
    "    scoring='f1', \n",
    "    cv=5,\n",
    "    n_jobs=-1,\n",
    "    verbose=2\n",
    ")\n",
    "\n",
    "grid_search.fit(X_train, y_train)\n",
    "\n",
    "display('Лучшая модель и её параметры:', grid_search.best_params_)\n",
    "print (f'Метрика F1, полученная с помощью кросс-валидации: {grid_search.best_score_:.3f}')"
   ]
  },
  {
   "cell_type": "code",
   "execution_count": 20,
   "metadata": {},
   "outputs": [
    {
     "name": "stdout",
     "output_type": "stream",
     "text": [
      "Лучшие метрики F1 для каждой модели:\n",
      "model_name\n",
      "CatBoostClassifier        0.934269\n",
      "RandomForestClassifier    0.930371\n",
      "KNeighborsClassifier      0.926357\n",
      "SVC                       0.924654\n",
      "LogisticRegression        0.923536\n",
      "LGBMClassifier            0.917116\n",
      "Name: mean_test_score, dtype: float64\n"
     ]
    }
   ],
   "source": [
    "results = pd.DataFrame(grid_search.cv_results_)\n",
    "results['model_name'] = results['param_models'].apply(lambda x: type(x).__name__)\n",
    "\n",
    "# Группировка по имени модели и нахождение лучшего score для каждой модели\n",
    "best_scores = results.groupby('model_name')['mean_test_score'].max().sort_values(ascending=False)\n",
    "\n",
    "print(\"Лучшие метрики F1 для каждой модели:\")\n",
    "print(best_scores)"
   ]
  },
  {
   "cell_type": "markdown",
   "metadata": {},
   "source": [
    "**Вывод:** с использованием модели `toxic-bert` метрика `F1` по всем моделям превысила значение 0,9 и значительно превысила значение метрики лучшей модели 0.778, обученной на основе TF-IDF."
   ]
  },
  {
   "cell_type": "markdown",
   "metadata": {},
   "source": [
    "## Тестирование лучшей модели"
   ]
  },
  {
   "cell_type": "code",
   "execution_count": 21,
   "metadata": {},
   "outputs": [
    {
     "data": {
      "image/png": "[encoded data removed]",
      "text/plain": [
       "<Figure size 1600x600 with 2 Axes>"
      ]
     },
     "metadata": {},
     "output_type": "display_data"
    }
   ],
   "source": [
    "# Предсказания меток и вероятностей\n",
    "y_pred = grid_search.predict(X_test)\n",
    "y_probа = grid_search.predict_proba(X_test)[:, 1]\n",
    "\n",
    "# Построение матрицы ошибок\n",
    "cm = confusion_matrix(y_test, y_pred)\n",
    "\n",
    "# Построение ROC-кривой\n",
    "fpr, tpr, _ = roc_curve(y_test, y_probа)\n",
    "roc_auc = auc(fpr, tpr)\n",
    "\n",
    "# Отображение объектов\n",
    "fig, (ax1, ax2) = plt.subplots(1, 2, figsize=(16, 6))\n",
    "\n",
    "# Матрица ошибок\n",
    "sns.heatmap(cm, annot=True, fmt='d', cmap='Blues', cbar=False, annot_kws={\"size\": 16}, ax=ax1)\n",
    "ax1.set_title('Матрица ошибок', fontsize=20)\n",
    "ax1.set_xlabel('Прогнозированный класс', fontsize=15)\n",
    "ax1.set_ylabel('Истинный класс', fontsize=15)\n",
    "ax1.set_xticks([0.5, 1.5])\n",
    "ax1.set_xticklabels(['Класс 0', 'Класс 1'], fontsize=12)\n",
    "ax1.set_yticks([0.5, 1.5])\n",
    "ax1.set_yticklabels(['Класс 0', 'Класс 1'], fontsize=12)\n",
    "\n",
    "# ROC-кривая\n",
    "ax2.plot(fpr, tpr, color='darkorange', lw=2, label='ROC-кривая (AUC = %0.4f)' % roc_auc)\n",
    "ax2.plot([0, 1], [0, 1], color='navy', lw=2, linestyle='--')\n",
    "ax2.set_xlim([0.0, 1.0])\n",
    "ax2.set_ylim([0.0, 1.05])\n",
    "ax2.set_xlabel('Ложно положительные', fontsize=15)\n",
    "ax2.set_ylabel('Истинно положительные', fontsize=15)\n",
    "ax2.set_title('ROC-кривая', fontsize=20)\n",
    "ax2.legend(loc=\"lower right\", fontsize=14)\n",
    "ax2.grid(True)\n",
    "\n",
    "plt.tight_layout()\n",
    "plt.show()"
   ]
  },
  {
   "cell_type": "markdown",
   "metadata": {},
   "source": [
    "Расчитаем метрику F1 для лучшей модели на тестовых данных"
   ]
  },
  {
   "cell_type": "code",
   "execution_count": 22,
   "metadata": {},
   "outputs": [
    {
     "name": "stdout",
     "output_type": "stream",
     "text": [
      "Метрика F1 на тестовых данных: 0.976\n"
     ]
    }
   ],
   "source": [
    "f1 = f1_score(y_test, y_pred)\n",
    "print(f'Метрика F1 на тестовых данных: {f1:.3f}')"
   ]
  },
  {
   "cell_type": "markdown",
   "metadata": {},
   "source": [
    "Метрика F1 на тестовых данных лучшей модели, обученной на основе TF-IDF: **0.79**"
   ]
  }
 ],
 "metadata": {
  "ExecuteTimeLog": [
   {
    "duration": 12302,
    "start_time": "2024-08-09T08:42:57.403Z"
   },
   {
    "duration": 1118,
    "start_time": "2024-08-09T08:43:18.178Z"
   },
   {
    "duration": 9,
    "start_time": "2024-08-09T08:46:43.149Z"
   },
   {
    "duration": 499,
    "start_time": "2024-08-09T08:47:00.705Z"
   },
   {
    "duration": 28,
    "start_time": "2024-08-09T08:47:12.389Z"
   },
   {
    "duration": 11,
    "start_time": "2024-08-09T08:47:19.787Z"
   },
   {
    "duration": 870,
    "start_time": "2024-08-09T08:47:31.325Z"
   },
   {
    "duration": 761,
    "start_time": "2024-08-09T08:48:03.814Z"
   },
   {
    "duration": 759,
    "start_time": "2024-08-09T08:48:13.922Z"
   },
   {
    "duration": 768,
    "start_time": "2024-08-09T08:48:53.792Z"
   },
   {
    "duration": 6,
    "start_time": "2024-08-09T10:48:59.702Z"
   },
   {
    "duration": 3,
    "start_time": "2024-08-09T10:49:00.912Z"
   },
   {
    "duration": 3,
    "start_time": "2024-08-09T10:49:01.502Z"
   },
   {
    "duration": 4,
    "start_time": "2024-08-09T10:49:05.909Z"
   },
   {
    "duration": 5924,
    "start_time": "2024-08-09T10:49:08.602Z"
   },
   {
    "duration": 301,
    "start_time": "2024-08-09T10:50:22.002Z"
   },
   {
    "duration": 6009,
    "start_time": "2024-08-09T10:52:17.702Z"
   },
   {
    "duration": 295,
    "start_time": "2024-08-09T10:52:23.713Z"
   },
   {
    "duration": 81,
    "start_time": "2024-08-09T10:58:53.324Z"
   },
   {
    "duration": 4512,
    "start_time": "2024-08-09T11:01:38.604Z"
   },
   {
    "duration": 6,
    "start_time": "2024-08-09T11:01:47.401Z"
   },
   {
    "duration": 9,
    "start_time": "2024-08-09T11:02:13.703Z"
   },
   {
    "duration": 9,
    "start_time": "2024-08-09T11:02:41.603Z"
   },
   {
    "duration": 1209,
    "start_time": "2024-08-09T11:09:35.703Z"
   },
   {
    "duration": 1293,
    "start_time": "2024-08-09T11:11:12.418Z"
   },
   {
    "duration": 1406,
    "start_time": "2024-08-09T11:11:30.103Z"
   },
   {
    "duration": 7,
    "start_time": "2024-08-09T15:50:06.302Z"
   },
   {
    "duration": 2722,
    "start_time": "2024-08-09T15:53:19.253Z"
   },
   {
    "duration": 1537,
    "start_time": "2024-08-09T15:55:29.216Z"
   },
   {
    "duration": 3,
    "start_time": "2024-08-09T15:55:30.754Z"
   },
   {
    "duration": 88,
    "start_time": "2024-08-09T15:55:30.759Z"
   },
   {
    "duration": 47,
    "start_time": "2024-08-09T15:55:30.848Z"
   },
   {
    "duration": 1114,
    "start_time": "2024-08-09T15:55:30.897Z"
   },
   {
    "duration": 46,
    "start_time": "2024-08-09T15:55:32.013Z"
   },
   {
    "duration": 38,
    "start_time": "2024-08-09T15:55:32.061Z"
   },
   {
    "duration": 233,
    "start_time": "2024-08-09T15:55:32.100Z"
   },
   {
    "duration": 2732,
    "start_time": "2024-08-09T15:55:32.335Z"
   },
   {
    "duration": 42,
    "start_time": "2024-08-09T15:56:12.965Z"
   },
   {
    "duration": 1468,
    "start_time": "2024-08-09T15:56:19.265Z"
   },
   {
    "duration": 3,
    "start_time": "2024-08-09T15:56:20.735Z"
   },
   {
    "duration": 80,
    "start_time": "2024-08-09T15:56:20.739Z"
   },
   {
    "duration": 43,
    "start_time": "2024-08-09T15:56:20.820Z"
   },
   {
    "duration": 1063,
    "start_time": "2024-08-09T15:56:20.864Z"
   },
   {
    "duration": 44,
    "start_time": "2024-08-09T15:56:21.928Z"
   },
   {
    "duration": 5,
    "start_time": "2024-08-09T15:56:21.973Z"
   },
   {
    "duration": 231,
    "start_time": "2024-08-09T15:56:21.979Z"
   },
   {
    "duration": 3355,
    "start_time": "2024-08-09T15:56:22.212Z"
   },
   {
    "duration": 725,
    "start_time": "2024-08-09T15:56:51.361Z"
   },
   {
    "duration": 742,
    "start_time": "2024-08-09T15:57:08.589Z"
   },
   {
    "duration": 6,
    "start_time": "2024-08-09T15:59:31.035Z"
   },
   {
    "duration": 110,
    "start_time": "2024-08-09T15:59:31.042Z"
   },
   {
    "duration": 34,
    "start_time": "2024-08-09T15:59:31.154Z"
   },
   {
    "duration": 76,
    "start_time": "2024-08-09T15:59:31.189Z"
   },
   {
    "duration": 864,
    "start_time": "2024-08-09T15:59:31.267Z"
   },
   {
    "duration": 43,
    "start_time": "2024-08-09T15:59:32.133Z"
   },
   {
    "duration": 4,
    "start_time": "2024-08-09T15:59:32.177Z"
   },
   {
    "duration": 222,
    "start_time": "2024-08-09T15:59:32.182Z"
   },
   {
    "duration": 2048,
    "start_time": "2024-08-10T08:59:21.899Z"
   },
   {
    "duration": 3,
    "start_time": "2024-08-10T08:59:23.949Z"
   },
   {
    "duration": 8,
    "start_time": "2024-08-10T08:59:23.953Z"
   },
   {
    "duration": 6,
    "start_time": "2024-08-10T08:59:23.963Z"
   },
   {
    "duration": 1930,
    "start_time": "2024-08-10T08:59:23.971Z"
   },
   {
    "duration": 113,
    "start_time": "2024-08-10T08:59:25.947Z"
   },
   {
    "duration": 5,
    "start_time": "2024-08-10T08:59:26.061Z"
   },
   {
    "duration": 258,
    "start_time": "2024-08-10T08:59:26.067Z"
   },
   {
    "duration": 3166,
    "start_time": "2024-08-10T08:59:26.327Z"
   },
   {
    "duration": 14,
    "start_time": "2024-08-10T09:08:20.014Z"
   },
   {
    "duration": 5,
    "start_time": "2024-08-10T09:15:37.249Z"
   },
   {
    "duration": 7,
    "start_time": "2024-08-10T09:16:55.718Z"
   },
   {
    "duration": 3135,
    "start_time": "2024-08-10T09:20:07.613Z"
   },
   {
    "duration": 184,
    "start_time": "2024-08-10T10:34:14.944Z"
   },
   {
    "duration": 807156,
    "start_time": "2024-08-10T10:35:09.744Z"
   },
   {
    "duration": 0,
    "start_time": "2024-08-10T10:48:36.903Z"
   },
   {
    "duration": 672100,
    "start_time": "2024-08-10T10:49:00.142Z"
   },
   {
    "duration": 68,
    "start_time": "2024-08-10T11:45:16.872Z"
   },
   {
    "duration": 68,
    "start_time": "2024-08-10T11:45:35.958Z"
   },
   {
    "duration": 91,
    "start_time": "2024-08-10T11:45:45.921Z"
   },
   {
    "duration": 45,
    "start_time": "2024-08-10T11:45:58.214Z"
   },
   {
    "duration": 57,
    "start_time": "2024-08-10T11:46:19.625Z"
   },
   {
    "duration": 9,
    "start_time": "2024-08-10T11:46:54.446Z"
   },
   {
    "duration": 49,
    "start_time": "2024-08-10T11:47:33.118Z"
   },
   {
    "duration": 43,
    "start_time": "2024-08-10T11:47:52.551Z"
   },
   {
    "duration": 69,
    "start_time": "2024-08-10T11:48:11.650Z"
   },
   {
    "duration": 64,
    "start_time": "2024-08-10T11:48:34.538Z"
   },
   {
    "duration": 87,
    "start_time": "2024-08-10T11:48:49.517Z"
   },
   {
    "duration": 41,
    "start_time": "2024-08-10T11:48:55.876Z"
   },
   {
    "duration": 41,
    "start_time": "2024-08-10T11:49:02.366Z"
   },
   {
    "duration": 40,
    "start_time": "2024-08-10T11:49:09.219Z"
   },
   {
    "duration": 45,
    "start_time": "2024-08-10T11:49:25.285Z"
   },
   {
    "duration": 1526029,
    "start_time": "2024-08-10T11:50:03.004Z"
   },
   {
    "duration": 7,
    "start_time": "2024-08-10T13:45:08.867Z"
   },
   {
    "duration": 50,
    "start_time": "2024-08-10T13:45:22.108Z"
   },
   {
    "duration": 143,
    "start_time": "2024-08-10T13:45:38.925Z"
   },
   {
    "duration": 102,
    "start_time": "2024-08-10T13:47:06.378Z"
   },
   {
    "duration": 28,
    "start_time": "2024-08-10T13:47:21.273Z"
   },
   {
    "duration": 129,
    "start_time": "2024-08-10T13:47:46.407Z"
   },
   {
    "duration": 25,
    "start_time": "2024-08-10T13:47:47.830Z"
   },
   {
    "duration": 126,
    "start_time": "2024-08-10T13:48:27.238Z"
   },
   {
    "duration": 25,
    "start_time": "2024-08-10T13:48:30.181Z"
   },
   {
    "duration": 276,
    "start_time": "2024-08-10T13:48:40.690Z"
   },
   {
    "duration": 50,
    "start_time": "2024-08-10T13:48:43.516Z"
   },
   {
    "duration": 266,
    "start_time": "2024-08-10T13:49:16.221Z"
   },
   {
    "duration": 61,
    "start_time": "2024-08-10T13:49:19.092Z"
   },
   {
    "duration": 108,
    "start_time": "2024-08-10T13:49:33.123Z"
   },
   {
    "duration": 28,
    "start_time": "2024-08-10T13:49:34.161Z"
   },
   {
    "duration": 106,
    "start_time": "2024-08-10T13:50:13.515Z"
   },
   {
    "duration": 23,
    "start_time": "2024-08-10T13:50:14.805Z"
   },
   {
    "duration": 105,
    "start_time": "2024-08-10T13:50:30.327Z"
   },
   {
    "duration": 38,
    "start_time": "2024-08-10T13:50:31.487Z"
   },
   {
    "duration": 101,
    "start_time": "2024-08-10T13:50:36.489Z"
   },
   {
    "duration": 33,
    "start_time": "2024-08-10T13:50:36.846Z"
   },
   {
    "duration": 118,
    "start_time": "2024-08-10T13:50:59.047Z"
   },
   {
    "duration": 23,
    "start_time": "2024-08-10T13:51:00.297Z"
   },
   {
    "duration": 116,
    "start_time": "2024-08-10T16:15:29.236Z"
   },
   {
    "duration": 23,
    "start_time": "2024-08-10T16:15:48.070Z"
   },
   {
    "duration": 103,
    "start_time": "2024-08-10T16:16:06.186Z"
   },
   {
    "duration": 25,
    "start_time": "2024-08-10T16:16:10.713Z"
   },
   {
    "duration": 102,
    "start_time": "2024-08-10T16:16:31.917Z"
   },
   {
    "duration": 25,
    "start_time": "2024-08-10T16:16:36.586Z"
   },
   {
    "duration": 100,
    "start_time": "2024-08-10T16:20:29.161Z"
   },
   {
    "duration": 10,
    "start_time": "2024-08-10T16:20:32.360Z"
   },
   {
    "duration": 77,
    "start_time": "2024-08-10T16:21:10.808Z"
   },
   {
    "duration": 208,
    "start_time": "2024-08-10T16:21:39.744Z"
   },
   {
    "duration": 97,
    "start_time": "2024-08-10T16:21:54.293Z"
   },
   {
    "duration": 259,
    "start_time": "2024-08-10T16:22:00.190Z"
   },
   {
    "duration": 7149,
    "start_time": "2024-08-10T16:22:39.955Z"
   },
   {
    "duration": 102,
    "start_time": "2024-08-10T16:23:01.838Z"
   },
   {
    "duration": 20,
    "start_time": "2024-08-10T16:23:02.809Z"
   },
   {
    "duration": 246,
    "start_time": "2024-08-10T16:23:14.766Z"
   },
   {
    "duration": 7053,
    "start_time": "2024-08-11T17:33:34.402Z"
   },
   {
    "duration": 8476,
    "start_time": "2024-08-11T17:34:51.864Z"
   },
   {
    "duration": 16416,
    "start_time": "2024-08-11T17:37:15.440Z"
   },
   {
    "duration": 16293,
    "start_time": "2024-08-11T17:39:38.143Z"
   },
   {
    "duration": 4709,
    "start_time": "2024-08-11T17:40:03.462Z"
   },
   {
    "duration": 15707,
    "start_time": "2024-08-11T17:40:20.047Z"
   },
   {
    "duration": 3,
    "start_time": "2024-08-11T17:41:05.697Z"
   },
   {
    "duration": 3,
    "start_time": "2024-08-11T17:41:06.559Z"
   },
   {
    "duration": 4,
    "start_time": "2024-08-11T17:42:12.970Z"
   },
   {
    "duration": 3680,
    "start_time": "2024-08-11T17:42:17.795Z"
   },
   {
    "duration": 25,
    "start_time": "2024-08-11T17:42:46.013Z"
   },
   {
    "duration": 946,
    "start_time": "2024-08-11T17:43:08.931Z"
   },
   {
    "duration": 61,
    "start_time": "2024-08-11T17:43:12.835Z"
   },
   {
    "duration": 217,
    "start_time": "2024-08-11T17:57:28.551Z"
   },
   {
    "duration": 8,
    "start_time": "2024-08-11T17:57:31.740Z"
   },
   {
    "duration": 1337,
    "start_time": "2024-08-11T17:58:04.372Z"
   },
   {
    "duration": 253,
    "start_time": "2024-08-11T17:58:19.592Z"
   },
   {
    "duration": 6,
    "start_time": "2024-08-11T17:58:52.234Z"
   },
   {
    "duration": 7,
    "start_time": "2024-08-11T17:58:55.876Z"
   },
   {
    "duration": 15988,
    "start_time": "2024-08-12T22:41:56.872Z"
   },
   {
    "duration": 4541,
    "start_time": "2024-08-12T22:42:12.862Z"
   },
   {
    "duration": 3,
    "start_time": "2024-08-12T22:42:17.405Z"
   },
   {
    "duration": 5,
    "start_time": "2024-08-12T22:42:17.410Z"
   },
   {
    "duration": 4,
    "start_time": "2024-08-12T22:42:17.416Z"
   },
   {
    "duration": 951,
    "start_time": "2024-08-12T22:42:17.422Z"
   },
   {
    "duration": 80,
    "start_time": "2024-08-12T22:42:18.375Z"
   },
   {
    "duration": 240,
    "start_time": "2024-08-12T22:42:18.457Z"
   },
   {
    "duration": 12,
    "start_time": "2024-08-12T22:42:18.698Z"
   },
   {
    "duration": 207,
    "start_time": "2024-08-12T22:42:18.713Z"
   },
   {
    "duration": 986791,
    "start_time": "2024-08-12T22:42:18.922Z"
   },
   {
    "duration": 17746,
    "start_time": "2024-08-13T06:54:52.320Z"
   },
   {
    "duration": 4745,
    "start_time": "2024-08-13T06:55:10.069Z"
   },
   {
    "duration": 3,
    "start_time": "2024-08-13T06:55:14.815Z"
   },
   {
    "duration": 5,
    "start_time": "2024-08-13T06:55:14.820Z"
   },
   {
    "duration": 27,
    "start_time": "2024-08-13T06:55:14.827Z"
   },
   {
    "duration": 1379,
    "start_time": "2024-08-13T06:55:14.856Z"
   },
   {
    "duration": 59,
    "start_time": "2024-08-13T06:55:16.237Z"
   },
   {
    "duration": 267,
    "start_time": "2024-08-13T06:55:16.298Z"
   },
   {
    "duration": 7,
    "start_time": "2024-08-13T06:55:16.567Z"
   },
   {
    "duration": 297,
    "start_time": "2024-08-13T06:55:16.576Z"
   },
   {
    "duration": 1016235,
    "start_time": "2024-08-13T06:55:16.874Z"
   },
   {
    "duration": 5603871,
    "start_time": "2024-08-13T07:12:13.112Z"
   },
   {
    "duration": 322,
    "start_time": "2024-08-13T08:45:36.985Z"
   },
   {
    "duration": 0,
    "start_time": "2024-08-13T08:45:37.309Z"
   },
   {
    "duration": 0,
    "start_time": "2024-08-13T08:45:37.310Z"
   },
   {
    "duration": 6756,
    "start_time": "2024-08-13T11:10:15.080Z"
   },
   {
    "duration": 3,
    "start_time": "2024-08-13T11:10:21.838Z"
   },
   {
    "duration": 9,
    "start_time": "2024-08-13T11:10:21.842Z"
   },
   {
    "duration": 5,
    "start_time": "2024-08-13T11:10:21.853Z"
   },
   {
    "duration": 847,
    "start_time": "2024-08-13T11:10:21.860Z"
   },
   {
    "duration": 48,
    "start_time": "2024-08-13T11:10:22.708Z"
   },
   {
    "duration": 221,
    "start_time": "2024-08-13T11:10:25.661Z"
   },
   {
    "duration": 9,
    "start_time": "2024-08-13T11:10:26.715Z"
   },
   {
    "duration": 337,
    "start_time": "2024-08-13T11:10:27.245Z"
   }
  ],
  "kernelspec": {
   "display_name": "Python 3 (ipykernel)",
   "language": "python",
   "name": "python3"
  },
  "language_info": {
   "codemirror_mode": {
    "name": "ipython",
    "version": 3
   },
   "file_extension": ".py",
   "mimetype": "text/x-python",
   "name": "python",
   "nbconvert_exporter": "python",
   "pygments_lexer": "ipython3",
   "version": "3.9.5"
  },
  "toc": {
   "base_numbering": 1,
   "nav_menu": {},
   "number_sections": true,
   "sideBar": true,
   "skip_h1_title": true,
   "title_cell": "Содержание",
   "title_sidebar": "Contents",
   "toc_cell": true,
   "toc_position": {
    "height": "calc(100% - 180px)",
    "left": "10px",
    "top": "150px",
    "width": "165px"
   },
   "toc_section_display": true,
   "toc_window_display": true
  }
 },
 "nbformat": 4,
 "nbformat_minor": 4
}
