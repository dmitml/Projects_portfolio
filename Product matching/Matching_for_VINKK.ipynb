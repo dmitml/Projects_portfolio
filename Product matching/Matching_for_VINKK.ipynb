{
 "cells": [
  {
   "cell_type": "markdown",
   "metadata": {
    "id": "wGbNGroh9qHC"
   },
   "source": [
    "## Описание проекта, загрузка и подготовка данных"
   ]
  },
  {
   "cell_type": "markdown",
   "metadata": {
    "id": "idq2K_b19qHF"
   },
   "source": [
    "### Введение\n",
    "______\n",
    "**Название проекта**  \n",
    "\n",
    "Разработка ML-системы сопоставления товарных позиций с высокой точностью.\n",
    "_____\n",
    "\n",
    "**Цель исследования**  \n",
    "\n",
    "Разработать ML-систему для автоматического сопоставления (мэтчинга) товарных позиций с заданной точностью, предназначенную для поддержки следующих бизнес-задач Заказчика:\n",
    "\n",
    "- Слияние товарных каталогов от разных поставщиков с устранением дубликатов и несовпадающих наименований\n",
    "\n",
    "- Инвентаризация и контроль остатков на складах на основе объединённой номенклатуры\n",
    "\n",
    "- Поиск и подбор аналогов для оперативной замены отсутствующих или снятых с продажи товаров\n",
    "\n",
    "_______\n",
    "**Задачи исследования**\n",
    "\n",
    "- Загрузить и подготовить данные Заказчика\n",
    "- Провести анализ и необходимую предобработку датасетов с товарами Заказчика и товарами - аналогами\n",
    "- В связи с небольшим объемом тестовой выборки синтезировать необходимые данные для обучения\n",
    "- Обучить разные модели и подобрать оптимальный пайплайн из моделей и их параметров для решения задачи\n",
    "- Проверить данные на тестовой выборке, рассчитать необходимые метрики.\n",
    "- Разработать сервис/модуль для Заказчика для запуска проекта\n",
    "_____\n",
    "**Исходные данные**  \n",
    "\n",
    "Имеются данные, где основная информация представлена в виде трех датасетов::\n",
    "\n",
    "- `Список_наших_товаров.csv` — информация о товарах Заказчика:\n",
    "\n",
    "- `Сметченные_позиции_источник_1` — сметченные товары Заказчика с товарами - аналогами из источника 1\n",
    "\n",
    "- `Сметченные_позиции_источник_2` — сметченные товары Заказчика с товарами - аналогами из источника 2    \n",
    "    \n",
    "*По требованию Заказчика все выводы данных о наименованиях его товаров закомментированы. Абстрактный пример наименования товара:*   \n",
    "`Пластик плотный-ПВХ для печати, прозрач., 830×1560мм, толщина 2 мм, FIX ECO`\n",
    "___________\n",
    "**Оценка результата:**    \n",
    "будет производиться по метрике `Hits@K` (`accuracy`) - метрика оценки качества сопоставления (matching), которая показывает находится ли правильный ответ (истинные кандидаты) в топ-K отобранных кандидатов."
   ]
  },
  {
   "cell_type": "markdown",
   "metadata": {
    "id": "0c_DgrOj9qHH"
   },
   "source": [
    "### Установка и импорт библиотек"
   ]
  },
  {
   "cell_type": "code",
   "execution_count": null,
   "metadata": {
    "id": "qyGtp2gwULmH"
   },
   "outputs": [],
   "source": [
    "!pip install gensim -q\n",
    "!pip install rank-bm25 -q"
   ]
  },
  {
   "cell_type": "code",
   "execution_count": null,
   "metadata": {
    "colab": {
     "base_uri": "https://localhost:8080/"
    },
    "id": "P4koBWUO9qHL",
    "outputId": "a07a30af-fe51-41b5-ad98-97e5b48f9afb"
   },
   "outputs": [],
   "source": [
    "\n",
    "import re\n",
    "import random\n",
    "import warnings\n",
    "import os\n",
    "import matplotlib.pyplot as plt\n",
    "import seaborn as sns\n",
    "import gensim\n",
    "import nltk\n",
    "import numpy as np\n",
    "import pandas as pd\n",
    "import joblib\n",
    "\n",
    "from tqdm.notebook import tqdm\n",
    "from gensim.models import FastText\n",
    "from nltk.tokenize import word_tokenize\n",
    "from sklearn.metrics.pairwise import cosine_similarity\n",
    "from nltk.stem import SnowballStemmer\n",
    "from rank_bm25 import BM25Okapi\n",
    "\n",
    "nltk.download('punkt')\n",
    "nltk.download('punkt_tab')"
   ]
  },
  {
   "cell_type": "code",
   "execution_count": null,
   "metadata": {
    "id": "_U1E7KJ29qHN"
   },
   "outputs": [],
   "source": [
    "# системные настройки\n",
    "pd.set_option('display.max_columns', None)\n",
    "pd.set_option('display.max_colwidth', None)\n",
    "pd.set_option('display.max_rows', None)\n",
    "warnings.filterwarnings(\"ignore\")"
   ]
  },
  {
   "cell_type": "markdown",
   "metadata": {
    "id": "Lv7wwg0d9qHR"
   },
   "source": [
    "### Объявление функций"
   ]
  },
  {
   "cell_type": "code",
   "execution_count": null,
   "metadata": {
    "id": "OsrD9qyO9qHS"
   },
   "outputs": [],
   "source": [
    "# функция для краткого обзора датасетов\n",
    "def view_df(df):\n",
    "    #display(df.head())\n",
    "    df.info()\n",
    "    display(df.columns)\n",
    "    display(df.describe())"
   ]
  },
  {
   "cell_type": "markdown",
   "metadata": {
    "id": "dMzkNJIs9qHU"
   },
   "source": [
    "### Загрузка данных"
   ]
  },
  {
   "cell_type": "code",
   "execution_count": null,
   "metadata": {
    "id": "14PDKZBE9qHV"
   },
   "outputs": [],
   "source": [
    "pth1 = '/content/Список_наших_товаров.csv'\n",
    "pth2 = '/content/Сметченные_позиции_источник_1.csv'\n",
    "pth3 = '/content/Сметченные_позиции_источник_2.csv'\n",
    "\n",
    "if os.path.exists(pth1) & os.path.exists(pth2) & os.path.exists(pth3):\n",
    "    goods = pd.read_csv(pth1, sep=',')\n",
    "    match_1 = pd.read_csv(pth2, sep=',')\n",
    "    match_2 = pd.read_csv(pth3, sep=',')\n",
    "else:\n",
    "    print('Something is wrong with loading data')"
   ]
  },
  {
   "cell_type": "markdown",
   "metadata": {
    "id": "pN3t13zU9qHW"
   },
   "source": [
    "### Общая информация о датасете"
   ]
  },
  {
   "cell_type": "code",
   "execution_count": null,
   "metadata": {
    "colab": {
     "base_uri": "https://localhost:8080/",
     "height": 1000
    },
    "id": "8CBB_n929qHX",
    "outputId": "f36dd25c-bb14-4172-9c54-b7b111081f05"
   },
   "outputs": [],
   "source": [
    "list_df = [goods, match_1, match_2]\n",
    "\n",
    "for df in list_df:\n",
    "    view_df(df)\n",
    "    print('===================================================================================')\n",
    "    print('===================================================================================')"
   ]
  },
  {
   "cell_type": "markdown",
   "metadata": {
    "id": "4fOCamasmfsK"
   },
   "source": [
    "**Вывод:** загружена и получена общая информация по датасетам:\n",
    "- по датасету `goods`:\n",
    " - имеются 4 пропуска в наименовании товара\n",
    " - тип данных в столбцах соответствуют описанию\n",
    "- по датасету `match_1`:\n",
    " - практически не заполнены столбцы *match_comment, validation_comment*\n",
    " - тип данных в столбцах соответствуют описанию          \n",
    "- по датасету `match_2`:\n",
    " - практически не заполнен столбец *match_comment*\n",
    " - тип данных в столбцах соответствуют описанию  \n",
    "\n",
    "Более подробный анализ, выявление дубликатов, ошибок заполнения и пр. будут произведены на следующих этапах обработки данных"
   ]
  },
  {
   "cell_type": "markdown",
   "metadata": {
    "id": "-eJUvYbn9qHY"
   },
   "source": [
    "##  Подготовка данных"
   ]
  },
  {
   "cell_type": "markdown",
   "metadata": {
    "id": "m2T9lHx39qHZ"
   },
   "source": [
    "### Обработка дубликатов"
   ]
  },
  {
   "cell_type": "markdown",
   "metadata": {
    "id": "VhLu-cZsm8Pv"
   },
   "source": [
    "#### Датасет **goods**"
   ]
  },
  {
   "cell_type": "code",
   "execution_count": null,
   "metadata": {
    "colab": {
     "base_uri": "https://localhost:8080/"
    },
    "id": "vL8olomniJOf",
    "outputId": "11e7c83b-ab2d-48ec-a6bd-684f3b4dbd22"
   },
   "outputs": [],
   "source": [
    "print('Исходный размер датасета goods:', goods.shape)\n",
    "print(f'Количество дубликатов в наименовании или id товара: \\\n",
    "{(goods.duplicated(subset=\"sku_id\") | goods.duplicated(subset=\"sku_name\")).sum()}')"
   ]
  },
  {
   "cell_type": "code",
   "execution_count": null,
   "metadata": {
    "id": "4qxEzsVxiewu"
   },
   "outputs": [],
   "source": [
    "# Исключим данные дубликаты\n",
    "goods = goods[~(goods.duplicated(subset=\"sku_name\"))]"
   ]
  },
  {
   "cell_type": "code",
   "execution_count": null,
   "metadata": {
    "colab": {
     "base_uri": "https://localhost:8080/"
    },
    "id": "gn53umIAiJC6",
    "outputId": "cc79d089-bcca-4611-9925-9bbf8ecaa7ef"
   },
   "outputs": [],
   "source": [
    "print('Размер датасета goods после удаления дубликатов:', goods.shape)"
   ]
  },
  {
   "cell_type": "markdown",
   "metadata": {
    "id": "21EYMmnNm4l-"
   },
   "source": [
    "#### Датасет **match_1**"
   ]
  },
  {
   "cell_type": "code",
   "execution_count": null,
   "metadata": {
    "colab": {
     "base_uri": "https://localhost:8080/"
    },
    "id": "mPSpAO2Mm_td",
    "outputId": "6e136584-0682-474d-c02d-235bddaa2d35"
   },
   "outputs": [],
   "source": [
    "print('Исходный размер датасета match_1:', match_1.shape)\n",
    "print(f'Количество дубликатов с одинаковыми наименованиями товара-аналога и нашего товара: \\\n",
    "{match_1.duplicated(subset=[\"name\", \"item_name\"]).sum()}')"
   ]
  },
  {
   "cell_type": "code",
   "execution_count": null,
   "metadata": {
    "id": "ZR2x0oK51owl"
   },
   "outputs": [],
   "source": [
    "# Исключим данные дубликаты\n",
    "match_1 = match_1.drop_duplicates(subset=[\"name\", \"item_name\"], keep=\"first\")"
   ]
  },
  {
   "cell_type": "code",
   "execution_count": null,
   "metadata": {
    "colab": {
     "base_uri": "https://localhost:8080/"
    },
    "id": "dgdf-VyXClV2",
    "outputId": "d2fd4791-9581-48fa-f706-f94a1bee3963"
   },
   "outputs": [],
   "source": [
    "print('Размер датасета match_1 после удаления дубликатов:', match_1.shape, '\\n')\n",
    "print('Количество записей, где одному нашему названию соответствуют несколько названий товаров-аналогов:'\\\n",
    "      , match_1.duplicated(subset=[\"item_name\"]).sum())"
   ]
  },
  {
   "cell_type": "markdown",
   "metadata": {
    "id": "SAjNUaDJnL_J"
   },
   "source": [
    "#### Датасет **match_2**"
   ]
  },
  {
   "cell_type": "code",
   "execution_count": null,
   "metadata": {
    "colab": {
     "base_uri": "https://localhost:8080/"
    },
    "id": "0gAbNSHNKD7A",
    "outputId": "251c346c-d47b-4c24-c54a-187ab114225d"
   },
   "outputs": [],
   "source": [
    "print('Исходный размер датасета match_2:', match_2.shape)\n",
    "print('Количество дубликатов с одинаковыми наименованиями товара-аналога и нашего товара:'\\\n",
    "      , match_2.duplicated(subset=[\"product_name\", \"sku_id\", \"item_name\"]).sum())"
   ]
  },
  {
   "cell_type": "code",
   "execution_count": null,
   "metadata": {
    "id": "nfzwPzmzFZ_l"
   },
   "outputs": [],
   "source": [
    "# Исключим данные дубликаты\n",
    "match_2 = match_2.drop_duplicates(subset=[\"product_name\", \"sku_id\", \"item_name\"], keep=\"first\")"
   ]
  },
  {
   "cell_type": "code",
   "execution_count": null,
   "metadata": {
    "colab": {
     "base_uri": "https://localhost:8080/"
    },
    "id": "tV3V-sf32zMR",
    "outputId": "4351fbcd-7d62-4a84-ed44-2b5e6a68c02b"
   },
   "outputs": [],
   "source": [
    "print('Размер датасета match_2 после удаления дубликатов:', match_2.shape, '\\n')\n",
    "print('Количество записей, где одному нашему названию соответствуют несколько названий товаров-аналогов:'\\\n",
    "      , match_2.duplicated(subset=[\"item_name\"]).sum())"
   ]
  },
  {
   "cell_type": "markdown",
   "metadata": {
    "id": "Nl2d6IfEG77R"
   },
   "source": [
    "**Вывод:** Из 792 записей исходной тестовой выборки были удалены 39 дубликатов с одинаковыми наименованиями товара-аналога и нашего товара. Следует обратить внимание, что в оставшихся 753 записях содержаться 412 экземпляров, где одному нашему названию соответствуют несколько названий товаров-аналогов, т.е доля наших уникальных товаров составляет всего ~ 45% от общего количества."
   ]
  },
  {
   "cell_type": "markdown",
   "metadata": {
    "id": "_fEcfJmSA3nC"
   },
   "source": [
    "### Исключение аналогов и объединение тестовой выборки"
   ]
  },
  {
   "cell_type": "markdown",
   "metadata": {
    "id": "noa-OomULVNi"
   },
   "source": [
    "Для более точной оценки модели, оставим в тестовой выборке тип сопоставления товаров - `exact`"
   ]
  },
  {
   "cell_type": "code",
   "execution_count": null,
   "metadata": {
    "id": "WovMXZC5YKb6"
   },
   "outputs": [],
   "source": [
    "match_1 = match_1.query('match_type == \"exact\"')\n",
    "match_2 = match_2.query('match_type == \"exact\"')"
   ]
  },
  {
   "cell_type": "markdown",
   "metadata": {
    "id": "HfCa3TAaUZg2"
   },
   "source": [
    "Объединим датасеты `match_1`, `match_2` для получения общей тестовой выборки, оставив необходимые столбцы, которые приведем к одинаковым названиям"
   ]
  },
  {
   "cell_type": "code",
   "execution_count": null,
   "metadata": {
    "id": "gNn4VjMxVegX"
   },
   "outputs": [],
   "source": [
    "match_1_ = match_1[['competitor_product_id', 'name', 'sku_id', 'item_name']]\n",
    "match_1_.columns = ['competitor_id', 'competitor_name', 'vink_id', 'vink_name']"
   ]
  },
  {
   "cell_type": "code",
   "execution_count": null,
   "metadata": {
    "id": "CJiT8wTtW5Qd"
   },
   "outputs": [],
   "source": [
    "match_2_ = match_2[['invoice_item_id', 'product_name', 'sku_id', 'item_name']]\n",
    "match_2_.columns = ['competitor_id', 'competitor_name', 'vink_id', 'vink_name']"
   ]
  },
  {
   "cell_type": "code",
   "execution_count": null,
   "metadata": {
    "colab": {
     "base_uri": "https://localhost:8080/"
    },
    "id": "F9Twdc3XYSc8",
    "outputId": "f1c2a475-de8f-4462-cbc0-00950457a17a"
   },
   "outputs": [],
   "source": [
    "test = pd.concat([match_1_, match_2_], ignore_index=True)\n",
    "print('Размер тестовой выборки:', test.shape)"
   ]
  },
  {
   "cell_type": "markdown",
   "metadata": {
    "id": "GprC_g_AQsGe"
   },
   "source": [
    "### Проверка содержания колонок датасетов"
   ]
  },
  {
   "cell_type": "markdown",
   "metadata": {
    "id": "-FKT8_T8nd8q"
   },
   "source": [
    "#### Датасет **train**"
   ]
  },
  {
   "cell_type": "markdown",
   "metadata": {
    "id": "4E0Xx23mOgm1"
   },
   "source": [
    "Переименуем датасет `goods` в `train`, оставив необходимые столбцы, которые приведем к одинаковым названиям"
   ]
  },
  {
   "cell_type": "code",
   "execution_count": null,
   "metadata": {
    "id": "yhJPy-tmn_90"
   },
   "outputs": [],
   "source": [
    "train = goods[['sku_id', 'sku_name']]\n",
    "train.columns = ['vink_id', 'vink_name']"
   ]
  },
  {
   "cell_type": "code",
   "execution_count": null,
   "metadata": {
    "colab": {
     "base_uri": "https://localhost:8080/"
    },
    "id": "dZPnDmo-YemI",
    "outputId": "464e8ba4-a3df-4de9-e1a2-11836d0a60b4"
   },
   "outputs": [],
   "source": [
    "# очистим train от лишних и неинформативных данных\n",
    "train = train[~train['vink_name'].isin(['ТЕСТ', 'v', 'test', 'тест', 'Наклейка',\\\n",
    "                                        'Образцы', 'Канцелярия', 'Этикетка'])]\n",
    "\n",
    "# удалим записи с пропусками в столбце vink_name\n",
    "train = train.dropna(subset=['vink_name']).reset_index(drop=True)\n",
    "\n",
    "print('Размер тренировочной выборки:', train.shape)"
   ]
  },
  {
   "cell_type": "markdown",
   "metadata": {
    "id": "vnOGebGynTg7"
   },
   "source": [
    "#### Датасет **test**"
   ]
  },
  {
   "cell_type": "code",
   "execution_count": null,
   "metadata": {
    "colab": {
     "base_uri": "https://localhost:8080/"
    },
    "id": "c_ln54LddgqK",
    "outputId": "1436e898-7ab4-47e0-98f1-4df1597d214f"
   },
   "outputs": [],
   "source": [
    "# выведем все значения в столбце vink_name, если они меньше 30 символов и не содержат цифр\n",
    "filtered_values = test.loc[\n",
    "    (test['vink_name'].str.len() < 30) &\n",
    "    (~test['vink_name'].str.contains(r'\\d', regex=True, na=False)),\n",
    "    'vink_name'\n",
    "]\n",
    "\n",
    "print(filtered_values)"
   ]
  },
  {
   "cell_type": "code",
   "execution_count": null,
   "metadata": {
    "colab": {
     "base_uri": "https://localhost:8080/"
    },
    "id": "Jn8FSAzHc6xr",
    "outputId": "257ef696-4375-45fe-d611-0fbf45ee67a7"
   },
   "outputs": [],
   "source": [
    "# выведем все значения в столбце competitor_name, если они меньше 30 символов и не содержат цифр\n",
    "filtered_values = test.loc[\n",
    "    (test['competitor_name'].str.len() < 30) &\n",
    "    (~test['competitor_name'].str.contains(r'\\d', regex=True, na=False)),\n",
    "    'competitor_name'\n",
    "]\n",
    "\n",
    "print(filtered_values)"
   ]
  },
  {
   "cell_type": "code",
   "execution_count": null,
   "metadata": {
    "id": "AluQWzyumrb7"
   },
   "outputs": [],
   "source": [
    "# очистим test от лишних и неинформативных данных\n",
    "test = test[~test['competitor_name'].isin(['Создано пользователем', 'есрпви', \"form.cleaned_data['name']\"])]\\\n",
    "            .reset_index(drop=True)\n",
    "test = test = test[test['vink_name'] != 'Уголок багетный с винтами']\\\n",
    "            .reset_index(drop=True)"
   ]
  },
  {
   "cell_type": "code",
   "execution_count": null,
   "metadata": {
    "colab": {
     "base_uri": "https://localhost:8080/"
    },
    "id": "efJo6IZaXl8m",
    "outputId": "c0c3ce73-dcac-4ccb-eff0-721cd98c4834"
   },
   "outputs": [],
   "source": [
    "print('Размер тестовой выборки:', test.shape)"
   ]
  },
  {
   "cell_type": "markdown",
   "metadata": {
    "id": "04ASoyGhgNi6"
   },
   "source": [
    "Проверим после очистки, содержатся ли все значения vink_name из датасета `test` в датасете `train`"
   ]
  },
  {
   "cell_type": "code",
   "execution_count": null,
   "metadata": {
    "colab": {
     "base_uri": "https://localhost:8080/"
    },
    "id": "gv8-OoCWf9pp",
    "outputId": "e80551e1-e183-4b12-b3f7-5aa7e5e3dd43"
   },
   "outputs": [],
   "source": [
    "# Выведем названия из test, которых нет в train\n",
    "missing_names = set(test['vink_name']) - set(train['vink_name'])\n",
    "print(missing_names)"
   ]
  },
  {
   "cell_type": "markdown",
   "metadata": {
    "id": "WsR_JSOxUDIE"
   },
   "source": [
    "### Очистка и стемминг текста"
   ]
  },
  {
   "cell_type": "markdown",
   "metadata": {
    "id": "YiOpt63VmZ1k"
   },
   "source": [
    "На основе анализа состава названий товара, его описания, способов представления размеров и других параметров, морфологии наименований товаров и пр. предложены соответствующие подходящие задаче способы очистки текста, словарь, список стоп-слов и инструмент обработки - стемминг, который показал себя лучше лемматизатора, в связи с часто встречающимися сокращениями, вплоть до основы слова"
   ]
  },
  {
   "cell_type": "code",
   "execution_count": null,
   "metadata": {
    "id": "ZJpZSVddHEcv"
   },
   "outputs": [],
   "source": [
    "# Инициализация стеммера для русского языка\n",
    "stemmer = SnowballStemmer(language='russian')\n",
    "\n",
    "# Словарь для замены\n",
    "replacement_dict = {\n",
    "    \"прозр\": \"прозрачный\",\n",
    "    \"проз\": \"прозрачный\",\n",
    "    'vi': 'vilaseca'\n",
    "}\n",
    "\n",
    "# Список слов для удаления\n",
    "stop_words = {'м', 'мм', 'мк', 'мкм', 'кг', 'г', 'для', 'на', 'с', 'и', 'плотностью'}\n",
    "\n",
    "# Функция для обработки текста\n",
    "def preprocess_text(text):\n",
    "    text = str(text).lower()\n",
    "\n",
    "    # Заменяем все нежелательные символы на пробелы\n",
    "    text = re.sub(r'[^а-яёa-z0-9\\s,\\.]', ' ', text)\n",
    "\n",
    "    # Заменяем точки и запятые на пробелы. Когда они находятся между цифрами без пробела - заменяем на точку\n",
    "    text = re.sub(r'([^\\d])[\\.,]+([^\\d])', r'\\1 \\2', text)\n",
    "    text = re.sub(r'(\\d)[\\.,]+(\\d)', r'\\1.\\2', text)\n",
    "\n",
    "    # Отделяем буквы от цифр пробелом\n",
    "    text = re.sub(r'(?<=\\d)(?=[а-яa-z])|(?<=[а-яa-z])(?=\\d)', ' ', text)\n",
    "\n",
    "    # Заменяем 'x' или 'х' между цифрами на пробел\n",
    "    text = re.sub(r'(\\d)\\s*[xх]\\s*(\\d)', r'\\1 \\2', text)\n",
    "\n",
    "    # Удаляем числа, если после них идет \"кг\"\n",
    "    text = re.sub(r'\\b\\d+(\\.\\d+)?\\s*кг\\b', ' ', text)\n",
    "\n",
    "    # Удаление ведущих нулей у чисел\n",
    "    text = re.sub(r'\\b0+(\\d+)\\b', r'\\1', text)\n",
    "\n",
    "    # Убираем точки в конце строки\n",
    "    text = re.sub(r'\\.+$', '', text)\n",
    "\n",
    "    # Удаляем стоп-слова\n",
    "    text = \" \".join(word for word in text.split() if word not in stop_words)\n",
    "\n",
    "    # Замена слов по словарю\n",
    "    text = \" \".join([replacement_dict.get(word, word) for word in text.split()])\n",
    "\n",
    "    # Применяем стемминг\n",
    "    text = ' '.join([stemmer.stem(word) for word in text.split()])\n",
    "\n",
    "    return text"
   ]
  },
  {
   "cell_type": "markdown",
   "metadata": {
    "id": "FS4grOSXYryX"
   },
   "source": [
    "**Вывод:** Проведена проверка содержания наименований в датасетах `train и test` на предмет ошибочных и неинформативных для задачи мэтчинга названий, сохранены необходимые столбцы, которые приведены к единым названиям, объединена тестовая выборка. Сформирована соответствующая задаче функция по очистке и итоговой подготовке датасетов `train и test` для дальнейшего обучения моделей и расчета метрик."
   ]
  },
  {
   "cell_type": "markdown",
   "metadata": {
    "id": "fFEMkN9v_f2_"
   },
   "source": [
    "## Обучение моделей. 1 этап (Retriever)"
   ]
  },
  {
   "cell_type": "markdown",
   "metadata": {
    "id": "Wk-LZMe-zfv1"
   },
   "source": [
    "Реализуем двухступенчатую архитектуру для решения задачи мэтчинга товаров. На 1-ом этапе создадим `retriever` -  для быстрого поиска топ-K кандидатов по запросу. На 2-ом этапе обучим модель `reranker` - для более точного переранжирования кандидатов из списка `retriever` с учётом контекста и морфологии наименований."
   ]
  },
  {
   "cell_type": "markdown",
   "metadata": {
    "id": "mRDOuwak8u24"
   },
   "source": [
    "Реализуем BM25 для предварительного отбора кандидатов на 1 этапе"
   ]
  },
  {
   "cell_type": "markdown",
   "metadata": {
    "id": "PTKlKzu1g73f"
   },
   "source": [
    "### Подготовка корпуса"
   ]
  },
  {
   "cell_type": "code",
   "execution_count": null,
   "metadata": {
    "id": "m_dvaZTZ8uMD"
   },
   "outputs": [],
   "source": [
    "vink_names_all = train['vink_name'].tolist()\n",
    "vink_ids_all = train['vink_id'].tolist()\n",
    "corpus_bm25 = [word_tokenize(preprocess_text(name)) for name in vink_names_all]"
   ]
  },
  {
   "cell_type": "code",
   "execution_count": null,
   "metadata": {
    "id": "ZRFKIo0T87sq"
   },
   "outputs": [],
   "source": [
    "# Инициализация BM25\n",
    "bm25 = BM25Okapi(corpus_bm25)"
   ]
  },
  {
   "cell_type": "markdown",
   "metadata": {
    "id": "c8AUFp1UEPDr"
   },
   "source": [
    "### Отбор кандидатов"
   ]
  },
  {
   "cell_type": "code",
   "execution_count": null,
   "metadata": {
    "id": "ukYzjwbcZ4Zk"
   },
   "outputs": [],
   "source": [
    "# Функция для отбора кандидатов из числа в списке k_top_list\n",
    "def bm25_match_candidates(test_df, bm25, vink_names_all, vink_ids_all, k_top_list=[1, 5, 10]):\n",
    "\n",
    "    max_k = max(k_top_list)\n",
    "    matched_bm25 = test_df[['competitor_name', 'vink_name', 'vink_id']].copy()\n",
    "\n",
    "    # Инициализация колонок для кандидатов\n",
    "    for i in range(1, max_k + 1):\n",
    "        matched_bm25[[f'vink_name_{i}', f'vink_id_{i}']] = None\n",
    "\n",
    "    # Поиск кандидатов BM25\n",
    "    for idx, row in matched_bm25.iterrows():\n",
    "        query_tokens = word_tokenize(preprocess_text(row['competitor_name']))\n",
    "        top_indices = np.argsort(bm25.get_scores(query_tokens))[::-1][:max_k]\n",
    "\n",
    "        for i, top_idx in enumerate(top_indices, start=1):\n",
    "            matched_bm25.at[idx, f'vink_name_{i}'] = vink_names_all[top_idx]\n",
    "            matched_bm25.at[idx, f'vink_id_{i}'] = vink_ids_all[top_idx]\n",
    "\n",
    "    # Подсчёт метрик acc@k\n",
    "    for k in k_top_list:\n",
    "        matched_bm25[f'is_matched@{k}'] = matched_bm25.apply(\n",
    "            lambda row: int(row['vink_name'] in [row.get(f'vink_name_{i}') for i in range(1, k + 1)]),\n",
    "            axis=1\n",
    "        )\n",
    "        print(f\"Точность на модели BM25 (acc@{k}): {matched_bm25[f'is_matched@{k}'].mean():.4f}\")\n",
    "\n",
    "    return matched_bm25\n"
   ]
  },
  {
   "cell_type": "markdown",
   "metadata": {
    "id": "gAlNDzWDfKds"
   },
   "source": [
    "Рассчитаем точность на 1 этапе для 1, 5 и 10 кандидатов из наших товаров соответственно"
   ]
  },
  {
   "cell_type": "code",
   "execution_count": null,
   "metadata": {
    "colab": {
     "base_uri": "https://localhost:8080/"
    },
    "id": "LALIZnArZ7uF",
    "outputId": "f65159c8-9b8c-4e18-8e0a-1533c103a9c0"
   },
   "outputs": [],
   "source": [
    "matched_bm25 = bm25_match_candidates(\n",
    "    test_df=test,\n",
    "    bm25=bm25,\n",
    "    vink_names_all=vink_names_all,\n",
    "    vink_ids_all=vink_ids_all,\n",
    "    k_top_list=[1, 5, 10]\n",
    ")"
   ]
  },
  {
   "cell_type": "markdown",
   "metadata": {
    "id": "3A7ImIeNfvjl"
   },
   "source": [
    "Точность на 10 кандидатах уже достачно высокая, сохраним датафрейм с этими кандидатами для более точного ранжирования на следующем 2 этапе"
   ]
  },
  {
   "cell_type": "code",
   "execution_count": null,
   "metadata": {
    "colab": {
     "base_uri": "https://localhost:8080/"
    },
    "id": "RC0ZJXBQacBN",
    "outputId": "24eb0615-84c5-420c-d85a-2f59c654c523"
   },
   "outputs": [],
   "source": [
    "matched_bm25 = bm25_match_candidates(\n",
    "    test_df=test,\n",
    "    bm25=bm25,\n",
    "    vink_names_all=vink_names_all,\n",
    "    vink_ids_all=vink_ids_all,\n",
    "    k_top_list=[10]\n",
    ")"
   ]
  },
  {
   "cell_type": "code",
   "execution_count": null,
   "metadata": {
    "id": "r0RzjhSXyqfH"
   },
   "outputs": [],
   "source": [
    "#matched_bm25.head(3)"
   ]
  },
  {
   "cell_type": "markdown",
   "metadata": {
    "id": "EL67VafsgvJd"
   },
   "source": [
    "**Вывод:** реализована модель `BM25` для предварительного отбора кандидатов на 1 этапе. Точность подбора товаров заказчика к заданным товарам-аналогам на тестовом датасете на 1 этапе составили: **27.9%, 78.2% и 91.6%** соответственно для **1, 5 и 10** кандидатов из товаров Заказчика.   \n",
    "В связи с достаточной точность на 10 кандидатах (свыше 90%) отберем этих кандидатов для более точного ранжирования на последующем 2 этапе"
   ]
  },
  {
   "cell_type": "markdown",
   "metadata": {
    "id": "nM8Xy7fD9qHd"
   },
   "source": [
    "## Обучение модели. 2 этап (Reranker)"
   ]
  },
  {
   "cell_type": "markdown",
   "metadata": {
    "id": "Sa4HMG4f02Z1"
   },
   "source": [
    "Реализуем модель `FastText` в качестве `reranker`. Модель показала себя наиболее подходящей для данного этапа в связи с возможностью работать с подсловами, обучением на основе n-грамм, учету морфологии и обработке редких слов"
   ]
  },
  {
   "cell_type": "markdown",
   "metadata": {
    "id": "LsCDS8dV_rOe"
   },
   "source": [
    "### Генерация синтетических наименований товаров для обучения модели"
   ]
  },
  {
   "cell_type": "code",
   "execution_count": null,
   "metadata": {
    "id": "Bbi1lViwA3Bt"
   },
   "outputs": [],
   "source": [
    "# Функция для генерация синтетических наименований товаров\n",
    "# Применяем функции для модификации наименований случайным образом и ровно 10 раз для каждого наименования\n",
    "def remove_numbers(name):\n",
    "    return re.sub(r'\\d+', '', name).strip() or name\n",
    "\n",
    "def keep_only_numbers(name):\n",
    "    numbers = re.findall(r'\\d+', name)\n",
    "    return ' '.join(numbers) if numbers else name\n",
    "\n",
    "def shuffle_words(name):\n",
    "    words = name.split()\n",
    "    random.shuffle(words)\n",
    "    return ' '.join(words)\n",
    "\n",
    "def remove_random_words(name):\n",
    "    words = name.split()\n",
    "    num_to_remove = random.randint(1, min(3, len(words)))\n",
    "    for _ in range(num_to_remove):\n",
    "        if words:\n",
    "            words.pop(random.randint(0, len(words) - 1))\n",
    "    return ' '.join(words)\n",
    "\n",
    "def remove_english_words_and_shuffle(name):\n",
    "    words = [word for word in name.split() if not re.match(r'[A-Za-z]+', word)]\n",
    "    random.shuffle(words)\n",
    "    return ' '.join(words)\n",
    "\n",
    "def remove_random_numbers(name):\n",
    "    words = name.split()\n",
    "    words = [word for word in words if not word.isdigit() or random.random() > 0.5]\n",
    "    return ' '.join(words)\n",
    "\n",
    "def remove_russian_words_and_shuffle(name):\n",
    "    words = [word for word in name.split() if not re.match(r'[А-Яа-я]+', word)]\n",
    "    random.shuffle(words)\n",
    "    return ' '.join(words)\n",
    "\n",
    "def remove_numbers_and_shuffle(name):\n",
    "    return shuffle_words(remove_numbers(name))\n",
    "\n",
    "def keep_only_numbers_and_shuffle(name):\n",
    "    return shuffle_words(keep_only_numbers(name))\n",
    "\n",
    "def remove_random_numbers_and_shuffle(name):\n",
    "    return shuffle_words(remove_random_numbers(name))\n",
    "\n",
    "# Список всех функций\n",
    "mod_functions = [\n",
    "    remove_numbers,\n",
    "    keep_only_numbers,\n",
    "    shuffle_words,\n",
    "    remove_random_words,\n",
    "    remove_english_words_and_shuffle,\n",
    "    remove_random_numbers,\n",
    "    remove_russian_words_and_shuffle,\n",
    "    remove_numbers_and_shuffle,\n",
    "    keep_only_numbers_and_shuffle,\n",
    "    remove_random_numbers_and_shuffle\n",
    "]\n",
    "\n",
    "# Генерация синтетических названий\n",
    "def generate_synthetic_names(df, column):\n",
    "    synthetic_data = []\n",
    "\n",
    "    for name in tqdm(df[column].tolist(), desc=\"Генерация синтетических наименований\"):\n",
    "        sampled_funcs = random.choices(mod_functions, k=10)  # 10 случайных функций (с повторениями)\n",
    "        for func in sampled_funcs:\n",
    "            variant = func(name)\n",
    "            if variant.strip():\n",
    "                synthetic_data.append({'vink_name': name, 'vink_name_synt': variant})\n",
    "\n",
    "    return pd.DataFrame(synthetic_data)"
   ]
  },
  {
   "cell_type": "markdown",
   "metadata": {
    "id": "D8Np7ZfeuwiT"
   },
   "source": [
    "Генерация синтетического датафрейма"
   ]
  },
  {
   "cell_type": "code",
   "execution_count": null,
   "metadata": {
    "colab": {
     "base_uri": "https://localhost:8080/",
     "height": 49,
     "referenced_widgets": [
      "ddc88e97418c4e4a864e0bfda9cbf4e8",
      "09f786d821cd4449bec3b5217f48d349",
      "58721855159148718a28b2f49c3a61f3",
      "2cf0ef2977f845c48fcc4da41ffad3b3",
      "e485218399a946348dc6ed3ce4ec3645",
      "353e7ca39deb41e5bea00fc8a2093233",
      "c39dd8be01214407a032f8dce93dcef7",
      "6759bd99660243a9b6325c1b9580eb0a",
      "c8a57c7ba7084277a21346a005d6fc3b",
      "12d7247d93b148df9b2e9ca502b69b40",
      "24c7c66f08d143c8a4c8c55b0c56f6fe"
     ]
    },
    "id": "gejnVpnqZ_4O",
    "outputId": "676a5e1f-6d40-4000-997d-9a132758a2c3"
   },
   "outputs": [],
   "source": [
    "train_synt = generate_synthetic_names(train, 'vink_name')"
   ]
  },
  {
   "cell_type": "markdown",
   "metadata": {
    "id": "TrKGClNOda5Z"
   },
   "source": [
    "### Подготовка корпуса и обучение модели"
   ]
  },
  {
   "cell_type": "code",
   "execution_count": null,
   "metadata": {
    "id": "_zbHvNtwYyYh"
   },
   "outputs": [],
   "source": [
    "train_synt = pd.read_csv('synthetic_data.csv')"
   ]
  },
  {
   "cell_type": "code",
   "execution_count": null,
   "metadata": {
    "id": "r3-4ouPpYyVu"
   },
   "outputs": [],
   "source": [
    "# Функция для предобработки и токенизации корпуса на основе синтетического датасета\n",
    "def create_corpus(df, col1, col2):\n",
    "    corpus = []\n",
    "    for _, row in tqdm(df.iterrows(), total=df.shape[0], desc=\"Создание корпуса\"):\n",
    "        combined_text = f\"{row[col1]} {row[col2]}\"\n",
    "        preprocessed_text = preprocess_text(combined_text)\n",
    "        tokenized_text = word_tokenize(preprocessed_text)\n",
    "        corpus.append(tokenized_text)\n",
    "    return corpus"
   ]
  },
  {
   "cell_type": "code",
   "execution_count": null,
   "metadata": {
    "colab": {
     "base_uri": "https://localhost:8080/",
     "height": 49,
     "referenced_widgets": [
      "da0eee7c372a42bcbacdcb8e8592cf91",
      "a9d0b68c62794be69cccea79bb508f54",
      "9e33f03909fd4874823dd222c5171a31",
      "c37117a02166411284545772df326733",
      "56a4c769b51e4cad827506716eea0c59",
      "0124257c23944ccebf7e9028a189038f",
      "1c67851b29da4e078729a1bf825344e5",
      "8fa5d67b9feb447492b16792672163da",
      "3ff1fb6584a0400dbf3795e08ac44234",
      "86e2535d04b24784913ada45008ad464",
      "6c061216d09347b6b31e0d0c5d8fae97"
     ]
    },
    "id": "fy5ZdNRje9ye",
    "outputId": "9e2689e0-52c0-447e-f340-65693dd69e29"
   },
   "outputs": [],
   "source": [
    "# Создание корпуса использования\n",
    "corpus = create_corpus(train_synt, 'wink_name', 'wink_name_synt')"
   ]
  },
  {
   "cell_type": "code",
   "execution_count": null,
   "metadata": {
    "colab": {
     "base_uri": "https://localhost:8080/",
     "height": 209,
     "referenced_widgets": [
      "cb344281933941ed9a992025dcbdd0ad",
      "461f47078c014408a5c4024acab70d2e",
      "e4070edc710248808f89ad90bef47516",
      "d6837997c2eb463a85d8c9f8d03dea7f",
      "b5d975398fe14d328f28035bae057f97",
      "4dcb3f6cc8f44e799ddf8e388eadf5dc",
      "97ac1f6951af4b59bd4d525d725521de",
      "d37cc27e6b5f4e5d93a461c8219b6895",
      "2eed9e059ef44a188504b8bd49bbd61d",
      "5fd47cd6776843f8bdc596e1a681b67a",
      "6065e0b2f3a14b3ebf5f89adde3f204c",
      "da2675235c224addb8b5fc25a8a9ea1e",
      "51b6d2ce6b5d4109a8adaacc249ce020",
      "fcfeda1513a94627a6d91e26427603a4",
      "e50f5abcbc764a1bb55b1c890ac5bf8c",
      "4c402d16fbc640ceae39e813202c1abc",
      "aed30c0553fe441399c4848c73d0372c",
      "a6075388fb354328aa2727bdcde98abf",
      "7dbf4e316085424aa9d3b28f3aec596e",
      "7a3ad009db6a49a6adb10698f81c82b6",
      "9c678d30cf504b3ca6ed60af2c5aba13",
      "b3c9ca45dd304bd4bc1b7a2ae28591ce",
      "96d3704b011543ba8fe61155e80e0913",
      "5b921e4929604f4cbeb6e9c65ab84091",
      "cf87bec25fe440a89db85fd9c9109afc",
      "fa9d6dbfd6354499b4f0fb341f6b5b06",
      "3d9f76f26ade4b22992f84c9a4de7f04",
      "f09cb9d76133411b977895a6eb260966",
      "8825b7f509354562923152a8b599b8a7",
      "d3e7ab79daf54c659b62c3f985202383",
      "97a65ac09b1f44e9af1f08e02f8b0781",
      "2a99710287624b818872fa74b685f3c2",
      "24325278ac364c1e9d55b2d826567cd1",
      "b6ec2536e63e409cbcfc309f78ab615a",
      "9a81ccf123ab4f66bf5649f48756704d",
      "382b07a1dd08478d9e9ba03d0552c274",
      "9dc1f0858fa04976a1cc81831081fa9d",
      "5c8b74e44e184e0c88b8e567db6674e0",
      "1ee266e705bc41619afd079b41c26c6b",
      "61c6bb0751884e7aa6dae89d74fa3e32",
      "565f58910dc14cc0ad02fd595ba9c3d7",
      "498ac92be097468688574ea4f5231f3c",
      "1f6230526bc94136b2f1f8a1f1ffd6ac",
      "7adb8f5bf0114761b9b22be53b207c99",
      "b44454ce4fe54caaa461bbd2261adc49",
      "0916f68e80db4896805890f5f9916f11",
      "cd4f5c7759224888805e7468c047a2bc",
      "fd7888acf87749c5a1c20c569cc5feee",
      "9b8411b0fda849d7aa23c8c780b2922b",
      "63a2b2da9a524930b971eabe897b2eb6",
      "e4c5a506d5114f7b85b542ab1a4f2e63",
      "c9c2a949a8d943b7b6e2620902637c8b",
      "5253b90312f84396b0d7cb284aab7102",
      "b214022eff6f4825ab01e426be50a811",
      "6977c491cbeb4ac5b0710a1dd57584e0",
      "437f55de313c4e08bca3df3367245218",
      "94665da9084f4bd19bb3d4ab2f211e86",
      "9b90f03934eb4688896fe1ece3ef2291",
      "2e0af40d3461447385e69a89f3791b90",
      "ffa3f7f0837f4d859426ed585ebc009b",
      "9e1685b886df4ee190f7a7ef5bc1310e",
      "3c5cb0c7ed1b414da16fa4fe272329c3",
      "ef591da21f944bf3b23d0a1b6f688b33",
      "21108c85487e4628b94e4c0cf536ed4f",
      "520efd0f94e34c01bcfbddc45e7e5a4f",
      "7830a00208a84fe79597bfee62ca6781"
     ]
    },
    "id": "hiYXUeur5i8r",
    "outputId": "5a688937-74cc-4ead-c8b7-dc3c13ba3d2a"
   },
   "outputs": [],
   "source": [
    "# Фиксируем воспроизводимость результатов и обучаем модель\n",
    "SEED = 42\n",
    "np.random.seed(SEED)\n",
    "random.seed(SEED)\n",
    "\n",
    "# Обучение FastText\n",
    "class TqdmCorpus:\n",
    "    def __init__(self, corpus):\n",
    "        self.corpus = corpus\n",
    "\n",
    "    def __iter__(self):\n",
    "        for doc in tqdm(self.corpus, desc=\"Обучение FastText\"):\n",
    "            yield doc\n",
    "\n",
    "embeddings_trained = FastText(\n",
    "    sentences=TqdmCorpus(corpus),\n",
    "    vector_size=200,\n",
    "    window=5,\n",
    "    epochs=5,\n",
    "    seed=SEED,\n",
    "    workers=1\n",
    ").wv"
   ]
  },
  {
   "cell_type": "code",
   "execution_count": null,
   "metadata": {
    "id": "mOhge32mZAmc"
   },
   "outputs": [],
   "source": [
    "# Функция для подготовки эмбеддингов наименований для дальнейшего их семантического сравнения\n",
    "def get_embedding(text, wv_embeddings, dim=None):\n",
    "    \"\"\"\n",
    "    Преобразует текст в эмбеддинг, усредняя векторы слов.\n",
    "    \"\"\"\n",
    "    if dim is None:\n",
    "        dim = wv_embeddings.vector_size\n",
    "\n",
    "    cleaned_text = preprocess_text(text)\n",
    "    words = word_tokenize(cleaned_text)\n",
    "\n",
    "    word_vectors = [wv_embeddings[word] for word in words if word in wv_embeddings]\n",
    "\n",
    "    if not word_vectors:\n",
    "        return np.zeros(dim)\n",
    "\n",
    "    return np.mean(word_vectors, axis=0)"
   ]
  },
  {
   "cell_type": "markdown",
   "metadata": {
    "id": "xF4seBHI8enL"
   },
   "source": [
    "### Отбор финальных кандидатов мэтчинга и расчет метрики `accuracy`"
   ]
  },
  {
   "cell_type": "code",
   "execution_count": null,
   "metadata": {
    "id": "BndBGr56w5Zk"
   },
   "outputs": [],
   "source": [
    "# Функция финального ранжирования кандидатов из 1 этапа\n",
    "# в соответствии с заданным количеством кандидатов в списке n_top_list\n",
    "def rerank_candidates_with_embeddings(\n",
    "    matched_bm25, test, embeddings_model, dim, n_top_list=[1, 3, 5]\n",
    "):\n",
    "\n",
    "    max_k = max(n_top_list)\n",
    "\n",
    "    # Создание итогового датафрейма\n",
    "    matched_fin = test[['competitor_name', 'vink_id', 'vink_name']].copy()\n",
    "\n",
    "    # Инициализация колонок под ранжированных кандидатов\n",
    "    for i in range(1, max_k + 1):\n",
    "        matched_fin[[f'vink_id_{i}', f'vink_name_{i}']] = None\n",
    "\n",
    "    # Определение количества кандидатов из 1 этапа\n",
    "    candidate_cols = sorted([\n",
    "        int(col.split('_')[-1])\n",
    "        for col in matched_bm25.columns\n",
    "        if col.startswith('vink_name_')\n",
    "    ])\n",
    "\n",
    "    # Перебор всех строк и финальное ранжирование кандидатов\n",
    "    for idx, row in matched_bm25.iterrows():\n",
    "        comp_emb = get_embedding(row['competitor_name'], embeddings_model, dim).reshape(1, -1)\n",
    "\n",
    "        candidates = []\n",
    "        candidate_ids = []\n",
    "        for i in candidate_cols:\n",
    "            name_col = f'vink_name_{i}'\n",
    "            id_col = f'vink_id_{i}'\n",
    "            if pd.notna(row.get(name_col)):\n",
    "                candidates.append(row[name_col])\n",
    "                candidate_ids.append(row[id_col])\n",
    "\n",
    "        if not candidates:\n",
    "            continue\n",
    "\n",
    "        # Сходства\n",
    "        cand_embs = [get_embedding(name, embeddings_model, dim).reshape(1, -1) for name in candidates]\n",
    "        sims = [cosine_similarity(comp_emb, emb)[0, 0] for emb in cand_embs]\n",
    "\n",
    "        top_idxs = np.argsort(sims)[::-1][:max_k]\n",
    "        for i, j in enumerate(top_idxs, 1):\n",
    "            matched_fin.at[idx, f'vink_id_{i}'] = candidate_ids[j]\n",
    "            matched_fin.at[idx, f'vink_name_{i}'] = candidates[j]\n",
    "\n",
    "    # Подсчёт hits@k\n",
    "    for k in n_top_list:\n",
    "        matched_fin[f'is_matched@{k}'] = matched_fin.apply(\n",
    "            lambda row: int(row['vink_name'] in [row.get(f'vink_name_{i}') for i in range(1, k + 1)]),\n",
    "            axis=1\n",
    "        )\n",
    "        print(f\"Итоговая точность (acc@{k}): {matched_fin[f'is_matched@{k}'].mean():.4f}\")\n",
    "\n",
    "    return matched_fin\n"
   ]
  },
  {
   "cell_type": "code",
   "execution_count": null,
   "metadata": {
    "colab": {
     "base_uri": "https://localhost:8080/"
    },
    "id": "jrxUZpW3w_X1",
    "outputId": "ef457478-1a01-4c0d-b066-00b5a7273caf"
   },
   "outputs": [],
   "source": [
    "matched_fin = rerank_candidates_with_embeddings(\n",
    "    matched_bm25=matched_bm25,\n",
    "    test=test,\n",
    "    embeddings_model=embeddings_trained,\n",
    "    dim=embeddings_trained.vector_size,\n",
    "    n_top_list=[1, 3, 5]\n",
    ")"
   ]
  },
  {
   "cell_type": "code",
   "execution_count": null,
   "metadata": {
    "id": "nOCjIJadbynl"
   },
   "outputs": [],
   "source": [
    "#matched_fin.sample(3)"
   ]
  },
  {
   "cell_type": "markdown",
   "metadata": {
    "id": "grKUskEk7syV"
   },
   "source": [
    "**Вывод:** реализована модель `FastText` для финального ранжирования кандидатов на 2 этапе. Точность подбора товаров заказчика к заданным товарам-аналогам на тестовом датасете на 2 этапе составили: **38.6%, 70.6% и 87%** соответственно для **1, 3 и 5** кандидатов из товаров Заказчика.   "
   ]
  },
  {
   "cell_type": "markdown",
   "metadata": {
    "id": "eXIwNfsUasxN"
   },
   "source": [
    "<div class=\"alert alert-success\">\n",
    "<b>Комментарий ревьюера ✔️:</b> Здорово, что ты изучаешь и применяешь технологии, наиболее подходящие под специфику задачи, у тебя получился отличный результат 🔥 </div>\n",
    "\n"
   ]
  },
  {
   "cell_type": "markdown",
   "metadata": {
    "id": "H3kjGKMmH0DM"
   },
   "source": [
    "## Реализация мэтчинга для отдельного запроса с товаром-аналогом"
   ]
  },
  {
   "cell_type": "code",
   "execution_count": null,
   "metadata": {
    "id": "OGH3fi5IX_cI"
   },
   "outputs": [],
   "source": [
    "def match_query(query_text, bm25_model, vink_names, embeddings_trained, k_top=10, n_top=5):\n",
    "    # 1 Этап: отбор кандидатов моделью BM25\n",
    "    query_text_clean = preprocess_text(query_text)\n",
    "    query_tokens = word_tokenize(query_text_clean)\n",
    "\n",
    "    scores = bm25_model.get_scores(query_tokens)\n",
    "    top_indices = np.argsort(scores)[::-1][:k_top]\n",
    "\n",
    "    bm25_matches = pd.DataFrame({\n",
    "        'vink_name': [vink_names[i] for i in top_indices],\n",
    "        'score': [round(scores[i], 4) for i in top_indices]\n",
    "    })\n",
    "\n",
    "    # 2 Этап: доранжирование кандидатов моделью FastText\n",
    "    dim = embeddings_trained.vector_size\n",
    "    query_embedding = get_embedding(query_text, embeddings_trained, dim).reshape(1, -1)\n",
    "\n",
    "    candidate_embeddings = [\n",
    "        get_embedding(name, embeddings_trained, dim).reshape(1, -1)\n",
    "        for name in bm25_matches['vink_name']\n",
    "    ]\n",
    "\n",
    "    similarities = [\n",
    "        cosine_similarity(query_embedding, emb)[0][0]\n",
    "        for emb in candidate_embeddings\n",
    "    ]\n",
    "\n",
    "    bm25_matches['cosine_similarity'] = similarities\n",
    "\n",
    "    top_candidates = bm25_matches.sort_values(\n",
    "        by='cosine_similarity', ascending=False\n",
    "    ).head(n_top)[['vink_name', 'cosine_similarity']]\n",
    "\n",
    "    top_candidates.reset_index(drop=True, inplace=True)\n",
    "\n",
    "    print('Запрос:', query_text)\n",
    "    return top_candidates\n"
   ]
  },
  {
   "cell_type": "code",
   "execution_count": null,
   "metadata": {
    "colab": {
     "base_uri": "https://localhost:8080/"
    },
    "id": "Z2kSkNCrYBNw",
    "outputId": "59957448-dbfe-4e97-fc83-8c60a9a8cdb6"
   },
   "outputs": [],
   "source": [
    "# Запрос для мэтчинга\n",
    "query = \"ПВХ Вспененный без маркировки, белый, 3 мм, стандартный размер\"\n",
    "\n",
    "# Отбор кандидатов\n",
    "top_candidates = match_query(\n",
    "    query_text=query,\n",
    "    bm25_model=bm25,\n",
    "    vink_names=vink_names_all,\n",
    "    embeddings_trained=embeddings_trained,\n",
    "    k_top=10,\n",
    "    n_top=5\n",
    ")\n",
    "\n",
    "#top_candidates"
   ]
  },
  {
   "cell_type": "markdown",
   "metadata": {
    "id": "NZLbXApMoaXe"
   },
   "source": [
    "## Выводы по проекту"
   ]
  },
  {
   "cell_type": "markdown",
   "metadata": {
    "id": "1mNLDlJBaJlZ"
   },
   "source": [
    "**В рамках проекта был проведен:**     \n",
    "- анализ и предобработка данных Заказчика, необходимая подготовка, очистка и стемминг, а также генерация синтетических данных для дальнейшего обучения.    \n",
    "- обучение разных моделей и подбор оптимального пайплайна из моделей и их параметров для решения задачи мэтчинга.    \n",
    "- проверка данных на тестовой выборке и расчет необходимых метрик.\n",
    "_____________\n",
    "\n",
    "**На этапе предобработки данных:**     \n",
    "загружена и получена общая информация по датасетам Заказчика: имеются пропуски в данных, типы данных соответствует описанию.\n",
    "\n",
    "**На этапе анализа и подготовки данных:**    \n",
    "произведена обработка дубликатов в данных, объединена тестовая выборка. Проведена проверка содержания наименований в датасетах `train и test` на предмет некорректных названий.\n",
    "На основе анализа состава наименований товара, его описания, способов представления размеров и других параметров, морфологии наименований товаров и пр. предложены соответствующие подходящие задаче способы очистки текста, словарь, список стоп-слов и инструмент обработки - стемминг, который показал себя лучше лемматизаторов (`Spacy, pymorphy2`), в связи с часто встречающимися сокращениями, вплоть до основы слова. Сформирована соответствующая задаче функция по очистке и итоговой подготовке датасетов `train и test` для дальнейшего обучения моделей и расчета метрик.\n",
    "\n",
    "**На этапе обучения моделей:**    \n",
    "для train датасета в целях обучения на парах \"наименование\" - \"похожее наименование\" сгенерирован синтетитический объем данных для товаров Заказчика, на основе их анализа и подходящих функций генерации.   \n",
    "Нм этапе обучения было протестировано множество моделей и инструментов, которые применялись как для решения задачи в 1 этап, так и на разных этапах. Для первого этапа предварительного отбора рассматривались инструменты:\n",
    "- `CountVectorizer`\n",
    "- `TF-IDF Vectorizer`\n",
    "- `Word2Vec`\n",
    "- `BM25`    \n",
    "и отдельно либо в комбинации с ними модели для второго этапа, более точного отбора и ранжирования:\n",
    "- `NearestNeighbors` - c финальной метрикой acc@5 = 0.65\n",
    "- `K-Means` с подбором количества кластеров, acc@5 = 0.71    \n",
    "модели трасформеров   \n",
    "- `CrossEncoder`, acc@5 = 0.72\n",
    "- `Labse`, acc@5 = 0.74\n",
    "- Бэггинг `FastText + LaBSE`,  acc@5 = 0,81  \n",
    "\n",
    "В итоге лучшие результаты показала двухступенчатая архитектура для решения задачи мэтчинга товаров: на 1-ом этапе `BM25` -  для быстрого поиска топ-K кандидатов по запросу, на 2-ом этапе - модель `FastText` - для более точного переранжирования кандидатов из отобранного списка на 1 этапе.    \n",
    "Преимущества комбинации `BM25 + FastText` в сочетании быстрого синтаксического фильтра и эффективного семантического ранжирования, где `BM25` классически работает на токенах и частоте слов, учитывая длину документа, покрывает редкие слова, числовые артефакты, аббревиатуры и опечатки, а `FastText` обучается на основе n-грамм, учитывая похожесть между словами, основанную на их морфологии.\n",
    "\n",
    "**На этапе тестирования лучших моделей:**    \n",
    "Точность подбора товаров заказчика к заданным товарам-аналогам на тестовом датасете     \n",
    "на 1 этапе составили:\n",
    "- **27.9%, 78.2% и 91.6%** соответственно для `1, 5 и 10` кандидатов из товаров Заказчика  \n",
    "\n",
    "на 2 этапе после доранжирования из 10 кандидатов 1 этапа:\n",
    "- **38.6%, 70.6% и 87%** соответственно для **1, 3 и 5** кандидатов из товаров Заказчика.\n",
    "\n",
    "- прирост метрик составил **10,7% и 8,8%** соответственно для **1 и 5** кандидатов из товаров Заказчика\n",
    "\n",
    "_________\n",
    "*На основе проведенной работы по проекту можно сделать следующие рекомендации/предложения для решения Заказчиком задачи мэтчинга товаров:*\n",
    "- продолжить накапливать базу смэтчинных товаров Заказчика с товарами-аналогами, для увеличения ее объема и разнообразия, так как ее объема крайне мало для полноценного обучения моделей и их проверки, с учетом соотношения в тестовой выборке уникальных наименований Заказчика к товарам-аналогам ~ 1:2\n",
    "- с той же целью провести ревизию `аналогов`, товаров со статусами `matched`, `notified` для наполнения объема валидированных сметченных данных\n",
    "- для упорядочивания в целом и повышения точности решения задачи мэтчинга предусмотреть при заведении в БД как собственных, так и товаров-аналогов, унифицированные блоки для однообразного внесения в БД ключевых характеристик товаров: `наименование, тип, размеры, производитель` и пр.\n",
    "- предусмотреть невозможность внесения в БД явно ошибочных наименований, таких как: `'test', 'Создано пользователем', 'есрпви', 'form.cleaned_data['name']'` и пр.\n",
    "- использовать для задачи мэтчинга поиск из 5 кандидатов, как дающий уверенный результат близкий к 90% совпадению, который также дает возможность анализировать более полный список предложенных товаров и выявлять причины, почему  истинный ответ на запрос не присутствует на 1-ом месте в списке.\n",
    "- по мере наполнения базы, внесения необходимых изменений в наименования и подстройки модели, можно будет переходить к мэтчингу из меньшего списка кандидатов.\n"
   ]
  },
  {
   "cell_type": "code",
   "execution_count": null,
   "metadata": {
    "id": "Kku3ox72asxO"
   },
   "outputs": [],
   "source": []
  }
 ],
 "metadata": {
  "ExecuteTimeLog": [
   {
    "duration": 12302,
    "start_time": "2024-08-09T08:42:57.403Z"
   },
   {
    "duration": 1118,
    "start_time": "2024-08-09T08:43:18.178Z"
   },
   {
    "duration": 9,
    "start_time": "2024-08-09T08:46:43.149Z"
   },
   {
    "duration": 499,
    "start_time": "2024-08-09T08:47:00.705Z"
   },
   {
    "duration": 28,
    "start_time": "2024-08-09T08:47:12.389Z"
   },
   {
    "duration": 11,
    "start_time": "2024-08-09T08:47:19.787Z"
   },
   {
    "duration": 870,
    "start_time": "2024-08-09T08:47:31.325Z"
   },
   {
    "duration": 761,
    "start_time": "2024-08-09T08:48:03.814Z"
   },
   {
    "duration": 759,
    "start_time": "2024-08-09T08:48:13.922Z"
   },
   {
    "duration": 768,
    "start_time": "2024-08-09T08:48:53.792Z"
   },
   {
    "duration": 6,
    "start_time": "2024-08-09T10:48:59.702Z"
   },
   {
    "duration": 3,
    "start_time": "2024-08-09T10:49:00.912Z"
   },
   {
    "duration": 3,
    "start_time": "2024-08-09T10:49:01.502Z"
   },
   {
    "duration": 4,
    "start_time": "2024-08-09T10:49:05.909Z"
   },
   {
    "duration": 5924,
    "start_time": "2024-08-09T10:49:08.602Z"
   },
   {
    "duration": 301,
    "start_time": "2024-08-09T10:50:22.002Z"
   },
   {
    "duration": 6009,
    "start_time": "2024-08-09T10:52:17.702Z"
   },
   {
    "duration": 295,
    "start_time": "2024-08-09T10:52:23.713Z"
   },
   {
    "duration": 81,
    "start_time": "2024-08-09T10:58:53.324Z"
   },
   {
    "duration": 4512,
    "start_time": "2024-08-09T11:01:38.604Z"
   },
   {
    "duration": 6,
    "start_time": "2024-08-09T11:01:47.401Z"
   },
   {
    "duration": 9,
    "start_time": "2024-08-09T11:02:13.703Z"
   },
   {
    "duration": 9,
    "start_time": "2024-08-09T11:02:41.603Z"
   },
   {
    "duration": 1209,
    "start_time": "2024-08-09T11:09:35.703Z"
   },
   {
    "duration": 1293,
    "start_time": "2024-08-09T11:11:12.418Z"
   },
   {
    "duration": 1406,
    "start_time": "2024-08-09T11:11:30.103Z"
   },
   {
    "duration": 7,
    "start_time": "2024-08-09T15:50:06.302Z"
   },
   {
    "duration": 2722,
    "start_time": "2024-08-09T15:53:19.253Z"
   },
   {
    "duration": 1537,
    "start_time": "2024-08-09T15:55:29.216Z"
   },
   {
    "duration": 3,
    "start_time": "2024-08-09T15:55:30.754Z"
   },
   {
    "duration": 88,
    "start_time": "2024-08-09T15:55:30.759Z"
   },
   {
    "duration": 47,
    "start_time": "2024-08-09T15:55:30.848Z"
   },
   {
    "duration": 1114,
    "start_time": "2024-08-09T15:55:30.897Z"
   },
   {
    "duration": 46,
    "start_time": "2024-08-09T15:55:32.013Z"
   },
   {
    "duration": 38,
    "start_time": "2024-08-09T15:55:32.061Z"
   },
   {
    "duration": 233,
    "start_time": "2024-08-09T15:55:32.100Z"
   },
   {
    "duration": 2732,
    "start_time": "2024-08-09T15:55:32.335Z"
   },
   {
    "duration": 42,
    "start_time": "2024-08-09T15:56:12.965Z"
   },
   {
    "duration": 1468,
    "start_time": "2024-08-09T15:56:19.265Z"
   },
   {
    "duration": 3,
    "start_time": "2024-08-09T15:56:20.735Z"
   },
   {
    "duration": 80,
    "start_time": "2024-08-09T15:56:20.739Z"
   },
   {
    "duration": 43,
    "start_time": "2024-08-09T15:56:20.820Z"
   },
   {
    "duration": 1063,
    "start_time": "2024-08-09T15:56:20.864Z"
   },
   {
    "duration": 44,
    "start_time": "2024-08-09T15:56:21.928Z"
   },
   {
    "duration": 5,
    "start_time": "2024-08-09T15:56:21.973Z"
   },
   {
    "duration": 231,
    "start_time": "2024-08-09T15:56:21.979Z"
   },
   {
    "duration": 3355,
    "start_time": "2024-08-09T15:56:22.212Z"
   },
   {
    "duration": 725,
    "start_time": "2024-08-09T15:56:51.361Z"
   },
   {
    "duration": 742,
    "start_time": "2024-08-09T15:57:08.589Z"
   },
   {
    "duration": 6,
    "start_time": "2024-08-09T15:59:31.035Z"
   },
   {
    "duration": 110,
    "start_time": "2024-08-09T15:59:31.042Z"
   },
   {
    "duration": 34,
    "start_time": "2024-08-09T15:59:31.154Z"
   },
   {
    "duration": 76,
    "start_time": "2024-08-09T15:59:31.189Z"
   },
   {
    "duration": 864,
    "start_time": "2024-08-09T15:59:31.267Z"
   },
   {
    "duration": 43,
    "start_time": "2024-08-09T15:59:32.133Z"
   },
   {
    "duration": 4,
    "start_time": "2024-08-09T15:59:32.177Z"
   },
   {
    "duration": 222,
    "start_time": "2024-08-09T15:59:32.182Z"
   },
   {
    "duration": 2048,
    "start_time": "2024-08-10T08:59:21.899Z"
   },
   {
    "duration": 3,
    "start_time": "2024-08-10T08:59:23.949Z"
   },
   {
    "duration": 8,
    "start_time": "2024-08-10T08:59:23.953Z"
   },
   {
    "duration": 6,
    "start_time": "2024-08-10T08:59:23.963Z"
   },
   {
    "duration": 1930,
    "start_time": "2024-08-10T08:59:23.971Z"
   },
   {
    "duration": 113,
    "start_time": "2024-08-10T08:59:25.947Z"
   },
   {
    "duration": 5,
    "start_time": "2024-08-10T08:59:26.061Z"
   },
   {
    "duration": 258,
    "start_time": "2024-08-10T08:59:26.067Z"
   },
   {
    "duration": 3166,
    "start_time": "2024-08-10T08:59:26.327Z"
   },
   {
    "duration": 14,
    "start_time": "2024-08-10T09:08:20.014Z"
   },
   {
    "duration": 5,
    "start_time": "2024-08-10T09:15:37.249Z"
   },
   {
    "duration": 7,
    "start_time": "2024-08-10T09:16:55.718Z"
   },
   {
    "duration": 3135,
    "start_time": "2024-08-10T09:20:07.613Z"
   },
   {
    "duration": 184,
    "start_time": "2024-08-10T10:34:14.944Z"
   },
   {
    "duration": 807156,
    "start_time": "2024-08-10T10:35:09.744Z"
   },
   {
    "duration": 0,
    "start_time": "2024-08-10T10:48:36.903Z"
   },
   {
    "duration": 672100,
    "start_time": "2024-08-10T10:49:00.142Z"
   },
   {
    "duration": 68,
    "start_time": "2024-08-10T11:45:16.872Z"
   },
   {
    "duration": 68,
    "start_time": "2024-08-10T11:45:35.958Z"
   },
   {
    "duration": 91,
    "start_time": "2024-08-10T11:45:45.921Z"
   },
   {
    "duration": 45,
    "start_time": "2024-08-10T11:45:58.214Z"
   },
   {
    "duration": 57,
    "start_time": "2024-08-10T11:46:19.625Z"
   },
   {
    "duration": 9,
    "start_time": "2024-08-10T11:46:54.446Z"
   },
   {
    "duration": 49,
    "start_time": "2024-08-10T11:47:33.118Z"
   },
   {
    "duration": 43,
    "start_time": "2024-08-10T11:47:52.551Z"
   },
   {
    "duration": 69,
    "start_time": "2024-08-10T11:48:11.650Z"
   },
   {
    "duration": 64,
    "start_time": "2024-08-10T11:48:34.538Z"
   },
   {
    "duration": 87,
    "start_time": "2024-08-10T11:48:49.517Z"
   },
   {
    "duration": 41,
    "start_time": "2024-08-10T11:48:55.876Z"
   },
   {
    "duration": 41,
    "start_time": "2024-08-10T11:49:02.366Z"
   },
   {
    "duration": 40,
    "start_time": "2024-08-10T11:49:09.219Z"
   },
   {
    "duration": 45,
    "start_time": "2024-08-10T11:49:25.285Z"
   },
   {
    "duration": 1526029,
    "start_time": "2024-08-10T11:50:03.004Z"
   },
   {
    "duration": 7,
    "start_time": "2024-08-10T13:45:08.867Z"
   },
   {
    "duration": 50,
    "start_time": "2024-08-10T13:45:22.108Z"
   },
   {
    "duration": 143,
    "start_time": "2024-08-10T13:45:38.925Z"
   },
   {
    "duration": 102,
    "start_time": "2024-08-10T13:47:06.378Z"
   },
   {
    "duration": 28,
    "start_time": "2024-08-10T13:47:21.273Z"
   },
   {
    "duration": 129,
    "start_time": "2024-08-10T13:47:46.407Z"
   },
   {
    "duration": 25,
    "start_time": "2024-08-10T13:47:47.830Z"
   },
   {
    "duration": 126,
    "start_time": "2024-08-10T13:48:27.238Z"
   },
   {
    "duration": 25,
    "start_time": "2024-08-10T13:48:30.181Z"
   },
   {
    "duration": 276,
    "start_time": "2024-08-10T13:48:40.690Z"
   },
   {
    "duration": 50,
    "start_time": "2024-08-10T13:48:43.516Z"
   },
   {
    "duration": 266,
    "start_time": "2024-08-10T13:49:16.221Z"
   },
   {
    "duration": 61,
    "start_time": "2024-08-10T13:49:19.092Z"
   },
   {
    "duration": 108,
    "start_time": "2024-08-10T13:49:33.123Z"
   },
   {
    "duration": 28,
    "start_time": "2024-08-10T13:49:34.161Z"
   },
   {
    "duration": 106,
    "start_time": "2024-08-10T13:50:13.515Z"
   },
   {
    "duration": 23,
    "start_time": "2024-08-10T13:50:14.805Z"
   },
   {
    "duration": 105,
    "start_time": "2024-08-10T13:50:30.327Z"
   },
   {
    "duration": 38,
    "start_time": "2024-08-10T13:50:31.487Z"
   },
   {
    "duration": 101,
    "start_time": "2024-08-10T13:50:36.489Z"
   },
   {
    "duration": 33,
    "start_time": "2024-08-10T13:50:36.846Z"
   },
   {
    "duration": 118,
    "start_time": "2024-08-10T13:50:59.047Z"
   },
   {
    "duration": 23,
    "start_time": "2024-08-10T13:51:00.297Z"
   },
   {
    "duration": 116,
    "start_time": "2024-08-10T16:15:29.236Z"
   },
   {
    "duration": 23,
    "start_time": "2024-08-10T16:15:48.070Z"
   },
   {
    "duration": 103,
    "start_time": "2024-08-10T16:16:06.186Z"
   },
   {
    "duration": 25,
    "start_time": "2024-08-10T16:16:10.713Z"
   },
   {
    "duration": 102,
    "start_time": "2024-08-10T16:16:31.917Z"
   },
   {
    "duration": 25,
    "start_time": "2024-08-10T16:16:36.586Z"
   },
   {
    "duration": 100,
    "start_time": "2024-08-10T16:20:29.161Z"
   },
   {
    "duration": 10,
    "start_time": "2024-08-10T16:20:32.360Z"
   },
   {
    "duration": 77,
    "start_time": "2024-08-10T16:21:10.808Z"
   },
   {
    "duration": 208,
    "start_time": "2024-08-10T16:21:39.744Z"
   },
   {
    "duration": 97,
    "start_time": "2024-08-10T16:21:54.293Z"
   },
   {
    "duration": 259,
    "start_time": "2024-08-10T16:22:00.190Z"
   },
   {
    "duration": 7149,
    "start_time": "2024-08-10T16:22:39.955Z"
   },
   {
    "duration": 102,
    "start_time": "2024-08-10T16:23:01.838Z"
   },
   {
    "duration": 20,
    "start_time": "2024-08-10T16:23:02.809Z"
   },
   {
    "duration": 246,
    "start_time": "2024-08-10T16:23:14.766Z"
   },
   {
    "duration": 7053,
    "start_time": "2024-08-11T17:33:34.402Z"
   },
   {
    "duration": 8476,
    "start_time": "2024-08-11T17:34:51.864Z"
   },
   {
    "duration": 16416,
    "start_time": "2024-08-11T17:37:15.440Z"
   },
   {
    "duration": 16293,
    "start_time": "2024-08-11T17:39:38.143Z"
   },
   {
    "duration": 4709,
    "start_time": "2024-08-11T17:40:03.462Z"
   },
   {
    "duration": 15707,
    "start_time": "2024-08-11T17:40:20.047Z"
   },
   {
    "duration": 3,
    "start_time": "2024-08-11T17:41:05.697Z"
   },
   {
    "duration": 3,
    "start_time": "2024-08-11T17:41:06.559Z"
   },
   {
    "duration": 4,
    "start_time": "2024-08-11T17:42:12.970Z"
   },
   {
    "duration": 3680,
    "start_time": "2024-08-11T17:42:17.795Z"
   },
   {
    "duration": 25,
    "start_time": "2024-08-11T17:42:46.013Z"
   },
   {
    "duration": 946,
    "start_time": "2024-08-11T17:43:08.931Z"
   },
   {
    "duration": 61,
    "start_time": "2024-08-11T17:43:12.835Z"
   },
   {
    "duration": 217,
    "start_time": "2024-08-11T17:57:28.551Z"
   },
   {
    "duration": 8,
    "start_time": "2024-08-11T17:57:31.740Z"
   },
   {
    "duration": 1337,
    "start_time": "2024-08-11T17:58:04.372Z"
   },
   {
    "duration": 253,
    "start_time": "2024-08-11T17:58:19.592Z"
   },
   {
    "duration": 6,
    "start_time": "2024-08-11T17:58:52.234Z"
   },
   {
    "duration": 7,
    "start_time": "2024-08-11T17:58:55.876Z"
   },
   {
    "duration": 15988,
    "start_time": "2024-08-12T22:41:56.872Z"
   },
   {
    "duration": 4541,
    "start_time": "2024-08-12T22:42:12.862Z"
   },
   {
    "duration": 3,
    "start_time": "2024-08-12T22:42:17.405Z"
   },
   {
    "duration": 5,
    "start_time": "2024-08-12T22:42:17.410Z"
   },
   {
    "duration": 4,
    "start_time": "2024-08-12T22:42:17.416Z"
   },
   {
    "duration": 951,
    "start_time": "2024-08-12T22:42:17.422Z"
   },
   {
    "duration": 80,
    "start_time": "2024-08-12T22:42:18.375Z"
   },
   {
    "duration": 240,
    "start_time": "2024-08-12T22:42:18.457Z"
   },
   {
    "duration": 12,
    "start_time": "2024-08-12T22:42:18.698Z"
   },
   {
    "duration": 207,
    "start_time": "2024-08-12T22:42:18.713Z"
   },
   {
    "duration": 986791,
    "start_time": "2024-08-12T22:42:18.922Z"
   },
   {
    "duration": 17746,
    "start_time": "2024-08-13T06:54:52.320Z"
   },
   {
    "duration": 4745,
    "start_time": "2024-08-13T06:55:10.069Z"
   },
   {
    "duration": 3,
    "start_time": "2024-08-13T06:55:14.815Z"
   },
   {
    "duration": 5,
    "start_time": "2024-08-13T06:55:14.820Z"
   },
   {
    "duration": 27,
    "start_time": "2024-08-13T06:55:14.827Z"
   },
   {
    "duration": 1379,
    "start_time": "2024-08-13T06:55:14.856Z"
   },
   {
    "duration": 59,
    "start_time": "2024-08-13T06:55:16.237Z"
   },
   {
    "duration": 267,
    "start_time": "2024-08-13T06:55:16.298Z"
   },
   {
    "duration": 7,
    "start_time": "2024-08-13T06:55:16.567Z"
   },
   {
    "duration": 297,
    "start_time": "2024-08-13T06:55:16.576Z"
   },
   {
    "duration": 1016235,
    "start_time": "2024-08-13T06:55:16.874Z"
   },
   {
    "duration": 5603871,
    "start_time": "2024-08-13T07:12:13.112Z"
   },
   {
    "duration": 322,
    "start_time": "2024-08-13T08:45:36.985Z"
   },
   {
    "duration": 0,
    "start_time": "2024-08-13T08:45:37.309Z"
   },
   {
    "duration": 0,
    "start_time": "2024-08-13T08:45:37.310Z"
   },
   {
    "duration": 6756,
    "start_time": "2024-08-13T11:10:15.080Z"
   },
   {
    "duration": 3,
    "start_time": "2024-08-13T11:10:21.838Z"
   },
   {
    "duration": 9,
    "start_time": "2024-08-13T11:10:21.842Z"
   },
   {
    "duration": 5,
    "start_time": "2024-08-13T11:10:21.853Z"
   },
   {
    "duration": 847,
    "start_time": "2024-08-13T11:10:21.860Z"
   },
   {
    "duration": 48,
    "start_time": "2024-08-13T11:10:22.708Z"
   },
   {
    "duration": 221,
    "start_time": "2024-08-13T11:10:25.661Z"
   },
   {
    "duration": 9,
    "start_time": "2024-08-13T11:10:26.715Z"
   },
   {
    "duration": 337,
    "start_time": "2024-08-13T11:10:27.245Z"
   }
  ],
  "colab": {
   "provenance": [],
   "toc_visible": true
  },
  "kernelspec": {
   "display_name": "Python 3 (ipykernel)",
   "language": "python",
   "name": "python3"
  },
  "language_info": {
   "codemirror_mode": {
    "name": "ipython",
    "version": 3
   },
   "file_extension": ".py",
   "mimetype": "text/x-python",
   "name": "python",
   "nbconvert_exporter": "python",
   "pygments_lexer": "ipython3",
   "version": "3.12.1"
  },
  "toc": {
   "base_numbering": 1,
   "nav_menu": {},
   "number_sections": true,
   "sideBar": true,
   "skip_h1_title": true,
   "title_cell": "Содержание",
   "title_sidebar": "Contents",
   "toc_cell": true,
   "toc_position": {
    "height": "calc(100% - 180px)",
    "left": "10px",
    "top": "150px",
    "width": "165px"
   },
   "toc_section_display": true,
   "toc_window_display": true
  }
 },
 "nbformat": 4,
 "nbformat_minor": 0
}
