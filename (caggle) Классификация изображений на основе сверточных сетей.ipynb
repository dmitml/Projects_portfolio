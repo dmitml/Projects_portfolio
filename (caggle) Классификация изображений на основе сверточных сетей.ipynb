{
 "cells": [
  {
   "cell_type": "markdown",
   "metadata": {
    "id": "7ndDEEaBy44d"
   },
   "source": [
    "**На каггле TEAM NAME: Dmitry_Babkin**    \n",
    "https://www.kaggle.com/competitions/journey-springfield"
   ]
  },
  {
   "cell_type": "markdown",
   "metadata": {},
   "source": [
    "## Описание проекта, загрузка и подготовка данных"
   ]
  },
  {
   "cell_type": "markdown",
   "metadata": {},
   "source": [
    "### Введение\n",
    "______\n",
    "**Название проекта**  \n",
    "\n",
    "Классификация изображений на основе сверточных сетей\n",
    "_____\n",
    "\n",
    "**Цель исследования**  \n",
    "\n",
    "Обучить классификатор на основе сверточных сетей, чтобы научиться отличать всех жителей Спрингфилда.\n",
    "_______\n",
    "**Задачи исследования**\n",
    "\n",
    "- Провести необходимое преобразование входных данных\n",
    "- Провести обработку дисбаланса классов\n",
    "- Сформировать модель\n",
    "- Обучить модель и сделать предсказание на тестовом наборе данных\n",
    "_____\n",
    "**Исходные данные**  \n",
    "\n",
    "Обучающая и тестовая выборка состоят из отрывков из мультсериала Симпсоны. Каждая картинка представлена в формате jpg c необходимой меткой - названием персонажа изображенного на ней\n",
    "________\n",
    "Метрикой в этом соревновании является Mean F1-Score  "
   ]
  },
  {
   "cell_type": "markdown",
   "metadata": {
    "id": "GaDsMaaCy44e"
   },
   "source": [
    "### Импорт библиотек"
   ]
  },
  {
   "cell_type": "code",
   "execution_count": null,
   "metadata": {
    "_cell_guid": "60614544-f6cf-421e-bd0b-54138ec447cf",
    "_uuid": "25cd17fe-3867-4fdc-a507-a81d5d43108a",
    "execution": {
     "iopub.execute_input": "2024-12-15T16:42:26.603474Z",
     "iopub.status.busy": "2024-12-15T16:42:26.602884Z",
     "iopub.status.idle": "2024-12-15T16:42:32.918275Z",
     "shell.execute_reply": "2024-12-15T16:42:32.917389Z",
     "shell.execute_reply.started": "2024-12-15T16:42:26.603432Z"
    },
    "id": "26p_T7q8y44e",
    "outputId": "eee6da9e-6cf2-495e-99c7-0810ddddfb7c"
   },
   "outputs": [
    {
     "name": "stderr",
     "output_type": "stream",
     "text": [
      "/opt/conda/lib/python3.10/site-packages/albumentations/__init__.py:13: UserWarning: A new version of Albumentations is available: 1.4.22 (you have 1.4.17). Upgrade using: pip install -U albumentations. To disable automatic update checks, set the environment variable NO_ALBUMENTATIONS_UPDATE to 1.\n",
      "  check_for_updates()\n"
     ]
    }
   ],
   "source": [
    "import torch\n",
    "import pandas as pd\n",
    "import numpy as np\n",
    "import pickle\n",
    "import torch.nn as nn\n",
    "import torchvision.models as models\n",
    "\n",
    "from skimage import io\n",
    "from tqdm import tqdm, tqdm_notebook\n",
    "from PIL import Image\n",
    "from pathlib import Path\n",
    "from sklearn.metrics import f1_score\n",
    "\n",
    "from torchvision import transforms\n",
    "from torchvision.datasets import ImageFolder\n",
    "from torch.utils.data import WeightedRandomSampler\n",
    "from multiprocessing.pool import ThreadPool\n",
    "from sklearn.preprocessing import LabelEncoder\n",
    "from torch.utils.data import Dataset, DataLoader\n",
    "from collections import Counter\n",
    "from albumentations.pytorch.transforms import ToTensorV2\n",
    "from albumentations import (\n",
    "    Compose, Resize, HorizontalFlip, ShiftScaleRotate, RandomResizedCrop,\n",
    "    RandomBrightnessContrast, GaussianBlur, ColorJitter, Normalize\n",
    ")\n",
    "from multiprocessing import cpu_count\n",
    "from matplotlib import colors, pyplot as plt\n",
    "%matplotlib inline\n",
    "\n",
    "import warnings\n",
    "warnings.filterwarnings(action='ignore', category=DeprecationWarning)"
   ]
  },
  {
   "cell_type": "code",
   "execution_count": null,
   "metadata": {
    "execution": {
     "iopub.execute_input": "2024-12-15T16:42:32.920277Z",
     "iopub.status.busy": "2024-12-15T16:42:32.919847Z",
     "iopub.status.idle": "2024-12-15T16:42:32.983614Z",
     "shell.execute_reply": "2024-12-15T16:42:32.982708Z",
     "shell.execute_reply.started": "2024-12-15T16:42:32.920247Z"
    },
    "id": "DDLl2Rgcy44g",
    "outputId": "998d0f22-dab4-4e92-9549-adbea9b3b311"
   },
   "outputs": [
    {
     "name": "stdout",
     "output_type": "stream",
     "text": [
      "CUDA is available!  Training on GPU ...\n"
     ]
    }
   ],
   "source": [
    "train_on_gpu = torch.cuda.is_available()\n",
    "\n",
    "if not train_on_gpu:\n",
    "    print('CUDA is not available.  Training on CPU ...')\n",
    "else:\n",
    "    print('CUDA is available!  Training on GPU ...')"
   ]
  },
  {
   "cell_type": "markdown",
   "metadata": {},
   "source": [
    "## Подготовка входных данных"
   ]
  },
  {
   "cell_type": "markdown",
   "metadata": {
    "id": "lP_o-z0fy44g"
   },
   "source": [
    "###  Преобразование входных данных и настройка аугментации"
   ]
  },
  {
   "cell_type": "code",
   "execution_count": null,
   "metadata": {
    "execution": {
     "iopub.execute_input": "2024-12-15T16:42:32.984766Z",
     "iopub.status.busy": "2024-12-15T16:42:32.984535Z",
     "iopub.status.idle": "2024-12-15T16:42:32.999684Z",
     "shell.execute_reply": "2024-12-15T16:42:32.998815Z",
     "shell.execute_reply.started": "2024-12-15T16:42:32.984743Z"
    },
    "id": "wEnC_I1cy44g"
   },
   "outputs": [],
   "source": [
    "RESCALE_SIZE = 224\n",
    "\n",
    "# Используем аугментацию для обучения\n",
    "train_transform = Compose([\n",
    "    Resize(RESCALE_SIZE, RESCALE_SIZE),\n",
    "    HorizontalFlip(p=0.5),\n",
    "    ShiftScaleRotate(shift_limit=0.05, scale_limit=0.1, rotate_limit=15, p=0.5),\n",
    "    ColorJitter(brightness=0.2, contrast=0.2, saturation=0.2, hue=0.1),\n",
    "    GaussianBlur(blur_limit=(3, 5), p=0.3),\n",
    "    RandomResizedCrop(height=RESCALE_SIZE, width=RESCALE_SIZE, scale=(0.8, 1.0), ratio=(0.75, 1.33)),\n",
    "    Normalize(mean=(0.485, 0.456, 0.406), std=(0.229, 0.224, 0.225)),\n",
    "    ToTensorV2()\n",
    "])\n",
    "\n",
    "val_transform = Compose([\n",
    "    Resize(RESCALE_SIZE, RESCALE_SIZE),\n",
    "    Normalize(mean=(0.485, 0.456, 0.406), std=(0.229, 0.224, 0.225)),\n",
    "    ToTensorV2()\n",
    "])"
   ]
  },
  {
   "cell_type": "markdown",
   "metadata": {
    "id": "fGDLiKMoy44g"
   },
   "source": [
    "### Загрузка данных"
   ]
  },
  {
   "cell_type": "code",
   "execution_count": null,
   "metadata": {
    "execution": {
     "iopub.execute_input": "2024-12-15T16:42:33.002482Z",
     "iopub.status.busy": "2024-12-15T16:42:33.001862Z",
     "iopub.status.idle": "2024-12-15T16:43:24.794885Z",
     "shell.execute_reply": "2024-12-15T16:43:24.794228Z",
     "shell.execute_reply.started": "2024-12-15T16:42:33.002441Z"
    },
    "id": "hUXaoNiNy44g"
   },
   "outputs": [],
   "source": [
    "# Датасеты\n",
    "train_dataset = ImageFolder('/kaggle/input/journey-springfield/train/simpsons_dataset',\n",
    "                            transform=lambda img: train_transform(image=np.array(img))[\"image\"])\n",
    "test_dataset = ImageFolder('/kaggle/input/journey-springfield/testset/',\n",
    "                           transform=lambda img: val_transform(image=np.array(img))[\"image\"])"
   ]
  },
  {
   "cell_type": "code",
   "execution_count": null,
   "metadata": {
    "execution": {
     "iopub.execute_input": "2024-12-15T16:43:24.796742Z",
     "iopub.status.busy": "2024-12-15T16:43:24.796065Z",
     "iopub.status.idle": "2024-12-15T16:43:24.804610Z",
     "shell.execute_reply": "2024-12-15T16:43:24.803652Z",
     "shell.execute_reply.started": "2024-12-15T16:43:24.796701Z"
    },
    "id": "IidN0h2Zy44g",
    "outputId": "465e8ac2-23d9-4e93-a8c8-b65217d3c152"
   },
   "outputs": [
    {
     "name": "stdout",
     "output_type": "stream",
     "text": [
      "Class distribution: [4.36, 0.2, 2.98, 0.51, 6.41, 0.47, 5.7, 4.71, 0.22, 2.24, 0.04, 2.18, 0.13, 0.13, 0.58, 10.73, 2.38, 5.76, 1.48, 0.01, 6.47, 0.61, 6.17, 0.34, 1.18, 5.15, 0.08, 6.94, 6.95, 1.71, 0.15, 0.34, 5.7, 0.31, 0.21, 0.43, 0.49, 4.19, 0.19, 0.26, 0.04, 0.86]%\n"
     ]
    }
   ],
   "source": [
    "# Статистика по классам\n",
    "class_counts = np.bincount([sample[1] for sample in train_dataset.samples])\n",
    "print(f\"Class distribution: {[round(c / sum(class_counts) * 100, 2) for c in class_counts]}%\")"
   ]
  },
  {
   "cell_type": "markdown",
   "metadata": {
    "id": "nivIfK-dy44h"
   },
   "source": [
    "### Обработка дисбаланса классов в данных"
   ]
  },
  {
   "cell_type": "code",
   "execution_count": null,
   "metadata": {
    "execution": {
     "iopub.execute_input": "2024-12-15T16:43:24.805964Z",
     "iopub.status.busy": "2024-12-15T16:43:24.805698Z",
     "iopub.status.idle": "2024-12-15T16:43:24.844876Z",
     "shell.execute_reply": "2024-12-15T16:43:24.844050Z",
     "shell.execute_reply.started": "2024-12-15T16:43:24.805939Z"
    },
    "id": "Iok8qFAoy44h",
    "outputId": "ffeb8e15-3e14-4d7a-e91d-78fb047e3aa9"
   },
   "outputs": [
    {
     "name": "stdout",
     "output_type": "stream",
     "text": [
      "Sample weights (min, max): (0.00044869413, 0.33592236)\n",
      "Class weights (min, max): (0.0004486941425066419, 0.33592234802330584)\n"
     ]
    }
   ],
   "source": [
    "# взвешивание классов и нормализация\n",
    "class_counts = np.bincount([sample[1] for sample in train_dataset.samples])\n",
    "class_weights = 1.0 / class_counts\n",
    "class_weights /= class_weights.sum()  # Нормализация\n",
    "\n",
    "# присвоение изображению веса на основе его класса\n",
    "sample_weights = np.array([class_weights[label] for _, label in train_dataset.samples], dtype=np.float32)\n",
    "\n",
    "# статистика о семплировании\n",
    "print(f\"Sample weights (min, max): {sample_weights.min(), sample_weights.max()}\")\n",
    "print(f\"Class weights (min, max): {class_weights.min(), class_weights.max()}\")\n",
    "\n",
    "# выборка с учётом весов\n",
    "train_sampler = WeightedRandomSampler(weights=sample_weights, num_samples=len(sample_weights), replacement=True)\n",
    "\n",
    "train_dataloader = DataLoader(train_dataset, batch_size=128, sampler=train_sampler, shuffle=False, pin_memory=True, num_workers = min(4, cpu_count()))\n",
    "test_dataloader = DataLoader(test_dataset, batch_size=32, shuffle=False, pin_memory=True, num_workers = min(4, cpu_count()))"
   ]
  },
  {
   "cell_type": "markdown",
   "metadata": {
    "id": "QOGNis4Ay44h"
   },
   "source": [
    "## Реализация модели"
   ]
  },
  {
   "cell_type": "code",
   "execution_count": null,
   "metadata": {
    "execution": {
     "iopub.execute_input": "2024-12-15T16:43:24.846257Z",
     "iopub.status.busy": "2024-12-15T16:43:24.845924Z",
     "iopub.status.idle": "2024-12-15T16:43:24.852304Z",
     "shell.execute_reply": "2024-12-15T16:43:24.851496Z",
     "shell.execute_reply.started": "2024-12-15T16:43:24.846221Z"
    },
    "id": "mKyv4Uuuy44h"
   },
   "outputs": [],
   "source": [
    "class Resnet50FineTune(nn.Module):\n",
    "    def __init__(self, num_classes=42):\n",
    "        super(Resnet50FineTune, self).__init__()\n",
    "        self.resnet50 = models.resnet50(weights=models.ResNet50_Weights.IMAGENET1K_V2)\n",
    "\n",
    "        # Замораживание весов\n",
    "        for param in self.resnet50.parameters():\n",
    "            param.requires_grad = False\n",
    "\n",
    "        # разморозим параметры последнего блока layer4 и полносвязного слоя\n",
    "        for param in self.resnet50.layer4.parameters():\n",
    "            param.requires_grad = True\n",
    "        for param in self.resnet50.fc.parameters():\n",
    "            param.requires_grad = True\n",
    "\n",
    "        in_features = self.resnet50.fc.in_features\n",
    "        self.resnet50.fc = nn.Linear(in_features, num_classes)\n",
    "\n",
    "    def forward(self, x):\n",
    "        return self.resnet50(x)"
   ]
  },
  {
   "cell_type": "markdown",
   "metadata": {
    "id": "1BHYxHDhy44h"
   },
   "source": [
    "### Обучение модели и предсказание на тестовом наборе данных"
   ]
  },
  {
   "cell_type": "code",
   "execution_count": null,
   "metadata": {
    "execution": {
     "iopub.execute_input": "2024-12-15T16:43:24.853671Z",
     "iopub.status.busy": "2024-12-15T16:43:24.853417Z",
     "iopub.status.idle": "2024-12-15T16:43:24.865333Z",
     "shell.execute_reply": "2024-12-15T16:43:24.864558Z",
     "shell.execute_reply.started": "2024-12-15T16:43:24.853648Z"
    },
    "id": "57Q9oyz2y44h"
   },
   "outputs": [],
   "source": [
    "def training_epoch(model, optimizer, criterion, train_loader, tqdm_desc):\n",
    "    train_accuracy = 0.0\n",
    "    model.train()\n",
    "    for images, labels in tqdm(train_loader, desc=tqdm_desc):\n",
    "        images = images.to(device)\n",
    "        labels = labels.to(device)\n",
    "\n",
    "        optimizer.zero_grad()\n",
    "        logits = model(images)\n",
    "        loss = criterion(logits, labels)\n",
    "        loss.backward()\n",
    "        optimizer.step()\n",
    "\n",
    "        train_accuracy += (logits.argmax(dim=1) == labels).sum().item()\n",
    "\n",
    "    train_accuracy /= len(train_loader.dataset)\n",
    "    return train_accuracy\n",
    "\n",
    "\n",
    "def train(model, optimizer, criterion, train_loader, num_epochs, scheduler=None):\n",
    "    for epoch in range(1, num_epochs + 1):\n",
    "        train_accuracy = training_epoch(\n",
    "            model, optimizer, criterion, train_loader,\n",
    "            tqdm_desc=f'Training {epoch}/{num_epochs}'\n",
    "        )\n",
    "        if scheduler is not None:\n",
    "            scheduler.step()\n",
    "        print(f'Training batch accuracy {train_accuracy}')\n",
    "\n",
    "        if scheduler is not None:\n",
    "            scheduler.step()\n",
    "\n",
    "\n",
    "@torch.no_grad()\n",
    "def predict(model, test_loader):\n",
    "    all_preds = []\n",
    "    all_labels = []\n",
    "    model.eval()\n",
    "    for images, labels in tqdm(test_loader, desc=\"Predicting\"):\n",
    "        images = images.to(device)\n",
    "        outputs = model(images)\n",
    "        all_preds.append(outputs.argmax(dim=1).cpu().numpy())\n",
    "        all_labels.append(labels.numpy())\n",
    "\n",
    "    all_preds = np.concatenate(all_preds)\n",
    "    all_labels = np.concatenate(all_labels)\n",
    "    return all_preds, all_labels"
   ]
  },
  {
   "cell_type": "code",
   "execution_count": null,
   "metadata": {
    "execution": {
     "iopub.execute_input": "2024-12-15T16:43:24.866538Z",
     "iopub.status.busy": "2024-12-15T16:43:24.866249Z",
     "iopub.status.idle": "2024-12-15T17:08:43.397549Z",
     "shell.execute_reply": "2024-12-15T17:08:43.396461Z",
     "shell.execute_reply.started": "2024-12-15T16:43:24.866496Z"
    },
    "id": "Lgrd4ao8y44h",
    "outputId": "67065b33-bddf-4939-e445-fa6cab987808"
   },
   "outputs": [
    {
     "name": "stderr",
     "output_type": "stream",
     "text": [
      "Downloading: \"https://download.pytorch.org/models/resnet50-11ad3fa6.pth\" to /root/.cache/torch/hub/checkpoints/resnet50-11ad3fa6.pth\n",
      "100%|██████████| 97.8M/97.8M [00:00<00:00, 207MB/s]\n",
      "Training 1/10:   0%|          | 0/164 [00:00<?, ?it/s]/opt/conda/lib/python3.10/site-packages/torch/nn/parallel/parallel_apply.py:79: FutureWarning: `torch.cuda.amp.autocast(args...)` is deprecated. Please use `torch.amp.autocast('cuda', args...)` instead.\n",
      "  with torch.cuda.device(device), torch.cuda.stream(stream), autocast(enabled=autocast_enabled):\n",
      "Training 1/10: 100%|██████████| 164/164 [02:31<00:00,  1.08it/s]\n"
     ]
    },
    {
     "name": "stdout",
     "output_type": "stream",
     "text": [
      "Training batch accuracy 0.8542015000238857\n"
     ]
    },
    {
     "name": "stderr",
     "output_type": "stream",
     "text": [
      "Training 2/10: 100%|██████████| 164/164 [02:20<00:00,  1.17it/s]\n"
     ]
    },
    {
     "name": "stdout",
     "output_type": "stream",
     "text": [
      "Training batch accuracy 0.9706205512826638\n"
     ]
    },
    {
     "name": "stderr",
     "output_type": "stream",
     "text": [
      "Training 3/10: 100%|██████████| 164/164 [02:21<00:00,  1.16it/s]\n"
     ]
    },
    {
     "name": "stdout",
     "output_type": "stream",
     "text": [
      "Training batch accuracy 0.9856685616012993\n"
     ]
    },
    {
     "name": "stderr",
     "output_type": "stream",
     "text": [
      "Training 4/10: 100%|██████████| 164/164 [02:13<00:00,  1.23it/s]\n"
     ]
    },
    {
     "name": "stdout",
     "output_type": "stream",
     "text": [
      "Training batch accuracy 0.9882482205130655\n"
     ]
    },
    {
     "name": "stderr",
     "output_type": "stream",
     "text": [
      "Training 5/10: 100%|██████████| 164/164 [02:17<00:00,  1.20it/s]\n"
     ]
    },
    {
     "name": "stdout",
     "output_type": "stream",
     "text": [
      "Training batch accuracy 0.9804137008551091\n"
     ]
    },
    {
     "name": "stderr",
     "output_type": "stream",
     "text": [
      "Training 6/10: 100%|██████████| 164/164 [02:16<00:00,  1.20it/s]\n"
     ]
    },
    {
     "name": "stdout",
     "output_type": "stream",
     "text": [
      "Training batch accuracy 0.9708116371279798\n"
     ]
    },
    {
     "name": "stderr",
     "output_type": "stream",
     "text": [
      "Training 7/10: 100%|██████████| 164/164 [02:14<00:00,  1.22it/s]\n"
     ]
    },
    {
     "name": "stdout",
     "output_type": "stream",
     "text": [
      "Training batch accuracy 0.9834710743801653\n"
     ]
    },
    {
     "name": "stderr",
     "output_type": "stream",
     "text": [
      "Training 8/10: 100%|██████████| 164/164 [02:15<00:00,  1.21it/s]\n"
     ]
    },
    {
     "name": "stdout",
     "output_type": "stream",
     "text": [
      "Training batch accuracy 0.9917833086514116\n"
     ]
    },
    {
     "name": "stderr",
     "output_type": "stream",
     "text": [
      "Training 9/10: 100%|██████████| 164/164 [02:16<00:00,  1.20it/s]\n"
     ]
    },
    {
     "name": "stdout",
     "output_type": "stream",
     "text": [
      "Training batch accuracy 0.9940285673338748\n"
     ]
    },
    {
     "name": "stderr",
     "output_type": "stream",
     "text": [
      "Training 10/10: 100%|██████████| 164/164 [02:13<00:00,  1.23it/s]\n"
     ]
    },
    {
     "name": "stdout",
     "output_type": "stream",
     "text": [
      "Training batch accuracy 0.9903501648115416\n"
     ]
    },
    {
     "name": "stderr",
     "output_type": "stream",
     "text": [
      "Predicting: 100%|██████████| 164/164 [02:15<00:00,  1.21it/s]\n"
     ]
    }
   ],
   "source": [
    "device = torch.device(\"cuda\" if torch.cuda.is_available() else \"cpu\")\n",
    "\n",
    "num_epochs = 10\n",
    "criterion = torch.nn.CrossEntropyLoss()\n",
    "\n",
    "model = Resnet50FineTune(num_classes=len(train_dataset.classes)).to(device)\n",
    "model = nn.DataParallel(model)\n",
    "optimizer = torch.optim.AdamW(filter(lambda p: p.requires_grad, model.parameters()), lr=0.001)\n",
    "T_max = num_epochs // 2\n",
    "scheduler = torch.optim.lr_scheduler.CosineAnnealingLR(optimizer, T_max=T_max)\n",
    "\n",
    "train(model, optimizer, criterion, train_dataloader, num_epochs, scheduler)\n",
    "\n",
    "preds, actual_labels = predict(model, train_dataloader)"
   ]
  },
  {
   "cell_type": "markdown",
   "metadata": {
    "id": "aq5iGe3My44i"
   },
   "source": [
    " ### Подготовка предсказаний для тестовых данных"
   ]
  },
  {
   "cell_type": "code",
   "execution_count": null,
   "metadata": {
    "execution": {
     "iopub.execute_input": "2024-12-15T17:08:43.400926Z",
     "iopub.status.busy": "2024-12-15T17:08:43.400615Z",
     "iopub.status.idle": "2024-12-15T17:08:43.417861Z",
     "shell.execute_reply": "2024-12-15T17:08:43.416893Z",
     "shell.execute_reply.started": "2024-12-15T17:08:43.400895Z"
    },
    "id": "kg0Ku5-ry44i",
    "outputId": "e3716996-a1b0-4d70-9d50-b1cef1d6fe2b"
   },
   "outputs": [
    {
     "name": "stdout",
     "output_type": "stream",
     "text": [
      "F1 Score: 0.9919\n"
     ]
    }
   ],
   "source": [
    "# Вычисление F1-метрики\n",
    "f1 = f1_score(actual_labels, preds, average='micro')\n",
    "print(f'F1 Score: {f1:.4f}')"
   ]
  },
  {
   "cell_type": "code",
   "execution_count": null,
   "metadata": {
    "execution": {
     "iopub.execute_input": "2024-12-15T17:08:43.419460Z",
     "iopub.status.busy": "2024-12-15T17:08:43.419069Z",
     "iopub.status.idle": "2024-12-15T17:08:46.326503Z",
     "shell.execute_reply": "2024-12-15T17:08:46.325524Z",
     "shell.execute_reply.started": "2024-12-15T17:08:43.419419Z"
    },
    "id": "sufZ9lxfy44i",
    "outputId": "73132b8c-01ae-4cbc-82e7-de5e965e8861"
   },
   "outputs": [
    {
     "name": "stderr",
     "output_type": "stream",
     "text": [
      "Predicting:   0%|          | 0/31 [00:00<?, ?it/s]/opt/conda/lib/python3.10/site-packages/torch/nn/parallel/parallel_apply.py:79: FutureWarning: `torch.cuda.amp.autocast(args...)` is deprecated. Please use `torch.amp.autocast('cuda', args...)` instead.\n",
      "  with torch.cuda.device(device), torch.cuda.stream(stream), autocast(enabled=autocast_enabled):\n",
      "Predicting: 100%|██████████| 31/31 [00:02<00:00, 10.70it/s]\n"
     ]
    }
   ],
   "source": [
    "preds, _ = predict(model, test_dataloader)"
   ]
  },
  {
   "cell_type": "code",
   "execution_count": null,
   "metadata": {
    "execution": {
     "iopub.execute_input": "2024-12-15T17:08:46.328027Z",
     "iopub.status.busy": "2024-12-15T17:08:46.327731Z",
     "iopub.status.idle": "2024-12-15T17:08:46.349616Z",
     "shell.execute_reply": "2024-12-15T17:08:46.348834Z",
     "shell.execute_reply.started": "2024-12-15T17:08:46.327997Z"
    },
    "id": "rLTkolr9y44i"
   },
   "outputs": [],
   "source": [
    "TEST_DIR = Path('/kaggle/input/journey-springfield/testset')\n",
    "test_files = sorted(list(TEST_DIR.rglob('*.jpg')))\n",
    "file_names = [file.name for file in test_files]"
   ]
  },
  {
   "cell_type": "code",
   "execution_count": null,
   "metadata": {
    "execution": {
     "iopub.execute_input": "2024-12-15T17:08:46.351070Z",
     "iopub.status.busy": "2024-12-15T17:08:46.350705Z",
     "iopub.status.idle": "2024-12-15T17:08:46.355805Z",
     "shell.execute_reply": "2024-12-15T17:08:46.354901Z",
     "shell.execute_reply.started": "2024-12-15T17:08:46.351011Z"
    },
    "id": "tbMBY0QCy44i"
   },
   "outputs": [],
   "source": [
    "idx_to_class = {l: n for n, l in train_dataset.class_to_idx.items()}\n",
    "preds_class_names = [idx_to_class[pred] for pred in preds]"
   ]
  },
  {
   "cell_type": "code",
   "execution_count": null,
   "metadata": {
    "execution": {
     "iopub.execute_input": "2024-12-15T17:08:46.357324Z",
     "iopub.status.busy": "2024-12-15T17:08:46.356951Z",
     "iopub.status.idle": "2024-12-15T17:08:46.379739Z",
     "shell.execute_reply": "2024-12-15T17:08:46.379029Z",
     "shell.execute_reply.started": "2024-12-15T17:08:46.357284Z"
    },
    "id": "tU6-2NqYy44i",
    "outputId": "66b8452c-a6cd-46c3-bd8d-887290b4e324"
   },
   "outputs": [
    {
     "data": {
      "text/html": [
       "<div>\n",
       "<style scoped>\n",
       "    .dataframe tbody tr th:only-of-type {\n",
       "        vertical-align: middle;\n",
       "    }\n",
       "\n",
       "    .dataframe tbody tr th {\n",
       "        vertical-align: top;\n",
       "    }\n",
       "\n",
       "    .dataframe thead th {\n",
       "        text-align: right;\n",
       "    }\n",
       "</style>\n",
       "<table border=\"1\" class=\"dataframe\">\n",
       "  <thead>\n",
       "    <tr style=\"text-align: right;\">\n",
       "      <th></th>\n",
       "      <th>Id</th>\n",
       "      <th>Expected</th>\n",
       "    </tr>\n",
       "  </thead>\n",
       "  <tbody>\n",
       "    <tr>\n",
       "      <th>0</th>\n",
       "      <td>img0.jpg</td>\n",
       "      <td>nelson_muntz</td>\n",
       "    </tr>\n",
       "    <tr>\n",
       "      <th>1</th>\n",
       "      <td>img1.jpg</td>\n",
       "      <td>bart_simpson</td>\n",
       "    </tr>\n",
       "    <tr>\n",
       "      <th>2</th>\n",
       "      <td>img10.jpg</td>\n",
       "      <td>ned_flanders</td>\n",
       "    </tr>\n",
       "    <tr>\n",
       "      <th>3</th>\n",
       "      <td>img100.jpg</td>\n",
       "      <td>chief_wiggum</td>\n",
       "    </tr>\n",
       "    <tr>\n",
       "      <th>4</th>\n",
       "      <td>img101.jpg</td>\n",
       "      <td>apu_nahasapeemapetilon</td>\n",
       "    </tr>\n",
       "  </tbody>\n",
       "</table>\n",
       "</div>"
      ],
      "text/plain": [
       "           Id                Expected\n",
       "0    img0.jpg            nelson_muntz\n",
       "1    img1.jpg            bart_simpson\n",
       "2   img10.jpg            ned_flanders\n",
       "3  img100.jpg            chief_wiggum\n",
       "4  img101.jpg  apu_nahasapeemapetilon"
      ]
     },
     "execution_count": 14,
     "metadata": {},
     "output_type": "execute_result"
    }
   ],
   "source": [
    "my_submit = pd.DataFrame({'Id': file_names, 'Expected': preds_class_names})\n",
    "my_submit.head()"
   ]
  },
  {
   "cell_type": "code",
   "execution_count": null,
   "metadata": {
    "execution": {
     "iopub.execute_input": "2024-12-15T17:08:46.380818Z",
     "iopub.status.busy": "2024-12-15T17:08:46.380587Z",
     "iopub.status.idle": "2024-12-15T17:08:46.389120Z",
     "shell.execute_reply": "2024-12-15T17:08:46.388224Z",
     "shell.execute_reply.started": "2024-12-15T17:08:46.380797Z"
    },
    "id": "Nt4gfh2Ny44i"
   },
   "outputs": [],
   "source": [
    "my_submit.to_csv('submission.csv', index=False)"
   ]
  },
  {
   "cell_type": "markdown",
   "metadata": {},
   "source": [
    "**Итоговый результат:**    \n",
    "F1-метрика на тестовых данных составила 0.9894, что говорит о высокой точности классификации изображений реализованной моделью    "
   ]
  }
 ],
 "metadata": {
  "colab": {
   "provenance": []
  },
  "kaggle": {
   "accelerator": "nvidiaTeslaT4",
   "dataSources": [
    {
     "databundleVersionId": 1134053,
     "sourceId": 20320,
     "sourceType": "competition"
    }
   ],
   "dockerImageVersionId": 30787,
   "isGpuEnabled": true,
   "isInternetEnabled": true,
   "language": "python",
   "sourceType": "notebook"
  },
  "kernelspec": {
   "display_name": "Python 3 (ipykernel)",
   "language": "python",
   "name": "python3"
  },
  "language_info": {
   "codemirror_mode": {
    "name": "ipython",
    "version": 3
   },
   "file_extension": ".py",
   "mimetype": "text/x-python",
   "name": "python",
   "nbconvert_exporter": "python",
   "pygments_lexer": "ipython3",
   "version": "3.9.5"
  },
  "toc": {
   "base_numbering": 1,
   "nav_menu": {},
   "number_sections": true,
   "sideBar": true,
   "skip_h1_title": true,
   "title_cell": "Table of Contents",
   "title_sidebar": "Contents",
   "toc_cell": false,
   "toc_position": {},
   "toc_section_display": true,
   "toc_window_display": true
  }
 },
 "nbformat": 4,
 "nbformat_minor": 4
}
