{
 "cells": [
  {
   "cell_type": "markdown",
   "metadata": {},
   "source": [
    "## Описание проекта, загрузка и подготовка данных"
   ]
  },
  {
   "cell_type": "markdown",
   "metadata": {},
   "source": [
    "### Введение\n",
    "______\n",
    "**Название проекта**  \n",
    "\n",
    "Разработка алгоритма принятия решения для определения региона бурения новых скважин добывающей компании «ГлавРосГосНефть».\n",
    "_____\n",
    "\n",
    "**Цель исследования**  \n",
    "\n",
    "Построения моделей для предсказания объёма запасов в новых скважинах и определение региона с максимальной суммарной прибылью отобранных скважин.\n",
    "_______\n",
    "**Задачи исследования**\n",
    "\n",
    "- Провести необходимую предобработку датасетов с данными о пробах нефти в трёх регионах\n",
    "- Провести исследовательский анализ данных с учетом их типа\n",
    "- Провести корреляционный анализ признаков в количественной шкале в итоговой таблице для моделирования\n",
    "- Построить модели для предсказания объёма запасов в новых скважинах для каждого регина\n",
    "- Отобрать скважины с самыми высокими оценками значений запасов\n",
    "- Рассчитать достаточный объём сырья для безубыточной разработки новой скважины\n",
    "- Рассчитать риски и прибыль для каждого региона с применением техники Bootstrap\n",
    "- Определить регион с максимальной суммарной прибылью отобранных скважин и вероятностью убытков меньше заданного значения\n",
    "_____\n",
    "**Исходные данные**  \n",
    "\n",
    "Имеются данные, представленные в виде трех датасетов, разбитые по исследуемым регионам, которые содержат следующую информацию:\n",
    "\n",
    "- `id` — уникальный идентификатор скважины;\n",
    "- `f0, f1, f2` — значимые признаки точек;\n",
    "- `product` — объём запасов в скважине (тыс. баррелей)"
   ]
  },
  {
   "cell_type": "markdown",
   "metadata": {},
   "source": [
    "### Установка и импорт библиотек"
   ]
  },
  {
   "cell_type": "code",
   "execution_count": 8,
   "metadata": {},
   "outputs": [],
   "source": [
    "!pip install -U scikit-learn -q\n",
    "!pip install phik -q"
   ]
  },
  {
   "cell_type": "code",
   "execution_count": 9,
   "metadata": {},
   "outputs": [],
   "source": [
    "import pandas as pd\n",
    "import matplotlib.pyplot as plt\n",
    "import seaborn as sns\n",
    "import numpy as np\n",
    "import scipy.stats as st\n",
    "import os\n",
    "import phik\n",
    "import math\n",
    "import warnings\n",
    "import re\n",
    "\n",
    "from phik import phik_matrix\n",
    "from phik.report import plot_correlation_matrix\n",
    "from scipy.stats import uniform\n",
    "from sklearn.model_selection import (train_test_split, RandomizedSearchCV)\n",
    "from sklearn.preprocessing import (\n",
    "    StandardScaler, \n",
    "    MinMaxScaler, \n",
    "    RobustScaler\n",
    ")\n",
    "from sklearn.linear_model import Lasso, LinearRegression, Ridge\n",
    "from sklearn.pipeline import Pipeline\n",
    "from sklearn.inspection import permutation_importance\n",
    "from sklearn.compose import ColumnTransformer\n",
    "from sklearn.impute import SimpleImputer\n",
    "from sklearn.metrics import (\n",
    "    mean_squared_error, \n",
    "    mean_absolute_error,\n",
    "    r2_score,\n",
    "    make_scorer\n",
    ")"
   ]
  },
  {
   "cell_type": "code",
   "execution_count": 11,
   "metadata": {},
   "outputs": [],
   "source": [
    "# системные настройки\n",
    "pd.set_option('display.max_columns', None)\n",
    "pd.set_option('display.max_colwidth', None)\n",
    "warnings.filterwarnings(\"ignore\")"
   ]
  },
  {
   "cell_type": "code",
   "execution_count": 12,
   "metadata": {},
   "outputs": [],
   "source": [
    "# объявление констант\n",
    "RANDOM_STATE = 42\n",
    "TEST_SIZE = 0.25"
   ]
  },
  {
   "cell_type": "markdown",
   "metadata": {},
   "source": [
    "### Объявление функций"
   ]
  },
  {
   "cell_type": "code",
   "execution_count": 14,
   "metadata": {},
   "outputs": [],
   "source": [
    "# функция для краткого обзора датасетов\n",
    "def view_df(df):\n",
    "    display(df.head()) \n",
    "    display(df.info()) \n",
    "    display(df.columns) "
   ]
  },
  {
   "cell_type": "code",
   "execution_count": 15,
   "metadata": {},
   "outputs": [],
   "source": [
    "# функция для описания непрерывных признаков при статистическом анализе\n",
    "def histbox_plot(df, list_col):\n",
    "    for name in list_col:\n",
    "        i = 1\n",
    "        plt.figure(figsize=(12, 4))\n",
    "        plt.suptitle(f'Гистограмма и диаграмма размаха признака - {name}', \n",
    "                     fontsize = 13, fontweight='bold')\n",
    "    \n",
    "        plt.subplot(i, 2, i) \n",
    "        sns.histplot(data=df, x=name, kde=True)\n",
    "    \n",
    "        plt.subplot(i, 2, i+1)\n",
    "        sns.boxplot(data=df, x=name)\n",
    "    \n",
    "        plt.tight_layout()\n",
    "        plt.show();\n",
    "    \n",
    "        display(df[name].describe())"
   ]
  },
  {
   "cell_type": "code",
   "execution_count": 16,
   "metadata": {},
   "outputs": [],
   "source": [
    "# функция для построения матрицы Phik\n",
    "def phik_matrix_(df, interval_cols, region):\n",
    "    \n",
    "    phik_overview = phik_matrix(df, interval_cols=interval_cols) \n",
    "    plot_correlation_matrix(\n",
    "        phik_overview.values,\n",
    "        x_labels=phik_overview.columns,\n",
    "        y_labels=phik_overview.index,\n",
    "        vmin=0, vmax=1, color_map='Greens',\n",
    "        title=f'матрица $\\phi_K$ - регион {region}',\n",
    "        fontsize_factor=1,\n",
    "        figsize=(7, 4)\n",
    "    )"
   ]
  },
  {
   "cell_type": "code",
   "execution_count": 17,
   "metadata": {},
   "outputs": [],
   "source": [
    "# функция для расчета модели, метрик, прогноза запасов\n",
    "def model(df, region):\n",
    "    # разобъем данные на тренировочную и тестовую выборки\n",
    "    X_train, X_test, y_train, y_test = train_test_split(\n",
    "        df.drop(['product'], axis=1),\n",
    "        df['product'],\n",
    "        test_size = TEST_SIZE, \n",
    "        random_state = RANDOM_STATE)\n",
    "\n",
    "    # создаём списки с названиями признаков\n",
    "    num_columns = num_col_geo[:-1]\n",
    "\n",
    "    # создаём общий пайплайн для подготовки данных\n",
    "    data_preprocessor = ColumnTransformer(\n",
    "        [\n",
    "         ('num', MinMaxScaler(), num_columns)\n",
    "        ], \n",
    "        remainder='passthrough'\n",
    "    )\n",
    "\n",
    "    # создаём итоговый пайплайн: подготовка данных и модель\n",
    "    pipe_final = Pipeline([\n",
    "        ('preprocessor', data_preprocessor),\n",
    "        ('models', None)\n",
    "    ])\n",
    "\n",
    "    param_grid = [\n",
    "        # словарь для модели LinearRegression()\n",
    "        {\n",
    "            'models': [LinearRegression()],\n",
    "            'models__fit_intercept': [True, False],\n",
    "            'preprocessor__num': [StandardScaler(), MinMaxScaler(), RobustScaler(), 'passthrough']  \n",
    "        },\n",
    "\n",
    "        # словарь для модели Ridge()\n",
    "        {\n",
    "            'models': [Ridge(random_state=RANDOM_STATE)],\n",
    "            'models__alpha': uniform(0.1, 10),\n",
    "            'models__tol': [0.0001, 0.001, 0.01],\n",
    "            'preprocessor__num': [StandardScaler(), MinMaxScaler(), RobustScaler(), 'passthrough']  \n",
    "        },\n",
    "\n",
    "        # словарь для модели Lasso()\n",
    "        {\n",
    "            'models': [Lasso(random_state=RANDOM_STATE)],\n",
    "            'models__alpha': uniform(0.1, 10),\n",
    "            'models__tol': [0.0001, 0.001, 0.01],\n",
    "            'preprocessor__num': [StandardScaler(), MinMaxScaler(), RobustScaler(), 'passthrough']  \n",
    "        }\n",
    "    ]\n",
    "\n",
    "    randomized_search = RandomizedSearchCV(\n",
    "        pipe_final, \n",
    "        param_grid, \n",
    "        cv=5,\n",
    "        scoring='neg_root_mean_squared_error',\n",
    "        random_state=RANDOM_STATE,\n",
    "        n_jobs=-1,\n",
    "        n_iter=30\n",
    "    )\n",
    "    randomized_search.fit(X_train, y_train)\n",
    "\n",
    "    display('Лучшая модель и её параметры:', randomized_search.best_params_)\n",
    "    print ('Метрика RMSE, полученная с помощью кросс-валидации:', randomized_search.best_score_ * -1)\n",
    "\n",
    "    # рассчитаем прогноз и метрики R2, RMSE на валидационных данных\n",
    "    y_pred = randomized_search.predict(X_test)\n",
    "    r2 = r2_score(y_test, y_pred)\n",
    "    rmse = mean_squared_error(y_test, y_pred, squared=False)\n",
    "    \n",
    "    print('\\n'\n",
    "          f'Метрика R2 на валидационных данных: {r2:.3f}'\n",
    "          '\\n'f'Метрика RMSE на валидационных данных: {rmse:.3f}'\n",
    "         '\\n'f'Прогноз среднего запаса сырья в регионе {region}: {np.mean(y_pred):.3f}')\n",
    "    \n",
    "    return y_test, y_pred, r2, rmse"
   ]
  },
  {
   "cell_type": "code",
   "execution_count": 29,
   "metadata": {},
   "outputs": [],
   "source": [
    "# функция для для расчёта прибыли по выбранным скважинам и предсказаниям модели\n",
    "def profit_region(reserv_, reserv_pred_):\n",
    "    reserv_pred_sorted = reserv_pred_.sort_values(ascending=False).head(WELLS_LIMIT)\n",
    "    reserv_selected = reserv_[reserv_pred_sorted.index]\n",
    "    \n",
    "    profit_region = reserv_selected.sum() * INCOME_TBAR - BUDGET_REGION\n",
    "    return profit_region"
   ]
  },
  {
   "cell_type": "markdown",
   "metadata": {},
   "source": [
    "### Загрузка данных"
   ]
  },
  {
   "cell_type": "code",
   "execution_count": 31,
   "metadata": {},
   "outputs": [],
   "source": [
    "pth1 = r'C:\\Ipynb\\datasets\\geo_data_0.csv'\n",
    "pth2 = r'C:\\Ipynb\\datasets\\geo_data_1.csv'\n",
    "pth3 = r'C:\\Ipynb\\datasets\\geo_data_2.csv'\n",
    "\n",
    "if os.path.exists(pth1) & os.path.exists(pth2) & os.path.exists(pth3):\n",
    "    geo_0 = pd.read_csv(pth1, sep=',')\n",
    "    geo_1 = pd.read_csv(pth2, sep=',')\n",
    "    geo_2 = pd.read_csv(pth3, sep=',')\n",
    "else:\n",
    "    print('Something is wrong with loading data')"
   ]
  },
  {
   "cell_type": "markdown",
   "metadata": {},
   "source": [
    "### Общая информация о датасетах"
   ]
  },
  {
   "cell_type": "code",
   "execution_count": 33,
   "metadata": {},
   "outputs": [
    {
     "data": {
      "text/html": [
       "<div>\n",
       "<style scoped>\n",
       "    .dataframe tbody tr th:only-of-type {\n",
       "        vertical-align: middle;\n",
       "    }\n",
       "\n",
       "    .dataframe tbody tr th {\n",
       "        vertical-align: top;\n",
       "    }\n",
       "\n",
       "    .dataframe thead th {\n",
       "        text-align: right;\n",
       "    }\n",
       "</style>\n",
       "<table border=\"1\" class=\"dataframe\">\n",
       "  <thead>\n",
       "    <tr style=\"text-align: right;\">\n",
       "      <th></th>\n",
       "      <th>id</th>\n",
       "      <th>f0</th>\n",
       "      <th>f1</th>\n",
       "      <th>f2</th>\n",
       "      <th>product</th>\n",
       "    </tr>\n",
       "  </thead>\n",
       "  <tbody>\n",
       "    <tr>\n",
       "      <th>0</th>\n",
       "      <td>txEyH</td>\n",
       "      <td>0.705745</td>\n",
       "      <td>-0.497823</td>\n",
       "      <td>1.221170</td>\n",
       "      <td>105.280062</td>\n",
       "    </tr>\n",
       "    <tr>\n",
       "      <th>1</th>\n",
       "      <td>2acmU</td>\n",
       "      <td>1.334711</td>\n",
       "      <td>-0.340164</td>\n",
       "      <td>4.365080</td>\n",
       "      <td>73.037750</td>\n",
       "    </tr>\n",
       "    <tr>\n",
       "      <th>2</th>\n",
       "      <td>409Wp</td>\n",
       "      <td>1.022732</td>\n",
       "      <td>0.151990</td>\n",
       "      <td>1.419926</td>\n",
       "      <td>85.265647</td>\n",
       "    </tr>\n",
       "    <tr>\n",
       "      <th>3</th>\n",
       "      <td>iJLyR</td>\n",
       "      <td>-0.032172</td>\n",
       "      <td>0.139033</td>\n",
       "      <td>2.978566</td>\n",
       "      <td>168.620776</td>\n",
       "    </tr>\n",
       "    <tr>\n",
       "      <th>4</th>\n",
       "      <td>Xdl7t</td>\n",
       "      <td>1.988431</td>\n",
       "      <td>0.155413</td>\n",
       "      <td>4.751769</td>\n",
       "      <td>154.036647</td>\n",
       "    </tr>\n",
       "  </tbody>\n",
       "</table>\n",
       "</div>"
      ],
      "text/plain": [
       "      id        f0        f1        f2     product\n",
       "0  txEyH  0.705745 -0.497823  1.221170  105.280062\n",
       "1  2acmU  1.334711 -0.340164  4.365080   73.037750\n",
       "2  409Wp  1.022732  0.151990  1.419926   85.265647\n",
       "3  iJLyR -0.032172  0.139033  2.978566  168.620776\n",
       "4  Xdl7t  1.988431  0.155413  4.751769  154.036647"
      ]
     },
     "metadata": {},
     "output_type": "display_data"
    },
    {
     "name": "stdout",
     "output_type": "stream",
     "text": [
      "<class 'pandas.core.frame.DataFrame'>\n",
      "RangeIndex: 100000 entries, 0 to 99999\n",
      "Data columns (total 5 columns):\n",
      " #   Column   Non-Null Count   Dtype  \n",
      "---  ------   --------------   -----  \n",
      " 0   id       100000 non-null  object \n",
      " 1   f0       100000 non-null  float64\n",
      " 2   f1       100000 non-null  float64\n",
      " 3   f2       100000 non-null  float64\n",
      " 4   product  100000 non-null  float64\n",
      "dtypes: float64(4), object(1)\n",
      "memory usage: 3.8+ MB\n"
     ]
    },
    {
     "data": {
      "text/plain": [
       "None"
      ]
     },
     "metadata": {},
     "output_type": "display_data"
    },
    {
     "data": {
      "text/plain": [
       "Index(['id', 'f0', 'f1', 'f2', 'product'], dtype='object')"
      ]
     },
     "metadata": {},
     "output_type": "display_data"
    },
    {
     "name": "stdout",
     "output_type": "stream",
     "text": [
      "==================================================================\n"
     ]
    },
    {
     "data": {
      "text/html": [
       "<div>\n",
       "<style scoped>\n",
       "    .dataframe tbody tr th:only-of-type {\n",
       "        vertical-align: middle;\n",
       "    }\n",
       "\n",
       "    .dataframe tbody tr th {\n",
       "        vertical-align: top;\n",
       "    }\n",
       "\n",
       "    .dataframe thead th {\n",
       "        text-align: right;\n",
       "    }\n",
       "</style>\n",
       "<table border=\"1\" class=\"dataframe\">\n",
       "  <thead>\n",
       "    <tr style=\"text-align: right;\">\n",
       "      <th></th>\n",
       "      <th>id</th>\n",
       "      <th>f0</th>\n",
       "      <th>f1</th>\n",
       "      <th>f2</th>\n",
       "      <th>product</th>\n",
       "    </tr>\n",
       "  </thead>\n",
       "  <tbody>\n",
       "    <tr>\n",
       "      <th>0</th>\n",
       "      <td>kBEdx</td>\n",
       "      <td>-15.001348</td>\n",
       "      <td>-8.276000</td>\n",
       "      <td>-0.005876</td>\n",
       "      <td>3.179103</td>\n",
       "    </tr>\n",
       "    <tr>\n",
       "      <th>1</th>\n",
       "      <td>62mP7</td>\n",
       "      <td>14.272088</td>\n",
       "      <td>-3.475083</td>\n",
       "      <td>0.999183</td>\n",
       "      <td>26.953261</td>\n",
       "    </tr>\n",
       "    <tr>\n",
       "      <th>2</th>\n",
       "      <td>vyE1P</td>\n",
       "      <td>6.263187</td>\n",
       "      <td>-5.948386</td>\n",
       "      <td>5.001160</td>\n",
       "      <td>134.766305</td>\n",
       "    </tr>\n",
       "    <tr>\n",
       "      <th>3</th>\n",
       "      <td>KcrkZ</td>\n",
       "      <td>-13.081196</td>\n",
       "      <td>-11.506057</td>\n",
       "      <td>4.999415</td>\n",
       "      <td>137.945408</td>\n",
       "    </tr>\n",
       "    <tr>\n",
       "      <th>4</th>\n",
       "      <td>AHL4O</td>\n",
       "      <td>12.702195</td>\n",
       "      <td>-8.147433</td>\n",
       "      <td>5.004363</td>\n",
       "      <td>134.766305</td>\n",
       "    </tr>\n",
       "  </tbody>\n",
       "</table>\n",
       "</div>"
      ],
      "text/plain": [
       "      id         f0         f1        f2     product\n",
       "0  kBEdx -15.001348  -8.276000 -0.005876    3.179103\n",
       "1  62mP7  14.272088  -3.475083  0.999183   26.953261\n",
       "2  vyE1P   6.263187  -5.948386  5.001160  134.766305\n",
       "3  KcrkZ -13.081196 -11.506057  4.999415  137.945408\n",
       "4  AHL4O  12.702195  -8.147433  5.004363  134.766305"
      ]
     },
     "metadata": {},
     "output_type": "display_data"
    },
    {
     "name": "stdout",
     "output_type": "stream",
     "text": [
      "<class 'pandas.core.frame.DataFrame'>\n",
      "RangeIndex: 100000 entries, 0 to 99999\n",
      "Data columns (total 5 columns):\n",
      " #   Column   Non-Null Count   Dtype  \n",
      "---  ------   --------------   -----  \n",
      " 0   id       100000 non-null  object \n",
      " 1   f0       100000 non-null  float64\n",
      " 2   f1       100000 non-null  float64\n",
      " 3   f2       100000 non-null  float64\n",
      " 4   product  100000 non-null  float64\n",
      "dtypes: float64(4), object(1)\n",
      "memory usage: 3.8+ MB\n"
     ]
    },
    {
     "data": {
      "text/plain": [
       "None"
      ]
     },
     "metadata": {},
     "output_type": "display_data"
    },
    {
     "data": {
      "text/plain": [
       "Index(['id', 'f0', 'f1', 'f2', 'product'], dtype='object')"
      ]
     },
     "metadata": {},
     "output_type": "display_data"
    },
    {
     "name": "stdout",
     "output_type": "stream",
     "text": [
      "==================================================================\n"
     ]
    },
    {
     "data": {
      "text/html": [
       "<div>\n",
       "<style scoped>\n",
       "    .dataframe tbody tr th:only-of-type {\n",
       "        vertical-align: middle;\n",
       "    }\n",
       "\n",
       "    .dataframe tbody tr th {\n",
       "        vertical-align: top;\n",
       "    }\n",
       "\n",
       "    .dataframe thead th {\n",
       "        text-align: right;\n",
       "    }\n",
       "</style>\n",
       "<table border=\"1\" class=\"dataframe\">\n",
       "  <thead>\n",
       "    <tr style=\"text-align: right;\">\n",
       "      <th></th>\n",
       "      <th>id</th>\n",
       "      <th>f0</th>\n",
       "      <th>f1</th>\n",
       "      <th>f2</th>\n",
       "      <th>product</th>\n",
       "    </tr>\n",
       "  </thead>\n",
       "  <tbody>\n",
       "    <tr>\n",
       "      <th>0</th>\n",
       "      <td>fwXo0</td>\n",
       "      <td>-1.146987</td>\n",
       "      <td>0.963328</td>\n",
       "      <td>-0.828965</td>\n",
       "      <td>27.758673</td>\n",
       "    </tr>\n",
       "    <tr>\n",
       "      <th>1</th>\n",
       "      <td>WJtFt</td>\n",
       "      <td>0.262778</td>\n",
       "      <td>0.269839</td>\n",
       "      <td>-2.530187</td>\n",
       "      <td>56.069697</td>\n",
       "    </tr>\n",
       "    <tr>\n",
       "      <th>2</th>\n",
       "      <td>ovLUW</td>\n",
       "      <td>0.194587</td>\n",
       "      <td>0.289035</td>\n",
       "      <td>-5.586433</td>\n",
       "      <td>62.871910</td>\n",
       "    </tr>\n",
       "    <tr>\n",
       "      <th>3</th>\n",
       "      <td>q6cA6</td>\n",
       "      <td>2.236060</td>\n",
       "      <td>-0.553760</td>\n",
       "      <td>0.930038</td>\n",
       "      <td>114.572842</td>\n",
       "    </tr>\n",
       "    <tr>\n",
       "      <th>4</th>\n",
       "      <td>WPMUX</td>\n",
       "      <td>-0.515993</td>\n",
       "      <td>1.716266</td>\n",
       "      <td>5.899011</td>\n",
       "      <td>149.600746</td>\n",
       "    </tr>\n",
       "  </tbody>\n",
       "</table>\n",
       "</div>"
      ],
      "text/plain": [
       "      id        f0        f1        f2     product\n",
       "0  fwXo0 -1.146987  0.963328 -0.828965   27.758673\n",
       "1  WJtFt  0.262778  0.269839 -2.530187   56.069697\n",
       "2  ovLUW  0.194587  0.289035 -5.586433   62.871910\n",
       "3  q6cA6  2.236060 -0.553760  0.930038  114.572842\n",
       "4  WPMUX -0.515993  1.716266  5.899011  149.600746"
      ]
     },
     "metadata": {},
     "output_type": "display_data"
    },
    {
     "name": "stdout",
     "output_type": "stream",
     "text": [
      "<class 'pandas.core.frame.DataFrame'>\n",
      "RangeIndex: 100000 entries, 0 to 99999\n",
      "Data columns (total 5 columns):\n",
      " #   Column   Non-Null Count   Dtype  \n",
      "---  ------   --------------   -----  \n",
      " 0   id       100000 non-null  object \n",
      " 1   f0       100000 non-null  float64\n",
      " 2   f1       100000 non-null  float64\n",
      " 3   f2       100000 non-null  float64\n",
      " 4   product  100000 non-null  float64\n",
      "dtypes: float64(4), object(1)\n",
      "memory usage: 3.8+ MB\n"
     ]
    },
    {
     "data": {
      "text/plain": [
       "None"
      ]
     },
     "metadata": {},
     "output_type": "display_data"
    },
    {
     "data": {
      "text/plain": [
       "Index(['id', 'f0', 'f1', 'f2', 'product'], dtype='object')"
      ]
     },
     "metadata": {},
     "output_type": "display_data"
    },
    {
     "name": "stdout",
     "output_type": "stream",
     "text": [
      "==================================================================\n"
     ]
    }
   ],
   "source": [
    "list_df = [geo_0, geo_1, geo_2]\n",
    "\n",
    "for df in list_df:\n",
    "    view_df(df)\n",
    "    print('==================================================================')"
   ]
  },
  {
   "cell_type": "markdown",
   "metadata": {},
   "source": [
    "**Вывод:** загружена и получена общая информация по датасетам. В данных отсутствуют пропуски. Названия столбцов соответствуют \"змеиному типу\". Данные и их тип соответствуют описанию. Более подробный анализ, а также выявление дубликатов, аномальных значений и пр. будут произведены на следующих этапах обработки данных."
   ]
  },
  {
   "cell_type": "markdown",
   "metadata": {},
   "source": [
    "##  Предобработка данных"
   ]
  },
  {
   "cell_type": "markdown",
   "metadata": {},
   "source": [
    "### Обработка дубликатов"
   ]
  },
  {
   "cell_type": "markdown",
   "metadata": {},
   "source": [
    "#### Обработка неявных дубликатов"
   ]
  },
  {
   "cell_type": "code",
   "execution_count": 39,
   "metadata": {},
   "outputs": [
    {
     "name": "stdout",
     "output_type": "stream",
     "text": [
      "Уникальные значения в столбцах:\n",
      "\n",
      "\"id\": 99990\n",
      "\n",
      "\"id\": 99996\n",
      "\n",
      "\"id\": 99996\n",
      "\n"
     ]
    }
   ],
   "source": [
    "print('Уникальные значения в столбцах:\\n')\n",
    "for df in list_df:\n",
    "    for column in df.select_dtypes(exclude=[np.number]).columns.values:\n",
    "        print(f'\"{column}\": {df[column].nunique()}')\n",
    "    print()"
   ]
  },
  {
   "cell_type": "code",
   "execution_count": 40,
   "metadata": {},
   "outputs": [
    {
     "name": "stdout",
     "output_type": "stream",
     "text": [
      "          id        f0        f1         f2     product\n",
      "66136  74z30  1.084962 -0.312358   6.990771  127.643327\n",
      "64022  74z30  0.741456  0.459229   5.153109  140.771492\n",
      "51970  A5aEY -0.180335  0.935548  -2.094773   33.020205\n",
      "3389   A5aEY -0.039949  0.156872   0.209861   89.249364\n",
      "69163  AGS9W -0.933795  0.116194  -3.655896   19.230453\n",
      "42529  AGS9W  1.454747 -0.479651   0.683380  126.370504\n",
      "931    HZww2  0.755284  0.368511   1.863211   30.681774\n",
      "7530   HZww2  1.061194 -0.373969  10.430210  158.828695\n",
      "63593  QcMuo  0.635635 -0.473422   0.862670   64.578675\n",
      "1949   QcMuo  0.506563 -0.323775  -2.215583   75.496502\n",
      "75715  Tdehs  0.112079  0.430296   3.218993   60.964018\n",
      "21426  Tdehs  0.829407  0.298807  -0.049563   96.035308\n",
      "92341  TtcGQ  0.110711  1.022689   0.911381  101.318008\n",
      "60140  TtcGQ  0.569276 -0.104876   6.440215   85.350186\n",
      "89582  bsk9y  0.398908 -0.400253  10.122376  163.433078\n",
      "97785  bsk9y  0.378429  0.005837   0.160827  160.637302\n",
      "41724  bxg6G -0.823752  0.546319   3.630479   93.007798\n",
      "1364   bxg6G  0.411645  0.856830  -3.653440   73.604260\n",
      "16633  fiKDv  0.157341  1.028359   5.585586   95.817889\n",
      "90815  fiKDv  0.049883  0.841313   6.394613  137.346586 \n",
      "\n",
      "          id         f0         f1        f2     product\n",
      "5849   5ltQ6  -3.435401 -12.296043  1.999796   57.085625\n",
      "84461  5ltQ6  18.213839   2.191999  3.993869  107.813044\n",
      "1305   LHZR0  11.170835  -1.945066  3.002872   80.859783\n",
      "41906  LHZR0  -8.989672  -4.286607  2.009139   57.085625\n",
      "2721   bfPNe  -9.494442  -5.463692  4.006042  110.992147\n",
      "82178  bfPNe  -6.202799  -4.820045  2.995107   84.038886\n",
      "47591  wt4Uk  -9.091098  -8.109279 -0.002314    3.179103\n",
      "82873  wt4Uk  10.259972  -9.376355  4.994297  134.766305 \n",
      "\n",
      "          id        f0        f1        f2     product\n",
      "45404  KUPhW  0.231846 -1.698941  4.990775   11.716299\n",
      "55967  KUPhW  1.211150  3.176408  5.543540  132.831802\n",
      "11449  VF7Jo  2.122656 -0.858275  5.746001  181.716817\n",
      "49564  VF7Jo -0.883115  0.560537  0.723601  136.233420\n",
      "44378  Vcm5J -1.229484 -2.439204  1.222909  137.968290\n",
      "95090  Vcm5J  2.587702  1.986875  2.482245   92.327572\n",
      "28039  xCHr8  1.633027  0.368135 -2.378367    6.120525\n",
      "43233  xCHr8 -0.847066  2.101796  5.597130  184.388641 \n",
      "\n"
     ]
    }
   ],
   "source": [
    "for df in list_df:\n",
    "    print(df[df.duplicated(subset = 'id',  keep=False)].sort_values(by='id'),'\\n')"
   ]
  },
  {
   "cell_type": "markdown",
   "metadata": {},
   "source": [
    "Видим, что в датасетах присутствуют одинаковые скважины, при этом значения признаков по ним сильно различаются. Для принятия решения об исключении конкретных строк с одинаковым id требуется мнение эксперта, из-за его отсутствия, оставим в датасетах данные записи"
   ]
  },
  {
   "cell_type": "markdown",
   "metadata": {},
   "source": [
    "#### Обработка явных дубликатов"
   ]
  },
  {
   "cell_type": "code",
   "execution_count": 43,
   "metadata": {},
   "outputs": [
    {
     "name": "stdout",
     "output_type": "stream",
     "text": [
      "0\n",
      "0\n",
      "0\n"
     ]
    }
   ],
   "source": [
    "for df in list_df:\n",
    "    print(df.duplicated().sum())"
   ]
  },
  {
   "cell_type": "markdown",
   "metadata": {},
   "source": [
    "**Вывод:** по результатам предобработки данных было принято решение о сохранении записей в датасетах с одинаковыми id, явные дубликаты отсутствуют."
   ]
  },
  {
   "cell_type": "markdown",
   "metadata": {},
   "source": [
    "## Исследовательский анализ данных\n",
    "\n",
    "\n",
    "\n",
    "\n"
   ]
  },
  {
   "cell_type": "markdown",
   "metadata": {},
   "source": [
    "### Проведение статистического анализа признаков датасета `geo_0`"
   ]
  },
  {
   "cell_type": "markdown",
   "metadata": {},
   "source": [
    "Выделим признаки для анализа"
   ]
  },
  {
   "cell_type": "code",
   "execution_count": 48,
   "metadata": {},
   "outputs": [
    {
     "data": {
      "text/plain": [
       "['f0', 'f1', 'f2', 'product']"
      ]
     },
     "execution_count": 48,
     "metadata": {},
     "output_type": "execute_result"
    }
   ],
   "source": [
    "num_col_geo = geo_0.iloc[:, 1:].select_dtypes(include='number').columns.tolist()\n",
    "num_col_geo"
   ]
  },
  {
   "cell_type": "code",
   "execution_count": 49,
   "metadata": {
    "scrolled": false
   },
   "outputs": [
    {
     "data": {
      "image/png": "[encoded data removed]",
      "text/plain": [
       "<Figure size 1200x400 with 2 Axes>"
      ]
     },
     "metadata": {},
     "output_type": "display_data"
    },
    {
     "data": {
      "text/plain": [
       "count    100000.000000\n",
       "mean          0.500419\n",
       "std           0.871832\n",
       "min          -1.408605\n",
       "25%          -0.072580\n",
       "50%           0.502360\n",
       "75%           1.073581\n",
       "max           2.362331\n",
       "Name: f0, dtype: float64"
      ]
     },
     "metadata": {},
     "output_type": "display_data"
    },
    {
     "data": {
      "image/png": "[encoded data removed]",
      "text/plain": [
       "<Figure size 1200x400 with 2 Axes>"
      ]
     },
     "metadata": {},
     "output_type": "display_data"
    },
    {
     "data": {
      "text/plain": [
       "count    100000.000000\n",
       "mean          0.250143\n",
       "std           0.504433\n",
       "min          -0.848218\n",
       "25%          -0.200881\n",
       "50%           0.250252\n",
       "75%           0.700646\n",
       "max           1.343769\n",
       "Name: f1, dtype: float64"
      ]
     },
     "metadata": {},
     "output_type": "display_data"
    },
    {
     "data": {
      "image/png": "[encoded data removed]",
      "text/plain": [
       "<Figure size 1200x400 with 2 Axes>"
      ]
     },
     "metadata": {},
     "output_type": "display_data"
    },
    {
     "data": {
      "text/plain": [
       "count    100000.000000\n",
       "mean          2.502647\n",
       "std           3.248248\n",
       "min         -12.088328\n",
       "25%           0.287748\n",
       "50%           2.515969\n",
       "75%           4.715088\n",
       "max          16.003790\n",
       "Name: f2, dtype: float64"
      ]
     },
     "metadata": {},
     "output_type": "display_data"
    },
    {
     "data": {
      "image/png": "[encoded data removed]",
      "text/plain": [
       "<Figure size 1200x400 with 2 Axes>"
      ]
     },
     "metadata": {},
     "output_type": "display_data"
    },
    {
     "data": {
      "text/plain": [
       "count    100000.000000\n",
       "mean         92.500000\n",
       "std          44.288691\n",
       "min           0.000000\n",
       "25%          56.497507\n",
       "50%          91.849972\n",
       "75%         128.564089\n",
       "max         185.364347\n",
       "Name: product, dtype: float64"
      ]
     },
     "metadata": {},
     "output_type": "display_data"
    }
   ],
   "source": [
    "histbox_plot(geo_0, num_col_geo)"
   ]
  },
  {
   "cell_type": "markdown",
   "metadata": {},
   "source": [
    "Из диаграмм и таблиц видно, что аномальных выбросов в количественных признаках не наблюдается.  Близкое к нормальному распределению имеет только признак `f2`,остальные признаки имеют явно ненормальное распределение: смещение вершин к границам диапазона, несколько вершин и т.д., учтем это в дальнейшем при выборе критерия корреляции."
   ]
  },
  {
   "cell_type": "markdown",
   "metadata": {},
   "source": [
    "### Проведение статистического анализа признаков датасета `geo_1`"
   ]
  },
  {
   "cell_type": "code",
   "execution_count": 52,
   "metadata": {
    "scrolled": false
   },
   "outputs": [
    {
     "data": {
      "image/png": "[encoded data removed]",
      "text/plain": [
       "<Figure size 1200x400 with 2 Axes>"
      ]
     },
     "metadata": {},
     "output_type": "display_data"
    },
    {
     "data": {
      "text/plain": [
       "count    100000.000000\n",
       "mean          1.141296\n",
       "std           8.965932\n",
       "min         -31.609576\n",
       "25%          -6.298551\n",
       "50%           1.153055\n",
       "75%           8.621015\n",
       "max          29.421755\n",
       "Name: f0, dtype: float64"
      ]
     },
     "metadata": {},
     "output_type": "display_data"
    },
    {
     "data": {
      "image/png": "[encoded data removed]",
      "text/plain": [
       "<Figure size 1200x400 with 2 Axes>"
      ]
     },
     "metadata": {},
     "output_type": "display_data"
    },
    {
     "data": {
      "text/plain": [
       "count    100000.000000\n",
       "mean         -4.796579\n",
       "std           5.119872\n",
       "min         -26.358598\n",
       "25%          -8.267985\n",
       "50%          -4.813172\n",
       "75%          -1.332816\n",
       "max          18.734063\n",
       "Name: f1, dtype: float64"
      ]
     },
     "metadata": {},
     "output_type": "display_data"
    },
    {
     "data": {
      "image/png": "[encoded data removed]",
      "text/plain": [
       "<Figure size 1200x400 with 2 Axes>"
      ]
     },
     "metadata": {},
     "output_type": "display_data"
    },
    {
     "data": {
      "text/plain": [
       "count    100000.000000\n",
       "mean          2.494541\n",
       "std           1.703572\n",
       "min          -0.018144\n",
       "25%           1.000021\n",
       "50%           2.011479\n",
       "75%           3.999904\n",
       "max           5.019721\n",
       "Name: f2, dtype: float64"
      ]
     },
     "metadata": {},
     "output_type": "display_data"
    },
    {
     "data": {
      "image/png": "[encoded data removed]",
      "text/plain": [
       "<Figure size 1200x400 with 2 Axes>"
      ]
     },
     "metadata": {},
     "output_type": "display_data"
    },
    {
     "data": {
      "text/plain": [
       "count    100000.000000\n",
       "mean         68.825000\n",
       "std          45.944423\n",
       "min           0.000000\n",
       "25%          26.953261\n",
       "50%          57.085625\n",
       "75%         107.813044\n",
       "max         137.945408\n",
       "Name: product, dtype: float64"
      ]
     },
     "metadata": {},
     "output_type": "display_data"
    }
   ],
   "source": [
    "histbox_plot(geo_1, num_col_geo)"
   ]
  },
  {
   "cell_type": "markdown",
   "metadata": {},
   "source": [
    "Из диаграмм и таблиц видно, что аномальных выбросов в количественных признаках не наблюдается.  Близкое к нормальному распределению имеет только признак `f1`,остальные признаки имеют явно ненормальное распределение: несколько вершин, пропуски и т.д., учтем это в дальнейшем при выборе критерия корреляции. Признаки `f2` и `product` хоть и являются непрерывными, при этом заметно группируются возле определенных значений."
   ]
  },
  {
   "cell_type": "markdown",
   "metadata": {},
   "source": [
    "### Проведение статистического анализа признаков датасета `geo_2`"
   ]
  },
  {
   "cell_type": "code",
   "execution_count": 57,
   "metadata": {
    "scrolled": false
   },
   "outputs": [
    {
     "data": {
      "image/png": "[encoded data removed]",
      "text/plain": [
       "<Figure size 1200x400 with 2 Axes>"
      ]
     },
     "metadata": {},
     "output_type": "display_data"
    },
    {
     "data": {
      "text/plain": [
       "count    100000.000000\n",
       "mean          0.002023\n",
       "std           1.732045\n",
       "min          -8.760004\n",
       "25%          -1.162288\n",
       "50%           0.009424\n",
       "75%           1.158535\n",
       "max           7.238262\n",
       "Name: f0, dtype: float64"
      ]
     },
     "metadata": {},
     "output_type": "display_data"
    },
    {
     "data": {
      "image/png": "[encoded data removed]",
      "text/plain": [
       "<Figure size 1200x400 with 2 Axes>"
      ]
     },
     "metadata": {},
     "output_type": "display_data"
    },
    {
     "data": {
      "text/plain": [
       "count    100000.000000\n",
       "mean         -0.002081\n",
       "std           1.730417\n",
       "min          -7.084020\n",
       "25%          -1.174820\n",
       "50%          -0.009482\n",
       "75%           1.163678\n",
       "max           7.844801\n",
       "Name: f1, dtype: float64"
      ]
     },
     "metadata": {},
     "output_type": "display_data"
    },
    {
     "data": {
      "image/png": "[encoded data removed]",
      "text/plain": [
       "<Figure size 1200x400 with 2 Axes>"
      ]
     },
     "metadata": {},
     "output_type": "display_data"
    },
    {
     "data": {
      "text/plain": [
       "count    100000.000000\n",
       "mean          2.495128\n",
       "std           3.473445\n",
       "min         -11.970335\n",
       "25%           0.130359\n",
       "50%           2.484236\n",
       "75%           4.858794\n",
       "max          16.739402\n",
       "Name: f2, dtype: float64"
      ]
     },
     "metadata": {},
     "output_type": "display_data"
    },
    {
     "data": {
      "image/png": "[encoded data removed]",
      "text/plain": [
       "<Figure size 1200x400 with 2 Axes>"
      ]
     },
     "metadata": {},
     "output_type": "display_data"
    },
    {
     "data": {
      "text/plain": [
       "count    100000.000000\n",
       "mean         95.000000\n",
       "std          44.749921\n",
       "min           0.000000\n",
       "25%          59.450441\n",
       "50%          94.925613\n",
       "75%         130.595027\n",
       "max         190.029838\n",
       "Name: product, dtype: float64"
      ]
     },
     "metadata": {},
     "output_type": "display_data"
    }
   ],
   "source": [
    "histbox_plot(geo_2, num_col_geo)"
   ]
  },
  {
   "cell_type": "markdown",
   "metadata": {},
   "source": [
    "Из диаграмм и таблиц видно, что аномальных выбросов в количественных признаках не наблюдается.  Близкое к нормальному распределению имеют все признаки, кроме `product`, учтем это в дальнейшем при выборе критерия корреляции."
   ]
  },
  {
   "cell_type": "markdown",
   "metadata": {},
   "source": [
    "## Корреляционный анализ"
   ]
  },
  {
   "cell_type": "markdown",
   "metadata": {},
   "source": [
    "Установим столбец `id` в качестве индексного"
   ]
  },
  {
   "cell_type": "code",
   "execution_count": 61,
   "metadata": {},
   "outputs": [],
   "source": [
    "df_names = ['geo_0', 'geo_1', 'geo_2']\n",
    "for name in df_names:\n",
    "    globals()[name].set_index('id', inplace=True)"
   ]
  },
  {
   "cell_type": "markdown",
   "metadata": {},
   "source": [
    "В связи с тем, что не все признаки распределены нормально, для корреляционного анализа используем $\\phi_k$ матрицу, которая устойчива к ненормальному распределению, позволяет учитывать нелинейные зависимости и работает с различными типами признаков"
   ]
  },
  {
   "cell_type": "code",
   "execution_count": 63,
   "metadata": {},
   "outputs": [
    {
     "data": {
      "image/png": "[encoded data removed]",
      "text/plain": [
       "<Figure size 700x400 with 2 Axes>"
      ]
     },
     "metadata": {},
     "output_type": "display_data"
    }
   ],
   "source": [
    "phik_matrix_(geo_0, num_col_geo, 1)"
   ]
  },
  {
   "cell_type": "code",
   "execution_count": 64,
   "metadata": {},
   "outputs": [
    {
     "data": {
      "image/png": "[encoded data removed]",
      "text/plain": [
       "<Figure size 700x400 with 2 Axes>"
      ]
     },
     "metadata": {},
     "output_type": "display_data"
    }
   ],
   "source": [
    "phik_matrix_(geo_1, num_col_geo, 2)"
   ]
  },
  {
   "cell_type": "code",
   "execution_count": 65,
   "metadata": {},
   "outputs": [
    {
     "data": {
      "image/png": "[encoded data removed]",
      "text/plain": [
       "<Figure size 700x400 with 2 Axes>"
      ]
     },
     "metadata": {},
     "output_type": "display_data"
    }
   ],
   "source": [
    "phik_matrix_(geo_2, num_col_geo, 3)"
   ]
  },
  {
   "cell_type": "markdown",
   "metadata": {},
   "source": [
    "**Вывод:** из анализа матриц для регионов видно, что:\n",
    " - в первом регионе\n",
    "   - между целевым признаком и остальными корреляция умеренная и ниже\n",
    "   - между признаками `f1` и `f0` наблюдается высокая корреляция\n",
    " \n",
    "- во втором регионе\n",
    "   - между целевым признаком и `f2` наблюдается очень высокая корреляция, с признаком `f0` - средняя корреляция\n",
    "   - между входными признаками корреляция очень слабая или отсутствует\n",
    "   \n",
    "- во третьем регионе\n",
    "   - между целевым признаком и остальными корреляция умеренная и ниже\n",
    "   - между входными признаками корреляция очень слабая или отсутствует"
   ]
  },
  {
   "cell_type": "markdown",
   "metadata": {},
   "source": [
    "## Обучение и проверка модели"
   ]
  },
  {
   "cell_type": "markdown",
   "metadata": {},
   "source": [
    "Проверим наличие неявных дубликатов без учета признака `id`, т.е среди тех признаков, которые будут использоваться для обучения модели "
   ]
  },
  {
   "cell_type": "code",
   "execution_count": 70,
   "metadata": {},
   "outputs": [
    {
     "name": "stdout",
     "output_type": "stream",
     "text": [
      "0\n",
      "0\n",
      "0\n"
     ]
    }
   ],
   "source": [
    "for df in list_df:\n",
    "    print(df.duplicated().sum())"
   ]
  },
  {
   "cell_type": "markdown",
   "metadata": {},
   "source": [
    "### Настройки подбора модели"
   ]
  },
  {
   "cell_type": "markdown",
   "metadata": {},
   "source": [
    "Для подбора модели будем использовать один общий пайплайн для всех моделей и инструмент подбора гиперпараметров `RandomizedSearchCV`. Выбор лучшей модели будет осуществляться на основе метрики, предложенной в проекте — `RMSE`\n",
    "\n",
    "В рамках пайплайна используются следующие инструменты:    \n",
    "\n",
    "для масштабирования количественных признаков:\n",
    "- `StandardScaler, MinMaxScaler, RobustScaler`, без масштабирования\n",
    "\n",
    "типы методов:\n",
    "- `LinearRegression, Ridge, Lasso` со своими настройками гиперпараметров"
   ]
  },
  {
   "cell_type": "markdown",
   "metadata": {},
   "source": [
    "#### Модель и прогноз запасов для первого региона"
   ]
  },
  {
   "cell_type": "code",
   "execution_count": 74,
   "metadata": {},
   "outputs": [
    {
     "data": {
      "text/plain": [
       "'Лучшая модель и её параметры:'"
      ]
     },
     "metadata": {},
     "output_type": "display_data"
    },
    {
     "data": {
      "text/plain": [
       "{'models': Ridge(random_state=42),\n",
       " 'models__alpha': 9.36658865793794,\n",
       " 'models__tol': 0.01,\n",
       " 'preprocessor__num': 'passthrough'}"
      ]
     },
     "metadata": {},
     "output_type": "display_data"
    },
    {
     "name": "stdout",
     "output_type": "stream",
     "text": [
      "Метрика RMSE, полученная с помощью кросс-валидации: 37.67200501183212\n",
      "\n",
      "Метрика R2 на валидационных данных: 0.273\n",
      "Метрика RMSE на валидационных данных: 37.757\n",
      "Прогноз среднего запаса сырья в регионе 1: 92.399\n"
     ]
    }
   ],
   "source": [
    "reserv_1, reserv_1_pred, r2_1, rmse_1 = model(geo_0, 1)"
   ]
  },
  {
   "cell_type": "markdown",
   "metadata": {},
   "source": [
    "#### Модель и прогноз запасов для второго региона"
   ]
  },
  {
   "cell_type": "code",
   "execution_count": 76,
   "metadata": {},
   "outputs": [
    {
     "data": {
      "text/plain": [
       "'Лучшая модель и её параметры:'"
      ]
     },
     "metadata": {},
     "output_type": "display_data"
    },
    {
     "data": {
      "text/plain": [
       "{'models': LinearRegression(),\n",
       " 'models__fit_intercept': True,\n",
       " 'preprocessor__num': RobustScaler()}"
      ]
     },
     "metadata": {},
     "output_type": "display_data"
    },
    {
     "name": "stdout",
     "output_type": "stream",
     "text": [
      "Метрика RMSE, полученная с помощью кросс-валидации: 0.8904559629285671\n",
      "\n",
      "Метрика R2 на валидационных данных: 1.000\n",
      "Метрика RMSE на валидационных данных: 0.890\n",
      "Прогноз среднего запаса сырья в регионе 2: 68.713\n"
     ]
    }
   ],
   "source": [
    "reserv_2, reserv_2_pred, r2_2, rmse_2 = model(geo_1, 2)"
   ]
  },
  {
   "cell_type": "markdown",
   "metadata": {},
   "source": [
    "#### Модель и прогноз запасов для третьего региона"
   ]
  },
  {
   "cell_type": "code",
   "execution_count": 78,
   "metadata": {},
   "outputs": [
    {
     "data": {
      "text/plain": [
       "'Лучшая модель и её параметры:'"
      ]
     },
     "metadata": {},
     "output_type": "display_data"
    },
    {
     "data": {
      "text/plain": [
       "{'models': Lasso(random_state=42),\n",
       " 'models__alpha': 0.30584494295802445,\n",
       " 'models__tol': 0.001,\n",
       " 'preprocessor__num': 'passthrough'}"
      ]
     },
     "metadata": {},
     "output_type": "display_data"
    },
    {
     "name": "stdout",
     "output_type": "stream",
     "text": [
      "Метрика RMSE, полученная с помощью кросс-валидации: 40.026320837907875\n",
      "\n",
      "Метрика R2 на валидационных данных: 0.196\n",
      "Метрика RMSE на валидационных данных: 40.145\n",
      "Прогноз среднего запаса сырья в регионе 3: 94.772\n"
     ]
    }
   ],
   "source": [
    "reserv_3, reserv_3_pred, r2_3, rmse_3 = model(geo_2, 3)"
   ]
  },
  {
   "cell_type": "markdown",
   "metadata": {},
   "source": [
    "Отобразим результаты в сводной таблице"
   ]
  },
  {
   "cell_type": "code",
   "execution_count": 82,
   "metadata": {},
   "outputs": [
    {
     "data": {
      "text/html": [
       "<div>\n",
       "<style scoped>\n",
       "    .dataframe tbody tr th:only-of-type {\n",
       "        vertical-align: middle;\n",
       "    }\n",
       "\n",
       "    .dataframe tbody tr th {\n",
       "        vertical-align: top;\n",
       "    }\n",
       "\n",
       "    .dataframe thead th {\n",
       "        text-align: right;\n",
       "    }\n",
       "</style>\n",
       "<table border=\"1\" class=\"dataframe\">\n",
       "  <thead>\n",
       "    <tr style=\"text-align: right;\">\n",
       "      <th></th>\n",
       "      <th>r2</th>\n",
       "      <th>rmse</th>\n",
       "      <th>reserves</th>\n",
       "    </tr>\n",
       "  </thead>\n",
       "  <tbody>\n",
       "    <tr>\n",
       "      <th>region_1</th>\n",
       "      <td>0.273</td>\n",
       "      <td>37.757</td>\n",
       "      <td>92.399</td>\n",
       "    </tr>\n",
       "    <tr>\n",
       "      <th>region_2</th>\n",
       "      <td>1.000</td>\n",
       "      <td>0.890</td>\n",
       "      <td>68.713</td>\n",
       "    </tr>\n",
       "    <tr>\n",
       "      <th>region_3</th>\n",
       "      <td>0.196</td>\n",
       "      <td>40.145</td>\n",
       "      <td>94.772</td>\n",
       "    </tr>\n",
       "  </tbody>\n",
       "</table>\n",
       "</div>"
      ],
      "text/plain": [
       "             r2    rmse  reserves\n",
       "region_1  0.273  37.757    92.399\n",
       "region_2  1.000   0.890    68.713\n",
       "region_3  0.196  40.145    94.772"
      ]
     },
     "execution_count": 82,
     "metadata": {},
     "output_type": "execute_result"
    }
   ],
   "source": [
    "regions = ['region_1', 'region_2', 'region_3']\n",
    "data = [\n",
    "    [r2_1, r2_2, r2_3],\n",
    "    [rmse_1, rmse_2, rmse_3],\n",
    "    [reserv_1_pred.mean(), reserv_2_pred.mean(), reserv_3_pred.mean()]\n",
    "]\n",
    "data = pd.DataFrame(data=data, columns=regions)\n",
    "data = data.T\n",
    "data.columns = ['r2', 'rmse', 'reserves']\n",
    "round(data, 3)"
   ]
  },
  {
   "cell_type": "markdown",
   "metadata": {},
   "source": [
    "**Вывод:** анализ метрик моделей и прогнозов запасов сырья показывают:\n",
    "- коэффициент R2, оценивающий обобщающую способность модели, выше всего для модели региона 2, что объясняется высокой корелляцией признаков с целевым для этого региона. R2 для регионов 1 и 3 крайне низкие, всего в 27% и 20% процентах случаев соответственно предсказание модели ближе к истине, чем среднее значение целевого признака\n",
    "- по той же причине самое низкое значение среднеквадратичной ошибки в регионе 2, в регионах 1 и 3 ошибка составляет `37.8` и `40.1` соответственно\n",
    "- примерно схожие средние запасы сырья прогнозируются в регионе 1 и 3 - `92.4-94.8`, прогноз по региону 2 имеет более низкое значение - `68.7`"
   ]
  },
  {
   "cell_type": "markdown",
   "metadata": {},
   "source": [
    "## Подготовка к расчёту прибыли"
   ]
  },
  {
   "cell_type": "markdown",
   "metadata": {},
   "source": [
    "### Расчет объёма сырья для безубыточной разработки новой скважины"
   ]
  },
  {
   "cell_type": "markdown",
   "metadata": {},
   "source": [
    "По условию задачи выбираются 200 лучших скважин для разработки при бюджете на разработку скважин в регионе — 10 млрд рублей. Доход с каждой единицы продукта составляет 450 тыс. рублей."
   ]
  },
  {
   "cell_type": "code",
   "execution_count": 88,
   "metadata": {},
   "outputs": [
    {
     "name": "stdout",
     "output_type": "stream",
     "text": [
      "Объем сырья для безубыточной разработки новой скважины: 111.11 тыс.барр.\n"
     ]
    }
   ],
   "source": [
    "# бюджет на разработку одной скважины\n",
    "BUDGET_REGION = 10_000_000_000\n",
    "WELLS_LIMIT = 200\n",
    "well_budget = BUDGET_REGION / WELLS_LIMIT\n",
    "\n",
    "INCOME_TBAR = 450_000\n",
    "reserv_no_loss = well_budget/INCOME_TBAR\n",
    "print(f'Объем сырья для безубыточной разработки новой скважины: {reserv_no_loss:.2f} тыс.барр.')"
   ]
  },
  {
   "cell_type": "markdown",
   "metadata": {},
   "source": [
    "Сравнение полученного объёма сырья со средним запасом в каждом регионе"
   ]
  },
  {
   "cell_type": "code",
   "execution_count": 91,
   "metadata": {},
   "outputs": [
    {
     "name": "stdout",
     "output_type": "stream",
     "text": [
      "Количество регионов со средним запасом, превышающий безубыточный: 0\n"
     ]
    }
   ],
   "source": [
    "n = 0\n",
    "for i in regions:\n",
    "    if data.loc[i, 'reserves'] > reserv_no_loss:\n",
    "        n +=1\n",
    "print('Количество регионов со средним запасом, превышающий безубыточный:', n)"
   ]
  },
  {
   "cell_type": "markdown",
   "metadata": {},
   "source": [
    "Отобразим на гистограммах распределение прогнозов запасов по регионам с указанием рассчитанной величины запаса для безубыточной разработки новой скважины"
   ]
  },
  {
   "cell_type": "code",
   "execution_count": 93,
   "metadata": {},
   "outputs": [],
   "source": [
    "reserv_1_pred = pd.Series(reserv_1_pred, name='region_1')\n",
    "reserv_2_pred = pd.Series(reserv_2_pred, name='region_2')\n",
    "reserv_3_pred = pd.Series(reserv_3_pred, name='region_3')"
   ]
  },
  {
   "cell_type": "code",
   "execution_count": 94,
   "metadata": {},
   "outputs": [
    {
     "data": {
      "image/png": "[encoded data removed]",
      "text/plain": [
       "<Figure size 1200x400 with 3 Axes>"
      ]
     },
     "metadata": {},
     "output_type": "display_data"
    }
   ],
   "source": [
    "reserv_pred = [reserv_1_pred, reserv_2_pred, reserv_3_pred]\n",
    "\n",
    "i = 1\n",
    "plt.figure(figsize=(12, 4))\n",
    "plt.suptitle(f'Гистограммы распределения прогнозов запасов по регионам'\n",
    "             '\\n'f'с указанием уровня безубыточности', fontsize = 13, fontweight='bold')\n",
    "for df in reserv_pred:\n",
    "    plt.subplot(1, 3, i)\n",
    "    sns.histplot(data=df)\n",
    "    plt.axvline(reserv_no_loss, color='red', linestyle='--')\n",
    "    plt.ylabel('Количество')\n",
    "    i +=1\n",
    "\n",
    "plt.tight_layout()\n",
    "plt.show();"
   ]
  },
  {
   "cell_type": "markdown",
   "metadata": {},
   "source": [
    "**Вывод:** исходя из объема сырья необходимого для безубыточной разработки новой скважины в 111.11 барр, ни в одном из регионов средний запас не достиг безубыточного уровня, при этом в каждом регионе имеются скважины с прогнозом запаса превышающего запас для безубыточности, т.е. в каждом регионе необходимо провести работу по отбору необходимых скважин."
   ]
  },
  {
   "cell_type": "markdown",
   "metadata": {},
   "source": [
    "### Функция для расчёта прибыли по выбранным скважинам и предсказаниям модели"
   ]
  },
  {
   "cell_type": "markdown",
   "metadata": {},
   "source": [
    "Сбросим индексы в истинных значениях запасов для приведения их к идентичным с прогнозными значениями"
   ]
  },
  {
   "cell_type": "code",
   "execution_count": 99,
   "metadata": {
    "scrolled": true
   },
   "outputs": [],
   "source": [
    "reserv_1 = reserv_1.reset_index(drop=True)\n",
    "reserv_2 = reserv_2.reset_index(drop=True)\n",
    "reserv_3 = reserv_3.reset_index(drop=True)\n",
    "reserv = [reserv_1, reserv_2, reserv_3]"
   ]
  },
  {
   "cell_type": "markdown",
   "metadata": {},
   "source": [
    "Рассчитаем прибыль по регионам, исходя из устройства 200 лучших по прогнозам из всех скважин в каждом из них"
   ]
  },
  {
   "cell_type": "code",
   "execution_count": 101,
   "metadata": {},
   "outputs": [
    {
     "name": "stdout",
     "output_type": "stream",
     "text": [
      "Прибыль в регионе 1 составляет: 3_359_141_114 руб.\n",
      "Прибыль в регионе 2 составляет: 2_415_086_697 руб.\n",
      "Прибыль в регионе 3 составляет: 2_602_895_151 руб.\n"
     ]
    }
   ],
   "source": [
    "for i in range(len(reserv)):\n",
    "    profit = profit_region(reserv[i], reserv_pred[i])\n",
    "    print(f'Прибыль в регионе {i+1} составляет: {profit:_.0f} руб.')"
   ]
  },
  {
   "cell_type": "markdown",
   "metadata": {},
   "source": [
    "## Расчёт прибыли и рисков "
   ]
  },
  {
   "cell_type": "markdown",
   "metadata": {},
   "source": [
    "По условию задачи при разведке региона исследуют 500 точек, из которых с помощью машинного обучения выбирают 200 лучших для разработки. Применим технику Bootstrap с 1000 выборок, чтобы найти распределение прибыли.\n",
    "\n",
    "Для каждого региона рассчитаем среднюю прибыль, 95%-й доверительный интервал для нее и вероятность убытков."
   ]
  },
  {
   "cell_type": "code",
   "execution_count": 104,
   "metadata": {},
   "outputs": [
    {
     "name": "stdout",
     "output_type": "stream",
     "text": [
      "Средняя прибыль в регионе 1 составляет: 406_373_588 руб.\n",
      "95%-й доверительный интервал прибыли в регионе 1:    (-117_742_136 - 911_737_051) руб.\n",
      "Вероятность убытка в регионе 1: 6.7%\n",
      "\n",
      "Средняя прибыль в регионе 2 составляет: 441_504_278 руб.\n",
      "95%-й доверительный интервал прибыли в регионе 2:    (35_728_489 - 828_006_639) руб.\n",
      "Вероятность убытка в регионе 2: 1.6%\n",
      "\n",
      "Средняя прибыль в регионе 3 составляет: 385_869_644 руб.\n",
      "95%-й доверительный интервал прибыли в регионе 3:    (-158_960_751 - 888_377_771) руб.\n",
      "Вероятность убытка в регионе 3: 7.7%\n",
      "\n"
     ]
    }
   ],
   "source": [
    "frac = 500 / len(reserv_1)\n",
    "state = np.random.RandomState(12345)\n",
    "\n",
    "for j in range(len(reserv)): \n",
    "    profit = []\n",
    "    for i in range(1000):\n",
    "        reserv_pred_subsample = reserv_pred[j].sample(frac=frac, replace=True, random_state=state)\n",
    "\n",
    "        profit.append(profit_region(reserv[j], reserv_pred_subsample))\n",
    "\n",
    "    profit = pd.Series(profit)\n",
    "    profit_mean = profit.mean()\n",
    "\n",
    "    lower = profit.quantile(0.025)\n",
    "    high = profit.quantile(0.975)\n",
    "\n",
    "    loss_prob = (profit < 0).mean() * 100\n",
    "\n",
    "    print(f'Средняя прибыль в регионе {j+1} составляет: {profit_mean:_.0f} руб.')\n",
    "    print(f'95%-й доверительный интервал прибыли в регионе {j+1}:\\\n",
    "    ({lower:_.0f} - {high:_.0f}) руб.')\n",
    "    print(f'Вероятность убытка в регионе {j+1}: {loss_prob}%\\n')"
   ]
  },
  {
   "cell_type": "markdown",
   "metadata": {},
   "source": [
    "**Вывод:** Отбор по условию вероятности убытков менее 2.5% проходит только `регион 2`. Средняя прибыль в регионе составляет: `441 504 278` руб. 95%-й доверительный интервал средней прибыли в регионе: `(35 728 428 - 828 006 639)`"
   ]
  },
  {
   "cell_type": "markdown",
   "metadata": {},
   "source": [
    "## Общий вывод"
   ]
  },
  {
   "cell_type": "markdown",
   "metadata": {},
   "source": [
    "**В рамках проекта была проведена:** предобработка данных, исследовательский анализ данных с необходимой визуализацией, статистический анализ признаков по типам, изучена взаимосвязь между признаками на основе корреляционного анализа.    \n",
    "С целью прогноза объёма запасов в новых скважинах обучены три линейныемодели, выбрана метрика и лучшая модель на основе данной метрики для каждого региона.    \n",
    "Отобраны скважины с самыми высокими оценками значений запасов и рассчитан достаточный объём сырья для безубыточной разработки новой скважины.     \n",
    "Рассчитаны риски и прибыль для каждого региона с применением техники Bootstrap, опреден регион с максимальной суммарной прибылью отобранных скважин и вероятностью убытков меньше заданного значения.\n",
    "_____________\n",
    "\n",
    "**На этапе предобработки данных:** сохранены записи с одинаковыми скважинами, исключение которых потребовало бы экспертного заключения, явные дубликаты отсутствуют\n",
    "\n",
    "**На этапе исследовательского анализа данных:** более глубоко исследованы количественные данные с использованием графических инструментов, описаны характеристики данных\n",
    "\n",
    "**На этапе корреляционного анализа признаков:** изучена взаимосвязь между всеми признаками на основе матрицы Phik. Из анализа матриц для регионов видно, что:\n",
    " - в первом регионе\n",
    "   - между целевым признаком и остальными корреляция умеренная и ниже\n",
    "   - между признаками `f1` и `f0` наблюдается высокая корреляция\n",
    " \n",
    "- во втором регионе\n",
    "   - между целевым признаком и `f2` наблюдается очень высокая корреляция, с признаком `f0` - средняя корреляция\n",
    "   - между входными признаками корреляция очень слабая или отсутствует\n",
    "   \n",
    "- во третьем регионе\n",
    "   - между целевым признаком и остальными корреляция умеренная и ниже\n",
    "   - между входными признаками корреляция очень слабая или отсутствует\n",
    "\n",
    "**На этапе обучения и выбора лучшей модели:** с использованием пайплайнов обработаны количественные признаки, обучены 3 модели: `LinearRegression`, `Ridge`, `Lasso`. Для каждой из моделей подобраны гиперпараметры. Для выбора лучшей модели использовалась заданная метрика `RMSE`.       \n",
    "Анализ метрик моделей и прогнозов запасов сырья показал:\n",
    "- коэффициент R2, оценивающий обобщающую способность модели, выше всего для модели региона 2, что объясняется высокой корелляцией признаков с целевым для этого региона. R2 для регионов 1 и 3 крайне низкие, всего в 27% и 20% процентах случаев соответственно предсказание модели ближе к истине, чем среднее значение целевого признака\n",
    "- по той же причине самое низкое значение среднеквадратичной ошибки в регионе 2, в регионах 1 и 3 ошибка составляет `37.8` и `40.1` соответственно\n",
    "- примерно схожие средние запасы сырья прогнозируются в регионе 1 и 3 - `92.4-94.8`, прогноз по региону 2 имеет более низкое значение - `68.7`\n",
    "\n",
    "**На этапе подготовки к расчёту прибыли:** произведен расчет объема сырья для безубыточной разработки новой скважины, который составил - `111.11 тыс.барр.` Исходя из даного объема сырья, ни в одном из регионов средний запас не достиг безубыточного уровня, при этом в каждом регионе имеются скважины с прогнозом запаса превышающего запас для безубыточности.    \n",
    "Расчет прибыли по регионам, исходя из устройства 200 лучших по прогнозам из всех скважин в каждом из них, показал следующие значения:\n",
    "- прибыль в регионе 1 составляет: `3 359` млн.руб.\n",
    "- прибыль в регионе 2 составляет: `2 415` млн.руб.\n",
    "- прибыль в регионе 3 составляет: `2 603` млн.руб.\n",
    "\n",
    "**В соответствии с этапом расчёта прибыли и рисков по регионам:** отбор по условию вероятности убытков менее 2.5% прошел только `регион 2`. Вероятность убытков составила - `1.6%`. Средняя прибыль в регионе составляет: `441,5` млн.руб., выше остальных регионов. 95%-й доверительный интервал средней прибыли в регионе: `(35,7 - 828)` млн.руб.    \n",
    "В соответствии с указанными значениями - `регион №2` рекомендуется для разработки скважин."
   ]
  }
 ],
 "metadata": {
  "ExecuteTimeLog": [
   {
    "duration": 54,
    "start_time": "2024-06-14T10:48:34.759Z"
   },
   {
    "duration": 45439,
    "start_time": "2024-06-14T10:49:02.369Z"
   },
   {
    "duration": 2416,
    "start_time": "2024-06-14T10:49:49.547Z"
   },
   {
    "duration": 0,
    "start_time": "2024-06-14T10:49:51.966Z"
   },
   {
    "duration": 0,
    "start_time": "2024-06-14T10:49:51.968Z"
   },
   {
    "duration": 3,
    "start_time": "2024-06-14T10:49:52.361Z"
   },
   {
    "duration": 5,
    "start_time": "2024-06-14T10:49:53.065Z"
   },
   {
    "duration": 5,
    "start_time": "2024-06-14T10:49:53.910Z"
   },
   {
    "duration": 659,
    "start_time": "2024-06-14T10:49:55.030Z"
   },
   {
    "duration": 10,
    "start_time": "2024-06-14T10:50:42.787Z"
   },
   {
    "duration": 436,
    "start_time": "2024-06-14T10:50:46.508Z"
   },
   {
    "duration": 68,
    "start_time": "2024-06-14T10:50:57.218Z"
   },
   {
    "duration": 18476,
    "start_time": "2024-06-14T11:45:28.244Z"
   },
   {
    "duration": 2291,
    "start_time": "2024-06-14T11:45:46.723Z"
   },
   {
    "duration": 0,
    "start_time": "2024-06-14T11:45:49.016Z"
   },
   {
    "duration": 0,
    "start_time": "2024-06-14T11:45:49.017Z"
   },
   {
    "duration": 0,
    "start_time": "2024-06-14T11:45:49.018Z"
   },
   {
    "duration": 0,
    "start_time": "2024-06-14T11:45:49.019Z"
   },
   {
    "duration": 0,
    "start_time": "2024-06-14T11:45:49.020Z"
   },
   {
    "duration": 0,
    "start_time": "2024-06-14T11:45:49.021Z"
   },
   {
    "duration": 0,
    "start_time": "2024-06-14T11:45:49.022Z"
   },
   {
    "duration": 2218,
    "start_time": "2024-06-14T11:49:21.814Z"
   },
   {
    "duration": 13,
    "start_time": "2024-06-14T11:49:40.457Z"
   },
   {
    "duration": 144,
    "start_time": "2024-06-14T11:49:49.892Z"
   },
   {
    "duration": 3,
    "start_time": "2024-06-14T11:49:51.255Z"
   },
   {
    "duration": 2,
    "start_time": "2024-06-14T11:49:51.998Z"
   },
   {
    "duration": 3,
    "start_time": "2024-06-14T11:49:53.222Z"
   },
   {
    "duration": 4,
    "start_time": "2024-06-14T11:49:53.653Z"
   },
   {
    "duration": 4,
    "start_time": "2024-06-14T11:49:54.460Z"
   },
   {
    "duration": 421,
    "start_time": "2024-06-14T11:49:55.558Z"
   },
   {
    "duration": 91,
    "start_time": "2024-06-14T11:49:57.998Z"
   },
   {
    "duration": 52,
    "start_time": "2024-06-14T11:59:30.341Z"
   },
   {
    "duration": 71,
    "start_time": "2024-06-14T12:02:32.731Z"
   },
   {
    "duration": 62,
    "start_time": "2024-06-14T12:03:29.464Z"
   },
   {
    "duration": 52,
    "start_time": "2024-06-14T12:03:48.786Z"
   },
   {
    "duration": 900,
    "start_time": "2024-06-14T12:04:11.628Z"
   },
   {
    "duration": 24,
    "start_time": "2024-06-14T12:04:28.010Z"
   },
   {
    "duration": 69,
    "start_time": "2024-06-14T12:05:11.316Z"
   },
   {
    "duration": 30,
    "start_time": "2024-06-14T12:07:42.694Z"
   },
   {
    "duration": 23,
    "start_time": "2024-06-14T12:07:59.503Z"
   },
   {
    "duration": 129,
    "start_time": "2024-06-14T12:09:26.564Z"
   },
   {
    "duration": 60,
    "start_time": "2024-06-14T12:12:13.872Z"
   },
   {
    "duration": 67,
    "start_time": "2024-06-14T12:12:23.612Z"
   },
   {
    "duration": 59,
    "start_time": "2024-06-14T12:16:10.248Z"
   },
   {
    "duration": 68,
    "start_time": "2024-06-14T12:16:40.233Z"
   },
   {
    "duration": 62,
    "start_time": "2024-06-14T12:17:14.337Z"
   },
   {
    "duration": 66,
    "start_time": "2024-06-14T12:17:18.925Z"
   },
   {
    "duration": 49,
    "start_time": "2024-06-14T15:29:24.805Z"
   },
   {
    "duration": 44732,
    "start_time": "2024-06-14T15:30:01.824Z"
   },
   {
    "duration": 2475,
    "start_time": "2024-06-14T15:30:46.559Z"
   },
   {
    "duration": 3,
    "start_time": "2024-06-14T15:30:49.036Z"
   },
   {
    "duration": 564,
    "start_time": "2024-06-14T15:30:49.041Z"
   },
   {
    "duration": 8,
    "start_time": "2024-06-14T15:30:49.607Z"
   },
   {
    "duration": 14,
    "start_time": "2024-06-14T15:30:49.617Z"
   },
   {
    "duration": 47,
    "start_time": "2024-06-14T15:30:49.632Z"
   },
   {
    "duration": 716,
    "start_time": "2024-06-14T15:30:49.681Z"
   },
   {
    "duration": 86,
    "start_time": "2024-06-14T15:30:50.399Z"
   },
   {
    "duration": 95,
    "start_time": "2024-06-14T15:30:50.486Z"
   },
   {
    "duration": 84,
    "start_time": "2024-06-14T15:30:50.582Z"
   },
   {
    "duration": 10,
    "start_time": "2024-06-14T15:30:50.667Z"
   },
   {
    "duration": 5157,
    "start_time": "2024-06-14T15:30:50.678Z"
   },
   {
    "duration": 11,
    "start_time": "2024-06-14T15:40:33.351Z"
   },
   {
    "duration": 5280,
    "start_time": "2024-06-14T15:40:35.188Z"
   },
   {
    "duration": 5017,
    "start_time": "2024-06-14T15:40:41.207Z"
   },
   {
    "duration": 5332,
    "start_time": "2024-06-14T15:41:41.280Z"
   },
   {
    "duration": 5748,
    "start_time": "2024-06-14T15:43:12.967Z"
   },
   {
    "duration": 15,
    "start_time": "2024-06-14T15:46:35.643Z"
   },
   {
    "duration": 0,
    "start_time": "2024-06-14T15:51:17.358Z"
   },
   {
    "duration": 13,
    "start_time": "2024-06-14T15:51:31.966Z"
   },
   {
    "duration": 4,
    "start_time": "2024-06-14T15:51:43.445Z"
   },
   {
    "duration": 17512,
    "start_time": "2024-06-14T15:54:03.325Z"
   },
   {
    "duration": 2233,
    "start_time": "2024-06-14T15:54:20.840Z"
   },
   {
    "duration": 3,
    "start_time": "2024-06-14T15:54:23.075Z"
   },
   {
    "duration": 18,
    "start_time": "2024-06-14T15:54:23.080Z"
   },
   {
    "duration": 15,
    "start_time": "2024-06-14T15:54:23.101Z"
   },
   {
    "duration": 10,
    "start_time": "2024-06-14T15:54:23.118Z"
   },
   {
    "duration": 22,
    "start_time": "2024-06-14T15:54:23.129Z"
   },
   {
    "duration": 443,
    "start_time": "2024-06-14T15:54:23.153Z"
   },
   {
    "duration": 99,
    "start_time": "2024-06-14T15:54:23.598Z"
   },
   {
    "duration": 99,
    "start_time": "2024-06-14T15:54:23.699Z"
   },
   {
    "duration": 93,
    "start_time": "2024-06-14T15:54:23.799Z"
   },
   {
    "duration": 10,
    "start_time": "2024-06-14T15:54:23.894Z"
   },
   {
    "duration": 5422,
    "start_time": "2024-06-14T15:54:23.906Z"
   },
   {
    "duration": 31,
    "start_time": "2024-06-14T15:54:29.331Z"
   },
   {
    "duration": 5412,
    "start_time": "2024-06-14T15:54:29.364Z"
   },
   {
    "duration": 6660,
    "start_time": "2024-06-14T15:54:34.778Z"
   },
   {
    "duration": 9,
    "start_time": "2024-06-14T15:58:56.057Z"
   },
   {
    "duration": 1002,
    "start_time": "2024-06-14T15:59:56.241Z"
   },
   {
    "duration": 700,
    "start_time": "2024-06-14T16:01:31.220Z"
   },
   {
    "duration": 746,
    "start_time": "2024-06-14T16:01:40.050Z"
   },
   {
    "duration": 2058,
    "start_time": "2024-06-14T16:03:01.196Z"
   },
   {
    "duration": 101658,
    "start_time": "2024-06-14T16:03:24.909Z"
   },
   {
    "duration": 71127,
    "start_time": "2024-06-14T16:05:10.177Z"
   },
   {
    "duration": 17837,
    "start_time": "2024-06-14T16:07:31.375Z"
   },
   {
    "duration": 2198,
    "start_time": "2024-06-14T16:07:49.215Z"
   },
   {
    "duration": 3,
    "start_time": "2024-06-14T16:07:51.415Z"
   },
   {
    "duration": 5,
    "start_time": "2024-06-14T16:07:51.420Z"
   },
   {
    "duration": 4,
    "start_time": "2024-06-14T16:07:51.427Z"
   },
   {
    "duration": 53,
    "start_time": "2024-06-14T16:07:51.432Z"
   },
   {
    "duration": 25,
    "start_time": "2024-06-14T16:07:51.486Z"
   },
   {
    "duration": 456,
    "start_time": "2024-06-14T16:07:51.513Z"
   },
   {
    "duration": 102,
    "start_time": "2024-06-14T16:07:51.971Z"
   },
   {
    "duration": 91,
    "start_time": "2024-06-14T16:07:52.074Z"
   },
   {
    "duration": 75,
    "start_time": "2024-06-14T16:07:52.167Z"
   },
   {
    "duration": 11,
    "start_time": "2024-06-14T16:07:52.261Z"
   },
   {
    "duration": 5202,
    "start_time": "2024-06-14T16:07:52.273Z"
   },
   {
    "duration": 15,
    "start_time": "2024-06-14T16:07:57.477Z"
   },
   {
    "duration": 5227,
    "start_time": "2024-06-14T16:07:57.493Z"
   },
   {
    "duration": 5503,
    "start_time": "2024-06-14T16:08:02.722Z"
   },
   {
    "duration": 7,
    "start_time": "2024-06-14T16:08:08.226Z"
   },
   {
    "duration": 32012,
    "start_time": "2024-06-14T16:08:08.234Z"
   },
   {
    "duration": 19797,
    "start_time": "2024-06-14T16:10:10.523Z"
   },
   {
    "duration": 2275,
    "start_time": "2024-06-14T16:10:30.323Z"
   },
   {
    "duration": 3,
    "start_time": "2024-06-14T16:10:32.600Z"
   },
   {
    "duration": 18,
    "start_time": "2024-06-14T16:10:32.605Z"
   },
   {
    "duration": 12,
    "start_time": "2024-06-14T16:10:32.626Z"
   },
   {
    "duration": 83,
    "start_time": "2024-06-14T16:10:32.640Z"
   },
   {
    "duration": 7,
    "start_time": "2024-06-14T16:10:32.724Z"
   },
   {
    "duration": 453,
    "start_time": "2024-06-14T16:10:32.733Z"
   },
   {
    "duration": 90,
    "start_time": "2024-06-14T16:10:33.187Z"
   },
   {
    "duration": 87,
    "start_time": "2024-06-14T16:10:33.278Z"
   },
   {
    "duration": 72,
    "start_time": "2024-06-14T16:10:33.367Z"
   },
   {
    "duration": 25,
    "start_time": "2024-06-14T16:10:33.441Z"
   },
   {
    "duration": 5244,
    "start_time": "2024-06-14T16:10:33.468Z"
   },
   {
    "duration": 16,
    "start_time": "2024-06-14T16:10:38.715Z"
   },
   {
    "duration": 5279,
    "start_time": "2024-06-14T16:10:38.732Z"
   },
   {
    "duration": 5288,
    "start_time": "2024-06-14T16:10:44.012Z"
   },
   {
    "duration": 21,
    "start_time": "2024-06-14T16:10:49.302Z"
   },
   {
    "duration": 18726,
    "start_time": "2024-06-14T16:13:22.403Z"
   },
   {
    "duration": 2244,
    "start_time": "2024-06-14T16:13:41.131Z"
   },
   {
    "duration": 3,
    "start_time": "2024-06-14T16:13:43.377Z"
   },
   {
    "duration": 36,
    "start_time": "2024-06-14T16:13:43.381Z"
   },
   {
    "duration": 5,
    "start_time": "2024-06-14T16:13:43.419Z"
   },
   {
    "duration": 7,
    "start_time": "2024-06-14T16:13:43.425Z"
   },
   {
    "duration": 8,
    "start_time": "2024-06-14T16:13:43.434Z"
   },
   {
    "duration": 445,
    "start_time": "2024-06-14T16:13:43.444Z"
   },
   {
    "duration": 118,
    "start_time": "2024-06-14T16:13:43.891Z"
   },
   {
    "duration": 103,
    "start_time": "2024-06-14T16:13:44.011Z"
   },
   {
    "duration": 93,
    "start_time": "2024-06-14T16:13:44.116Z"
   },
   {
    "duration": 10,
    "start_time": "2024-06-14T16:13:44.210Z"
   },
   {
    "duration": 5184,
    "start_time": "2024-06-14T16:13:44.223Z"
   },
   {
    "duration": 15,
    "start_time": "2024-06-14T16:13:49.410Z"
   },
   {
    "duration": 5818,
    "start_time": "2024-06-14T16:13:49.427Z"
   },
   {
    "duration": 5277,
    "start_time": "2024-06-14T16:13:55.246Z"
   },
   {
    "duration": 22,
    "start_time": "2024-06-14T16:14:00.525Z"
   },
   {
    "duration": 93406,
    "start_time": "2024-06-14T16:14:00.548Z"
   },
   {
    "duration": 703,
    "start_time": "2024-06-14T16:15:58.866Z"
   },
   {
    "duration": 759,
    "start_time": "2024-06-14T16:16:16.695Z"
   },
   {
    "duration": 679,
    "start_time": "2024-06-14T16:16:40.770Z"
   },
   {
    "duration": 664,
    "start_time": "2024-06-14T16:18:16.154Z"
   },
   {
    "duration": 4,
    "start_time": "2024-06-14T16:20:13.543Z"
   },
   {
    "duration": 10566,
    "start_time": "2024-06-14T16:20:58.578Z"
   },
   {
    "duration": 4,
    "start_time": "2024-06-14T16:21:39.683Z"
   },
   {
    "duration": 9992,
    "start_time": "2024-06-14T16:21:40.561Z"
   },
   {
    "duration": 10834,
    "start_time": "2024-06-14T16:23:02.149Z"
   },
   {
    "duration": 10538,
    "start_time": "2024-06-14T16:23:25.323Z"
   },
   {
    "duration": 3,
    "start_time": "2024-06-14T16:24:05.953Z"
   },
   {
    "duration": 10166,
    "start_time": "2024-06-14T16:24:20.648Z"
   },
   {
    "duration": 10548,
    "start_time": "2024-06-14T16:25:10.851Z"
   },
   {
    "duration": 5874,
    "start_time": "2024-06-14T16:26:03.520Z"
   },
   {
    "duration": 2196,
    "start_time": "2024-06-14T16:26:09.396Z"
   },
   {
    "duration": 3,
    "start_time": "2024-06-14T16:26:11.594Z"
   },
   {
    "duration": 9,
    "start_time": "2024-06-14T16:26:11.598Z"
   },
   {
    "duration": 9,
    "start_time": "2024-06-14T16:26:11.609Z"
   },
   {
    "duration": 26,
    "start_time": "2024-06-14T16:26:11.619Z"
   },
   {
    "duration": 11,
    "start_time": "2024-06-14T16:26:11.647Z"
   },
   {
    "duration": 444,
    "start_time": "2024-06-14T16:26:11.659Z"
   },
   {
    "duration": 90,
    "start_time": "2024-06-14T16:26:12.104Z"
   },
   {
    "duration": 106,
    "start_time": "2024-06-14T16:26:12.196Z"
   },
   {
    "duration": 88,
    "start_time": "2024-06-14T16:26:12.304Z"
   },
   {
    "duration": 9,
    "start_time": "2024-06-14T16:26:12.394Z"
   },
   {
    "duration": 6090,
    "start_time": "2024-06-14T16:26:12.405Z"
   },
   {
    "duration": 17,
    "start_time": "2024-06-14T16:26:18.498Z"
   },
   {
    "duration": 5080,
    "start_time": "2024-06-14T16:26:18.516Z"
   },
   {
    "duration": 5491,
    "start_time": "2024-06-14T16:26:23.598Z"
   },
   {
    "duration": 21,
    "start_time": "2024-06-14T16:26:29.090Z"
   },
   {
    "duration": 988,
    "start_time": "2024-06-14T16:26:31.501Z"
   },
   {
    "duration": 4,
    "start_time": "2024-06-14T16:26:42.638Z"
   },
   {
    "duration": 740,
    "start_time": "2024-06-14T16:26:50.146Z"
   },
   {
    "duration": 696,
    "start_time": "2024-06-14T16:27:06.057Z"
   },
   {
    "duration": 691,
    "start_time": "2024-06-14T16:27:25.510Z"
   },
   {
    "duration": 40238,
    "start_time": "2024-06-14T16:27:50.378Z"
   },
   {
    "duration": 6575,
    "start_time": "2024-06-14T16:30:16.006Z"
   },
   {
    "duration": 2580,
    "start_time": "2024-06-14T16:30:22.584Z"
   },
   {
    "duration": 3,
    "start_time": "2024-06-14T16:30:25.166Z"
   },
   {
    "duration": 12,
    "start_time": "2024-06-14T16:30:25.172Z"
   },
   {
    "duration": 14,
    "start_time": "2024-06-14T16:30:25.186Z"
   },
   {
    "duration": 17,
    "start_time": "2024-06-14T16:30:25.202Z"
   },
   {
    "duration": 19,
    "start_time": "2024-06-14T16:30:25.221Z"
   },
   {
    "duration": 443,
    "start_time": "2024-06-14T16:30:25.243Z"
   },
   {
    "duration": 88,
    "start_time": "2024-06-14T16:30:25.688Z"
   },
   {
    "duration": 90,
    "start_time": "2024-06-14T16:30:25.779Z"
   },
   {
    "duration": 69,
    "start_time": "2024-06-14T16:30:25.870Z"
   },
   {
    "duration": 26,
    "start_time": "2024-06-14T16:30:25.941Z"
   },
   {
    "duration": 5240,
    "start_time": "2024-06-14T16:30:25.969Z"
   },
   {
    "duration": 15,
    "start_time": "2024-06-14T16:30:31.210Z"
   },
   {
    "duration": 5018,
    "start_time": "2024-06-14T16:30:31.227Z"
   },
   {
    "duration": 5254,
    "start_time": "2024-06-14T16:30:36.247Z"
   },
   {
    "duration": 18,
    "start_time": "2024-06-14T16:30:41.503Z"
   },
   {
    "duration": 979,
    "start_time": "2024-06-14T16:30:41.523Z"
   },
   {
    "duration": 4,
    "start_time": "2024-06-14T16:30:42.504Z"
   },
   {
    "duration": 737,
    "start_time": "2024-06-14T16:31:29.865Z"
   },
   {
    "duration": 740,
    "start_time": "2024-06-14T16:31:52.189Z"
   },
   {
    "duration": 4,
    "start_time": "2024-06-14T16:32:46.888Z"
   },
   {
    "duration": 696,
    "start_time": "2024-06-14T16:33:11.988Z"
   },
   {
    "duration": 748,
    "start_time": "2024-06-14T16:33:14.245Z"
   },
   {
    "duration": 780,
    "start_time": "2024-06-14T17:45:42.913Z"
   },
   {
    "duration": 33,
    "start_time": "2024-06-14T17:52:50.475Z"
   },
   {
    "duration": 62,
    "start_time": "2024-06-14T17:53:38.767Z"
   },
   {
    "duration": 139,
    "start_time": "2024-06-14T17:53:44.662Z"
   },
   {
    "duration": 9,
    "start_time": "2024-06-14T18:01:48.574Z"
   },
   {
    "duration": 9,
    "start_time": "2024-06-14T20:00:14.481Z"
   },
   {
    "duration": 225,
    "start_time": "2024-06-14T20:00:51.472Z"
   },
   {
    "duration": 3,
    "start_time": "2024-06-14T20:01:01.887Z"
   },
   {
    "duration": 131,
    "start_time": "2024-06-14T20:01:07.524Z"
   },
   {
    "duration": 4,
    "start_time": "2024-06-14T20:02:26.459Z"
   },
   {
    "duration": 4,
    "start_time": "2024-06-14T20:02:42.214Z"
   },
   {
    "duration": 5,
    "start_time": "2024-06-14T20:03:11.816Z"
   },
   {
    "duration": 91,
    "start_time": "2024-06-14T20:03:35.481Z"
   },
   {
    "duration": 110,
    "start_time": "2024-06-14T20:05:04.211Z"
   },
   {
    "duration": 5,
    "start_time": "2024-06-14T20:05:19.957Z"
   },
   {
    "duration": 42,
    "start_time": "2024-06-14T20:05:37.329Z"
   },
   {
    "duration": 14,
    "start_time": "2024-06-14T20:06:45.239Z"
   },
   {
    "duration": 6,
    "start_time": "2024-06-14T20:07:19.279Z"
   },
   {
    "duration": 26,
    "start_time": "2024-06-14T20:09:00.489Z"
   },
   {
    "duration": 98,
    "start_time": "2024-06-14T20:09:13.313Z"
   },
   {
    "duration": 29832,
    "start_time": "2024-06-14T20:09:59.337Z"
   },
   {
    "duration": 106,
    "start_time": "2024-06-14T20:13:39.077Z"
   },
   {
    "duration": 99,
    "start_time": "2024-06-14T20:15:33.095Z"
   },
   {
    "duration": 5,
    "start_time": "2024-06-14T20:15:49.594Z"
   },
   {
    "duration": 5,
    "start_time": "2024-06-14T20:16:21.427Z"
   },
   {
    "duration": 4,
    "start_time": "2024-06-14T20:16:30.129Z"
   },
   {
    "duration": 4,
    "start_time": "2024-06-14T20:16:35.205Z"
   },
   {
    "duration": 5,
    "start_time": "2024-06-14T20:16:41.885Z"
   },
   {
    "duration": 4,
    "start_time": "2024-06-14T20:16:46.572Z"
   },
   {
    "duration": 4,
    "start_time": "2024-06-14T20:16:53.490Z"
   },
   {
    "duration": 34541,
    "start_time": "2024-06-14T20:17:22.026Z"
   },
   {
    "duration": 33818,
    "start_time": "2024-06-14T20:22:41.544Z"
   },
   {
    "duration": 6,
    "start_time": "2024-06-14T20:24:45.743Z"
   },
   {
    "duration": 34356,
    "start_time": "2024-06-14T20:32:44.408Z"
   },
   {
    "duration": 33157,
    "start_time": "2024-06-14T20:33:51.605Z"
   },
   {
    "duration": 9677,
    "start_time": "2024-06-15T13:00:44.661Z"
   },
   {
    "duration": 1473,
    "start_time": "2024-06-15T13:00:54.340Z"
   },
   {
    "duration": 0,
    "start_time": "2024-06-15T13:00:55.815Z"
   },
   {
    "duration": 0,
    "start_time": "2024-06-15T13:00:55.816Z"
   },
   {
    "duration": 0,
    "start_time": "2024-06-15T13:00:55.817Z"
   },
   {
    "duration": 0,
    "start_time": "2024-06-15T13:00:55.819Z"
   },
   {
    "duration": 0,
    "start_time": "2024-06-15T13:00:55.821Z"
   },
   {
    "duration": 0,
    "start_time": "2024-06-15T13:00:55.822Z"
   },
   {
    "duration": 0,
    "start_time": "2024-06-15T13:00:55.823Z"
   },
   {
    "duration": 0,
    "start_time": "2024-06-15T13:00:55.825Z"
   },
   {
    "duration": 0,
    "start_time": "2024-06-15T13:00:55.826Z"
   },
   {
    "duration": 0,
    "start_time": "2024-06-15T13:00:55.827Z"
   },
   {
    "duration": 0,
    "start_time": "2024-06-15T13:00:55.828Z"
   },
   {
    "duration": 0,
    "start_time": "2024-06-15T13:00:55.829Z"
   },
   {
    "duration": 0,
    "start_time": "2024-06-15T13:00:55.831Z"
   },
   {
    "duration": 0,
    "start_time": "2024-06-15T13:00:55.832Z"
   },
   {
    "duration": 0,
    "start_time": "2024-06-15T13:00:55.835Z"
   },
   {
    "duration": 0,
    "start_time": "2024-06-15T13:00:55.836Z"
   },
   {
    "duration": 0,
    "start_time": "2024-06-15T13:00:55.837Z"
   },
   {
    "duration": 0,
    "start_time": "2024-06-15T13:00:55.864Z"
   },
   {
    "duration": 0,
    "start_time": "2024-06-15T13:00:55.865Z"
   },
   {
    "duration": 0,
    "start_time": "2024-06-15T13:00:55.867Z"
   },
   {
    "duration": 5148,
    "start_time": "2024-06-15T13:02:15.533Z"
   },
   {
    "duration": 210,
    "start_time": "2024-06-15T13:02:20.683Z"
   },
   {
    "duration": 3,
    "start_time": "2024-06-15T13:02:20.895Z"
   },
   {
    "duration": 13,
    "start_time": "2024-06-15T13:02:20.900Z"
   },
   {
    "duration": 11,
    "start_time": "2024-06-15T13:02:20.915Z"
   },
   {
    "duration": 14,
    "start_time": "2024-06-15T13:02:20.927Z"
   },
   {
    "duration": 17,
    "start_time": "2024-06-15T13:02:20.942Z"
   },
   {
    "duration": 649,
    "start_time": "2024-06-15T13:02:20.961Z"
   },
   {
    "duration": 70,
    "start_time": "2024-06-15T13:02:21.611Z"
   },
   {
    "duration": 83,
    "start_time": "2024-06-15T13:02:21.682Z"
   },
   {
    "duration": 70,
    "start_time": "2024-06-15T13:02:21.767Z"
   },
   {
    "duration": 26,
    "start_time": "2024-06-15T13:02:21.839Z"
   },
   {
    "duration": 3742,
    "start_time": "2024-06-15T13:02:21.866Z"
   },
   {
    "duration": 15,
    "start_time": "2024-06-15T13:02:25.611Z"
   },
   {
    "duration": 3875,
    "start_time": "2024-06-15T13:02:25.628Z"
   },
   {
    "duration": 4320,
    "start_time": "2024-06-15T13:02:29.504Z"
   },
   {
    "duration": 17,
    "start_time": "2024-06-15T13:02:33.826Z"
   },
   {
    "duration": 722,
    "start_time": "2024-06-15T13:02:33.845Z"
   },
   {
    "duration": 577,
    "start_time": "2024-06-15T13:02:34.568Z"
   },
   {
    "duration": 628,
    "start_time": "2024-06-15T13:02:35.146Z"
   },
   {
    "duration": 151,
    "start_time": "2024-06-15T13:02:35.776Z"
   },
   {
    "duration": 36546,
    "start_time": "2024-06-15T13:02:35.929Z"
   },
   {
    "duration": 33603,
    "start_time": "2024-06-15T13:03:23.884Z"
   },
   {
    "duration": 20578,
    "start_time": "2024-06-15T13:04:42.384Z"
   },
   {
    "duration": 2,
    "start_time": "2024-06-15T13:06:24.626Z"
   },
   {
    "duration": 5,
    "start_time": "2024-06-15T13:06:31.702Z"
   },
   {
    "duration": 6,
    "start_time": "2024-06-15T13:06:38.886Z"
   },
   {
    "duration": 34445,
    "start_time": "2024-06-15T13:06:49.121Z"
   },
   {
    "duration": 92,
    "start_time": "2024-06-15T15:08:08.958Z"
   },
   {
    "duration": 9196,
    "start_time": "2024-06-15T15:08:17.303Z"
   },
   {
    "duration": 1427,
    "start_time": "2024-06-15T15:08:26.501Z"
   },
   {
    "duration": 3,
    "start_time": "2024-06-15T15:08:27.930Z"
   },
   {
    "duration": 15,
    "start_time": "2024-06-15T15:08:27.935Z"
   },
   {
    "duration": 5,
    "start_time": "2024-06-15T15:08:27.951Z"
   },
   {
    "duration": 5,
    "start_time": "2024-06-15T15:08:27.957Z"
   },
   {
    "duration": 5,
    "start_time": "2024-06-15T15:08:27.963Z"
   },
   {
    "duration": 561,
    "start_time": "2024-06-15T15:08:27.970Z"
   },
   {
    "duration": 53,
    "start_time": "2024-06-15T15:08:28.532Z"
   },
   {
    "duration": 60,
    "start_time": "2024-06-15T15:08:28.586Z"
   },
   {
    "duration": 62,
    "start_time": "2024-06-15T15:08:28.647Z"
   },
   {
    "duration": 11,
    "start_time": "2024-06-15T15:08:28.710Z"
   },
   {
    "duration": 3303,
    "start_time": "2024-06-15T15:08:28.722Z"
   },
   {
    "duration": 11,
    "start_time": "2024-06-15T15:08:32.026Z"
   },
   {
    "duration": 3272,
    "start_time": "2024-06-15T15:08:32.038Z"
   },
   {
    "duration": 3533,
    "start_time": "2024-06-15T15:08:35.312Z"
   },
   {
    "duration": 15,
    "start_time": "2024-06-15T15:08:38.847Z"
   },
   {
    "duration": 589,
    "start_time": "2024-06-15T15:08:38.863Z"
   },
   {
    "duration": 500,
    "start_time": "2024-06-15T15:08:39.453Z"
   },
   {
    "duration": 496,
    "start_time": "2024-06-15T15:08:39.954Z"
   },
   {
    "duration": 118,
    "start_time": "2024-06-15T15:08:40.451Z"
   },
   {
    "duration": 30387,
    "start_time": "2024-06-15T15:08:49.126Z"
   },
   {
    "duration": 71,
    "start_time": "2024-06-15T15:11:30.554Z"
   },
   {
    "duration": 4,
    "start_time": "2024-06-15T15:12:51.468Z"
   },
   {
    "duration": 3,
    "start_time": "2024-06-15T15:13:00.548Z"
   },
   {
    "duration": 28483,
    "start_time": "2024-06-15T15:13:16.227Z"
   },
   {
    "duration": 27354,
    "start_time": "2024-06-15T15:17:39.153Z"
   },
   {
    "duration": 28462,
    "start_time": "2024-06-15T15:18:56.345Z"
   },
   {
    "duration": 30060,
    "start_time": "2024-06-15T15:20:06.143Z"
   },
   {
    "duration": 28459,
    "start_time": "2024-06-15T15:20:59.144Z"
   },
   {
    "duration": 26200,
    "start_time": "2024-06-15T15:25:24.304Z"
   },
   {
    "duration": 30723,
    "start_time": "2024-06-15T15:42:39.792Z"
   },
   {
    "duration": 66,
    "start_time": "2024-06-15T15:45:11.749Z"
   },
   {
    "duration": 28997,
    "start_time": "2024-06-15T15:45:49.207Z"
   },
   {
    "duration": 5,
    "start_time": "2024-06-15T15:46:18.205Z"
   },
   {
    "duration": 4,
    "start_time": "2024-06-15T16:02:43.771Z"
   },
   {
    "duration": 4,
    "start_time": "2024-06-15T16:02:50.656Z"
   },
   {
    "duration": 28757,
    "start_time": "2024-06-15T16:07:29.056Z"
   },
   {
    "duration": 28991,
    "start_time": "2024-06-15T16:12:21.710Z"
   },
   {
    "duration": 28719,
    "start_time": "2024-06-15T16:13:57.783Z"
   },
   {
    "duration": 29535,
    "start_time": "2024-06-15T16:18:38.175Z"
   },
   {
    "duration": 29958,
    "start_time": "2024-06-15T16:34:31.948Z"
   },
   {
    "duration": 28394,
    "start_time": "2024-06-15T16:35:27.907Z"
   },
   {
    "duration": 112,
    "start_time": "2024-06-15T16:37:22.823Z"
   },
   {
    "duration": 67,
    "start_time": "2024-06-15T16:38:09.776Z"
   },
   {
    "duration": 5,
    "start_time": "2024-06-15T16:38:31.962Z"
   },
   {
    "duration": 28716,
    "start_time": "2024-06-15T16:38:50.493Z"
   },
   {
    "duration": 27225,
    "start_time": "2024-06-15T16:45:04.799Z"
   },
   {
    "duration": 31110,
    "start_time": "2024-06-15T16:49:08.394Z"
   },
   {
    "duration": 27929,
    "start_time": "2024-06-15T16:53:44.174Z"
   },
   {
    "duration": 28849,
    "start_time": "2024-06-15T16:54:29.564Z"
   },
   {
    "duration": 27369,
    "start_time": "2024-06-15T16:55:01.333Z"
   },
   {
    "duration": 15,
    "start_time": "2024-06-15T16:57:36.569Z"
   },
   {
    "duration": 7,
    "start_time": "2024-06-15T16:58:09.787Z"
   },
   {
    "duration": 64,
    "start_time": "2024-06-15T16:58:18.380Z"
   },
   {
    "duration": 63,
    "start_time": "2024-06-15T16:58:24.617Z"
   },
   {
    "duration": 58,
    "start_time": "2024-06-15T16:58:30.471Z"
   },
   {
    "duration": 56,
    "start_time": "2024-06-15T16:58:36.322Z"
   },
   {
    "duration": 8,
    "start_time": "2024-06-15T16:58:39.793Z"
   },
   {
    "duration": 48,
    "start_time": "2024-06-15T17:01:48.583Z"
   },
   {
    "duration": 34,
    "start_time": "2024-06-15T17:02:25.255Z"
   },
   {
    "duration": 27796,
    "start_time": "2024-06-15T17:03:53.710Z"
   },
   {
    "duration": 27400,
    "start_time": "2024-06-15T17:05:02.206Z"
   },
   {
    "duration": 7,
    "start_time": "2024-06-15T17:06:01.292Z"
   },
   {
    "duration": 28217,
    "start_time": "2024-06-15T17:07:13.895Z"
   },
   {
    "duration": 34,
    "start_time": "2024-06-15T17:13:43.301Z"
   },
   {
    "duration": 27920,
    "start_time": "2024-06-15T17:13:56.082Z"
   },
   {
    "duration": 28286,
    "start_time": "2024-06-15T17:15:09.625Z"
   },
   {
    "duration": 28636,
    "start_time": "2024-06-15T17:15:39.870Z"
   },
   {
    "duration": 3,
    "start_time": "2024-06-15T17:42:44.362Z"
   },
   {
    "duration": 3,
    "start_time": "2024-06-15T17:42:53.831Z"
   },
   {
    "duration": 4,
    "start_time": "2024-06-15T17:47:33.284Z"
   },
   {
    "duration": 4,
    "start_time": "2024-06-15T17:48:06.891Z"
   },
   {
    "duration": 3,
    "start_time": "2024-06-15T17:48:13.552Z"
   },
   {
    "duration": 3,
    "start_time": "2024-06-15T18:01:27.275Z"
   },
   {
    "duration": 3,
    "start_time": "2024-06-15T18:16:45.820Z"
   },
   {
    "duration": 28543,
    "start_time": "2024-06-15T18:17:09.362Z"
   },
   {
    "duration": 9641,
    "start_time": "2024-06-16T08:47:18.279Z"
   },
   {
    "duration": 1416,
    "start_time": "2024-06-16T08:47:27.922Z"
   },
   {
    "duration": 3,
    "start_time": "2024-06-16T08:47:29.340Z"
   },
   {
    "duration": 10,
    "start_time": "2024-06-16T08:47:29.345Z"
   },
   {
    "duration": 22,
    "start_time": "2024-06-16T08:47:29.356Z"
   },
   {
    "duration": 25,
    "start_time": "2024-06-16T08:47:29.379Z"
   },
   {
    "duration": 26,
    "start_time": "2024-06-16T08:47:29.405Z"
   },
   {
    "duration": 1565,
    "start_time": "2024-06-16T08:47:29.432Z"
   },
   {
    "duration": 73,
    "start_time": "2024-06-16T08:47:30.998Z"
   },
   {
    "duration": 97,
    "start_time": "2024-06-16T08:47:31.074Z"
   },
   {
    "duration": 52,
    "start_time": "2024-06-16T08:58:07.463Z"
   },
   {
    "duration": 47,
    "start_time": "2024-06-16T08:58:32.571Z"
   },
   {
    "duration": 41,
    "start_time": "2024-06-16T08:59:01.001Z"
   },
   {
    "duration": 45,
    "start_time": "2024-06-16T09:00:06.358Z"
   },
   {
    "duration": 45,
    "start_time": "2024-06-16T09:00:39.469Z"
   },
   {
    "duration": 57,
    "start_time": "2024-06-16T09:00:46.098Z"
   },
   {
    "duration": 42,
    "start_time": "2024-06-16T09:01:32.533Z"
   },
   {
    "duration": 45,
    "start_time": "2024-06-16T09:01:38.255Z"
   },
   {
    "duration": 41,
    "start_time": "2024-06-16T09:01:43.904Z"
   },
   {
    "duration": 43,
    "start_time": "2024-06-16T09:02:07.999Z"
   },
   {
    "duration": 57,
    "start_time": "2024-06-16T09:02:15.128Z"
   },
   {
    "duration": 54,
    "start_time": "2024-06-16T09:05:32.473Z"
   },
   {
    "duration": 124,
    "start_time": "2024-06-16T09:16:48.451Z"
   },
   {
    "duration": 10,
    "start_time": "2024-06-16T09:22:20.392Z"
   },
   {
    "duration": 113,
    "start_time": "2024-06-16T09:22:54.194Z"
   },
   {
    "duration": 4,
    "start_time": "2024-06-16T09:23:00.501Z"
   },
   {
    "duration": 7,
    "start_time": "2024-06-16T09:23:24.681Z"
   },
   {
    "duration": 7,
    "start_time": "2024-06-16T09:24:02.787Z"
   },
   {
    "duration": 3453,
    "start_time": "2024-06-16T09:24:16.041Z"
   },
   {
    "duration": 11,
    "start_time": "2024-06-16T09:25:26.252Z"
   },
   {
    "duration": 7,
    "start_time": "2024-06-16T09:25:36.249Z"
   },
   {
    "duration": 8,
    "start_time": "2024-06-16T09:25:59.447Z"
   },
   {
    "duration": 3472,
    "start_time": "2024-06-16T09:26:21.786Z"
   },
   {
    "duration": 10,
    "start_time": "2024-06-16T09:48:33.574Z"
   },
   {
    "duration": 56,
    "start_time": "2024-06-16T09:48:53.350Z"
   },
   {
    "duration": 18,
    "start_time": "2024-06-16T09:49:06.770Z"
   },
   {
    "duration": 13,
    "start_time": "2024-06-16T09:56:50.641Z"
   },
   {
    "duration": 11,
    "start_time": "2024-06-16T09:58:32.417Z"
   },
   {
    "duration": 3,
    "start_time": "2024-06-16T10:27:27.177Z"
   },
   {
    "duration": 588,
    "start_time": "2024-06-16T10:27:47.574Z"
   },
   {
    "duration": 3,
    "start_time": "2024-06-16T10:28:02.973Z"
   },
   {
    "duration": 485,
    "start_time": "2024-06-16T10:28:07.591Z"
   },
   {
    "duration": 3,
    "start_time": "2024-06-16T10:28:19.554Z"
   },
   {
    "duration": 537,
    "start_time": "2024-06-16T10:28:23.028Z"
   },
   {
    "duration": 3,
    "start_time": "2024-06-16T10:29:06.787Z"
   },
   {
    "duration": 518,
    "start_time": "2024-06-16T10:29:24.351Z"
   },
   {
    "duration": 554,
    "start_time": "2024-06-16T10:29:32.119Z"
   },
   {
    "duration": 115,
    "start_time": "2024-06-16T11:20:44.678Z"
   },
   {
    "duration": 27964,
    "start_time": "2024-06-16T11:21:44.365Z"
   },
   {
    "duration": 58,
    "start_time": "2024-06-16T11:26:54.827Z"
   },
   {
    "duration": 9,
    "start_time": "2024-06-16T11:27:06.127Z"
   },
   {
    "duration": 3,
    "start_time": "2024-06-16T11:27:36.965Z"
   },
   {
    "duration": 7,
    "start_time": "2024-06-16T11:28:04.834Z"
   },
   {
    "duration": 28244,
    "start_time": "2024-06-16T11:28:06.986Z"
   },
   {
    "duration": 7,
    "start_time": "2024-06-16T11:36:24.970Z"
   },
   {
    "duration": 29530,
    "start_time": "2024-06-16T11:36:27.591Z"
   },
   {
    "duration": 7,
    "start_time": "2024-06-16T11:39:08.118Z"
   },
   {
    "duration": 8,
    "start_time": "2024-06-16T11:39:18.290Z"
   },
   {
    "duration": 7,
    "start_time": "2024-06-16T11:39:56.546Z"
   },
   {
    "duration": 28198,
    "start_time": "2024-06-16T11:39:57.334Z"
   },
   {
    "duration": 4,
    "start_time": "2024-06-16T11:41:00.895Z"
   },
   {
    "duration": 3,
    "start_time": "2024-06-16T11:41:31.531Z"
   },
   {
    "duration": 3,
    "start_time": "2024-06-16T11:41:57.034Z"
   },
   {
    "duration": 3,
    "start_time": "2024-06-16T11:42:03.917Z"
   },
   {
    "duration": 8,
    "start_time": "2024-06-16T11:56:08.693Z"
   },
   {
    "duration": 28281,
    "start_time": "2024-06-16T11:56:12.940Z"
   },
   {
    "duration": 7,
    "start_time": "2024-06-16T12:05:10.885Z"
   },
   {
    "duration": 7,
    "start_time": "2024-06-16T12:05:44.240Z"
   },
   {
    "duration": 7,
    "start_time": "2024-06-16T12:05:44.840Z"
   },
   {
    "duration": 30149,
    "start_time": "2024-06-16T12:05:53.873Z"
   },
   {
    "duration": 8,
    "start_time": "2024-06-16T12:07:08.516Z"
   },
   {
    "duration": 7,
    "start_time": "2024-06-16T12:07:19.993Z"
   },
   {
    "duration": 30002,
    "start_time": "2024-06-16T12:07:20.832Z"
   },
   {
    "duration": 29518,
    "start_time": "2024-06-16T12:13:09.103Z"
   },
   {
    "duration": 8,
    "start_time": "2024-06-16T12:15:53.637Z"
   },
   {
    "duration": 7,
    "start_time": "2024-06-16T12:16:29.204Z"
   },
   {
    "duration": 29047,
    "start_time": "2024-06-16T12:17:59.186Z"
   },
   {
    "duration": 30323,
    "start_time": "2024-06-16T12:19:13.017Z"
   },
   {
    "duration": 30256,
    "start_time": "2024-06-16T12:19:55.072Z"
   },
   {
    "duration": 29763,
    "start_time": "2024-06-16T13:09:59.670Z"
   },
   {
    "duration": 30087,
    "start_time": "2024-06-16T13:20:53.553Z"
   },
   {
    "duration": 30661,
    "start_time": "2024-06-16T13:27:00.360Z"
   },
   {
    "duration": 4,
    "start_time": "2024-06-16T13:27:36.533Z"
   },
   {
    "duration": 11,
    "start_time": "2024-06-16T13:27:47.476Z"
   },
   {
    "duration": 11,
    "start_time": "2024-06-16T13:28:31.784Z"
   },
   {
    "duration": 8,
    "start_time": "2024-06-16T13:29:28.759Z"
   },
   {
    "duration": 9,
    "start_time": "2024-06-16T13:29:51.442Z"
   },
   {
    "duration": 9,
    "start_time": "2024-06-16T13:30:04.492Z"
   },
   {
    "duration": 9,
    "start_time": "2024-06-16T13:30:41.389Z"
   },
   {
    "duration": 11,
    "start_time": "2024-06-16T13:31:43.241Z"
   },
   {
    "duration": 52,
    "start_time": "2024-06-16T14:35:24.362Z"
   },
   {
    "duration": 3,
    "start_time": "2024-06-16T14:35:44.521Z"
   },
   {
    "duration": 3,
    "start_time": "2024-06-16T14:36:09.045Z"
   },
   {
    "duration": 3,
    "start_time": "2024-06-16T14:36:22.276Z"
   },
   {
    "duration": 3,
    "start_time": "2024-06-16T14:36:34.286Z"
   },
   {
    "duration": 10,
    "start_time": "2024-06-16T14:41:49.219Z"
   },
   {
    "duration": 10,
    "start_time": "2024-06-16T14:47:28.127Z"
   },
   {
    "duration": 5,
    "start_time": "2024-06-16T14:47:48.267Z"
   },
   {
    "duration": 9,
    "start_time": "2024-06-16T14:48:01.451Z"
   },
   {
    "duration": 11,
    "start_time": "2024-06-16T14:48:33.511Z"
   },
   {
    "duration": 10,
    "start_time": "2024-06-16T14:48:51.699Z"
   },
   {
    "duration": 11,
    "start_time": "2024-06-16T14:49:56.734Z"
   },
   {
    "duration": 3,
    "start_time": "2024-06-16T14:53:12.125Z"
   },
   {
    "duration": 3,
    "start_time": "2024-06-16T14:56:15.758Z"
   },
   {
    "duration": 897,
    "start_time": "2024-06-16T15:01:09.989Z"
   },
   {
    "duration": 852,
    "start_time": "2024-06-16T15:01:18.933Z"
   },
   {
    "duration": 817,
    "start_time": "2024-06-16T15:01:56.188Z"
   },
   {
    "duration": 796,
    "start_time": "2024-06-16T15:02:25.624Z"
   },
   {
    "duration": 61,
    "start_time": "2024-06-16T15:05:55.557Z"
   },
   {
    "duration": 4,
    "start_time": "2024-06-16T15:06:00.589Z"
   },
   {
    "duration": 805,
    "start_time": "2024-06-16T15:06:46.817Z"
   },
   {
    "duration": 4,
    "start_time": "2024-06-16T15:08:06.294Z"
   },
   {
    "duration": 819,
    "start_time": "2024-06-16T15:09:33.944Z"
   },
   {
    "duration": 3,
    "start_time": "2024-06-16T15:10:02.808Z"
   },
   {
    "duration": 820,
    "start_time": "2024-06-16T15:10:44.189Z"
   },
   {
    "duration": 3,
    "start_time": "2024-06-16T15:11:13.493Z"
   },
   {
    "duration": 774,
    "start_time": "2024-06-16T15:11:25.822Z"
   },
   {
    "duration": 832,
    "start_time": "2024-06-16T15:11:47.372Z"
   },
   {
    "duration": 3,
    "start_time": "2024-06-16T15:11:56.530Z"
   },
   {
    "duration": 3,
    "start_time": "2024-06-16T15:12:05.536Z"
   },
   {
    "duration": 11708,
    "start_time": "2024-06-16T17:32:03.569Z"
   },
   {
    "duration": 1726,
    "start_time": "2024-06-16T17:32:15.280Z"
   },
   {
    "duration": 4,
    "start_time": "2024-06-16T17:32:17.009Z"
   },
   {
    "duration": 9,
    "start_time": "2024-06-16T17:32:17.015Z"
   },
   {
    "duration": 3,
    "start_time": "2024-06-16T17:32:17.027Z"
   },
   {
    "duration": 6,
    "start_time": "2024-06-16T17:32:17.032Z"
   },
   {
    "duration": 9,
    "start_time": "2024-06-16T17:32:17.039Z"
   },
   {
    "duration": 10,
    "start_time": "2024-06-16T17:32:17.050Z"
   },
   {
    "duration": 713,
    "start_time": "2024-06-16T17:32:17.061Z"
   },
   {
    "duration": 81,
    "start_time": "2024-06-16T17:32:17.775Z"
   },
   {
    "duration": 108,
    "start_time": "2024-06-16T17:32:17.897Z"
   },
   {
    "duration": 111,
    "start_time": "2024-06-16T17:32:18.008Z"
   },
   {
    "duration": 159,
    "start_time": "2024-06-16T17:32:18.121Z"
   },
   {
    "duration": 18,
    "start_time": "2024-06-16T17:32:18.289Z"
   },
   {
    "duration": 4117,
    "start_time": "2024-06-16T17:32:18.309Z"
   },
   {
    "duration": 4305,
    "start_time": "2024-06-16T17:32:22.428Z"
   },
   {
    "duration": 4685,
    "start_time": "2024-06-16T17:32:26.735Z"
   },
   {
    "duration": 14,
    "start_time": "2024-06-16T17:32:31.421Z"
   },
   {
    "duration": 830,
    "start_time": "2024-06-16T17:32:31.436Z"
   },
   {
    "duration": 704,
    "start_time": "2024-06-16T17:32:32.268Z"
   },
   {
    "duration": 734,
    "start_time": "2024-06-16T17:32:32.974Z"
   },
   {
    "duration": 88,
    "start_time": "2024-06-16T17:32:33.709Z"
   },
   {
    "duration": 35888,
    "start_time": "2024-06-16T17:32:33.800Z"
   },
   {
    "duration": 34092,
    "start_time": "2024-06-16T17:33:09.690Z"
   },
   {
    "duration": 32900,
    "start_time": "2024-06-16T17:33:43.784Z"
   },
   {
    "duration": 153,
    "start_time": "2024-06-16T17:34:16.690Z"
   },
   {
    "duration": 0,
    "start_time": "2024-06-16T17:34:16.845Z"
   },
   {
    "duration": 0,
    "start_time": "2024-06-16T17:34:16.846Z"
   },
   {
    "duration": 21,
    "start_time": "2024-06-16T17:38:14.570Z"
   },
   {
    "duration": 13,
    "start_time": "2024-06-16T17:40:20.389Z"
   },
   {
    "duration": 17,
    "start_time": "2024-06-16T17:40:39.451Z"
   },
   {
    "duration": 5,
    "start_time": "2024-06-16T17:42:45.189Z"
   },
   {
    "duration": 6,
    "start_time": "2024-06-16T17:42:50.992Z"
   },
   {
    "duration": 4,
    "start_time": "2024-06-16T17:44:25.613Z"
   },
   {
    "duration": 5,
    "start_time": "2024-06-16T17:44:41.712Z"
   },
   {
    "duration": 5,
    "start_time": "2024-06-16T17:44:47.270Z"
   },
   {
    "duration": 5,
    "start_time": "2024-06-16T17:44:58.424Z"
   },
   {
    "duration": 4,
    "start_time": "2024-06-16T17:46:07.723Z"
   },
   {
    "duration": 11,
    "start_time": "2024-06-16T17:47:06.128Z"
   },
   {
    "duration": 4,
    "start_time": "2024-06-16T17:47:30.525Z"
   },
   {
    "duration": 4,
    "start_time": "2024-06-16T17:47:34.004Z"
   },
   {
    "duration": 4,
    "start_time": "2024-06-16T17:47:37.875Z"
   },
   {
    "duration": 4,
    "start_time": "2024-06-16T17:49:07.231Z"
   },
   {
    "duration": 7,
    "start_time": "2024-06-16T17:49:29.783Z"
   },
   {
    "duration": 5,
    "start_time": "2024-06-16T17:49:34.224Z"
   },
   {
    "duration": 5,
    "start_time": "2024-06-16T17:49:42.194Z"
   },
   {
    "duration": 5,
    "start_time": "2024-06-16T17:49:47.524Z"
   },
   {
    "duration": 5,
    "start_time": "2024-06-16T17:49:54.502Z"
   },
   {
    "duration": 121,
    "start_time": "2024-06-16T17:54:49.842Z"
   },
   {
    "duration": 6,
    "start_time": "2024-06-16T17:55:17.215Z"
   },
   {
    "duration": 10,
    "start_time": "2024-06-16T17:59:43.678Z"
   },
   {
    "duration": 10,
    "start_time": "2024-06-16T17:59:54.453Z"
   },
   {
    "duration": 6,
    "start_time": "2024-06-16T18:01:45.425Z"
   },
   {
    "duration": 6,
    "start_time": "2024-06-16T18:02:10.906Z"
   },
   {
    "duration": 3,
    "start_time": "2024-06-16T18:02:16.742Z"
   },
   {
    "duration": 123,
    "start_time": "2024-06-16T18:02:18.742Z"
   },
   {
    "duration": 291,
    "start_time": "2024-06-16T18:03:19.405Z"
   },
   {
    "duration": 1843,
    "start_time": "2024-06-16T18:03:52.731Z"
   },
   {
    "duration": 1816,
    "start_time": "2024-06-16T18:08:06.684Z"
   },
   {
    "duration": 89,
    "start_time": "2024-06-16T18:08:55.593Z"
   },
   {
    "duration": 1513,
    "start_time": "2024-06-16T18:09:00.436Z"
   },
   {
    "duration": 1606,
    "start_time": "2024-06-16T18:09:21.740Z"
   },
   {
    "duration": 1424,
    "start_time": "2024-06-16T18:10:13.803Z"
   },
   {
    "duration": 1400,
    "start_time": "2024-06-16T18:10:45.261Z"
   },
   {
    "duration": 1611,
    "start_time": "2024-06-16T18:10:57.396Z"
   },
   {
    "duration": 1441,
    "start_time": "2024-06-16T18:13:11.795Z"
   },
   {
    "duration": 741,
    "start_time": "2024-06-16T18:13:37.388Z"
   },
   {
    "duration": 1368,
    "start_time": "2024-06-16T18:17:24.715Z"
   },
   {
    "duration": 958,
    "start_time": "2024-06-16T18:18:04.696Z"
   },
   {
    "duration": 991,
    "start_time": "2024-06-16T18:18:20.164Z"
   },
   {
    "duration": 4,
    "start_time": "2024-06-16T18:18:41.012Z"
   },
   {
    "duration": 5300,
    "start_time": "2024-06-16T18:18:55.119Z"
   },
   {
    "duration": 13,
    "start_time": "2024-06-16T18:22:40.627Z"
   },
   {
    "duration": 238,
    "start_time": "2024-06-16T18:28:12.635Z"
   },
   {
    "duration": 1057,
    "start_time": "2024-06-16T18:28:51.481Z"
   },
   {
    "duration": 1120,
    "start_time": "2024-06-16T18:30:07.497Z"
   },
   {
    "duration": 1096,
    "start_time": "2024-06-16T18:38:17.833Z"
   },
   {
    "duration": 1047,
    "start_time": "2024-06-16T18:38:38.353Z"
   },
   {
    "duration": 1205,
    "start_time": "2024-06-16T18:40:01.940Z"
   },
   {
    "duration": 1098,
    "start_time": "2024-06-16T18:41:12.945Z"
   },
   {
    "duration": 1043,
    "start_time": "2024-06-16T18:43:36.006Z"
   },
   {
    "duration": 9383,
    "start_time": "2024-06-17T07:43:51.226Z"
   },
   {
    "duration": 1562,
    "start_time": "2024-06-17T07:44:00.612Z"
   },
   {
    "duration": 4,
    "start_time": "2024-06-17T07:44:02.176Z"
   },
   {
    "duration": 35,
    "start_time": "2024-06-17T07:44:02.182Z"
   },
   {
    "duration": 32,
    "start_time": "2024-06-17T07:44:02.218Z"
   },
   {
    "duration": 16,
    "start_time": "2024-06-17T07:44:02.252Z"
   },
   {
    "duration": 30,
    "start_time": "2024-06-17T07:44:02.270Z"
   },
   {
    "duration": 26,
    "start_time": "2024-06-17T07:44:02.301Z"
   },
   {
    "duration": 642,
    "start_time": "2024-06-17T07:44:02.328Z"
   },
   {
    "duration": 62,
    "start_time": "2024-06-17T07:44:02.972Z"
   },
   {
    "duration": 81,
    "start_time": "2024-06-17T07:44:03.035Z"
   },
   {
    "duration": 74,
    "start_time": "2024-06-17T07:44:03.118Z"
   },
   {
    "duration": 129,
    "start_time": "2024-06-17T07:44:03.193Z"
   },
   {
    "duration": 10,
    "start_time": "2024-06-17T07:44:03.324Z"
   },
   {
    "duration": 3665,
    "start_time": "2024-06-17T07:44:03.336Z"
   },
   {
    "duration": 3885,
    "start_time": "2024-06-17T07:44:07.002Z"
   },
   {
    "duration": 3895,
    "start_time": "2024-06-17T07:44:10.888Z"
   },
   {
    "duration": 9,
    "start_time": "2024-06-17T07:44:14.784Z"
   },
   {
    "duration": 637,
    "start_time": "2024-06-17T07:44:14.794Z"
   },
   {
    "duration": 598,
    "start_time": "2024-06-17T07:44:15.433Z"
   },
   {
    "duration": 554,
    "start_time": "2024-06-17T07:44:16.033Z"
   },
   {
    "duration": 76,
    "start_time": "2024-06-17T07:44:16.589Z"
   },
   {
    "duration": 33515,
    "start_time": "2024-06-17T07:44:16.667Z"
   },
   {
    "duration": 33290,
    "start_time": "2024-06-17T07:44:50.183Z"
   },
   {
    "duration": 33690,
    "start_time": "2024-06-17T07:45:23.475Z"
   },
   {
    "duration": 13,
    "start_time": "2024-06-17T07:45:57.167Z"
   },
   {
    "duration": 5,
    "start_time": "2024-06-17T07:45:57.181Z"
   },
   {
    "duration": 4,
    "start_time": "2024-06-17T07:45:57.190Z"
   },
   {
    "duration": 4,
    "start_time": "2024-06-17T07:45:57.195Z"
   },
   {
    "duration": 1079,
    "start_time": "2024-06-17T07:45:57.200Z"
   },
   {
    "duration": 6,
    "start_time": "2024-06-17T07:45:58.281Z"
   },
   {
    "duration": 45,
    "start_time": "2024-06-17T07:55:35.710Z"
   },
   {
    "duration": 5,
    "start_time": "2024-06-17T07:55:46.874Z"
   },
   {
    "duration": 17,
    "start_time": "2024-06-17T07:56:35.650Z"
   },
   {
    "duration": 126,
    "start_time": "2024-06-17T07:57:39.712Z"
   },
   {
    "duration": 8,
    "start_time": "2024-06-17T08:01:23.139Z"
   },
   {
    "duration": 5,
    "start_time": "2024-06-17T08:04:04.172Z"
   },
   {
    "duration": 8,
    "start_time": "2024-06-17T08:04:23.941Z"
   },
   {
    "duration": 9,
    "start_time": "2024-06-17T08:04:32.409Z"
   },
   {
    "duration": 10,
    "start_time": "2024-06-17T08:04:58.766Z"
   },
   {
    "duration": 5,
    "start_time": "2024-06-17T08:05:10.789Z"
   },
   {
    "duration": 12,
    "start_time": "2024-06-17T08:16:32.527Z"
   },
   {
    "duration": 3,
    "start_time": "2024-06-17T08:16:40.636Z"
   },
   {
    "duration": 7,
    "start_time": "2024-06-17T08:16:57.292Z"
   },
   {
    "duration": 4,
    "start_time": "2024-06-17T08:22:15.344Z"
   },
   {
    "duration": 6,
    "start_time": "2024-06-17T08:23:05.444Z"
   },
   {
    "duration": 7,
    "start_time": "2024-06-17T08:23:11.810Z"
   },
   {
    "duration": 6,
    "start_time": "2024-06-17T08:26:49.683Z"
   },
   {
    "duration": 10,
    "start_time": "2024-06-17T08:29:50.092Z"
   },
   {
    "duration": 5072,
    "start_time": "2024-06-17T08:30:40.382Z"
   },
   {
    "duration": 8,
    "start_time": "2024-06-17T08:30:45.456Z"
   },
   {
    "duration": 15,
    "start_time": "2024-06-17T08:30:45.465Z"
   },
   {
    "duration": 7,
    "start_time": "2024-06-17T08:30:45.482Z"
   },
   {
    "duration": 6,
    "start_time": "2024-06-17T08:30:45.490Z"
   },
   {
    "duration": 6,
    "start_time": "2024-06-17T08:30:45.497Z"
   },
   {
    "duration": 16,
    "start_time": "2024-06-17T08:30:45.505Z"
   },
   {
    "duration": 8,
    "start_time": "2024-06-17T08:30:45.523Z"
   },
   {
    "duration": 406,
    "start_time": "2024-06-17T08:30:45.533Z"
   },
   {
    "duration": 79,
    "start_time": "2024-06-17T08:30:45.941Z"
   },
   {
    "duration": 95,
    "start_time": "2024-06-17T08:30:46.021Z"
   },
   {
    "duration": 71,
    "start_time": "2024-06-17T08:30:46.118Z"
   },
   {
    "duration": 110,
    "start_time": "2024-06-17T08:30:46.190Z"
   },
   {
    "duration": 9,
    "start_time": "2024-06-17T08:30:46.302Z"
   },
   {
    "duration": 4005,
    "start_time": "2024-06-17T08:30:46.312Z"
   },
   {
    "duration": 3694,
    "start_time": "2024-06-17T08:30:50.319Z"
   },
   {
    "duration": 4062,
    "start_time": "2024-06-17T08:30:54.015Z"
   },
   {
    "duration": 10,
    "start_time": "2024-06-17T08:30:58.078Z"
   },
   {
    "duration": 589,
    "start_time": "2024-06-17T08:30:58.089Z"
   },
   {
    "duration": 595,
    "start_time": "2024-06-17T08:30:58.680Z"
   },
   {
    "duration": 586,
    "start_time": "2024-06-17T08:30:59.277Z"
   },
   {
    "duration": 81,
    "start_time": "2024-06-17T08:30:59.866Z"
   },
   {
    "duration": 33017,
    "start_time": "2024-06-17T08:30:59.949Z"
   },
   {
    "duration": 32501,
    "start_time": "2024-06-17T08:31:32.968Z"
   },
   {
    "duration": 33198,
    "start_time": "2024-06-17T08:32:05.471Z"
   },
   {
    "duration": 99,
    "start_time": "2024-06-17T08:32:38.671Z"
   },
   {
    "duration": 15,
    "start_time": "2024-06-17T08:32:38.771Z"
   },
   {
    "duration": 33,
    "start_time": "2024-06-17T08:32:38.788Z"
   },
   {
    "duration": 19,
    "start_time": "2024-06-17T08:32:38.822Z"
   },
   {
    "duration": 1073,
    "start_time": "2024-06-17T08:32:38.842Z"
   },
   {
    "duration": 76,
    "start_time": "2024-06-17T08:32:39.916Z"
   },
   {
    "duration": 0,
    "start_time": "2024-06-17T08:32:39.993Z"
   },
   {
    "duration": 3,
    "start_time": "2024-06-17T08:32:48.799Z"
   },
   {
    "duration": 7,
    "start_time": "2024-06-17T08:32:49.359Z"
   },
   {
    "duration": 3,
    "start_time": "2024-06-17T08:33:46.575Z"
   },
   {
    "duration": 7,
    "start_time": "2024-06-17T08:33:46.951Z"
   },
   {
    "duration": 8,
    "start_time": "2024-06-17T08:33:55.273Z"
   },
   {
    "duration": 7,
    "start_time": "2024-06-17T08:34:01.976Z"
   },
   {
    "duration": 7,
    "start_time": "2024-06-17T08:34:07.394Z"
   },
   {
    "duration": 4,
    "start_time": "2024-06-17T08:42:22.884Z"
   },
   {
    "duration": 14,
    "start_time": "2024-06-17T08:50:34.037Z"
   },
   {
    "duration": 3,
    "start_time": "2024-06-17T08:50:37.675Z"
   },
   {
    "duration": 10,
    "start_time": "2024-06-17T08:50:38.874Z"
   },
   {
    "duration": 4,
    "start_time": "2024-06-17T08:50:49.910Z"
   },
   {
    "duration": 3,
    "start_time": "2024-06-17T08:51:04.942Z"
   },
   {
    "duration": 395,
    "start_time": "2024-06-17T08:51:05.607Z"
   },
   {
    "duration": 402,
    "start_time": "2024-06-17T08:53:22.198Z"
   },
   {
    "duration": 376,
    "start_time": "2024-06-17T08:55:22.660Z"
   },
   {
    "duration": 442,
    "start_time": "2024-06-17T08:55:39.626Z"
   },
   {
    "duration": 404,
    "start_time": "2024-06-17T08:56:02.333Z"
   },
   {
    "duration": 3,
    "start_time": "2024-06-17T08:59:53.812Z"
   },
   {
    "duration": 7,
    "start_time": "2024-06-17T08:59:54.410Z"
   },
   {
    "duration": 7,
    "start_time": "2024-06-17T08:59:55.029Z"
   },
   {
    "duration": 6,
    "start_time": "2024-06-17T08:59:55.468Z"
   },
   {
    "duration": 3,
    "start_time": "2024-06-17T09:10:12.828Z"
   },
   {
    "duration": 5258,
    "start_time": "2024-06-17T09:16:45.162Z"
   },
   {
    "duration": 137,
    "start_time": "2024-06-17T09:16:50.423Z"
   },
   {
    "duration": 14,
    "start_time": "2024-06-17T09:16:50.562Z"
   },
   {
    "duration": 16,
    "start_time": "2024-06-17T09:16:50.578Z"
   },
   {
    "duration": 4,
    "start_time": "2024-06-17T09:16:50.596Z"
   },
   {
    "duration": 14,
    "start_time": "2024-06-17T09:16:50.602Z"
   },
   {
    "duration": 11,
    "start_time": "2024-06-17T09:16:50.618Z"
   },
   {
    "duration": 9,
    "start_time": "2024-06-17T09:16:50.630Z"
   },
   {
    "duration": 427,
    "start_time": "2024-06-17T09:16:50.641Z"
   },
   {
    "duration": 99,
    "start_time": "2024-06-17T09:16:51.069Z"
   },
   {
    "duration": 63,
    "start_time": "2024-06-17T09:16:51.169Z"
   },
   {
    "duration": 80,
    "start_time": "2024-06-17T09:16:51.234Z"
   },
   {
    "duration": 117,
    "start_time": "2024-06-17T09:16:51.316Z"
   },
   {
    "duration": 9,
    "start_time": "2024-06-17T09:16:51.437Z"
   },
   {
    "duration": 3759,
    "start_time": "2024-06-17T09:16:51.447Z"
   },
   {
    "duration": 3921,
    "start_time": "2024-06-17T09:16:55.207Z"
   },
   {
    "duration": 4054,
    "start_time": "2024-06-17T09:16:59.129Z"
   },
   {
    "duration": 9,
    "start_time": "2024-06-17T09:17:03.185Z"
   },
   {
    "duration": 622,
    "start_time": "2024-06-17T09:17:03.195Z"
   },
   {
    "duration": 605,
    "start_time": "2024-06-17T09:17:03.820Z"
   },
   {
    "duration": 571,
    "start_time": "2024-06-17T09:17:04.427Z"
   },
   {
    "duration": 72,
    "start_time": "2024-06-17T09:17:05.000Z"
   },
   {
    "duration": 33010,
    "start_time": "2024-06-17T09:17:05.073Z"
   },
   {
    "duration": 32001,
    "start_time": "2024-06-17T09:17:38.167Z"
   },
   {
    "duration": 33198,
    "start_time": "2024-06-17T09:18:10.170Z"
   },
   {
    "duration": 21,
    "start_time": "2024-06-17T09:18:43.464Z"
   },
   {
    "duration": 12,
    "start_time": "2024-06-17T09:18:43.487Z"
   },
   {
    "duration": 5,
    "start_time": "2024-06-17T09:18:43.501Z"
   },
   {
    "duration": 9,
    "start_time": "2024-06-17T09:18:43.508Z"
   },
   {
    "duration": 973,
    "start_time": "2024-06-17T09:18:43.518Z"
   },
   {
    "duration": 3,
    "start_time": "2024-06-17T09:18:44.493Z"
   },
   {
    "duration": 9,
    "start_time": "2024-06-17T09:18:44.497Z"
   },
   {
    "duration": 12,
    "start_time": "2024-06-17T09:18:44.508Z"
   },
   {
    "duration": 9,
    "start_time": "2024-06-17T09:18:44.522Z"
   },
   {
    "duration": 2,
    "start_time": "2024-06-17T09:18:44.533Z"
   },
   {
    "duration": 526,
    "start_time": "2024-06-17T09:18:44.537Z"
   },
   {
    "duration": 483,
    "start_time": "2024-06-17T09:18:45.065Z"
   },
   {
    "duration": 504,
    "start_time": "2024-06-17T09:18:45.549Z"
   },
   {
    "duration": 10,
    "start_time": "2024-06-17T09:28:18.078Z"
   },
   {
    "duration": 3,
    "start_time": "2024-06-17T09:28:41.725Z"
   },
   {
    "duration": 6,
    "start_time": "2024-06-17T09:28:42.895Z"
   },
   {
    "duration": 6,
    "start_time": "2024-06-17T09:28:44.169Z"
   },
   {
    "duration": 7,
    "start_time": "2024-06-17T09:28:45.114Z"
   },
   {
    "duration": 11,
    "start_time": "2024-06-17T09:29:54.309Z"
   },
   {
    "duration": 5,
    "start_time": "2024-06-17T09:30:19.166Z"
   },
   {
    "duration": 7,
    "start_time": "2024-06-17T09:30:36.992Z"
   },
   {
    "duration": 5,
    "start_time": "2024-06-17T09:31:13.998Z"
   },
   {
    "duration": 5,
    "start_time": "2024-06-17T09:31:23.948Z"
   },
   {
    "duration": 5,
    "start_time": "2024-06-17T09:34:18.022Z"
   },
   {
    "duration": 6,
    "start_time": "2024-06-17T09:34:34.468Z"
   },
   {
    "duration": 5,
    "start_time": "2024-06-17T09:35:08.061Z"
   },
   {
    "duration": 12,
    "start_time": "2024-06-17T09:41:24.223Z"
   },
   {
    "duration": 8,
    "start_time": "2024-06-17T09:41:39.012Z"
   },
   {
    "duration": 877,
    "start_time": "2024-06-17T09:43:19.856Z"
   },
   {
    "duration": 5,
    "start_time": "2024-06-17T09:51:39.714Z"
   },
   {
    "duration": 5,
    "start_time": "2024-06-17T09:51:52.053Z"
   },
   {
    "duration": 4,
    "start_time": "2024-06-17T09:54:35.115Z"
   },
   {
    "duration": 1323,
    "start_time": "2024-06-17T10:01:31.435Z"
   },
   {
    "duration": 19,
    "start_time": "2024-06-17T10:08:32.105Z"
   },
   {
    "duration": 1319,
    "start_time": "2024-06-17T10:09:02.666Z"
   },
   {
    "duration": 1281,
    "start_time": "2024-06-17T10:12:16.866Z"
   },
   {
    "duration": 1339,
    "start_time": "2024-06-17T10:14:28.112Z"
   },
   {
    "duration": 10,
    "start_time": "2024-06-17T10:14:31.255Z"
   },
   {
    "duration": 1320,
    "start_time": "2024-06-17T10:14:45.752Z"
   },
   {
    "duration": 1288,
    "start_time": "2024-06-17T10:14:50.076Z"
   },
   {
    "duration": 1294,
    "start_time": "2024-06-17T10:14:54.967Z"
   },
   {
    "duration": 3,
    "start_time": "2024-06-17T10:16:50.139Z"
   },
   {
    "duration": 4,
    "start_time": "2024-06-17T10:17:01.299Z"
   },
   {
    "duration": 1286,
    "start_time": "2024-06-17T10:17:07.019Z"
   },
   {
    "duration": 1300,
    "start_time": "2024-06-17T10:17:14.186Z"
   },
   {
    "duration": 1277,
    "start_time": "2024-06-17T10:17:23.928Z"
   },
   {
    "duration": 1313,
    "start_time": "2024-06-17T10:17:45.432Z"
   },
   {
    "duration": 1283,
    "start_time": "2024-06-17T10:21:23.626Z"
   },
   {
    "duration": 1285,
    "start_time": "2024-06-17T10:22:13.535Z"
   },
   {
    "duration": 1307,
    "start_time": "2024-06-17T10:24:29.912Z"
   },
   {
    "duration": 5096,
    "start_time": "2024-06-17T10:24:37.432Z"
   },
   {
    "duration": 6,
    "start_time": "2024-06-17T10:24:42.531Z"
   },
   {
    "duration": 38,
    "start_time": "2024-06-17T10:24:42.539Z"
   },
   {
    "duration": 39,
    "start_time": "2024-06-17T10:24:42.579Z"
   },
   {
    "duration": 21,
    "start_time": "2024-06-17T10:24:42.619Z"
   },
   {
    "duration": 5,
    "start_time": "2024-06-17T10:24:42.642Z"
   },
   {
    "duration": 17,
    "start_time": "2024-06-17T10:24:42.648Z"
   },
   {
    "duration": 8,
    "start_time": "2024-06-17T10:24:42.666Z"
   },
   {
    "duration": 411,
    "start_time": "2024-06-17T10:24:42.676Z"
   },
   {
    "duration": 85,
    "start_time": "2024-06-17T10:24:43.089Z"
   },
   {
    "duration": 66,
    "start_time": "2024-06-17T10:24:43.176Z"
   },
   {
    "duration": 89,
    "start_time": "2024-06-17T10:24:43.243Z"
   },
   {
    "duration": 120,
    "start_time": "2024-06-17T10:24:43.333Z"
   },
   {
    "duration": 15,
    "start_time": "2024-06-17T10:24:43.454Z"
   },
   {
    "duration": 3842,
    "start_time": "2024-06-17T10:24:43.471Z"
   },
   {
    "duration": 3668,
    "start_time": "2024-06-17T10:24:47.315Z"
   },
   {
    "duration": 3997,
    "start_time": "2024-06-17T10:24:50.985Z"
   },
   {
    "duration": 9,
    "start_time": "2024-06-17T10:24:54.984Z"
   },
   {
    "duration": 618,
    "start_time": "2024-06-17T10:24:54.994Z"
   },
   {
    "duration": 593,
    "start_time": "2024-06-17T10:24:55.614Z"
   },
   {
    "duration": 587,
    "start_time": "2024-06-17T10:24:56.209Z"
   },
   {
    "duration": 74,
    "start_time": "2024-06-17T10:24:56.797Z"
   },
   {
    "duration": 32301,
    "start_time": "2024-06-17T10:24:56.873Z"
   },
   {
    "duration": 33100,
    "start_time": "2024-06-17T10:25:29.266Z"
   },
   {
    "duration": 33602,
    "start_time": "2024-06-17T10:26:02.368Z"
   },
   {
    "duration": 98,
    "start_time": "2024-06-17T10:26:35.973Z"
   },
   {
    "duration": 26,
    "start_time": "2024-06-17T10:26:36.073Z"
   },
   {
    "duration": 14,
    "start_time": "2024-06-17T10:26:36.103Z"
   },
   {
    "duration": 19,
    "start_time": "2024-06-17T10:26:36.118Z"
   },
   {
    "duration": 1044,
    "start_time": "2024-06-17T10:26:36.138Z"
   },
   {
    "duration": 5,
    "start_time": "2024-06-17T10:26:37.184Z"
   },
   {
    "duration": 16,
    "start_time": "2024-06-17T10:26:37.191Z"
   },
   {
    "duration": 1291,
    "start_time": "2024-06-17T10:26:37.208Z"
   },
   {
    "duration": 1400,
    "start_time": "2024-06-17T10:26:38.501Z"
   },
   {
    "duration": 1280,
    "start_time": "2024-06-17T10:26:39.903Z"
   },
   {
    "duration": 1288,
    "start_time": "2024-06-17T10:27:16.223Z"
   },
   {
    "duration": 1313,
    "start_time": "2024-06-17T10:27:21.340Z"
   },
   {
    "duration": 1340,
    "start_time": "2024-06-17T10:27:31.562Z"
   },
   {
    "duration": 4,
    "start_time": "2024-06-17T10:33:38.391Z"
   },
   {
    "duration": 19,
    "start_time": "2024-06-17T10:34:11.818Z"
   },
   {
    "duration": 3,
    "start_time": "2024-06-17T10:34:57.029Z"
   },
   {
    "duration": 1411,
    "start_time": "2024-06-17T10:34:57.955Z"
   },
   {
    "duration": 1363,
    "start_time": "2024-06-17T10:35:03.796Z"
   },
   {
    "duration": 1426,
    "start_time": "2024-06-17T10:35:07.904Z"
   },
   {
    "duration": 1298,
    "start_time": "2024-06-17T10:35:23.620Z"
   },
   {
    "duration": 1322,
    "start_time": "2024-06-17T10:35:29.475Z"
   },
   {
    "duration": 4,
    "start_time": "2024-06-17T10:35:57.768Z"
   },
   {
    "duration": 9,
    "start_time": "2024-06-17T10:35:58.320Z"
   },
   {
    "duration": 3,
    "start_time": "2024-06-17T10:39:09.248Z"
   },
   {
    "duration": 3,
    "start_time": "2024-06-17T10:39:40.167Z"
   },
   {
    "duration": 8,
    "start_time": "2024-06-17T10:39:40.866Z"
   },
   {
    "duration": 7,
    "start_time": "2024-06-17T10:40:04.500Z"
   },
   {
    "duration": 8,
    "start_time": "2024-06-17T10:40:14.448Z"
   },
   {
    "duration": 5,
    "start_time": "2024-06-17T11:22:57.129Z"
   },
   {
    "duration": 5590,
    "start_time": "2024-06-17T11:45:25.737Z"
   },
   {
    "duration": 8,
    "start_time": "2024-06-17T11:45:31.329Z"
   },
   {
    "duration": 45,
    "start_time": "2024-06-17T11:45:31.339Z"
   },
   {
    "duration": 47,
    "start_time": "2024-06-17T11:45:31.386Z"
   },
   {
    "duration": 34,
    "start_time": "2024-06-17T11:45:31.435Z"
   },
   {
    "duration": 28,
    "start_time": "2024-06-17T11:45:31.472Z"
   },
   {
    "duration": 52,
    "start_time": "2024-06-17T11:45:31.501Z"
   },
   {
    "duration": 46,
    "start_time": "2024-06-17T11:45:31.555Z"
   },
   {
    "duration": 510,
    "start_time": "2024-06-17T11:45:31.602Z"
   },
   {
    "duration": 91,
    "start_time": "2024-06-17T11:45:32.116Z"
   },
   {
    "duration": 90,
    "start_time": "2024-06-17T11:45:32.209Z"
   },
   {
    "duration": 71,
    "start_time": "2024-06-17T11:45:32.301Z"
   },
   {
    "duration": 129,
    "start_time": "2024-06-17T11:45:32.374Z"
   },
   {
    "duration": 9,
    "start_time": "2024-06-17T11:45:32.505Z"
   },
   {
    "duration": 3959,
    "start_time": "2024-06-17T11:45:32.516Z"
   },
   {
    "duration": 3754,
    "start_time": "2024-06-17T11:45:36.476Z"
   },
   {
    "duration": 3965,
    "start_time": "2024-06-17T11:45:40.232Z"
   },
   {
    "duration": 12,
    "start_time": "2024-06-17T11:45:44.199Z"
   },
   {
    "duration": 639,
    "start_time": "2024-06-17T11:45:44.212Z"
   },
   {
    "duration": 664,
    "start_time": "2024-06-17T11:45:44.853Z"
   },
   {
    "duration": 615,
    "start_time": "2024-06-17T11:45:45.519Z"
   },
   {
    "duration": 74,
    "start_time": "2024-06-17T11:45:46.135Z"
   },
   {
    "duration": 35056,
    "start_time": "2024-06-17T11:45:46.211Z"
   },
   {
    "duration": 34402,
    "start_time": "2024-06-17T11:46:21.273Z"
   },
   {
    "duration": 33694,
    "start_time": "2024-06-17T11:46:55.678Z"
   },
   {
    "duration": 12,
    "start_time": "2024-06-17T11:47:29.375Z"
   },
   {
    "duration": 76,
    "start_time": "2024-06-17T11:47:29.389Z"
   },
   {
    "duration": 4,
    "start_time": "2024-06-17T11:47:29.468Z"
   },
   {
    "duration": 6,
    "start_time": "2024-06-17T11:47:29.474Z"
   },
   {
    "duration": 1151,
    "start_time": "2024-06-17T11:47:29.481Z"
   },
   {
    "duration": 6,
    "start_time": "2024-06-17T11:47:30.634Z"
   },
   {
    "duration": 56,
    "start_time": "2024-06-17T11:47:30.642Z"
   },
   {
    "duration": 87,
    "start_time": "2024-06-17T11:47:30.700Z"
   },
   {
    "duration": 80,
    "start_time": "2024-06-17T11:47:30.789Z"
   },
   {
    "duration": 43,
    "start_time": "2024-06-17T11:47:30.871Z"
   },
   {
    "duration": 41,
    "start_time": "2024-06-17T11:47:30.916Z"
   },
   {
    "duration": 1473,
    "start_time": "2024-06-17T11:47:30.959Z"
   },
   {
    "duration": 1310,
    "start_time": "2024-06-17T11:47:32.433Z"
   },
   {
    "duration": 1332,
    "start_time": "2024-06-17T11:47:33.745Z"
   },
   {
    "duration": 4,
    "start_time": "2024-06-17T12:22:01.443Z"
   },
   {
    "duration": 4,
    "start_time": "2024-06-17T12:22:11.921Z"
   },
   {
    "duration": 11,
    "start_time": "2024-06-17T12:22:14.619Z"
   },
   {
    "duration": 8,
    "start_time": "2024-06-17T12:22:15.576Z"
   },
   {
    "duration": 9,
    "start_time": "2024-06-17T12:22:16.345Z"
   },
   {
    "duration": 996,
    "start_time": "2024-06-17T12:24:43.914Z"
   },
   {
    "duration": 4,
    "start_time": "2024-06-17T12:25:18.522Z"
   },
   {
    "duration": 4,
    "start_time": "2024-06-17T12:25:29.650Z"
   },
   {
    "duration": 6,
    "start_time": "2024-06-17T12:28:59.112Z"
   },
   {
    "duration": 18,
    "start_time": "2024-06-17T12:31:01.797Z"
   },
   {
    "duration": 4,
    "start_time": "2024-06-17T13:38:27.289Z"
   },
   {
    "duration": 13,
    "start_time": "2024-06-17T13:38:29.103Z"
   },
   {
    "duration": 16,
    "start_time": "2024-06-17T13:38:56.237Z"
   },
   {
    "duration": 629,
    "start_time": "2024-06-17T13:43:25.952Z"
   },
   {
    "duration": 621,
    "start_time": "2024-06-17T13:44:16.787Z"
   },
   {
    "duration": 633,
    "start_time": "2024-06-17T13:44:21.712Z"
   },
   {
    "duration": 642,
    "start_time": "2024-06-17T13:57:40.281Z"
   },
   {
    "duration": 633,
    "start_time": "2024-06-17T13:57:56.795Z"
   },
   {
    "duration": 1107,
    "start_time": "2024-06-17T14:09:30.285Z"
   },
   {
    "duration": 694,
    "start_time": "2024-06-17T14:14:05.456Z"
   },
   {
    "duration": 643,
    "start_time": "2024-06-17T14:15:01.233Z"
   },
   {
    "duration": 633,
    "start_time": "2024-06-17T14:15:29.226Z"
   },
   {
    "duration": 679,
    "start_time": "2024-06-17T14:15:45.613Z"
   },
   {
    "duration": 657,
    "start_time": "2024-06-17T14:16:20.797Z"
   },
   {
    "duration": 630,
    "start_time": "2024-06-17T14:16:47.299Z"
   },
   {
    "duration": 5,
    "start_time": "2024-06-17T14:47:57.369Z"
   },
   {
    "duration": 83,
    "start_time": "2024-06-17T15:06:14.005Z"
   },
   {
    "duration": 14,
    "start_time": "2024-06-17T15:06:20.238Z"
   },
   {
    "duration": 13,
    "start_time": "2024-06-17T15:06:45.535Z"
   },
   {
    "duration": 19,
    "start_time": "2024-06-17T15:06:49.547Z"
   },
   {
    "duration": 13,
    "start_time": "2024-06-17T15:07:20.425Z"
   },
   {
    "duration": 12,
    "start_time": "2024-06-17T15:08:12.180Z"
   },
   {
    "duration": 648,
    "start_time": "2024-06-17T15:19:45.772Z"
   },
   {
    "duration": 637,
    "start_time": "2024-06-17T15:25:57.882Z"
   },
   {
    "duration": 615,
    "start_time": "2024-06-17T15:26:56.425Z"
   },
   {
    "duration": 624,
    "start_time": "2024-06-17T15:27:05.052Z"
   },
   {
    "duration": 637,
    "start_time": "2024-06-17T15:27:25.519Z"
   },
   {
    "duration": 627,
    "start_time": "2024-06-17T15:27:32.446Z"
   },
   {
    "duration": 659,
    "start_time": "2024-06-17T15:27:36.294Z"
   },
   {
    "duration": 640,
    "start_time": "2024-06-17T15:37:49.009Z"
   },
   {
    "duration": 632,
    "start_time": "2024-06-17T15:40:17.939Z"
   },
   {
    "duration": 621,
    "start_time": "2024-06-17T15:41:16.065Z"
   },
   {
    "duration": 16,
    "start_time": "2024-06-17T15:45:59.240Z"
   },
   {
    "duration": 1938,
    "start_time": "2024-06-17T15:46:58.539Z"
   },
   {
    "duration": 1940,
    "start_time": "2024-06-17T15:47:21.633Z"
   },
   {
    "duration": 1919,
    "start_time": "2024-06-17T15:47:33.814Z"
   },
   {
    "duration": 1852,
    "start_time": "2024-06-17T15:50:45.557Z"
   },
   {
    "duration": 1932,
    "start_time": "2024-06-17T15:51:01.102Z"
   },
   {
    "duration": 61,
    "start_time": "2024-06-17T15:53:40.575Z"
   },
   {
    "duration": 68,
    "start_time": "2024-06-17T15:54:01.930Z"
   },
   {
    "duration": 60,
    "start_time": "2024-06-17T15:54:15.676Z"
   },
   {
    "duration": 1992,
    "start_time": "2024-06-17T16:15:15.005Z"
   },
   {
    "duration": 1997,
    "start_time": "2024-06-17T16:15:23.135Z"
   },
   {
    "duration": 80,
    "start_time": "2024-06-17T16:16:27.511Z"
   },
   {
    "duration": 1944,
    "start_time": "2024-06-17T16:16:32.251Z"
   },
   {
    "duration": 1930,
    "start_time": "2024-06-17T16:16:45.470Z"
   },
   {
    "duration": 65,
    "start_time": "2024-06-17T16:17:17.709Z"
   },
   {
    "duration": 1945,
    "start_time": "2024-06-17T16:18:00.147Z"
   },
   {
    "duration": 4,
    "start_time": "2024-06-17T16:26:20.270Z"
   },
   {
    "duration": 3,
    "start_time": "2024-06-17T16:48:34.455Z"
   },
   {
    "duration": 2034,
    "start_time": "2024-06-17T16:48:47.674Z"
   },
   {
    "duration": 2031,
    "start_time": "2024-06-17T16:48:57.415Z"
   },
   {
    "duration": 1873,
    "start_time": "2024-06-17T16:49:03.060Z"
   },
   {
    "duration": 2568,
    "start_time": "2024-06-17T16:56:07.972Z"
   },
   {
    "duration": 2532,
    "start_time": "2024-06-17T16:56:30.934Z"
   },
   {
    "duration": 2498,
    "start_time": "2024-06-17T16:56:38.575Z"
   },
   {
    "duration": 1903,
    "start_time": "2024-06-17T16:57:39.246Z"
   },
   {
    "duration": 1929,
    "start_time": "2024-06-17T16:57:48.523Z"
   },
   {
    "duration": 1940,
    "start_time": "2024-06-17T16:58:05.176Z"
   },
   {
    "duration": 1877,
    "start_time": "2024-06-17T16:58:11.201Z"
   },
   {
    "duration": 2,
    "start_time": "2024-06-17T17:14:05.156Z"
   },
   {
    "duration": 5882,
    "start_time": "2024-06-17T17:21:02.302Z"
   },
   {
    "duration": 5,
    "start_time": "2024-06-17T17:21:08.187Z"
   },
   {
    "duration": 9,
    "start_time": "2024-06-17T17:21:08.193Z"
   },
   {
    "duration": 4,
    "start_time": "2024-06-17T17:21:08.203Z"
   },
   {
    "duration": 7,
    "start_time": "2024-06-17T17:21:08.209Z"
   },
   {
    "duration": 5,
    "start_time": "2024-06-17T17:21:08.217Z"
   },
   {
    "duration": 6,
    "start_time": "2024-06-17T17:21:08.223Z"
   },
   {
    "duration": 15,
    "start_time": "2024-06-17T17:21:08.231Z"
   },
   {
    "duration": 425,
    "start_time": "2024-06-17T17:21:08.247Z"
   },
   {
    "duration": 103,
    "start_time": "2024-06-17T17:21:08.673Z"
   },
   {
    "duration": 89,
    "start_time": "2024-06-17T17:21:08.778Z"
   },
   {
    "duration": 69,
    "start_time": "2024-06-17T17:21:08.869Z"
   },
   {
    "duration": 147,
    "start_time": "2024-06-17T17:21:08.941Z"
   },
   {
    "duration": 7,
    "start_time": "2024-06-17T17:21:09.090Z"
   },
   {
    "duration": 3794,
    "start_time": "2024-06-17T17:21:09.099Z"
   },
   {
    "duration": 3692,
    "start_time": "2024-06-17T17:21:12.894Z"
   },
   {
    "duration": 4143,
    "start_time": "2024-06-17T17:21:16.588Z"
   },
   {
    "duration": 10,
    "start_time": "2024-06-17T17:21:20.732Z"
   },
   {
    "duration": 703,
    "start_time": "2024-06-17T17:21:20.743Z"
   },
   {
    "duration": 607,
    "start_time": "2024-06-17T17:21:21.447Z"
   },
   {
    "duration": 560,
    "start_time": "2024-06-17T17:21:22.064Z"
   },
   {
    "duration": 74,
    "start_time": "2024-06-17T17:21:22.626Z"
   },
   {
    "duration": 33065,
    "start_time": "2024-06-17T17:21:22.701Z"
   },
   {
    "duration": 32518,
    "start_time": "2024-06-17T17:21:55.769Z"
   },
   {
    "duration": 33680,
    "start_time": "2024-06-17T17:22:28.288Z"
   },
   {
    "duration": 16,
    "start_time": "2024-06-17T17:23:01.970Z"
   },
   {
    "duration": 89,
    "start_time": "2024-06-17T17:23:01.987Z"
   },
   {
    "duration": 4,
    "start_time": "2024-06-17T17:23:02.078Z"
   },
   {
    "duration": 10,
    "start_time": "2024-06-17T17:23:02.083Z"
   },
   {
    "duration": 1116,
    "start_time": "2024-06-17T17:23:02.095Z"
   },
   {
    "duration": 6,
    "start_time": "2024-06-17T17:23:03.213Z"
   },
   {
    "duration": 4,
    "start_time": "2024-06-17T17:23:03.221Z"
   },
   {
    "duration": 14,
    "start_time": "2024-06-17T17:23:03.226Z"
   },
   {
    "duration": 1954,
    "start_time": "2024-06-17T17:23:03.241Z"
   },
   {
    "duration": 6,
    "start_time": "2024-06-17T18:50:31.836Z"
   },
   {
    "duration": 5989,
    "start_time": "2024-06-17T19:10:26.983Z"
   },
   {
    "duration": 1300,
    "start_time": "2024-06-17T19:10:32.976Z"
   },
   {
    "duration": 4,
    "start_time": "2024-06-17T19:10:34.278Z"
   },
   {
    "duration": 9,
    "start_time": "2024-06-17T19:10:34.284Z"
   },
   {
    "duration": 3,
    "start_time": "2024-06-17T19:10:34.294Z"
   },
   {
    "duration": 8,
    "start_time": "2024-06-17T19:10:34.299Z"
   },
   {
    "duration": 4,
    "start_time": "2024-06-17T19:10:34.308Z"
   },
   {
    "duration": 8,
    "start_time": "2024-06-17T19:10:34.314Z"
   },
   {
    "duration": 415,
    "start_time": "2024-06-17T19:10:34.324Z"
   },
   {
    "duration": 86,
    "start_time": "2024-06-17T19:10:34.742Z"
   },
   {
    "duration": 92,
    "start_time": "2024-06-17T19:10:34.829Z"
   },
   {
    "duration": 86,
    "start_time": "2024-06-17T19:10:34.923Z"
   },
   {
    "duration": 137,
    "start_time": "2024-06-17T19:10:35.011Z"
   },
   {
    "duration": 17,
    "start_time": "2024-06-17T19:10:35.149Z"
   },
   {
    "duration": 3619,
    "start_time": "2024-06-17T19:10:35.168Z"
   },
   {
    "duration": 3778,
    "start_time": "2024-06-17T19:10:38.788Z"
   },
   {
    "duration": 4043,
    "start_time": "2024-06-17T19:10:42.568Z"
   },
   {
    "duration": 9,
    "start_time": "2024-06-17T19:10:46.613Z"
   },
   {
    "duration": 664,
    "start_time": "2024-06-17T19:10:46.623Z"
   },
   {
    "duration": 636,
    "start_time": "2024-06-17T19:10:47.288Z"
   },
   {
    "duration": 591,
    "start_time": "2024-06-17T19:10:47.926Z"
   },
   {
    "duration": 83,
    "start_time": "2024-06-17T19:10:48.519Z"
   },
   {
    "duration": 34361,
    "start_time": "2024-06-17T19:10:48.604Z"
   },
   {
    "duration": 33900,
    "start_time": "2024-06-17T19:11:22.967Z"
   },
   {
    "duration": 33010,
    "start_time": "2024-06-17T19:11:56.869Z"
   },
   {
    "duration": 95,
    "start_time": "2024-06-17T19:12:29.881Z"
   },
   {
    "duration": 95,
    "start_time": "2024-06-17T19:12:29.977Z"
   },
   {
    "duration": 21,
    "start_time": "2024-06-17T19:12:30.075Z"
   },
   {
    "duration": 14,
    "start_time": "2024-06-17T19:12:30.098Z"
   },
   {
    "duration": 1182,
    "start_time": "2024-06-17T19:12:30.114Z"
   },
   {
    "duration": 6,
    "start_time": "2024-06-17T19:12:31.297Z"
   },
   {
    "duration": 36,
    "start_time": "2024-06-17T19:12:31.304Z"
   },
   {
    "duration": 146,
    "start_time": "2024-06-17T19:12:31.342Z"
   },
   {
    "duration": 0,
    "start_time": "2024-06-17T19:12:31.489Z"
   },
   {
    "duration": 4,
    "start_time": "2024-06-17T19:14:42.434Z"
   },
   {
    "duration": 13,
    "start_time": "2024-06-17T19:14:55.916Z"
   },
   {
    "duration": 2106,
    "start_time": "2024-06-17T19:15:01.412Z"
   },
   {
    "duration": 5084,
    "start_time": "2024-06-17T19:15:19.603Z"
   },
   {
    "duration": 1285,
    "start_time": "2024-06-17T19:15:24.689Z"
   },
   {
    "duration": 3,
    "start_time": "2024-06-17T19:15:25.976Z"
   },
   {
    "duration": 82,
    "start_time": "2024-06-17T19:15:25.980Z"
   },
   {
    "duration": 4,
    "start_time": "2024-06-17T19:15:26.064Z"
   },
   {
    "duration": 6,
    "start_time": "2024-06-17T19:15:26.070Z"
   },
   {
    "duration": 9,
    "start_time": "2024-06-17T19:15:26.077Z"
   },
   {
    "duration": 10,
    "start_time": "2024-06-17T19:15:26.089Z"
   },
   {
    "duration": 5,
    "start_time": "2024-06-17T19:15:26.101Z"
   },
   {
    "duration": 390,
    "start_time": "2024-06-17T19:15:26.109Z"
   },
   {
    "duration": 78,
    "start_time": "2024-06-17T19:15:26.500Z"
   },
   {
    "duration": 66,
    "start_time": "2024-06-17T19:15:26.579Z"
   },
   {
    "duration": 72,
    "start_time": "2024-06-17T19:15:26.665Z"
   },
   {
    "duration": 150,
    "start_time": "2024-06-17T19:15:26.738Z"
   },
   {
    "duration": 11,
    "start_time": "2024-06-17T19:15:26.889Z"
   },
   {
    "duration": 3708,
    "start_time": "2024-06-17T19:15:26.902Z"
   },
   {
    "duration": 3647,
    "start_time": "2024-06-17T19:15:30.611Z"
   },
   {
    "duration": 3913,
    "start_time": "2024-06-17T19:15:34.265Z"
   },
   {
    "duration": 8,
    "start_time": "2024-06-17T19:15:38.180Z"
   },
   {
    "duration": 642,
    "start_time": "2024-06-17T19:15:38.190Z"
   },
   {
    "duration": 675,
    "start_time": "2024-06-17T19:15:38.834Z"
   },
   {
    "duration": 557,
    "start_time": "2024-06-17T19:15:39.511Z"
   },
   {
    "duration": 65,
    "start_time": "2024-06-17T19:15:40.069Z"
   },
   {
    "duration": 33436,
    "start_time": "2024-06-17T19:15:40.135Z"
   },
   {
    "duration": 33098,
    "start_time": "2024-06-17T19:16:13.573Z"
   },
   {
    "duration": 33094,
    "start_time": "2024-06-17T19:16:46.676Z"
   },
   {
    "duration": 94,
    "start_time": "2024-06-17T19:17:19.772Z"
   },
   {
    "duration": 4,
    "start_time": "2024-06-17T19:17:19.870Z"
   },
   {
    "duration": 10,
    "start_time": "2024-06-17T19:17:19.875Z"
   },
   {
    "duration": 5,
    "start_time": "2024-06-17T19:17:19.886Z"
   },
   {
    "duration": 1027,
    "start_time": "2024-06-17T19:17:19.892Z"
   },
   {
    "duration": 6,
    "start_time": "2024-06-17T19:17:20.921Z"
   },
   {
    "duration": 42,
    "start_time": "2024-06-17T19:17:20.929Z"
   },
   {
    "duration": 1921,
    "start_time": "2024-06-17T19:17:20.973Z"
   },
   {
    "duration": 10332,
    "start_time": "2024-06-18T08:25:49.842Z"
   },
   {
    "duration": 1485,
    "start_time": "2024-06-18T08:26:00.176Z"
   },
   {
    "duration": 3,
    "start_time": "2024-06-18T08:26:01.663Z"
   },
   {
    "duration": 208,
    "start_time": "2024-06-18T08:26:01.667Z"
   },
   {
    "duration": 130,
    "start_time": "2024-06-18T08:26:01.877Z"
   },
   {
    "duration": 158,
    "start_time": "2024-06-18T08:26:02.009Z"
   },
   {
    "duration": 169,
    "start_time": "2024-06-18T08:26:02.169Z"
   },
   {
    "duration": 245,
    "start_time": "2024-06-18T08:26:02.340Z"
   },
   {
    "duration": 93,
    "start_time": "2024-06-18T08:26:02.587Z"
   },
   {
    "duration": 1812,
    "start_time": "2024-06-18T08:26:02.681Z"
   },
   {
    "duration": 59,
    "start_time": "2024-06-18T08:26:04.495Z"
   },
   {
    "duration": 82,
    "start_time": "2024-06-18T08:26:04.555Z"
   },
   {
    "duration": 71,
    "start_time": "2024-06-18T08:26:04.638Z"
   },
   {
    "duration": 135,
    "start_time": "2024-06-18T08:26:04.712Z"
   },
   {
    "duration": 10,
    "start_time": "2024-06-18T08:26:04.848Z"
   },
   {
    "duration": 3539,
    "start_time": "2024-06-18T08:26:04.859Z"
   },
   {
    "duration": 3374,
    "start_time": "2024-06-18T08:26:08.399Z"
   },
   {
    "duration": 3906,
    "start_time": "2024-06-18T08:26:11.774Z"
   },
   {
    "duration": 9,
    "start_time": "2024-06-18T08:26:15.681Z"
   },
   {
    "duration": 663,
    "start_time": "2024-06-18T08:26:15.691Z"
   },
   {
    "duration": 504,
    "start_time": "2024-06-18T08:26:16.356Z"
   },
   {
    "duration": 520,
    "start_time": "2024-06-18T08:26:16.862Z"
   },
   {
    "duration": 83,
    "start_time": "2024-06-18T08:26:17.384Z"
   },
   {
    "duration": 29845,
    "start_time": "2024-06-18T08:26:17.468Z"
   },
   {
    "duration": 29395,
    "start_time": "2024-06-18T08:26:47.315Z"
   },
   {
    "duration": 29503,
    "start_time": "2024-06-18T08:27:16.713Z"
   },
   {
    "duration": 99,
    "start_time": "2024-06-18T08:27:46.218Z"
   },
   {
    "duration": 11,
    "start_time": "2024-06-18T08:27:46.318Z"
   },
   {
    "duration": 9,
    "start_time": "2024-06-18T08:27:46.330Z"
   },
   {
    "duration": 7,
    "start_time": "2024-06-18T08:27:46.340Z"
   },
   {
    "duration": 961,
    "start_time": "2024-06-18T08:27:46.348Z"
   },
   {
    "duration": 5,
    "start_time": "2024-06-18T08:27:47.310Z"
   },
   {
    "duration": 31,
    "start_time": "2024-06-18T08:27:47.316Z"
   },
   {
    "duration": 1505,
    "start_time": "2024-06-18T08:27:47.349Z"
   },
   {
    "duration": 1569,
    "start_time": "2024-06-18T08:47:09.105Z"
   },
   {
    "duration": 1507,
    "start_time": "2024-06-18T08:47:50.383Z"
   },
   {
    "duration": 47,
    "start_time": "2024-06-18T08:48:01.616Z"
   },
   {
    "duration": 1542,
    "start_time": "2024-06-18T08:48:16.097Z"
   },
   {
    "duration": 1516,
    "start_time": "2024-06-18T09:06:51.671Z"
   },
   {
    "duration": 590,
    "start_time": "2024-06-18T09:12:04.671Z"
   },
   {
    "duration": 504,
    "start_time": "2024-06-18T09:13:11.185Z"
   },
   {
    "duration": 75,
    "start_time": "2024-06-18T09:13:52.947Z"
   },
   {
    "duration": 1470,
    "start_time": "2024-06-18T09:13:58.047Z"
   },
   {
    "duration": 5920,
    "start_time": "2024-06-18T12:33:46.695Z"
   },
   {
    "duration": 1303,
    "start_time": "2024-06-18T12:33:52.617Z"
   },
   {
    "duration": 3,
    "start_time": "2024-06-18T12:33:53.921Z"
   },
   {
    "duration": 11,
    "start_time": "2024-06-18T12:33:53.926Z"
   },
   {
    "duration": 9,
    "start_time": "2024-06-18T12:33:53.938Z"
   },
   {
    "duration": 13,
    "start_time": "2024-06-18T12:33:53.948Z"
   },
   {
    "duration": 13,
    "start_time": "2024-06-18T12:33:53.962Z"
   },
   {
    "duration": 8,
    "start_time": "2024-06-18T12:33:53.977Z"
   },
   {
    "duration": 11,
    "start_time": "2024-06-18T12:33:53.986Z"
   },
   {
    "duration": 344,
    "start_time": "2024-06-18T12:33:53.999Z"
   },
   {
    "duration": 84,
    "start_time": "2024-06-18T12:33:54.344Z"
   },
   {
    "duration": 61,
    "start_time": "2024-06-18T12:33:54.429Z"
   },
   {
    "duration": 100,
    "start_time": "2024-06-18T12:33:54.509Z"
   },
   {
    "duration": 136,
    "start_time": "2024-06-18T12:33:54.611Z"
   },
   {
    "duration": 12,
    "start_time": "2024-06-18T12:33:54.749Z"
   },
   {
    "duration": 3683,
    "start_time": "2024-06-18T12:33:54.762Z"
   },
   {
    "duration": 3683,
    "start_time": "2024-06-18T12:33:58.447Z"
   },
   {
    "duration": 4196,
    "start_time": "2024-06-18T12:34:02.132Z"
   },
   {
    "duration": 10,
    "start_time": "2024-06-18T12:34:06.329Z"
   },
   {
    "duration": 636,
    "start_time": "2024-06-18T12:34:06.340Z"
   },
   {
    "duration": 605,
    "start_time": "2024-06-18T12:34:06.978Z"
   },
   {
    "duration": 552,
    "start_time": "2024-06-18T12:34:07.585Z"
   },
   {
    "duration": 75,
    "start_time": "2024-06-18T12:34:08.138Z"
   },
   {
    "duration": 32604,
    "start_time": "2024-06-18T12:34:08.214Z"
   },
   {
    "duration": 32817,
    "start_time": "2024-06-18T12:34:40.819Z"
   },
   {
    "duration": 28790,
    "start_time": "2024-06-18T12:35:13.638Z"
   },
   {
    "duration": 14,
    "start_time": "2024-06-18T12:35:42.430Z"
   },
   {
    "duration": 10,
    "start_time": "2024-06-18T12:35:42.516Z"
   },
   {
    "duration": 14,
    "start_time": "2024-06-18T12:35:42.527Z"
   },
   {
    "duration": 7,
    "start_time": "2024-06-18T12:35:42.543Z"
   },
   {
    "duration": 1042,
    "start_time": "2024-06-18T12:35:42.552Z"
   },
   {
    "duration": 4,
    "start_time": "2024-06-18T12:35:43.596Z"
   },
   {
    "duration": 14,
    "start_time": "2024-06-18T12:35:43.617Z"
   },
   {
    "duration": 1563,
    "start_time": "2024-06-18T12:35:43.633Z"
   }
  ],
  "kernelspec": {
   "display_name": "Python 3 (ipykernel)",
   "language": "python",
   "name": "python3"
  },
  "language_info": {
   "codemirror_mode": {
    "name": "ipython",
    "version": 3
   },
   "file_extension": ".py",
   "mimetype": "text/x-python",
   "name": "python",
   "nbconvert_exporter": "python",
   "pygments_lexer": "ipython3",
   "version": "3.9.5"
  },
  "toc": {
   "base_numbering": 1,
   "nav_menu": {},
   "number_sections": true,
   "sideBar": true,
   "skip_h1_title": true,
   "title_cell": "Table of Contents",
   "title_sidebar": "Contents",
   "toc_cell": false,
   "toc_position": {},
   "toc_section_display": true,
   "toc_window_display": true
  }
 },
 "nbformat": 4,
 "nbformat_minor": 4
}
