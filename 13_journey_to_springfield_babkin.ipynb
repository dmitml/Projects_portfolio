{
  "metadata": {
    "kernelspec": {
      "language": "python",
      "display_name": "Python 3",
      "name": "python3"
    },
    "language_info": {
      "name": "python",
      "version": "3.10.14",
      "mimetype": "text/x-python",
      "codemirror_mode": {
        "name": "ipython",
        "version": 3
      },
      "pygments_lexer": "ipython3",
      "nbconvert_exporter": "python",
      "file_extension": ".py"
    },
    "kaggle": {
      "accelerator": "nvidiaTeslaT4",
      "dataSources": [
        {
          "sourceId": 20320,
          "databundleVersionId": 1134053,
          "sourceType": "competition"
        }
      ],
      "dockerImageVersionId": 30787,
      "isInternetEnabled": true,
      "language": "python",
      "sourceType": "notebook",
      "isGpuEnabled": true
    },
    "colab": {
      "provenance": []
    }
  },
  "nbformat_minor": 0,
  "nbformat": 4,
  "cells": [
    {
      "cell_type": "markdown",
      "source": [
        "**На каггле TEAM NAME: Dmitry_Babkin**"
      ],
      "metadata": {
        "id": "7ndDEEaBy44d"
      }
    },
    {
      "cell_type": "markdown",
      "source": [
        "### Импорт библиотек"
      ],
      "metadata": {
        "id": "GaDsMaaCy44e"
      }
    },
    {
      "cell_type": "code",
      "source": [
        "import torch\n",
        "import pandas as pd\n",
        "import numpy as np\n",
        "import pickle\n",
        "import torch.nn as nn\n",
        "import torchvision.models as models\n",
        "\n",
        "from skimage import io\n",
        "from tqdm import tqdm, tqdm_notebook\n",
        "from PIL import Image\n",
        "from pathlib import Path\n",
        "from sklearn.metrics import f1_score\n",
        "\n",
        "from torchvision import transforms\n",
        "from torchvision.datasets import ImageFolder\n",
        "from torch.utils.data import WeightedRandomSampler\n",
        "from multiprocessing.pool import ThreadPool\n",
        "from sklearn.preprocessing import LabelEncoder\n",
        "from torch.utils.data import Dataset, DataLoader\n",
        "from collections import Counter\n",
        "from albumentations.pytorch.transforms import ToTensorV2\n",
        "from albumentations import (\n",
        "    Compose, Resize, HorizontalFlip, ShiftScaleRotate, RandomResizedCrop,\n",
        "    RandomBrightnessContrast, GaussianBlur, ColorJitter, Normalize\n",
        ")\n",
        "from multiprocessing import cpu_count\n",
        "from matplotlib import colors, pyplot as plt\n",
        "%matplotlib inline\n",
        "\n",
        "import warnings\n",
        "warnings.filterwarnings(action='ignore', category=DeprecationWarning)"
      ],
      "metadata": {
        "_uuid": "25cd17fe-3867-4fdc-a507-a81d5d43108a",
        "_cell_guid": "60614544-f6cf-421e-bd0b-54138ec447cf",
        "trusted": true,
        "execution": {
          "iopub.status.busy": "2024-12-15T16:42:26.602884Z",
          "iopub.execute_input": "2024-12-15T16:42:26.603474Z",
          "iopub.status.idle": "2024-12-15T16:42:32.918275Z",
          "shell.execute_reply.started": "2024-12-15T16:42:26.603432Z",
          "shell.execute_reply": "2024-12-15T16:42:32.917389Z"
        },
        "id": "26p_T7q8y44e",
        "outputId": "eee6da9e-6cf2-495e-99c7-0810ddddfb7c"
      },
      "outputs": [
        {
          "name": "stderr",
          "text": "/opt/conda/lib/python3.10/site-packages/albumentations/__init__.py:13: UserWarning: A new version of Albumentations is available: 1.4.22 (you have 1.4.17). Upgrade using: pip install -U albumentations. To disable automatic update checks, set the environment variable NO_ALBUMENTATIONS_UPDATE to 1.\n  check_for_updates()\n",
          "output_type": "stream"
        }
      ],
      "execution_count": null
    },
    {
      "cell_type": "code",
      "source": [
        "train_on_gpu = torch.cuda.is_available()\n",
        "\n",
        "if not train_on_gpu:\n",
        "    print('CUDA is not available.  Training on CPU ...')\n",
        "else:\n",
        "    print('CUDA is available!  Training on GPU ...')"
      ],
      "metadata": {
        "trusted": true,
        "execution": {
          "iopub.status.busy": "2024-12-15T16:42:32.919847Z",
          "iopub.execute_input": "2024-12-15T16:42:32.920277Z",
          "iopub.status.idle": "2024-12-15T16:42:32.983614Z",
          "shell.execute_reply.started": "2024-12-15T16:42:32.920247Z",
          "shell.execute_reply": "2024-12-15T16:42:32.982708Z"
        },
        "id": "DDLl2Rgcy44g",
        "outputId": "998d0f22-dab4-4e92-9549-adbea9b3b311"
      },
      "outputs": [
        {
          "name": "stdout",
          "text": "CUDA is available!  Training on GPU ...\n",
          "output_type": "stream"
        }
      ],
      "execution_count": null
    },
    {
      "cell_type": "markdown",
      "source": [
        "###  Преобразование входных данных и настройка аугментации"
      ],
      "metadata": {
        "id": "lP_o-z0fy44g"
      }
    },
    {
      "cell_type": "code",
      "source": [
        "RESCALE_SIZE = 224\n",
        "\n",
        "# Используем аугментацию для обучения\n",
        "train_transform = Compose([\n",
        "    Resize(RESCALE_SIZE, RESCALE_SIZE),\n",
        "    HorizontalFlip(p=0.5),\n",
        "    ShiftScaleRotate(shift_limit=0.05, scale_limit=0.1, rotate_limit=15, p=0.5),\n",
        "    ColorJitter(brightness=0.2, contrast=0.2, saturation=0.2, hue=0.1),\n",
        "    GaussianBlur(blur_limit=(3, 5), p=0.3),\n",
        "    RandomResizedCrop(height=RESCALE_SIZE, width=RESCALE_SIZE, scale=(0.8, 1.0), ratio=(0.75, 1.33)),\n",
        "    Normalize(mean=(0.485, 0.456, 0.406), std=(0.229, 0.224, 0.225)),\n",
        "    ToTensorV2()\n",
        "])\n",
        "\n",
        "val_transform = Compose([\n",
        "    Resize(RESCALE_SIZE, RESCALE_SIZE),\n",
        "    Normalize(mean=(0.485, 0.456, 0.406), std=(0.229, 0.224, 0.225)),\n",
        "    ToTensorV2()\n",
        "])"
      ],
      "metadata": {
        "trusted": true,
        "execution": {
          "iopub.status.busy": "2024-12-15T16:42:32.984535Z",
          "iopub.execute_input": "2024-12-15T16:42:32.984766Z",
          "iopub.status.idle": "2024-12-15T16:42:32.999684Z",
          "shell.execute_reply.started": "2024-12-15T16:42:32.984743Z",
          "shell.execute_reply": "2024-12-15T16:42:32.998815Z"
        },
        "id": "wEnC_I1cy44g"
      },
      "outputs": [],
      "execution_count": null
    },
    {
      "cell_type": "markdown",
      "source": [
        "### Загрузка данных"
      ],
      "metadata": {
        "id": "fGDLiKMoy44g"
      }
    },
    {
      "cell_type": "code",
      "source": [
        "# Датасеты\n",
        "train_dataset = ImageFolder('/kaggle/input/journey-springfield/train/simpsons_dataset',\n",
        "                            transform=lambda img: train_transform(image=np.array(img))[\"image\"])\n",
        "test_dataset = ImageFolder('/kaggle/input/journey-springfield/testset/',\n",
        "                           transform=lambda img: val_transform(image=np.array(img))[\"image\"])"
      ],
      "metadata": {
        "trusted": true,
        "execution": {
          "iopub.status.busy": "2024-12-15T16:42:33.001862Z",
          "iopub.execute_input": "2024-12-15T16:42:33.002482Z",
          "iopub.status.idle": "2024-12-15T16:43:24.794885Z",
          "shell.execute_reply.started": "2024-12-15T16:42:33.002441Z",
          "shell.execute_reply": "2024-12-15T16:43:24.794228Z"
        },
        "id": "hUXaoNiNy44g"
      },
      "outputs": [],
      "execution_count": null
    },
    {
      "cell_type": "code",
      "source": [
        "# Статистика по классам\n",
        "class_counts = np.bincount([sample[1] for sample in train_dataset.samples])\n",
        "print(f\"Class distribution: {[round(c / sum(class_counts) * 100, 2) for c in class_counts]}%\")"
      ],
      "metadata": {
        "trusted": true,
        "execution": {
          "iopub.status.busy": "2024-12-15T16:43:24.796065Z",
          "iopub.execute_input": "2024-12-15T16:43:24.796742Z",
          "iopub.status.idle": "2024-12-15T16:43:24.804610Z",
          "shell.execute_reply.started": "2024-12-15T16:43:24.796701Z",
          "shell.execute_reply": "2024-12-15T16:43:24.803652Z"
        },
        "id": "IidN0h2Zy44g",
        "outputId": "465e8ac2-23d9-4e93-a8c8-b65217d3c152"
      },
      "outputs": [
        {
          "name": "stdout",
          "text": "Class distribution: [4.36, 0.2, 2.98, 0.51, 6.41, 0.47, 5.7, 4.71, 0.22, 2.24, 0.04, 2.18, 0.13, 0.13, 0.58, 10.73, 2.38, 5.76, 1.48, 0.01, 6.47, 0.61, 6.17, 0.34, 1.18, 5.15, 0.08, 6.94, 6.95, 1.71, 0.15, 0.34, 5.7, 0.31, 0.21, 0.43, 0.49, 4.19, 0.19, 0.26, 0.04, 0.86]%\n",
          "output_type": "stream"
        }
      ],
      "execution_count": null
    },
    {
      "cell_type": "markdown",
      "source": [
        "### Обработка дисбаланса классов в данных"
      ],
      "metadata": {
        "id": "nivIfK-dy44h"
      }
    },
    {
      "cell_type": "code",
      "source": [
        "# взвешивание классов и нормализация\n",
        "class_counts = np.bincount([sample[1] for sample in train_dataset.samples])\n",
        "class_weights = 1.0 / class_counts\n",
        "class_weights /= class_weights.sum()  # Нормализация\n",
        "\n",
        "# присвоение изображению веса на основе его класса\n",
        "sample_weights = np.array([class_weights[label] for _, label in train_dataset.samples], dtype=np.float32)\n",
        "\n",
        "# статистика о семплировании\n",
        "print(f\"Sample weights (min, max): {sample_weights.min(), sample_weights.max()}\")\n",
        "print(f\"Class weights (min, max): {class_weights.min(), class_weights.max()}\")\n",
        "\n",
        "# выборка с учётом весов\n",
        "train_sampler = WeightedRandomSampler(weights=sample_weights, num_samples=len(sample_weights), replacement=True)\n",
        "\n",
        "train_dataloader = DataLoader(train_dataset, batch_size=128, sampler=train_sampler, shuffle=False, pin_memory=True, num_workers = min(4, cpu_count()))\n",
        "test_dataloader = DataLoader(test_dataset, batch_size=32, shuffle=False, pin_memory=True, num_workers = min(4, cpu_count()))"
      ],
      "metadata": {
        "trusted": true,
        "execution": {
          "iopub.status.busy": "2024-12-15T16:43:24.805698Z",
          "iopub.execute_input": "2024-12-15T16:43:24.805964Z",
          "iopub.status.idle": "2024-12-15T16:43:24.844876Z",
          "shell.execute_reply.started": "2024-12-15T16:43:24.805939Z",
          "shell.execute_reply": "2024-12-15T16:43:24.844050Z"
        },
        "id": "Iok8qFAoy44h",
        "outputId": "ffeb8e15-3e14-4d7a-e91d-78fb047e3aa9"
      },
      "outputs": [
        {
          "name": "stdout",
          "text": "Sample weights (min, max): (0.00044869413, 0.33592236)\nClass weights (min, max): (0.0004486941425066419, 0.33592234802330584)\n",
          "output_type": "stream"
        }
      ],
      "execution_count": null
    },
    {
      "cell_type": "markdown",
      "source": [
        "### Реализация модели"
      ],
      "metadata": {
        "id": "QOGNis4Ay44h"
      }
    },
    {
      "cell_type": "code",
      "source": [
        "class Resnet50FineTune(nn.Module):\n",
        "    def __init__(self, num_classes=42):\n",
        "        super(Resnet50FineTune, self).__init__()\n",
        "        self.resnet50 = models.resnet50(weights=models.ResNet50_Weights.IMAGENET1K_V2)\n",
        "\n",
        "        # Замораживание весов\n",
        "        for param in self.resnet50.parameters():\n",
        "            param.requires_grad = False\n",
        "\n",
        "        # разморозим параметры последнего блока layer4 и полносвязного слоя\n",
        "        for param in self.resnet50.layer4.parameters():\n",
        "            param.requires_grad = True\n",
        "        for param in self.resnet50.fc.parameters():\n",
        "            param.requires_grad = True\n",
        "\n",
        "        in_features = self.resnet50.fc.in_features\n",
        "        self.resnet50.fc = nn.Linear(in_features, num_classes)\n",
        "\n",
        "    def forward(self, x):\n",
        "        return self.resnet50(x)"
      ],
      "metadata": {
        "trusted": true,
        "execution": {
          "iopub.status.busy": "2024-12-15T16:43:24.845924Z",
          "iopub.execute_input": "2024-12-15T16:43:24.846257Z",
          "iopub.status.idle": "2024-12-15T16:43:24.852304Z",
          "shell.execute_reply.started": "2024-12-15T16:43:24.846221Z",
          "shell.execute_reply": "2024-12-15T16:43:24.851496Z"
        },
        "id": "mKyv4Uuuy44h"
      },
      "outputs": [],
      "execution_count": null
    },
    {
      "cell_type": "markdown",
      "source": [
        "### Обучение модели и предсказание на тестовом наборе данных"
      ],
      "metadata": {
        "id": "1BHYxHDhy44h"
      }
    },
    {
      "cell_type": "code",
      "source": [
        "def training_epoch(model, optimizer, criterion, train_loader, tqdm_desc):\n",
        "    train_accuracy = 0.0\n",
        "    model.train()\n",
        "    for images, labels in tqdm(train_loader, desc=tqdm_desc):\n",
        "        images = images.to(device)\n",
        "        labels = labels.to(device)\n",
        "\n",
        "        optimizer.zero_grad()\n",
        "        logits = model(images)\n",
        "        loss = criterion(logits, labels)\n",
        "        loss.backward()\n",
        "        optimizer.step()\n",
        "\n",
        "        train_accuracy += (logits.argmax(dim=1) == labels).sum().item()\n",
        "\n",
        "    train_accuracy /= len(train_loader.dataset)\n",
        "    return train_accuracy\n",
        "\n",
        "\n",
        "def train(model, optimizer, criterion, train_loader, num_epochs, scheduler=None):\n",
        "    for epoch in range(1, num_epochs + 1):\n",
        "        train_accuracy = training_epoch(\n",
        "            model, optimizer, criterion, train_loader,\n",
        "            tqdm_desc=f'Training {epoch}/{num_epochs}'\n",
        "        )\n",
        "        if scheduler is not None:\n",
        "            scheduler.step()\n",
        "        print(f'Training batch accuracy {train_accuracy}')\n",
        "\n",
        "        if scheduler is not None:\n",
        "            scheduler.step()\n",
        "\n",
        "\n",
        "@torch.no_grad()\n",
        "def predict(model, test_loader):\n",
        "    all_preds = []\n",
        "    all_labels = []\n",
        "    model.eval()\n",
        "    for images, labels in tqdm(test_loader, desc=\"Predicting\"):\n",
        "        images = images.to(device)\n",
        "        outputs = model(images)\n",
        "        all_preds.append(outputs.argmax(dim=1).cpu().numpy())\n",
        "        all_labels.append(labels.numpy())\n",
        "\n",
        "    all_preds = np.concatenate(all_preds)\n",
        "    all_labels = np.concatenate(all_labels)\n",
        "    return all_preds, all_labels"
      ],
      "metadata": {
        "trusted": true,
        "execution": {
          "iopub.status.busy": "2024-12-15T16:43:24.853417Z",
          "iopub.execute_input": "2024-12-15T16:43:24.853671Z",
          "iopub.status.idle": "2024-12-15T16:43:24.865333Z",
          "shell.execute_reply.started": "2024-12-15T16:43:24.853648Z",
          "shell.execute_reply": "2024-12-15T16:43:24.864558Z"
        },
        "id": "57Q9oyz2y44h"
      },
      "outputs": [],
      "execution_count": null
    },
    {
      "cell_type": "code",
      "source": [
        "device = torch.device(\"cuda\" if torch.cuda.is_available() else \"cpu\")\n",
        "\n",
        "num_epochs = 10\n",
        "criterion = torch.nn.CrossEntropyLoss()\n",
        "\n",
        "model = Resnet50FineTune(num_classes=len(train_dataset.classes)).to(device)\n",
        "model = nn.DataParallel(model)\n",
        "optimizer = torch.optim.AdamW(filter(lambda p: p.requires_grad, model.parameters()), lr=0.001)\n",
        "T_max = num_epochs // 2\n",
        "scheduler = torch.optim.lr_scheduler.CosineAnnealingLR(optimizer, T_max=T_max)\n",
        "\n",
        "train(model, optimizer, criterion, train_dataloader, num_epochs, scheduler)\n",
        "\n",
        "preds, actual_labels = predict(model, train_dataloader)"
      ],
      "metadata": {
        "trusted": true,
        "execution": {
          "iopub.status.busy": "2024-12-15T16:43:24.866249Z",
          "iopub.execute_input": "2024-12-15T16:43:24.866538Z",
          "iopub.status.idle": "2024-12-15T17:08:43.397549Z",
          "shell.execute_reply.started": "2024-12-15T16:43:24.866496Z",
          "shell.execute_reply": "2024-12-15T17:08:43.396461Z"
        },
        "id": "Lgrd4ao8y44h",
        "outputId": "67065b33-bddf-4939-e445-fa6cab987808"
      },
      "outputs": [
        {
          "name": "stderr",
          "text": "Downloading: \"https://download.pytorch.org/models/resnet50-11ad3fa6.pth\" to /root/.cache/torch/hub/checkpoints/resnet50-11ad3fa6.pth\n100%|██████████| 97.8M/97.8M [00:00<00:00, 207MB/s]\nTraining 1/10:   0%|          | 0/164 [00:00<?, ?it/s]/opt/conda/lib/python3.10/site-packages/torch/nn/parallel/parallel_apply.py:79: FutureWarning: `torch.cuda.amp.autocast(args...)` is deprecated. Please use `torch.amp.autocast('cuda', args...)` instead.\n  with torch.cuda.device(device), torch.cuda.stream(stream), autocast(enabled=autocast_enabled):\nTraining 1/10: 100%|██████████| 164/164 [02:31<00:00,  1.08it/s]\n",
          "output_type": "stream"
        },
        {
          "name": "stdout",
          "text": "Training batch accuracy 0.8542015000238857\n",
          "output_type": "stream"
        },
        {
          "name": "stderr",
          "text": "Training 2/10: 100%|██████████| 164/164 [02:20<00:00,  1.17it/s]\n",
          "output_type": "stream"
        },
        {
          "name": "stdout",
          "text": "Training batch accuracy 0.9706205512826638\n",
          "output_type": "stream"
        },
        {
          "name": "stderr",
          "text": "Training 3/10: 100%|██████████| 164/164 [02:21<00:00,  1.16it/s]\n",
          "output_type": "stream"
        },
        {
          "name": "stdout",
          "text": "Training batch accuracy 0.9856685616012993\n",
          "output_type": "stream"
        },
        {
          "name": "stderr",
          "text": "Training 4/10: 100%|██████████| 164/164 [02:13<00:00,  1.23it/s]\n",
          "output_type": "stream"
        },
        {
          "name": "stdout",
          "text": "Training batch accuracy 0.9882482205130655\n",
          "output_type": "stream"
        },
        {
          "name": "stderr",
          "text": "Training 5/10: 100%|██████████| 164/164 [02:17<00:00,  1.20it/s]\n",
          "output_type": "stream"
        },
        {
          "name": "stdout",
          "text": "Training batch accuracy 0.9804137008551091\n",
          "output_type": "stream"
        },
        {
          "name": "stderr",
          "text": "Training 6/10: 100%|██████████| 164/164 [02:16<00:00,  1.20it/s]\n",
          "output_type": "stream"
        },
        {
          "name": "stdout",
          "text": "Training batch accuracy 0.9708116371279798\n",
          "output_type": "stream"
        },
        {
          "name": "stderr",
          "text": "Training 7/10: 100%|██████████| 164/164 [02:14<00:00,  1.22it/s]\n",
          "output_type": "stream"
        },
        {
          "name": "stdout",
          "text": "Training batch accuracy 0.9834710743801653\n",
          "output_type": "stream"
        },
        {
          "name": "stderr",
          "text": "Training 8/10: 100%|██████████| 164/164 [02:15<00:00,  1.21it/s]\n",
          "output_type": "stream"
        },
        {
          "name": "stdout",
          "text": "Training batch accuracy 0.9917833086514116\n",
          "output_type": "stream"
        },
        {
          "name": "stderr",
          "text": "Training 9/10: 100%|██████████| 164/164 [02:16<00:00,  1.20it/s]\n",
          "output_type": "stream"
        },
        {
          "name": "stdout",
          "text": "Training batch accuracy 0.9940285673338748\n",
          "output_type": "stream"
        },
        {
          "name": "stderr",
          "text": "Training 10/10: 100%|██████████| 164/164 [02:13<00:00,  1.23it/s]\n",
          "output_type": "stream"
        },
        {
          "name": "stdout",
          "text": "Training batch accuracy 0.9903501648115416\n",
          "output_type": "stream"
        },
        {
          "name": "stderr",
          "text": "Predicting: 100%|██████████| 164/164 [02:15<00:00,  1.21it/s]\n",
          "output_type": "stream"
        }
      ],
      "execution_count": null
    },
    {
      "cell_type": "markdown",
      "source": [
        " ### Подготовка предсказаний для тестовых данных"
      ],
      "metadata": {
        "id": "aq5iGe3My44i"
      }
    },
    {
      "cell_type": "code",
      "source": [
        "# Вычисление F1-метрики\n",
        "f1 = f1_score(actual_labels, preds, average='micro')\n",
        "print(f'F1 Score: {f1:.4f}')"
      ],
      "metadata": {
        "trusted": true,
        "execution": {
          "iopub.status.busy": "2024-12-15T17:08:43.400615Z",
          "iopub.execute_input": "2024-12-15T17:08:43.400926Z",
          "iopub.status.idle": "2024-12-15T17:08:43.417861Z",
          "shell.execute_reply.started": "2024-12-15T17:08:43.400895Z",
          "shell.execute_reply": "2024-12-15T17:08:43.416893Z"
        },
        "id": "kg0Ku5-ry44i",
        "outputId": "e3716996-a1b0-4d70-9d50-b1cef1d6fe2b"
      },
      "outputs": [
        {
          "name": "stdout",
          "text": "F1 Score: 0.9919\n",
          "output_type": "stream"
        }
      ],
      "execution_count": null
    },
    {
      "cell_type": "code",
      "source": [
        "preds, _ = predict(model, test_dataloader)"
      ],
      "metadata": {
        "trusted": true,
        "execution": {
          "iopub.status.busy": "2024-12-15T17:08:43.419069Z",
          "iopub.execute_input": "2024-12-15T17:08:43.419460Z",
          "iopub.status.idle": "2024-12-15T17:08:46.326503Z",
          "shell.execute_reply.started": "2024-12-15T17:08:43.419419Z",
          "shell.execute_reply": "2024-12-15T17:08:46.325524Z"
        },
        "id": "sufZ9lxfy44i",
        "outputId": "73132b8c-01ae-4cbc-82e7-de5e965e8861"
      },
      "outputs": [
        {
          "name": "stderr",
          "text": "Predicting:   0%|          | 0/31 [00:00<?, ?it/s]/opt/conda/lib/python3.10/site-packages/torch/nn/parallel/parallel_apply.py:79: FutureWarning: `torch.cuda.amp.autocast(args...)` is deprecated. Please use `torch.amp.autocast('cuda', args...)` instead.\n  with torch.cuda.device(device), torch.cuda.stream(stream), autocast(enabled=autocast_enabled):\nPredicting: 100%|██████████| 31/31 [00:02<00:00, 10.70it/s]\n",
          "output_type": "stream"
        }
      ],
      "execution_count": null
    },
    {
      "cell_type": "code",
      "source": [
        "TEST_DIR = Path('/kaggle/input/journey-springfield/testset')\n",
        "test_files = sorted(list(TEST_DIR.rglob('*.jpg')))\n",
        "file_names = [file.name for file in test_files]"
      ],
      "metadata": {
        "trusted": true,
        "execution": {
          "iopub.status.busy": "2024-12-15T17:08:46.327731Z",
          "iopub.execute_input": "2024-12-15T17:08:46.328027Z",
          "iopub.status.idle": "2024-12-15T17:08:46.349616Z",
          "shell.execute_reply.started": "2024-12-15T17:08:46.327997Z",
          "shell.execute_reply": "2024-12-15T17:08:46.348834Z"
        },
        "id": "rLTkolr9y44i"
      },
      "outputs": [],
      "execution_count": null
    },
    {
      "cell_type": "code",
      "source": [
        "idx_to_class = {l: n for n, l in train_dataset.class_to_idx.items()}\n",
        "preds_class_names = [idx_to_class[pred] for pred in preds]"
      ],
      "metadata": {
        "trusted": true,
        "execution": {
          "iopub.status.busy": "2024-12-15T17:08:46.350705Z",
          "iopub.execute_input": "2024-12-15T17:08:46.351070Z",
          "iopub.status.idle": "2024-12-15T17:08:46.355805Z",
          "shell.execute_reply.started": "2024-12-15T17:08:46.351011Z",
          "shell.execute_reply": "2024-12-15T17:08:46.354901Z"
        },
        "id": "tbMBY0QCy44i"
      },
      "outputs": [],
      "execution_count": null
    },
    {
      "cell_type": "code",
      "source": [
        "my_submit = pd.DataFrame({'Id': file_names, 'Expected': preds_class_names})\n",
        "my_submit.head()"
      ],
      "metadata": {
        "trusted": true,
        "execution": {
          "iopub.status.busy": "2024-12-15T17:08:46.356951Z",
          "iopub.execute_input": "2024-12-15T17:08:46.357324Z",
          "iopub.status.idle": "2024-12-15T17:08:46.379739Z",
          "shell.execute_reply.started": "2024-12-15T17:08:46.357284Z",
          "shell.execute_reply": "2024-12-15T17:08:46.379029Z"
        },
        "id": "tU6-2NqYy44i",
        "outputId": "66b8452c-a6cd-46c3-bd8d-887290b4e324"
      },
      "outputs": [
        {
          "execution_count": 14,
          "output_type": "execute_result",
          "data": {
            "text/plain": "           Id                Expected\n0    img0.jpg            nelson_muntz\n1    img1.jpg            bart_simpson\n2   img10.jpg            ned_flanders\n3  img100.jpg            chief_wiggum\n4  img101.jpg  apu_nahasapeemapetilon",
            "text/html": "<div>\n<style scoped>\n    .dataframe tbody tr th:only-of-type {\n        vertical-align: middle;\n    }\n\n    .dataframe tbody tr th {\n        vertical-align: top;\n    }\n\n    .dataframe thead th {\n        text-align: right;\n    }\n</style>\n<table border=\"1\" class=\"dataframe\">\n  <thead>\n    <tr style=\"text-align: right;\">\n      <th></th>\n      <th>Id</th>\n      <th>Expected</th>\n    </tr>\n  </thead>\n  <tbody>\n    <tr>\n      <th>0</th>\n      <td>img0.jpg</td>\n      <td>nelson_muntz</td>\n    </tr>\n    <tr>\n      <th>1</th>\n      <td>img1.jpg</td>\n      <td>bart_simpson</td>\n    </tr>\n    <tr>\n      <th>2</th>\n      <td>img10.jpg</td>\n      <td>ned_flanders</td>\n    </tr>\n    <tr>\n      <th>3</th>\n      <td>img100.jpg</td>\n      <td>chief_wiggum</td>\n    </tr>\n    <tr>\n      <th>4</th>\n      <td>img101.jpg</td>\n      <td>apu_nahasapeemapetilon</td>\n    </tr>\n  </tbody>\n</table>\n</div>"
          },
          "metadata": {}
        }
      ],
      "execution_count": null
    },
    {
      "cell_type": "code",
      "source": [
        "my_submit.to_csv('submission.csv', index=False)"
      ],
      "metadata": {
        "trusted": true,
        "execution": {
          "iopub.status.busy": "2024-12-15T17:08:46.380587Z",
          "iopub.execute_input": "2024-12-15T17:08:46.380818Z",
          "iopub.status.idle": "2024-12-15T17:08:46.389120Z",
          "shell.execute_reply.started": "2024-12-15T17:08:46.380797Z",
          "shell.execute_reply": "2024-12-15T17:08:46.388224Z"
        },
        "id": "Nt4gfh2Ny44i"
      },
      "outputs": [],
      "execution_count": null
    }
  ]
}