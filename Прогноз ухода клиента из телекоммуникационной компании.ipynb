{
 "cells": [
  {
   "cell_type": "markdown",
   "id": "9d2c12b7",
   "metadata": {},
   "source": [
    "## Описание проекта, загрузка и подготовка данных"
   ]
  },
  {
   "cell_type": "markdown",
   "id": "82cd3da4",
   "metadata": {},
   "source": [
    "### Введение\n",
    "______\n",
    "**Название проекта**  \n",
    "\n",
    "Прогноз ухода клиента из телекоммуникационной компании «ТелеДом».\n",
    "_____\n",
    "\n",
    "**Цель исследования**  \n",
    "\n",
    "Построение модели для предсказания отказа от услуг связи абонентом с целью предложения специальных условий для таких клиентов.\n",
    "_______\n",
    "**Задачи исследования**\n",
    "\n",
    "- Провести необходимую предобработку данных четырех датасетов\n",
    "- Произвести объединение данных  в один датафрейм\n",
    "- Провести исследовательский анализ данных с учетом их типа\n",
    "- Произвести корреляционный анализ данных\n",
    "- Провести необходимую подготовку данных для обучения моделей\n",
    "- С использованием пайплайнов обработать количественные и категориальные признаки \n",
    "- Обучить минимум 2 модели c подбором гиперпараметров\n",
    "- Выбрать лучшую модель на основе метрики `ROC-AUC`\n",
    "- Провести оценку важности признаков\n",
    "- Построить матрицу ошибок и ROC-кривую итоговой модели\n",
    "\n",
    "_____\n",
    "**Исходные данные**  \n",
    "\n",
    "Имеются данные, представленные в виде четырех датасетов, которые содержат следующую информацию:\n",
    "\n",
    "`contract_new.csv` — информация о договоре:\n",
    "- `customerID` — идентификатор абонента;\n",
    "- `BeginDate` — дата начала действия договора;\n",
    "- `EndDate` — дата окончания действия договора;\n",
    "- `Type` — тип оплаты: раз в год-два или ежемесячно;\n",
    "- `PaperlessBilling` — электронный расчётный лист;\n",
    "- `PaymentMethod` — тип платежа;\n",
    "- `MonthlyCharges` — расходы за месяц;\n",
    "- `TotalCharges` — общие расходы абонента.\n",
    "\n",
    "`personal_new.csv` — персональные данные клиента:\n",
    "- `customerID` — идентификатор пользователя;\n",
    "- `gender` — пол;\n",
    "- `SeniorCitizen` — является ли абонент пенсионером;\n",
    "- `Partner` — есть ли у абонента супруг или супруга;\n",
    "- `Dependents` — есть ли у абонента дети.\n",
    "\n",
    "`internet_new.csv` — информация об интернет-услугах:\n",
    "- `customerID` — идентификатор пользователя;\n",
    "- `InternetService` — тип подключения;\n",
    "- `OnlineSecurity` — блокировка опасных сайтов;\n",
    "- `OnlineBackup` — облачное хранилище файлов для резервного копирования данных;\n",
    "- `DeviceProtection` — антивирус;\n",
    "- `TechSupport` — выделенная линия технической поддержки;\n",
    "- `StreamingTV` — стриминговое телевидение;\n",
    "- `StreamingMovies` — каталог фильмов.\n",
    "\n",
    "`phone_new.csv` — информация об услугах телефонии:\n",
    "- `customerID` — идентификатор пользователя;\n",
    "- `MultipleLines` — подключение телефона к нескольким линиям одновременно."
   ]
  },
  {
   "cell_type": "markdown",
   "id": "808e012d",
   "metadata": {},
   "source": [
    "### Установка и импорт библиотек"
   ]
  },
  {
   "cell_type": "code",
   "execution_count": 1,
   "id": "4f5a860f",
   "metadata": {},
   "outputs": [],
   "source": [
    "!pip install shap -q\n",
    "!pip install -U scikit-learn -q\n",
    "!pip install phik -q\n",
    "!pip install lightgbm scikit-learn -q\n",
    "!pip install catboost -q"
   ]
  },
  {
   "cell_type": "code",
   "execution_count": 2,
   "id": "3fec5be8",
   "metadata": {},
   "outputs": [],
   "source": [
    "import pandas as pd\n",
    "import matplotlib.pyplot as plt\n",
    "import seaborn as sns\n",
    "import numpy as np\n",
    "import scipy.stats as st\n",
    "import lightgbm as lgb\n",
    "import os\n",
    "import math\n",
    "import shap\n",
    "import phik\n",
    "import warnings\n",
    "import re\n",
    "import catboost\n",
    "import sys\n",
    "\n",
    "from tqdm import tqdm\n",
    "from phik import phik_matrix\n",
    "from phik.report import plot_correlation_matrix\n",
    "from scipy.stats import uniform\n",
    "from sklearn.preprocessing import (\n",
    "    OneHotEncoder, \n",
    "    StandardScaler, \n",
    "    MinMaxScaler\n",
    ")\n",
    "from sklearn.impute import SimpleImputer\n",
    "from lightgbm import LGBMClassifier \n",
    "from catboost import CatBoostClassifier\n",
    "from sklearn.ensemble import RandomForestClassifier\n",
    "from sklearn.model_selection import train_test_split, GridSearchCV, RandomizedSearchCV\n",
    "from sklearn.linear_model import LogisticRegression, LinearRegression, Ridge\n",
    "from sklearn.neighbors import KNeighborsClassifier\n",
    "from sklearn.tree import DecisionTreeClassifier\n",
    "from sklearn.svm import SVC\n",
    "from sklearn.pipeline import Pipeline\n",
    "from sklearn.compose import ColumnTransformer\n",
    "from sklearn.metrics import (\n",
    "    roc_auc_score,\n",
    "    confusion_matrix,\n",
    "    ConfusionMatrixDisplay,\n",
    "    roc_curve,\n",
    "    accuracy_score,\n",
    "    auc\n",
    ")"
   ]
  },
  {
   "cell_type": "code",
   "execution_count": 3,
   "id": "9efcd312",
   "metadata": {},
   "outputs": [],
   "source": [
    "# системные настройки\n",
    "pd.set_option('display.max_columns', None)\n",
    "pd.set_option('display.max_colwidth', None)\n",
    "warnings.filterwarnings(\"ignore\")"
   ]
  },
  {
   "cell_type": "code",
   "execution_count": 4,
   "id": "9ef35ba0",
   "metadata": {},
   "outputs": [],
   "source": [
    "# объявление констант\n",
    "RANDOM_STATE = 160924\n",
    "TEST_SIZE = 0.25"
   ]
  },
  {
   "cell_type": "markdown",
   "id": "983e138a",
   "metadata": {},
   "source": [
    "### Объявление функций"
   ]
  },
  {
   "cell_type": "code",
   "execution_count": 5,
   "id": "e9630d87",
   "metadata": {},
   "outputs": [],
   "source": [
    "# функция для краткого обзора датасетов\n",
    "def view_df(df):\n",
    "    display(df.head()) \n",
    "    df.info() \n",
    "    display(df.columns) \n",
    "    display(df.describe())"
   ]
  },
  {
   "cell_type": "code",
   "execution_count": 6,
   "id": "2fd66d06",
   "metadata": {},
   "outputs": [],
   "source": [
    "# функция для описания количественных признаков при статистическом анализе\n",
    "def histbox_plot(df, list_col):\n",
    "    for name in list_col:\n",
    "        plt.figure(figsize=(10, 5))\n",
    "        plt.suptitle(f'Гистограмма и диаграмма размаха признака - {name}', \n",
    "                     fontsize=13, fontweight='bold')\n",
    "       \n",
    "        # Создание GridSpec для вертикального расположения\n",
    "        grid = plt.GridSpec(2, 1, height_ratios=[2, 1])\n",
    "        \n",
    "        plt.subplot(grid[0])\n",
    "        sns.histplot(data=df, x=name, kde=True, bins=50)\n",
    "        #plt.title('Гистограмма числа заказов')\n",
    "        plt.xlabel('')\n",
    "        plt.ylabel('Количество')\n",
    "\n",
    "        plt.subplot(grid[1])\n",
    "        sns.boxplot(data=df, x=name)\n",
    "        #plt.title('Диаграмма размаха числа заказов')\n",
    "        plt.xlabel(f'{name}')\n",
    "        plt.ylabel('')\n",
    "        \n",
    "        plt.tight_layout(rect=[0, 0.03, 1, 0.95])\n",
    "        plt.show()\n",
    "        \n",
    "        display(df[name].describe())"
   ]
  },
  {
   "cell_type": "code",
   "execution_count": 7,
   "id": "1f81c270",
   "metadata": {},
   "outputs": [],
   "source": [
    "# функция для описания категориальных признаков при статистическом анализе\n",
    "def pie_plot(df, list_col):\n",
    "    i = 1\n",
    "    plt.figure(figsize=(12, 18))\n",
    "    for name in list_col:\n",
    "        num_categories = df[name].nunique()\n",
    "        explode = [0.03] * num_categories  \n",
    "\n",
    "        plt.subplot(5, 3, i)\n",
    "        df[name].value_counts().plot.pie(label='', autopct='%1.0f%%', title=name, explode=explode)\n",
    "        i += 1\n",
    "\n",
    "    plt.tight_layout()\n",
    "    plt.show()"
   ]
  },
  {
   "cell_type": "code",
   "execution_count": 8,
   "id": "fba04430",
   "metadata": {},
   "outputs": [],
   "source": [
    "# функция для построения матрицы Phik\n",
    "def phik_matrix_(df, interval_cols):\n",
    "    \n",
    "    phik_overview = phik_matrix(df, interval_cols=interval_cols) \n",
    "    plot_correlation_matrix(\n",
    "        phik_overview.values,\n",
    "        x_labels=phik_overview.columns,\n",
    "        y_labels=phik_overview.index,\n",
    "        vmin=0, vmax=1, color_map='Greens',\n",
    "        title=f'матрица $\\phi_K$',\n",
    "        fontsize_factor=1,\n",
    "        figsize=(12, 6)\n",
    "    )"
   ]
  },
  {
   "cell_type": "markdown",
   "id": "36ac3d73",
   "metadata": {},
   "source": [
    "### Загрузка данных"
   ]
  },
  {
   "cell_type": "code",
   "execution_count": 9,
   "id": "519e6490",
   "metadata": {},
   "outputs": [],
   "source": [
    "pth1 = '/datasets/contract_new.csv'\n",
    "pth2 = '/datasets/personal_new.csv'\n",
    "pth3 = '/datasets/internet_new.csv'\n",
    "pth4 = '/datasets/phone_new.csv'\n",
    "\n",
    "if os.path.exists(pth1) & os.path.exists(pth2) & os.path.exists(pth3) & os.path.exists(pth4):\n",
    "    contract = pd.read_csv(pth1, sep=',')\n",
    "    personal = pd.read_csv(pth2, sep=',')\n",
    "    internet = pd.read_csv(pth3, sep=',')\n",
    "    phone = pd.read_csv(pth4, sep=',')\n",
    "else:\n",
    "    print('Something is wrong with loading data')"
   ]
  },
  {
   "cell_type": "markdown",
   "id": "c36a56eb",
   "metadata": {},
   "source": [
    "### Общая информация о датасетах"
   ]
  },
  {
   "cell_type": "code",
   "execution_count": 10,
   "id": "4f3c3815",
   "metadata": {},
   "outputs": [
    {
     "data": {
      "text/html": [
       "<div>\n",
       "<style scoped>\n",
       "    .dataframe tbody tr th:only-of-type {\n",
       "        vertical-align: middle;\n",
       "    }\n",
       "\n",
       "    .dataframe tbody tr th {\n",
       "        vertical-align: top;\n",
       "    }\n",
       "\n",
       "    .dataframe thead th {\n",
       "        text-align: right;\n",
       "    }\n",
       "</style>\n",
       "<table border=\"1\" class=\"dataframe\">\n",
       "  <thead>\n",
       "    <tr style=\"text-align: right;\">\n",
       "      <th></th>\n",
       "      <th>customerID</th>\n",
       "      <th>BeginDate</th>\n",
       "      <th>EndDate</th>\n",
       "      <th>Type</th>\n",
       "      <th>PaperlessBilling</th>\n",
       "      <th>PaymentMethod</th>\n",
       "      <th>MonthlyCharges</th>\n",
       "      <th>TotalCharges</th>\n",
       "    </tr>\n",
       "  </thead>\n",
       "  <tbody>\n",
       "    <tr>\n",
       "      <th>0</th>\n",
       "      <td>7590-VHVEG</td>\n",
       "      <td>2020-01-01</td>\n",
       "      <td>No</td>\n",
       "      <td>Month-to-month</td>\n",
       "      <td>Yes</td>\n",
       "      <td>Electronic check</td>\n",
       "      <td>29.85</td>\n",
       "      <td>31.04</td>\n",
       "    </tr>\n",
       "    <tr>\n",
       "      <th>1</th>\n",
       "      <td>5575-GNVDE</td>\n",
       "      <td>2017-04-01</td>\n",
       "      <td>No</td>\n",
       "      <td>One year</td>\n",
       "      <td>No</td>\n",
       "      <td>Mailed check</td>\n",
       "      <td>56.95</td>\n",
       "      <td>2071.84</td>\n",
       "    </tr>\n",
       "    <tr>\n",
       "      <th>2</th>\n",
       "      <td>3668-QPYBK</td>\n",
       "      <td>2019-10-01</td>\n",
       "      <td>No</td>\n",
       "      <td>Month-to-month</td>\n",
       "      <td>Yes</td>\n",
       "      <td>Mailed check</td>\n",
       "      <td>53.85</td>\n",
       "      <td>226.17</td>\n",
       "    </tr>\n",
       "    <tr>\n",
       "      <th>3</th>\n",
       "      <td>7795-CFOCW</td>\n",
       "      <td>2016-05-01</td>\n",
       "      <td>No</td>\n",
       "      <td>One year</td>\n",
       "      <td>No</td>\n",
       "      <td>Bank transfer (automatic)</td>\n",
       "      <td>42.30</td>\n",
       "      <td>1960.6</td>\n",
       "    </tr>\n",
       "    <tr>\n",
       "      <th>4</th>\n",
       "      <td>9237-HQITU</td>\n",
       "      <td>2019-09-01</td>\n",
       "      <td>No</td>\n",
       "      <td>Month-to-month</td>\n",
       "      <td>Yes</td>\n",
       "      <td>Electronic check</td>\n",
       "      <td>70.70</td>\n",
       "      <td>353.5</td>\n",
       "    </tr>\n",
       "  </tbody>\n",
       "</table>\n",
       "</div>"
      ],
      "text/plain": [
       "   customerID   BeginDate EndDate            Type PaperlessBilling  \\\n",
       "0  7590-VHVEG  2020-01-01      No  Month-to-month              Yes   \n",
       "1  5575-GNVDE  2017-04-01      No        One year               No   \n",
       "2  3668-QPYBK  2019-10-01      No  Month-to-month              Yes   \n",
       "3  7795-CFOCW  2016-05-01      No        One year               No   \n",
       "4  9237-HQITU  2019-09-01      No  Month-to-month              Yes   \n",
       "\n",
       "               PaymentMethod  MonthlyCharges TotalCharges  \n",
       "0           Electronic check           29.85        31.04  \n",
       "1               Mailed check           56.95      2071.84  \n",
       "2               Mailed check           53.85       226.17  \n",
       "3  Bank transfer (automatic)           42.30       1960.6  \n",
       "4           Electronic check           70.70        353.5  "
      ]
     },
     "metadata": {},
     "output_type": "display_data"
    },
    {
     "name": "stdout",
     "output_type": "stream",
     "text": [
      "<class 'pandas.core.frame.DataFrame'>\n",
      "RangeIndex: 7043 entries, 0 to 7042\n",
      "Data columns (total 8 columns):\n",
      " #   Column            Non-Null Count  Dtype  \n",
      "---  ------            --------------  -----  \n",
      " 0   customerID        7043 non-null   object \n",
      " 1   BeginDate         7043 non-null   object \n",
      " 2   EndDate           7043 non-null   object \n",
      " 3   Type              7043 non-null   object \n",
      " 4   PaperlessBilling  7043 non-null   object \n",
      " 5   PaymentMethod     7043 non-null   object \n",
      " 6   MonthlyCharges    7043 non-null   float64\n",
      " 7   TotalCharges      7043 non-null   object \n",
      "dtypes: float64(1), object(7)\n",
      "memory usage: 440.3+ KB\n"
     ]
    },
    {
     "data": {
      "text/plain": [
       "Index(['customerID', 'BeginDate', 'EndDate', 'Type', 'PaperlessBilling',\n",
       "       'PaymentMethod', 'MonthlyCharges', 'TotalCharges'],\n",
       "      dtype='object')"
      ]
     },
     "metadata": {},
     "output_type": "display_data"
    },
    {
     "data": {
      "text/html": [
       "<div>\n",
       "<style scoped>\n",
       "    .dataframe tbody tr th:only-of-type {\n",
       "        vertical-align: middle;\n",
       "    }\n",
       "\n",
       "    .dataframe tbody tr th {\n",
       "        vertical-align: top;\n",
       "    }\n",
       "\n",
       "    .dataframe thead th {\n",
       "        text-align: right;\n",
       "    }\n",
       "</style>\n",
       "<table border=\"1\" class=\"dataframe\">\n",
       "  <thead>\n",
       "    <tr style=\"text-align: right;\">\n",
       "      <th></th>\n",
       "      <th>MonthlyCharges</th>\n",
       "    </tr>\n",
       "  </thead>\n",
       "  <tbody>\n",
       "    <tr>\n",
       "      <th>count</th>\n",
       "      <td>7043.000000</td>\n",
       "    </tr>\n",
       "    <tr>\n",
       "      <th>mean</th>\n",
       "      <td>64.761692</td>\n",
       "    </tr>\n",
       "    <tr>\n",
       "      <th>std</th>\n",
       "      <td>30.090047</td>\n",
       "    </tr>\n",
       "    <tr>\n",
       "      <th>min</th>\n",
       "      <td>18.250000</td>\n",
       "    </tr>\n",
       "    <tr>\n",
       "      <th>25%</th>\n",
       "      <td>35.500000</td>\n",
       "    </tr>\n",
       "    <tr>\n",
       "      <th>50%</th>\n",
       "      <td>70.350000</td>\n",
       "    </tr>\n",
       "    <tr>\n",
       "      <th>75%</th>\n",
       "      <td>89.850000</td>\n",
       "    </tr>\n",
       "    <tr>\n",
       "      <th>max</th>\n",
       "      <td>118.750000</td>\n",
       "    </tr>\n",
       "  </tbody>\n",
       "</table>\n",
       "</div>"
      ],
      "text/plain": [
       "       MonthlyCharges\n",
       "count     7043.000000\n",
       "mean        64.761692\n",
       "std         30.090047\n",
       "min         18.250000\n",
       "25%         35.500000\n",
       "50%         70.350000\n",
       "75%         89.850000\n",
       "max        118.750000"
      ]
     },
     "metadata": {},
     "output_type": "display_data"
    },
    {
     "name": "stdout",
     "output_type": "stream",
     "text": [
      "==================================================================\n"
     ]
    },
    {
     "data": {
      "text/html": [
       "<div>\n",
       "<style scoped>\n",
       "    .dataframe tbody tr th:only-of-type {\n",
       "        vertical-align: middle;\n",
       "    }\n",
       "\n",
       "    .dataframe tbody tr th {\n",
       "        vertical-align: top;\n",
       "    }\n",
       "\n",
       "    .dataframe thead th {\n",
       "        text-align: right;\n",
       "    }\n",
       "</style>\n",
       "<table border=\"1\" class=\"dataframe\">\n",
       "  <thead>\n",
       "    <tr style=\"text-align: right;\">\n",
       "      <th></th>\n",
       "      <th>customerID</th>\n",
       "      <th>gender</th>\n",
       "      <th>SeniorCitizen</th>\n",
       "      <th>Partner</th>\n",
       "      <th>Dependents</th>\n",
       "    </tr>\n",
       "  </thead>\n",
       "  <tbody>\n",
       "    <tr>\n",
       "      <th>0</th>\n",
       "      <td>7590-VHVEG</td>\n",
       "      <td>Female</td>\n",
       "      <td>0</td>\n",
       "      <td>Yes</td>\n",
       "      <td>No</td>\n",
       "    </tr>\n",
       "    <tr>\n",
       "      <th>1</th>\n",
       "      <td>5575-GNVDE</td>\n",
       "      <td>Male</td>\n",
       "      <td>0</td>\n",
       "      <td>No</td>\n",
       "      <td>No</td>\n",
       "    </tr>\n",
       "    <tr>\n",
       "      <th>2</th>\n",
       "      <td>3668-QPYBK</td>\n",
       "      <td>Male</td>\n",
       "      <td>0</td>\n",
       "      <td>No</td>\n",
       "      <td>No</td>\n",
       "    </tr>\n",
       "    <tr>\n",
       "      <th>3</th>\n",
       "      <td>7795-CFOCW</td>\n",
       "      <td>Male</td>\n",
       "      <td>0</td>\n",
       "      <td>No</td>\n",
       "      <td>No</td>\n",
       "    </tr>\n",
       "    <tr>\n",
       "      <th>4</th>\n",
       "      <td>9237-HQITU</td>\n",
       "      <td>Female</td>\n",
       "      <td>0</td>\n",
       "      <td>No</td>\n",
       "      <td>No</td>\n",
       "    </tr>\n",
       "  </tbody>\n",
       "</table>\n",
       "</div>"
      ],
      "text/plain": [
       "   customerID  gender  SeniorCitizen Partner Dependents\n",
       "0  7590-VHVEG  Female              0     Yes         No\n",
       "1  5575-GNVDE    Male              0      No         No\n",
       "2  3668-QPYBK    Male              0      No         No\n",
       "3  7795-CFOCW    Male              0      No         No\n",
       "4  9237-HQITU  Female              0      No         No"
      ]
     },
     "metadata": {},
     "output_type": "display_data"
    },
    {
     "name": "stdout",
     "output_type": "stream",
     "text": [
      "<class 'pandas.core.frame.DataFrame'>\n",
      "RangeIndex: 7043 entries, 0 to 7042\n",
      "Data columns (total 5 columns):\n",
      " #   Column         Non-Null Count  Dtype \n",
      "---  ------         --------------  ----- \n",
      " 0   customerID     7043 non-null   object\n",
      " 1   gender         7043 non-null   object\n",
      " 2   SeniorCitizen  7043 non-null   int64 \n",
      " 3   Partner        7043 non-null   object\n",
      " 4   Dependents     7043 non-null   object\n",
      "dtypes: int64(1), object(4)\n",
      "memory usage: 275.2+ KB\n"
     ]
    },
    {
     "data": {
      "text/plain": [
       "Index(['customerID', 'gender', 'SeniorCitizen', 'Partner', 'Dependents'], dtype='object')"
      ]
     },
     "metadata": {},
     "output_type": "display_data"
    },
    {
     "data": {
      "text/html": [
       "<div>\n",
       "<style scoped>\n",
       "    .dataframe tbody tr th:only-of-type {\n",
       "        vertical-align: middle;\n",
       "    }\n",
       "\n",
       "    .dataframe tbody tr th {\n",
       "        vertical-align: top;\n",
       "    }\n",
       "\n",
       "    .dataframe thead th {\n",
       "        text-align: right;\n",
       "    }\n",
       "</style>\n",
       "<table border=\"1\" class=\"dataframe\">\n",
       "  <thead>\n",
       "    <tr style=\"text-align: right;\">\n",
       "      <th></th>\n",
       "      <th>SeniorCitizen</th>\n",
       "    </tr>\n",
       "  </thead>\n",
       "  <tbody>\n",
       "    <tr>\n",
       "      <th>count</th>\n",
       "      <td>7043.000000</td>\n",
       "    </tr>\n",
       "    <tr>\n",
       "      <th>mean</th>\n",
       "      <td>0.162147</td>\n",
       "    </tr>\n",
       "    <tr>\n",
       "      <th>std</th>\n",
       "      <td>0.368612</td>\n",
       "    </tr>\n",
       "    <tr>\n",
       "      <th>min</th>\n",
       "      <td>0.000000</td>\n",
       "    </tr>\n",
       "    <tr>\n",
       "      <th>25%</th>\n",
       "      <td>0.000000</td>\n",
       "    </tr>\n",
       "    <tr>\n",
       "      <th>50%</th>\n",
       "      <td>0.000000</td>\n",
       "    </tr>\n",
       "    <tr>\n",
       "      <th>75%</th>\n",
       "      <td>0.000000</td>\n",
       "    </tr>\n",
       "    <tr>\n",
       "      <th>max</th>\n",
       "      <td>1.000000</td>\n",
       "    </tr>\n",
       "  </tbody>\n",
       "</table>\n",
       "</div>"
      ],
      "text/plain": [
       "       SeniorCitizen\n",
       "count    7043.000000\n",
       "mean        0.162147\n",
       "std         0.368612\n",
       "min         0.000000\n",
       "25%         0.000000\n",
       "50%         0.000000\n",
       "75%         0.000000\n",
       "max         1.000000"
      ]
     },
     "metadata": {},
     "output_type": "display_data"
    },
    {
     "name": "stdout",
     "output_type": "stream",
     "text": [
      "==================================================================\n"
     ]
    },
    {
     "data": {
      "text/html": [
       "<div>\n",
       "<style scoped>\n",
       "    .dataframe tbody tr th:only-of-type {\n",
       "        vertical-align: middle;\n",
       "    }\n",
       "\n",
       "    .dataframe tbody tr th {\n",
       "        vertical-align: top;\n",
       "    }\n",
       "\n",
       "    .dataframe thead th {\n",
       "        text-align: right;\n",
       "    }\n",
       "</style>\n",
       "<table border=\"1\" class=\"dataframe\">\n",
       "  <thead>\n",
       "    <tr style=\"text-align: right;\">\n",
       "      <th></th>\n",
       "      <th>customerID</th>\n",
       "      <th>InternetService</th>\n",
       "      <th>OnlineSecurity</th>\n",
       "      <th>OnlineBackup</th>\n",
       "      <th>DeviceProtection</th>\n",
       "      <th>TechSupport</th>\n",
       "      <th>StreamingTV</th>\n",
       "      <th>StreamingMovies</th>\n",
       "    </tr>\n",
       "  </thead>\n",
       "  <tbody>\n",
       "    <tr>\n",
       "      <th>0</th>\n",
       "      <td>7590-VHVEG</td>\n",
       "      <td>DSL</td>\n",
       "      <td>No</td>\n",
       "      <td>Yes</td>\n",
       "      <td>No</td>\n",
       "      <td>No</td>\n",
       "      <td>No</td>\n",
       "      <td>No</td>\n",
       "    </tr>\n",
       "    <tr>\n",
       "      <th>1</th>\n",
       "      <td>5575-GNVDE</td>\n",
       "      <td>DSL</td>\n",
       "      <td>Yes</td>\n",
       "      <td>No</td>\n",
       "      <td>Yes</td>\n",
       "      <td>No</td>\n",
       "      <td>No</td>\n",
       "      <td>No</td>\n",
       "    </tr>\n",
       "    <tr>\n",
       "      <th>2</th>\n",
       "      <td>3668-QPYBK</td>\n",
       "      <td>DSL</td>\n",
       "      <td>Yes</td>\n",
       "      <td>Yes</td>\n",
       "      <td>No</td>\n",
       "      <td>No</td>\n",
       "      <td>No</td>\n",
       "      <td>No</td>\n",
       "    </tr>\n",
       "    <tr>\n",
       "      <th>3</th>\n",
       "      <td>7795-CFOCW</td>\n",
       "      <td>DSL</td>\n",
       "      <td>Yes</td>\n",
       "      <td>No</td>\n",
       "      <td>Yes</td>\n",
       "      <td>Yes</td>\n",
       "      <td>No</td>\n",
       "      <td>No</td>\n",
       "    </tr>\n",
       "    <tr>\n",
       "      <th>4</th>\n",
       "      <td>9237-HQITU</td>\n",
       "      <td>Fiber optic</td>\n",
       "      <td>No</td>\n",
       "      <td>No</td>\n",
       "      <td>No</td>\n",
       "      <td>No</td>\n",
       "      <td>No</td>\n",
       "      <td>No</td>\n",
       "    </tr>\n",
       "  </tbody>\n",
       "</table>\n",
       "</div>"
      ],
      "text/plain": [
       "   customerID InternetService OnlineSecurity OnlineBackup DeviceProtection  \\\n",
       "0  7590-VHVEG             DSL             No          Yes               No   \n",
       "1  5575-GNVDE             DSL            Yes           No              Yes   \n",
       "2  3668-QPYBK             DSL            Yes          Yes               No   \n",
       "3  7795-CFOCW             DSL            Yes           No              Yes   \n",
       "4  9237-HQITU     Fiber optic             No           No               No   \n",
       "\n",
       "  TechSupport StreamingTV StreamingMovies  \n",
       "0          No          No              No  \n",
       "1          No          No              No  \n",
       "2          No          No              No  \n",
       "3         Yes          No              No  \n",
       "4          No          No              No  "
      ]
     },
     "metadata": {},
     "output_type": "display_data"
    },
    {
     "name": "stdout",
     "output_type": "stream",
     "text": [
      "<class 'pandas.core.frame.DataFrame'>\n",
      "RangeIndex: 5517 entries, 0 to 5516\n",
      "Data columns (total 8 columns):\n",
      " #   Column            Non-Null Count  Dtype \n",
      "---  ------            --------------  ----- \n",
      " 0   customerID        5517 non-null   object\n",
      " 1   InternetService   5517 non-null   object\n",
      " 2   OnlineSecurity    5517 non-null   object\n",
      " 3   OnlineBackup      5517 non-null   object\n",
      " 4   DeviceProtection  5517 non-null   object\n",
      " 5   TechSupport       5517 non-null   object\n",
      " 6   StreamingTV       5517 non-null   object\n",
      " 7   StreamingMovies   5517 non-null   object\n",
      "dtypes: object(8)\n",
      "memory usage: 344.9+ KB\n"
     ]
    },
    {
     "data": {
      "text/plain": [
       "Index(['customerID', 'InternetService', 'OnlineSecurity', 'OnlineBackup',\n",
       "       'DeviceProtection', 'TechSupport', 'StreamingTV', 'StreamingMovies'],\n",
       "      dtype='object')"
      ]
     },
     "metadata": {},
     "output_type": "display_data"
    },
    {
     "data": {
      "text/html": [
       "<div>\n",
       "<style scoped>\n",
       "    .dataframe tbody tr th:only-of-type {\n",
       "        vertical-align: middle;\n",
       "    }\n",
       "\n",
       "    .dataframe tbody tr th {\n",
       "        vertical-align: top;\n",
       "    }\n",
       "\n",
       "    .dataframe thead th {\n",
       "        text-align: right;\n",
       "    }\n",
       "</style>\n",
       "<table border=\"1\" class=\"dataframe\">\n",
       "  <thead>\n",
       "    <tr style=\"text-align: right;\">\n",
       "      <th></th>\n",
       "      <th>customerID</th>\n",
       "      <th>InternetService</th>\n",
       "      <th>OnlineSecurity</th>\n",
       "      <th>OnlineBackup</th>\n",
       "      <th>DeviceProtection</th>\n",
       "      <th>TechSupport</th>\n",
       "      <th>StreamingTV</th>\n",
       "      <th>StreamingMovies</th>\n",
       "    </tr>\n",
       "  </thead>\n",
       "  <tbody>\n",
       "    <tr>\n",
       "      <th>count</th>\n",
       "      <td>5517</td>\n",
       "      <td>5517</td>\n",
       "      <td>5517</td>\n",
       "      <td>5517</td>\n",
       "      <td>5517</td>\n",
       "      <td>5517</td>\n",
       "      <td>5517</td>\n",
       "      <td>5517</td>\n",
       "    </tr>\n",
       "    <tr>\n",
       "      <th>unique</th>\n",
       "      <td>5517</td>\n",
       "      <td>2</td>\n",
       "      <td>2</td>\n",
       "      <td>2</td>\n",
       "      <td>2</td>\n",
       "      <td>2</td>\n",
       "      <td>2</td>\n",
       "      <td>2</td>\n",
       "    </tr>\n",
       "    <tr>\n",
       "      <th>top</th>\n",
       "      <td>2858-MOFSQ</td>\n",
       "      <td>Fiber optic</td>\n",
       "      <td>No</td>\n",
       "      <td>No</td>\n",
       "      <td>No</td>\n",
       "      <td>No</td>\n",
       "      <td>No</td>\n",
       "      <td>No</td>\n",
       "    </tr>\n",
       "    <tr>\n",
       "      <th>freq</th>\n",
       "      <td>1</td>\n",
       "      <td>3096</td>\n",
       "      <td>3498</td>\n",
       "      <td>3088</td>\n",
       "      <td>3095</td>\n",
       "      <td>3473</td>\n",
       "      <td>2810</td>\n",
       "      <td>2785</td>\n",
       "    </tr>\n",
       "  </tbody>\n",
       "</table>\n",
       "</div>"
      ],
      "text/plain": [
       "        customerID InternetService OnlineSecurity OnlineBackup  \\\n",
       "count         5517            5517           5517         5517   \n",
       "unique        5517               2              2            2   \n",
       "top     2858-MOFSQ     Fiber optic             No           No   \n",
       "freq             1            3096           3498         3088   \n",
       "\n",
       "       DeviceProtection TechSupport StreamingTV StreamingMovies  \n",
       "count              5517        5517        5517            5517  \n",
       "unique                2           2           2               2  \n",
       "top                  No          No          No              No  \n",
       "freq               3095        3473        2810            2785  "
      ]
     },
     "metadata": {},
     "output_type": "display_data"
    },
    {
     "name": "stdout",
     "output_type": "stream",
     "text": [
      "==================================================================\n"
     ]
    },
    {
     "data": {
      "text/html": [
       "<div>\n",
       "<style scoped>\n",
       "    .dataframe tbody tr th:only-of-type {\n",
       "        vertical-align: middle;\n",
       "    }\n",
       "\n",
       "    .dataframe tbody tr th {\n",
       "        vertical-align: top;\n",
       "    }\n",
       "\n",
       "    .dataframe thead th {\n",
       "        text-align: right;\n",
       "    }\n",
       "</style>\n",
       "<table border=\"1\" class=\"dataframe\">\n",
       "  <thead>\n",
       "    <tr style=\"text-align: right;\">\n",
       "      <th></th>\n",
       "      <th>customerID</th>\n",
       "      <th>MultipleLines</th>\n",
       "    </tr>\n",
       "  </thead>\n",
       "  <tbody>\n",
       "    <tr>\n",
       "      <th>0</th>\n",
       "      <td>5575-GNVDE</td>\n",
       "      <td>No</td>\n",
       "    </tr>\n",
       "    <tr>\n",
       "      <th>1</th>\n",
       "      <td>3668-QPYBK</td>\n",
       "      <td>No</td>\n",
       "    </tr>\n",
       "    <tr>\n",
       "      <th>2</th>\n",
       "      <td>9237-HQITU</td>\n",
       "      <td>No</td>\n",
       "    </tr>\n",
       "    <tr>\n",
       "      <th>3</th>\n",
       "      <td>9305-CDSKC</td>\n",
       "      <td>Yes</td>\n",
       "    </tr>\n",
       "    <tr>\n",
       "      <th>4</th>\n",
       "      <td>1452-KIOVK</td>\n",
       "      <td>Yes</td>\n",
       "    </tr>\n",
       "  </tbody>\n",
       "</table>\n",
       "</div>"
      ],
      "text/plain": [
       "   customerID MultipleLines\n",
       "0  5575-GNVDE            No\n",
       "1  3668-QPYBK            No\n",
       "2  9237-HQITU            No\n",
       "3  9305-CDSKC           Yes\n",
       "4  1452-KIOVK           Yes"
      ]
     },
     "metadata": {},
     "output_type": "display_data"
    },
    {
     "name": "stdout",
     "output_type": "stream",
     "text": [
      "<class 'pandas.core.frame.DataFrame'>\n",
      "RangeIndex: 6361 entries, 0 to 6360\n",
      "Data columns (total 2 columns):\n",
      " #   Column         Non-Null Count  Dtype \n",
      "---  ------         --------------  ----- \n",
      " 0   customerID     6361 non-null   object\n",
      " 1   MultipleLines  6361 non-null   object\n",
      "dtypes: object(2)\n",
      "memory usage: 99.5+ KB\n"
     ]
    },
    {
     "data": {
      "text/plain": [
       "Index(['customerID', 'MultipleLines'], dtype='object')"
      ]
     },
     "metadata": {},
     "output_type": "display_data"
    },
    {
     "data": {
      "text/html": [
       "<div>\n",
       "<style scoped>\n",
       "    .dataframe tbody tr th:only-of-type {\n",
       "        vertical-align: middle;\n",
       "    }\n",
       "\n",
       "    .dataframe tbody tr th {\n",
       "        vertical-align: top;\n",
       "    }\n",
       "\n",
       "    .dataframe thead th {\n",
       "        text-align: right;\n",
       "    }\n",
       "</style>\n",
       "<table border=\"1\" class=\"dataframe\">\n",
       "  <thead>\n",
       "    <tr style=\"text-align: right;\">\n",
       "      <th></th>\n",
       "      <th>customerID</th>\n",
       "      <th>MultipleLines</th>\n",
       "    </tr>\n",
       "  </thead>\n",
       "  <tbody>\n",
       "    <tr>\n",
       "      <th>count</th>\n",
       "      <td>6361</td>\n",
       "      <td>6361</td>\n",
       "    </tr>\n",
       "    <tr>\n",
       "      <th>unique</th>\n",
       "      <td>6361</td>\n",
       "      <td>2</td>\n",
       "    </tr>\n",
       "    <tr>\n",
       "      <th>top</th>\n",
       "      <td>4936-YPJNK</td>\n",
       "      <td>No</td>\n",
       "    </tr>\n",
       "    <tr>\n",
       "      <th>freq</th>\n",
       "      <td>1</td>\n",
       "      <td>3390</td>\n",
       "    </tr>\n",
       "  </tbody>\n",
       "</table>\n",
       "</div>"
      ],
      "text/plain": [
       "        customerID MultipleLines\n",
       "count         6361          6361\n",
       "unique        6361             2\n",
       "top     4936-YPJNK            No\n",
       "freq             1          3390"
      ]
     },
     "metadata": {},
     "output_type": "display_data"
    },
    {
     "name": "stdout",
     "output_type": "stream",
     "text": [
      "==================================================================\n"
     ]
    }
   ],
   "source": [
    "list_df = [contract, personal, internet, phone]\n",
    "\n",
    "for df in list_df:\n",
    "    view_df(df)\n",
    "    print('==================================================================')"
   ]
  },
  {
   "cell_type": "markdown",
   "id": "e94b8a91",
   "metadata": {},
   "source": [
    "**Вывод:** загружена и получена общая информация по датасетам: в явном виде пропуски в данных отсутствуют (требуется дополнительная проверка), названия столбцов не соответствуют \"змеиному типу\", касательно    \n",
    "датасета `contract`:\n",
    "- тип данных в столбцах `BeginDate`, `EndDate` не соответствует описанию, требуемый тип `datetime`, также отметим, что в столбце `EndDate` присутствует значение `No`, означающее, что клиент имеет действующий договор.\n",
    "- тип данных в столбце `TotalCharges` не соответствует описанию, требуемый тип `float`    \n",
    "\n",
    "датасета `personal`:\n",
    "- признак `SeniorCitizen` является категориальным, поэтому приведем тип данных в столбце для единообразия и исключения ошибок при работе моделей к типу `object` по аналогии с другими такими же столбцами\n",
    "\n",
    "Более подробный анализ, корректировка указанных замечаний, а также выявление дубликатов, аномальных значений и пр. будут произведены на следующих этапах обработки данных"
   ]
  },
  {
   "cell_type": "markdown",
   "id": "ccf73f4e",
   "metadata": {},
   "source": [
    "##  Предобработка данных"
   ]
  },
  {
   "cell_type": "markdown",
   "id": "4be57f14",
   "metadata": {},
   "source": [
    "### Корректировка названий столбцов"
   ]
  },
  {
   "cell_type": "code",
   "execution_count": 11,
   "id": "2f4a4db2",
   "metadata": {},
   "outputs": [
    {
     "name": "stdout",
     "output_type": "stream",
     "text": [
      "Index(['customer_id', 'begin_date', 'end_date', 'type', 'paperless_billing',\n",
      "       'payment_method', 'monthly_charges', 'total_charges'],\n",
      "      dtype='object') \n",
      "\n",
      "Index(['customer_id', 'gender', 'senior_citizen', 'partner', 'dependents'], dtype='object') \n",
      "\n",
      "Index(['customer_id', 'internet_service', 'online_security', 'online_backup',\n",
      "       'device_protection', 'tech_support', 'streaming_t_v',\n",
      "       'streaming_movies'],\n",
      "      dtype='object') \n",
      "\n",
      "Index(['customer_id', 'multiple_lines'], dtype='object') \n",
      "\n"
     ]
    }
   ],
   "source": [
    "for df in list_df:\n",
    "    df.columns = [re.sub(r'(?<!^)(?=[A-Z])', '_', i).lower() for i in df.columns]\n",
    "    df.rename(columns={'customer_i_d': 'customer_id'}, inplace=True)\n",
    "    print(df.columns,'\\n')\n",
    "    \n",
    "internet.rename(columns={'streaming_t_v': 'streaming_tv'}, inplace=True)"
   ]
  },
  {
   "cell_type": "markdown",
   "id": "2eaddbf3",
   "metadata": {},
   "source": [
    "### Обработка пропусков"
   ]
  },
  {
   "cell_type": "markdown",
   "id": "07248996",
   "metadata": {},
   "source": [
    "Проанализируем столбцы на их содержание и наличие пробелов в столбцах типа `object` "
   ]
  },
  {
   "cell_type": "code",
   "execution_count": 12,
   "id": "301c1101",
   "metadata": {},
   "outputs": [
    {
     "name": "stdout",
     "output_type": "stream",
     "text": [
      "Уникальные значения в столбце 'type':\n",
      " ['Month-to-month' 'One year' 'Two year']\n",
      "\n",
      "Уникальные значения в столбце 'paperless_billing':\n",
      " ['Yes' 'No']\n",
      "\n",
      "Уникальные значения в столбце 'payment_method':\n",
      " ['Electronic check' 'Mailed check' 'Bank transfer (automatic)'\n",
      " 'Credit card (automatic)']\n",
      "\n",
      "Уникальные значения в столбце 'gender':\n",
      " ['Female' 'Male']\n",
      "\n",
      "Уникальные значения в столбце 'partner':\n",
      " ['Yes' 'No']\n",
      "\n",
      "Уникальные значения в столбце 'dependents':\n",
      " ['No' 'Yes']\n",
      "\n",
      "Уникальные значения в столбце 'internet_service':\n",
      " ['DSL' 'Fiber optic']\n",
      "\n",
      "Уникальные значения в столбце 'online_security':\n",
      " ['No' 'Yes']\n",
      "\n",
      "Уникальные значения в столбце 'online_backup':\n",
      " ['Yes' 'No']\n",
      "\n",
      "Уникальные значения в столбце 'device_protection':\n",
      " ['No' 'Yes']\n",
      "\n",
      "Уникальные значения в столбце 'tech_support':\n",
      " ['No' 'Yes']\n",
      "\n",
      "Уникальные значения в столбце 'streaming_tv':\n",
      " ['No' 'Yes']\n",
      "\n",
      "Уникальные значения в столбце 'streaming_movies':\n",
      " ['No' 'Yes']\n",
      "\n",
      "Уникальные значения в столбце 'multiple_lines':\n",
      " ['No' 'Yes']\n",
      "\n"
     ]
    }
   ],
   "source": [
    "for df in list_df:\n",
    "    for column in df.select_dtypes(exclude=[np.number]).columns.values:\n",
    "        if column not in ['customer_id', 'begin_date', 'end_date', 'total_charges']:\n",
    "            print(f\"Уникальные значения в столбце '{column}':\\n {df[column].unique()}\")\n",
    "            print()"
   ]
  },
  {
   "cell_type": "code",
   "execution_count": 13,
   "id": "992fdd11",
   "metadata": {},
   "outputs": [
    {
     "name": "stdout",
     "output_type": "stream",
     "text": [
      "Столбец 'customer_id':0\n",
      "Столбец 'begin_date':0\n",
      "Столбец 'end_date':0\n",
      "Столбец 'type':0\n",
      "Столбец 'paperless_billing':0\n",
      "Столбец 'payment_method':0\n",
      "Столбец 'total_charges':11\n",
      "Столбец 'customer_id':0\n",
      "Столбец 'gender':0\n",
      "Столбец 'partner':0\n",
      "Столбец 'dependents':0\n",
      "Столбец 'customer_id':0\n",
      "Столбец 'internet_service':0\n",
      "Столбец 'online_security':0\n",
      "Столбец 'online_backup':0\n",
      "Столбец 'device_protection':0\n",
      "Столбец 'tech_support':0\n",
      "Столбец 'streaming_tv':0\n",
      "Столбец 'streaming_movies':0\n",
      "Столбец 'customer_id':0\n",
      "Столбец 'multiple_lines':0\n"
     ]
    }
   ],
   "source": [
    "for df in list_df:  \n",
    "    for column in df.select_dtypes(exclude=[np.number, np.datetime64]).columns.values:\n",
    "        print(f\"Столбец '{column}':{len(df[df[column] == ' '])}\") "
   ]
  },
  {
   "cell_type": "markdown",
   "id": "a0f8b46d",
   "metadata": {},
   "source": [
    "Из анализа видно, что с содержанием столбцов все в порядке, за исключением столбца `total_charges`, в котором имеется 11 пропусков, из-за которых он и имеет некорректный тип. Рассмотрим строки, в которых иеются данные пропуски"
   ]
  },
  {
   "cell_type": "code",
   "execution_count": 14,
   "id": "8426071a",
   "metadata": {},
   "outputs": [
    {
     "data": {
      "text/html": [
       "<div>\n",
       "<style scoped>\n",
       "    .dataframe tbody tr th:only-of-type {\n",
       "        vertical-align: middle;\n",
       "    }\n",
       "\n",
       "    .dataframe tbody tr th {\n",
       "        vertical-align: top;\n",
       "    }\n",
       "\n",
       "    .dataframe thead th {\n",
       "        text-align: right;\n",
       "    }\n",
       "</style>\n",
       "<table border=\"1\" class=\"dataframe\">\n",
       "  <thead>\n",
       "    <tr style=\"text-align: right;\">\n",
       "      <th></th>\n",
       "      <th>customer_id</th>\n",
       "      <th>begin_date</th>\n",
       "      <th>end_date</th>\n",
       "      <th>type</th>\n",
       "      <th>paperless_billing</th>\n",
       "      <th>payment_method</th>\n",
       "      <th>monthly_charges</th>\n",
       "      <th>total_charges</th>\n",
       "    </tr>\n",
       "  </thead>\n",
       "  <tbody>\n",
       "    <tr>\n",
       "      <th>488</th>\n",
       "      <td>4472-LVYGI</td>\n",
       "      <td>2020-02-01</td>\n",
       "      <td>No</td>\n",
       "      <td>Two year</td>\n",
       "      <td>Yes</td>\n",
       "      <td>Bank transfer (automatic)</td>\n",
       "      <td>52.55</td>\n",
       "      <td></td>\n",
       "    </tr>\n",
       "    <tr>\n",
       "      <th>753</th>\n",
       "      <td>3115-CZMZD</td>\n",
       "      <td>2020-02-01</td>\n",
       "      <td>No</td>\n",
       "      <td>Two year</td>\n",
       "      <td>No</td>\n",
       "      <td>Mailed check</td>\n",
       "      <td>20.25</td>\n",
       "      <td></td>\n",
       "    </tr>\n",
       "    <tr>\n",
       "      <th>936</th>\n",
       "      <td>5709-LVOEQ</td>\n",
       "      <td>2020-02-01</td>\n",
       "      <td>No</td>\n",
       "      <td>Two year</td>\n",
       "      <td>No</td>\n",
       "      <td>Mailed check</td>\n",
       "      <td>80.85</td>\n",
       "      <td></td>\n",
       "    </tr>\n",
       "    <tr>\n",
       "      <th>1082</th>\n",
       "      <td>4367-NUYAO</td>\n",
       "      <td>2020-02-01</td>\n",
       "      <td>No</td>\n",
       "      <td>Two year</td>\n",
       "      <td>No</td>\n",
       "      <td>Mailed check</td>\n",
       "      <td>25.75</td>\n",
       "      <td></td>\n",
       "    </tr>\n",
       "    <tr>\n",
       "      <th>1340</th>\n",
       "      <td>1371-DWPAZ</td>\n",
       "      <td>2020-02-01</td>\n",
       "      <td>No</td>\n",
       "      <td>Two year</td>\n",
       "      <td>No</td>\n",
       "      <td>Credit card (automatic)</td>\n",
       "      <td>56.05</td>\n",
       "      <td></td>\n",
       "    </tr>\n",
       "    <tr>\n",
       "      <th>3331</th>\n",
       "      <td>7644-OMVMY</td>\n",
       "      <td>2020-02-01</td>\n",
       "      <td>No</td>\n",
       "      <td>Two year</td>\n",
       "      <td>No</td>\n",
       "      <td>Mailed check</td>\n",
       "      <td>19.85</td>\n",
       "      <td></td>\n",
       "    </tr>\n",
       "    <tr>\n",
       "      <th>3826</th>\n",
       "      <td>3213-VVOLG</td>\n",
       "      <td>2020-02-01</td>\n",
       "      <td>No</td>\n",
       "      <td>Two year</td>\n",
       "      <td>No</td>\n",
       "      <td>Mailed check</td>\n",
       "      <td>25.35</td>\n",
       "      <td></td>\n",
       "    </tr>\n",
       "    <tr>\n",
       "      <th>4380</th>\n",
       "      <td>2520-SGTTA</td>\n",
       "      <td>2020-02-01</td>\n",
       "      <td>No</td>\n",
       "      <td>Two year</td>\n",
       "      <td>No</td>\n",
       "      <td>Mailed check</td>\n",
       "      <td>20.00</td>\n",
       "      <td></td>\n",
       "    </tr>\n",
       "    <tr>\n",
       "      <th>5218</th>\n",
       "      <td>2923-ARZLG</td>\n",
       "      <td>2020-02-01</td>\n",
       "      <td>No</td>\n",
       "      <td>One year</td>\n",
       "      <td>Yes</td>\n",
       "      <td>Mailed check</td>\n",
       "      <td>19.70</td>\n",
       "      <td></td>\n",
       "    </tr>\n",
       "    <tr>\n",
       "      <th>6670</th>\n",
       "      <td>4075-WKNIU</td>\n",
       "      <td>2020-02-01</td>\n",
       "      <td>No</td>\n",
       "      <td>Two year</td>\n",
       "      <td>No</td>\n",
       "      <td>Mailed check</td>\n",
       "      <td>73.35</td>\n",
       "      <td></td>\n",
       "    </tr>\n",
       "    <tr>\n",
       "      <th>6754</th>\n",
       "      <td>2775-SEFEE</td>\n",
       "      <td>2020-02-01</td>\n",
       "      <td>No</td>\n",
       "      <td>Two year</td>\n",
       "      <td>Yes</td>\n",
       "      <td>Bank transfer (automatic)</td>\n",
       "      <td>61.90</td>\n",
       "      <td></td>\n",
       "    </tr>\n",
       "  </tbody>\n",
       "</table>\n",
       "</div>"
      ],
      "text/plain": [
       "     customer_id  begin_date end_date      type paperless_billing  \\\n",
       "488   4472-LVYGI  2020-02-01       No  Two year               Yes   \n",
       "753   3115-CZMZD  2020-02-01       No  Two year                No   \n",
       "936   5709-LVOEQ  2020-02-01       No  Two year                No   \n",
       "1082  4367-NUYAO  2020-02-01       No  Two year                No   \n",
       "1340  1371-DWPAZ  2020-02-01       No  Two year                No   \n",
       "3331  7644-OMVMY  2020-02-01       No  Two year                No   \n",
       "3826  3213-VVOLG  2020-02-01       No  Two year                No   \n",
       "4380  2520-SGTTA  2020-02-01       No  Two year                No   \n",
       "5218  2923-ARZLG  2020-02-01       No  One year               Yes   \n",
       "6670  4075-WKNIU  2020-02-01       No  Two year                No   \n",
       "6754  2775-SEFEE  2020-02-01       No  Two year               Yes   \n",
       "\n",
       "                 payment_method  monthly_charges total_charges  \n",
       "488   Bank transfer (automatic)            52.55                \n",
       "753                Mailed check            20.25                \n",
       "936                Mailed check            80.85                \n",
       "1082               Mailed check            25.75                \n",
       "1340    Credit card (automatic)            56.05                \n",
       "3331               Mailed check            19.85                \n",
       "3826               Mailed check            25.35                \n",
       "4380               Mailed check            20.00                \n",
       "5218               Mailed check            19.70                \n",
       "6670               Mailed check            73.35                \n",
       "6754  Bank transfer (automatic)            61.90                "
      ]
     },
     "execution_count": 14,
     "metadata": {},
     "output_type": "execute_result"
    }
   ],
   "source": [
    "contract[contract['total_charges'] == ' ']"
   ]
  },
  {
   "cell_type": "markdown",
   "id": "979debc5",
   "metadata": {},
   "source": [
    "Все указаннные пропуски имеются у клиентов с договорами, начало действия которых приходится на 1 февраля 2020 года. По всей видимости, на момент выгрузки договоров, общие расходы по клиенту еще не успели сформироваться, поэтому заполним эти пропуски соответствующими данными по месячным расходам."
   ]
  },
  {
   "cell_type": "code",
   "execution_count": 15,
   "id": "004a4f5a",
   "metadata": {},
   "outputs": [
    {
     "data": {
      "text/plain": [
       "0"
      ]
     },
     "execution_count": 15,
     "metadata": {},
     "output_type": "execute_result"
    }
   ],
   "source": [
    "contract['total_charges'] = np.where(contract['total_charges'] == ' ', \n",
    "                                     contract['monthly_charges'], contract['total_charges'])\n",
    "\n",
    "len(contract[contract['total_charges'] == ' '])"
   ]
  },
  {
   "cell_type": "markdown",
   "id": "f2a1fe98",
   "metadata": {},
   "source": [
    "### Изменение типа столбцов"
   ]
  },
  {
   "cell_type": "markdown",
   "id": "608d6e55",
   "metadata": {},
   "source": [
    "Изменим тип данных в столбцах `begin_date`, `total_charges`, `senior_citizen` на *datetime*, *float* и *object* соответственно"
   ]
  },
  {
   "cell_type": "code",
   "execution_count": 16,
   "id": "e1e4925f",
   "metadata": {},
   "outputs": [],
   "source": [
    "contract['begin_date'] = pd.to_datetime(contract['begin_date'], format='%Y-%m-%d')\n",
    "contract['total_charges'] = contract['total_charges'].astype(float)\n",
    "personal['senior_citizen'] = personal['senior_citizen'].replace({1: 'Yes', 0: 'No'})"
   ]
  },
  {
   "cell_type": "markdown",
   "id": "a8f7e989",
   "metadata": {},
   "source": [
    "### Обработка явных дубликатов"
   ]
  },
  {
   "cell_type": "code",
   "execution_count": 17,
   "id": "b13ce040",
   "metadata": {},
   "outputs": [
    {
     "name": "stdout",
     "output_type": "stream",
     "text": [
      "Количество дубликатов в датасете - contract: 0\n",
      "Количество дубликатов в датасете - personal: 0\n",
      "Количество дубликатов в датасете - internet: 0\n",
      "Количество дубликатов в датасете - phone: 0\n"
     ]
    }
   ],
   "source": [
    "names = ['contract', 'personal', 'internet', 'phone']\n",
    "\n",
    "for name, df in zip(names, list_df):\n",
    "    print(f'Количество дубликатов в датасете - {name}: {df.duplicated().sum()}')"
   ]
  },
  {
   "cell_type": "markdown",
   "id": "1bf304e5",
   "metadata": {},
   "source": [
    "**Вывод:** по результатам предобработки данных названия столбцов были приведены к \"змеиному типу\", заполнены пропуски в столбце `total_charges` соответствующими данными по месячным расходам клиента. Изменены типы данных в столбцах  `begin_date`, `total_charges`, `senior_citizen` на *datetime*, *float* и *object* соответственно. Обработку типа и данных в столбце `end_date` произведем на этапе №4 при создании новых признаков."
   ]
  },
  {
   "cell_type": "markdown",
   "id": "3f25b594",
   "metadata": {},
   "source": [
    "##  Объединение данных"
   ]
  },
  {
   "cell_type": "markdown",
   "id": "08f84e3b",
   "metadata": {},
   "source": [
    "Объединим все признаки в один датафрейм"
   ]
  },
  {
   "cell_type": "code",
   "execution_count": 18,
   "id": "de6fca31",
   "metadata": {},
   "outputs": [],
   "source": [
    "for df in list_df: \n",
    "    df.set_index('customer_id', inplace=True)\n",
    "\n",
    "df = contract.join(personal)\n",
    "df = df.join(internet).fillna(\"no_internet\")\n",
    "df = df.join(phone).fillna(\"no_phone\")"
   ]
  },
  {
   "cell_type": "code",
   "execution_count": 19,
   "id": "7a104794",
   "metadata": {},
   "outputs": [
    {
     "data": {
      "text/plain": [
       "(7043, 19)"
      ]
     },
     "metadata": {},
     "output_type": "display_data"
    },
    {
     "data": {
      "text/plain": [
       "begin_date           0\n",
       "end_date             0\n",
       "type                 0\n",
       "paperless_billing    0\n",
       "payment_method       0\n",
       "monthly_charges      0\n",
       "total_charges        0\n",
       "gender               0\n",
       "senior_citizen       0\n",
       "partner              0\n",
       "dependents           0\n",
       "internet_service     0\n",
       "online_security      0\n",
       "online_backup        0\n",
       "device_protection    0\n",
       "tech_support         0\n",
       "streaming_tv         0\n",
       "streaming_movies     0\n",
       "multiple_lines       0\n",
       "dtype: int64"
      ]
     },
     "execution_count": 19,
     "metadata": {},
     "output_type": "execute_result"
    }
   ],
   "source": [
    "display(df.shape)\n",
    "df.isna().sum()"
   ]
  },
  {
   "cell_type": "markdown",
   "id": "555eeeac",
   "metadata": {},
   "source": [
    "Размерность датасета после объединения и отсутствие пропусков соответствуют ожиданиям"
   ]
  },
  {
   "cell_type": "markdown",
   "id": "01bc1651",
   "metadata": {},
   "source": [
    "## Исследовательский анализ данных"
   ]
  },
  {
   "cell_type": "markdown",
   "id": "f5606ce8",
   "metadata": {},
   "source": [
    "### Создание новых признаков"
   ]
  },
  {
   "cell_type": "markdown",
   "id": "28b41ead",
   "metadata": {},
   "source": [
    "Сформируем целевой признак в целях дальнейшего обучения моделей, для этот добавим новый столбец `quit`, где \"0\" будет обозначать, что клиент имеет действующий договор и \"1\" договор закрыт, клиент больше не пользуется услугами."
   ]
  },
  {
   "cell_type": "code",
   "execution_count": 20,
   "id": "bd769a10",
   "metadata": {},
   "outputs": [],
   "source": [
    "df['quit'] = np.where(df['end_date'] == 'No', 0, 1)"
   ]
  },
  {
   "cell_type": "code",
   "execution_count": 21,
   "id": "ca0f510e",
   "metadata": {
    "scrolled": true
   },
   "outputs": [
    {
     "name": "stdout",
     "output_type": "stream",
     "text": [
      "5942\n"
     ]
    },
    {
     "data": {
      "text/plain": [
       "5942"
      ]
     },
     "execution_count": 21,
     "metadata": {},
     "output_type": "execute_result"
    }
   ],
   "source": [
    "# проверка верности формирования quit\n",
    "print(df['end_date'].value_counts()['No'])\n",
    "df['quit'].value_counts()[0]"
   ]
  },
  {
   "cell_type": "markdown",
   "id": "7d202c4d",
   "metadata": {},
   "source": [
    "В связи с тем, что признаки `begin_date` и `end_date` не являются информативными для предсказания ухода клиента, заменим их одним признаком - длительностью действия договора в днях. Для расчета длительности по действующим договорам примем дату окончания их действия за 1 февраля 2020 года - дату, на которую актуальна информация о договорах. Длительность действия договора рассчитаем как разницу между `end_date` и  `begin_date`."
   ]
  },
  {
   "cell_type": "code",
   "execution_count": 22,
   "id": "565f15f3",
   "metadata": {},
   "outputs": [],
   "source": [
    "# обрабатываем столбец end_date\n",
    "df['end_date'] = np.where(df['end_date'] == 'No', '2020-02-01', df['end_date'])\n",
    "df['end_date'] = pd.to_datetime(df['end_date'], format='%Y-%m-%d')\n",
    "\n",
    "# формируем новый столбец duration и удаляем begin_date и end_date\n",
    "df['duration'] = (df['end_date'] - df['begin_date']).dt.days.astype(int)\n",
    "df = df.drop(['begin_date', 'end_date'], axis=1)"
   ]
  },
  {
   "cell_type": "markdown",
   "id": "411105a5",
   "metadata": {},
   "source": [
    "### Cтатистический анализ количественных признаков"
   ]
  },
  {
   "cell_type": "markdown",
   "id": "54f3c96c",
   "metadata": {},
   "source": [
    "Выделим количественные и категориальные признаки"
   ]
  },
  {
   "cell_type": "code",
   "execution_count": 23,
   "id": "59074c03",
   "metadata": {},
   "outputs": [
    {
     "name": "stdout",
     "output_type": "stream",
     "text": [
      "Количественные признаки: ['monthly_charges', 'total_charges', 'duration'] \n",
      "\n",
      "Категориальные признаки: ['type', 'paperless_billing', 'payment_method', 'gender', 'senior_citizen', 'partner', 'dependents', 'internet_service', 'online_security', 'online_backup', 'device_protection', 'tech_support', 'streaming_tv', 'streaming_movies', 'multiple_lines'] \n",
      "\n",
      "Итого: 18\n"
     ]
    }
   ],
   "source": [
    "num_col = [col for col in df.select_dtypes(include='number').columns if col != 'quit']\n",
    "cat_col = df.select_dtypes(exclude='number').columns.tolist()\n",
    "\n",
    "print('Количественные признаки:', num_col, '\\n')\n",
    "print('Категориальные признаки:', cat_col, '\\n')\n",
    "print('Итого:', len(num_col + cat_col))"
   ]
  },
  {
   "cell_type": "code",
   "execution_count": 24,
   "id": "3f7f514a",
   "metadata": {},
   "outputs": [
    {
     "data": {
      "image/png": "[encoded data removed]",
      "text/plain": [
       "<Figure size 720x360 with 2 Axes>"
      ]
     },
     "metadata": {
      "needs_background": "light"
     },
     "output_type": "display_data"
    },
    {
     "data": {
      "text/plain": [
       "count    7043.000000\n",
       "mean       64.761692\n",
       "std        30.090047\n",
       "min        18.250000\n",
       "25%        35.500000\n",
       "50%        70.350000\n",
       "75%        89.850000\n",
       "max       118.750000\n",
       "Name: monthly_charges, dtype: float64"
      ]
     },
     "metadata": {},
     "output_type": "display_data"
    },
    {
     "data": {
      "image/png": "[encoded data removed]",
      "text/plain": [
       "<Figure size 720x360 with 2 Axes>"
      ]
     },
     "metadata": {
      "needs_background": "light"
     },
     "output_type": "display_data"
    },
    {
     "data": {
      "text/plain": [
       "count    7043.000000\n",
       "mean     2115.377573\n",
       "std      2112.678861\n",
       "min        19.050000\n",
       "25%       436.750000\n",
       "50%      1343.350000\n",
       "75%      3236.690000\n",
       "max      9221.380000\n",
       "Name: total_charges, dtype: float64"
      ]
     },
     "metadata": {},
     "output_type": "display_data"
    },
    {
     "data": {
      "image/png": "[encoded data removed]",
      "text/plain": [
       "<Figure size 720x360 with 2 Axes>"
      ]
     },
     "metadata": {
      "needs_background": "light"
     },
     "output_type": "display_data"
    },
    {
     "data": {
      "text/plain": [
       "count    7043.000000\n",
       "mean      898.555729\n",
       "std       683.130510\n",
       "min         0.000000\n",
       "25%       276.000000\n",
       "50%       761.000000\n",
       "75%      1461.000000\n",
       "max      2314.000000\n",
       "Name: duration, dtype: float64"
      ]
     },
     "metadata": {},
     "output_type": "display_data"
    }
   ],
   "source": [
    "histbox_plot(df, num_col)"
   ]
  },
  {
   "cell_type": "markdown",
   "id": "29f52d0e-e311-43d4-8333-ade15b3577fa",
   "metadata": {},
   "source": [
    "Из диаграмм и таблиц видно, что редкие значения в количественных признаках `total_charges` и `duration` присутствуют, имеются клиенты с большой длительностью договора и высокими общими расходами, при этом аномальные значения не наблюдаются. Признаки  имеют явно ненормальное распределение: смещение вершин к границам диапазона, несколько вершин, учтем это при выборе инструмента для корреляционного анализа данных."
   ]
  },
  {
   "cell_type": "markdown",
   "id": "8cd07d8c",
   "metadata": {},
   "source": [
    "### Cтатистический анализ категориальных признаков"
   ]
  },
  {
   "cell_type": "code",
   "execution_count": 25,
   "id": "afb73974",
   "metadata": {},
   "outputs": [
    {
     "data": {
      "image/png": "[encoded data removed]",
      "text/plain": [
       "<Figure size 864x1296 with 15 Axes>"
      ]
     },
     "metadata": {},
     "output_type": "display_data"
    }
   ],
   "source": [
    "pie_plot(df, cat_col)"
   ]
  },
  {
   "cell_type": "markdown",
   "id": "44252bad-de8c-472a-bad2-03ef1d71edf9",
   "metadata": {},
   "source": [
    "Из диаграмм получаем следующую информацию о клиентах:\n",
    "- женщин/мужчин, имеющих/не имеющих супругу (супруга) примерно поровну\n",
    "- имеются дети у 30%, пенсионеры составляют 16%\n",
    "- большинство оплачивает услуги ежемесячно\n",
    "- большинство предпочитает электронный расчётный лист\n",
    "- 34% клиентов совершают платеж на основе электронного чека, остальные типы платежей по почте, банковским переводом и кредитной картой, занимают примерно одинаковый объем платежей (22-23%)\n",
    "- бОльшая часть клиентов использует оптоволоконный кабель для подключения интернета\n",
    "- большинство пользователей не пользуются услугами: блокировка опасных сайтов, облачное хранилище файлов, антивирус, выделенная линия технической поддержки\n",
    "- стриминговым телевидением и каталогом фильмов пользуется примерно половина клиентов\n",
    "- немногим менее половины испоользует подключение телефона к нескольким линиям одновременно\n",
    "- из представленной выборки 22% клиентов не пользуется услугами интернета, а 10% не пользуется услугами телефонии"
   ]
  },
  {
   "cell_type": "markdown",
   "id": "99126714",
   "metadata": {},
   "source": [
    "### Корреляционный анализ данных"
   ]
  },
  {
   "cell_type": "markdown",
   "id": "b2c2784a-2774-4853-9ae1-6acc8e39769d",
   "metadata": {},
   "source": [
    "В связи с тем, что данные смешанные и признаки не имеют нормального распределения, для корреляционного анализа используем матрицу Phik, которая устойчива к ненормальному распределению, позволяет учитывать нелинейные зависимости и работает с различными типами признаков"
   ]
  },
  {
   "cell_type": "code",
   "execution_count": 26,
   "id": "59401946",
   "metadata": {},
   "outputs": [
    {
     "data": {
      "image/png": "[encoded data removed]",
      "text/plain": [
       "<Figure size 864x432 with 2 Axes>"
      ]
     },
     "metadata": {
      "needs_background": "light"
     },
     "output_type": "display_data"
    }
   ],
   "source": [
    "phik_matrix_(df, num_col)"
   ]
  },
  {
   "cell_type": "markdown",
   "id": "14630196-7691-4a23-a5ad-676fc64d140e",
   "metadata": {},
   "source": [
    "Из матрицы корреляции видно, что мультиколлинеарность наблюдается между всеми признаками датасета с информацией об интернет-услугах. Исключим все указанные признаки, кроме одного `internet_service`. У признака `gender` отсутствует корреляция со всеми признаками, также исключим его  для дальнейшего обучения моделей. Признаки `monthly_charges` и `total_charges` рассчитываются один через другого. С учетом того, что динамики изменения ежемесячных расходов в датасете не представлено и имеется лишь общий срок действия договора, а также, что теснота связи целевого признака выше с `total_charges`, из данных двух признаков оставим для дальнейшего обучения модели только признак `total_charges`."
   ]
  },
  {
   "cell_type": "code",
   "execution_count": 27,
   "id": "c683ea9b-a515-4db3-bf33-5df05a08d137",
   "metadata": {},
   "outputs": [],
   "source": [
    "df = df.drop(['online_security', 'online_backup', 'device_protection',\n",
    "         'tech_support', 'streaming_tv', 'streaming_movies', 'gender', 'monthly_charges'], axis=1)"
   ]
  },
  {
   "cell_type": "code",
   "execution_count": 28,
   "id": "88e912ea-2ce9-4455-ac56-bfb964cffec8",
   "metadata": {},
   "outputs": [
    {
     "data": {
      "image/png": "[encoded data removed]",
      "text/plain": [
       "<Figure size 864x432 with 2 Axes>"
      ]
     },
     "metadata": {
      "needs_background": "light"
     },
     "output_type": "display_data"
    }
   ],
   "source": [
    "phik_matrix_(df, num_col)"
   ]
  },
  {
   "cell_type": "markdown",
   "id": "f0c4a1f8-14ff-4ed2-bc35-d3db9ef01aa0",
   "metadata": {},
   "source": [
    "**Вывод:** из анализа матрицы видно, что мультиколлинеарность в данных отсутствует,    \n",
    "при этом у целевого признака `quit` имеется:\n",
    "- умеренная теснота связи с признаками `duration` и `total_charges`, с остальными признаками наблюдается слабая связь или ее отсутствие.\n",
    "\n",
    "По другим признакам наблюдается:\n",
    "- высокая теснота связи между признаками `total_charges` и `duration`, т.е чем дольше пользователь оставался клиентом компании, тем больше его общие расходы, между признаками `multiple_lines` и `internet_service`, что видимо характеризует продвинутых пользователей в части телефонии и интернета\n",
    "- заметная теснота связи между признаком `type` и признаками `duration`, `internet_service`. Признаками `partner` и `dependents`, что весьма логично.\n",
    "\n",
    "По остальным признакам наблюдается по большей части слабая связь или ее отсутствие"
   ]
  },
  {
   "cell_type": "markdown",
   "id": "f066c270",
   "metadata": {},
   "source": [
    "### Проверка на дисбаланс классов"
   ]
  },
  {
   "cell_type": "code",
   "execution_count": 29,
   "id": "e24cc81e",
   "metadata": {},
   "outputs": [
    {
     "data": {
      "image/png": "[encoded data removed]",
      "text/plain": [
       "<Figure size 864x1296 with 1 Axes>"
      ]
     },
     "metadata": {},
     "output_type": "display_data"
    }
   ],
   "source": [
    "pie_plot(df, ['quit'])"
   ]
  },
  {
   "cell_type": "markdown",
   "id": "64cc530d-e50a-46ab-babe-a5928179270c",
   "metadata": {},
   "source": [
    "Из диаграммы видно, что дисбаланс классов присутствует, 16% от общего количества клиентов ушли из компании против 84% клиентов, которые имеют действующие договора. В связи с дисбалансом, в качестве метрики выберем `ROC-AUC` - всеохватывающую метрику качества классификации, которая не чувствительна к дисбалансу классов и учитывает работу модели при всех возможных значениях порогов и поэтому не зависит от одного конкретного."
   ]
  },
  {
   "cell_type": "markdown",
   "id": "f35d013e",
   "metadata": {},
   "source": [
    "## Подготовка данных"
   ]
  },
  {
   "cell_type": "markdown",
   "id": "76c2b5d6-2bf6-4039-a6d1-e6ba11c5f3d3",
   "metadata": {},
   "source": [
    "### Обработка неявных дубликатов"
   ]
  },
  {
   "cell_type": "markdown",
   "id": "bf5a1a8a-d49e-497e-ad6f-279e2ecec858",
   "metadata": {},
   "source": [
    "В связи с тем, что на  этапе исследовательского анализа был удален ряд признаков, проверим наличие неявных дубликатов в объединенном датасете, т.е без учета признака `customer_id`"
   ]
  },
  {
   "cell_type": "code",
   "execution_count": 30,
   "id": "e5be83c5-1c34-4492-9718-16bf0ca194b9",
   "metadata": {},
   "outputs": [
    {
     "name": "stdout",
     "output_type": "stream",
     "text": [
      "Количество дубликатов в датасете: 16\n"
     ]
    }
   ],
   "source": [
    "print('Количество дубликатов в датасете:', df.duplicated().sum())"
   ]
  },
  {
   "cell_type": "markdown",
   "id": "d63ed961-51ec-4343-8511-8207141db49e",
   "metadata": {},
   "source": [
    "Имеем 16 дубликатов, которые не несут новой информации, т.е. излишне заполняют собой пространство данных, соответственно избыточно перегружают модель и возможно могут навредить обучению модели. Удалим дубликаты"
   ]
  },
  {
   "cell_type": "code",
   "execution_count": 31,
   "id": "a34478b7-dbbd-45a6-9182-f2192a716ecf",
   "metadata": {},
   "outputs": [
    {
     "data": {
      "text/plain": [
       "(7027, 11)"
      ]
     },
     "execution_count": 31,
     "metadata": {},
     "output_type": "execute_result"
    }
   ],
   "source": [
    "df = df.drop_duplicates()\n",
    "df.shape"
   ]
  },
  {
   "cell_type": "markdown",
   "id": "b1b6a751-939f-4fe6-9939-fdd5e526631d",
   "metadata": {},
   "source": [
    "### Формирование тренировочной и тестовой выборки"
   ]
  },
  {
   "cell_type": "markdown",
   "id": "297649f4",
   "metadata": {},
   "source": [
    "Разобъем данные на тренировочную и тестовую выборки в соотношении 75/25"
   ]
  },
  {
   "cell_type": "code",
   "execution_count": 32,
   "id": "a90ba4f4",
   "metadata": {},
   "outputs": [
    {
     "name": "stdout",
     "output_type": "stream",
     "text": [
      "(5270, 10) (1757, 10)\n"
     ]
    }
   ],
   "source": [
    "X_train, X_test, y_train, y_test = train_test_split(\n",
    "    df.drop(['quit'], axis=1),\n",
    "    df['quit'],\n",
    "    test_size = TEST_SIZE, \n",
    "    random_state = RANDOM_STATE,\n",
    "    stratify = df['quit'])\n",
    "\n",
    "print(X_train.shape, X_test.shape)"
   ]
  },
  {
   "cell_type": "code",
   "execution_count": 33,
   "id": "d11ee8d7-36a9-42e5-9ed5-8ed45bb06b44",
   "metadata": {},
   "outputs": [
    {
     "data": {
      "text/plain": [
       "['total_charges', 'duration']"
      ]
     },
     "execution_count": 33,
     "metadata": {},
     "output_type": "execute_result"
    }
   ],
   "source": [
    "num_col = [col for col in df.select_dtypes(include='number').columns if col != 'quit']\n",
    "num_col"
   ]
  },
  {
   "cell_type": "code",
   "execution_count": 34,
   "id": "16ef6f7f-5d90-4432-833d-b3770572dcfe",
   "metadata": {},
   "outputs": [
    {
     "data": {
      "text/plain": [
       "['type',\n",
       " 'paperless_billing',\n",
       " 'payment_method',\n",
       " 'senior_citizen',\n",
       " 'partner',\n",
       " 'dependents',\n",
       " 'internet_service',\n",
       " 'multiple_lines']"
      ]
     },
     "execution_count": 34,
     "metadata": {},
     "output_type": "execute_result"
    }
   ],
   "source": [
    "cat_col = df.select_dtypes(exclude='number').columns.tolist()\n",
    "cat_col"
   ]
  },
  {
   "cell_type": "markdown",
   "id": "c920b188",
   "metadata": {},
   "source": [
    "## Обучение моделей"
   ]
  },
  {
   "cell_type": "markdown",
   "id": "c817484a",
   "metadata": {},
   "source": [
    "Для подбора модели будем использовать один общий пайплайн для всех моделей и инструмент подбора гиперпараметров `GridSearchCV`. Выбор лучшей модели будет осуществляться на основе метрики — `ROC-AUC`\n",
    "\n",
    "В рамках пайплайна использовались следующие инструменты:    \n",
    "\n",
    "для кодирования категориальных признаков:\n",
    "- OneHotEncoder \n",
    "\n",
    "для масштабирования количественных признаков:\n",
    "- StandardScaler, MinMaxScaler, без масштабирования\n",
    "\n",
    "типы методов:\n",
    "- LogisticRegression, KNeighborsClassifier, SVC, RandomForestClassifier, LGBMClassifier,  CatBoostClassifier со своими настройками гиперпараметров\n",
    "\n",
    "Для удобства и сокращения времени проверки на ревью, путем проведения серии обучения моделей с подбором гиперпараметров, был определен диапазон их оптимальных значений, который отражен в приведенном ниже пайплайне."
   ]
  },
  {
   "cell_type": "code",
   "execution_count": 35,
   "id": "02d56940",
   "metadata": {},
   "outputs": [],
   "source": [
    "# создаём списки с названиями признаков\n",
    "ohe_columns = cat_col\n",
    "num_columns = num_col\n",
    "\n",
    "# создаём пайплайн для подготовки признаков из списка ohe_columns\n",
    "ohe_pipe = Pipeline(\n",
    "    [('simpleImputer_ohe', SimpleImputer(missing_values=np.nan, strategy='most_frequent')),\n",
    "     ('ohe', OneHotEncoder(drop='first', handle_unknown='ignore', sparse_output=False))\n",
    "    ]\n",
    "    )\n",
    "\n",
    "# создаём общий пайплайн для подготовки данных\n",
    "data_preprocessor = ColumnTransformer(\n",
    "    [('ohe', ohe_pipe, ohe_columns),\n",
    "     ('num', StandardScaler(), num_columns)\n",
    "    ], \n",
    "    remainder='passthrough'\n",
    ")\n",
    "\n",
    "# создаём итоговый пайплайн: подготовка данных и модель\n",
    "pipe_final = Pipeline([\n",
    "    ('preprocessor', data_preprocessor),\n",
    "    ('models', None)\n",
    "])\n",
    "\n",
    "param_grid = [\n",
    "    \n",
    "    # словарь для модели LogisticRegression()\n",
    "    {\n",
    "        'models': [LogisticRegression(random_state=RANDOM_STATE, class_weight='balanced')],\n",
    "        'models__C': [10, 15, 20],\n",
    "        'models__solver': ['saga', 'lbfgs', 'liblinear'],\n",
    "        'preprocessor__num': [StandardScaler(), MinMaxScaler(), 'passthrough']\n",
    "    },\n",
    "       \n",
    "    # словарь для модели KNeighborsClassifier() \n",
    "    {\n",
    "        'models': [KNeighborsClassifier()],\n",
    "        'models__n_neighbors':[40, 50, 60],\n",
    "        'preprocessor__num': [StandardScaler(), MinMaxScaler(), 'passthrough']\n",
    "    },\n",
    "    \n",
    "    #словарь для модели SVC()\n",
    "    {\n",
    "        'models': [SVC(probability=True, class_weight='balanced', random_state=RANDOM_STATE)],\n",
    "        'models__kernel': ['rbf','sigmoid'],\n",
    "        'models__degree':[1],\n",
    "        'models__C': [1],\n",
    "        'models__gamma': [0.1],\n",
    "        'preprocessor__num': [StandardScaler(), MinMaxScaler()]\n",
    "    },\n",
    "\n",
    "    #словарь для модели RandomForestClassifier()\n",
    "    {\n",
    "        'models': [RandomForestClassifier(class_weight='balanced', random_state=RANDOM_STATE)],\n",
    "        'models__max_depth': [5, 10],\n",
    "        'models__min_samples_leaf': [7, 10],\n",
    "        'models__min_samples_split': [3],\n",
    "        'models__max_features': [5, 12],\n",
    "        'models__n_estimators': [50]\n",
    "    },\n",
    "\n",
    "     # словарь для модели LGBMClassifier\n",
    "    {\n",
    "        'models': [LGBMClassifier(verbose=-1, random_state=RANDOM_STATE, n_jobs=1)],\n",
    "        'models__num_leaves': [3, 5],  \n",
    "        'models__learning_rate': [0.1, 0.125],  \n",
    "        'models__n_estimators': [1500],  \n",
    "        'models__max_depth': [2, 3],  \n",
    "        'models__feature_fraction': [0.5]  \n",
    "    },\n",
    "    \n",
    "    # словарь для CatBoostClassifier\n",
    "    {\n",
    "        'models': [CatBoostClassifier(verbose=0, random_state=RANDOM_STATE)],\n",
    "        'models__depth': [2, 5],  \n",
    "        'models__learning_rate': [0.1, 0.2],  \n",
    "        'models__iterations': [1000]  \n",
    "    }\n",
    "]"
   ]
  },
  {
   "cell_type": "code",
   "execution_count": 36,
   "id": "24a4a268-f450-48e2-83a0-c28fc2885e26",
   "metadata": {
    "collapsed": true,
    "jupyter": {
     "outputs_hidden": true
    },
    "scrolled": true
   },
   "outputs": [
    {
     "name": "stdout",
     "output_type": "stream",
     "text": [
      "[LightGBM] [Warning] feature_fraction is set=0.5, colsample_bytree=1.0 will be ignored. Current value: feature_fraction=0.5\n",
      "[LightGBM] [Warning] feature_fraction is set=0.5, colsample_bytree=1.0 will be ignored. Current value: feature_fraction=0.5\n",
      "[LightGBM] [Warning] feature_fraction is set=0.5, colsample_bytree=1.0 will be ignored. Current value: feature_fraction=0.5\n",
      "[LightGBM] [Warning] feature_fraction is set=0.5, colsample_bytree=1.0 will be ignored. Current value: feature_fraction=0.5\n",
      "[LightGBM] [Warning] feature_fraction is set=0.5, colsample_bytree=1.0 will be ignored. Current value: feature_fraction=0.5\n",
      "[LightGBM] [Warning] feature_fraction is set=0.5, colsample_bytree=1.0 will be ignored. Current value: feature_fraction=0.5\n",
      "[LightGBM] [Warning] feature_fraction is set=0.5, colsample_bytree=1.0 will be ignored. Current value: feature_fraction=0.5\n",
      "[LightGBM] [Warning] feature_fraction is set=0.5, colsample_bytree=1.0 will be ignored. Current value: feature_fraction=0.5\n",
      "[LightGBM] [Warning] feature_fraction is set=0.5, colsample_bytree=1.0 will be ignored. Current value: feature_fraction=0.5\n",
      "[LightGBM] [Warning] feature_fraction is set=0.5, colsample_bytree=1.0 will be ignored. Current value: feature_fraction=0.5\n",
      "[LightGBM] [Warning] feature_fraction is set=0.5, colsample_bytree=1.0 will be ignored. Current value: feature_fraction=0.5\n",
      "[LightGBM] [Warning] feature_fraction is set=0.5, colsample_bytree=1.0 will be ignored. Current value: feature_fraction=0.5\n",
      "[LightGBM] [Warning] feature_fraction is set=0.5, colsample_bytree=1.0 will be ignored. Current value: feature_fraction=0.5\n",
      "[LightGBM] [Warning] feature_fraction is set=0.5, colsample_bytree=1.0 will be ignored. Current value: feature_fraction=0.5\n",
      "[LightGBM] [Warning] feature_fraction is set=0.5, colsample_bytree=1.0 will be ignored. Current value: feature_fraction=0.5\n",
      "[LightGBM] [Warning] feature_fraction is set=0.5, colsample_bytree=1.0 will be ignored. Current value: feature_fraction=0.5\n",
      "[LightGBM] [Warning] feature_fraction is set=0.5, colsample_bytree=1.0 will be ignored. Current value: feature_fraction=0.5\n",
      "[LightGBM] [Warning] feature_fraction is set=0.5, colsample_bytree=1.0 will be ignored. Current value: feature_fraction=0.5\n",
      "[LightGBM] [Warning] feature_fraction is set=0.5, colsample_bytree=1.0 will be ignored. Current value: feature_fraction=0.5\n",
      "[LightGBM] [Warning] feature_fraction is set=0.5, colsample_bytree=1.0 will be ignored. Current value: feature_fraction=0.5\n",
      "[LightGBM] [Warning] feature_fraction is set=0.5, colsample_bytree=1.0 will be ignored. Current value: feature_fraction=0.5\n",
      "[LightGBM] [Warning] feature_fraction is set=0.5, colsample_bytree=1.0 will be ignored. Current value: feature_fraction=0.5\n",
      "[LightGBM] [Warning] feature_fraction is set=0.5, colsample_bytree=1.0 will be ignored. Current value: feature_fraction=0.5\n",
      "[LightGBM] [Warning] feature_fraction is set=0.5, colsample_bytree=1.0 will be ignored. Current value: feature_fraction=0.5\n",
      "[LightGBM] [Warning] feature_fraction is set=0.5, colsample_bytree=1.0 will be ignored. Current value: feature_fraction=0.5\n",
      "[LightGBM] [Warning] feature_fraction is set=0.5, colsample_bytree=1.0 will be ignored. Current value: feature_fraction=0.5\n",
      "[LightGBM] [Warning] feature_fraction is set=0.5, colsample_bytree=1.0 will be ignored. Current value: feature_fraction=0.5\n",
      "[LightGBM] [Warning] feature_fraction is set=0.5, colsample_bytree=1.0 will be ignored. Current value: feature_fraction=0.5\n",
      "[LightGBM] [Warning] feature_fraction is set=0.5, colsample_bytree=1.0 will be ignored. Current value: feature_fraction=0.5\n",
      "[LightGBM] [Warning] feature_fraction is set=0.5, colsample_bytree=1.0 will be ignored. Current value: feature_fraction=0.5\n",
      "[LightGBM] [Warning] feature_fraction is set=0.5, colsample_bytree=1.0 will be ignored. Current value: feature_fraction=0.5\n",
      "[LightGBM] [Warning] feature_fraction is set=0.5, colsample_bytree=1.0 will be ignored. Current value: feature_fraction=0.5\n",
      "[LightGBM] [Warning] feature_fraction is set=0.5, colsample_bytree=1.0 will be ignored. Current value: feature_fraction=0.5\n",
      "[LightGBM] [Warning] feature_fraction is set=0.5, colsample_bytree=1.0 will be ignored. Current value: feature_fraction=0.5\n",
      "[LightGBM] [Warning] feature_fraction is set=0.5, colsample_bytree=1.0 will be ignored. Current value: feature_fraction=0.5\n",
      "[LightGBM] [Warning] feature_fraction is set=0.5, colsample_bytree=1.0 will be ignored. Current value: feature_fraction=0.5\n",
      "[LightGBM] [Warning] feature_fraction is set=0.5, colsample_bytree=1.0 will be ignored. Current value: feature_fraction=0.5\n",
      "[LightGBM] [Warning] feature_fraction is set=0.5, colsample_bytree=1.0 will be ignored. Current value: feature_fraction=0.5\n",
      "[LightGBM] [Warning] feature_fraction is set=0.5, colsample_bytree=1.0 will be ignored. Current value: feature_fraction=0.5\n",
      "[LightGBM] [Warning] feature_fraction is set=0.5, colsample_bytree=1.0 will be ignored. Current value: feature_fraction=0.5\n"
     ]
    },
    {
     "data": {
      "text/plain": [
       "'Лучшая модель и её параметры:'"
      ]
     },
     "metadata": {},
     "output_type": "display_data"
    },
    {
     "data": {
      "text/plain": [
       "{'models': <catboost.core.CatBoostClassifier at 0x7f856643de50>,\n",
       " 'models__depth': 2,\n",
       " 'models__iterations': 1000,\n",
       " 'models__learning_rate': 0.2}"
      ]
     },
     "metadata": {},
     "output_type": "display_data"
    },
    {
     "name": "stdout",
     "output_type": "stream",
     "text": [
      "Метрика ROC-AUC, полученная с помощью кросс-валидации: 0.928\n",
      "CPU times: user 2min 27s, sys: 28.9 s, total: 2min 56s\n",
      "Wall time: 3min 12s\n"
     ]
    }
   ],
   "source": [
    "%%time\n",
    "grid_search = GridSearchCV(\n",
    "    pipe_final, \n",
    "    param_grid, \n",
    "    cv=5,\n",
    "    scoring='roc_auc',\n",
    "    n_jobs=-1\n",
    ")\n",
    "grid_search.fit(X_train, y_train)\n",
    "\n",
    "display('Лучшая модель и её параметры:', grid_search.best_params_)\n",
    "print (f'Метрика ROC-AUC, полученная с помощью кросс-валидации: {grid_search.best_score_:.3f}')"
   ]
  },
  {
   "cell_type": "markdown",
   "id": "7c203ab6-dd6b-4d02-b474-818f11587657",
   "metadata": {},
   "source": [
    "## Выбор лучшей модели"
   ]
  },
  {
   "cell_type": "markdown",
   "id": "a1eb8220-cf21-4623-82dc-b231766ef2bc",
   "metadata": {},
   "source": [
    "Отобразим лучшие результаты работы по каждой из моделей"
   ]
  },
  {
   "cell_type": "code",
   "execution_count": 37,
   "id": "c05daf9c-fd80-4e8d-8f3a-ee4e5dc81634",
   "metadata": {},
   "outputs": [
    {
     "name": "stdout",
     "output_type": "stream",
     "text": [
      "Лучшие метрики ROC-AUC для каждой модели: \n",
      "\n",
      "model_name\n",
      "CatBoostClassifier        0.928349\n",
      "LGBMClassifier            0.912434\n",
      "SVC                       0.828213\n",
      "RandomForestClassifier    0.819707\n",
      "KNeighborsClassifier      0.799978\n",
      "LogisticRegression        0.751194\n",
      "Name: mean_test_score, dtype: float64\n"
     ]
    }
   ],
   "source": [
    "results = pd.DataFrame(grid_search.cv_results_)\n",
    "results['model_name'] = results['param_models'].apply(lambda x: type(x).__name__)\n",
    "\n",
    "best_scores = results.groupby('model_name')['mean_test_score'].max().sort_values(ascending=False)\n",
    "\n",
    "print(\"Лучшие метрики ROC-AUC для каждой модели:\",'\\n')\n",
    "print(best_scores)"
   ]
  },
  {
   "cell_type": "markdown",
   "id": "108f83d5",
   "metadata": {
    "jp-MarkdownHeadingCollapsed": true
   },
   "source": [
    "Моделью, показавшей наилучшие результаты метрики `RMSE` на кроссвалидационной выборке, стала `CatBoostClassifier ` с параметрами: максимальная глубина дерева решений - 2, что является хорошим показателем, т.к модель не является слишком сложной и имеет меньше шансов переобучиться, скорость обучения - 0.2 и количество итераций обучения - 1000."
   ]
  },
  {
   "cell_type": "markdown",
   "id": "4f68282e-ec94-4f3c-bcdd-5efbd744e974",
   "metadata": {},
   "source": [
    "### График важности признаков для модели"
   ]
  },
  {
   "cell_type": "code",
   "execution_count": 38,
   "id": "b7e92e13-6849-419b-bdf7-52e89d65cef8",
   "metadata": {},
   "outputs": [
    {
     "data": {
      "text/plain": [
       "(5270, 15)"
      ]
     },
     "metadata": {},
     "output_type": "display_data"
    },
    {
     "data": {
      "text/plain": [
       "(1757, 15)"
      ]
     },
     "execution_count": 38,
     "metadata": {},
     "output_type": "execute_result"
    }
   ],
   "source": [
    "# извлечение лучшего пайплайна и модели\n",
    "pipeline_best_task2 = grid_search.best_estimator_\n",
    "model_best_task2 = pipeline_best_task2.named_steps['models']\n",
    "\n",
    "# извлечем преобразованные названия столбцов и преобразуем X_train, X_test\n",
    "feature_names = pipeline_best_task2.named_steps['preprocessor'].get_feature_names_out()\n",
    "\n",
    "X_train_transformed = pipeline_best_task2.named_steps['preprocessor'].transform(X_train)\n",
    "X_train_transformed = pd.DataFrame(X_train_transformed, columns=feature_names)\n",
    "display(X_train_transformed.shape)\n",
    "\n",
    "X_test_transformed = pipeline_best_task2.named_steps['preprocessor'].transform(X_test)\n",
    "X_test_transformed = pd.DataFrame(X_test_transformed, columns=feature_names)\n",
    "X_test_transformed.shape"
   ]
  },
  {
   "cell_type": "code",
   "execution_count": 39,
   "id": "847ba0dc-c2ab-4e4d-8ac7-9a92453ac9dc",
   "metadata": {},
   "outputs": [
    {
     "data": {
      "image/png": "[encoded data removed]",
      "text/plain": [
       "<Figure size 864x576 with 1 Axes>"
      ]
     },
     "metadata": {},
     "output_type": "display_data"
    }
   ],
   "source": [
    "# Формируем таблицу важности признаков и сортируем её\n",
    "feature_importances = pd.DataFrame(\n",
    "    {\n",
    "        'Feature': X_train_transformed.columns,\n",
    "        'Importance': model_best_task2.feature_importances_\n",
    "    }).sort_values('Importance', ascending=False)\n",
    "\n",
    "# Создаем график\n",
    "sns.set(style=\"whitegrid\")\n",
    "plt.figure(figsize=(12, 8))\n",
    "\n",
    "ax = sns.barplot(data=feature_importances, x='Importance', y='Feature', palette=\"viridis\")\n",
    "\n",
    "ax.set_title('Важность признаков', fontsize=18, weight='bold')\n",
    "ax.set_xlabel('Важность (доля)', fontsize=14)\n",
    "ax.set_ylabel('Признак', fontsize=14);"
   ]
  },
  {
   "cell_type": "markdown",
   "id": "b894ffea-ee77-4b9c-a2f2-a4d49ee52cae",
   "metadata": {},
   "source": [
    "Анализ важности признаков показывает, что наибольший вклад в предсказание ухода клиента вносят:\n",
    "- срок действия договора\n",
    "- общие расходы\n",
    "- тип оплаты: раз в два года\n",
    "- наличие супруги или супруга\n",
    "- наличие подключения телефона к нескольким линиям одновременно\n",
    "\n",
    "При этом первые два признака имеют в соответствии со своими долями определяющее значение (важность)"
   ]
  },
  {
   "cell_type": "markdown",
   "id": "f0c99d4e-8a29-45a7-9ff6-1ddd746c963b",
   "metadata": {},
   "source": [
    "### Оценка важности признаков на основе `SHAP`"
   ]
  },
  {
   "cell_type": "code",
   "execution_count": 40,
   "id": "55e96bf6",
   "metadata": {},
   "outputs": [
    {
     "data": {
      "image/png": "[encoded data removed]",
      "text/plain": [
       "<Figure size 576x540 with 2 Axes>"
      ]
     },
     "metadata": {},
     "output_type": "display_data"
    }
   ],
   "source": [
    "# Рассчитаем SHAP значения для модели CatBoostClassifier\n",
    "explainer = shap.TreeExplainer(model_best_task2)\n",
    "shap_values = explainer.shap_values(X_test_transformed)\n",
    "\n",
    "shap_values_class = shap.Explanation(values=shap_values, base_values=explainer.expected_value, data=X_test_transformed)\n",
    "\n",
    "shap.plots.beeswarm(shap_values_class, max_display=20, show=False)\n",
    "\n",
    "# Настройка осей и заголовков\n",
    "fig, ax = plt.gcf(), plt.gca()\n",
    "\n",
    "ax.tick_params(labelsize=14)\n",
    "ax.set_xlabel(\"SHAP value (impact on model output)\", fontsize=14)\n",
    "ax.set_ylabel(\"Признак\", fontsize=14)\n",
    "ax.set_title('Важность признаков - quit', fontsize=16);"
   ]
  },
  {
   "cell_type": "markdown",
   "id": "99bdfeb6-edd6-4ad3-94dd-b6319e875345",
   "metadata": {},
   "source": [
    "**Вывод:** на основе представленных графиков можно сделать следующие выводы о значимости признаков для прогнозирования:\n",
    "1. признаки, мало значимые для модели:\n",
    "- наличие детей\n",
    "- клиенты, использующие только телефонию\n",
    "- является ли клиент пенсионером\n",
    "\n",
    "2. признаки, сильнее всего влияющие на целевой признак и приводящие к повышению вероятности ухода клиента:\n",
    "- снижение срока действия договора\n",
    "- увеличение общих расходов клиента\n",
    "- оплата договора раз в два года\n",
    "- наличие супруги или супруга\n",
    "- наличие подключения телефона к нескольким линиям одновременно\n",
    "\n",
    "При этом первые два признака имеют определяющее значение (важность)"
   ]
  },
  {
   "cell_type": "markdown",
   "id": "3de5690d-6696-4b45-b5b9-0b79c1a978db",
   "metadata": {},
   "source": [
    "### Матрица ошибок"
   ]
  },
  {
   "cell_type": "markdown",
   "id": "5ea8c14f-1ba1-4d8a-80de-11e1d095f7d8",
   "metadata": {},
   "source": [
    "Проведем анализ лучшей модели на основе матрицы ошибок и ROC-кривой модели"
   ]
  },
  {
   "cell_type": "code",
   "execution_count": 41,
   "id": "c909f6e9-77f6-4ae8-bbcf-158bb7872094",
   "metadata": {},
   "outputs": [
    {
     "data": {
      "image/png": "[encoded data removed]",
      "text/plain": [
       "<Figure size 1152x432 with 2 Axes>"
      ]
     },
     "metadata": {},
     "output_type": "display_data"
    }
   ],
   "source": [
    "# Предсказания меток и вероятностей\n",
    "y_pred = grid_search.predict(X_test)\n",
    "y_probа = grid_search.predict_proba(X_test)[:, 1]\n",
    "\n",
    "# Построение матрицы ошибок\n",
    "cm = confusion_matrix(y_test, y_pred)\n",
    "\n",
    "# Построение ROC-кривой\n",
    "fpr, tpr, _ = roc_curve(y_test, y_probа)\n",
    "roc_auc = auc(fpr, tpr)\n",
    "\n",
    "# Отображение объектов\n",
    "fig, (ax1, ax2) = plt.subplots(1, 2, figsize=(16, 6))\n",
    "\n",
    "# Матрица ошибок\n",
    "sns.heatmap(cm, annot=True, fmt='d', cmap='Blues', cbar=False, annot_kws={\"size\": 16}, ax=ax1)\n",
    "ax1.set_title('Матрица ошибок', fontsize=20)\n",
    "ax1.set_xlabel('Прогнозированный класс', fontsize=15)\n",
    "ax1.set_ylabel('Истинный класс', fontsize=15)\n",
    "ax1.set_xticks([0.5, 1.5])\n",
    "ax1.set_xticklabels(['Класс 0', 'Класс 1'], fontsize=12)\n",
    "ax1.set_yticks([0.5, 1.5])\n",
    "ax1.set_yticklabels(['Класс 0', 'Класс 1'], fontsize=12)\n",
    "\n",
    "# ROC-кривая\n",
    "ax2.plot(fpr, tpr, color='darkorange', lw=2, label='ROC-кривая (AUC = %0.4f)' % roc_auc)\n",
    "ax2.plot([0, 1], [0, 1], color='navy', lw=2, linestyle='--')\n",
    "ax2.set_xlim([0.0, 1.0])\n",
    "ax2.set_ylim([0.0, 1.05])\n",
    "ax2.set_xlabel('Ложно положительные', fontsize=15)\n",
    "ax2.set_ylabel('Истинно положительные', fontsize=15)\n",
    "ax2.set_title('ROC-кривая', fontsize=20)\n",
    "ax2.legend(loc=\"lower right\", fontsize=14)\n",
    "ax2.grid(True)\n",
    "\n",
    "plt.tight_layout()\n",
    "plt.show()"
   ]
  },
  {
   "cell_type": "markdown",
   "id": "60b79cee-a113-47a0-8702-a2186ab31515",
   "metadata": {},
   "source": [
    "**Вывод:** матрица ошибок показывает, что модель значительно лучше справляется с классификацией объектов класса 0, чем с классификацией объектов класса 1, что объясняется дисбалансом классов, где лишь 16% от общего количества клиентов соответствуют классу 1. Возможными решениями будут дополнительный сбор информации о новых клиентах, которые ушли из компании, балансировка классов."
   ]
  },
  {
   "cell_type": "markdown",
   "id": "dd78e7ff-47b0-4fb1-b512-a960fc406f24",
   "metadata": {},
   "source": [
    "Расчитаем метрики `ROC-AUC и accuracy` для лучшей модели на тестовых данных"
   ]
  },
  {
   "cell_type": "code",
   "execution_count": 42,
   "id": "9f7deb4d",
   "metadata": {},
   "outputs": [
    {
     "name": "stdout",
     "output_type": "stream",
     "text": [
      "Метрика ROC-AUC на тестовой выборке: 0.942\n",
      "Метрика accuracy на тестовой выборке: 0.934\n"
     ]
    }
   ],
   "source": [
    "# рассчитаем прогноз и метрику SMAPE на тестовых данных\n",
    "\n",
    "print(f'Метрика ROC-AUC на тестовой выборке: {roc_auc_score(y_test, y_probа):.3f}')\n",
    "print(f'Метрика accuracy на тестовой выборке: {accuracy_score(y_test, y_pred):.3f}')"
   ]
  },
  {
   "cell_type": "markdown",
   "id": "988ae530-3763-4a3b-8ec4-40587101de62",
   "metadata": {},
   "source": [
    "## Общий вывод"
   ]
  },
  {
   "cell_type": "markdown",
   "id": "7bae2180",
   "metadata": {},
   "source": [
    "**В рамках проекта была проведена:** предобработка данных, исследовательский анализ данных с необходимой визуализацией, статистический анализ признаков по типам, изучена взаимосвязь между признаками на основе корреляционного анализа. По результатам анализа сформирован новый признак и отобраны признаки для последующего обучения моделей.\n",
    "С целью прогноза ухода клиента из компании обучены шесть моделей, выбрана метрика и лучшая модель на основе данной метрики.    \n",
    "Проведена оценка важности признаков для лучшей модели, сделаны необходимые выводы о значимости признаков.  \n",
    "_____________\n",
    "\n",
    "**На этапе предобработки данных:** названия столбцов были приведены к \"змеиному типу\", заполнены пропуски в столбце `total_charges` соответствующими данными по месячным расходам клиента. Изменены типы данных в столбцах  `begin_date`, `total_charges`, `senior_citizen` на *datetime*, *float* и *object* соответственно.\n",
    "\n",
    "**На этапе исследовательского анализа данных:** сформирован целевой признак, уход клиента, в целях дальнейшего обучения моделей - `quit`. Признаки `begin_date` и `end_date` заменены одним признаком - длительностью действия договора в днях `duration`. Для расчета длительности по действующим договорам принята дата окончания их действия за 1 февраля 2020 года - дату, на которую актуальна информация о договорах. Более глубоко исследованы количественные и категориальные данные с использованием графических инструментов, описаны характеристики данных.     \n",
    "\n",
    "**На этапе корреляционного анализа признаков:** Для исключения мультиколлинеарности, которая  наблюдалась между всеми признаками датасета с информацией об интернет-услугах, для дальнейшего обучения модели были исключены все указанные признаки, кроме `internet_service`. У признака `gender` отсутствовала корреляция со всеми признаками, который также был исключен. Из взаимосвязанных признаков `monthly_charges` и `total_charges`, с учетом того, что динамика изменения ежемесячных расходов в датасете не представлена и имеется лишь общий срок действия договора, а также, что теснота связи целевого признака выше с `total_charges`, из данных двух признаков был оставлен для дальнейшего обучения модели только признак `total_charges`.    \n",
    "\n",
    "Анализ матрицы `Phik` показал, у целевого признака `quit` имеется:\n",
    "- умеренная теснота связи с признаками `duration` и `total_charges`, с остальными признаками наблюдается слабая связь или ее отсутствие.\n",
    "\n",
    "По другим признакам наблюдается:\n",
    "- высокая теснота связи между признаками `total_charges` и `duration`, т.е чем дольше пользователь оставался клиентом компании, тем больше его общие расходы, между признаками `multiple_lines` и `internet_service`, что видимо характеризует продвинутых пользователей в части телефонии и интернета\n",
    "- заметная теснота связи между признаком `type` и признаками `duration`, `internet_service`. Признаками `partner` и `dependents`, что весьма логично.    \n",
    "По остальным признакам наблюдается по большей части слабая связь или ее отсутствие  \n",
    "\n",
    "Анализ **дисбаланса классов** целевого признака показал, что 16% от общего количества клиентов ушли из компании против 84% клиентов, которые имеют действующие договора. Данный факт учтен при инициализации моделей, использован `class_weihgt`,  чтобы за ошибку на минорном в классе функция ошибки штрафовалась сильнее. Также в связи с дисбалансом, в качестве метрики выбрана `ROC-AUC` - всеохватывающая метрика качества классификации, которая не чувствительна к дисбалансу классов и учитывает работу модели при всех возможных значениях порогов и поэтому не зависит от одного конкретного.\n",
    "\n",
    "**На этапе подготовки данных:** в связи с тем, что на  этапе исследовательского анализа был удален ряд признаков, была проведена проверка на наличие неявных дубликатов в объединенном датасете, т.е без учета признака `customer_id`, которые были устранены перед обучением модели.\n",
    "\n",
    "**На этапе обучения моделей:** с использованием пайплайнов обработаны количественные и категориальные признаки, обучены 6 моделей: `LogisticRegression, KNeighborsClassifier, SVC, RandomForestClassifier, LGBMClassifier,  CatBoostClassifier`. Для каждой из моделей подобраны гиперпараметры. Для выбора лучшей модели использовалась метрика `ROC-AUC`, которая составила `0.928` на кроссвалидационной выборке.    \n",
    "\n",
    "Моделью, показавшей наилучшие результаты на кроссвалидационной выборке, стала `CatBoostClassifier` с параметрами: максимальная глубина дерева решений - 2, что является хорошим показателем, т.к модель не является слишком сложной и имеет меньше шансов переобучиться, скорость обучения - 0.2 и количество итераций обучения - 1000\n",
    "\n",
    "**На этапе выбора лучшей модели:** была проведена оценка важности признаков для лучшей модели с использованием:\n",
    "- важности признаков для модели дерева решений\n",
    "- важности признаков на основе `SHAP`    \n",
    "\n",
    "Были сделаны следующие выводы о значимости признаков для прогнозирования::\n",
    "1. признаки, мало значимые для модели:\n",
    "- наличие детей\n",
    "- клиенты, использующие только телефонию\n",
    "- является ли клиент пенсионером\n",
    "\n",
    "2. признаки, сильнее всего влияющие на целевой признак и приводящие к повышению вероятности ухода клиента:\n",
    "- снижение срока действия договора\n",
    "- увеличение общих расходов клиента\n",
    "- оплата договора раз в два года\n",
    "- наличие супруги или супруга\n",
    "- наличие подключения телефона к нескольким линиям одновременно\n",
    "\n",
    "При этом первые два признака имеют ключевое значение (важность)\n",
    "\n",
    "Построены матрица ошибок и ROC-кривая итоговой модели:\n",
    "- матрица ошибок показала, что модель значительно лучше справляется с классификацией объектов класса 0, чем с классификацией объектов класса 1, что объясняется дисбалансом классов, где лишь 16% от общего количества клиентов соответствуют классу 1. Возможными решениями будут дополнительный сбор информации о новых клиентах, которые ушли из компании, балансировка классов.\n",
    "\n",
    "**Метрики `ROC-AUC и accuracy`** для лучшей модели на тестовых данных составили `0.942 и 0.934` соответственно.\n",
    "_________\n",
    "*На основе проведенной работы по проекту можно сделать следующие рекомендации/предложения для бизнеса в целях снижения вероятности ухода клиента из компании:*\n",
    "- для новых клиентов, которые только заключили договор, предлагать промокоды и специальные условия, например, на первые 1-3 месяца действия договора, чтобы заинтересовать и удержать их.\n",
    "- стараться удерживать цены на услуги на конкурентном уровне, отслеживать, например, динамику ежемесячных расходов клиента и для клиентов с высокими расходами, также предлагать специальные условия по обслуживанию или скидкам, в т.ч. при заключении договора на более длительный период.\n",
    "- держать на контроле клиентов, которые производят оплату редко, раз в 2 года, делать для них адресные рассылки со спецпредложениями с целью поддержания их мотивации оставаться клиентами компании.\n",
    "- формировать семейным клиентам предложения для специального семейного доступа, скидкам на второго члена семьи и т.д.\n",
    "- для абонентов с подключением телефона к нескольким линиям одновременно, предлагать спецмальные акции, например, оплата со скидкой нескольких телефонных линий при заключении договора на длительный период."
   ]
  }
 ],
 "metadata": {
  "ExecuteTimeLog": [
   {
    "duration": 17053,
    "start_time": "2024-09-17T10:05:15.680Z"
   },
   {
    "duration": 1665,
    "start_time": "2024-09-17T10:06:05.807Z"
   },
   {
    "duration": 4,
    "start_time": "2024-09-17T10:06:07.474Z"
   },
   {
    "duration": 3,
    "start_time": "2024-09-17T10:06:08.385Z"
   },
   {
    "duration": 3,
    "start_time": "2024-09-17T10:06:09.950Z"
   },
   {
    "duration": 8,
    "start_time": "2024-09-17T10:06:10.646Z"
   },
   {
    "duration": 3,
    "start_time": "2024-09-17T10:06:11.573Z"
   },
   {
    "duration": 414,
    "start_time": "2024-09-17T10:06:13.755Z"
   },
   {
    "duration": 140,
    "start_time": "2024-09-17T10:06:16.087Z"
   },
   {
    "duration": 12,
    "start_time": "2024-09-17T10:10:57.029Z"
   },
   {
    "duration": 12,
    "start_time": "2024-09-17T10:15:43.318Z"
   },
   {
    "duration": 7,
    "start_time": "2024-09-17T10:19:58.033Z"
   },
   {
    "duration": 6,
    "start_time": "2024-09-17T10:20:33.243Z"
   },
   {
    "duration": 9,
    "start_time": "2024-09-17T10:56:54.621Z"
   },
   {
    "duration": 10,
    "start_time": "2024-09-17T10:57:50.726Z"
   },
   {
    "duration": 8,
    "start_time": "2024-09-17T10:58:06.077Z"
   },
   {
    "duration": 5,
    "start_time": "2024-09-17T11:02:45.473Z"
   },
   {
    "duration": 5,
    "start_time": "2024-09-17T11:07:32.460Z"
   },
   {
    "duration": 1154,
    "start_time": "2024-09-17T11:07:43.013Z"
   },
   {
    "duration": 5,
    "start_time": "2024-09-17T11:08:10.328Z"
   },
   {
    "duration": 5,
    "start_time": "2024-09-17T11:08:23.566Z"
   },
   {
    "duration": 5,
    "start_time": "2024-09-17T11:09:29.789Z"
   },
   {
    "duration": 3,
    "start_time": "2024-09-17T17:38:41.245Z"
   },
   {
    "duration": 1578,
    "start_time": "2024-09-17T17:38:41.250Z"
   },
   {
    "duration": 3,
    "start_time": "2024-09-17T17:38:42.830Z"
   },
   {
    "duration": 15,
    "start_time": "2024-09-17T17:38:42.835Z"
   },
   {
    "duration": 19,
    "start_time": "2024-09-17T17:38:42.852Z"
   },
   {
    "duration": 15,
    "start_time": "2024-09-17T17:38:42.873Z"
   },
   {
    "duration": 18,
    "start_time": "2024-09-17T17:38:42.889Z"
   },
   {
    "duration": 393,
    "start_time": "2024-09-17T17:38:42.909Z"
   },
   {
    "duration": 149,
    "start_time": "2024-09-17T17:38:43.303Z"
   },
   {
    "duration": 10,
    "start_time": "2024-09-17T17:38:43.454Z"
   },
   {
    "duration": 41,
    "start_time": "2024-09-17T17:38:43.466Z"
   },
   {
    "duration": 32,
    "start_time": "2024-09-17T17:38:43.508Z"
   },
   {
    "duration": 9,
    "start_time": "2024-09-17T17:38:43.542Z"
   },
   {
    "duration": 12,
    "start_time": "2024-09-17T17:38:43.553Z"
   },
   {
    "duration": 9,
    "start_time": "2024-09-17T17:38:43.567Z"
   },
   {
    "duration": 17,
    "start_time": "2024-09-17T17:38:55.529Z"
   },
   {
    "duration": 13,
    "start_time": "2024-09-17T17:40:11.536Z"
   },
   {
    "duration": 17,
    "start_time": "2024-09-17T19:58:44.510Z"
   },
   {
    "duration": 520,
    "start_time": "2024-09-17T20:10:21.850Z"
   },
   {
    "duration": 6,
    "start_time": "2024-09-17T20:10:36.288Z"
   },
   {
    "duration": 54,
    "start_time": "2024-09-17T20:10:59.638Z"
   },
   {
    "duration": 6,
    "start_time": "2024-09-17T20:11:07.192Z"
   },
   {
    "duration": 7,
    "start_time": "2024-09-17T20:14:25.846Z"
   },
   {
    "duration": 8,
    "start_time": "2024-09-17T20:15:28.835Z"
   },
   {
    "duration": 8,
    "start_time": "2024-09-17T20:16:26.842Z"
   },
   {
    "duration": 10,
    "start_time": "2024-09-17T20:19:59.470Z"
   },
   {
    "duration": 6,
    "start_time": "2024-09-17T20:48:25.477Z"
   },
   {
    "duration": 9,
    "start_time": "2024-09-17T20:49:16.929Z"
   },
   {
    "duration": 17,
    "start_time": "2024-09-17T20:49:31.249Z"
   },
   {
    "duration": 4,
    "start_time": "2024-09-17T20:50:03.993Z"
   },
   {
    "duration": 17,
    "start_time": "2024-09-17T20:50:05.838Z"
   },
   {
    "duration": 8,
    "start_time": "2024-09-17T20:55:17.495Z"
   },
   {
    "duration": 48,
    "start_time": "2024-09-18T08:14:30.333Z"
   },
   {
    "duration": 3,
    "start_time": "2024-09-18T08:14:39.288Z"
   },
   {
    "duration": 1749,
    "start_time": "2024-09-18T08:14:39.293Z"
   },
   {
    "duration": 3,
    "start_time": "2024-09-18T08:14:41.043Z"
   },
   {
    "duration": 15,
    "start_time": "2024-09-18T08:14:41.048Z"
   },
   {
    "duration": 8,
    "start_time": "2024-09-18T08:14:41.065Z"
   },
   {
    "duration": 16,
    "start_time": "2024-09-18T08:14:41.074Z"
   },
   {
    "duration": 6,
    "start_time": "2024-09-18T08:14:41.091Z"
   },
   {
    "duration": 377,
    "start_time": "2024-09-18T08:14:41.099Z"
   },
   {
    "duration": 148,
    "start_time": "2024-09-18T08:14:41.478Z"
   },
   {
    "duration": 55,
    "start_time": "2024-09-18T08:14:41.628Z"
   },
   {
    "duration": 3,
    "start_time": "2024-09-18T08:14:41.684Z"
   },
   {
    "duration": 9,
    "start_time": "2024-09-18T08:14:41.688Z"
   },
   {
    "duration": 5,
    "start_time": "2024-09-18T08:14:41.699Z"
   },
   {
    "duration": 15,
    "start_time": "2024-09-18T08:14:41.706Z"
   },
   {
    "duration": 1444,
    "start_time": "2024-09-18T08:14:41.722Z"
   },
   {
    "duration": 0,
    "start_time": "2024-09-18T08:14:43.168Z"
   },
   {
    "duration": 0,
    "start_time": "2024-09-18T08:14:43.169Z"
   },
   {
    "duration": 0,
    "start_time": "2024-09-18T08:14:43.170Z"
   },
   {
    "duration": 0,
    "start_time": "2024-09-18T08:14:43.172Z"
   },
   {
    "duration": 0,
    "start_time": "2024-09-18T08:14:43.172Z"
   },
   {
    "duration": 0,
    "start_time": "2024-09-18T08:14:43.173Z"
   },
   {
    "duration": 0,
    "start_time": "2024-09-18T08:14:43.174Z"
   },
   {
    "duration": 6,
    "start_time": "2024-09-18T08:15:02.022Z"
   },
   {
    "duration": 14,
    "start_time": "2024-09-18T08:15:25.333Z"
   },
   {
    "duration": 11,
    "start_time": "2024-09-18T08:16:56.950Z"
   },
   {
    "duration": 13,
    "start_time": "2024-09-18T08:17:01.286Z"
   },
   {
    "duration": 2,
    "start_time": "2024-09-18T08:18:08.131Z"
   },
   {
    "duration": 9,
    "start_time": "2024-09-18T08:18:08.135Z"
   },
   {
    "duration": 7,
    "start_time": "2024-09-18T08:18:08.145Z"
   },
   {
    "duration": 6,
    "start_time": "2024-09-18T08:18:08.154Z"
   },
   {
    "duration": 8,
    "start_time": "2024-09-18T08:18:08.162Z"
   },
   {
    "duration": 12,
    "start_time": "2024-09-18T08:18:08.172Z"
   },
   {
    "duration": 10,
    "start_time": "2024-09-18T08:18:08.187Z"
   },
   {
    "duration": 97,
    "start_time": "2024-09-18T08:18:08.199Z"
   },
   {
    "duration": 144,
    "start_time": "2024-09-18T08:18:08.297Z"
   },
   {
    "duration": 58,
    "start_time": "2024-09-18T08:18:08.442Z"
   },
   {
    "duration": 2,
    "start_time": "2024-09-18T08:18:08.501Z"
   },
   {
    "duration": 12,
    "start_time": "2024-09-18T08:18:08.505Z"
   },
   {
    "duration": 5,
    "start_time": "2024-09-18T08:18:08.518Z"
   },
   {
    "duration": 9,
    "start_time": "2024-09-18T08:18:08.526Z"
   },
   {
    "duration": 42,
    "start_time": "2024-09-18T08:18:08.537Z"
   },
   {
    "duration": 102,
    "start_time": "2024-09-18T08:18:08.581Z"
   },
   {
    "duration": 11,
    "start_time": "2024-09-18T08:18:08.685Z"
   },
   {
    "duration": 13,
    "start_time": "2024-09-18T08:18:08.698Z"
   },
   {
    "duration": 932,
    "start_time": "2024-09-18T08:18:08.713Z"
   },
   {
    "duration": 0,
    "start_time": "2024-09-18T08:18:09.647Z"
   },
   {
    "duration": 0,
    "start_time": "2024-09-18T08:18:09.649Z"
   },
   {
    "duration": 0,
    "start_time": "2024-09-18T08:18:09.650Z"
   },
   {
    "duration": 0,
    "start_time": "2024-09-18T08:18:09.652Z"
   },
   {
    "duration": 0,
    "start_time": "2024-09-18T08:18:09.653Z"
   },
   {
    "duration": 0,
    "start_time": "2024-09-18T08:18:09.654Z"
   },
   {
    "duration": 3,
    "start_time": "2024-09-18T08:23:02.834Z"
   },
   {
    "duration": 15,
    "start_time": "2024-09-18T08:23:02.838Z"
   },
   {
    "duration": 17,
    "start_time": "2024-09-18T08:23:02.855Z"
   },
   {
    "duration": 14,
    "start_time": "2024-09-18T08:23:02.873Z"
   },
   {
    "duration": 15,
    "start_time": "2024-09-18T08:23:02.889Z"
   },
   {
    "duration": 9,
    "start_time": "2024-09-18T08:23:02.906Z"
   },
   {
    "duration": 8,
    "start_time": "2024-09-18T08:23:02.916Z"
   },
   {
    "duration": 112,
    "start_time": "2024-09-18T08:23:02.925Z"
   },
   {
    "duration": 139,
    "start_time": "2024-09-18T08:23:03.038Z"
   },
   {
    "duration": 34,
    "start_time": "2024-09-18T08:23:03.178Z"
   },
   {
    "duration": 2,
    "start_time": "2024-09-18T08:23:03.213Z"
   },
   {
    "duration": 27,
    "start_time": "2024-09-18T08:23:03.217Z"
   },
   {
    "duration": 5,
    "start_time": "2024-09-18T08:23:03.245Z"
   },
   {
    "duration": 25,
    "start_time": "2024-09-18T08:23:03.252Z"
   },
   {
    "duration": 30,
    "start_time": "2024-09-18T08:23:03.279Z"
   },
   {
    "duration": 8,
    "start_time": "2024-09-18T08:23:03.311Z"
   },
   {
    "duration": 10,
    "start_time": "2024-09-18T08:23:07.928Z"
   },
   {
    "duration": 73,
    "start_time": "2024-09-18T08:23:08.416Z"
   },
   {
    "duration": 4,
    "start_time": "2024-09-18T08:24:44.236Z"
   },
   {
    "duration": 12,
    "start_time": "2024-09-18T08:24:47.517Z"
   },
   {
    "duration": 13,
    "start_time": "2024-09-18T08:25:36.576Z"
   },
   {
    "duration": 82,
    "start_time": "2024-09-18T08:25:40.782Z"
   },
   {
    "duration": 14,
    "start_time": "2024-09-18T08:25:41.486Z"
   },
   {
    "duration": 13,
    "start_time": "2024-09-18T08:25:46.581Z"
   },
   {
    "duration": 2,
    "start_time": "2024-09-18T08:26:25.427Z"
   },
   {
    "duration": 6,
    "start_time": "2024-09-18T08:26:25.431Z"
   },
   {
    "duration": 5,
    "start_time": "2024-09-18T08:26:25.438Z"
   },
   {
    "duration": 4,
    "start_time": "2024-09-18T08:26:25.445Z"
   },
   {
    "duration": 3,
    "start_time": "2024-09-18T08:26:25.451Z"
   },
   {
    "duration": 9,
    "start_time": "2024-09-18T08:26:25.455Z"
   },
   {
    "duration": 6,
    "start_time": "2024-09-18T08:26:25.466Z"
   },
   {
    "duration": 96,
    "start_time": "2024-09-18T08:26:25.474Z"
   },
   {
    "duration": 135,
    "start_time": "2024-09-18T08:26:25.571Z"
   },
   {
    "duration": 36,
    "start_time": "2024-09-18T08:26:25.707Z"
   },
   {
    "duration": 3,
    "start_time": "2024-09-18T08:26:25.744Z"
   },
   {
    "duration": 8,
    "start_time": "2024-09-18T08:26:25.776Z"
   },
   {
    "duration": 8,
    "start_time": "2024-09-18T08:26:25.786Z"
   },
   {
    "duration": 8,
    "start_time": "2024-09-18T08:26:25.797Z"
   },
   {
    "duration": 13,
    "start_time": "2024-09-18T08:26:25.807Z"
   },
   {
    "duration": 6,
    "start_time": "2024-09-18T08:26:34.416Z"
   },
   {
    "duration": 16,
    "start_time": "2024-09-18T08:26:40.651Z"
   },
   {
    "duration": 630,
    "start_time": "2024-09-18T08:26:48.313Z"
   },
   {
    "duration": 4,
    "start_time": "2024-09-18T08:27:04.810Z"
   },
   {
    "duration": 13,
    "start_time": "2024-09-18T08:27:12.924Z"
   },
   {
    "duration": 6,
    "start_time": "2024-09-18T08:27:23.274Z"
   },
   {
    "duration": 13,
    "start_time": "2024-09-18T08:27:24.386Z"
   },
   {
    "duration": 13,
    "start_time": "2024-09-18T08:27:40.861Z"
   },
   {
    "duration": 13,
    "start_time": "2024-09-18T08:27:54.673Z"
   },
   {
    "duration": 13,
    "start_time": "2024-09-18T08:28:12.991Z"
   },
   {
    "duration": 3,
    "start_time": "2024-09-18T09:13:58.240Z"
   },
   {
    "duration": 16,
    "start_time": "2024-09-18T09:13:58.246Z"
   },
   {
    "duration": 9,
    "start_time": "2024-09-18T09:13:58.264Z"
   },
   {
    "duration": 11,
    "start_time": "2024-09-18T09:13:58.274Z"
   },
   {
    "duration": 8,
    "start_time": "2024-09-18T09:13:58.287Z"
   },
   {
    "duration": 9,
    "start_time": "2024-09-18T09:13:58.297Z"
   },
   {
    "duration": 21,
    "start_time": "2024-09-18T09:13:58.308Z"
   },
   {
    "duration": 112,
    "start_time": "2024-09-18T09:13:58.332Z"
   },
   {
    "duration": 151,
    "start_time": "2024-09-18T09:13:58.446Z"
   },
   {
    "duration": 34,
    "start_time": "2024-09-18T09:13:58.599Z"
   },
   {
    "duration": 2,
    "start_time": "2024-09-18T09:13:58.635Z"
   },
   {
    "duration": 38,
    "start_time": "2024-09-18T09:13:58.639Z"
   },
   {
    "duration": 22,
    "start_time": "2024-09-18T09:14:16.394Z"
   },
   {
    "duration": 14,
    "start_time": "2024-09-18T09:15:07.983Z"
   },
   {
    "duration": 12,
    "start_time": "2024-09-18T09:15:20.817Z"
   },
   {
    "duration": 9,
    "start_time": "2024-09-18T09:22:48.668Z"
   },
   {
    "duration": 5,
    "start_time": "2024-09-18T09:23:09.401Z"
   },
   {
    "duration": 4,
    "start_time": "2024-09-18T09:23:34.249Z"
   },
   {
    "duration": 5,
    "start_time": "2024-09-18T09:24:02.026Z"
   },
   {
    "duration": 88,
    "start_time": "2024-09-18T11:03:14.601Z"
   },
   {
    "duration": 40,
    "start_time": "2024-09-18T11:03:22.685Z"
   },
   {
    "duration": 2,
    "start_time": "2024-09-18T11:03:29.548Z"
   },
   {
    "duration": 1497,
    "start_time": "2024-09-18T11:03:29.551Z"
   },
   {
    "duration": 3,
    "start_time": "2024-09-18T11:03:31.049Z"
   },
   {
    "duration": 149,
    "start_time": "2024-09-18T11:03:31.053Z"
   },
   {
    "duration": 112,
    "start_time": "2024-09-18T11:03:31.204Z"
   },
   {
    "duration": 34,
    "start_time": "2024-09-18T11:03:31.317Z"
   },
   {
    "duration": 46,
    "start_time": "2024-09-18T11:03:31.353Z"
   },
   {
    "duration": 440,
    "start_time": "2024-09-18T11:03:31.401Z"
   },
   {
    "duration": 121,
    "start_time": "2024-09-18T11:03:31.843Z"
   },
   {
    "duration": 50,
    "start_time": "2024-09-18T11:03:31.966Z"
   },
   {
    "duration": 70,
    "start_time": "2024-09-18T11:03:32.017Z"
   },
   {
    "duration": 46,
    "start_time": "2024-09-18T11:03:32.088Z"
   },
   {
    "duration": 21,
    "start_time": "2024-09-18T11:03:34.184Z"
   },
   {
    "duration": 28,
    "start_time": "2024-09-18T11:13:15.621Z"
   },
   {
    "duration": 22,
    "start_time": "2024-09-18T11:47:49.416Z"
   },
   {
    "duration": 21,
    "start_time": "2024-09-18T11:47:54.370Z"
   },
   {
    "duration": 3,
    "start_time": "2024-09-18T20:04:02.351Z"
   },
   {
    "duration": 1817,
    "start_time": "2024-09-18T20:04:02.357Z"
   },
   {
    "duration": 3,
    "start_time": "2024-09-18T20:04:04.176Z"
   },
   {
    "duration": 24,
    "start_time": "2024-09-18T20:04:04.181Z"
   },
   {
    "duration": 15,
    "start_time": "2024-09-18T20:04:04.207Z"
   },
   {
    "duration": 19,
    "start_time": "2024-09-18T20:04:04.223Z"
   },
   {
    "duration": 34,
    "start_time": "2024-09-18T20:04:04.243Z"
   },
   {
    "duration": 443,
    "start_time": "2024-09-18T20:04:04.279Z"
   },
   {
    "duration": 151,
    "start_time": "2024-09-18T20:04:04.724Z"
   },
   {
    "duration": 4,
    "start_time": "2024-09-18T20:04:04.877Z"
   },
   {
    "duration": 63,
    "start_time": "2024-09-18T20:04:04.906Z"
   },
   {
    "duration": 36,
    "start_time": "2024-09-18T20:04:04.971Z"
   },
   {
    "duration": 23,
    "start_time": "2024-09-18T20:04:05.009Z"
   },
   {
    "duration": 138,
    "start_time": "2024-09-18T20:04:05.035Z"
   },
   {
    "duration": 0,
    "start_time": "2024-09-18T20:04:05.174Z"
   },
   {
    "duration": 0,
    "start_time": "2024-09-18T20:04:05.176Z"
   },
   {
    "duration": 0,
    "start_time": "2024-09-18T20:04:05.177Z"
   },
   {
    "duration": 4,
    "start_time": "2024-09-19T09:00:27.650Z"
   },
   {
    "duration": 1643,
    "start_time": "2024-09-19T09:00:27.656Z"
   },
   {
    "duration": 3,
    "start_time": "2024-09-19T09:00:29.301Z"
   },
   {
    "duration": 13,
    "start_time": "2024-09-19T09:00:29.307Z"
   },
   {
    "duration": 5,
    "start_time": "2024-09-19T09:00:29.322Z"
   },
   {
    "duration": 32,
    "start_time": "2024-09-19T09:00:29.329Z"
   },
   {
    "duration": 15,
    "start_time": "2024-09-19T09:00:29.362Z"
   },
   {
    "duration": 352,
    "start_time": "2024-09-19T09:00:29.379Z"
   },
   {
    "duration": 111,
    "start_time": "2024-09-19T09:00:29.734Z"
   },
   {
    "duration": 2,
    "start_time": "2024-09-19T09:00:29.847Z"
   },
   {
    "duration": 65,
    "start_time": "2024-09-19T09:00:29.851Z"
   },
   {
    "duration": 76,
    "start_time": "2024-09-19T09:00:29.917Z"
   },
   {
    "duration": 28,
    "start_time": "2024-09-19T09:00:29.994Z"
   },
   {
    "duration": 154,
    "start_time": "2024-09-19T09:00:30.023Z"
   },
   {
    "duration": 0,
    "start_time": "2024-09-19T09:00:30.178Z"
   },
   {
    "duration": 0,
    "start_time": "2024-09-19T09:00:30.179Z"
   },
   {
    "duration": 0,
    "start_time": "2024-09-19T09:00:30.180Z"
   },
   {
    "duration": 20,
    "start_time": "2024-09-19T09:17:18.268Z"
   },
   {
    "duration": 16,
    "start_time": "2024-09-19T09:17:59.227Z"
   },
   {
    "duration": 18,
    "start_time": "2024-09-19T09:18:37.476Z"
   },
   {
    "duration": 15,
    "start_time": "2024-09-19T09:24:02.254Z"
   },
   {
    "duration": 11,
    "start_time": "2024-09-19T09:25:24.803Z"
   },
   {
    "duration": 4,
    "start_time": "2024-09-19T09:45:50.755Z"
   },
   {
    "duration": 2,
    "start_time": "2024-09-19T09:46:38.008Z"
   },
   {
    "duration": 19,
    "start_time": "2024-09-19T09:46:38.012Z"
   },
   {
    "duration": 4,
    "start_time": "2024-09-19T09:46:38.033Z"
   },
   {
    "duration": 11,
    "start_time": "2024-09-19T09:46:38.038Z"
   },
   {
    "duration": 69,
    "start_time": "2024-09-19T09:46:38.051Z"
   },
   {
    "duration": 5,
    "start_time": "2024-09-19T09:46:38.122Z"
   },
   {
    "duration": 4,
    "start_time": "2024-09-19T09:46:38.129Z"
   },
   {
    "duration": 119,
    "start_time": "2024-09-19T09:46:38.135Z"
   },
   {
    "duration": 121,
    "start_time": "2024-09-19T09:46:38.256Z"
   },
   {
    "duration": 1,
    "start_time": "2024-09-19T09:46:38.379Z"
   },
   {
    "duration": 7,
    "start_time": "2024-09-19T09:46:38.382Z"
   },
   {
    "duration": 5,
    "start_time": "2024-09-19T09:46:38.391Z"
   },
   {
    "duration": 14,
    "start_time": "2024-09-19T09:46:38.397Z"
   },
   {
    "duration": 0,
    "start_time": "2024-09-19T09:46:38.412Z"
   },
   {
    "duration": 0,
    "start_time": "2024-09-19T09:46:38.414Z"
   },
   {
    "duration": 0,
    "start_time": "2024-09-19T09:46:38.415Z"
   },
   {
    "duration": 0,
    "start_time": "2024-09-19T09:46:38.416Z"
   },
   {
    "duration": 0,
    "start_time": "2024-09-19T09:46:38.417Z"
   },
   {
    "duration": 0,
    "start_time": "2024-09-19T09:46:38.418Z"
   },
   {
    "duration": 0,
    "start_time": "2024-09-19T09:46:38.419Z"
   },
   {
    "duration": 0,
    "start_time": "2024-09-19T09:46:38.420Z"
   },
   {
    "duration": 0,
    "start_time": "2024-09-19T09:46:38.421Z"
   },
   {
    "duration": 0,
    "start_time": "2024-09-19T09:46:38.422Z"
   },
   {
    "duration": 3,
    "start_time": "2024-09-19T09:47:23.686Z"
   },
   {
    "duration": 8,
    "start_time": "2024-09-19T09:47:23.691Z"
   },
   {
    "duration": 9,
    "start_time": "2024-09-19T09:47:23.701Z"
   },
   {
    "duration": 4,
    "start_time": "2024-09-19T09:47:23.711Z"
   },
   {
    "duration": 3,
    "start_time": "2024-09-19T09:47:23.717Z"
   },
   {
    "duration": 6,
    "start_time": "2024-09-19T09:47:23.722Z"
   },
   {
    "duration": 15,
    "start_time": "2024-09-19T09:47:23.729Z"
   },
   {
    "duration": 107,
    "start_time": "2024-09-19T09:47:23.745Z"
   },
   {
    "duration": 105,
    "start_time": "2024-09-19T09:47:23.853Z"
   },
   {
    "duration": 3,
    "start_time": "2024-09-19T09:47:23.976Z"
   },
   {
    "duration": 57,
    "start_time": "2024-09-19T09:47:23.980Z"
   },
   {
    "duration": 26,
    "start_time": "2024-09-19T09:47:24.038Z"
   },
   {
    "duration": 66,
    "start_time": "2024-09-19T09:47:24.065Z"
   },
   {
    "duration": 11,
    "start_time": "2024-09-19T09:47:24.133Z"
   },
   {
    "duration": 11,
    "start_time": "2024-09-19T09:47:24.145Z"
   },
   {
    "duration": 4,
    "start_time": "2024-09-19T09:47:24.157Z"
   },
   {
    "duration": 12,
    "start_time": "2024-09-19T09:47:24.162Z"
   },
   {
    "duration": 16,
    "start_time": "2024-09-19T09:47:24.176Z"
   },
   {
    "duration": 0,
    "start_time": "2024-09-19T09:47:24.193Z"
   },
   {
    "duration": 0,
    "start_time": "2024-09-19T09:47:24.195Z"
   },
   {
    "duration": 0,
    "start_time": "2024-09-19T09:47:24.195Z"
   },
   {
    "duration": 15,
    "start_time": "2024-09-19T09:49:08.420Z"
   },
   {
    "duration": 2,
    "start_time": "2024-09-19T09:51:53.823Z"
   },
   {
    "duration": 10,
    "start_time": "2024-09-19T09:51:53.827Z"
   },
   {
    "duration": 5,
    "start_time": "2024-09-19T09:51:53.839Z"
   },
   {
    "duration": 6,
    "start_time": "2024-09-19T09:51:53.845Z"
   },
   {
    "duration": 6,
    "start_time": "2024-09-19T09:51:53.852Z"
   },
   {
    "duration": 11,
    "start_time": "2024-09-19T09:51:53.859Z"
   },
   {
    "duration": 9,
    "start_time": "2024-09-19T09:51:53.872Z"
   },
   {
    "duration": 93,
    "start_time": "2024-09-19T09:51:53.882Z"
   },
   {
    "duration": 127,
    "start_time": "2024-09-19T09:51:53.976Z"
   },
   {
    "duration": 3,
    "start_time": "2024-09-19T09:51:54.105Z"
   },
   {
    "duration": 49,
    "start_time": "2024-09-19T09:51:54.110Z"
   },
   {
    "duration": 19,
    "start_time": "2024-09-19T09:51:54.160Z"
   },
   {
    "duration": 25,
    "start_time": "2024-09-19T09:51:54.180Z"
   },
   {
    "duration": 12,
    "start_time": "2024-09-19T09:51:54.206Z"
   },
   {
    "duration": 6,
    "start_time": "2024-09-19T09:51:54.219Z"
   },
   {
    "duration": 6,
    "start_time": "2024-09-19T09:51:54.227Z"
   },
   {
    "duration": 42,
    "start_time": "2024-09-19T09:51:54.234Z"
   },
   {
    "duration": 0,
    "start_time": "2024-09-19T09:51:54.277Z"
   },
   {
    "duration": 0,
    "start_time": "2024-09-19T09:51:54.278Z"
   },
   {
    "duration": 0,
    "start_time": "2024-09-19T09:51:54.279Z"
   },
   {
    "duration": 2,
    "start_time": "2024-09-19T09:52:49.698Z"
   },
   {
    "duration": 6,
    "start_time": "2024-09-19T09:52:49.702Z"
   },
   {
    "duration": 8,
    "start_time": "2024-09-19T09:52:49.709Z"
   },
   {
    "duration": 4,
    "start_time": "2024-09-19T09:52:49.719Z"
   },
   {
    "duration": 7,
    "start_time": "2024-09-19T09:52:49.725Z"
   },
   {
    "duration": 10,
    "start_time": "2024-09-19T09:52:49.734Z"
   },
   {
    "duration": 5,
    "start_time": "2024-09-19T09:52:49.746Z"
   },
   {
    "duration": 92,
    "start_time": "2024-09-19T09:52:49.753Z"
   },
   {
    "duration": 138,
    "start_time": "2024-09-19T09:52:49.846Z"
   },
   {
    "duration": 3,
    "start_time": "2024-09-19T09:52:49.986Z"
   },
   {
    "duration": 10,
    "start_time": "2024-09-19T09:52:49.990Z"
   },
   {
    "duration": 31,
    "start_time": "2024-09-19T09:52:50.002Z"
   },
   {
    "duration": 136,
    "start_time": "2024-09-19T09:52:50.035Z"
   },
   {
    "duration": 17,
    "start_time": "2024-09-19T09:52:50.173Z"
   },
   {
    "duration": 8,
    "start_time": "2024-09-19T09:52:50.192Z"
   },
   {
    "duration": 14,
    "start_time": "2024-09-19T09:52:50.202Z"
   },
   {
    "duration": 18,
    "start_time": "2024-09-19T09:52:50.218Z"
   },
   {
    "duration": 0,
    "start_time": "2024-09-19T09:52:50.238Z"
   },
   {
    "duration": 0,
    "start_time": "2024-09-19T09:52:50.240Z"
   },
   {
    "duration": 0,
    "start_time": "2024-09-19T09:52:50.241Z"
   },
   {
    "duration": 2,
    "start_time": "2024-09-19T09:56:05.206Z"
   },
   {
    "duration": 11,
    "start_time": "2024-09-19T09:56:05.210Z"
   },
   {
    "duration": 10,
    "start_time": "2024-09-19T09:56:05.222Z"
   },
   {
    "duration": 15,
    "start_time": "2024-09-19T09:56:05.234Z"
   },
   {
    "duration": 5,
    "start_time": "2024-09-19T09:56:05.251Z"
   },
   {
    "duration": 24,
    "start_time": "2024-09-19T09:56:05.258Z"
   },
   {
    "duration": 26,
    "start_time": "2024-09-19T09:56:05.284Z"
   },
   {
    "duration": 95,
    "start_time": "2024-09-19T09:56:05.311Z"
   },
   {
    "duration": 132,
    "start_time": "2024-09-19T09:56:05.407Z"
   },
   {
    "duration": 2,
    "start_time": "2024-09-19T09:56:05.541Z"
   },
   {
    "duration": 88,
    "start_time": "2024-09-19T09:56:05.545Z"
   },
   {
    "duration": 68,
    "start_time": "2024-09-19T09:56:05.635Z"
   },
   {
    "duration": 29,
    "start_time": "2024-09-19T09:56:05.705Z"
   },
   {
    "duration": 15,
    "start_time": "2024-09-19T09:56:05.736Z"
   },
   {
    "duration": 8,
    "start_time": "2024-09-19T09:56:05.752Z"
   },
   {
    "duration": 40,
    "start_time": "2024-09-19T09:56:05.761Z"
   },
   {
    "duration": 34,
    "start_time": "2024-09-19T09:56:05.803Z"
   },
   {
    "duration": 0,
    "start_time": "2024-09-19T09:56:05.839Z"
   },
   {
    "duration": 0,
    "start_time": "2024-09-19T09:56:05.840Z"
   },
   {
    "duration": 0,
    "start_time": "2024-09-19T09:56:05.841Z"
   },
   {
    "duration": 922,
    "start_time": "2024-09-19T09:56:40.523Z"
   },
   {
    "duration": 12,
    "start_time": "2024-09-19T09:59:40.569Z"
   },
   {
    "duration": 7,
    "start_time": "2024-09-19T10:00:50.405Z"
   },
   {
    "duration": 7,
    "start_time": "2024-09-19T10:01:07.098Z"
   },
   {
    "duration": 5,
    "start_time": "2024-09-19T10:37:00.498Z"
   },
   {
    "duration": 9,
    "start_time": "2024-09-19T10:37:22.257Z"
   },
   {
    "duration": 10,
    "start_time": "2024-09-19T10:43:08.569Z"
   },
   {
    "duration": 15,
    "start_time": "2024-09-19T10:43:24.027Z"
   },
   {
    "duration": 3,
    "start_time": "2024-09-19T10:43:40.093Z"
   },
   {
    "duration": 7,
    "start_time": "2024-09-19T10:43:40.098Z"
   },
   {
    "duration": 15,
    "start_time": "2024-09-19T10:43:40.106Z"
   },
   {
    "duration": 5,
    "start_time": "2024-09-19T10:43:40.123Z"
   },
   {
    "duration": 3,
    "start_time": "2024-09-19T10:43:40.130Z"
   },
   {
    "duration": 6,
    "start_time": "2024-09-19T10:43:40.135Z"
   },
   {
    "duration": 7,
    "start_time": "2024-09-19T10:43:40.143Z"
   },
   {
    "duration": 100,
    "start_time": "2024-09-19T10:43:40.151Z"
   },
   {
    "duration": 143,
    "start_time": "2024-09-19T10:43:40.252Z"
   },
   {
    "duration": 3,
    "start_time": "2024-09-19T10:43:40.397Z"
   },
   {
    "duration": 20,
    "start_time": "2024-09-19T10:43:40.402Z"
   },
   {
    "duration": 19,
    "start_time": "2024-09-19T10:43:40.424Z"
   },
   {
    "duration": 53,
    "start_time": "2024-09-19T10:43:40.445Z"
   },
   {
    "duration": 12,
    "start_time": "2024-09-19T10:43:40.501Z"
   },
   {
    "duration": 10,
    "start_time": "2024-09-19T10:43:40.515Z"
   },
   {
    "duration": 16,
    "start_time": "2024-09-19T10:43:40.526Z"
   },
   {
    "duration": 35,
    "start_time": "2024-09-19T10:43:40.544Z"
   },
   {
    "duration": 16,
    "start_time": "2024-09-19T10:43:40.580Z"
   },
   {
    "duration": 10,
    "start_time": "2024-09-19T10:43:40.598Z"
   },
   {
    "duration": 658,
    "start_time": "2024-09-19T10:43:40.609Z"
   },
   {
    "duration": 0,
    "start_time": "2024-09-19T10:43:41.268Z"
   },
   {
    "duration": 13,
    "start_time": "2024-09-19T10:44:29.394Z"
   },
   {
    "duration": 6,
    "start_time": "2024-09-19T10:47:14.490Z"
   },
   {
    "duration": 3,
    "start_time": "2024-09-19T12:02:13.134Z"
   },
   {
    "duration": 5,
    "start_time": "2024-09-19T12:02:13.139Z"
   },
   {
    "duration": 6,
    "start_time": "2024-09-19T12:02:13.146Z"
   },
   {
    "duration": 7,
    "start_time": "2024-09-19T12:02:13.154Z"
   },
   {
    "duration": 5,
    "start_time": "2024-09-19T12:02:13.164Z"
   },
   {
    "duration": 11,
    "start_time": "2024-09-19T12:02:13.171Z"
   },
   {
    "duration": 19,
    "start_time": "2024-09-19T12:02:13.183Z"
   },
   {
    "duration": 96,
    "start_time": "2024-09-19T12:02:13.204Z"
   },
   {
    "duration": 124,
    "start_time": "2024-09-19T12:02:13.301Z"
   },
   {
    "duration": 2,
    "start_time": "2024-09-19T12:02:13.426Z"
   },
   {
    "duration": 11,
    "start_time": "2024-09-19T12:02:13.429Z"
   },
   {
    "duration": 47,
    "start_time": "2024-09-19T12:02:13.442Z"
   },
   {
    "duration": 25,
    "start_time": "2024-09-19T12:02:13.490Z"
   },
   {
    "duration": 12,
    "start_time": "2024-09-19T12:02:13.518Z"
   },
   {
    "duration": 50,
    "start_time": "2024-09-19T12:02:13.531Z"
   },
   {
    "duration": 12,
    "start_time": "2024-09-19T12:02:23.019Z"
   },
   {
    "duration": 864,
    "start_time": "2024-09-19T12:06:47.936Z"
   },
   {
    "duration": 10,
    "start_time": "2024-09-19T12:07:33.396Z"
   },
   {
    "duration": 8,
    "start_time": "2024-09-19T12:07:41.565Z"
   },
   {
    "duration": 16,
    "start_time": "2024-09-19T12:07:46.477Z"
   },
   {
    "duration": 11,
    "start_time": "2024-09-19T12:07:53.638Z"
   },
   {
    "duration": 13,
    "start_time": "2024-09-19T12:08:19.818Z"
   },
   {
    "duration": 12,
    "start_time": "2024-09-19T12:08:42.732Z"
   },
   {
    "duration": 2,
    "start_time": "2024-09-19T12:09:23.632Z"
   },
   {
    "duration": 16,
    "start_time": "2024-09-19T12:09:23.636Z"
   },
   {
    "duration": 10,
    "start_time": "2024-09-19T12:09:23.653Z"
   },
   {
    "duration": 4,
    "start_time": "2024-09-19T12:09:23.664Z"
   },
   {
    "duration": 21,
    "start_time": "2024-09-19T12:09:23.670Z"
   },
   {
    "duration": 16,
    "start_time": "2024-09-19T12:09:23.692Z"
   },
   {
    "duration": 7,
    "start_time": "2024-09-19T12:09:23.710Z"
   },
   {
    "duration": 106,
    "start_time": "2024-09-19T12:09:23.720Z"
   },
   {
    "duration": 150,
    "start_time": "2024-09-19T12:09:23.828Z"
   },
   {
    "duration": 3,
    "start_time": "2024-09-19T12:09:23.979Z"
   },
   {
    "duration": 76,
    "start_time": "2024-09-19T12:09:23.983Z"
   },
   {
    "duration": 16,
    "start_time": "2024-09-19T12:09:24.061Z"
   },
   {
    "duration": 25,
    "start_time": "2024-09-19T12:09:24.080Z"
   },
   {
    "duration": 12,
    "start_time": "2024-09-19T12:09:24.107Z"
   },
   {
    "duration": 6,
    "start_time": "2024-09-19T12:09:24.121Z"
   },
   {
    "duration": 10,
    "start_time": "2024-09-19T12:09:24.128Z"
   },
   {
    "duration": 34,
    "start_time": "2024-09-19T12:13:25.235Z"
   },
   {
    "duration": 19,
    "start_time": "2024-09-19T12:18:51.965Z"
   },
   {
    "duration": 21,
    "start_time": "2024-09-19T12:19:55.817Z"
   },
   {
    "duration": 18,
    "start_time": "2024-09-19T12:20:10.496Z"
   },
   {
    "duration": 2,
    "start_time": "2024-09-19T13:00:47.474Z"
   },
   {
    "duration": 13,
    "start_time": "2024-09-19T13:00:47.478Z"
   },
   {
    "duration": 10,
    "start_time": "2024-09-19T13:00:47.492Z"
   },
   {
    "duration": 4,
    "start_time": "2024-09-19T13:00:47.504Z"
   },
   {
    "duration": 6,
    "start_time": "2024-09-19T13:00:47.509Z"
   },
   {
    "duration": 6,
    "start_time": "2024-09-19T13:00:47.516Z"
   },
   {
    "duration": 8,
    "start_time": "2024-09-19T13:00:47.524Z"
   },
   {
    "duration": 92,
    "start_time": "2024-09-19T13:00:47.534Z"
   },
   {
    "duration": 110,
    "start_time": "2024-09-19T13:00:47.628Z"
   },
   {
    "duration": 8,
    "start_time": "2024-09-19T13:00:47.741Z"
   },
   {
    "duration": 30,
    "start_time": "2024-09-19T13:00:47.775Z"
   },
   {
    "duration": 27,
    "start_time": "2024-09-19T13:00:47.806Z"
   },
   {
    "duration": 14,
    "start_time": "2024-09-19T13:00:47.835Z"
   },
   {
    "duration": 7,
    "start_time": "2024-09-19T13:00:47.850Z"
   },
   {
    "duration": 26,
    "start_time": "2024-09-19T13:00:47.858Z"
   },
   {
    "duration": 3,
    "start_time": "2024-09-19T13:00:47.885Z"
   },
   {
    "duration": 21,
    "start_time": "2024-09-19T13:00:47.889Z"
   },
   {
    "duration": 12,
    "start_time": "2024-09-19T13:00:47.911Z"
   },
   {
    "duration": 0,
    "start_time": "2024-09-19T13:00:47.924Z"
   },
   {
    "duration": 0,
    "start_time": "2024-09-19T13:00:47.925Z"
   },
   {
    "duration": 0,
    "start_time": "2024-09-19T13:00:47.926Z"
   },
   {
    "duration": 0,
    "start_time": "2024-09-19T13:00:47.927Z"
   },
   {
    "duration": 12,
    "start_time": "2024-09-19T13:01:08.996Z"
   },
   {
    "duration": 10,
    "start_time": "2024-09-19T13:01:12.240Z"
   },
   {
    "duration": 4,
    "start_time": "2024-09-19T13:01:23.987Z"
   },
   {
    "duration": 10,
    "start_time": "2024-09-19T13:01:39.604Z"
   },
   {
    "duration": 9,
    "start_time": "2024-09-19T13:03:07.838Z"
   },
   {
    "duration": 2,
    "start_time": "2024-09-19T13:03:16.458Z"
   },
   {
    "duration": 17,
    "start_time": "2024-09-19T13:03:16.462Z"
   },
   {
    "duration": 7,
    "start_time": "2024-09-19T13:03:16.481Z"
   },
   {
    "duration": 8,
    "start_time": "2024-09-19T13:03:16.490Z"
   },
   {
    "duration": 14,
    "start_time": "2024-09-19T13:03:16.500Z"
   },
   {
    "duration": 6,
    "start_time": "2024-09-19T13:03:16.516Z"
   },
   {
    "duration": 7,
    "start_time": "2024-09-19T13:03:16.524Z"
   },
   {
    "duration": 99,
    "start_time": "2024-09-19T13:03:16.533Z"
   },
   {
    "duration": 113,
    "start_time": "2024-09-19T13:03:16.634Z"
   },
   {
    "duration": 32,
    "start_time": "2024-09-19T13:03:16.749Z"
   },
   {
    "duration": 26,
    "start_time": "2024-09-19T13:03:16.782Z"
   },
   {
    "duration": 26,
    "start_time": "2024-09-19T13:03:16.810Z"
   },
   {
    "duration": 12,
    "start_time": "2024-09-19T13:03:16.838Z"
   },
   {
    "duration": 8,
    "start_time": "2024-09-19T13:03:16.875Z"
   },
   {
    "duration": 17,
    "start_time": "2024-09-19T13:03:16.884Z"
   },
   {
    "duration": 2,
    "start_time": "2024-09-19T13:03:16.902Z"
   },
   {
    "duration": 20,
    "start_time": "2024-09-19T13:03:16.906Z"
   },
   {
    "duration": 10,
    "start_time": "2024-09-19T13:03:16.927Z"
   },
   {
    "duration": 10,
    "start_time": "2024-09-19T13:03:20.187Z"
   },
   {
    "duration": 7,
    "start_time": "2024-09-19T13:03:20.702Z"
   },
   {
    "duration": 8,
    "start_time": "2024-09-19T13:05:18.160Z"
   },
   {
    "duration": 18,
    "start_time": "2024-09-19T13:05:30.575Z"
   },
   {
    "duration": 11,
    "start_time": "2024-09-19T13:06:46.209Z"
   },
   {
    "duration": 7,
    "start_time": "2024-09-19T13:08:11.291Z"
   },
   {
    "duration": 12,
    "start_time": "2024-09-19T13:08:17.125Z"
   },
   {
    "duration": 8,
    "start_time": "2024-09-19T13:26:12.020Z"
   },
   {
    "duration": 14,
    "start_time": "2024-09-19T13:26:12.805Z"
   },
   {
    "duration": 24,
    "start_time": "2024-09-19T13:27:10.561Z"
   },
   {
    "duration": 30,
    "start_time": "2024-09-19T13:27:46.681Z"
   },
   {
    "duration": 30,
    "start_time": "2024-09-19T13:28:07.209Z"
   },
   {
    "duration": 13,
    "start_time": "2024-09-19T14:16:29.630Z"
   },
   {
    "duration": 14,
    "start_time": "2024-09-19T14:16:36.486Z"
   },
   {
    "duration": 28,
    "start_time": "2024-09-19T14:16:56.247Z"
   },
   {
    "duration": 2,
    "start_time": "2024-09-19T14:22:39.536Z"
   },
   {
    "duration": 96,
    "start_time": "2024-09-19T14:22:39.540Z"
   },
   {
    "duration": 5,
    "start_time": "2024-09-19T14:22:39.638Z"
   },
   {
    "duration": 8,
    "start_time": "2024-09-19T14:22:39.645Z"
   },
   {
    "duration": 3,
    "start_time": "2024-09-19T14:22:39.654Z"
   },
   {
    "duration": 7,
    "start_time": "2024-09-19T14:22:39.659Z"
   },
   {
    "duration": 5,
    "start_time": "2024-09-19T14:22:39.668Z"
   },
   {
    "duration": 93,
    "start_time": "2024-09-19T14:22:39.675Z"
   },
   {
    "duration": 132,
    "start_time": "2024-09-19T14:22:39.769Z"
   },
   {
    "duration": 8,
    "start_time": "2024-09-19T14:22:39.903Z"
   },
   {
    "duration": 25,
    "start_time": "2024-09-19T14:22:39.912Z"
   },
   {
    "duration": 51,
    "start_time": "2024-09-19T14:22:39.939Z"
   },
   {
    "duration": 52,
    "start_time": "2024-09-19T14:22:39.992Z"
   },
   {
    "duration": 8,
    "start_time": "2024-09-19T14:22:40.047Z"
   },
   {
    "duration": 12,
    "start_time": "2024-09-19T14:22:40.057Z"
   },
   {
    "duration": 2,
    "start_time": "2024-09-19T14:22:40.070Z"
   },
   {
    "duration": 20,
    "start_time": "2024-09-19T14:22:40.074Z"
   },
   {
    "duration": 9,
    "start_time": "2024-09-19T14:22:40.095Z"
   },
   {
    "duration": 8,
    "start_time": "2024-09-19T14:22:40.106Z"
   },
   {
    "duration": 10,
    "start_time": "2024-09-19T14:22:40.115Z"
   },
   {
    "duration": 16,
    "start_time": "2024-09-19T14:22:43.681Z"
   },
   {
    "duration": 14,
    "start_time": "2024-09-19T14:22:44.400Z"
   },
   {
    "duration": 3,
    "start_time": "2024-09-19T14:22:45.771Z"
   },
   {
    "duration": 13,
    "start_time": "2024-09-19T14:22:46.344Z"
   },
   {
    "duration": 27,
    "start_time": "2024-09-19T14:22:52.903Z"
   },
   {
    "duration": 2,
    "start_time": "2024-09-19T14:46:11.465Z"
   },
   {
    "duration": 15,
    "start_time": "2024-09-19T14:46:11.469Z"
   },
   {
    "duration": 3,
    "start_time": "2024-09-19T14:46:11.485Z"
   },
   {
    "duration": 5,
    "start_time": "2024-09-19T14:46:11.490Z"
   },
   {
    "duration": 2,
    "start_time": "2024-09-19T14:46:11.497Z"
   },
   {
    "duration": 6,
    "start_time": "2024-09-19T14:46:11.501Z"
   },
   {
    "duration": 4,
    "start_time": "2024-09-19T14:46:11.508Z"
   },
   {
    "duration": 89,
    "start_time": "2024-09-19T14:46:11.513Z"
   },
   {
    "duration": 131,
    "start_time": "2024-09-19T14:46:11.604Z"
   },
   {
    "duration": 7,
    "start_time": "2024-09-19T14:46:11.737Z"
   },
   {
    "duration": 47,
    "start_time": "2024-09-19T14:46:11.745Z"
   },
   {
    "duration": 25,
    "start_time": "2024-09-19T14:46:11.794Z"
   },
   {
    "duration": 12,
    "start_time": "2024-09-19T14:46:11.821Z"
   },
   {
    "duration": 8,
    "start_time": "2024-09-19T14:46:11.835Z"
   },
   {
    "duration": 37,
    "start_time": "2024-09-19T14:46:11.844Z"
   },
   {
    "duration": 14,
    "start_time": "2024-09-19T14:46:11.883Z"
   },
   {
    "duration": 20,
    "start_time": "2024-09-19T14:46:11.899Z"
   },
   {
    "duration": 34,
    "start_time": "2024-09-19T14:46:14.105Z"
   },
   {
    "duration": 2,
    "start_time": "2024-09-19T14:46:15.848Z"
   },
   {
    "duration": 14,
    "start_time": "2024-09-19T14:46:16.292Z"
   },
   {
    "duration": 29,
    "start_time": "2024-09-19T14:46:20.254Z"
   },
   {
    "duration": 8,
    "start_time": "2024-09-19T15:33:30.472Z"
   },
   {
    "duration": 29,
    "start_time": "2024-09-19T15:33:45.161Z"
   },
   {
    "duration": 22,
    "start_time": "2024-09-19T15:35:11.377Z"
   },
   {
    "duration": 6,
    "start_time": "2024-09-19T15:36:12.048Z"
   },
   {
    "duration": 5,
    "start_time": "2024-09-19T15:36:16.268Z"
   },
   {
    "duration": 7,
    "start_time": "2024-09-19T15:36:59.102Z"
   },
   {
    "duration": 5,
    "start_time": "2024-09-19T15:44:50.330Z"
   },
   {
    "duration": 4,
    "start_time": "2024-09-19T19:34:53.056Z"
   },
   {
    "duration": 1702,
    "start_time": "2024-09-19T19:34:53.062Z"
   },
   {
    "duration": 5,
    "start_time": "2024-09-19T19:34:54.767Z"
   },
   {
    "duration": 34,
    "start_time": "2024-09-19T19:34:54.775Z"
   },
   {
    "duration": 19,
    "start_time": "2024-09-19T19:34:54.812Z"
   },
   {
    "duration": 8,
    "start_time": "2024-09-19T19:34:54.833Z"
   },
   {
    "duration": 18,
    "start_time": "2024-09-19T19:34:54.842Z"
   },
   {
    "duration": 451,
    "start_time": "2024-09-19T19:34:54.862Z"
   },
   {
    "duration": 167,
    "start_time": "2024-09-19T19:34:55.315Z"
   },
   {
    "duration": 10,
    "start_time": "2024-09-19T19:34:55.510Z"
   },
   {
    "duration": 62,
    "start_time": "2024-09-19T19:34:55.522Z"
   },
   {
    "duration": 44,
    "start_time": "2024-09-19T19:34:55.586Z"
   },
   {
    "duration": 23,
    "start_time": "2024-09-19T19:34:55.632Z"
   },
   {
    "duration": 48,
    "start_time": "2024-09-19T19:34:55.658Z"
   },
   {
    "duration": 27,
    "start_time": "2024-09-19T19:34:55.708Z"
   },
   {
    "duration": 3,
    "start_time": "2024-09-19T19:34:55.737Z"
   },
   {
    "duration": 45,
    "start_time": "2024-09-19T19:34:55.742Z"
   },
   {
    "duration": 53,
    "start_time": "2024-09-19T19:34:55.789Z"
   },
   {
    "duration": 14,
    "start_time": "2024-09-19T19:34:55.844Z"
   },
   {
    "duration": 5,
    "start_time": "2024-09-19T19:34:55.860Z"
   },
   {
    "duration": 10,
    "start_time": "2024-09-19T19:34:55.866Z"
   },
   {
    "duration": 8,
    "start_time": "2024-09-19T19:34:55.878Z"
   },
   {
    "duration": 122,
    "start_time": "2024-09-19T19:35:09.989Z"
   },
   {
    "duration": 4,
    "start_time": "2024-09-19T19:36:34.444Z"
   },
   {
    "duration": 31,
    "start_time": "2024-09-19T19:36:52.888Z"
   },
   {
    "duration": 32,
    "start_time": "2024-09-19T19:37:06.324Z"
   },
   {
    "duration": 7,
    "start_time": "2024-09-19T19:38:15.094Z"
   },
   {
    "duration": 6,
    "start_time": "2024-09-19T19:38:15.985Z"
   },
   {
    "duration": 16,
    "start_time": "2024-09-19T19:39:22.533Z"
   },
   {
    "duration": 14,
    "start_time": "2024-09-19T19:40:15.313Z"
   },
   {
    "duration": 17,
    "start_time": "2024-09-19T19:41:28.354Z"
   },
   {
    "duration": 21,
    "start_time": "2024-09-19T19:41:42.958Z"
   },
   {
    "duration": 12,
    "start_time": "2024-09-19T19:42:03.233Z"
   },
   {
    "duration": 5,
    "start_time": "2024-09-19T19:43:26.218Z"
   },
   {
    "duration": 6,
    "start_time": "2024-09-19T19:43:26.880Z"
   },
   {
    "duration": 12,
    "start_time": "2024-09-19T19:43:55.097Z"
   },
   {
    "duration": 16,
    "start_time": "2024-09-19T19:44:49.434Z"
   },
   {
    "duration": 3,
    "start_time": "2024-09-19T19:46:36.252Z"
   },
   {
    "duration": 56,
    "start_time": "2024-09-19T19:46:36.257Z"
   },
   {
    "duration": 32,
    "start_time": "2024-09-19T19:46:36.315Z"
   },
   {
    "duration": 6,
    "start_time": "2024-09-19T19:46:36.349Z"
   },
   {
    "duration": 31,
    "start_time": "2024-09-19T19:46:36.357Z"
   },
   {
    "duration": 59,
    "start_time": "2024-09-19T19:46:36.389Z"
   },
   {
    "duration": 30,
    "start_time": "2024-09-19T19:46:36.450Z"
   },
   {
    "duration": 112,
    "start_time": "2024-09-19T19:46:36.481Z"
   },
   {
    "duration": 168,
    "start_time": "2024-09-19T19:46:36.595Z"
   },
   {
    "duration": 10,
    "start_time": "2024-09-19T19:46:36.765Z"
   },
   {
    "duration": 49,
    "start_time": "2024-09-19T19:46:36.777Z"
   },
   {
    "duration": 43,
    "start_time": "2024-09-19T19:46:36.828Z"
   },
   {
    "duration": 40,
    "start_time": "2024-09-19T19:46:36.873Z"
   },
   {
    "duration": 9,
    "start_time": "2024-09-19T19:46:36.916Z"
   },
   {
    "duration": 25,
    "start_time": "2024-09-19T19:46:36.927Z"
   },
   {
    "duration": 3,
    "start_time": "2024-09-19T19:46:36.954Z"
   },
   {
    "duration": 51,
    "start_time": "2024-09-19T19:46:36.959Z"
   },
   {
    "duration": 36,
    "start_time": "2024-09-19T19:46:37.013Z"
   },
   {
    "duration": 13,
    "start_time": "2024-09-19T19:46:37.051Z"
   },
   {
    "duration": 5,
    "start_time": "2024-09-19T19:46:37.066Z"
   },
   {
    "duration": 36,
    "start_time": "2024-09-19T19:46:37.072Z"
   },
   {
    "duration": 6,
    "start_time": "2024-09-19T19:46:37.110Z"
   },
   {
    "duration": 27,
    "start_time": "2024-09-19T19:46:37.118Z"
   },
   {
    "duration": 43,
    "start_time": "2024-09-19T19:46:37.148Z"
   },
   {
    "duration": 82,
    "start_time": "2024-09-19T19:49:51.460Z"
   },
   {
    "duration": 2,
    "start_time": "2024-09-19T19:49:56.850Z"
   },
   {
    "duration": 23,
    "start_time": "2024-09-19T19:49:56.855Z"
   },
   {
    "duration": 7,
    "start_time": "2024-09-19T19:49:56.879Z"
   },
   {
    "duration": 3,
    "start_time": "2024-09-19T19:49:56.888Z"
   },
   {
    "duration": 5,
    "start_time": "2024-09-19T19:49:56.893Z"
   },
   {
    "duration": 9,
    "start_time": "2024-09-19T19:49:56.900Z"
   },
   {
    "duration": 29,
    "start_time": "2024-09-19T19:49:56.910Z"
   },
   {
    "duration": 94,
    "start_time": "2024-09-19T19:49:56.941Z"
   },
   {
    "duration": 135,
    "start_time": "2024-09-19T19:49:57.037Z"
   },
   {
    "duration": 8,
    "start_time": "2024-09-19T19:49:57.173Z"
   },
   {
    "duration": 40,
    "start_time": "2024-09-19T19:49:57.182Z"
   },
   {
    "duration": 27,
    "start_time": "2024-09-19T19:49:57.224Z"
   },
   {
    "duration": 31,
    "start_time": "2024-09-19T19:49:57.253Z"
   },
   {
    "duration": 32,
    "start_time": "2024-09-19T19:49:57.287Z"
   },
   {
    "duration": 84,
    "start_time": "2024-09-19T19:49:57.320Z"
   },
   {
    "duration": 17,
    "start_time": "2024-09-19T19:49:57.406Z"
   },
   {
    "duration": 24,
    "start_time": "2024-09-19T19:49:57.425Z"
   },
   {
    "duration": 32,
    "start_time": "2024-09-19T19:49:57.451Z"
   },
   {
    "duration": 25,
    "start_time": "2024-09-19T19:49:57.484Z"
   },
   {
    "duration": 6,
    "start_time": "2024-09-19T19:49:57.511Z"
   },
   {
    "duration": 12,
    "start_time": "2024-09-19T19:49:57.518Z"
   },
   {
    "duration": 83,
    "start_time": "2024-09-19T19:49:57.532Z"
   },
   {
    "duration": 22,
    "start_time": "2024-09-19T19:49:57.616Z"
   },
   {
    "duration": 27,
    "start_time": "2024-09-19T19:49:57.640Z"
   },
   {
    "duration": 17,
    "start_time": "2024-09-19T19:52:04.374Z"
   },
   {
    "duration": 15,
    "start_time": "2024-09-19T19:54:11.183Z"
   },
   {
    "duration": 10,
    "start_time": "2024-09-19T19:58:57.208Z"
   },
   {
    "duration": 36844,
    "start_time": "2024-09-19T20:00:51.845Z"
   },
   {
    "duration": 6,
    "start_time": "2024-09-19T20:05:48.834Z"
   },
   {
    "duration": 2077,
    "start_time": "2024-09-19T20:05:54.331Z"
   },
   {
    "duration": 7,
    "start_time": "2024-09-19T20:06:39.489Z"
   },
   {
    "duration": 1960,
    "start_time": "2024-09-19T20:06:44.993Z"
   },
   {
    "duration": 8,
    "start_time": "2024-09-19T20:21:44.265Z"
   },
   {
    "duration": 1294,
    "start_time": "2024-09-19T20:21:49.121Z"
   },
   {
    "duration": 10,
    "start_time": "2024-09-19T20:23:54.872Z"
   },
   {
    "duration": 10,
    "start_time": "2024-09-19T20:25:41.179Z"
   },
   {
    "duration": 53,
    "start_time": "2024-09-19T20:26:00.962Z"
   },
   {
    "duration": 81,
    "start_time": "2024-09-19T20:26:06.794Z"
   },
   {
    "duration": 13,
    "start_time": "2024-09-19T20:26:12.867Z"
   },
   {
    "duration": 9,
    "start_time": "2024-09-19T20:27:03.824Z"
   },
   {
    "duration": 14,
    "start_time": "2024-09-19T20:27:15.574Z"
   },
   {
    "duration": 5,
    "start_time": "2024-09-19T20:31:08.536Z"
   },
   {
    "duration": 5,
    "start_time": "2024-09-19T20:31:25.473Z"
   },
   {
    "duration": 9,
    "start_time": "2024-09-19T20:32:35.220Z"
   },
   {
    "duration": 1446,
    "start_time": "2024-09-19T20:32:37.829Z"
   },
   {
    "duration": 503,
    "start_time": "2024-09-19T20:32:45.706Z"
   },
   {
    "duration": 4,
    "start_time": "2024-09-19T20:33:42.499Z"
   },
   {
    "duration": 614,
    "start_time": "2024-09-19T20:33:46.263Z"
   },
   {
    "duration": 4,
    "start_time": "2024-09-19T20:35:09.504Z"
   },
   {
    "duration": 1761,
    "start_time": "2024-09-19T20:35:14.224Z"
   },
   {
    "duration": 3,
    "start_time": "2024-09-20T13:25:00.864Z"
   },
   {
    "duration": 1742,
    "start_time": "2024-09-20T13:25:00.869Z"
   },
   {
    "duration": 3,
    "start_time": "2024-09-20T13:25:02.613Z"
   },
   {
    "duration": 27,
    "start_time": "2024-09-20T13:25:02.617Z"
   },
   {
    "duration": 19,
    "start_time": "2024-09-20T13:25:02.646Z"
   },
   {
    "duration": 30,
    "start_time": "2024-09-20T13:25:02.667Z"
   },
   {
    "duration": 20,
    "start_time": "2024-09-20T13:25:02.699Z"
   },
   {
    "duration": 28,
    "start_time": "2024-09-20T13:25:02.721Z"
   },
   {
    "duration": 415,
    "start_time": "2024-09-20T13:25:02.750Z"
   },
   {
    "duration": 137,
    "start_time": "2024-09-20T13:25:03.166Z"
   },
   {
    "duration": 7,
    "start_time": "2024-09-20T13:25:03.304Z"
   },
   {
    "duration": 45,
    "start_time": "2024-09-20T13:25:03.312Z"
   },
   {
    "duration": 27,
    "start_time": "2024-09-20T13:25:03.358Z"
   },
   {
    "duration": 31,
    "start_time": "2024-09-20T13:25:03.387Z"
   },
   {
    "duration": 28,
    "start_time": "2024-09-20T13:25:03.420Z"
   },
   {
    "duration": 16,
    "start_time": "2024-09-20T13:25:03.449Z"
   },
   {
    "duration": 9,
    "start_time": "2024-09-20T13:25:03.467Z"
   },
   {
    "duration": 44,
    "start_time": "2024-09-20T13:25:03.478Z"
   },
   {
    "duration": 56,
    "start_time": "2024-09-20T13:25:03.523Z"
   },
   {
    "duration": 14,
    "start_time": "2024-09-20T13:25:03.580Z"
   },
   {
    "duration": 13,
    "start_time": "2024-09-20T13:25:03.596Z"
   },
   {
    "duration": 27,
    "start_time": "2024-09-20T13:25:03.611Z"
   },
   {
    "duration": 18,
    "start_time": "2024-09-20T13:25:03.640Z"
   },
   {
    "duration": 36,
    "start_time": "2024-09-20T13:25:03.659Z"
   },
   {
    "duration": 28,
    "start_time": "2024-09-20T13:25:03.697Z"
   },
   {
    "duration": 17,
    "start_time": "2024-09-20T13:25:03.727Z"
   },
   {
    "duration": 1451,
    "start_time": "2024-09-20T13:25:03.746Z"
   },
   {
    "duration": 1616,
    "start_time": "2024-09-20T13:25:05.199Z"
   },
   {
    "duration": 4,
    "start_time": "2024-09-20T13:26:01.753Z"
   },
   {
    "duration": 1674,
    "start_time": "2024-09-20T13:26:07.232Z"
   },
   {
    "duration": 4,
    "start_time": "2024-09-20T13:26:49.536Z"
   },
   {
    "duration": 1513,
    "start_time": "2024-09-20T13:26:52.930Z"
   },
   {
    "duration": 4,
    "start_time": "2024-09-20T13:27:31.319Z"
   },
   {
    "duration": 4,
    "start_time": "2024-09-20T13:27:44.447Z"
   },
   {
    "duration": 1674,
    "start_time": "2024-09-20T13:27:48.491Z"
   },
   {
    "duration": 4,
    "start_time": "2024-09-20T13:28:23.069Z"
   },
   {
    "duration": 1567,
    "start_time": "2024-09-20T13:28:26.423Z"
   },
   {
    "duration": 5,
    "start_time": "2024-09-20T13:30:30.746Z"
   },
   {
    "duration": 1699,
    "start_time": "2024-09-20T13:30:35.394Z"
   },
   {
    "duration": 4,
    "start_time": "2024-09-20T13:42:49.134Z"
   },
   {
    "duration": 1580,
    "start_time": "2024-09-20T13:42:53.081Z"
   },
   {
    "duration": 115,
    "start_time": "2024-09-20T13:49:17.067Z"
   },
   {
    "duration": 14637,
    "start_time": "2024-09-20T13:49:29.647Z"
   },
   {
    "duration": 18,
    "start_time": "2024-09-20T13:52:22.031Z"
   },
   {
    "duration": 71,
    "start_time": "2024-09-20T13:52:46.824Z"
   },
   {
    "duration": 16,
    "start_time": "2024-09-20T13:52:50.749Z"
   },
   {
    "duration": 5,
    "start_time": "2024-09-20T13:53:06.833Z"
   },
   {
    "duration": 1001,
    "start_time": "2024-09-20T13:53:10.081Z"
   },
   {
    "duration": 10,
    "start_time": "2024-09-20T13:53:26.016Z"
   },
   {
    "duration": 3791,
    "start_time": "2024-09-20T13:53:29.257Z"
   },
   {
    "duration": 15,
    "start_time": "2024-09-20T14:18:24.934Z"
   },
   {
    "duration": 132,
    "start_time": "2024-09-20T14:18:45.549Z"
   },
   {
    "duration": 9,
    "start_time": "2024-09-20T14:18:52.948Z"
   },
   {
    "duration": 3913,
    "start_time": "2024-09-20T14:19:01.950Z"
   },
   {
    "duration": 12,
    "start_time": "2024-09-20T15:01:16.588Z"
   },
   {
    "duration": 5,
    "start_time": "2024-09-20T15:01:30.029Z"
   },
   {
    "duration": 1534,
    "start_time": "2024-09-20T15:01:35.892Z"
   },
   {
    "duration": 160,
    "start_time": "2024-09-20T15:24:59.993Z"
   },
   {
    "duration": 3,
    "start_time": "2024-09-20T15:33:06.524Z"
   },
   {
    "duration": 13,
    "start_time": "2024-09-20T15:44:23.940Z"
   },
   {
    "duration": 10297,
    "start_time": "2024-09-20T15:44:27.863Z"
   },
   {
    "duration": 6,
    "start_time": "2024-09-20T15:44:38.163Z"
   },
   {
    "duration": 24,
    "start_time": "2024-09-20T15:44:38.171Z"
   },
   {
    "duration": 5,
    "start_time": "2024-09-20T15:44:38.197Z"
   },
   {
    "duration": 8,
    "start_time": "2024-09-20T15:44:38.203Z"
   },
   {
    "duration": 6,
    "start_time": "2024-09-20T15:44:38.213Z"
   },
   {
    "duration": 13,
    "start_time": "2024-09-20T15:44:38.220Z"
   },
   {
    "duration": 13,
    "start_time": "2024-09-20T15:44:38.234Z"
   },
   {
    "duration": 107,
    "start_time": "2024-09-20T15:44:38.249Z"
   },
   {
    "duration": 162,
    "start_time": "2024-09-20T15:44:38.359Z"
   },
   {
    "duration": 30,
    "start_time": "2024-09-20T15:44:38.523Z"
   },
   {
    "duration": 31,
    "start_time": "2024-09-20T15:44:38.555Z"
   },
   {
    "duration": 29,
    "start_time": "2024-09-20T15:44:38.588Z"
   },
   {
    "duration": 36,
    "start_time": "2024-09-20T15:44:38.619Z"
   },
   {
    "duration": 7,
    "start_time": "2024-09-20T15:44:38.657Z"
   },
   {
    "duration": 22,
    "start_time": "2024-09-20T15:44:38.666Z"
   },
   {
    "duration": 15,
    "start_time": "2024-09-20T15:44:38.690Z"
   },
   {
    "duration": 34,
    "start_time": "2024-09-20T15:44:38.706Z"
   },
   {
    "duration": 40,
    "start_time": "2024-09-20T15:44:38.741Z"
   },
   {
    "duration": 39,
    "start_time": "2024-09-20T15:44:38.783Z"
   },
   {
    "duration": 183,
    "start_time": "2024-09-20T15:44:38.823Z"
   },
   {
    "duration": 173,
    "start_time": "2024-09-20T15:44:39.007Z"
   },
   {
    "duration": 39,
    "start_time": "2024-09-20T15:44:39.182Z"
   },
   {
    "duration": 31,
    "start_time": "2024-09-20T15:44:39.222Z"
   },
   {
    "duration": 14,
    "start_time": "2024-09-20T15:44:39.254Z"
   },
   {
    "duration": 27,
    "start_time": "2024-09-20T15:44:39.270Z"
   },
   {
    "duration": 1487,
    "start_time": "2024-09-20T15:44:39.299Z"
   },
   {
    "duration": 1495,
    "start_time": "2024-09-20T15:44:40.789Z"
   },
   {
    "duration": 4526,
    "start_time": "2024-09-20T15:44:42.285Z"
   },
   {
    "duration": 157,
    "start_time": "2024-09-20T15:44:46.812Z"
   },
   {
    "duration": 82,
    "start_time": "2024-09-20T15:44:46.971Z"
   },
   {
    "duration": 13,
    "start_time": "2024-09-20T16:17:24.112Z"
   },
   {
    "duration": 10,
    "start_time": "2024-09-20T16:17:26.922Z"
   },
   {
    "duration": 77,
    "start_time": "2024-09-20T16:17:30.708Z"
   },
   {
    "duration": 4,
    "start_time": "2024-09-20T19:37:35.507Z"
   },
   {
    "duration": 1755,
    "start_time": "2024-09-20T19:37:35.513Z"
   },
   {
    "duration": 0,
    "start_time": "2024-09-20T19:37:37.270Z"
   },
   {
    "duration": 0,
    "start_time": "2024-09-20T19:37:37.271Z"
   },
   {
    "duration": 0,
    "start_time": "2024-09-20T19:37:37.273Z"
   },
   {
    "duration": 0,
    "start_time": "2024-09-20T19:37:37.274Z"
   },
   {
    "duration": 0,
    "start_time": "2024-09-20T19:37:37.275Z"
   },
   {
    "duration": 0,
    "start_time": "2024-09-20T19:37:37.276Z"
   },
   {
    "duration": 0,
    "start_time": "2024-09-20T19:37:37.277Z"
   },
   {
    "duration": 0,
    "start_time": "2024-09-20T19:37:37.279Z"
   },
   {
    "duration": 0,
    "start_time": "2024-09-20T19:37:37.279Z"
   },
   {
    "duration": 0,
    "start_time": "2024-09-20T19:37:37.280Z"
   },
   {
    "duration": 0,
    "start_time": "2024-09-20T19:37:37.298Z"
   },
   {
    "duration": 0,
    "start_time": "2024-09-20T19:37:37.299Z"
   },
   {
    "duration": 0,
    "start_time": "2024-09-20T19:37:37.300Z"
   },
   {
    "duration": 0,
    "start_time": "2024-09-20T19:37:37.301Z"
   },
   {
    "duration": 0,
    "start_time": "2024-09-20T19:37:37.302Z"
   },
   {
    "duration": 0,
    "start_time": "2024-09-20T19:37:37.303Z"
   },
   {
    "duration": 0,
    "start_time": "2024-09-20T19:37:37.304Z"
   },
   {
    "duration": 0,
    "start_time": "2024-09-20T19:37:37.305Z"
   },
   {
    "duration": 0,
    "start_time": "2024-09-20T19:37:37.306Z"
   },
   {
    "duration": 0,
    "start_time": "2024-09-20T19:37:37.307Z"
   },
   {
    "duration": 0,
    "start_time": "2024-09-20T19:37:37.308Z"
   },
   {
    "duration": 0,
    "start_time": "2024-09-20T19:37:37.309Z"
   },
   {
    "duration": 0,
    "start_time": "2024-09-20T19:37:37.310Z"
   },
   {
    "duration": 0,
    "start_time": "2024-09-20T19:37:37.311Z"
   },
   {
    "duration": 0,
    "start_time": "2024-09-20T19:37:37.312Z"
   },
   {
    "duration": 0,
    "start_time": "2024-09-20T19:37:37.313Z"
   },
   {
    "duration": 0,
    "start_time": "2024-09-20T19:37:37.314Z"
   },
   {
    "duration": 0,
    "start_time": "2024-09-20T19:37:37.317Z"
   },
   {
    "duration": 15727,
    "start_time": "2024-09-20T19:37:55.080Z"
   },
   {
    "duration": 75,
    "start_time": "2024-09-20T19:38:10.810Z"
   },
   {
    "duration": 0,
    "start_time": "2024-09-20T19:38:10.887Z"
   },
   {
    "duration": 0,
    "start_time": "2024-09-20T19:38:10.888Z"
   },
   {
    "duration": 0,
    "start_time": "2024-09-20T19:38:10.889Z"
   },
   {
    "duration": 0,
    "start_time": "2024-09-20T19:38:10.891Z"
   },
   {
    "duration": 0,
    "start_time": "2024-09-20T19:38:10.892Z"
   },
   {
    "duration": 0,
    "start_time": "2024-09-20T19:38:10.893Z"
   },
   {
    "duration": 0,
    "start_time": "2024-09-20T19:38:10.894Z"
   },
   {
    "duration": 0,
    "start_time": "2024-09-20T19:38:10.895Z"
   },
   {
    "duration": 0,
    "start_time": "2024-09-20T19:38:10.896Z"
   },
   {
    "duration": 0,
    "start_time": "2024-09-20T19:38:10.897Z"
   },
   {
    "duration": 0,
    "start_time": "2024-09-20T19:38:10.898Z"
   },
   {
    "duration": 0,
    "start_time": "2024-09-20T19:38:10.899Z"
   },
   {
    "duration": 0,
    "start_time": "2024-09-20T19:38:10.900Z"
   },
   {
    "duration": 0,
    "start_time": "2024-09-20T19:38:10.902Z"
   },
   {
    "duration": 0,
    "start_time": "2024-09-20T19:38:10.903Z"
   },
   {
    "duration": 0,
    "start_time": "2024-09-20T19:38:10.904Z"
   },
   {
    "duration": 0,
    "start_time": "2024-09-20T19:38:10.905Z"
   },
   {
    "duration": 0,
    "start_time": "2024-09-20T19:38:10.907Z"
   },
   {
    "duration": 0,
    "start_time": "2024-09-20T19:38:10.908Z"
   },
   {
    "duration": 0,
    "start_time": "2024-09-20T19:38:10.909Z"
   },
   {
    "duration": 0,
    "start_time": "2024-09-20T19:38:10.910Z"
   },
   {
    "duration": 0,
    "start_time": "2024-09-20T19:38:10.911Z"
   },
   {
    "duration": 0,
    "start_time": "2024-09-20T19:38:10.912Z"
   },
   {
    "duration": 0,
    "start_time": "2024-09-20T19:38:10.914Z"
   },
   {
    "duration": 0,
    "start_time": "2024-09-20T19:38:10.915Z"
   },
   {
    "duration": 0,
    "start_time": "2024-09-20T19:38:10.917Z"
   },
   {
    "duration": 0,
    "start_time": "2024-09-20T19:38:10.919Z"
   },
   {
    "duration": 0,
    "start_time": "2024-09-20T19:38:10.921Z"
   },
   {
    "duration": 0,
    "start_time": "2024-09-20T19:38:10.922Z"
   },
   {
    "duration": 17,
    "start_time": "2024-09-20T19:41:01.819Z"
   },
   {
    "duration": 10755,
    "start_time": "2024-09-20T19:43:05.965Z"
   },
   {
    "duration": 22,
    "start_time": "2024-09-20T19:43:20.122Z"
   },
   {
    "duration": 10892,
    "start_time": "2024-09-20T19:44:24.541Z"
   },
   {
    "duration": 1417,
    "start_time": "2024-09-20T19:44:40.123Z"
   },
   {
    "duration": 6,
    "start_time": "2024-09-20T19:44:48.370Z"
   },
   {
    "duration": 7,
    "start_time": "2024-09-20T19:45:05.615Z"
   },
   {
    "duration": 11,
    "start_time": "2024-09-20T19:45:05.624Z"
   },
   {
    "duration": 33,
    "start_time": "2024-09-20T19:45:05.637Z"
   },
   {
    "duration": 5,
    "start_time": "2024-09-20T19:45:05.672Z"
   },
   {
    "duration": 48,
    "start_time": "2024-09-20T19:45:05.680Z"
   },
   {
    "duration": 29,
    "start_time": "2024-09-20T19:45:05.730Z"
   },
   {
    "duration": 21,
    "start_time": "2024-09-20T19:45:05.761Z"
   },
   {
    "duration": 496,
    "start_time": "2024-09-20T19:45:05.784Z"
   },
   {
    "duration": 170,
    "start_time": "2024-09-20T19:45:06.283Z"
   },
   {
    "duration": 9,
    "start_time": "2024-09-20T19:45:06.456Z"
   },
   {
    "duration": 57,
    "start_time": "2024-09-20T19:45:06.466Z"
   },
   {
    "duration": 79,
    "start_time": "2024-09-20T19:45:06.526Z"
   },
   {
    "duration": 23,
    "start_time": "2024-09-20T19:45:06.609Z"
   },
   {
    "duration": 12,
    "start_time": "2024-09-20T19:45:06.636Z"
   },
   {
    "duration": 23,
    "start_time": "2024-09-20T19:45:06.650Z"
   },
   {
    "duration": 3,
    "start_time": "2024-09-20T19:45:06.676Z"
   },
   {
    "duration": 49,
    "start_time": "2024-09-20T19:45:06.698Z"
   },
   {
    "duration": 36,
    "start_time": "2024-09-20T19:45:06.749Z"
   },
   {
    "duration": 23,
    "start_time": "2024-09-20T19:45:06.787Z"
   },
   {
    "duration": 5,
    "start_time": "2024-09-20T19:45:06.812Z"
   },
   {
    "duration": 26,
    "start_time": "2024-09-20T19:45:06.819Z"
   },
   {
    "duration": 13,
    "start_time": "2024-09-20T19:45:06.847Z"
   },
   {
    "duration": 17,
    "start_time": "2024-09-20T19:45:06.862Z"
   },
   {
    "duration": 21,
    "start_time": "2024-09-20T19:45:06.881Z"
   },
   {
    "duration": 39,
    "start_time": "2024-09-20T19:45:06.904Z"
   },
   {
    "duration": 1559,
    "start_time": "2024-09-20T19:45:06.945Z"
   },
   {
    "duration": 1844,
    "start_time": "2024-09-20T19:45:08.506Z"
   },
   {
    "duration": 4193,
    "start_time": "2024-09-20T19:45:10.352Z"
   },
   {
    "duration": 172,
    "start_time": "2024-09-20T19:45:14.547Z"
   },
   {
    "duration": 83,
    "start_time": "2024-09-20T19:45:14.721Z"
   },
   {
    "duration": 11103,
    "start_time": "2024-09-20T19:45:27.655Z"
   },
   {
    "duration": 26467,
    "start_time": "2024-09-20T19:47:17.004Z"
   },
   {
    "duration": 100585,
    "start_time": "2024-09-20T19:49:59.968Z"
   },
   {
    "duration": 117,
    "start_time": "2024-09-20T19:59:23.828Z"
   },
   {
    "duration": 81,
    "start_time": "2024-09-20T19:59:43.100Z"
   },
   {
    "duration": 5,
    "start_time": "2024-09-20T20:00:53.233Z"
   },
   {
    "duration": 79,
    "start_time": "2024-09-20T20:01:02.018Z"
   },
   {
    "duration": 77,
    "start_time": "2024-09-20T20:01:33.579Z"
   },
   {
    "duration": 14090,
    "start_time": "2024-09-21T06:27:13.837Z"
   },
   {
    "duration": 1563,
    "start_time": "2024-09-21T06:27:27.929Z"
   },
   {
    "duration": 3,
    "start_time": "2024-09-21T06:27:29.494Z"
   },
   {
    "duration": 43,
    "start_time": "2024-09-21T06:27:29.499Z"
   },
   {
    "duration": 4,
    "start_time": "2024-09-21T06:27:29.545Z"
   },
   {
    "duration": 5,
    "start_time": "2024-09-21T06:27:29.551Z"
   },
   {
    "duration": 5,
    "start_time": "2024-09-21T06:27:29.558Z"
   },
   {
    "duration": 4,
    "start_time": "2024-09-21T06:27:29.564Z"
   },
   {
    "duration": 421,
    "start_time": "2024-09-21T06:27:29.569Z"
   },
   {
    "duration": 140,
    "start_time": "2024-09-21T06:27:29.992Z"
   },
   {
    "duration": 7,
    "start_time": "2024-09-21T06:27:30.134Z"
   },
   {
    "duration": 38,
    "start_time": "2024-09-21T06:27:30.142Z"
   },
   {
    "duration": 32,
    "start_time": "2024-09-21T06:27:30.182Z"
   },
   {
    "duration": 13,
    "start_time": "2024-09-21T06:27:30.227Z"
   },
   {
    "duration": 23,
    "start_time": "2024-09-21T06:27:30.242Z"
   },
   {
    "duration": 20,
    "start_time": "2024-09-21T06:27:30.267Z"
   },
   {
    "duration": 2,
    "start_time": "2024-09-21T06:27:30.288Z"
   },
   {
    "duration": 74,
    "start_time": "2024-09-21T06:27:30.291Z"
   },
   {
    "duration": 35,
    "start_time": "2024-09-21T06:27:30.366Z"
   },
   {
    "duration": 12,
    "start_time": "2024-09-21T06:27:30.402Z"
   },
   {
    "duration": 15,
    "start_time": "2024-09-21T06:27:30.415Z"
   },
   {
    "duration": 10,
    "start_time": "2024-09-21T06:27:30.431Z"
   },
   {
    "duration": 5,
    "start_time": "2024-09-21T06:27:30.443Z"
   },
   {
    "duration": 24,
    "start_time": "2024-09-21T06:27:30.449Z"
   },
   {
    "duration": 3,
    "start_time": "2024-09-21T06:27:30.474Z"
   },
   {
    "duration": 8,
    "start_time": "2024-09-21T06:27:30.478Z"
   },
   {
    "duration": 1396,
    "start_time": "2024-09-21T06:27:30.487Z"
   },
   {
    "duration": 1514,
    "start_time": "2024-09-21T06:27:31.884Z"
   },
   {
    "duration": 3795,
    "start_time": "2024-09-21T06:27:33.400Z"
   },
   {
    "duration": 150,
    "start_time": "2024-09-21T06:27:37.196Z"
   },
   {
    "duration": 80,
    "start_time": "2024-09-21T06:27:37.348Z"
   },
   {
    "duration": 1473,
    "start_time": "2024-09-23T07:22:37.818Z"
   },
   {
    "duration": 0,
    "start_time": "2024-09-23T07:22:39.294Z"
   },
   {
    "duration": 0,
    "start_time": "2024-09-23T07:22:39.296Z"
   },
   {
    "duration": 0,
    "start_time": "2024-09-23T07:22:39.299Z"
   },
   {
    "duration": 0,
    "start_time": "2024-09-23T07:22:39.301Z"
   },
   {
    "duration": 0,
    "start_time": "2024-09-23T07:22:39.302Z"
   },
   {
    "duration": 0,
    "start_time": "2024-09-23T07:22:39.302Z"
   },
   {
    "duration": 0,
    "start_time": "2024-09-23T07:22:39.306Z"
   },
   {
    "duration": 0,
    "start_time": "2024-09-23T07:22:39.307Z"
   },
   {
    "duration": 0,
    "start_time": "2024-09-23T07:22:39.308Z"
   },
   {
    "duration": 0,
    "start_time": "2024-09-23T07:22:39.317Z"
   },
   {
    "duration": 0,
    "start_time": "2024-09-23T07:22:39.318Z"
   },
   {
    "duration": 0,
    "start_time": "2024-09-23T07:22:39.319Z"
   },
   {
    "duration": 0,
    "start_time": "2024-09-23T07:22:39.321Z"
   },
   {
    "duration": 0,
    "start_time": "2024-09-23T07:22:39.322Z"
   },
   {
    "duration": 0,
    "start_time": "2024-09-23T07:22:39.324Z"
   },
   {
    "duration": 0,
    "start_time": "2024-09-23T07:22:39.325Z"
   },
   {
    "duration": 0,
    "start_time": "2024-09-23T07:22:39.327Z"
   },
   {
    "duration": 0,
    "start_time": "2024-09-23T07:22:39.328Z"
   },
   {
    "duration": 0,
    "start_time": "2024-09-23T07:22:39.329Z"
   },
   {
    "duration": 0,
    "start_time": "2024-09-23T07:22:39.331Z"
   },
   {
    "duration": 0,
    "start_time": "2024-09-23T07:22:39.332Z"
   },
   {
    "duration": 0,
    "start_time": "2024-09-23T07:22:39.334Z"
   },
   {
    "duration": 0,
    "start_time": "2024-09-23T07:22:39.336Z"
   },
   {
    "duration": 0,
    "start_time": "2024-09-23T07:22:39.337Z"
   },
   {
    "duration": 0,
    "start_time": "2024-09-23T07:22:39.339Z"
   },
   {
    "duration": 0,
    "start_time": "2024-09-23T07:22:39.340Z"
   },
   {
    "duration": 0,
    "start_time": "2024-09-23T07:22:39.341Z"
   },
   {
    "duration": 0,
    "start_time": "2024-09-23T07:22:39.342Z"
   },
   {
    "duration": 0,
    "start_time": "2024-09-23T07:22:39.344Z"
   },
   {
    "duration": 0,
    "start_time": "2024-09-23T07:22:39.345Z"
   },
   {
    "duration": 0,
    "start_time": "2024-09-23T07:22:39.346Z"
   },
   {
    "duration": 0,
    "start_time": "2024-09-23T07:22:39.349Z"
   },
   {
    "duration": 0,
    "start_time": "2024-09-23T07:22:39.350Z"
   },
   {
    "duration": 0,
    "start_time": "2024-09-23T07:22:39.350Z"
   },
   {
    "duration": 0,
    "start_time": "2024-09-23T07:22:39.351Z"
   },
   {
    "duration": 0,
    "start_time": "2024-09-23T07:22:39.353Z"
   },
   {
    "duration": 0,
    "start_time": "2024-09-23T07:22:39.407Z"
   },
   {
    "duration": 0,
    "start_time": "2024-09-23T07:22:39.408Z"
   },
   {
    "duration": 0,
    "start_time": "2024-09-23T07:22:39.409Z"
   },
   {
    "duration": 0,
    "start_time": "2024-09-23T07:22:39.411Z"
   },
   {
    "duration": 0,
    "start_time": "2024-09-23T07:22:39.412Z"
   },
   {
    "duration": 18239,
    "start_time": "2024-09-23T07:24:00.163Z"
   },
   {
    "duration": 1561,
    "start_time": "2024-09-23T07:24:18.404Z"
   },
   {
    "duration": 3,
    "start_time": "2024-09-23T07:24:19.966Z"
   },
   {
    "duration": 11,
    "start_time": "2024-09-23T07:24:19.970Z"
   },
   {
    "duration": 3,
    "start_time": "2024-09-23T07:24:19.983Z"
   },
   {
    "duration": 10,
    "start_time": "2024-09-23T07:24:19.987Z"
   },
   {
    "duration": 35,
    "start_time": "2024-09-23T07:24:19.998Z"
   },
   {
    "duration": 10,
    "start_time": "2024-09-23T07:24:20.034Z"
   },
   {
    "duration": 450,
    "start_time": "2024-09-23T07:24:20.045Z"
   },
   {
    "duration": 119,
    "start_time": "2024-09-23T07:24:20.497Z"
   },
   {
    "duration": 6,
    "start_time": "2024-09-23T07:24:20.618Z"
   },
   {
    "duration": 22,
    "start_time": "2024-09-23T07:24:20.625Z"
   },
   {
    "duration": 23,
    "start_time": "2024-09-23T07:24:20.649Z"
   },
   {
    "duration": 34,
    "start_time": "2024-09-23T07:24:20.674Z"
   },
   {
    "duration": 8,
    "start_time": "2024-09-23T07:24:20.709Z"
   },
   {
    "duration": 66,
    "start_time": "2024-09-23T07:24:20.718Z"
   },
   {
    "duration": 30,
    "start_time": "2024-09-23T07:24:20.785Z"
   },
   {
    "duration": 91,
    "start_time": "2024-09-23T07:24:20.817Z"
   },
   {
    "duration": 12,
    "start_time": "2024-09-23T07:24:20.909Z"
   },
   {
    "duration": 19,
    "start_time": "2024-09-23T07:24:20.923Z"
   },
   {
    "duration": 20,
    "start_time": "2024-09-23T07:24:20.943Z"
   },
   {
    "duration": 27,
    "start_time": "2024-09-23T07:24:20.964Z"
   },
   {
    "duration": 18,
    "start_time": "2024-09-23T07:24:20.992Z"
   },
   {
    "duration": 1301,
    "start_time": "2024-09-23T07:24:21.011Z"
   },
   {
    "duration": 1289,
    "start_time": "2024-09-23T07:24:22.314Z"
   },
   {
    "duration": 2922,
    "start_time": "2024-09-23T07:24:23.604Z"
   },
   {
    "duration": 4,
    "start_time": "2024-09-23T07:24:26.527Z"
   },
   {
    "duration": 1278,
    "start_time": "2024-09-23T07:24:26.534Z"
   },
   {
    "duration": 120,
    "start_time": "2024-09-23T07:24:27.813Z"
   },
   {
    "duration": 78,
    "start_time": "2024-09-23T07:24:27.935Z"
   },
   {
    "duration": 10,
    "start_time": "2024-09-23T07:24:28.015Z"
   },
   {
    "duration": 9,
    "start_time": "2024-09-23T07:24:28.026Z"
   },
   {
    "duration": 5,
    "start_time": "2024-09-23T07:24:28.036Z"
   },
   {
    "duration": 7,
    "start_time": "2024-09-23T07:24:28.042Z"
   },
   {
    "duration": 7,
    "start_time": "2024-09-23T07:24:28.050Z"
   },
   {
    "duration": 215016,
    "start_time": "2024-09-23T07:24:28.058Z"
   },
   {
    "duration": 8,
    "start_time": "2024-09-23T07:28:03.076Z"
   },
   {
    "duration": 68,
    "start_time": "2024-09-23T07:28:03.085Z"
   },
   {
    "duration": 334,
    "start_time": "2024-09-23T07:28:03.154Z"
   },
   {
    "duration": 933,
    "start_time": "2024-09-23T07:28:03.489Z"
   },
   {
    "duration": 530,
    "start_time": "2024-09-23T07:28:04.423Z"
   },
   {
    "duration": 6,
    "start_time": "2024-09-23T07:28:04.954Z"
   },
   {
    "duration": 88,
    "start_time": "2024-09-23T07:28:04.962Z"
   },
   {
    "duration": 14618,
    "start_time": "2024-09-23T09:05:06.977Z"
   },
   {
    "duration": 1753,
    "start_time": "2024-09-23T09:05:21.597Z"
   },
   {
    "duration": 3,
    "start_time": "2024-09-23T09:05:23.351Z"
   },
   {
    "duration": 13,
    "start_time": "2024-09-23T09:05:23.356Z"
   },
   {
    "duration": 7,
    "start_time": "2024-09-23T09:05:23.371Z"
   },
   {
    "duration": 6,
    "start_time": "2024-09-23T09:05:23.379Z"
   },
   {
    "duration": 22,
    "start_time": "2024-09-23T09:05:23.386Z"
   },
   {
    "duration": 16,
    "start_time": "2024-09-23T09:05:23.409Z"
   },
   {
    "duration": 96,
    "start_time": "2024-09-23T09:05:23.426Z"
   },
   {
    "duration": 123,
    "start_time": "2024-09-23T09:05:23.524Z"
   },
   {
    "duration": 7,
    "start_time": "2024-09-23T09:05:23.649Z"
   },
   {
    "duration": 59,
    "start_time": "2024-09-23T09:05:23.657Z"
   },
   {
    "duration": 22,
    "start_time": "2024-09-23T09:05:23.718Z"
   },
   {
    "duration": 11,
    "start_time": "2024-09-23T09:05:23.741Z"
   },
   {
    "duration": 9,
    "start_time": "2024-09-23T09:05:23.754Z"
   },
   {
    "duration": 10,
    "start_time": "2024-09-23T09:05:23.764Z"
   },
   {
    "duration": 46,
    "start_time": "2024-09-23T09:05:23.776Z"
   },
   {
    "duration": 31,
    "start_time": "2024-09-23T09:05:23.824Z"
   },
   {
    "duration": 11,
    "start_time": "2024-09-23T09:05:23.856Z"
   },
   {
    "duration": 4,
    "start_time": "2024-09-23T09:05:23.869Z"
   },
   {
    "duration": 7,
    "start_time": "2024-09-23T09:05:23.874Z"
   },
   {
    "duration": 12,
    "start_time": "2024-09-23T09:05:23.907Z"
   },
   {
    "duration": 8,
    "start_time": "2024-09-23T09:05:23.921Z"
   },
   {
    "duration": 1326,
    "start_time": "2024-09-23T09:05:23.931Z"
   },
   {
    "duration": 1410,
    "start_time": "2024-09-23T09:05:25.259Z"
   },
   {
    "duration": 3321,
    "start_time": "2024-09-23T09:05:26.671Z"
   },
   {
    "duration": 13,
    "start_time": "2024-09-23T09:05:29.994Z"
   },
   {
    "duration": 1474,
    "start_time": "2024-09-23T09:05:30.010Z"
   },
   {
    "duration": 148,
    "start_time": "2024-09-23T09:05:31.485Z"
   },
   {
    "duration": 79,
    "start_time": "2024-09-23T09:05:31.635Z"
   },
   {
    "duration": 32,
    "start_time": "2024-09-23T09:05:31.715Z"
   },
   {
    "duration": 10,
    "start_time": "2024-09-23T09:05:31.749Z"
   },
   {
    "duration": 21,
    "start_time": "2024-09-23T09:05:31.760Z"
   },
   {
    "duration": 27,
    "start_time": "2024-09-23T09:05:31.782Z"
   },
   {
    "duration": 8,
    "start_time": "2024-09-23T09:05:31.811Z"
   },
   {
    "duration": 222053,
    "start_time": "2024-09-23T09:05:31.820Z"
   },
   {
    "duration": 9,
    "start_time": "2024-09-23T09:09:13.875Z"
   },
   {
    "duration": 39,
    "start_time": "2024-09-23T09:09:13.885Z"
   },
   {
    "duration": 257,
    "start_time": "2024-09-23T09:09:13.925Z"
   },
   {
    "duration": 1036,
    "start_time": "2024-09-23T09:09:14.183Z"
   },
   {
    "duration": 530,
    "start_time": "2024-09-23T09:09:15.220Z"
   },
   {
    "duration": 6,
    "start_time": "2024-09-23T09:09:15.752Z"
   },
   {
    "duration": 13,
    "start_time": "2024-09-23T09:10:45.482Z"
   },
   {
    "duration": 12751,
    "start_time": "2024-09-23T09:15:20.936Z"
   },
   {
    "duration": 1705,
    "start_time": "2024-09-23T09:15:33.689Z"
   },
   {
    "duration": 2,
    "start_time": "2024-09-23T09:15:35.396Z"
   },
   {
    "duration": 17,
    "start_time": "2024-09-23T09:15:35.399Z"
   },
   {
    "duration": 5,
    "start_time": "2024-09-23T09:15:35.417Z"
   },
   {
    "duration": 12,
    "start_time": "2024-09-23T09:15:35.423Z"
   },
   {
    "duration": 10,
    "start_time": "2024-09-23T09:15:35.436Z"
   },
   {
    "duration": 20,
    "start_time": "2024-09-23T09:15:35.447Z"
   },
   {
    "duration": 110,
    "start_time": "2024-09-23T09:15:35.468Z"
   },
   {
    "duration": 98,
    "start_time": "2024-09-23T09:15:35.579Z"
   },
   {
    "duration": 35,
    "start_time": "2024-09-23T09:15:35.678Z"
   },
   {
    "duration": 34,
    "start_time": "2024-09-23T09:15:35.714Z"
   },
   {
    "duration": 25,
    "start_time": "2024-09-23T09:15:35.750Z"
   },
   {
    "duration": 22,
    "start_time": "2024-09-23T09:15:35.779Z"
   },
   {
    "duration": 7,
    "start_time": "2024-09-23T09:15:35.802Z"
   },
   {
    "duration": 28,
    "start_time": "2024-09-23T09:15:35.810Z"
   },
   {
    "duration": 19,
    "start_time": "2024-09-23T09:15:35.839Z"
   },
   {
    "duration": 35,
    "start_time": "2024-09-23T09:15:35.861Z"
   },
   {
    "duration": 10,
    "start_time": "2024-09-23T09:15:35.898Z"
   },
   {
    "duration": 10,
    "start_time": "2024-09-23T09:15:35.909Z"
   },
   {
    "duration": 19,
    "start_time": "2024-09-23T09:15:35.921Z"
   },
   {
    "duration": 45,
    "start_time": "2024-09-23T09:15:35.941Z"
   },
   {
    "duration": 27,
    "start_time": "2024-09-23T09:15:35.987Z"
   },
   {
    "duration": 1228,
    "start_time": "2024-09-23T09:15:36.016Z"
   },
   {
    "duration": 1292,
    "start_time": "2024-09-23T09:15:37.245Z"
   },
   {
    "duration": 2939,
    "start_time": "2024-09-23T09:15:38.539Z"
   },
   {
    "duration": 5,
    "start_time": "2024-09-23T09:15:41.479Z"
   },
   {
    "duration": 1324,
    "start_time": "2024-09-23T09:15:41.485Z"
   },
   {
    "duration": 112,
    "start_time": "2024-09-23T09:15:42.811Z"
   },
   {
    "duration": 10,
    "start_time": "2024-09-23T09:15:42.925Z"
   },
   {
    "duration": 9,
    "start_time": "2024-09-23T09:15:43.007Z"
   },
   {
    "duration": 13,
    "start_time": "2024-09-23T09:15:43.018Z"
   },
   {
    "duration": 5,
    "start_time": "2024-09-23T09:15:43.032Z"
   },
   {
    "duration": 5,
    "start_time": "2024-09-23T09:15:43.038Z"
   },
   {
    "duration": 13,
    "start_time": "2024-09-23T09:15:43.045Z"
   },
   {
    "duration": 178563,
    "start_time": "2024-09-23T09:15:43.060Z"
   },
   {
    "duration": 11,
    "start_time": "2024-09-23T09:18:41.625Z"
   },
   {
    "duration": 188,
    "start_time": "2024-09-23T09:18:41.637Z"
   },
   {
    "duration": 245,
    "start_time": "2024-09-23T09:18:41.826Z"
   },
   {
    "duration": 969,
    "start_time": "2024-09-23T09:18:42.073Z"
   },
   {
    "duration": 525,
    "start_time": "2024-09-23T09:18:43.045Z"
   },
   {
    "duration": 6,
    "start_time": "2024-09-23T09:18:43.571Z"
   },
   {
    "duration": 13665,
    "start_time": "2024-09-23T12:24:43.520Z"
   },
   {
    "duration": 1922,
    "start_time": "2024-09-23T12:24:57.187Z"
   },
   {
    "duration": 2,
    "start_time": "2024-09-23T12:24:59.110Z"
   },
   {
    "duration": 12,
    "start_time": "2024-09-23T12:24:59.114Z"
   },
   {
    "duration": 11,
    "start_time": "2024-09-23T12:24:59.127Z"
   },
   {
    "duration": 29,
    "start_time": "2024-09-23T12:24:59.140Z"
   },
   {
    "duration": 7,
    "start_time": "2024-09-23T12:24:59.171Z"
   },
   {
    "duration": 6,
    "start_time": "2024-09-23T12:24:59.179Z"
   },
   {
    "duration": 102,
    "start_time": "2024-09-23T12:24:59.187Z"
   },
   {
    "duration": 139,
    "start_time": "2024-09-23T12:24:59.291Z"
   },
   {
    "duration": 7,
    "start_time": "2024-09-23T12:24:59.431Z"
   },
   {
    "duration": 20,
    "start_time": "2024-09-23T12:24:59.439Z"
   },
   {
    "duration": 46,
    "start_time": "2024-09-23T12:24:59.461Z"
   },
   {
    "duration": 11,
    "start_time": "2024-09-23T12:24:59.511Z"
   },
   {
    "duration": 6,
    "start_time": "2024-09-23T12:24:59.523Z"
   },
   {
    "duration": 25,
    "start_time": "2024-09-23T12:24:59.530Z"
   },
   {
    "duration": 20,
    "start_time": "2024-09-23T12:24:59.556Z"
   },
   {
    "duration": 37,
    "start_time": "2024-09-23T12:24:59.577Z"
   },
   {
    "duration": 10,
    "start_time": "2024-09-23T12:24:59.616Z"
   },
   {
    "duration": 5,
    "start_time": "2024-09-23T12:24:59.627Z"
   },
   {
    "duration": 7,
    "start_time": "2024-09-23T12:24:59.633Z"
   },
   {
    "duration": 12,
    "start_time": "2024-09-23T12:24:59.641Z"
   },
   {
    "duration": 68,
    "start_time": "2024-09-23T12:24:59.654Z"
   },
   {
    "duration": 1671,
    "start_time": "2024-09-23T12:24:59.723Z"
   },
   {
    "duration": 1102,
    "start_time": "2024-09-23T12:25:01.396Z"
   },
   {
    "duration": 2205,
    "start_time": "2024-09-23T12:25:02.499Z"
   },
   {
    "duration": 4,
    "start_time": "2024-09-23T12:25:04.707Z"
   },
   {
    "duration": 1047,
    "start_time": "2024-09-23T12:25:04.712Z"
   },
   {
    "duration": 76,
    "start_time": "2024-09-23T12:25:05.760Z"
   },
   {
    "duration": 9,
    "start_time": "2024-09-23T12:25:05.908Z"
   },
   {
    "duration": 18,
    "start_time": "2024-09-23T12:25:05.919Z"
   },
   {
    "duration": 21,
    "start_time": "2024-09-23T12:25:06.008Z"
   },
   {
    "duration": 100,
    "start_time": "2024-09-23T12:25:06.031Z"
   },
   {
    "duration": 39,
    "start_time": "2024-09-23T12:25:06.133Z"
   },
   {
    "duration": 36,
    "start_time": "2024-09-23T12:25:06.174Z"
   },
   {
    "duration": 192565,
    "start_time": "2024-09-23T12:25:06.212Z"
   },
   {
    "duration": 9,
    "start_time": "2024-09-23T12:28:18.778Z"
   },
   {
    "duration": 52,
    "start_time": "2024-09-23T12:28:18.788Z"
   },
   {
    "duration": 529,
    "start_time": "2024-09-23T12:28:18.841Z"
   },
   {
    "duration": 1326,
    "start_time": "2024-09-23T12:28:19.372Z"
   },
   {
    "duration": 619,
    "start_time": "2024-09-23T12:28:20.701Z"
   },
   {
    "duration": 8,
    "start_time": "2024-09-23T12:28:21.322Z"
   }
  ],
  "kernelspec": {
   "display_name": "Python 3 (ipykernel)",
   "language": "python",
   "name": "python3"
  },
  "language_info": {
   "codemirror_mode": {
    "name": "ipython",
    "version": 3
   },
   "file_extension": ".py",
   "mimetype": "text/x-python",
   "name": "python",
   "nbconvert_exporter": "python",
   "pygments_lexer": "ipython3",
   "version": "3.9.19"
  },
  "toc": {
   "base_numbering": 1,
   "nav_menu": {},
   "number_sections": true,
   "sideBar": true,
   "skip_h1_title": true,
   "title_cell": "Table of Contents",
   "title_sidebar": "Contents",
   "toc_cell": false,
   "toc_position": {
    "height": "calc(100% - 180px)",
    "left": "10px",
    "top": "150px",
    "width": "224.479px"
   },
   "toc_section_display": true,
   "toc_window_display": false
  }
 },
 "nbformat": 4,
 "nbformat_minor": 5
}
