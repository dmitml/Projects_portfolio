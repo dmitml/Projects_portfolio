{
 "cells": [
  {
   "cell_type": "markdown",
   "metadata": {
    "toc": true
   },
   "source": [
    "<h1>Содержание<span class=\"tocSkip\"></span></h1>\n",
    "<div class=\"toc\"><ul class=\"toc-item\"><li><span><a href=\"#Описание-проекта,-загрузка-и-подготовка-данных\" data-toc-modified-id=\"Описание-проекта,-загрузка-и-подготовка-данных-1\"><span class=\"toc-item-num\">1&nbsp;&nbsp;</span>Описание проекта, загрузка и подготовка данных</a></span><ul class=\"toc-item\"><li><span><a href=\"#Введение\" data-toc-modified-id=\"Введение-1.1\"><span class=\"toc-item-num\">1.1&nbsp;&nbsp;</span>Введение</a></span></li><li><span><a href=\"#Установка-и-импорт-библиотек\" data-toc-modified-id=\"Установка-и-импорт-библиотек-1.2\"><span class=\"toc-item-num\">1.2&nbsp;&nbsp;</span>Установка и импорт библиотек</a></span></li><li><span><a href=\"#Объявление-функций\" data-toc-modified-id=\"Объявление-функций-1.3\"><span class=\"toc-item-num\">1.3&nbsp;&nbsp;</span>Объявление функций</a></span></li><li><span><a href=\"#Загрузка-данных\" data-toc-modified-id=\"Загрузка-данных-1.4\"><span class=\"toc-item-num\">1.4&nbsp;&nbsp;</span>Загрузка данных</a></span></li><li><span><a href=\"#Общая-информация-о-датасете\" data-toc-modified-id=\"Общая-информация-о-датасете-1.5\"><span class=\"toc-item-num\">1.5&nbsp;&nbsp;</span>Общая информация о датасете</a></span></li></ul></li><li><span><a href=\"#Предобработка-данных\" data-toc-modified-id=\"Предобработка-данных-2\"><span class=\"toc-item-num\">2&nbsp;&nbsp;</span>Предобработка данных</a></span><ul class=\"toc-item\"><li><span><a href=\"#Обработка-явных-дубликатов\" data-toc-modified-id=\"Обработка-явных-дубликатов-2.1\"><span class=\"toc-item-num\">2.1&nbsp;&nbsp;</span>Обработка явных дубликатов</a></span></li><li><span><a href=\"#Установка-datetime-в-качестве-индекса-и-сортировка\" data-toc-modified-id=\"Установка-datetime-в-качестве-индекса-и-сортировка-2.2\"><span class=\"toc-item-num\">2.2&nbsp;&nbsp;</span>Установка datetime в качестве индекса и сортировка</a></span></li></ul></li><li><span><a href=\"#Анализ-данных\" data-toc-modified-id=\"Анализ-данных-3\"><span class=\"toc-item-num\">3&nbsp;&nbsp;</span>Анализ данных</a></span><ul class=\"toc-item\"><li><span><a href=\"#Исследовательский-анализ-данных\" data-toc-modified-id=\"Исследовательский-анализ-данных-3.1\"><span class=\"toc-item-num\">3.1&nbsp;&nbsp;</span>Исследовательский анализ данных</a></span></li><li><span><a href=\"#Графический-анализ-данных\" data-toc-modified-id=\"Графический-анализ-данных-3.2\"><span class=\"toc-item-num\">3.2&nbsp;&nbsp;</span>Графический анализ данных</a></span><ul class=\"toc-item\"><li><span><a href=\"#Декомпозиция-временного-ряда\" data-toc-modified-id=\"Декомпозиция-временного-ряда-3.2.1\"><span class=\"toc-item-num\">3.2.1&nbsp;&nbsp;</span>Декомпозиция временного ряда</a></span></li><li><span><a href=\"#Анализ-стационарности-временного-ряда\" data-toc-modified-id=\"Анализ-стационарности-временного-ряда-3.2.2\"><span class=\"toc-item-num\">3.2.2&nbsp;&nbsp;</span>Анализ стационарности временного ряда</a></span></li></ul></li></ul></li><li><span><a href=\"#Подготовка-данных\" data-toc-modified-id=\"Подготовка-данных-4\"><span class=\"toc-item-num\">4&nbsp;&nbsp;</span>Подготовка данных</a></span><ul class=\"toc-item\"><li><span><a href=\"#Автокорреляционный-анализ\" data-toc-modified-id=\"Автокорреляционный-анализ-4.1\"><span class=\"toc-item-num\">4.1&nbsp;&nbsp;</span>Автокорреляционный анализ</a></span></li><li><span><a href=\"#Создание-признаков\" data-toc-modified-id=\"Создание-признаков-4.2\"><span class=\"toc-item-num\">4.2&nbsp;&nbsp;</span>Создание признаков</a></span></li><li><span><a href=\"#Корреляционный-анализ\" data-toc-modified-id=\"Корреляционный-анализ-4.3\"><span class=\"toc-item-num\">4.3&nbsp;&nbsp;</span>Корреляционный анализ</a></span></li></ul></li><li><span><a href=\"#Обучение\" data-toc-modified-id=\"Обучение-5\"><span class=\"toc-item-num\">5&nbsp;&nbsp;</span>Обучение</a></span></li><li><span><a href=\"#Тестирование-лучшей-модели\" data-toc-modified-id=\"Тестирование-лучшей-модели-6\"><span class=\"toc-item-num\">6&nbsp;&nbsp;</span>Тестирование лучшей модели</a></span><ul class=\"toc-item\"><li><span><a href=\"#Анализ-важности-признаков\" data-toc-modified-id=\"Анализ-важности-признаков-6.1\"><span class=\"toc-item-num\">6.1&nbsp;&nbsp;</span>Анализ важности признаков</a></span></li><li><span><a href=\"#Расчет-прогноза-и-метрики-RMSE-на-тестовых-данных\" data-toc-modified-id=\"Расчет-прогноза-и-метрики-RMSE-на-тестовых-данных-6.2\"><span class=\"toc-item-num\">6.2&nbsp;&nbsp;</span>Расчет прогноза и метрики RMSE на тестовых данных</a></span></li></ul></li><li><span><a href=\"#Общий-вывод\" data-toc-modified-id=\"Общий-вывод-7\"><span class=\"toc-item-num\">7&nbsp;&nbsp;</span>Общий вывод</a></span></li><li><span><a href=\"#Чек-лист-проверки\" data-toc-modified-id=\"Чек-лист-проверки-8\"><span class=\"toc-item-num\">8&nbsp;&nbsp;</span>Чек-лист проверки</a></span></li></ul></div>"
   ]
  },
  {
   "cell_type": "markdown",
   "metadata": {},
   "source": [
    "## Описание проекта, загрузка и подготовка данных"
   ]
  },
  {
   "cell_type": "markdown",
   "metadata": {},
   "source": [
    "### Введение\n",
    "______\n",
    "**Название проекта**  \n",
    "\n",
    "Прогноз количества заказов такси на следующий час в компании «Чётенькое такси».\n",
    "_____\n",
    "\n",
    "**Цель исследования**  \n",
    "\n",
    "Построение модели для предсказания прогноза количества заказов такси на следующий час для привлечения большего количества водителей в период пиковой нагрузки на основе исторических данных о заказах такси в аэропортах.\n",
    "_______\n",
    "**Задачи исследования**\n",
    "\n",
    "- Провести необходимую предобработку датасета\n",
    "- Проанализировать данные, выполнить ресемплирование по одному часу\n",
    "- Обучить разные модели с различными гиперпараметрами\n",
    "- Проверить данные на тестовой выборке и сделать выводы.\n",
    "\n",
    "Значение метрики *RMSE* на тестовой выборке должно быть не больше 48\n",
    "_____\n",
    "**Исходные данные**  \n",
    "\n",
    "Имеются данные, представленные в виде одного датасета, содержащего следующую информацию:\n",
    "\n",
    "- `datetime` — время измерения    \n",
    "целевой признак:\n",
    "- `num_orders` — количество заказов"
   ]
  },
  {
   "cell_type": "markdown",
   "metadata": {},
   "source": [
    "### Установка и импорт библиотек"
   ]
  },
  {
   "cell_type": "code",
   "execution_count": 1,
   "metadata": {},
   "outputs": [],
   "source": [
    "!pip install -U scikit-learn -q\n",
    "!pip install phik -q\n",
    "!pip install lightgbm scikit-learn -q\n",
    "!pip install catboost -q"
   ]
  },
  {
   "cell_type": "code",
   "execution_count": 2,
   "metadata": {},
   "outputs": [],
   "source": [
    "import pandas as pd\n",
    "import matplotlib.pyplot as plt\n",
    "import seaborn as sns\n",
    "import numpy as np\n",
    "import scipy.stats as st\n",
    "import lightgbm as lgb\n",
    "import os\n",
    "import phik\n",
    "import math\n",
    "import warnings\n",
    "import re\n",
    "import catboost\n",
    "\n",
    "from phik import phik_matrix\n",
    "from phik.report import plot_correlation_matrix\n",
    "from scipy.stats import uniform\n",
    "from lightgbm import LGBMRegressor\n",
    "from catboost import CatBoostRegressor\n",
    "from statsmodels.tsa.seasonal import seasonal_decompose\n",
    "from statsmodels.graphics.tsaplots import plot_acf, plot_pacf\n",
    "from statsmodels.tsa.stattools import acf, pacf, adfuller\n",
    "from sklearn.ensemble import RandomForestRegressor\n",
    "from sklearn.model_selection import (train_test_split, RandomizedSearchCV, TimeSeriesSplit)\n",
    "from sklearn.preprocessing import (\n",
    "    StandardScaler, \n",
    "    MinMaxScaler, \n",
    "    RobustScaler,\n",
    "    OneHotEncoder\n",
    ")\n",
    "from sklearn.linear_model import Lasso, LinearRegression, Ridge\n",
    "from sklearn.tree import DecisionTreeRegressor\n",
    "from sklearn.dummy import DummyRegressor\n",
    "from sklearn.pipeline import Pipeline\n",
    "from sklearn.compose import ColumnTransformer\n",
    "from sklearn.impute import SimpleImputer\n",
    "from sklearn.metrics import (\n",
    "    mean_squared_error, \n",
    "    mean_absolute_error\n",
    ")"
   ]
  },
  {
   "cell_type": "code",
   "execution_count": 3,
   "metadata": {},
   "outputs": [],
   "source": [
    "# системные настройки\n",
    "pd.set_option('display.max_columns', None)\n",
    "pd.set_option('display.max_colwidth', None)\n",
    "warnings.filterwarnings(\"ignore\")"
   ]
  },
  {
   "cell_type": "code",
   "execution_count": 4,
   "metadata": {},
   "outputs": [],
   "source": [
    "# объявление констант\n",
    "RANDOM_STATE = 42\n",
    "TEST_SIZE = 0.1"
   ]
  },
  {
   "cell_type": "markdown",
   "metadata": {},
   "source": [
    "### Объявление функций"
   ]
  },
  {
   "cell_type": "code",
   "execution_count": 5,
   "metadata": {},
   "outputs": [],
   "source": [
    "# функция для краткого обзора датасетов\n",
    "def view_df(df):\n",
    "    display(df.head()) \n",
    "    df.info() \n",
    "    display(df.columns) \n",
    "    display(df.describe())"
   ]
  },
  {
   "cell_type": "code",
   "execution_count": 6,
   "metadata": {},
   "outputs": [],
   "source": [
    "def histbox_plot(df, list_col):\n",
    "    for name in list_col:\n",
    "        plt.figure(figsize=(10, 5))\n",
    "        plt.suptitle(f'Гистограмма и диаграмма размаха признака - {name}', \n",
    "                     fontsize=13, fontweight='bold')\n",
    "       \n",
    "        # Создание GridSpec для вертикального расположения\n",
    "        grid = plt.GridSpec(2, 1, height_ratios=[2, 1])\n",
    "        \n",
    "        plt.subplot(grid[0])\n",
    "        sns.histplot(data=df, x=name, kde=True, bins=50)\n",
    "        #plt.title('Гистограмма числа заказов')\n",
    "        plt.xlabel('')\n",
    "        plt.ylabel('Частота')\n",
    "\n",
    "        plt.subplot(grid[1])\n",
    "        sns.boxplot(data=df, x=name)\n",
    "        #plt.title('Диаграмма размаха числа заказов')\n",
    "        plt.xlabel(f'{name}')\n",
    "        plt.ylabel('')\n",
    "        \n",
    "        plt.tight_layout(rect=[0, 0.03, 1, 0.95])\n",
    "        plt.show()\n",
    "        \n",
    "        display(df[name].describe())"
   ]
  },
  {
   "cell_type": "code",
   "execution_count": 7,
   "metadata": {},
   "outputs": [],
   "source": [
    "# функция для создания признаков\n",
    "def make_features(data, list_lag, list_rolling_mean_size):\n",
    "    data['dayofweek'] = data.index.dayofweek\n",
    "    data['hour'] = data.index.hour\n",
    "    \n",
    "    for lag in list_lag:\n",
    "        data['lag_{}'.format(lag)] = data['num_orders'].shift(lag)\n",
    "        \n",
    "    for rolling_mean in list_rolling_mean_size:\n",
    "        data['rolling_mean_{}'.format(rolling_mean)] = \\\n",
    "        data['num_orders'].shift().rolling(rolling_mean).mean()"
   ]
  },
  {
   "cell_type": "code",
   "execution_count": 8,
   "metadata": {},
   "outputs": [],
   "source": [
    "# функция для построения матрицы Phik\n",
    "def phik_matrix_(df, interval_cols):\n",
    "    \n",
    "    phik_overview = phik_matrix(df, interval_cols=interval_cols) \n",
    "    plot_correlation_matrix(\n",
    "        phik_overview.values,\n",
    "        x_labels=phik_overview.columns,\n",
    "        y_labels=phik_overview.index,\n",
    "        vmin=0, vmax=1, color_map='Greens',\n",
    "        title=f'матрица $\\phi_K$',\n",
    "        fontsize_factor=1,\n",
    "        figsize=(12, 6)\n",
    "    )"
   ]
  },
  {
   "cell_type": "markdown",
   "metadata": {},
   "source": [
    "### Загрузка данных"
   ]
  },
  {
   "cell_type": "code",
   "execution_count": 9,
   "metadata": {},
   "outputs": [],
   "source": [
    "pth = '/datasets/taxi.csv'\n",
    "\n",
    "if os.path.exists(pth):\n",
    "     df = pd.read_csv(pth, sep=',', parse_dates=['datetime'])\n",
    "else:\n",
    "    print('Something is wrong with loading data')"
   ]
  },
  {
   "cell_type": "markdown",
   "metadata": {},
   "source": [
    "### Общая информация о датасете"
   ]
  },
  {
   "cell_type": "code",
   "execution_count": 10,
   "metadata": {},
   "outputs": [
    {
     "data": {
      "text/html": [
       "<div>\n",
       "<style scoped>\n",
       "    .dataframe tbody tr th:only-of-type {\n",
       "        vertical-align: middle;\n",
       "    }\n",
       "\n",
       "    .dataframe tbody tr th {\n",
       "        vertical-align: top;\n",
       "    }\n",
       "\n",
       "    .dataframe thead th {\n",
       "        text-align: right;\n",
       "    }\n",
       "</style>\n",
       "<table border=\"1\" class=\"dataframe\">\n",
       "  <thead>\n",
       "    <tr style=\"text-align: right;\">\n",
       "      <th></th>\n",
       "      <th>datetime</th>\n",
       "      <th>num_orders</th>\n",
       "    </tr>\n",
       "  </thead>\n",
       "  <tbody>\n",
       "    <tr>\n",
       "      <th>0</th>\n",
       "      <td>2018-03-01 00:00:00</td>\n",
       "      <td>9</td>\n",
       "    </tr>\n",
       "    <tr>\n",
       "      <th>1</th>\n",
       "      <td>2018-03-01 00:10:00</td>\n",
       "      <td>14</td>\n",
       "    </tr>\n",
       "    <tr>\n",
       "      <th>2</th>\n",
       "      <td>2018-03-01 00:20:00</td>\n",
       "      <td>28</td>\n",
       "    </tr>\n",
       "    <tr>\n",
       "      <th>3</th>\n",
       "      <td>2018-03-01 00:30:00</td>\n",
       "      <td>20</td>\n",
       "    </tr>\n",
       "    <tr>\n",
       "      <th>4</th>\n",
       "      <td>2018-03-01 00:40:00</td>\n",
       "      <td>32</td>\n",
       "    </tr>\n",
       "  </tbody>\n",
       "</table>\n",
       "</div>"
      ],
      "text/plain": [
       "             datetime  num_orders\n",
       "0 2018-03-01 00:00:00           9\n",
       "1 2018-03-01 00:10:00          14\n",
       "2 2018-03-01 00:20:00          28\n",
       "3 2018-03-01 00:30:00          20\n",
       "4 2018-03-01 00:40:00          32"
      ]
     },
     "metadata": {},
     "output_type": "display_data"
    },
    {
     "name": "stdout",
     "output_type": "stream",
     "text": [
      "<class 'pandas.core.frame.DataFrame'>\n",
      "RangeIndex: 26496 entries, 0 to 26495\n",
      "Data columns (total 2 columns):\n",
      " #   Column      Non-Null Count  Dtype         \n",
      "---  ------      --------------  -----         \n",
      " 0   datetime    26496 non-null  datetime64[ns]\n",
      " 1   num_orders  26496 non-null  int64         \n",
      "dtypes: datetime64[ns](1), int64(1)\n",
      "memory usage: 414.1 KB\n"
     ]
    },
    {
     "data": {
      "text/plain": [
       "Index(['datetime', 'num_orders'], dtype='object')"
      ]
     },
     "metadata": {},
     "output_type": "display_data"
    },
    {
     "data": {
      "text/html": [
       "<div>\n",
       "<style scoped>\n",
       "    .dataframe tbody tr th:only-of-type {\n",
       "        vertical-align: middle;\n",
       "    }\n",
       "\n",
       "    .dataframe tbody tr th {\n",
       "        vertical-align: top;\n",
       "    }\n",
       "\n",
       "    .dataframe thead th {\n",
       "        text-align: right;\n",
       "    }\n",
       "</style>\n",
       "<table border=\"1\" class=\"dataframe\">\n",
       "  <thead>\n",
       "    <tr style=\"text-align: right;\">\n",
       "      <th></th>\n",
       "      <th>num_orders</th>\n",
       "    </tr>\n",
       "  </thead>\n",
       "  <tbody>\n",
       "    <tr>\n",
       "      <th>count</th>\n",
       "      <td>26496.000000</td>\n",
       "    </tr>\n",
       "    <tr>\n",
       "      <th>mean</th>\n",
       "      <td>14.070463</td>\n",
       "    </tr>\n",
       "    <tr>\n",
       "      <th>std</th>\n",
       "      <td>9.211330</td>\n",
       "    </tr>\n",
       "    <tr>\n",
       "      <th>min</th>\n",
       "      <td>0.000000</td>\n",
       "    </tr>\n",
       "    <tr>\n",
       "      <th>25%</th>\n",
       "      <td>8.000000</td>\n",
       "    </tr>\n",
       "    <tr>\n",
       "      <th>50%</th>\n",
       "      <td>13.000000</td>\n",
       "    </tr>\n",
       "    <tr>\n",
       "      <th>75%</th>\n",
       "      <td>19.000000</td>\n",
       "    </tr>\n",
       "    <tr>\n",
       "      <th>max</th>\n",
       "      <td>119.000000</td>\n",
       "    </tr>\n",
       "  </tbody>\n",
       "</table>\n",
       "</div>"
      ],
      "text/plain": [
       "         num_orders\n",
       "count  26496.000000\n",
       "mean      14.070463\n",
       "std        9.211330\n",
       "min        0.000000\n",
       "25%        8.000000\n",
       "50%       13.000000\n",
       "75%       19.000000\n",
       "max      119.000000"
      ]
     },
     "metadata": {},
     "output_type": "display_data"
    }
   ],
   "source": [
    "view_df(df)"
   ]
  },
  {
   "cell_type": "markdown",
   "metadata": {},
   "source": [
    "**Вывод:** загружена и получена общая информация по датасету: пропуски в данных отсутствуют, названия столбцов соответствуют \"змеиному типу\", тип данных соответствует описанию.     \n",
    "Более подробный анализ, а также выявление дубликатов, аномальных значений и пр. будут произведены на следующих этапах обработки данных"
   ]
  },
  {
   "cell_type": "markdown",
   "metadata": {},
   "source": [
    "##  Предобработка данных"
   ]
  },
  {
   "cell_type": "markdown",
   "metadata": {},
   "source": [
    "### Обработка явных дубликатов"
   ]
  },
  {
   "cell_type": "code",
   "execution_count": 11,
   "metadata": {},
   "outputs": [
    {
     "data": {
      "text/plain": [
       "0"
      ]
     },
     "execution_count": 11,
     "metadata": {},
     "output_type": "execute_result"
    }
   ],
   "source": [
    "df.duplicated().sum()"
   ]
  },
  {
   "cell_type": "markdown",
   "metadata": {},
   "source": [
    "### Установка datetime в качестве индекса и сортировка"
   ]
  },
  {
   "cell_type": "code",
   "execution_count": 12,
   "metadata": {},
   "outputs": [],
   "source": [
    "df.set_index('datetime', inplace=True)\n",
    "df.sort_index(inplace=True)"
   ]
  },
  {
   "cell_type": "code",
   "execution_count": 13,
   "metadata": {},
   "outputs": [],
   "source": [
    "# произведем ресемплирование по одному часу\n",
    "df = df.resample('1H').sum()"
   ]
  },
  {
   "cell_type": "markdown",
   "metadata": {},
   "source": [
    "## Анализ данных"
   ]
  },
  {
   "cell_type": "markdown",
   "metadata": {},
   "source": [
    "### Исследовательский анализ данных"
   ]
  },
  {
   "cell_type": "code",
   "execution_count": 14,
   "metadata": {},
   "outputs": [
    {
     "data": {
      "image/png": "[encoded data removed]",
      "text/plain": [
       "<Figure size 720x360 with 2 Axes>"
      ]
     },
     "metadata": {
      "needs_background": "light"
     },
     "output_type": "display_data"
    },
    {
     "data": {
      "text/plain": [
       "count    4416.000000\n",
       "mean       84.422781\n",
       "std        45.023853\n",
       "min         0.000000\n",
       "25%        54.000000\n",
       "50%        78.000000\n",
       "75%       107.000000\n",
       "max       462.000000\n",
       "Name: num_orders, dtype: float64"
      ]
     },
     "metadata": {},
     "output_type": "display_data"
    }
   ],
   "source": [
    "histbox_plot(df,['num_orders'])"
   ]
  },
  {
   "cell_type": "markdown",
   "metadata": {},
   "source": [
    "Из диаграмм и таблиц видно, что аномальных выбросов в признаке `num_orders` не наблюдается. Распределение близкое к нормальному с длинным правым \"хвостом\"."
   ]
  },
  {
   "cell_type": "markdown",
   "metadata": {},
   "source": [
    "### Графический анализ данных"
   ]
  },
  {
   "cell_type": "markdown",
   "metadata": {},
   "source": [
    "Отобразим график временного ряда"
   ]
  },
  {
   "cell_type": "code",
   "execution_count": 15,
   "metadata": {},
   "outputs": [
    {
     "data": {
      "image/png": "[encoded data removed]",
      "text/plain": [
       "<Figure size 1080x576 with 1 Axes>"
      ]
     },
     "metadata": {
      "needs_background": "light"
     },
     "output_type": "display_data"
    }
   ],
   "source": [
    "df_graf = df.copy()\n",
    "df_graf['rolling_mean_day'] = df_graf['num_orders'].rolling(24).mean()\n",
    "df_graf['rolling_mean_week'] = df_graf['num_orders'].rolling(168).mean()\n",
    "\n",
    "df_graf = df_graf.reset_index()\n",
    "\n",
    "plt.figure(figsize=(15, 8))\n",
    "\n",
    "sns.lineplot(data=df_graf, x='datetime', y='num_orders', label='Num Orders', alpha=0.5)\n",
    "\n",
    "sns.lineplot(data=df_graf, x='datetime', y='rolling_mean_day', label='Rolling Mean Day')\n",
    "\n",
    "sns.lineplot(data=df_graf, x='datetime', y='rolling_mean_week', label='Rolling Mean Week', \n",
    "             linewidth=3)\n",
    "\n",
    "plt.title('Orders and Rolling Means')\n",
    "plt.xlabel('Date')\n",
    "plt.ylabel('Number of Orders');"
   ]
  },
  {
   "cell_type": "markdown",
   "metadata": {},
   "source": [
    "#### Декомпозиция временного ряда"
   ]
  },
  {
   "cell_type": "code",
   "execution_count": 16,
   "metadata": {},
   "outputs": [
    {
     "data": {
      "image/png": "[encoded data removed]",
      "text/plain": [
       "<Figure size 1152x1152 with 3 Axes>"
      ]
     },
     "metadata": {
      "needs_background": "light"
     },
     "output_type": "display_data"
    }
   ],
   "source": [
    "decomposed = seasonal_decompose(df) \n",
    "\n",
    "plt.figure(figsize=(16, 16))\n",
    "\n",
    "plt.subplot(311)\n",
    "decomposed.trend.plot(ax=plt.gca())\n",
    "plt.title('Trend')\n",
    "plt.xlabel('Date')\n",
    "plt.ylabel('Trend Value')\n",
    "\n",
    "plt.subplot(312)\n",
    "decomposed.seasonal['2018-03':'2018-03-04 02:00:00'].plot(ax=plt.gca())\n",
    "plt.title('Seasonality_day')\n",
    "plt.xlabel('Date')\n",
    "plt.ylabel('Seasonal Value')\n",
    "\n",
    "plt.subplot(313)\n",
    "decomposed.resid['2018-03':'2018-03-20'].plot(ax=plt.gca())\n",
    "plt.title('Residuals')\n",
    "plt.xlabel('Date')\n",
    "plt.ylabel('Residuals Value')\n",
    "plt.tight_layout()"
   ]
  },
  {
   "cell_type": "markdown",
   "metadata": {},
   "source": [
    "Проанализируем наличие недельной сезонности в данных"
   ]
  },
  {
   "cell_type": "code",
   "execution_count": 17,
   "metadata": {},
   "outputs": [
    {
     "data": {
      "image/png": "[encoded data removed]",
      "text/plain": [
       "<Figure size 1152x288 with 1 Axes>"
      ]
     },
     "metadata": {
      "needs_background": "light"
     },
     "output_type": "display_data"
    }
   ],
   "source": [
    "# произведем ресемплирование по суткам\n",
    "df_day = df.resample('1D').sum()\n",
    "\n",
    "decomposed_day = seasonal_decompose(df_day) \n",
    "\n",
    "plt.figure(figsize=(16, 4))\n",
    "\n",
    "decomposed_day.seasonal['2018-03-05':'2018-03-28'].plot(ax=plt.gca())\n",
    "plt.title('Seasonality_week')\n",
    "plt.xlabel('Date')\n",
    "plt.ylabel('Seasonal Value');"
   ]
  },
  {
   "cell_type": "markdown",
   "metadata": {},
   "source": [
    "Графический анализ результатов декомпозиции показал:\n",
    "- имеется тренд на увеличение количества заказов с начала весны до конца лета\n",
    "- в данных имеются:\n",
    " - суточная сезонность с ростом количества заказов, начиная с утренних часов, ростом в течении дня и пиком в 12ч ночи\n",
    " - недельная сезонность с ростом количества заказов, с двумя пиками в понедельник и пятницу, постепенным ростом от вторника к пятнице и снижением в выходные дни\n",
    "\n",
    "**На основе данных результатов, используем суточные и недельные скользящие средние в качестве дополнительных признаков для обучения моделей.**"
   ]
  },
  {
   "cell_type": "markdown",
   "metadata": {},
   "source": [
    "#### Анализ стационарности временного ряда"
   ]
  },
  {
   "cell_type": "markdown",
   "metadata": {},
   "source": [
    "На основе графического анализа видно, что мат.ожидание и дисперсия ряда со временем возрастают, такой временной ряд не является стационарным. "
   ]
  },
  {
   "cell_type": "markdown",
   "metadata": {},
   "source": [
    "Оценим стационарность ряда с помощью теста `Дики-Фуллера`"
   ]
  },
  {
   "cell_type": "markdown",
   "metadata": {},
   "source": [
    "Сформулируем гипотезы:\n",
    "- нулевая гипотеза: временной ряд является нестацинарным\n",
    "- альтернативная гипотеза: временной ряд стационарен"
   ]
  },
  {
   "cell_type": "code",
   "execution_count": 18,
   "metadata": {},
   "outputs": [
    {
     "name": "stdout",
     "output_type": "stream",
     "text": [
      "p_value = 0.029\n",
      "\n",
      "Для уровня статистической значимости 5%:\n",
      "Нулевая гипотеза отвергается: по критерию Дики-Фуллера ряд стационарен\n",
      "\n",
      "Для уровня статистической значимости 1%:\n",
      "Нулевая гипотеза не отвергается: по критерию Дики-Фуллера ряд нестационарен\n"
     ]
    }
   ],
   "source": [
    "#Зададим уровень статистической значимости\n",
    "alpha1 = 0.05\n",
    "alpha2 = 0.01\n",
    "\n",
    "result = adfuller(df['num_orders'])\n",
    "p_value = result[1]\n",
    "print(f'p_value = {round(p_value, 3)}\\n')\n",
    "\n",
    "print('Для уровня статистической значимости 5%:')\n",
    "if p_value < alpha1:\n",
    "    print('Нулевая гипотеза отвергается: по критерию Дики-Фуллера ряд стационарен\\n')\n",
    "else:\n",
    "    print('Нулевая гипотеза не отвергается: по критерию Дики-Фуллера ряд нестационарен\\n')\n",
    "\n",
    "print('Для уровня статистической значимости 1%:')\n",
    "if p_value < alpha2:\n",
    "    print('Нулевая гипотеза отвергается: по критерию Дики-Фуллера ряд стационарен')\n",
    "else:\n",
    "    print('Нулевая гипотеза не отвергается: по критерию Дики-Фуллера ряд нестационарен')"
   ]
  },
  {
   "cell_type": "markdown",
   "metadata": {},
   "source": [
    "**Вывод:** основываясь на результатах теста `Дики-Фуллера`, можно сделать вывод, что ряд обладает слабой стационарностью. "
   ]
  },
  {
   "cell_type": "markdown",
   "metadata": {},
   "source": [
    "## Подготовка данных"
   ]
  },
  {
   "cell_type": "markdown",
   "metadata": {},
   "source": [
    "### Автокорреляционный анализ"
   ]
  },
  {
   "cell_type": "markdown",
   "metadata": {},
   "source": [
    "Рассчитаем значения автокорреляции и частичной автокорреляции, отобразим на графиках"
   ]
  },
  {
   "cell_type": "code",
   "execution_count": 19,
   "metadata": {},
   "outputs": [
    {
     "data": {
      "image/png": "[encoded data removed]",
      "text/plain": [
       "<Figure size 1440x720 with 2 Axes>"
      ]
     },
     "metadata": {
      "needs_background": "light"
     },
     "output_type": "display_data"
    }
   ],
   "source": [
    "ts = df['num_orders']\n",
    "\n",
    "# Вычисляем значения ACF и PACF\n",
    "acf_values = acf(ts, nlags=52)\n",
    "pacf_values = pacf(ts, nlags=75)\n",
    "\n",
    "acf_df = pd.DataFrame({'lag': np.arange(len(acf_values)), 'acf': acf_values})\n",
    "pacf_df = pd.DataFrame({'lag': np.arange(len(pacf_values)), 'pacf': pacf_values})\n",
    "\n",
    "# Построение графиков ACF и PACF\n",
    "plt.figure(figsize=(20, 10))\n",
    "\n",
    "# График ACF\n",
    "plt.subplot(2, 1, 1)\n",
    "sns.barplot(x='lag', y='acf', data=acf_df, color='skyblue')\n",
    "plt.axhline(0, color='blue')\n",
    "plt.axhline(1.96/np.sqrt(len(ts)), color='red', linestyle='--')\n",
    "plt.axhline(-1.96/np.sqrt(len(ts)), color='red', linestyle='--')\n",
    "plt.title('ACF')\n",
    "plt.xlabel('Lag')\n",
    "plt.ylabel('ACF')\n",
    "\n",
    "# График PACF\n",
    "plt.subplot(2, 1, 2)\n",
    "sns.barplot(x='lag', y='pacf', data=pacf_df, color='skyblue')\n",
    "plt.axhline(0, color='blue')\n",
    "plt.axhline(1.96/np.sqrt(len(ts)), color='red', linestyle='--')\n",
    "plt.axhline(-1.96/np.sqrt(len(ts)), color='red', linestyle='--')\n",
    "plt.title('PACF')\n",
    "plt.xlabel('Lag')\n",
    "plt.ylabel('PACF')\n",
    "\n",
    "plt.tight_layout();"
   ]
  },
  {
   "cell_type": "markdown",
   "metadata": {},
   "source": [
    "На основе автокорреляционного анализа и в частности анализа PACF, среди лагов, где частичная автокорреляция статистически значима на уровне 95% можно выделить следующие: 1, 22, 23, 24, 48, 72 часовые лаги. С учетом ACF дополним данные лаги 2 и 12 часовыми. **Используем указанные лаги в качестве признаков для обучения моделей.**"
   ]
  },
  {
   "cell_type": "markdown",
   "metadata": {},
   "source": [
    "### Создание признаков"
   ]
  },
  {
   "cell_type": "code",
   "execution_count": 20,
   "metadata": {},
   "outputs": [
    {
     "name": "stdout",
     "output_type": "stream",
     "text": [
      "(4248, 14)\n"
     ]
    },
    {
     "data": {
      "text/html": [
       "<div>\n",
       "<style scoped>\n",
       "    .dataframe tbody tr th:only-of-type {\n",
       "        vertical-align: middle;\n",
       "    }\n",
       "\n",
       "    .dataframe tbody tr th {\n",
       "        vertical-align: top;\n",
       "    }\n",
       "\n",
       "    .dataframe thead th {\n",
       "        text-align: right;\n",
       "    }\n",
       "</style>\n",
       "<table border=\"1\" class=\"dataframe\">\n",
       "  <thead>\n",
       "    <tr style=\"text-align: right;\">\n",
       "      <th></th>\n",
       "      <th>num_orders</th>\n",
       "      <th>dayofweek</th>\n",
       "      <th>hour</th>\n",
       "      <th>lag_1</th>\n",
       "      <th>lag_2</th>\n",
       "      <th>lag_12</th>\n",
       "      <th>lag_22</th>\n",
       "      <th>lag_23</th>\n",
       "      <th>lag_24</th>\n",
       "      <th>lag_48</th>\n",
       "      <th>lag_72</th>\n",
       "      <th>lag_168</th>\n",
       "      <th>rolling_mean_24</th>\n",
       "      <th>rolling_mean_168</th>\n",
       "    </tr>\n",
       "    <tr>\n",
       "      <th>datetime</th>\n",
       "      <th></th>\n",
       "      <th></th>\n",
       "      <th></th>\n",
       "      <th></th>\n",
       "      <th></th>\n",
       "      <th></th>\n",
       "      <th></th>\n",
       "      <th></th>\n",
       "      <th></th>\n",
       "      <th></th>\n",
       "      <th></th>\n",
       "      <th></th>\n",
       "      <th></th>\n",
       "      <th></th>\n",
       "    </tr>\n",
       "  </thead>\n",
       "  <tbody>\n",
       "    <tr>\n",
       "      <th>2018-03-08</th>\n",
       "      <td>143</td>\n",
       "      <td>3</td>\n",
       "      <td>0</td>\n",
       "      <td>94.0</td>\n",
       "      <td>127.0</td>\n",
       "      <td>34.0</td>\n",
       "      <td>24.0</td>\n",
       "      <td>121.0</td>\n",
       "      <td>100.0</td>\n",
       "      <td>42.0</td>\n",
       "      <td>86.0</td>\n",
       "      <td>124.0</td>\n",
       "      <td>60.041667</td>\n",
       "      <td>54.22619</td>\n",
       "    </tr>\n",
       "  </tbody>\n",
       "</table>\n",
       "</div>"
      ],
      "text/plain": [
       "            num_orders  dayofweek  hour  lag_1  lag_2  lag_12  lag_22  lag_23  \\\n",
       "datetime                                                                        \n",
       "2018-03-08         143          3     0   94.0  127.0    34.0    24.0   121.0   \n",
       "\n",
       "            lag_24  lag_48  lag_72  lag_168  rolling_mean_24  rolling_mean_168  \n",
       "datetime                                                                        \n",
       "2018-03-08   100.0    42.0    86.0    124.0        60.041667          54.22619  "
      ]
     },
     "metadata": {},
     "output_type": "display_data"
    }
   ],
   "source": [
    "list_lag = [1, 2, 12, 22, 23, 24, 48, 72, 168]\n",
    "list_rolling_mean_size = [24, 168]\n",
    "\n",
    "make_features(df, list_lag, list_rolling_mean_size)\n",
    "df.dropna(inplace=True)\n",
    "\n",
    "print(df.shape)\n",
    "display(df.head(1))"
   ]
  },
  {
   "cell_type": "markdown",
   "metadata": {},
   "source": [
    "### Корреляционный анализ"
   ]
  },
  {
   "cell_type": "code",
   "execution_count": 21,
   "metadata": {},
   "outputs": [
    {
     "data": {
      "image/png": "[encoded data removed]",
      "text/plain": [
       "<Figure size 864x432 with 2 Axes>"
      ]
     },
     "metadata": {
      "needs_background": "light"
     },
     "output_type": "display_data"
    }
   ],
   "source": [
    "num_col_df = df.select_dtypes(include='number').columns.tolist()\n",
    "phik_matrix_(df, num_col_df)"
   ]
  },
  {
   "cell_type": "markdown",
   "metadata": {},
   "source": [
    "Из анализа матрицы видно, что имеется мультиколлинеарность между признаками `rolling_mean_24` и `rolling_mean_168`. В связи с тем, что оба признака нам важны, сохраним их.\n",
    "У целевого признака количество заказов имеется:\n",
    "- высокая теснота связи с признаками временным недельным и суточным сдвигом\n",
    "- заметная теснота связи с признаками скользящее среднее за сутки и неделю, признаком час, а также временными сдвигами на 1, 2, 23, 48, 72 часа"
   ]
  },
  {
   "cell_type": "markdown",
   "metadata": {},
   "source": [
    "## Обучение"
   ]
  },
  {
   "cell_type": "markdown",
   "metadata": {},
   "source": [
    "Для подбора модели будем использовать один общий пайплайн для всех моделей и инструмент подбора гиперпараметров `RandomizedSearchCV`. Выбор лучшей модели будет осуществляться на основе метрики — `RMSE`\n",
    "\n",
    "В рамках пайплайна использовались следующие инструменты:    \n",
    "\n",
    "для масштабирования количественных признаков:\n",
    "- StandardScaler, MinMaxScaler\n",
    "\n",
    "типы методов:\n",
    "- LinearRegression, Ridge, Lasso, DecisionTreeRegressor, RandomForestRegressor, LGBMRegressor,  CatBoostRegressor со своими настройками гиперпараметров"
   ]
  },
  {
   "cell_type": "code",
   "execution_count": 22,
   "metadata": {},
   "outputs": [
    {
     "name": "stdout",
     "output_type": "stream",
     "text": [
      "[LightGBM] [Warning] feature_fraction is set=1.0, colsample_bytree=1.0 will be ignored. Current value: feature_fraction=1.0\n",
      "[LightGBM] [Warning] feature_fraction is set=1.0, colsample_bytree=1.0 will be ignored. Current value: feature_fraction=1.0\n",
      "[LightGBM] [Warning] feature_fraction is set=1.0, colsample_bytree=1.0 will be ignored. Current value: feature_fraction=1.0\n",
      "[LightGBM] [Warning] feature_fraction is set=1.0, colsample_bytree=1.0 will be ignored. Current value: feature_fraction=1.0\n",
      "[LightGBM] [Warning] feature_fraction is set=1.0, colsample_bytree=1.0 will be ignored. Current value: feature_fraction=1.0\n",
      "[LightGBM] [Warning] feature_fraction is set=0.8, colsample_bytree=1.0 will be ignored. Current value: feature_fraction=0.8\n",
      "[LightGBM] [Warning] feature_fraction is set=0.8, colsample_bytree=1.0 will be ignored. Current value: feature_fraction=0.8\n",
      "[LightGBM] [Warning] feature_fraction is set=0.8, colsample_bytree=1.0 will be ignored. Current value: feature_fraction=0.8\n",
      "[LightGBM] [Warning] feature_fraction is set=0.8, colsample_bytree=1.0 will be ignored. Current value: feature_fraction=0.8\n",
      "[LightGBM] [Warning] feature_fraction is set=0.8, colsample_bytree=1.0 will be ignored. Current value: feature_fraction=0.8\n"
     ]
    },
    {
     "data": {
      "text/plain": [
       "'Лучшая модель и её параметры:'"
      ]
     },
     "metadata": {},
     "output_type": "display_data"
    },
    {
     "data": {
      "text/plain": [
       "{'models': Ridge(random_state=42),\n",
       " 'models__alpha': 4.051502360018144,\n",
       " 'models__tol': 0.001,\n",
       " 'preprocessor__num': StandardScaler()}"
      ]
     },
     "metadata": {},
     "output_type": "display_data"
    },
    {
     "name": "stdout",
     "output_type": "stream",
     "text": [
      "Метрика RMSE, полученная с помощью кросс-валидации: 22.4\n",
      "CPU times: user 1min 31s, sys: 3.19 s, total: 1min 34s\n",
      "Wall time: 1min 53s\n"
     ]
    }
   ],
   "source": [
    "%%time\n",
    "# разобъем данные на тренировочную и тестовую выборки\n",
    "X_train, X_test, y_train, y_test = train_test_split(\n",
    "    df.drop(['num_orders'], axis=1),\n",
    "    df['num_orders'],\n",
    "    shuffle=False,\n",
    "    test_size = TEST_SIZE)\n",
    "\n",
    "# создаём списки с названиями признаков\n",
    "num_columns = df.select_dtypes(include='number').columns.tolist()[1:]\n",
    "\n",
    "# создаём общий пайплайн для подготовки данных\n",
    "data_preprocessor = ColumnTransformer(\n",
    "    [\n",
    "     ('num', StandardScaler(), num_columns)\n",
    "    ], \n",
    "    remainder='passthrough'\n",
    ")\n",
    "\n",
    "# создаём итоговый пайплайн: подготовка данных и модель\n",
    "pipe_final = Pipeline([\n",
    "    ('preprocessor', data_preprocessor),\n",
    "    ('models', None)\n",
    "])\n",
    "\n",
    "param_grid = [\n",
    "\n",
    "    # словарь для модели LinearRegression()\n",
    "    {\n",
    "        'models': [LinearRegression()],\n",
    "        'models__fit_intercept': [True, False],\n",
    "        'preprocessor__num': [StandardScaler(), MinMaxScaler()]\n",
    "    },\n",
    "    \n",
    "    \n",
    "    # словарь для модели Ridge()\n",
    "    {\n",
    "        'models': [Ridge(random_state=RANDOM_STATE)],\n",
    "        'models__alpha': uniform(0.1, 10),\n",
    "        'models__tol': [0.0001, 0.001, 0.01],\n",
    "        'preprocessor__num': [StandardScaler(), MinMaxScaler()]\n",
    "    },\n",
    "\n",
    "    # словарь для модели Lasso()\n",
    "    {\n",
    "        'models': [Lasso(random_state=RANDOM_STATE)],\n",
    "        'models__alpha': uniform(0.1, 10),\n",
    "        'models__tol': [0.0001, 0.001, 0.01],\n",
    "        'preprocessor__num': [StandardScaler(), MinMaxScaler()]\n",
    "    },\n",
    "    \n",
    "    # словарь для модели DecisionTreeRegressor()\n",
    "    {\n",
    "        'models': [DecisionTreeRegressor(random_state=RANDOM_STATE)],\n",
    "        'models__max_depth': range(5, 20),\n",
    "        'models__min_samples_leaf': range(3, 10),\n",
    "        'models__min_samples_split': range(3, 10) \n",
    "    },\n",
    "\n",
    "    # словарь для модели RandomForestRegressor()\n",
    "    {\n",
    "        'models': [RandomForestRegressor(random_state=RANDOM_STATE)],\n",
    "        'models__max_depth': range(5, 20),\n",
    "        'models__min_samples_leaf': range(3, 10),\n",
    "        'models__min_samples_split': range(3, 10), \n",
    "        'models__max_features': ['auto', 'sqrt', 'log2']\n",
    "    },\n",
    "    \n",
    "    # словарь для модели LGBMRegressor()\n",
    "    {\n",
    "        'models': [LGBMRegressor(verbose=-1)],\n",
    "        'models__num_leaves': [31, 50, 70], # число листьев\n",
    "        'models__learning_rate': [0.01, 0.05, 0.1], # скорость обучения\n",
    "        'models__n_estimators': [100, 200, 300], # количество деревьев\n",
    "        'models__max_depth': range(5, 20), # максимальная глубина\n",
    "        'models__feature_fraction': [0.6, 0.8, 1.0]\n",
    "    },\n",
    "    \n",
    "    # Параметры для CatBoostRegressor()\n",
    "    {\n",
    "        'models': [CatBoostRegressor(verbose=0)],\n",
    "        'models__depth': [4, 6, 8, 10], # глубина деревьев\n",
    "        'models__learning_rate': [0.01, 0.05, 0.1, 0.2], # скорость обучения\n",
    "        'models__iterations': [100, 200, 500, 1000] # количество итераций\n",
    "    }\n",
    "]\n",
    "\n",
    "# Создаем объект TimeSeriesSplit\n",
    "tscv = TimeSeriesSplit(n_splits=5)\n",
    "\n",
    "randomized_search = RandomizedSearchCV(\n",
    "    pipe_final, \n",
    "    param_grid, \n",
    "    cv=tscv,\n",
    "    scoring='neg_root_mean_squared_error',\n",
    "    random_state=RANDOM_STATE,\n",
    "    n_jobs=-1,\n",
    "    n_iter=30\n",
    ")\n",
    "randomized_search.fit(X_train, y_train)\n",
    "\n",
    "display('Лучшая модель и её параметры:', randomized_search.best_params_)\n",
    "print (f'Метрика RMSE, полученная с помощью кросс-валидации: {randomized_search.best_score_ * -1:.1f}')"
   ]
  },
  {
   "cell_type": "code",
   "execution_count": 23,
   "metadata": {},
   "outputs": [
    {
     "data": {
      "text/html": [
       "<div>\n",
       "<style scoped>\n",
       "    .dataframe tbody tr th:only-of-type {\n",
       "        vertical-align: middle;\n",
       "    }\n",
       "\n",
       "    .dataframe tbody tr th {\n",
       "        vertical-align: top;\n",
       "    }\n",
       "\n",
       "    .dataframe thead th {\n",
       "        text-align: right;\n",
       "    }\n",
       "</style>\n",
       "<table border=\"1\" class=\"dataframe\">\n",
       "  <thead>\n",
       "    <tr style=\"text-align: right;\">\n",
       "      <th></th>\n",
       "      <th>rank_test_score</th>\n",
       "      <th>param_models</th>\n",
       "      <th>mean_test_score</th>\n",
       "      <th>params</th>\n",
       "    </tr>\n",
       "  </thead>\n",
       "  <tbody>\n",
       "    <tr>\n",
       "      <th>20</th>\n",
       "      <td>1</td>\n",
       "      <td>Ridge(random_state=42)</td>\n",
       "      <td>-22.410395</td>\n",
       "      <td>{'models': Ridge(random_state=42), 'models__alpha': 4.051502360018144, 'models__tol': 0.001, 'preprocessor__num': StandardScaler()}</td>\n",
       "    </tr>\n",
       "    <tr>\n",
       "      <th>13</th>\n",
       "      <td>2</td>\n",
       "      <td>Ridge(random_state=42)</td>\n",
       "      <td>-22.410405</td>\n",
       "      <td>{'models': Ridge(random_state=42), 'models__alpha': 3.954165025399161, 'models__tol': 0.001, 'preprocessor__num': StandardScaler()}</td>\n",
       "    </tr>\n",
       "    <tr>\n",
       "      <th>5</th>\n",
       "      <td>3</td>\n",
       "      <td>Ridge(random_state=42)</td>\n",
       "      <td>-22.410648</td>\n",
       "      <td>{'models': Ridge(random_state=42), 'models__alpha': 1.9182496720710063, 'models__tol': 0.0001, 'preprocessor__num': StandardScaler()}</td>\n",
       "    </tr>\n",
       "    <tr>\n",
       "      <th>2</th>\n",
       "      <td>4</td>\n",
       "      <td>Ridge(random_state=42)</td>\n",
       "      <td>-22.410681</td>\n",
       "      <td>{'models': Ridge(random_state=42), 'models__alpha': 1.6599452033620266, 'models__tol': 0.01, 'preprocessor__num': StandardScaler()}</td>\n",
       "    </tr>\n",
       "    <tr>\n",
       "      <th>11</th>\n",
       "      <td>5</td>\n",
       "      <td>LinearRegression()</td>\n",
       "      <td>-22.410914</td>\n",
       "      <td>{'models': LinearRegression(), 'models__fit_intercept': True, 'preprocessor__num': MinMaxScaler()}</td>\n",
       "    </tr>\n",
       "    <tr>\n",
       "      <th>24</th>\n",
       "      <td>6</td>\n",
       "      <td>LinearRegression()</td>\n",
       "      <td>-22.436439</td>\n",
       "      <td>{'models': LinearRegression(), 'models__fit_intercept': False, 'preprocessor__num': MinMaxScaler()}</td>\n",
       "    </tr>\n",
       "    <tr>\n",
       "      <th>14</th>\n",
       "      <td>7</td>\n",
       "      <td>Ridge(random_state=42)</td>\n",
       "      <td>-22.620740</td>\n",
       "      <td>{'models': Ridge(random_state=42), 'models__alpha': 6.942330265121568, 'models__tol': 0.01, 'preprocessor__num': MinMaxScaler()}</td>\n",
       "    </tr>\n",
       "    <tr>\n",
       "      <th>4</th>\n",
       "      <td>8</td>\n",
       "      <td>Ridge(random_state=42)</td>\n",
       "      <td>-22.636456</td>\n",
       "      <td>{'models': Ridge(random_state=42), 'models__alpha': 7.319987722668247, 'models__tol': 0.001, 'preprocessor__num': MinMaxScaler()}</td>\n",
       "    </tr>\n",
       "    <tr>\n",
       "      <th>27</th>\n",
       "      <td>9</td>\n",
       "      <td>&lt;catboost.core.CatBoostRegressor object at 0x7f7431aa0f10&gt;</td>\n",
       "      <td>-22.804293</td>\n",
       "      <td>{'models': &lt;catboost.core.CatBoostRegressor object at 0x7f7431aa0f10&gt;, 'models__depth': 4, 'models__iterations': 1000, 'models__learning_rate': 0.01}</td>\n",
       "    </tr>\n",
       "    <tr>\n",
       "      <th>3</th>\n",
       "      <td>10</td>\n",
       "      <td>RandomForestRegressor(random_state=42)</td>\n",
       "      <td>-22.957155</td>\n",
       "      <td>{'models': RandomForestRegressor(random_state=42), 'models__max_depth': 8, 'models__max_features': 'log2', 'models__min_samples_leaf': 8, 'models__min_samples_split': 7}</td>\n",
       "    </tr>\n",
       "  </tbody>\n",
       "</table>\n",
       "</div>"
      ],
      "text/plain": [
       "    rank_test_score  \\\n",
       "20                1   \n",
       "13                2   \n",
       "5                 3   \n",
       "2                 4   \n",
       "11                5   \n",
       "24                6   \n",
       "14                7   \n",
       "4                 8   \n",
       "27                9   \n",
       "3                10   \n",
       "\n",
       "                                                  param_models  \\\n",
       "20                                      Ridge(random_state=42)   \n",
       "13                                      Ridge(random_state=42)   \n",
       "5                                       Ridge(random_state=42)   \n",
       "2                                       Ridge(random_state=42)   \n",
       "11                                          LinearRegression()   \n",
       "24                                          LinearRegression()   \n",
       "14                                      Ridge(random_state=42)   \n",
       "4                                       Ridge(random_state=42)   \n",
       "27  <catboost.core.CatBoostRegressor object at 0x7f7431aa0f10>   \n",
       "3                       RandomForestRegressor(random_state=42)   \n",
       "\n",
       "    mean_test_score  \\\n",
       "20       -22.410395   \n",
       "13       -22.410405   \n",
       "5        -22.410648   \n",
       "2        -22.410681   \n",
       "11       -22.410914   \n",
       "24       -22.436439   \n",
       "14       -22.620740   \n",
       "4        -22.636456   \n",
       "27       -22.804293   \n",
       "3        -22.957155   \n",
       "\n",
       "                                                                                                                                                                       params  \n",
       "20                                        {'models': Ridge(random_state=42), 'models__alpha': 4.051502360018144, 'models__tol': 0.001, 'preprocessor__num': StandardScaler()}  \n",
       "13                                        {'models': Ridge(random_state=42), 'models__alpha': 3.954165025399161, 'models__tol': 0.001, 'preprocessor__num': StandardScaler()}  \n",
       "5                                       {'models': Ridge(random_state=42), 'models__alpha': 1.9182496720710063, 'models__tol': 0.0001, 'preprocessor__num': StandardScaler()}  \n",
       "2                                         {'models': Ridge(random_state=42), 'models__alpha': 1.6599452033620266, 'models__tol': 0.01, 'preprocessor__num': StandardScaler()}  \n",
       "11                                                                         {'models': LinearRegression(), 'models__fit_intercept': True, 'preprocessor__num': MinMaxScaler()}  \n",
       "24                                                                        {'models': LinearRegression(), 'models__fit_intercept': False, 'preprocessor__num': MinMaxScaler()}  \n",
       "14                                           {'models': Ridge(random_state=42), 'models__alpha': 6.942330265121568, 'models__tol': 0.01, 'preprocessor__num': MinMaxScaler()}  \n",
       "4                                           {'models': Ridge(random_state=42), 'models__alpha': 7.319987722668247, 'models__tol': 0.001, 'preprocessor__num': MinMaxScaler()}  \n",
       "27                      {'models': <catboost.core.CatBoostRegressor object at 0x7f7431aa0f10>, 'models__depth': 4, 'models__iterations': 1000, 'models__learning_rate': 0.01}  \n",
       "3   {'models': RandomForestRegressor(random_state=42), 'models__max_depth': 8, 'models__max_features': 'log2', 'models__min_samples_leaf': 8, 'models__min_samples_split': 7}  "
      ]
     },
     "execution_count": 23,
     "metadata": {},
     "output_type": "execute_result"
    }
   ],
   "source": [
    "# Отобразим результаты работы со всеми моделями\n",
    "result = pd.DataFrame(randomized_search.cv_results_)\n",
    "result = result[\n",
    "    ['rank_test_score', 'param_models', 'mean_test_score','params']\n",
    "    ].sort_values('rank_test_score')\n",
    "result.head(10)"
   ]
  },
  {
   "cell_type": "markdown",
   "metadata": {},
   "source": [
    "**Вывод:** моделью, показавшей наилучшие результаты метрики `RMSE` равное 22,4 на кроссвалидационной выборке, стала `Ridge` с параметрами: степень регуляризации - 4, параметр точности для критерия остановки - 0.001."
   ]
  },
  {
   "cell_type": "markdown",
   "metadata": {},
   "source": [
    "## Тестирование лучшей модели"
   ]
  },
  {
   "cell_type": "markdown",
   "metadata": {},
   "source": [
    "### Анализ важности признаков"
   ]
  },
  {
   "cell_type": "code",
   "execution_count": 24,
   "metadata": {},
   "outputs": [
    {
     "data": {
      "image/png": "[encoded data removed]",
      "text/plain": [
       "<Figure size 864x432 with 1 Axes>"
      ]
     },
     "metadata": {
      "needs_background": "light"
     },
     "output_type": "display_data"
    }
   ],
   "source": [
    "# извлечение лучшего пайплайна\n",
    "pipeline_best = randomized_search.best_estimator_\n",
    "model_best = pipeline_best.named_steps['models']\n",
    "\n",
    "# извлечем преобразованные названия столбцов и преобразуем X_train, X_test\n",
    "feature_names = pipeline_best.named_steps['preprocessor'].get_feature_names_out()\n",
    "X_train_transformed = pipeline_best.named_steps['preprocessor'].transform(X_train)\n",
    "X_train_transformed = pd.DataFrame(X_train_transformed, columns=feature_names)\n",
    "\n",
    "# сформируем таблицу важности признаков и отсортируем её\n",
    "coefficients = model_best.coef_\n",
    "feature_importance = pd.DataFrame({'Feature': X_train_transformed.columns,\n",
    "                                   'Importance': np.abs(coefficients)})\n",
    "feature_importance = feature_importance.sort_values('Importance', ascending=False)\n",
    "\n",
    "plt.figure(figsize=(12, 6))\n",
    "\n",
    "ax = sns.barplot(data=feature_importance, x='Importance', y='Feature')\n",
    "\n",
    "ax.set_title('Важность признаков - num_orders', fontsize=16)\n",
    "ax.set_xlabel('Важность (доля)', fontsize=14)\n",
    "ax.set_ylabel('Признак', fontsize=14)\n",
    "\n",
    "# отображаем график\n",
    "plt.show()"
   ]
  },
  {
   "cell_type": "markdown",
   "metadata": {},
   "source": [
    "Анализ важности признаков показывает, что наибольший вклад в предсказание количества заказов в порядке убывания вносят:\n",
    "- недельный временной сдвиг\n",
    "- временной сдвиг 48 часов\n",
    "- временной сдвиг 72 часа\n",
    "- 24-х часовое скользящее среднее\n",
    "- недельное скользящее среднее"
   ]
  },
  {
   "cell_type": "markdown",
   "metadata": {},
   "source": [
    "### Расчет прогноза и метрики RMSE на тестовых данных"
   ]
  },
  {
   "cell_type": "markdown",
   "metadata": {},
   "source": [
    "Рассчитаем на основе модели `Ridge` с лучшим результатом метрики прогноз и метрику RMSE на тестовых данных."
   ]
  },
  {
   "cell_type": "code",
   "execution_count": 25,
   "metadata": {},
   "outputs": [
    {
     "name": "stdout",
     "output_type": "stream",
     "text": [
      "Метрика RMSE на тестовых данных: 34.7\n"
     ]
    }
   ],
   "source": [
    "y_pred = randomized_search.predict(X_test)\n",
    "rmse = mean_squared_error(y_test, y_pred, squared=False)\n",
    "print(f'Метрика RMSE на тестовых данных: {rmse:.1f}')"
   ]
  },
  {
   "cell_type": "markdown",
   "metadata": {},
   "source": [
    "Проверим нашу лучшую модель на адекватность, сравнив качество её предсказаний с качеством модели, которая предсказывает константу, с `DummyRegressor`"
   ]
  },
  {
   "cell_type": "code",
   "execution_count": 26,
   "metadata": {},
   "outputs": [
    {
     "name": "stdout",
     "output_type": "stream",
     "text": [
      "Метрика DummyRegressor RMSE на тестовых данных: 84.5\n"
     ]
    }
   ],
   "source": [
    "model_dr = DummyRegressor()\n",
    "model_dr.fit(X_train, y_train)\n",
    "pred_dr = model_dr.predict(X_test)\n",
    "rmse_dr = mean_squared_error(y_test, pred_dr, squared=False)\n",
    "print(f'Метрика DummyRegressor RMSE на тестовых данных: {rmse_dr:.1f}')"
   ]
  },
  {
   "cell_type": "markdown",
   "metadata": {},
   "source": [
    "Качество работы нашей лучшей модели значительно превосходит результат работы константной модели"
   ]
  },
  {
   "cell_type": "markdown",
   "metadata": {},
   "source": [
    "Отобразим тестовые и прогнозные данные количества заказов на графике"
   ]
  },
  {
   "cell_type": "code",
   "execution_count": 27,
   "metadata": {},
   "outputs": [
    {
     "data": {
      "image/png": "[encoded data removed]",
      "text/plain": [
       "<Figure size 1440x576 with 1 Axes>"
      ]
     },
     "metadata": {
      "needs_background": "light"
     },
     "output_type": "display_data"
    }
   ],
   "source": [
    "df_result = y_test.to_frame()\n",
    "df_result.rename(columns={'num_orders': 'num_orders_test'}, inplace=True)\n",
    "df_result['num_orders_pred'] = y_pred\n",
    "\n",
    "plt.figure(figsize=(20, 8))\n",
    "\n",
    "sns.lineplot(data=df_result)\n",
    "\n",
    "plt.title('Trend')\n",
    "plt.xlabel('Date')\n",
    "plt.ylabel('Trend Value');"
   ]
  },
  {
   "cell_type": "markdown",
   "metadata": {},
   "source": [
    "## Общий вывод"
   ]
  },
  {
   "cell_type": "markdown",
   "metadata": {},
   "source": [
    "**В рамках проекта была проведена:** предобработка данных, исследовательский анализ данных с необходимой визуализацией, графический анализ данных, в т.ч. на основе декомпозиции. С учетом результатов декомпозиции и автокорреляционный анализа созданы необходимые признаки для последующего обучения моделей, проведен корреляционный анализ сформированных признаков.\n",
    "С целью прогноза количества заказов обучены семь моделей, расчитана метрика `RMSE` и отобрана лучшая модель на основе данной метрики. Произведен прогноз и расчитана метрика для лучшей модели на тестовых данных.\n",
    "_____________\n",
    "\n",
    "**На этапе предобработки данных:** загружена и получена общая информация по датасету: пропуски в данных отсутствуют, названия столбцов соответствуют \"змеиному типу\", тип данных соответствует описанию. Установлен `datetime` в качестве индекса, датасет отсортирован по индексу, произведено ресемплирование по одному часу.\n",
    "\n",
    "**На этапе анализа данных:** проведен исследовательский анализ данных с необходимой визуализацией, графический анализ данных, в т.ч. на основе декомпозиции. Графический анализ результатов декомпозиции показал:\n",
    "- имеется тренд на увеличение количества заказов с начала весны до конца лета\n",
    "- в данных имеются:\n",
    " - суточная сезонность с ростом количества заказов, начиная с утренних часов, ростом в течении дня и пиком в 12ч ночи\n",
    " - недельная сезонность с ростом количества заказов, с двумя пиками в понедельник и пятницу, постепенным ростом от вторника к пятнице и снижением в выходные дни\n",
    "\n",
    "На основе данных результатов суточные и недельные скользящие средние были использованы в качестве дополнительных признаков для обучения моделей.\n",
    "\n",
    "**На этапе подготовки данных:** Проведен автокорреляционный анализ. На основе автокорреляционного анализа и в частности анализа PACF, среди лагов, где частичная автокорреляция статистически значима на уровне 95% можно были выделены следующие: 1, 22, 23, 24, 48, 72 часовые лаги. С учетом ACF дополнены 2 и 12 часовыми лагами.     \n",
    "С учетом результатов декомпозиции и автокорреляционный анализа созданы необходимые признаки для последующего обучения моделей.    \n",
    "Анализ матрицы корреляции показал, что у целевого признака `количество заказов` имеется:\n",
    "- высокая теснота связи с признаками временным недельным и суточным сдвигом\n",
    "- заметная теснота связи с признаками скользящее среднее за сутки и неделю, признаком час, а также временными сдвигами на 1, 2, 23, 48, 72 часа\n",
    "\n",
    "**На этапе обучения и выбора лучшей модели:** с использованием пайплайнов обработаны количественные признаки, обучены 7 моделей: `LinearRegression`, `Ridge`, `Lasso`, `DecisionTreeRegressor`, `RandomForestRegressor`, `LGBMRegressor`,  `CatBoostRegressor`. Для каждой из моделей подобраны гиперпараметры. Для выбора лучшей модели использовалась заданная метрика `RMSE`.       \n",
    "\n",
    "Моделью, показавшей наилучшие результаты метрики `RMSE` на кроссвалидационной выборке, стала `Ridge` с параметрами: степень регуляризации - 4, параметр точности для критерия остановки - 0.001.    \n",
    "С использованием данной модели `RMSE`, полученная с помощью кросс-валидации, составила `22,4`\n",
    "\n",
    "**На этапе тестирования лучшей модели:** Произведен прогноз и расчитана метрика для лучшей модели на тестовых данных. Тестовые и прогнозные данные количества заказов показаны графически\n",
    "С использованием данной модели `RMSE`, полученная на тестовых данных, составила `34,7`. \n",
    "\n",
    "С учетом вышеизложенного модель `Ridge` будет рекомендована Заказчику для использования при прогнозировании количества заказов такси на следующий час."
   ]
  }
 ],
 "metadata": {
  "ExecuteTimeLog": [
   {
    "duration": 15191,
    "start_time": "2024-07-24T08:48:16.971Z"
   },
   {
    "duration": 1409,
    "start_time": "2024-07-24T08:48:32.165Z"
   },
   {
    "duration": 3,
    "start_time": "2024-07-24T08:48:33.575Z"
   },
   {
    "duration": 7,
    "start_time": "2024-07-24T08:48:33.579Z"
   },
   {
    "duration": 5,
    "start_time": "2024-07-24T08:48:33.587Z"
   },
   {
    "duration": 101,
    "start_time": "2024-07-24T08:48:33.593Z"
   },
   {
    "duration": 30,
    "start_time": "2024-07-24T08:50:02.156Z"
   },
   {
    "duration": 43,
    "start_time": "2024-07-24T08:54:42.484Z"
   },
   {
    "duration": 22,
    "start_time": "2024-07-24T08:54:44.752Z"
   },
   {
    "duration": 6,
    "start_time": "2024-07-24T09:02:32.203Z"
   },
   {
    "duration": 39,
    "start_time": "2024-07-24T09:04:08.148Z"
   },
   {
    "duration": 25,
    "start_time": "2024-07-24T09:04:09.150Z"
   },
   {
    "duration": 42,
    "start_time": "2024-07-24T09:07:19.934Z"
   },
   {
    "duration": 23,
    "start_time": "2024-07-24T09:07:21.098Z"
   },
   {
    "duration": 9,
    "start_time": "2024-07-24T09:07:49.660Z"
   },
   {
    "duration": 42,
    "start_time": "2024-07-24T09:18:29.867Z"
   },
   {
    "duration": 25,
    "start_time": "2024-07-24T09:18:30.895Z"
   },
   {
    "duration": 7,
    "start_time": "2024-07-24T09:18:55.486Z"
   },
   {
    "duration": 3,
    "start_time": "2024-07-24T09:39:10.354Z"
   },
   {
    "duration": 7,
    "start_time": "2024-07-24T09:39:16.243Z"
   },
   {
    "duration": 6,
    "start_time": "2024-07-24T09:40:12.693Z"
   },
   {
    "duration": 9,
    "start_time": "2024-07-24T09:40:17.739Z"
   },
   {
    "duration": 117,
    "start_time": "2024-07-24T09:42:41.463Z"
   },
   {
    "duration": 47,
    "start_time": "2024-07-24T09:43:02.507Z"
   },
   {
    "duration": 20,
    "start_time": "2024-07-24T09:43:03.332Z"
   },
   {
    "duration": 7,
    "start_time": "2024-07-24T09:43:05.091Z"
   },
   {
    "duration": 9,
    "start_time": "2024-07-24T09:43:06.652Z"
   },
   {
    "duration": 9,
    "start_time": "2024-07-24T09:43:19.439Z"
   },
   {
    "duration": 3,
    "start_time": "2024-07-24T09:44:29.067Z"
   },
   {
    "duration": 4,
    "start_time": "2024-07-24T09:45:55.923Z"
   },
   {
    "duration": 42,
    "start_time": "2024-07-24T09:45:55.929Z"
   },
   {
    "duration": 21,
    "start_time": "2024-07-24T09:45:55.972Z"
   },
   {
    "duration": 25,
    "start_time": "2024-07-24T09:45:55.995Z"
   },
   {
    "duration": 113,
    "start_time": "2024-07-24T09:45:56.022Z"
   },
   {
    "duration": 21,
    "start_time": "2024-07-24T09:45:56.136Z"
   },
   {
    "duration": 6,
    "start_time": "2024-07-24T09:45:56.158Z"
   },
   {
    "duration": 9,
    "start_time": "2024-07-24T09:45:56.165Z"
   },
   {
    "duration": 13,
    "start_time": "2024-07-24T09:45:56.175Z"
   },
   {
    "duration": 12,
    "start_time": "2024-07-24T09:45:56.189Z"
   },
   {
    "duration": 4,
    "start_time": "2024-07-24T09:46:11.860Z"
   },
   {
    "duration": 6,
    "start_time": "2024-07-24T09:47:05.806Z"
   },
   {
    "duration": 5,
    "start_time": "2024-07-24T09:47:38.547Z"
   },
   {
    "duration": 16,
    "start_time": "2024-07-24T09:47:38.553Z"
   },
   {
    "duration": 7,
    "start_time": "2024-07-24T09:47:38.570Z"
   },
   {
    "duration": 9,
    "start_time": "2024-07-24T09:47:38.578Z"
   },
   {
    "duration": 49,
    "start_time": "2024-07-24T09:47:38.589Z"
   },
   {
    "duration": 8,
    "start_time": "2024-07-24T09:47:38.639Z"
   },
   {
    "duration": 0,
    "start_time": "2024-07-24T09:47:38.648Z"
   },
   {
    "duration": 0,
    "start_time": "2024-07-24T09:47:38.649Z"
   },
   {
    "duration": 0,
    "start_time": "2024-07-24T09:47:38.650Z"
   },
   {
    "duration": 0,
    "start_time": "2024-07-24T09:47:38.651Z"
   },
   {
    "duration": 6,
    "start_time": "2024-07-24T09:47:51.984Z"
   },
   {
    "duration": 6,
    "start_time": "2024-07-24T09:48:18.841Z"
   },
   {
    "duration": 25,
    "start_time": "2024-07-24T09:48:18.849Z"
   },
   {
    "duration": 21,
    "start_time": "2024-07-24T09:48:18.875Z"
   },
   {
    "duration": 12,
    "start_time": "2024-07-24T09:48:18.897Z"
   },
   {
    "duration": 52,
    "start_time": "2024-07-24T09:48:18.911Z"
   },
   {
    "duration": 6,
    "start_time": "2024-07-24T09:48:18.965Z"
   },
   {
    "duration": 30,
    "start_time": "2024-07-24T09:48:18.972Z"
   },
   {
    "duration": 7,
    "start_time": "2024-07-24T09:48:19.003Z"
   },
   {
    "duration": 9,
    "start_time": "2024-07-24T09:48:19.011Z"
   },
   {
    "duration": 18,
    "start_time": "2024-07-24T09:48:19.022Z"
   },
   {
    "duration": 4,
    "start_time": "2024-07-24T09:50:11.726Z"
   },
   {
    "duration": 459,
    "start_time": "2024-07-24T09:50:57.126Z"
   },
   {
    "duration": 741,
    "start_time": "2024-07-24T10:24:00.038Z"
   },
   {
    "duration": 806,
    "start_time": "2024-07-24T10:24:24.608Z"
   },
   {
    "duration": 954,
    "start_time": "2024-07-24T10:24:38.311Z"
   },
   {
    "duration": 566,
    "start_time": "2024-07-24T10:31:21.183Z"
   },
   {
    "duration": 581,
    "start_time": "2024-07-24T10:31:42.866Z"
   },
   {
    "duration": 498,
    "start_time": "2024-07-24T10:31:57.931Z"
   },
   {
    "duration": 627,
    "start_time": "2024-07-24T10:32:20.947Z"
   },
   {
    "duration": 383,
    "start_time": "2024-07-24T10:32:41.913Z"
   },
   {
    "duration": 380,
    "start_time": "2024-07-24T10:33:03.987Z"
   },
   {
    "duration": 355,
    "start_time": "2024-07-24T10:33:17.457Z"
   },
   {
    "duration": 359,
    "start_time": "2024-07-24T10:33:50.022Z"
   },
   {
    "duration": 439,
    "start_time": "2024-07-24T10:34:54.173Z"
   },
   {
    "duration": 406,
    "start_time": "2024-07-24T10:35:16.879Z"
   },
   {
    "duration": 359,
    "start_time": "2024-07-24T10:36:12.407Z"
   },
   {
    "duration": 380,
    "start_time": "2024-07-24T10:37:40.787Z"
   },
   {
    "duration": 379,
    "start_time": "2024-07-24T10:38:43.141Z"
   },
   {
    "duration": 349,
    "start_time": "2024-07-24T10:39:02.366Z"
   },
   {
    "duration": 541,
    "start_time": "2024-07-24T10:43:25.357Z"
   },
   {
    "duration": 417,
    "start_time": "2024-07-24T10:44:37.061Z"
   },
   {
    "duration": 557,
    "start_time": "2024-07-24T10:47:45.568Z"
   },
   {
    "duration": 666,
    "start_time": "2024-07-24T10:48:07.436Z"
   },
   {
    "duration": 437,
    "start_time": "2024-07-24T10:49:38.392Z"
   },
   {
    "duration": 362,
    "start_time": "2024-07-24T10:51:08.097Z"
   },
   {
    "duration": 367,
    "start_time": "2024-07-24T10:51:20.175Z"
   },
   {
    "duration": 24,
    "start_time": "2024-07-24T11:38:16.218Z"
   },
   {
    "duration": 44,
    "start_time": "2024-07-24T11:38:38.604Z"
   },
   {
    "duration": 54,
    "start_time": "2024-07-24T11:39:56.452Z"
   },
   {
    "duration": 23,
    "start_time": "2024-07-24T11:42:20.547Z"
   },
   {
    "duration": 26,
    "start_time": "2024-07-24T11:42:29.113Z"
   },
   {
    "duration": 19,
    "start_time": "2024-07-24T11:56:57.339Z"
   },
   {
    "duration": 12,
    "start_time": "2024-07-24T11:58:13.326Z"
   },
   {
    "duration": 7,
    "start_time": "2024-07-24T11:58:27.818Z"
   },
   {
    "duration": 3,
    "start_time": "2024-07-24T11:58:53.878Z"
   },
   {
    "duration": 4,
    "start_time": "2024-07-24T12:03:49.288Z"
   },
   {
    "duration": 7,
    "start_time": "2024-07-24T12:03:57.223Z"
   },
   {
    "duration": 6,
    "start_time": "2024-07-24T12:04:19.523Z"
   },
   {
    "duration": 6,
    "start_time": "2024-07-24T12:04:28.602Z"
   },
   {
    "duration": 5,
    "start_time": "2024-07-24T12:04:39.159Z"
   },
   {
    "duration": 58,
    "start_time": "2024-07-24T14:34:43.337Z"
   },
   {
    "duration": 1750,
    "start_time": "2024-07-24T14:34:48.407Z"
   },
   {
    "duration": 0,
    "start_time": "2024-07-24T14:34:50.160Z"
   },
   {
    "duration": 0,
    "start_time": "2024-07-24T14:34:50.161Z"
   },
   {
    "duration": 0,
    "start_time": "2024-07-24T14:34:50.162Z"
   },
   {
    "duration": 0,
    "start_time": "2024-07-24T14:34:50.164Z"
   },
   {
    "duration": 0,
    "start_time": "2024-07-24T14:34:50.164Z"
   },
   {
    "duration": 0,
    "start_time": "2024-07-24T14:34:50.166Z"
   },
   {
    "duration": 0,
    "start_time": "2024-07-24T14:34:50.167Z"
   },
   {
    "duration": 0,
    "start_time": "2024-07-24T14:34:50.183Z"
   },
   {
    "duration": 0,
    "start_time": "2024-07-24T14:34:50.184Z"
   },
   {
    "duration": 0,
    "start_time": "2024-07-24T14:34:50.185Z"
   },
   {
    "duration": 0,
    "start_time": "2024-07-24T14:34:50.187Z"
   },
   {
    "duration": 0,
    "start_time": "2024-07-24T14:34:50.189Z"
   },
   {
    "duration": 0,
    "start_time": "2024-07-24T14:34:50.190Z"
   },
   {
    "duration": 0,
    "start_time": "2024-07-24T14:34:50.192Z"
   },
   {
    "duration": 15773,
    "start_time": "2024-07-24T14:35:15.265Z"
   },
   {
    "duration": 105,
    "start_time": "2024-07-24T14:35:31.042Z"
   },
   {
    "duration": 0,
    "start_time": "2024-07-24T14:35:31.149Z"
   },
   {
    "duration": 0,
    "start_time": "2024-07-24T14:35:31.150Z"
   },
   {
    "duration": 0,
    "start_time": "2024-07-24T14:35:31.152Z"
   },
   {
    "duration": 0,
    "start_time": "2024-07-24T14:35:31.153Z"
   },
   {
    "duration": 0,
    "start_time": "2024-07-24T14:35:31.154Z"
   },
   {
    "duration": 0,
    "start_time": "2024-07-24T14:35:31.155Z"
   },
   {
    "duration": 0,
    "start_time": "2024-07-24T14:35:31.156Z"
   },
   {
    "duration": 0,
    "start_time": "2024-07-24T14:35:31.158Z"
   },
   {
    "duration": 0,
    "start_time": "2024-07-24T14:35:31.159Z"
   },
   {
    "duration": 0,
    "start_time": "2024-07-24T14:35:31.160Z"
   },
   {
    "duration": 0,
    "start_time": "2024-07-24T14:35:31.161Z"
   },
   {
    "duration": 0,
    "start_time": "2024-07-24T14:35:31.162Z"
   },
   {
    "duration": 3,
    "start_time": "2024-07-24T14:36:42.532Z"
   },
   {
    "duration": 11856,
    "start_time": "2024-07-24T14:37:49.607Z"
   },
   {
    "duration": 25,
    "start_time": "2024-07-24T14:38:01.466Z"
   },
   {
    "duration": 0,
    "start_time": "2024-07-24T14:38:01.494Z"
   },
   {
    "duration": 0,
    "start_time": "2024-07-24T14:38:01.495Z"
   },
   {
    "duration": 0,
    "start_time": "2024-07-24T14:38:01.496Z"
   },
   {
    "duration": 0,
    "start_time": "2024-07-24T14:38:01.498Z"
   },
   {
    "duration": 0,
    "start_time": "2024-07-24T14:38:01.499Z"
   },
   {
    "duration": 0,
    "start_time": "2024-07-24T14:38:01.501Z"
   },
   {
    "duration": 0,
    "start_time": "2024-07-24T14:38:01.502Z"
   },
   {
    "duration": 0,
    "start_time": "2024-07-24T14:38:01.503Z"
   },
   {
    "duration": 0,
    "start_time": "2024-07-24T14:38:01.504Z"
   },
   {
    "duration": 0,
    "start_time": "2024-07-24T14:38:01.505Z"
   },
   {
    "duration": 0,
    "start_time": "2024-07-24T14:38:01.507Z"
   },
   {
    "duration": 0,
    "start_time": "2024-07-24T14:38:01.508Z"
   },
   {
    "duration": 0,
    "start_time": "2024-07-24T14:38:01.509Z"
   },
   {
    "duration": 1,
    "start_time": "2024-07-24T14:38:01.510Z"
   },
   {
    "duration": 12600,
    "start_time": "2024-07-24T14:42:44.499Z"
   },
   {
    "duration": 1404,
    "start_time": "2024-07-24T14:42:57.101Z"
   },
   {
    "duration": 3,
    "start_time": "2024-07-24T14:42:58.507Z"
   },
   {
    "duration": 45,
    "start_time": "2024-07-24T14:42:58.511Z"
   },
   {
    "duration": 23,
    "start_time": "2024-07-24T14:42:58.559Z"
   },
   {
    "duration": 16,
    "start_time": "2024-07-24T14:42:58.584Z"
   },
   {
    "duration": 118,
    "start_time": "2024-07-24T14:42:58.601Z"
   },
   {
    "duration": 31,
    "start_time": "2024-07-24T14:42:58.721Z"
   },
   {
    "duration": 12,
    "start_time": "2024-07-24T14:42:58.753Z"
   },
   {
    "duration": 24,
    "start_time": "2024-07-24T14:42:58.767Z"
   },
   {
    "duration": 479,
    "start_time": "2024-07-24T14:42:58.792Z"
   },
   {
    "duration": 585,
    "start_time": "2024-07-24T14:42:59.272Z"
   },
   {
    "duration": 21,
    "start_time": "2024-07-24T14:42:59.858Z"
   },
   {
    "duration": 15,
    "start_time": "2024-07-24T14:42:59.881Z"
   },
   {
    "duration": 39,
    "start_time": "2024-07-24T14:42:59.898Z"
   },
   {
    "duration": 58636,
    "start_time": "2024-07-24T14:42:59.939Z"
   },
   {
    "duration": 283961,
    "start_time": "2024-07-24T14:44:52.300Z"
   },
   {
    "duration": 1068,
    "start_time": "2024-07-25T08:52:27.614Z"
   },
   {
    "duration": 0,
    "start_time": "2024-07-25T08:52:28.683Z"
   },
   {
    "duration": 0,
    "start_time": "2024-07-25T08:52:28.685Z"
   },
   {
    "duration": 0,
    "start_time": "2024-07-25T08:52:28.686Z"
   },
   {
    "duration": 0,
    "start_time": "2024-07-25T08:52:28.687Z"
   },
   {
    "duration": 16033,
    "start_time": "2024-07-25T08:53:11.464Z"
   },
   {
    "duration": 730,
    "start_time": "2024-07-25T08:53:27.500Z"
   },
   {
    "duration": 3,
    "start_time": "2024-07-25T08:53:28.232Z"
   },
   {
    "duration": 11,
    "start_time": "2024-07-25T08:53:28.237Z"
   },
   {
    "duration": 4,
    "start_time": "2024-07-25T08:53:28.250Z"
   },
   {
    "duration": 79,
    "start_time": "2024-07-25T08:53:28.256Z"
   },
   {
    "duration": 108,
    "start_time": "2024-07-25T08:53:28.337Z"
   },
   {
    "duration": 32,
    "start_time": "2024-07-25T08:53:28.447Z"
   },
   {
    "duration": 7,
    "start_time": "2024-07-25T08:53:28.481Z"
   },
   {
    "duration": 11,
    "start_time": "2024-07-25T08:53:28.490Z"
   },
   {
    "duration": 613,
    "start_time": "2024-07-25T08:53:28.502Z"
   },
   {
    "duration": 1112,
    "start_time": "2024-07-25T08:54:02.693Z"
   },
   {
    "duration": 39,
    "start_time": "2024-07-25T09:10:44.759Z"
   },
   {
    "duration": 4,
    "start_time": "2024-07-25T09:13:01.709Z"
   },
   {
    "duration": 6,
    "start_time": "2024-07-25T09:14:15.296Z"
   },
   {
    "duration": 54,
    "start_time": "2024-07-25T09:17:01.095Z"
   },
   {
    "duration": 6,
    "start_time": "2024-07-25T09:19:03.255Z"
   },
   {
    "duration": 59,
    "start_time": "2024-07-25T09:19:03.263Z"
   },
   {
    "duration": 6,
    "start_time": "2024-07-25T09:19:03.324Z"
   },
   {
    "duration": 4,
    "start_time": "2024-07-25T09:19:03.332Z"
   },
   {
    "duration": 6,
    "start_time": "2024-07-25T09:19:03.338Z"
   },
   {
    "duration": 29,
    "start_time": "2024-07-25T09:19:03.345Z"
   },
   {
    "duration": 50,
    "start_time": "2024-07-25T09:19:03.376Z"
   },
   {
    "duration": 27,
    "start_time": "2024-07-25T09:19:03.427Z"
   },
   {
    "duration": 8,
    "start_time": "2024-07-25T09:19:03.456Z"
   },
   {
    "duration": 9,
    "start_time": "2024-07-25T09:19:03.465Z"
   },
   {
    "duration": 513,
    "start_time": "2024-07-25T09:19:03.475Z"
   },
   {
    "duration": 1046,
    "start_time": "2024-07-25T09:19:03.990Z"
   },
   {
    "duration": 69,
    "start_time": "2024-07-25T09:19:16.809Z"
   },
   {
    "duration": 5,
    "start_time": "2024-07-25T09:21:36.653Z"
   },
   {
    "duration": 25,
    "start_time": "2024-07-25T09:21:45.578Z"
   },
   {
    "duration": 8,
    "start_time": "2024-07-25T09:23:52.763Z"
   },
   {
    "duration": 20,
    "start_time": "2024-07-25T09:23:52.773Z"
   },
   {
    "duration": 5,
    "start_time": "2024-07-25T09:23:52.795Z"
   },
   {
    "duration": 10,
    "start_time": "2024-07-25T09:23:52.802Z"
   },
   {
    "duration": 9,
    "start_time": "2024-07-25T09:23:52.814Z"
   },
   {
    "duration": 41,
    "start_time": "2024-07-25T09:23:52.825Z"
   },
   {
    "duration": 63,
    "start_time": "2024-07-25T09:23:52.867Z"
   },
   {
    "duration": 28,
    "start_time": "2024-07-25T09:23:52.932Z"
   },
   {
    "duration": 8,
    "start_time": "2024-07-25T09:23:52.962Z"
   },
   {
    "duration": 12,
    "start_time": "2024-07-25T09:23:52.973Z"
   },
   {
    "duration": 555,
    "start_time": "2024-07-25T09:23:52.986Z"
   },
   {
    "duration": 1152,
    "start_time": "2024-07-25T09:23:53.543Z"
   },
   {
    "duration": 46,
    "start_time": "2024-07-25T09:24:04.470Z"
   },
   {
    "duration": 27,
    "start_time": "2024-07-25T09:28:16.672Z"
   },
   {
    "duration": 7,
    "start_time": "2024-07-25T09:28:23.757Z"
   },
   {
    "duration": 12,
    "start_time": "2024-07-25T09:28:23.767Z"
   },
   {
    "duration": 17,
    "start_time": "2024-07-25T09:28:23.781Z"
   },
   {
    "duration": 25,
    "start_time": "2024-07-25T09:28:23.800Z"
   },
   {
    "duration": 37,
    "start_time": "2024-07-25T09:28:23.827Z"
   },
   {
    "duration": 10,
    "start_time": "2024-07-25T09:28:23.866Z"
   },
   {
    "duration": 49,
    "start_time": "2024-07-25T09:28:23.878Z"
   },
   {
    "duration": 33,
    "start_time": "2024-07-25T09:28:23.928Z"
   },
   {
    "duration": 13,
    "start_time": "2024-07-25T09:28:23.962Z"
   },
   {
    "duration": 11,
    "start_time": "2024-07-25T09:28:23.978Z"
   },
   {
    "duration": 492,
    "start_time": "2024-07-25T09:28:23.991Z"
   },
   {
    "duration": 1008,
    "start_time": "2024-07-25T09:28:24.484Z"
   },
   {
    "duration": 30,
    "start_time": "2024-07-25T09:28:28.047Z"
   },
   {
    "duration": 6,
    "start_time": "2024-07-25T09:30:03.432Z"
   },
   {
    "duration": 69,
    "start_time": "2024-07-25T09:30:03.440Z"
   },
   {
    "duration": 20,
    "start_time": "2024-07-25T09:30:03.510Z"
   },
   {
    "duration": 4,
    "start_time": "2024-07-25T09:30:03.533Z"
   },
   {
    "duration": 5,
    "start_time": "2024-07-25T09:30:03.539Z"
   },
   {
    "duration": 8,
    "start_time": "2024-07-25T09:30:03.546Z"
   },
   {
    "duration": 53,
    "start_time": "2024-07-25T09:30:03.555Z"
   },
   {
    "duration": 24,
    "start_time": "2024-07-25T09:30:03.610Z"
   },
   {
    "duration": 10,
    "start_time": "2024-07-25T09:30:03.636Z"
   },
   {
    "duration": 10,
    "start_time": "2024-07-25T09:30:03.648Z"
   },
   {
    "duration": 488,
    "start_time": "2024-07-25T09:30:03.682Z"
   },
   {
    "duration": 1121,
    "start_time": "2024-07-25T09:30:04.171Z"
   },
   {
    "duration": 6,
    "start_time": "2024-07-25T09:30:36.707Z"
   },
   {
    "duration": 13,
    "start_time": "2024-07-25T09:30:36.715Z"
   },
   {
    "duration": 9,
    "start_time": "2024-07-25T09:30:36.729Z"
   },
   {
    "duration": 4,
    "start_time": "2024-07-25T09:30:36.740Z"
   },
   {
    "duration": 14,
    "start_time": "2024-07-25T09:30:36.746Z"
   },
   {
    "duration": 61,
    "start_time": "2024-07-25T09:30:36.762Z"
   },
   {
    "duration": 25,
    "start_time": "2024-07-25T09:30:36.825Z"
   },
   {
    "duration": 7,
    "start_time": "2024-07-25T09:30:36.852Z"
   },
   {
    "duration": 11,
    "start_time": "2024-07-25T09:30:36.860Z"
   },
   {
    "duration": 481,
    "start_time": "2024-07-25T09:30:36.873Z"
   },
   {
    "duration": 1028,
    "start_time": "2024-07-25T09:30:37.355Z"
   },
   {
    "duration": 24,
    "start_time": "2024-07-25T09:30:42.157Z"
   },
   {
    "duration": 21,
    "start_time": "2024-07-25T09:33:14.617Z"
   },
   {
    "duration": 5,
    "start_time": "2024-07-25T09:33:21.665Z"
   },
   {
    "duration": 11,
    "start_time": "2024-07-25T09:33:21.672Z"
   },
   {
    "duration": 4,
    "start_time": "2024-07-25T09:33:21.684Z"
   },
   {
    "duration": 20,
    "start_time": "2024-07-25T09:33:21.690Z"
   },
   {
    "duration": 15,
    "start_time": "2024-07-25T09:33:21.712Z"
   },
   {
    "duration": 48,
    "start_time": "2024-07-25T09:33:21.729Z"
   },
   {
    "duration": 25,
    "start_time": "2024-07-25T09:33:21.779Z"
   },
   {
    "duration": 7,
    "start_time": "2024-07-25T09:33:21.806Z"
   },
   {
    "duration": 61,
    "start_time": "2024-07-25T09:33:21.814Z"
   },
   {
    "duration": 478,
    "start_time": "2024-07-25T09:33:21.878Z"
   },
   {
    "duration": 1078,
    "start_time": "2024-07-25T09:33:22.357Z"
   },
   {
    "duration": 10,
    "start_time": "2024-07-25T09:33:23.436Z"
   },
   {
    "duration": 12,
    "start_time": "2024-07-25T09:33:26.014Z"
   },
   {
    "duration": 4,
    "start_time": "2024-07-25T09:34:33.966Z"
   },
   {
    "duration": 4,
    "start_time": "2024-07-25T09:35:57.177Z"
   },
   {
    "duration": 5,
    "start_time": "2024-07-25T09:36:44.280Z"
   },
   {
    "duration": 16,
    "start_time": "2024-07-25T09:36:44.287Z"
   },
   {
    "duration": 9,
    "start_time": "2024-07-25T09:36:44.304Z"
   },
   {
    "duration": 32,
    "start_time": "2024-07-25T09:36:44.315Z"
   },
   {
    "duration": 8,
    "start_time": "2024-07-25T09:36:44.349Z"
   },
   {
    "duration": 4,
    "start_time": "2024-07-25T09:36:44.359Z"
   },
   {
    "duration": 48,
    "start_time": "2024-07-25T09:36:44.365Z"
   },
   {
    "duration": 25,
    "start_time": "2024-07-25T09:36:44.415Z"
   },
   {
    "duration": 9,
    "start_time": "2024-07-25T09:36:44.442Z"
   },
   {
    "duration": 8,
    "start_time": "2024-07-25T09:36:44.452Z"
   },
   {
    "duration": 500,
    "start_time": "2024-07-25T09:36:44.462Z"
   },
   {
    "duration": 1073,
    "start_time": "2024-07-25T09:36:44.964Z"
   },
   {
    "duration": 35,
    "start_time": "2024-07-25T09:36:50.859Z"
   },
   {
    "duration": 240452,
    "start_time": "2024-07-25T09:53:31.641Z"
   },
   {
    "duration": 87,
    "start_time": "2024-07-25T09:57:32.096Z"
   },
   {
    "duration": 4,
    "start_time": "2024-07-25T09:59:05.084Z"
   },
   {
    "duration": 4620,
    "start_time": "2024-07-25T09:59:11.376Z"
   },
   {
    "duration": 366527,
    "start_time": "2024-07-25T10:29:02.657Z"
   },
   {
    "duration": 20,
    "start_time": "2024-07-25T10:40:30.802Z"
   },
   {
    "duration": 19,
    "start_time": "2024-07-25T10:40:35.843Z"
   },
   {
    "duration": 22,
    "start_time": "2024-07-25T10:40:47.277Z"
   },
   {
    "duration": 9,
    "start_time": "2024-07-25T10:42:07.886Z"
   },
   {
    "duration": 22,
    "start_time": "2024-07-25T10:42:14.446Z"
   },
   {
    "duration": 281,
    "start_time": "2024-07-25T10:44:58.594Z"
   },
   {
    "duration": 16,
    "start_time": "2024-07-25T10:48:25.757Z"
   },
   {
    "duration": 292,
    "start_time": "2024-07-25T10:48:53.993Z"
   },
   {
    "duration": 279,
    "start_time": "2024-07-25T10:50:08.086Z"
   },
   {
    "duration": 69,
    "start_time": "2024-07-25T10:50:11.920Z"
   },
   {
    "duration": 299,
    "start_time": "2024-07-25T10:50:18.359Z"
   },
   {
    "duration": 69,
    "start_time": "2024-07-25T10:51:36.202Z"
   },
   {
    "duration": 293,
    "start_time": "2024-07-25T10:52:01.944Z"
   },
   {
    "duration": 298,
    "start_time": "2024-07-25T11:19:47.984Z"
   },
   {
    "duration": 24,
    "start_time": "2024-07-25T11:20:57.121Z"
   },
   {
    "duration": 11,
    "start_time": "2024-07-25T11:49:56.898Z"
   },
   {
    "duration": 13,
    "start_time": "2024-07-25T11:53:28.584Z"
   },
   {
    "duration": 20,
    "start_time": "2024-07-25T11:54:02.188Z"
   },
   {
    "duration": 4,
    "start_time": "2024-07-25T11:56:00.815Z"
   },
   {
    "duration": 10,
    "start_time": "2024-07-25T11:56:08.630Z"
   },
   {
    "duration": 29,
    "start_time": "2024-07-25T12:49:17.711Z"
   },
   {
    "duration": 6,
    "start_time": "2024-07-25T12:49:34.984Z"
   },
   {
    "duration": 11,
    "start_time": "2024-07-25T12:49:34.992Z"
   },
   {
    "duration": 4,
    "start_time": "2024-07-25T12:49:35.005Z"
   },
   {
    "duration": 5,
    "start_time": "2024-07-25T12:49:35.011Z"
   },
   {
    "duration": 13,
    "start_time": "2024-07-25T12:49:35.018Z"
   },
   {
    "duration": 11,
    "start_time": "2024-07-25T12:49:35.033Z"
   },
   {
    "duration": 4,
    "start_time": "2024-07-25T12:49:35.046Z"
   },
   {
    "duration": 79,
    "start_time": "2024-07-25T12:49:35.052Z"
   },
   {
    "duration": 33,
    "start_time": "2024-07-25T12:49:35.132Z"
   },
   {
    "duration": 67,
    "start_time": "2024-07-25T12:49:35.168Z"
   },
   {
    "duration": 10,
    "start_time": "2024-07-25T12:49:35.236Z"
   },
   {
    "duration": 584,
    "start_time": "2024-07-25T12:49:35.247Z"
   },
   {
    "duration": 1427,
    "start_time": "2024-07-25T12:49:35.834Z"
   },
   {
    "duration": 44,
    "start_time": "2024-07-25T12:49:37.264Z"
   },
   {
    "duration": 4524,
    "start_time": "2024-07-25T12:49:37.310Z"
   },
   {
    "duration": 482053,
    "start_time": "2024-07-25T12:49:41.836Z"
   },
   {
    "duration": 113,
    "start_time": "2024-07-25T12:57:43.891Z"
   },
   {
    "duration": 321,
    "start_time": "2024-07-25T12:57:44.006Z"
   },
   {
    "duration": 11,
    "start_time": "2024-07-25T13:00:01.647Z"
   },
   {
    "duration": 589,
    "start_time": "2024-07-25T13:00:04.785Z"
   },
   {
    "duration": 11239,
    "start_time": "2024-07-25T13:56:24.321Z"
   },
   {
    "duration": 1531,
    "start_time": "2024-07-25T13:56:35.562Z"
   },
   {
    "duration": 3,
    "start_time": "2024-07-25T13:56:37.095Z"
   },
   {
    "duration": 52,
    "start_time": "2024-07-25T13:56:37.100Z"
   },
   {
    "duration": 16,
    "start_time": "2024-07-25T13:56:37.156Z"
   },
   {
    "duration": 22,
    "start_time": "2024-07-25T13:56:37.175Z"
   },
   {
    "duration": 22,
    "start_time": "2024-07-25T13:56:37.199Z"
   },
   {
    "duration": 11,
    "start_time": "2024-07-25T13:56:37.222Z"
   },
   {
    "duration": 58,
    "start_time": "2024-07-25T13:56:37.234Z"
   },
   {
    "duration": 35,
    "start_time": "2024-07-25T13:56:37.293Z"
   },
   {
    "duration": 43,
    "start_time": "2024-07-25T13:56:37.330Z"
   },
   {
    "duration": 8,
    "start_time": "2024-07-25T13:56:37.375Z"
   },
   {
    "duration": 21,
    "start_time": "2024-07-25T13:56:37.385Z"
   },
   {
    "duration": 540,
    "start_time": "2024-07-25T13:56:37.410Z"
   },
   {
    "duration": 1124,
    "start_time": "2024-07-25T13:56:37.952Z"
   },
   {
    "duration": 136,
    "start_time": "2024-07-25T13:56:39.078Z"
   },
   {
    "duration": 0,
    "start_time": "2024-07-25T13:56:39.215Z"
   },
   {
    "duration": 0,
    "start_time": "2024-07-25T13:56:39.217Z"
   },
   {
    "duration": 0,
    "start_time": "2024-07-25T13:56:39.218Z"
   },
   {
    "duration": 0,
    "start_time": "2024-07-25T13:56:39.219Z"
   },
   {
    "duration": 0,
    "start_time": "2024-07-25T13:56:39.220Z"
   },
   {
    "duration": 0,
    "start_time": "2024-07-25T13:56:39.221Z"
   },
   {
    "duration": 11387,
    "start_time": "2024-07-25T14:01:44.114Z"
   },
   {
    "duration": 1445,
    "start_time": "2024-07-25T14:01:55.504Z"
   },
   {
    "duration": 4,
    "start_time": "2024-07-25T14:01:56.951Z"
   },
   {
    "duration": 3,
    "start_time": "2024-07-25T14:01:56.957Z"
   },
   {
    "duration": 6,
    "start_time": "2024-07-25T14:01:56.962Z"
   },
   {
    "duration": 13,
    "start_time": "2024-07-25T14:01:56.982Z"
   },
   {
    "duration": 9,
    "start_time": "2024-07-25T14:01:56.997Z"
   },
   {
    "duration": 12,
    "start_time": "2024-07-25T14:01:57.007Z"
   },
   {
    "duration": 61,
    "start_time": "2024-07-25T14:01:57.021Z"
   },
   {
    "duration": 33,
    "start_time": "2024-07-25T14:01:57.084Z"
   },
   {
    "duration": 9,
    "start_time": "2024-07-25T14:01:57.118Z"
   },
   {
    "duration": 14,
    "start_time": "2024-07-25T14:01:57.128Z"
   },
   {
    "duration": 17,
    "start_time": "2024-07-25T14:01:57.144Z"
   },
   {
    "duration": 510,
    "start_time": "2024-07-25T14:01:57.163Z"
   },
   {
    "duration": 1198,
    "start_time": "2024-07-25T14:01:57.675Z"
   },
   {
    "duration": 35,
    "start_time": "2024-07-25T14:01:58.875Z"
   },
   {
    "duration": 4570,
    "start_time": "2024-07-25T14:01:58.912Z"
   },
   {
    "duration": 483722,
    "start_time": "2024-07-25T14:02:03.484Z"
   },
   {
    "duration": 25,
    "start_time": "2024-07-25T14:10:07.285Z"
   },
   {
    "duration": 152,
    "start_time": "2024-07-25T14:10:07.312Z"
   },
   {
    "duration": 0,
    "start_time": "2024-07-25T14:10:07.466Z"
   },
   {
    "duration": 0,
    "start_time": "2024-07-25T14:10:07.467Z"
   },
   {
    "duration": 279,
    "start_time": "2024-07-25T14:21:26.097Z"
   },
   {
    "duration": 10,
    "start_time": "2024-07-25T14:21:39.365Z"
   },
   {
    "duration": 571,
    "start_time": "2024-07-25T14:21:40.469Z"
   },
   {
    "duration": 11107,
    "start_time": "2024-07-25T14:21:53.214Z"
   },
   {
    "duration": 1451,
    "start_time": "2024-07-25T14:22:04.324Z"
   },
   {
    "duration": 3,
    "start_time": "2024-07-25T14:22:05.776Z"
   },
   {
    "duration": 13,
    "start_time": "2024-07-25T14:22:05.781Z"
   },
   {
    "duration": 9,
    "start_time": "2024-07-25T14:22:05.796Z"
   },
   {
    "duration": 37,
    "start_time": "2024-07-25T14:22:05.807Z"
   },
   {
    "duration": 12,
    "start_time": "2024-07-25T14:22:05.846Z"
   },
   {
    "duration": 6,
    "start_time": "2024-07-25T14:22:05.860Z"
   },
   {
    "duration": 67,
    "start_time": "2024-07-25T14:22:05.868Z"
   },
   {
    "duration": 31,
    "start_time": "2024-07-25T14:22:05.937Z"
   },
   {
    "duration": 9,
    "start_time": "2024-07-25T14:22:05.969Z"
   },
   {
    "duration": 16,
    "start_time": "2024-07-25T14:22:05.979Z"
   },
   {
    "duration": 11,
    "start_time": "2024-07-25T14:22:05.996Z"
   },
   {
    "duration": 491,
    "start_time": "2024-07-25T14:22:06.010Z"
   },
   {
    "duration": 1158,
    "start_time": "2024-07-25T14:22:06.503Z"
   },
   {
    "duration": 34,
    "start_time": "2024-07-25T14:22:07.663Z"
   },
   {
    "duration": 4435,
    "start_time": "2024-07-25T14:22:07.699Z"
   },
   {
    "duration": 147956,
    "start_time": "2024-07-25T14:22:12.137Z"
   },
   {
    "duration": 193,
    "start_time": "2024-07-25T14:24:40.096Z"
   },
   {
    "duration": 298,
    "start_time": "2024-07-25T14:24:40.291Z"
   },
   {
    "duration": 9,
    "start_time": "2024-07-25T14:24:40.592Z"
   },
   {
    "duration": 654,
    "start_time": "2024-07-25T14:24:40.602Z"
   },
   {
    "duration": 11664,
    "start_time": "2024-07-25T14:42:24.734Z"
   },
   {
    "duration": 1617,
    "start_time": "2024-07-25T14:42:36.401Z"
   },
   {
    "duration": 3,
    "start_time": "2024-07-25T14:42:38.019Z"
   },
   {
    "duration": 5,
    "start_time": "2024-07-25T14:42:38.024Z"
   },
   {
    "duration": 9,
    "start_time": "2024-07-25T14:42:38.030Z"
   },
   {
    "duration": 22,
    "start_time": "2024-07-25T14:42:38.041Z"
   },
   {
    "duration": 19,
    "start_time": "2024-07-25T14:42:38.064Z"
   },
   {
    "duration": 41,
    "start_time": "2024-07-25T14:42:38.085Z"
   },
   {
    "duration": 70,
    "start_time": "2024-07-25T14:42:38.127Z"
   },
   {
    "duration": 23,
    "start_time": "2024-07-25T14:42:38.201Z"
   },
   {
    "duration": 6,
    "start_time": "2024-07-25T14:42:38.225Z"
   },
   {
    "duration": 9,
    "start_time": "2024-07-25T14:42:38.232Z"
   },
   {
    "duration": 10,
    "start_time": "2024-07-25T14:42:38.243Z"
   },
   {
    "duration": 466,
    "start_time": "2024-07-25T14:42:38.254Z"
   },
   {
    "duration": 888,
    "start_time": "2024-07-25T14:42:38.721Z"
   },
   {
    "duration": 28,
    "start_time": "2024-07-25T14:42:39.610Z"
   },
   {
    "duration": 3329,
    "start_time": "2024-07-25T14:42:39.639Z"
   },
   {
    "duration": 470835,
    "start_time": "2024-07-25T14:42:42.970Z"
   },
   {
    "duration": 103,
    "start_time": "2024-07-25T14:50:33.807Z"
   },
   {
    "duration": 221,
    "start_time": "2024-07-25T14:50:33.911Z"
   },
   {
    "duration": 7,
    "start_time": "2024-07-25T14:50:34.134Z"
   },
   {
    "duration": 505,
    "start_time": "2024-07-25T14:50:34.142Z"
   },
   {
    "duration": 14986,
    "start_time": "2024-07-26T09:20:48.194Z"
   },
   {
    "duration": 1684,
    "start_time": "2024-07-26T09:21:03.183Z"
   },
   {
    "duration": 4,
    "start_time": "2024-07-26T09:21:04.869Z"
   },
   {
    "duration": 16,
    "start_time": "2024-07-26T09:21:04.874Z"
   },
   {
    "duration": 4,
    "start_time": "2024-07-26T09:21:18.581Z"
   },
   {
    "duration": 96,
    "start_time": "2024-07-26T09:21:27.574Z"
   },
   {
    "duration": 31,
    "start_time": "2024-07-26T09:21:54.115Z"
   },
   {
    "duration": 7,
    "start_time": "2024-07-26T10:27:50.512Z"
   },
   {
    "duration": 778,
    "start_time": "2024-07-26T10:28:06.804Z"
   },
   {
    "duration": 5,
    "start_time": "2024-07-26T10:31:50.901Z"
   },
   {
    "duration": 88,
    "start_time": "2024-07-26T10:31:50.908Z"
   },
   {
    "duration": 17,
    "start_time": "2024-07-26T10:31:50.997Z"
   },
   {
    "duration": 4,
    "start_time": "2024-07-26T10:31:51.015Z"
   },
   {
    "duration": 88,
    "start_time": "2024-07-26T10:31:51.021Z"
   },
   {
    "duration": 18,
    "start_time": "2024-07-26T10:31:51.110Z"
   },
   {
    "duration": 4,
    "start_time": "2024-07-26T10:31:51.130Z"
   },
   {
    "duration": 67,
    "start_time": "2024-07-26T10:31:51.136Z"
   },
   {
    "duration": 23,
    "start_time": "2024-07-26T10:31:51.205Z"
   },
   {
    "duration": 9,
    "start_time": "2024-07-26T10:31:51.229Z"
   },
   {
    "duration": 14,
    "start_time": "2024-07-26T10:31:51.239Z"
   },
   {
    "duration": 15,
    "start_time": "2024-07-26T10:31:51.255Z"
   },
   {
    "duration": 424,
    "start_time": "2024-07-26T10:31:51.272Z"
   },
   {
    "duration": 7,
    "start_time": "2024-07-26T10:31:51.699Z"
   },
   {
    "duration": 6,
    "start_time": "2024-07-26T10:32:23.896Z"
   },
   {
    "duration": 1031,
    "start_time": "2024-07-26T10:32:38.922Z"
   },
   {
    "duration": 34,
    "start_time": "2024-07-26T10:32:39.955Z"
   },
   {
    "duration": 3339,
    "start_time": "2024-07-26T10:32:39.990Z"
   },
   {
    "duration": 373748,
    "start_time": "2024-07-26T10:32:43.331Z"
   },
   {
    "duration": 25,
    "start_time": "2024-07-26T10:38:57.080Z"
   },
   {
    "duration": 129,
    "start_time": "2024-07-26T10:38:57.107Z"
   },
   {
    "duration": 0,
    "start_time": "2024-07-26T10:38:57.237Z"
   },
   {
    "duration": 0,
    "start_time": "2024-07-26T10:38:57.238Z"
   },
   {
    "duration": 7,
    "start_time": "2024-07-26T10:53:19.616Z"
   },
   {
    "duration": 6,
    "start_time": "2024-07-26T10:53:28.438Z"
   },
   {
    "duration": 591,
    "start_time": "2024-07-26T10:53:28.832Z"
   },
   {
    "duration": 5,
    "start_time": "2024-07-26T10:54:27.978Z"
   },
   {
    "duration": 503,
    "start_time": "2024-07-26T10:54:28.325Z"
   },
   {
    "duration": 8,
    "start_time": "2024-07-26T10:54:49.379Z"
   },
   {
    "duration": 508,
    "start_time": "2024-07-26T10:54:49.903Z"
   },
   {
    "duration": 5,
    "start_time": "2024-07-26T10:55:14.806Z"
   },
   {
    "duration": 463,
    "start_time": "2024-07-26T10:55:15.124Z"
   },
   {
    "duration": 6,
    "start_time": "2024-07-26T10:56:41.807Z"
   },
   {
    "duration": 467,
    "start_time": "2024-07-26T10:56:42.119Z"
   },
   {
    "duration": 5,
    "start_time": "2024-07-26T10:58:33.253Z"
   },
   {
    "duration": 524,
    "start_time": "2024-07-26T10:58:38.688Z"
   },
   {
    "duration": 5,
    "start_time": "2024-07-26T10:58:53.887Z"
   },
   {
    "duration": 577,
    "start_time": "2024-07-26T10:58:55.236Z"
   },
   {
    "duration": 9,
    "start_time": "2024-07-26T10:59:16.578Z"
   },
   {
    "duration": 486,
    "start_time": "2024-07-26T10:59:22.507Z"
   },
   {
    "duration": 964,
    "start_time": "2024-07-26T12:54:08.746Z"
   },
   {
    "duration": 9,
    "start_time": "2024-07-26T12:54:29.381Z"
   },
   {
    "duration": 23,
    "start_time": "2024-07-26T12:54:29.392Z"
   },
   {
    "duration": 3,
    "start_time": "2024-07-26T12:54:29.417Z"
   },
   {
    "duration": 7,
    "start_time": "2024-07-26T12:54:29.422Z"
   },
   {
    "duration": 9,
    "start_time": "2024-07-26T12:54:29.431Z"
   },
   {
    "duration": 11,
    "start_time": "2024-07-26T12:54:29.442Z"
   },
   {
    "duration": 5,
    "start_time": "2024-07-26T12:54:29.456Z"
   },
   {
    "duration": 55,
    "start_time": "2024-07-26T12:54:29.463Z"
   },
   {
    "duration": 35,
    "start_time": "2024-07-26T12:54:29.520Z"
   },
   {
    "duration": 13,
    "start_time": "2024-07-26T12:54:29.558Z"
   },
   {
    "duration": 4,
    "start_time": "2024-07-26T12:54:29.573Z"
   },
   {
    "duration": 13,
    "start_time": "2024-07-26T12:54:29.579Z"
   },
   {
    "duration": 571,
    "start_time": "2024-07-26T12:54:29.595Z"
   },
   {
    "duration": 1052,
    "start_time": "2024-07-26T12:54:39.264Z"
   },
   {
    "duration": 283,
    "start_time": "2024-07-26T12:55:55.850Z"
   },
   {
    "duration": 436,
    "start_time": "2024-07-26T12:56:22.591Z"
   },
   {
    "duration": 346,
    "start_time": "2024-07-26T12:57:36.456Z"
   },
   {
    "duration": 1021,
    "start_time": "2024-07-26T12:59:11.396Z"
   },
   {
    "duration": 1080,
    "start_time": "2024-07-26T12:59:24.141Z"
   },
   {
    "duration": 833,
    "start_time": "2024-07-26T12:59:40.273Z"
   },
   {
    "duration": 861,
    "start_time": "2024-07-26T12:59:50.794Z"
   },
   {
    "duration": 973,
    "start_time": "2024-07-26T13:00:16.023Z"
   },
   {
    "duration": 914,
    "start_time": "2024-07-26T13:01:10.548Z"
   },
   {
    "duration": 827,
    "start_time": "2024-07-26T13:01:18.755Z"
   },
   {
    "duration": 849,
    "start_time": "2024-07-26T13:02:23.312Z"
   },
   {
    "duration": 30,
    "start_time": "2024-07-26T13:03:40.031Z"
   },
   {
    "duration": 2512,
    "start_time": "2024-07-26T13:05:07.662Z"
   },
   {
    "duration": 2159,
    "start_time": "2024-07-26T13:06:10.750Z"
   },
   {
    "duration": 32,
    "start_time": "2024-07-26T13:09:46.354Z"
   },
   {
    "duration": 21,
    "start_time": "2024-07-26T13:10:17.050Z"
   },
   {
    "duration": 1006,
    "start_time": "2024-07-26T13:10:46.961Z"
   },
   {
    "duration": 974,
    "start_time": "2024-07-26T13:11:21.779Z"
   },
   {
    "duration": 1043,
    "start_time": "2024-07-26T13:11:48.828Z"
   },
   {
    "duration": 103,
    "start_time": "2024-07-26T13:17:10.488Z"
   },
   {
    "duration": 865,
    "start_time": "2024-07-26T13:17:15.607Z"
   },
   {
    "duration": 819,
    "start_time": "2024-07-26T13:17:31.785Z"
   },
   {
    "duration": 35,
    "start_time": "2024-07-26T13:19:16.840Z"
   },
   {
    "duration": 772,
    "start_time": "2024-07-26T13:19:31.824Z"
   },
   {
    "duration": 805,
    "start_time": "2024-07-26T13:20:02.402Z"
   },
   {
    "duration": 18,
    "start_time": "2024-07-26T13:26:06.983Z"
   },
   {
    "duration": 20,
    "start_time": "2024-07-26T13:42:15.673Z"
   },
   {
    "duration": 13,
    "start_time": "2024-07-26T13:42:41.297Z"
   },
   {
    "duration": 8,
    "start_time": "2024-07-26T13:42:55.527Z"
   },
   {
    "duration": 10,
    "start_time": "2024-07-26T13:42:55.537Z"
   },
   {
    "duration": 15,
    "start_time": "2024-07-26T13:42:55.549Z"
   },
   {
    "duration": 10,
    "start_time": "2024-07-26T13:42:55.566Z"
   },
   {
    "duration": 6,
    "start_time": "2024-07-26T13:42:55.578Z"
   },
   {
    "duration": 15,
    "start_time": "2024-07-26T13:42:55.586Z"
   },
   {
    "duration": 46,
    "start_time": "2024-07-26T13:42:55.603Z"
   },
   {
    "duration": 62,
    "start_time": "2024-07-26T13:42:55.651Z"
   },
   {
    "duration": 25,
    "start_time": "2024-07-26T13:42:55.714Z"
   },
   {
    "duration": 25,
    "start_time": "2024-07-26T13:42:55.741Z"
   },
   {
    "duration": 16,
    "start_time": "2024-07-26T13:42:55.768Z"
   },
   {
    "duration": 57,
    "start_time": "2024-07-26T13:42:55.786Z"
   },
   {
    "duration": 488,
    "start_time": "2024-07-26T13:42:55.845Z"
   },
   {
    "duration": 1007,
    "start_time": "2024-07-26T13:42:56.335Z"
   },
   {
    "duration": 1143,
    "start_time": "2024-07-26T13:43:00.152Z"
   },
   {
    "duration": 1151,
    "start_time": "2024-07-26T13:43:13.477Z"
   },
   {
    "duration": 8,
    "start_time": "2024-07-26T13:52:53.837Z"
   },
   {
    "duration": 14,
    "start_time": "2024-07-26T13:53:01.688Z"
   },
   {
    "duration": 1207,
    "start_time": "2024-07-26T13:55:51.178Z"
   },
   {
    "duration": 391,
    "start_time": "2024-07-26T13:56:07.375Z"
   },
   {
    "duration": 390,
    "start_time": "2024-07-26T13:56:13.025Z"
   },
   {
    "duration": 269,
    "start_time": "2024-07-26T13:56:58.143Z"
   },
   {
    "duration": 254,
    "start_time": "2024-07-26T13:57:10.258Z"
   },
   {
    "duration": 341,
    "start_time": "2024-07-26T13:57:28.444Z"
   },
   {
    "duration": 246,
    "start_time": "2024-07-26T13:57:39.956Z"
   },
   {
    "duration": 273,
    "start_time": "2024-07-26T13:57:54.668Z"
   },
   {
    "duration": 258,
    "start_time": "2024-07-26T13:58:14.799Z"
   },
   {
    "duration": 272,
    "start_time": "2024-07-26T14:00:41.415Z"
   },
   {
    "duration": 251,
    "start_time": "2024-07-26T14:00:57.834Z"
   },
   {
    "duration": 19,
    "start_time": "2024-07-26T14:12:55.963Z"
   },
   {
    "duration": 32,
    "start_time": "2024-07-26T14:47:06.742Z"
   },
   {
    "duration": 76,
    "start_time": "2024-07-26T14:51:25.894Z"
   },
   {
    "duration": 21,
    "start_time": "2024-07-26T14:51:26.397Z"
   },
   {
    "duration": 4,
    "start_time": "2024-07-26T14:51:36.493Z"
   },
   {
    "duration": 34,
    "start_time": "2024-07-26T14:51:37.536Z"
   },
   {
    "duration": 6,
    "start_time": "2024-07-26T14:55:49.175Z"
   },
   {
    "duration": 24,
    "start_time": "2024-07-26T14:55:49.183Z"
   },
   {
    "duration": 12,
    "start_time": "2024-07-26T14:55:49.209Z"
   },
   {
    "duration": 10,
    "start_time": "2024-07-26T14:55:49.223Z"
   },
   {
    "duration": 9,
    "start_time": "2024-07-26T14:55:49.235Z"
   },
   {
    "duration": 9,
    "start_time": "2024-07-26T14:55:49.245Z"
   },
   {
    "duration": 11,
    "start_time": "2024-07-26T14:55:49.255Z"
   },
   {
    "duration": 57,
    "start_time": "2024-07-26T14:55:49.268Z"
   },
   {
    "duration": 24,
    "start_time": "2024-07-26T14:55:49.326Z"
   },
   {
    "duration": 7,
    "start_time": "2024-07-26T14:55:49.351Z"
   },
   {
    "duration": 5,
    "start_time": "2024-07-26T14:55:49.360Z"
   },
   {
    "duration": 28,
    "start_time": "2024-07-26T14:55:49.366Z"
   },
   {
    "duration": 600,
    "start_time": "2024-07-26T14:55:49.396Z"
   },
   {
    "duration": 742,
    "start_time": "2024-07-26T14:55:49.999Z"
   },
   {
    "duration": 1037,
    "start_time": "2024-07-26T14:55:50.743Z"
   },
   {
    "duration": 249,
    "start_time": "2024-07-26T14:55:51.782Z"
   },
   {
    "duration": 4,
    "start_time": "2024-07-26T14:55:52.032Z"
   },
   {
    "duration": 86,
    "start_time": "2024-07-26T14:55:52.038Z"
   },
   {
    "duration": 3469,
    "start_time": "2024-07-26T14:57:33.195Z"
   },
   {
    "duration": 15,
    "start_time": "2024-07-26T15:12:42.152Z"
   },
   {
    "duration": 887,
    "start_time": "2024-07-26T15:12:49.761Z"
   },
   {
    "duration": 6,
    "start_time": "2024-07-26T15:13:21.736Z"
   },
   {
    "duration": 683,
    "start_time": "2024-07-26T15:13:51.320Z"
   },
   {
    "duration": 688,
    "start_time": "2024-07-26T15:14:02.798Z"
   },
   {
    "duration": 703,
    "start_time": "2024-07-26T15:14:17.195Z"
   },
   {
    "duration": 804,
    "start_time": "2024-07-26T15:14:34.744Z"
   },
   {
    "duration": 697,
    "start_time": "2024-07-26T15:15:09.033Z"
   },
   {
    "duration": 805,
    "start_time": "2024-07-26T15:15:49.121Z"
   },
   {
    "duration": 901,
    "start_time": "2024-07-26T15:16:11.233Z"
   },
   {
    "duration": 870,
    "start_time": "2024-07-26T15:16:33.945Z"
   },
   {
    "duration": 919,
    "start_time": "2024-07-26T15:16:40.392Z"
   },
   {
    "duration": 846,
    "start_time": "2024-07-26T15:17:38.180Z"
   },
   {
    "duration": 745,
    "start_time": "2024-07-26T15:18:07.064Z"
   },
   {
    "duration": 759,
    "start_time": "2024-07-26T15:18:18.857Z"
   },
   {
    "duration": 701,
    "start_time": "2024-07-26T15:18:47.957Z"
   },
   {
    "duration": 1675,
    "start_time": "2024-07-26T15:20:15.845Z"
   },
   {
    "duration": 6,
    "start_time": "2024-07-26T15:40:17.998Z"
   },
   {
    "duration": 1749,
    "start_time": "2024-07-26T15:41:59.023Z"
   },
   {
    "duration": 1659,
    "start_time": "2024-07-26T15:43:07.300Z"
   },
   {
    "duration": 1793,
    "start_time": "2024-07-26T15:43:24.832Z"
   },
   {
    "duration": 1522,
    "start_time": "2024-07-26T15:43:35.997Z"
   },
   {
    "duration": 1638,
    "start_time": "2024-07-26T15:44:10.154Z"
   },
   {
    "duration": 1594,
    "start_time": "2024-07-26T15:45:03.113Z"
   },
   {
    "duration": 1640,
    "start_time": "2024-07-26T15:45:20.482Z"
   },
   {
    "duration": 1878,
    "start_time": "2024-07-26T15:50:36.076Z"
   },
   {
    "duration": 1557,
    "start_time": "2024-07-26T15:52:01.087Z"
   },
   {
    "duration": 2310,
    "start_time": "2024-07-26T15:52:20.489Z"
   },
   {
    "duration": 1724,
    "start_time": "2024-07-26T15:52:35.321Z"
   },
   {
    "duration": 1596,
    "start_time": "2024-07-26T15:53:09.447Z"
   },
   {
    "duration": 357,
    "start_time": "2024-07-26T16:54:51.728Z"
   },
   {
    "duration": 1795,
    "start_time": "2024-07-26T16:55:01.805Z"
   },
   {
    "duration": 3817,
    "start_time": "2024-07-26T17:09:46.483Z"
   },
   {
    "duration": 3925,
    "start_time": "2024-07-26T17:10:06.341Z"
   },
   {
    "duration": 1429,
    "start_time": "2024-07-26T17:10:20.641Z"
   },
   {
    "duration": 1960,
    "start_time": "2024-07-26T17:10:35.892Z"
   },
   {
    "duration": 2107,
    "start_time": "2024-07-26T17:11:03.652Z"
   },
   {
    "duration": 2712,
    "start_time": "2024-07-26T17:11:21.732Z"
   },
   {
    "duration": 4724,
    "start_time": "2024-07-26T17:15:17.403Z"
   },
   {
    "duration": 2810,
    "start_time": "2024-07-26T17:15:55.987Z"
   },
   {
    "duration": 2645,
    "start_time": "2024-07-26T17:36:14.399Z"
   },
   {
    "duration": 6,
    "start_time": "2024-07-26T17:43:46.093Z"
   },
   {
    "duration": 23,
    "start_time": "2024-07-26T17:43:46.101Z"
   },
   {
    "duration": 8,
    "start_time": "2024-07-26T17:43:46.126Z"
   },
   {
    "duration": 4,
    "start_time": "2024-07-26T17:43:46.135Z"
   },
   {
    "duration": 6,
    "start_time": "2024-07-26T17:43:46.196Z"
   },
   {
    "duration": 12,
    "start_time": "2024-07-26T17:43:46.204Z"
   },
   {
    "duration": 16,
    "start_time": "2024-07-26T17:43:46.218Z"
   },
   {
    "duration": 50,
    "start_time": "2024-07-26T17:43:46.236Z"
   },
   {
    "duration": 27,
    "start_time": "2024-07-26T17:43:46.288Z"
   },
   {
    "duration": 7,
    "start_time": "2024-07-26T17:43:46.317Z"
   },
   {
    "duration": 6,
    "start_time": "2024-07-26T17:43:46.326Z"
   },
   {
    "duration": 16,
    "start_time": "2024-07-26T17:43:46.333Z"
   },
   {
    "duration": 444,
    "start_time": "2024-07-26T17:43:46.350Z"
   },
   {
    "duration": 885,
    "start_time": "2024-07-26T17:43:46.796Z"
   },
   {
    "duration": 1063,
    "start_time": "2024-07-26T17:43:47.684Z"
   },
   {
    "duration": 292,
    "start_time": "2024-07-26T17:43:48.749Z"
   },
   {
    "duration": 2890,
    "start_time": "2024-07-26T17:43:49.043Z"
   },
   {
    "duration": 29,
    "start_time": "2024-07-26T17:43:51.935Z"
   },
   {
    "duration": 2197,
    "start_time": "2024-07-26T17:43:51.966Z"
   },
   {
    "duration": 2223,
    "start_time": "2024-07-26T17:45:48.985Z"
   },
   {
    "duration": 3206,
    "start_time": "2024-07-26T17:47:49.641Z"
   },
   {
    "duration": 6,
    "start_time": "2024-07-26T17:51:47.485Z"
   },
   {
    "duration": 14,
    "start_time": "2024-07-26T17:51:47.493Z"
   },
   {
    "duration": 15,
    "start_time": "2024-07-26T17:51:47.509Z"
   },
   {
    "duration": 13,
    "start_time": "2024-07-26T17:51:47.526Z"
   },
   {
    "duration": 162,
    "start_time": "2024-07-26T17:51:47.541Z"
   },
   {
    "duration": 14,
    "start_time": "2024-07-26T17:51:47.705Z"
   },
   {
    "duration": 10,
    "start_time": "2024-07-26T17:51:47.721Z"
   },
   {
    "duration": 60,
    "start_time": "2024-07-26T17:51:47.733Z"
   },
   {
    "duration": 24,
    "start_time": "2024-07-26T17:51:47.795Z"
   },
   {
    "duration": 8,
    "start_time": "2024-07-26T17:51:47.821Z"
   },
   {
    "duration": 8,
    "start_time": "2024-07-26T17:51:47.831Z"
   },
   {
    "duration": 16,
    "start_time": "2024-07-26T17:51:47.840Z"
   },
   {
    "duration": 431,
    "start_time": "2024-07-26T17:51:47.857Z"
   },
   {
    "duration": 757,
    "start_time": "2024-07-26T17:51:48.289Z"
   },
   {
    "duration": 1011,
    "start_time": "2024-07-26T17:51:49.048Z"
   },
   {
    "duration": 250,
    "start_time": "2024-07-26T17:51:50.060Z"
   },
   {
    "duration": 3761,
    "start_time": "2024-07-26T17:51:50.312Z"
   },
   {
    "duration": 29,
    "start_time": "2024-07-26T17:51:54.075Z"
   },
   {
    "duration": 2520,
    "start_time": "2024-07-26T17:51:54.106Z"
   },
   {
    "duration": 6,
    "start_time": "2024-07-26T18:05:59.908Z"
   },
   {
    "duration": 18,
    "start_time": "2024-07-26T18:05:59.916Z"
   },
   {
    "duration": 8,
    "start_time": "2024-07-26T18:05:59.935Z"
   },
   {
    "duration": 9,
    "start_time": "2024-07-26T18:05:59.945Z"
   },
   {
    "duration": 12,
    "start_time": "2024-07-26T18:05:59.956Z"
   },
   {
    "duration": 13,
    "start_time": "2024-07-26T18:05:59.969Z"
   },
   {
    "duration": 5,
    "start_time": "2024-07-26T18:05:59.983Z"
   },
   {
    "duration": 49,
    "start_time": "2024-07-26T18:05:59.989Z"
   },
   {
    "duration": 24,
    "start_time": "2024-07-26T18:06:00.039Z"
   },
   {
    "duration": 37,
    "start_time": "2024-07-26T18:06:00.066Z"
   },
   {
    "duration": 47,
    "start_time": "2024-07-26T18:06:00.104Z"
   },
   {
    "duration": 91,
    "start_time": "2024-07-26T18:06:00.153Z"
   },
   {
    "duration": 507,
    "start_time": "2024-07-26T18:06:00.246Z"
   },
   {
    "duration": 760,
    "start_time": "2024-07-26T18:06:00.755Z"
   },
   {
    "duration": 1173,
    "start_time": "2024-07-26T18:06:01.517Z"
   },
   {
    "duration": 278,
    "start_time": "2024-07-26T18:06:02.693Z"
   },
   {
    "duration": 11904,
    "start_time": "2024-07-26T18:06:02.973Z"
   },
   {
    "duration": 27,
    "start_time": "2024-07-26T18:06:14.879Z"
   },
   {
    "duration": 2614,
    "start_time": "2024-07-26T18:06:14.907Z"
   },
   {
    "duration": 120035,
    "start_time": "2024-07-26T18:06:17.523Z"
   },
   {
    "duration": 188,
    "start_time": "2024-07-26T18:08:17.560Z"
   },
   {
    "duration": 232,
    "start_time": "2024-07-26T18:08:17.750Z"
   },
   {
    "duration": 8,
    "start_time": "2024-07-26T18:08:17.983Z"
   },
   {
    "duration": 345,
    "start_time": "2024-07-26T18:08:17.992Z"
   },
   {
    "duration": 1512,
    "start_time": "2024-07-26T18:28:03.558Z"
   },
   {
    "duration": 3,
    "start_time": "2024-07-26T18:28:05.072Z"
   },
   {
    "duration": 6,
    "start_time": "2024-07-26T18:28:05.076Z"
   },
   {
    "duration": 3,
    "start_time": "2024-07-26T18:28:05.084Z"
   },
   {
    "duration": 5,
    "start_time": "2024-07-26T18:28:05.089Z"
   },
   {
    "duration": 6,
    "start_time": "2024-07-26T18:28:05.095Z"
   },
   {
    "duration": 7,
    "start_time": "2024-07-26T18:28:05.103Z"
   },
   {
    "duration": 60,
    "start_time": "2024-07-26T18:28:05.111Z"
   },
   {
    "duration": 30,
    "start_time": "2024-07-26T18:28:05.173Z"
   },
   {
    "duration": 9,
    "start_time": "2024-07-26T18:28:05.205Z"
   },
   {
    "duration": 4,
    "start_time": "2024-07-26T18:28:05.215Z"
   },
   {
    "duration": 9,
    "start_time": "2024-07-26T18:28:05.246Z"
   },
   {
    "duration": 531,
    "start_time": "2024-07-26T18:28:05.257Z"
   },
   {
    "duration": 831,
    "start_time": "2024-07-26T18:28:05.790Z"
   },
   {
    "duration": 1063,
    "start_time": "2024-07-26T18:28:06.623Z"
   },
   {
    "duration": 254,
    "start_time": "2024-07-26T18:28:07.687Z"
   },
   {
    "duration": 3205,
    "start_time": "2024-07-26T18:28:07.943Z"
   },
   {
    "duration": 29,
    "start_time": "2024-07-26T18:28:11.150Z"
   },
   {
    "duration": 3092,
    "start_time": "2024-07-26T18:28:11.181Z"
   },
   {
    "duration": 2094,
    "start_time": "2024-07-26T18:28:14.275Z"
   },
   {
    "duration": 11,
    "start_time": "2024-07-26T18:28:16.371Z"
   },
   {
    "duration": 0,
    "start_time": "2024-07-26T18:28:16.383Z"
   },
   {
    "duration": 0,
    "start_time": "2024-07-26T18:28:16.385Z"
   },
   {
    "duration": 0,
    "start_time": "2024-07-26T18:28:16.386Z"
   },
   {
    "duration": 10789,
    "start_time": "2024-07-26T18:28:37.264Z"
   },
   {
    "duration": 1452,
    "start_time": "2024-07-26T18:28:48.055Z"
   },
   {
    "duration": 4,
    "start_time": "2024-07-26T18:28:49.508Z"
   },
   {
    "duration": 14,
    "start_time": "2024-07-26T18:28:49.513Z"
   },
   {
    "duration": 6,
    "start_time": "2024-07-26T18:28:49.529Z"
   },
   {
    "duration": 6,
    "start_time": "2024-07-26T18:28:49.537Z"
   },
   {
    "duration": 12,
    "start_time": "2024-07-26T18:28:49.544Z"
   },
   {
    "duration": 7,
    "start_time": "2024-07-26T18:28:49.558Z"
   },
   {
    "duration": 53,
    "start_time": "2024-07-26T18:28:49.567Z"
   },
   {
    "duration": 27,
    "start_time": "2024-07-26T18:28:49.622Z"
   },
   {
    "duration": 16,
    "start_time": "2024-07-26T18:28:49.651Z"
   },
   {
    "duration": 22,
    "start_time": "2024-07-26T18:28:49.668Z"
   },
   {
    "duration": 13,
    "start_time": "2024-07-26T18:28:49.692Z"
   },
   {
    "duration": 462,
    "start_time": "2024-07-26T18:28:49.708Z"
   },
   {
    "duration": 933,
    "start_time": "2024-07-26T18:28:50.172Z"
   },
   {
    "duration": 1052,
    "start_time": "2024-07-26T18:28:51.107Z"
   },
   {
    "duration": 274,
    "start_time": "2024-07-26T18:28:52.161Z"
   },
   {
    "duration": 3393,
    "start_time": "2024-07-26T18:28:52.438Z"
   },
   {
    "duration": 38,
    "start_time": "2024-07-26T18:28:55.833Z"
   },
   {
    "duration": 2560,
    "start_time": "2024-07-26T18:28:55.873Z"
   },
   {
    "duration": 122421,
    "start_time": "2024-07-26T18:28:58.434Z"
   },
   {
    "duration": 24,
    "start_time": "2024-07-26T18:31:00.946Z"
   },
   {
    "duration": 368,
    "start_time": "2024-07-26T18:31:00.971Z"
   },
   {
    "duration": 11,
    "start_time": "2024-07-26T18:31:01.346Z"
   },
   {
    "duration": 400,
    "start_time": "2024-07-26T18:31:01.358Z"
   },
   {
    "duration": 1692,
    "start_time": "2024-07-29T13:14:05.508Z"
   },
   {
    "duration": 0,
    "start_time": "2024-07-29T13:14:07.202Z"
   },
   {
    "duration": 0,
    "start_time": "2024-07-29T13:14:07.204Z"
   },
   {
    "duration": 0,
    "start_time": "2024-07-29T13:14:07.205Z"
   },
   {
    "duration": 0,
    "start_time": "2024-07-29T13:14:07.206Z"
   },
   {
    "duration": 0,
    "start_time": "2024-07-29T13:14:07.207Z"
   },
   {
    "duration": 0,
    "start_time": "2024-07-29T13:14:07.208Z"
   },
   {
    "duration": 0,
    "start_time": "2024-07-29T13:14:07.209Z"
   },
   {
    "duration": 0,
    "start_time": "2024-07-29T13:14:07.210Z"
   },
   {
    "duration": 0,
    "start_time": "2024-07-29T13:14:07.211Z"
   },
   {
    "duration": 0,
    "start_time": "2024-07-29T13:14:07.212Z"
   },
   {
    "duration": 0,
    "start_time": "2024-07-29T13:14:07.213Z"
   },
   {
    "duration": 0,
    "start_time": "2024-07-29T13:14:07.214Z"
   },
   {
    "duration": 0,
    "start_time": "2024-07-29T13:14:07.214Z"
   },
   {
    "duration": 0,
    "start_time": "2024-07-29T13:14:07.215Z"
   },
   {
    "duration": 0,
    "start_time": "2024-07-29T13:14:07.216Z"
   },
   {
    "duration": 0,
    "start_time": "2024-07-29T13:14:07.217Z"
   },
   {
    "duration": 0,
    "start_time": "2024-07-29T13:14:07.218Z"
   },
   {
    "duration": 0,
    "start_time": "2024-07-29T13:14:07.219Z"
   },
   {
    "duration": 0,
    "start_time": "2024-07-29T13:14:07.220Z"
   },
   {
    "duration": 0,
    "start_time": "2024-07-29T13:14:07.222Z"
   },
   {
    "duration": 0,
    "start_time": "2024-07-29T13:14:07.223Z"
   },
   {
    "duration": 0,
    "start_time": "2024-07-29T13:14:07.224Z"
   },
   {
    "duration": 0,
    "start_time": "2024-07-29T13:14:07.261Z"
   },
   {
    "duration": 0,
    "start_time": "2024-07-29T13:14:07.262Z"
   },
   {
    "duration": 0,
    "start_time": "2024-07-29T13:14:07.263Z"
   },
   {
    "duration": 14272,
    "start_time": "2024-07-29T13:15:04.799Z"
   },
   {
    "duration": 133,
    "start_time": "2024-07-29T13:15:19.073Z"
   },
   {
    "duration": 0,
    "start_time": "2024-07-29T13:15:19.208Z"
   },
   {
    "duration": 0,
    "start_time": "2024-07-29T13:15:19.209Z"
   },
   {
    "duration": 0,
    "start_time": "2024-07-29T13:15:19.211Z"
   },
   {
    "duration": 0,
    "start_time": "2024-07-29T13:15:19.212Z"
   },
   {
    "duration": 1,
    "start_time": "2024-07-29T13:15:19.212Z"
   },
   {
    "duration": 0,
    "start_time": "2024-07-29T13:15:19.214Z"
   },
   {
    "duration": 0,
    "start_time": "2024-07-29T13:15:19.215Z"
   },
   {
    "duration": 0,
    "start_time": "2024-07-29T13:15:19.216Z"
   },
   {
    "duration": 0,
    "start_time": "2024-07-29T13:15:19.217Z"
   },
   {
    "duration": 0,
    "start_time": "2024-07-29T13:15:19.218Z"
   },
   {
    "duration": 0,
    "start_time": "2024-07-29T13:15:19.219Z"
   },
   {
    "duration": 0,
    "start_time": "2024-07-29T13:15:19.220Z"
   },
   {
    "duration": 0,
    "start_time": "2024-07-29T13:15:19.221Z"
   },
   {
    "duration": 0,
    "start_time": "2024-07-29T13:15:19.222Z"
   },
   {
    "duration": 0,
    "start_time": "2024-07-29T13:15:19.223Z"
   },
   {
    "duration": 0,
    "start_time": "2024-07-29T13:15:19.223Z"
   },
   {
    "duration": 0,
    "start_time": "2024-07-29T13:15:19.224Z"
   },
   {
    "duration": 0,
    "start_time": "2024-07-29T13:15:19.225Z"
   },
   {
    "duration": 0,
    "start_time": "2024-07-29T13:15:19.226Z"
   },
   {
    "duration": 0,
    "start_time": "2024-07-29T13:15:19.227Z"
   },
   {
    "duration": 0,
    "start_time": "2024-07-29T13:15:19.228Z"
   },
   {
    "duration": 0,
    "start_time": "2024-07-29T13:15:19.261Z"
   },
   {
    "duration": 0,
    "start_time": "2024-07-29T13:15:19.262Z"
   },
   {
    "duration": 0,
    "start_time": "2024-07-29T13:15:19.263Z"
   },
   {
    "duration": 0,
    "start_time": "2024-07-29T13:15:19.265Z"
   },
   {
    "duration": 10135,
    "start_time": "2024-07-29T13:15:44.948Z"
   },
   {
    "duration": 1428,
    "start_time": "2024-07-29T13:15:55.086Z"
   },
   {
    "duration": 4,
    "start_time": "2024-07-29T13:15:56.516Z"
   },
   {
    "duration": 36,
    "start_time": "2024-07-29T13:15:56.522Z"
   },
   {
    "duration": 20,
    "start_time": "2024-07-29T13:15:56.560Z"
   },
   {
    "duration": 21,
    "start_time": "2024-07-29T13:15:56.581Z"
   },
   {
    "duration": 25,
    "start_time": "2024-07-29T13:15:56.604Z"
   },
   {
    "duration": 13,
    "start_time": "2024-07-29T13:15:56.630Z"
   },
   {
    "duration": 426,
    "start_time": "2024-07-29T13:15:56.644Z"
   },
   {
    "duration": 0,
    "start_time": "2024-07-29T13:15:57.073Z"
   },
   {
    "duration": 0,
    "start_time": "2024-07-29T13:15:57.074Z"
   },
   {
    "duration": 0,
    "start_time": "2024-07-29T13:15:57.076Z"
   },
   {
    "duration": 0,
    "start_time": "2024-07-29T13:15:57.077Z"
   },
   {
    "duration": 0,
    "start_time": "2024-07-29T13:15:57.078Z"
   },
   {
    "duration": 0,
    "start_time": "2024-07-29T13:15:57.079Z"
   },
   {
    "duration": 0,
    "start_time": "2024-07-29T13:15:57.080Z"
   },
   {
    "duration": 0,
    "start_time": "2024-07-29T13:15:57.082Z"
   },
   {
    "duration": 0,
    "start_time": "2024-07-29T13:15:57.083Z"
   },
   {
    "duration": 0,
    "start_time": "2024-07-29T13:15:57.085Z"
   },
   {
    "duration": 0,
    "start_time": "2024-07-29T13:15:57.086Z"
   },
   {
    "duration": 0,
    "start_time": "2024-07-29T13:15:57.087Z"
   },
   {
    "duration": 0,
    "start_time": "2024-07-29T13:15:57.088Z"
   },
   {
    "duration": 0,
    "start_time": "2024-07-29T13:15:57.089Z"
   },
   {
    "duration": 0,
    "start_time": "2024-07-29T13:15:57.090Z"
   },
   {
    "duration": 0,
    "start_time": "2024-07-29T13:15:57.092Z"
   },
   {
    "duration": 0,
    "start_time": "2024-07-29T13:15:57.093Z"
   },
   {
    "duration": 0,
    "start_time": "2024-07-29T13:15:57.094Z"
   },
   {
    "duration": 65,
    "start_time": "2024-07-29T13:16:14.455Z"
   },
   {
    "duration": 99,
    "start_time": "2024-07-29T13:16:40.174Z"
   },
   {
    "duration": 11420,
    "start_time": "2024-07-29T13:17:11.229Z"
   },
   {
    "duration": 5,
    "start_time": "2024-07-29T13:17:22.652Z"
   },
   {
    "duration": 52,
    "start_time": "2024-07-29T13:17:22.659Z"
   },
   {
    "duration": 12,
    "start_time": "2024-07-29T13:17:22.713Z"
   },
   {
    "duration": 17,
    "start_time": "2024-07-29T13:17:22.727Z"
   },
   {
    "duration": 20,
    "start_time": "2024-07-29T13:17:22.746Z"
   },
   {
    "duration": 9,
    "start_time": "2024-07-29T13:17:22.768Z"
   },
   {
    "duration": 14,
    "start_time": "2024-07-29T13:17:22.779Z"
   },
   {
    "duration": 68,
    "start_time": "2024-07-29T13:17:22.795Z"
   },
   {
    "duration": 30,
    "start_time": "2024-07-29T13:17:22.866Z"
   },
   {
    "duration": 7,
    "start_time": "2024-07-29T13:17:22.898Z"
   },
   {
    "duration": 19,
    "start_time": "2024-07-29T13:17:22.906Z"
   },
   {
    "duration": 22,
    "start_time": "2024-07-29T13:17:22.926Z"
   },
   {
    "duration": 597,
    "start_time": "2024-07-29T13:17:22.950Z"
   },
   {
    "duration": 781,
    "start_time": "2024-07-29T13:17:23.549Z"
   },
   {
    "duration": 954,
    "start_time": "2024-07-29T13:17:24.332Z"
   },
   {
    "duration": 251,
    "start_time": "2024-07-29T13:17:25.288Z"
   },
   {
    "duration": 1921,
    "start_time": "2024-07-29T13:17:25.541Z"
   },
   {
    "duration": 3401,
    "start_time": "2024-07-29T13:17:27.464Z"
   },
   {
    "duration": 41,
    "start_time": "2024-07-29T13:17:30.867Z"
   },
   {
    "duration": 2447,
    "start_time": "2024-07-29T13:17:30.909Z"
   },
   {
    "duration": 110408,
    "start_time": "2024-07-29T13:17:33.360Z"
   },
   {
    "duration": 104,
    "start_time": "2024-07-29T13:19:23.770Z"
   },
   {
    "duration": 261,
    "start_time": "2024-07-29T13:19:23.875Z"
   },
   {
    "duration": 8,
    "start_time": "2024-07-29T13:19:24.138Z"
   },
   {
    "duration": 21,
    "start_time": "2024-07-29T13:19:24.148Z"
   },
   {
    "duration": 423,
    "start_time": "2024-07-29T13:19:24.170Z"
   },
   {
    "duration": 10322,
    "start_time": "2024-07-29T13:21:46.136Z"
   },
   {
    "duration": 1448,
    "start_time": "2024-07-29T13:21:56.461Z"
   },
   {
    "duration": 3,
    "start_time": "2024-07-29T13:21:57.910Z"
   },
   {
    "duration": 19,
    "start_time": "2024-07-29T13:21:57.915Z"
   },
   {
    "duration": 9,
    "start_time": "2024-07-29T13:21:57.936Z"
   },
   {
    "duration": 7,
    "start_time": "2024-07-29T13:21:57.947Z"
   },
   {
    "duration": 11,
    "start_time": "2024-07-29T13:21:57.955Z"
   },
   {
    "duration": 5,
    "start_time": "2024-07-29T13:21:57.968Z"
   },
   {
    "duration": 51,
    "start_time": "2024-07-29T13:21:57.975Z"
   },
   {
    "duration": 28,
    "start_time": "2024-07-29T13:21:58.029Z"
   },
   {
    "duration": 9,
    "start_time": "2024-07-29T13:21:58.058Z"
   },
   {
    "duration": 16,
    "start_time": "2024-07-29T13:21:58.068Z"
   },
   {
    "duration": 16,
    "start_time": "2024-07-29T13:21:58.085Z"
   },
   {
    "duration": 538,
    "start_time": "2024-07-29T13:21:58.102Z"
   },
   {
    "duration": 812,
    "start_time": "2024-07-29T13:21:58.642Z"
   },
   {
    "duration": 965,
    "start_time": "2024-07-29T13:21:59.456Z"
   },
   {
    "duration": 251,
    "start_time": "2024-07-29T13:22:00.423Z"
   },
   {
    "duration": 1984,
    "start_time": "2024-07-29T13:22:00.677Z"
   },
   {
    "duration": 3351,
    "start_time": "2024-07-29T13:22:02.663Z"
   },
   {
    "duration": 28,
    "start_time": "2024-07-29T13:22:06.017Z"
   },
   {
    "duration": 2413,
    "start_time": "2024-07-29T13:22:06.046Z"
   },
   {
    "duration": 113201,
    "start_time": "2024-07-29T13:22:08.461Z"
   },
   {
    "duration": 98,
    "start_time": "2024-07-29T13:24:01.664Z"
   },
   {
    "duration": 230,
    "start_time": "2024-07-29T13:24:01.764Z"
   },
   {
    "duration": 8,
    "start_time": "2024-07-29T13:24:01.995Z"
   },
   {
    "duration": 11,
    "start_time": "2024-07-29T13:24:02.005Z"
   },
   {
    "duration": 421,
    "start_time": "2024-07-29T13:24:02.017Z"
   }
  ],
  "kernelspec": {
   "display_name": "Python 3 (ipykernel)",
   "language": "python",
   "name": "python3"
  },
  "language_info": {
   "codemirror_mode": {
    "name": "ipython",
    "version": 3
   },
   "file_extension": ".py",
   "mimetype": "text/x-python",
   "name": "python",
   "nbconvert_exporter": "python",
   "pygments_lexer": "ipython3",
   "version": "3.9.5"
  },
  "toc": {
   "base_numbering": 1,
   "nav_menu": {},
   "number_sections": true,
   "sideBar": true,
   "skip_h1_title": true,
   "title_cell": "Содержание",
   "title_sidebar": "Contents",
   "toc_cell": true,
   "toc_position": {},
   "toc_section_display": true,
   "toc_window_display": true
  }
 },
 "nbformat": 4,
 "nbformat_minor": 4
}
