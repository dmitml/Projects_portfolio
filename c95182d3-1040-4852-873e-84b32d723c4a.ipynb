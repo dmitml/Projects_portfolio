{
 "cells": [
  {
   "cell_type": "markdown",
   "metadata": {
    "deletable": false,
    "editable": false,
    "id": "E0vqbgi9ay0H"
   },
   "source": [
    "# Яндекс Музыка"
   ]
  },
  {
   "cell_type": "markdown",
   "metadata": {
    "deletable": false,
    "editable": false,
    "id": "VUC88oWjTJw2"
   },
   "source": [
    "Сравнение Москвы и Петербурга окружено мифами. Например:\n",
    " * Москва — мегаполис, подчинённый жёсткому ритму рабочей недели;\n",
    " * Петербург — культурная столица, со своими вкусами.\n",
    "\n",
    "На данных Яндекс Музыки вы сравните поведение пользователей двух столиц.\n",
    "\n",
    "**Цель исследования** — проверьте три гипотезы:\n",
    "1. Активность пользователей зависит от дня недели. Причём в Москве и Петербурге это проявляется по-разному.\n",
    "2. В понедельник утром в Москве преобладают одни жанры, а в Петербурге — другие. Так же и вечером пятницы преобладают разные жанры — в зависимости от города.\n",
    "3. Москва и Петербург предпочитают разные жанры музыки. В Москве чаще слушают поп-музыку, в Петербурге — русский рэп.\n",
    "\n",
    "**Ход исследования**\n",
    "\n",
    "Данные о поведении пользователей вы получите из файла `yandex_music_project.csv`. О качестве данных ничего не известно. Поэтому перед проверкой гипотез понадобится обзор данных.\n",
    "\n",
    "Вы проверите данные на ошибки и оцените их влияние на исследование. Затем, на этапе предобработки вы поищете возможность исправить самые критичные ошибки данных.\n",
    "\n",
    "Таким образом, исследование пройдёт в три этапа:\n",
    " 1. Обзор данных.\n",
    " 2. Предобработка данных.\n",
    " 3. Проверка гипотез.\n",
    "\n"
   ]
  },
  {
   "cell_type": "markdown",
   "metadata": {
    "deletable": false,
    "editable": false,
    "id": "Ml1hmfXC_Zcs"
   },
   "source": [
    "## Обзор данных\n",
    "\n",
    "Составьте первое представление о данных Яндекс Музыки.\n",
    "\n",
    "\n"
   ]
  },
  {
   "cell_type": "markdown",
   "metadata": {
    "deletable": false,
    "editable": false,
    "id": "57eAOGIz_Zcs",
    "tags": [
     "start_task"
    ]
   },
   "source": [
    "**Задание 1**"
   ]
  },
  {
   "cell_type": "code",
   "execution_count": 1,
   "metadata": {
    "deletable": false,
    "id": "AXN7PHPN_Zcs"
   },
   "outputs": [],
   "source": [
    "import pandas as pd # импорт библиотеки pandas"
   ]
  },
  {
   "cell_type": "markdown",
   "metadata": {
    "deletable": false,
    "editable": false,
    "id": "SG23P8tt_Zcs",
    "tags": [
     "start_task"
    ]
   },
   "source": [
    "**Задание 2**"
   ]
  },
  {
   "cell_type": "code",
   "execution_count": 2,
   "metadata": {
    "deletable": false,
    "id": "fFVu7vqh_Zct"
   },
   "outputs": [],
   "source": [
    "df = pd.read_csv('/datasets/yandex_music_project.csv') # чтение файла с данными и сохранение в df"
   ]
  },
  {
   "cell_type": "markdown",
   "metadata": {
    "deletable": false,
    "editable": false,
    "id": "rDoOMd3uTqnZ",
    "tags": [
     "start_task"
    ]
   },
   "source": [
    "**Задание 3**"
   ]
  },
  {
   "cell_type": "code",
   "execution_count": 3,
   "metadata": {
    "deletable": false,
    "id": "oWTVX3gW_Zct"
   },
   "outputs": [
    {
     "data": {
      "text/html": [
       "<div>\n",
       "<style scoped>\n",
       "    .dataframe tbody tr th:only-of-type {\n",
       "        vertical-align: middle;\n",
       "    }\n",
       "\n",
       "    .dataframe tbody tr th {\n",
       "        vertical-align: top;\n",
       "    }\n",
       "\n",
       "    .dataframe thead th {\n",
       "        text-align: right;\n",
       "    }\n",
       "</style>\n",
       "<table border=\"1\" class=\"dataframe\">\n",
       "  <thead>\n",
       "    <tr style=\"text-align: right;\">\n",
       "      <th></th>\n",
       "      <th>userID</th>\n",
       "      <th>Track</th>\n",
       "      <th>artist</th>\n",
       "      <th>genre</th>\n",
       "      <th>City</th>\n",
       "      <th>time</th>\n",
       "      <th>Day</th>\n",
       "    </tr>\n",
       "  </thead>\n",
       "  <tbody>\n",
       "    <tr>\n",
       "      <th>0</th>\n",
       "      <td>FFB692EC</td>\n",
       "      <td>Kamigata To Boots</td>\n",
       "      <td>The Mass Missile</td>\n",
       "      <td>rock</td>\n",
       "      <td>Saint-Petersburg</td>\n",
       "      <td>20:28:33</td>\n",
       "      <td>Wednesday</td>\n",
       "    </tr>\n",
       "    <tr>\n",
       "      <th>1</th>\n",
       "      <td>55204538</td>\n",
       "      <td>Delayed Because of Accident</td>\n",
       "      <td>Andreas Rönnberg</td>\n",
       "      <td>rock</td>\n",
       "      <td>Moscow</td>\n",
       "      <td>14:07:09</td>\n",
       "      <td>Friday</td>\n",
       "    </tr>\n",
       "    <tr>\n",
       "      <th>2</th>\n",
       "      <td>20EC38</td>\n",
       "      <td>Funiculì funiculà</td>\n",
       "      <td>Mario Lanza</td>\n",
       "      <td>pop</td>\n",
       "      <td>Saint-Petersburg</td>\n",
       "      <td>20:58:07</td>\n",
       "      <td>Wednesday</td>\n",
       "    </tr>\n",
       "    <tr>\n",
       "      <th>3</th>\n",
       "      <td>A3DD03C9</td>\n",
       "      <td>Dragons in the Sunset</td>\n",
       "      <td>Fire + Ice</td>\n",
       "      <td>folk</td>\n",
       "      <td>Saint-Petersburg</td>\n",
       "      <td>08:37:09</td>\n",
       "      <td>Monday</td>\n",
       "    </tr>\n",
       "    <tr>\n",
       "      <th>4</th>\n",
       "      <td>E2DC1FAE</td>\n",
       "      <td>Soul People</td>\n",
       "      <td>Space Echo</td>\n",
       "      <td>dance</td>\n",
       "      <td>Moscow</td>\n",
       "      <td>08:34:34</td>\n",
       "      <td>Monday</td>\n",
       "    </tr>\n",
       "    <tr>\n",
       "      <th>5</th>\n",
       "      <td>842029A1</td>\n",
       "      <td>Преданная</td>\n",
       "      <td>IMPERVTOR</td>\n",
       "      <td>rusrap</td>\n",
       "      <td>Saint-Petersburg</td>\n",
       "      <td>13:09:41</td>\n",
       "      <td>Friday</td>\n",
       "    </tr>\n",
       "    <tr>\n",
       "      <th>6</th>\n",
       "      <td>4CB90AA5</td>\n",
       "      <td>True</td>\n",
       "      <td>Roman Messer</td>\n",
       "      <td>dance</td>\n",
       "      <td>Moscow</td>\n",
       "      <td>13:00:07</td>\n",
       "      <td>Wednesday</td>\n",
       "    </tr>\n",
       "    <tr>\n",
       "      <th>7</th>\n",
       "      <td>F03E1C1F</td>\n",
       "      <td>Feeling This Way</td>\n",
       "      <td>Polina Griffith</td>\n",
       "      <td>dance</td>\n",
       "      <td>Moscow</td>\n",
       "      <td>20:47:49</td>\n",
       "      <td>Wednesday</td>\n",
       "    </tr>\n",
       "    <tr>\n",
       "      <th>8</th>\n",
       "      <td>8FA1D3BE</td>\n",
       "      <td>И вновь продолжается бой</td>\n",
       "      <td>NaN</td>\n",
       "      <td>ruspop</td>\n",
       "      <td>Moscow</td>\n",
       "      <td>09:17:40</td>\n",
       "      <td>Friday</td>\n",
       "    </tr>\n",
       "    <tr>\n",
       "      <th>9</th>\n",
       "      <td>E772D5C0</td>\n",
       "      <td>Pessimist</td>\n",
       "      <td>NaN</td>\n",
       "      <td>dance</td>\n",
       "      <td>Saint-Petersburg</td>\n",
       "      <td>21:20:49</td>\n",
       "      <td>Wednesday</td>\n",
       "    </tr>\n",
       "  </tbody>\n",
       "</table>\n",
       "</div>"
      ],
      "text/plain": [
       "     userID                        Track            artist   genre  \\\n",
       "0  FFB692EC            Kamigata To Boots  The Mass Missile    rock   \n",
       "1  55204538  Delayed Because of Accident  Andreas Rönnberg    rock   \n",
       "2    20EC38            Funiculì funiculà       Mario Lanza     pop   \n",
       "3  A3DD03C9        Dragons in the Sunset        Fire + Ice    folk   \n",
       "4  E2DC1FAE                  Soul People        Space Echo   dance   \n",
       "5  842029A1                    Преданная         IMPERVTOR  rusrap   \n",
       "6  4CB90AA5                         True      Roman Messer   dance   \n",
       "7  F03E1C1F             Feeling This Way   Polina Griffith   dance   \n",
       "8  8FA1D3BE     И вновь продолжается бой               NaN  ruspop   \n",
       "9  E772D5C0                    Pessimist               NaN   dance   \n",
       "\n",
       "             City        time        Day  \n",
       "0  Saint-Petersburg  20:28:33  Wednesday  \n",
       "1            Moscow  14:07:09     Friday  \n",
       "2  Saint-Petersburg  20:58:07  Wednesday  \n",
       "3  Saint-Petersburg  08:37:09     Monday  \n",
       "4            Moscow  08:34:34     Monday  \n",
       "5  Saint-Petersburg  13:09:41     Friday  \n",
       "6            Moscow  13:00:07  Wednesday  \n",
       "7            Moscow  20:47:49  Wednesday  \n",
       "8            Moscow  09:17:40     Friday  \n",
       "9  Saint-Petersburg  21:20:49  Wednesday  "
      ]
     },
     "execution_count": 3,
     "metadata": {},
     "output_type": "execute_result"
    }
   ],
   "source": [
    "df.head(10) # получение первых 10 строк таблицы df"
   ]
  },
  {
   "cell_type": "markdown",
   "metadata": {
    "deletable": false,
    "editable": false,
    "id": "EO73Kwic_Zct",
    "tags": [
     "start_task"
    ]
   },
   "source": [
    "**Задание 4**"
   ]
  },
  {
   "cell_type": "code",
   "execution_count": 4,
   "metadata": {
    "deletable": false,
    "id": "DSf2kIb-_Zct"
   },
   "outputs": [
    {
     "name": "stdout",
     "output_type": "stream",
     "text": [
      "<class 'pandas.core.frame.DataFrame'>\n",
      "RangeIndex: 65079 entries, 0 to 65078\n",
      "Data columns (total 7 columns):\n",
      " #   Column    Non-Null Count  Dtype \n",
      "---  ------    --------------  ----- \n",
      " 0     userID  65079 non-null  object\n",
      " 1   Track     63848 non-null  object\n",
      " 2   artist    57876 non-null  object\n",
      " 3   genre     63881 non-null  object\n",
      " 4     City    65079 non-null  object\n",
      " 5   time      65079 non-null  object\n",
      " 6   Day       65079 non-null  object\n",
      "dtypes: object(7)\n",
      "memory usage: 3.5+ MB\n"
     ]
    }
   ],
   "source": [
    "df.info() # получение общей информации о данных в таблице df"
   ]
  },
  {
   "cell_type": "markdown",
   "metadata": {
    "deletable": false,
    "editable": false,
    "id": "TaQ2Iwbr_Zct"
   },
   "source": [
    "Количество значений в столбцах различается. Значит, в данных есть пропущенные значения."
   ]
  },
  {
   "cell_type": "markdown",
   "metadata": {
    "deletable": false,
    "editable": false,
    "id": "4P0UCWzswgEm",
    "tags": [
     "start_task"
    ]
   },
   "source": [
    "**Задание 5**"
   ]
  },
  {
   "cell_type": "code",
   "execution_count": 5,
   "metadata": {
    "id": "c137-ZstwgEm"
   },
   "outputs": [],
   "source": [
    "# не использован змеиный метод в user_id"
   ]
  },
  {
   "cell_type": "markdown",
   "metadata": {
    "deletable": false,
    "editable": false,
    "id": "MCB6-dXG_Zct"
   },
   "source": [
    "**Выводы**\n",
    "\n",
    "В каждой строке таблицы — данные о прослушанном треке. Часть колонок описывает саму композицию: название, исполнителя и жанр. Остальные данные рассказывают о пользователе: из какого он города, когда он слушал музыку.\n",
    "\n",
    "Предварительно можно утверждать, что данных достаточно для проверки гипотез. Но встречаются пропуски в данных, а в названиях колонок — расхождения с хорошим стилем.\n",
    "\n",
    "Чтобы двигаться дальше, нужно устранить проблемы в данных."
   ]
  },
  {
   "cell_type": "markdown",
   "metadata": {
    "deletable": false,
    "editable": false,
    "id": "SjYF6Ub9_Zct"
   },
   "source": [
    "## Предобработка данных"
   ]
  },
  {
   "cell_type": "markdown",
   "metadata": {
    "deletable": false,
    "editable": false,
    "id": "dIaKXr29_Zct",
    "tags": [
     "start_task"
    ]
   },
   "source": [
    "### Переименование столбцов\n",
    "\n",
    "**Задание 6**"
   ]
  },
  {
   "cell_type": "code",
   "execution_count": 6,
   "metadata": {
    "deletable": false,
    "id": "oKOTdF_Q_Zct"
   },
   "outputs": [
    {
     "name": "stdout",
     "output_type": "stream",
     "text": [
      "Index(['  userID', 'Track', 'artist', 'genre', '  City  ', 'time', 'Day'], dtype='object')\n"
     ]
    }
   ],
   "source": [
    "print(df.columns) # перечень названий столбцов таблицы df"
   ]
  },
  {
   "cell_type": "markdown",
   "metadata": {
    "deletable": false,
    "editable": false,
    "id": "zj5534cv_Zct",
    "tags": [
     "start_task"
    ]
   },
   "source": [
    "**Задание 7**"
   ]
  },
  {
   "cell_type": "code",
   "execution_count": 7,
   "metadata": {
    "deletable": false,
    "id": "ISlFqs5y_Zct"
   },
   "outputs": [],
   "source": [
    "df = df.rename(columns={'  userID': 'user_id', 'Track': 'track', '  City  ': 'city', 'Day': 'day'}) # переименование столбцов"
   ]
  },
  {
   "cell_type": "markdown",
   "metadata": {
    "deletable": false,
    "editable": false,
    "id": "1dqbh00J_Zct",
    "tags": [
     "start_task"
    ]
   },
   "source": [
    "**Задание 8**"
   ]
  },
  {
   "cell_type": "code",
   "execution_count": 8,
   "metadata": {
    "deletable": false,
    "id": "d4NOAmTW_Zct"
   },
   "outputs": [
    {
     "name": "stdout",
     "output_type": "stream",
     "text": [
      "Index(['user_id', 'track', 'artist', 'genre', 'city', 'time', 'day'], dtype='object')\n"
     ]
    }
   ],
   "source": [
    "print(df.columns) # проверка результатов - перечень названий столбцов"
   ]
  },
  {
   "cell_type": "markdown",
   "metadata": {
    "deletable": false,
    "editable": false,
    "id": "5ISfbcfY_Zct",
    "tags": [
     "start_task"
    ]
   },
   "source": [
    "### Обработка пропущенных значений\n",
    "\n",
    "**Задание 9**"
   ]
  },
  {
   "cell_type": "code",
   "execution_count": 9,
   "metadata": {
    "deletable": false,
    "id": "RskX29qr_Zct"
   },
   "outputs": [
    {
     "name": "stdout",
     "output_type": "stream",
     "text": [
      "user_id       0\n",
      "track      1231\n",
      "artist     7203\n",
      "genre      1198\n",
      "city          0\n",
      "time          0\n",
      "day           0\n",
      "dtype: int64\n"
     ]
    }
   ],
   "source": [
    "print(df.isna().sum()) # подсчёт пропусков"
   ]
  },
  {
   "cell_type": "markdown",
   "metadata": {
    "deletable": false,
    "editable": false,
    "id": "fSv2laPA_Zct",
    "tags": [
     "start_task"
    ]
   },
   "source": [
    "**Задание 10**"
   ]
  },
  {
   "cell_type": "code",
   "execution_count": 10,
   "metadata": {
    "deletable": false,
    "id": "KplB5qWs_Zct"
   },
   "outputs": [],
   "source": [
    "columns_to_replace = ['track', 'artist', 'genre'] # замена пропущенных значений на 'unknown'\n",
    "\n",
    "for row in columns_to_replace:\n",
    "    df[row] = df[row].fillna('unknown')"
   ]
  },
  {
   "cell_type": "markdown",
   "metadata": {
    "deletable": false,
    "editable": false,
    "id": "Ilsm-MZo_Zct",
    "tags": [
     "start_task"
    ]
   },
   "source": [
    "**Задание 11**"
   ]
  },
  {
   "cell_type": "code",
   "execution_count": 11,
   "metadata": {
    "deletable": false,
    "id": "Tq4nYRX4_Zct"
   },
   "outputs": [
    {
     "name": "stdout",
     "output_type": "stream",
     "text": [
      "user_id    0\n",
      "track      0\n",
      "artist     0\n",
      "genre      0\n",
      "city       0\n",
      "time       0\n",
      "day        0\n",
      "dtype: int64\n"
     ]
    }
   ],
   "source": [
    "print(df.isna().sum()) # проверка на отсутствие пропусков"
   ]
  },
  {
   "cell_type": "markdown",
   "metadata": {
    "deletable": false,
    "editable": false,
    "id": "BWKRtBJ3_Zct",
    "tags": [
     "start_task"
    ]
   },
   "source": [
    "### Обработка дубликатов\n",
    "\n",
    "**Задание 12**"
   ]
  },
  {
   "cell_type": "code",
   "execution_count": 12,
   "metadata": {
    "deletable": false,
    "id": "36eES_S0_Zct"
   },
   "outputs": [
    {
     "name": "stdout",
     "output_type": "stream",
     "text": [
      "3826\n"
     ]
    }
   ],
   "source": [
    "print(df.duplicated().sum()) # подсчёт явных дубликатов"
   ]
  },
  {
   "cell_type": "markdown",
   "metadata": {
    "deletable": false,
    "editable": false,
    "id": "Ot25h6XR_Zct",
    "tags": [
     "start_task"
    ]
   },
   "source": [
    "**Задание 13**"
   ]
  },
  {
   "cell_type": "code",
   "execution_count": 13,
   "metadata": {
    "deletable": false,
    "id": "exFHq6tt_Zct"
   },
   "outputs": [],
   "source": [
    "df = df.drop_duplicates().reset_index(drop=True) # удаление явных дубликатов, создание новых индексов и удаление старых"
   ]
  },
  {
   "cell_type": "markdown",
   "metadata": {
    "deletable": false,
    "editable": false,
    "id": "Im2YwBEG_Zct",
    "tags": [
     "start_task"
    ]
   },
   "source": [
    "**Задание 14**"
   ]
  },
  {
   "cell_type": "code",
   "execution_count": 14,
   "metadata": {
    "deletable": false,
    "id": "-8PuNWQ0_Zct"
   },
   "outputs": [
    {
     "name": "stdout",
     "output_type": "stream",
     "text": [
      "0\n"
     ]
    }
   ],
   "source": [
    "print(df.duplicated().sum()) # проверка на отсутствие явных дубликатов"
   ]
  },
  {
   "cell_type": "markdown",
   "metadata": {
    "deletable": false,
    "editable": false,
    "id": "eSjWwsOh_Zct",
    "tags": [
     "start_task"
    ]
   },
   "source": [
    "**Задание 15**"
   ]
  },
  {
   "cell_type": "code",
   "execution_count": 15,
   "metadata": {
    "deletable": false,
    "id": "JIUcqzZN_Zct"
   },
   "outputs": [
    {
     "name": "stdout",
     "output_type": "stream",
     "text": [
      "['acid', 'acoustic', 'action', 'adult', 'africa', 'afrikaans', 'alternative', 'alternativepunk', 'ambient', 'americana', 'animated', 'anime', 'arabesk', 'arabic', 'arena', 'argentinetango', 'art', 'audiobook', 'author', 'avantgarde', 'axé', 'baile', 'balkan', 'beats', 'bigroom', 'black', 'bluegrass', 'blues', 'bollywood', 'bossa', 'brazilian', 'breakbeat', 'breaks', 'broadway', 'cantautori', 'cantopop', 'canzone', 'caribbean', 'caucasian', 'celtic', 'chamber', 'chanson', 'children', 'chill', 'chinese', 'choral', 'christian', 'christmas', 'classical', 'classicmetal', 'club', 'colombian', 'comedy', 'conjazz', 'contemporary', 'country', 'cuban', 'dance', 'dancehall', 'dancepop', 'dark', 'death', 'deep', 'deutschrock', 'deutschspr', 'dirty', 'disco', 'dnb', 'documentary', 'downbeat', 'downtempo', 'drum', 'dub', 'dubstep', 'eastern', 'easy', 'electronic', 'electropop', 'emo', 'entehno', 'epicmetal', 'estrada', 'ethnic', 'eurofolk', 'european', 'experimental', 'extrememetal', 'fado', 'fairytail', 'film', 'fitness', 'flamenco', 'folk', 'folklore', 'folkmetal', 'folkrock', 'folktronica', 'forró', 'frankreich', 'französisch', 'french', 'funk', 'future', 'gangsta', 'garage', 'german', 'ghazal', 'gitarre', 'glitch', 'gospel', 'gothic', 'grime', 'grunge', 'gypsy', 'handsup', \"hard'n'heavy\", 'hardcore', 'hardstyle', 'hardtechno', 'hip', 'hip-hop', 'hiphop', 'historisch', 'holiday', 'hop', 'horror', 'house', 'hymn', 'idm', 'independent', 'indian', 'indie', 'indipop', 'industrial', 'inspirational', 'instrumental', 'international', 'irish', 'jam', 'japanese', 'jazz', 'jewish', 'jpop', 'jungle', 'k-pop', 'karadeniz', 'karaoke', 'kayokyoku', 'korean', 'laiko', 'latin', 'latino', 'leftfield', 'local', 'lounge', 'loungeelectronic', 'lovers', 'malaysian', 'mandopop', 'marschmusik', 'meditative', 'mediterranean', 'melodic', 'metal', 'metalcore', 'mexican', 'middle', 'minimal', 'miscellaneous', 'modern', 'mood', 'mpb', 'muslim', 'native', 'neoklassik', 'neue', 'new', 'newage', 'newwave', 'nu', 'nujazz', 'numetal', 'oceania', 'old', 'opera', 'orchestral', 'other', 'piano', 'podcasts', 'pop', 'popdance', 'popelectronic', 'popeurodance', 'poprussian', 'post', 'posthardcore', 'postrock', 'power', 'progmetal', 'progressive', 'psychedelic', 'punjabi', 'punk', 'quebecois', 'ragga', 'ram', 'rancheras', 'rap', 'rave', 'reggae', 'reggaeton', 'regional', 'relax', 'religious', 'retro', 'rhythm', 'rnb', 'rnr', 'rock', 'rockabilly', 'rockalternative', 'rockindie', 'rockother', 'romance', 'roots', 'ruspop', 'rusrap', 'rusrock', 'russian', 'salsa', 'samba', 'scenic', 'schlager', 'self', 'sertanejo', 'shanson', 'shoegazing', 'showtunes', 'singer', 'ska', 'skarock', 'slow', 'smooth', 'soft', 'soul', 'soulful', 'sound', 'soundtrack', 'southern', 'specialty', 'speech', 'spiritual', 'sport', 'stonerrock', 'surf', 'swing', 'synthpop', 'synthrock', 'sängerportrait', 'tango', 'tanzorchester', 'taraftar', 'tatar', 'tech', 'techno', 'teen', 'thrash', 'top', 'traditional', 'tradjazz', 'trance', 'tribal', 'trip', 'triphop', 'tropical', 'türk', 'türkçe', 'ukrrock', 'unknown', 'urban', 'uzbek', 'variété', 'vi', 'videogame', 'vocal', 'western', 'world', 'worldbeat', 'ïîï', 'электроника']\n"
     ]
    }
   ],
   "source": [
    "print(sorted(df['genre'].unique())) # просмотр уникальных отсортированных названий жанров"
   ]
  },
  {
   "cell_type": "markdown",
   "metadata": {
    "deletable": false,
    "editable": false,
    "id": "qej-Qmuo_Zct",
    "tags": [
     "start_task"
    ]
   },
   "source": [
    "**Задание 16**"
   ]
  },
  {
   "cell_type": "code",
   "execution_count": 16,
   "metadata": {
    "deletable": false,
    "id": "ErNDkmns_Zct"
   },
   "outputs": [],
   "source": [
    "duplicates = ['hip', 'hop', 'hip-hop']  # устранение неявных дубликатов\n",
    "hiphop_right = 'hiphop' \n",
    "df['genre'] = df['genre'].replace(duplicates, hiphop_right)"
   ]
  },
  {
   "cell_type": "markdown",
   "metadata": {
    "deletable": false,
    "editable": false,
    "id": "zQKF16_RG15m",
    "tags": [
     "start_task"
    ]
   },
   "source": [
    "**Задание 17**"
   ]
  },
  {
   "cell_type": "code",
   "execution_count": 17,
   "metadata": {
    "deletable": false,
    "id": "wvixALnFG15m"
   },
   "outputs": [
    {
     "name": "stdout",
     "output_type": "stream",
     "text": [
      "['acid', 'acoustic', 'action', 'adult', 'africa', 'afrikaans', 'alternative', 'alternativepunk', 'ambient', 'americana', 'animated', 'anime', 'arabesk', 'arabic', 'arena', 'argentinetango', 'art', 'audiobook', 'author', 'avantgarde', 'axé', 'baile', 'balkan', 'beats', 'bigroom', 'black', 'bluegrass', 'blues', 'bollywood', 'bossa', 'brazilian', 'breakbeat', 'breaks', 'broadway', 'cantautori', 'cantopop', 'canzone', 'caribbean', 'caucasian', 'celtic', 'chamber', 'chanson', 'children', 'chill', 'chinese', 'choral', 'christian', 'christmas', 'classical', 'classicmetal', 'club', 'colombian', 'comedy', 'conjazz', 'contemporary', 'country', 'cuban', 'dance', 'dancehall', 'dancepop', 'dark', 'death', 'deep', 'deutschrock', 'deutschspr', 'dirty', 'disco', 'dnb', 'documentary', 'downbeat', 'downtempo', 'drum', 'dub', 'dubstep', 'eastern', 'easy', 'electronic', 'electropop', 'emo', 'entehno', 'epicmetal', 'estrada', 'ethnic', 'eurofolk', 'european', 'experimental', 'extrememetal', 'fado', 'fairytail', 'film', 'fitness', 'flamenco', 'folk', 'folklore', 'folkmetal', 'folkrock', 'folktronica', 'forró', 'frankreich', 'französisch', 'french', 'funk', 'future', 'gangsta', 'garage', 'german', 'ghazal', 'gitarre', 'glitch', 'gospel', 'gothic', 'grime', 'grunge', 'gypsy', 'handsup', \"hard'n'heavy\", 'hardcore', 'hardstyle', 'hardtechno', 'hiphop', 'historisch', 'holiday', 'horror', 'house', 'hymn', 'idm', 'independent', 'indian', 'indie', 'indipop', 'industrial', 'inspirational', 'instrumental', 'international', 'irish', 'jam', 'japanese', 'jazz', 'jewish', 'jpop', 'jungle', 'k-pop', 'karadeniz', 'karaoke', 'kayokyoku', 'korean', 'laiko', 'latin', 'latino', 'leftfield', 'local', 'lounge', 'loungeelectronic', 'lovers', 'malaysian', 'mandopop', 'marschmusik', 'meditative', 'mediterranean', 'melodic', 'metal', 'metalcore', 'mexican', 'middle', 'minimal', 'miscellaneous', 'modern', 'mood', 'mpb', 'muslim', 'native', 'neoklassik', 'neue', 'new', 'newage', 'newwave', 'nu', 'nujazz', 'numetal', 'oceania', 'old', 'opera', 'orchestral', 'other', 'piano', 'podcasts', 'pop', 'popdance', 'popelectronic', 'popeurodance', 'poprussian', 'post', 'posthardcore', 'postrock', 'power', 'progmetal', 'progressive', 'psychedelic', 'punjabi', 'punk', 'quebecois', 'ragga', 'ram', 'rancheras', 'rap', 'rave', 'reggae', 'reggaeton', 'regional', 'relax', 'religious', 'retro', 'rhythm', 'rnb', 'rnr', 'rock', 'rockabilly', 'rockalternative', 'rockindie', 'rockother', 'romance', 'roots', 'ruspop', 'rusrap', 'rusrock', 'russian', 'salsa', 'samba', 'scenic', 'schlager', 'self', 'sertanejo', 'shanson', 'shoegazing', 'showtunes', 'singer', 'ska', 'skarock', 'slow', 'smooth', 'soft', 'soul', 'soulful', 'sound', 'soundtrack', 'southern', 'specialty', 'speech', 'spiritual', 'sport', 'stonerrock', 'surf', 'swing', 'synthpop', 'synthrock', 'sängerportrait', 'tango', 'tanzorchester', 'taraftar', 'tatar', 'tech', 'techno', 'teen', 'thrash', 'top', 'traditional', 'tradjazz', 'trance', 'tribal', 'trip', 'triphop', 'tropical', 'türk', 'türkçe', 'ukrrock', 'unknown', 'urban', 'uzbek', 'variété', 'vi', 'videogame', 'vocal', 'western', 'world', 'worldbeat', 'ïîï', 'электроника']\n"
     ]
    }
   ],
   "source": [
    "print(sorted(df['genre'].unique())) # проверка на отсутствие неявных дубликатов"
   ]
  },
  {
   "cell_type": "markdown",
   "metadata": {
    "deletable": false,
    "editable": false,
    "id": "jz6a9-7HQUDd"
   },
   "source": [
    "**Выводы**\n",
    "\n",
    "Предобработка обнаружила три проблемы в данных:\n",
    "\n",
    "- нарушения в стиле заголовков,\n",
    "- пропущенные значения,\n",
    "- дубликаты — явные и неявные.\n",
    "\n",
    "Вы исправили заголовки, чтобы упростить работу с таблицей. Без дубликатов исследование станет более точным.\n",
    "\n",
    "Пропущенные значения вы заменили на `'unknown'`. Ещё предстоит увидеть, не повредят ли исследованию пропуски в колонке `genre`.\n",
    "\n",
    "Теперь можно перейти к проверке гипотез."
   ]
  },
  {
   "cell_type": "markdown",
   "metadata": {
    "deletable": false,
    "editable": false,
    "id": "WttZHXH0SqKk"
   },
   "source": [
    "## Проверка гипотез"
   ]
  },
  {
   "cell_type": "markdown",
   "metadata": {
    "deletable": false,
    "editable": false,
    "id": "Im936VVi_Zcu"
   },
   "source": [
    "### Сравнение поведения пользователей двух столиц"
   ]
  },
  {
   "cell_type": "markdown",
   "metadata": {
    "deletable": false,
    "editable": false,
    "id": "nwt_MuaL_Zcu"
   },
   "source": [
    "Первая гипотеза утверждает, что пользователи по-разному слушают музыку в Москве и Санкт-Петербурге. Проверим это предположение по данным о трёх днях недели — понедельнике, среде и пятнице. Для этого:\n",
    "\n",
    "* Разделим пользователей Москвы и Санкт-Петербурга.\n",
    "* Сравним, сколько треков послушала каждая группа пользователей в понедельник, среду и пятницу.\n"
   ]
  },
  {
   "cell_type": "markdown",
   "metadata": {
    "deletable": false,
    "id": "8Dw_YMmT_Zcu",
    "tags": [
     "start_task"
    ]
   },
   "source": [
    "**Задание 18**\n",
    "\n"
   ]
  },
  {
   "cell_type": "code",
   "execution_count": 18,
   "metadata": {
    "deletable": false,
    "id": "0_Qs96oh_Zcu"
   },
   "outputs": [
    {
     "name": "stdout",
     "output_type": "stream",
     "text": [
      "city\n",
      "Moscow              42741\n",
      "Saint-Petersburg    18512\n",
      "Name: track, dtype: int64\n"
     ]
    }
   ],
   "source": [
    "n_cities = df.groupby('city')['track'].count() # подсчёт прослушиваний в каждом городе\n",
    "\n",
    "print(n_cities)\n",
    "\n",
    "#1v n_cities_moscow = df[df['city'] == 'Moscow']['track'].count() # вариант подсчета прослуш только в Москве\n",
    "#2v print(df.groupby('city')['track'].count()[0]) # еще вариант\n",
    "#3v n_cities_moscow = 0\n",
    "#for i in df['city']: # еще вариант \n",
    "    #if i == 'Moscow':\n",
    "        #n_cities_moscow += 1\n",
    "#print('Всего прослушиваний в Москве:', n_cities_moscow)"
   ]
  },
  {
   "cell_type": "markdown",
   "metadata": {
    "id": "dzli3w8o_Zcu",
    "tags": [
     "start_task"
    ]
   },
   "source": [
    "**Задание 19**\n"
   ]
  },
  {
   "cell_type": "code",
   "execution_count": 19,
   "metadata": {
    "deletable": false,
    "id": "uZMKjiJz_Zcu"
   },
   "outputs": [
    {
     "name": "stdout",
     "output_type": "stream",
     "text": [
      "day\n",
      "Friday       21840\n",
      "Monday       21354\n",
      "Wednesday    18059\n",
      "Name: track, dtype: int64\n"
     ]
    }
   ],
   "source": [
    "print(df.groupby('day')['track'].count()) # подсчёт прослушиваний в каждый из трёх дней"
   ]
  },
  {
   "cell_type": "markdown",
   "metadata": {
    "deletable": false,
    "editable": false,
    "id": "POzs8bGa_Zcu",
    "tags": [
     "start_task"
    ]
   },
   "source": [
    "**Задание 20**"
   ]
  },
  {
   "cell_type": "code",
   "execution_count": 20,
   "metadata": {
    "deletable": false,
    "id": "Nz3GdQB1_Zcu"
   },
   "outputs": [],
   "source": [
    "def number_tracks(day, city):\n",
    "    track_list = df[df['day'] == day] # выберите только строки df со значением переменной day в столбце day\n",
    "    track_list = track_list[track_list['city'] == city] # выберите только строки track_list со значением переменной city в столбце city\n",
    "    track_list_count = len(track_list['user_id']) # вызовите метод подсчета строк для track_list и выберите столбец user_id\n",
    "    return track_list_count # верните значение track_list_count из функции"
   ]
  },
  {
   "cell_type": "markdown",
   "metadata": {
    "deletable": false,
    "editable": false,
    "id": "ytf7xFrFJQ2r",
    "tags": [
     "start_task"
    ]
   },
   "source": [
    "**Задание 21**"
   ]
  },
  {
   "cell_type": "code",
   "execution_count": 21,
   "metadata": {
    "deletable": false,
    "id": "rJcRATNQ_Zcu",
    "scrolled": true
   },
   "outputs": [
    {
     "data": {
      "text/plain": [
       "15740"
      ]
     },
     "execution_count": 21,
     "metadata": {},
     "output_type": "execute_result"
    }
   ],
   "source": [
    "number_tracks('Monday', 'Moscow') # количество прослушиваний в Москве по понедельникам "
   ]
  },
  {
   "cell_type": "code",
   "execution_count": 22,
   "metadata": {
    "deletable": false,
    "id": "hq_ncZ5T_Zcu"
   },
   "outputs": [
    {
     "data": {
      "text/plain": [
       "5614"
      ]
     },
     "execution_count": 22,
     "metadata": {},
     "output_type": "execute_result"
    }
   ],
   "source": [
    "number_tracks('Monday', 'Saint-Petersburg')# количество прослушиваний в Санкт-Петербурге по понедельникам"
   ]
  },
  {
   "cell_type": "code",
   "execution_count": 23,
   "metadata": {
    "deletable": false,
    "id": "_NTy2VPU_Zcu"
   },
   "outputs": [
    {
     "data": {
      "text/plain": [
       "11056"
      ]
     },
     "execution_count": 23,
     "metadata": {},
     "output_type": "execute_result"
    }
   ],
   "source": [
    "number_tracks('Wednesday', 'Moscow')# количество прослушиваний в Москве по средам"
   ]
  },
  {
   "cell_type": "code",
   "execution_count": 24,
   "metadata": {
    "deletable": false,
    "id": "j2y3TAwo_Zcu"
   },
   "outputs": [
    {
     "data": {
      "text/plain": [
       "7003"
      ]
     },
     "execution_count": 24,
     "metadata": {},
     "output_type": "execute_result"
    }
   ],
   "source": [
    "number_tracks('Wednesday', 'Saint-Petersburg')# количество прослушиваний в Санкт-Петербурге по средам"
   ]
  },
  {
   "cell_type": "code",
   "execution_count": 25,
   "metadata": {
    "deletable": false,
    "id": "vYDw5u_K_Zcu"
   },
   "outputs": [
    {
     "data": {
      "text/plain": [
       "15945"
      ]
     },
     "execution_count": 25,
     "metadata": {},
     "output_type": "execute_result"
    }
   ],
   "source": [
    "number_tracks('Friday', 'Moscow')# количество прослушиваний в Москве по пятницам"
   ]
  },
  {
   "cell_type": "code",
   "execution_count": 26,
   "metadata": {
    "deletable": false,
    "id": "8_yzFtW3_Zcu"
   },
   "outputs": [
    {
     "data": {
      "text/plain": [
       "5895"
      ]
     },
     "execution_count": 26,
     "metadata": {},
     "output_type": "execute_result"
    }
   ],
   "source": [
    "number_tracks('Friday', 'Saint-Petersburg')# количество прослушиваний в Санкт-Петербурге по пятницам"
   ]
  },
  {
   "cell_type": "markdown",
   "metadata": {
    "deletable": false,
    "editable": false,
    "id": "7QXffbO-_Zcu",
    "tags": [
     "start_task"
    ]
   },
   "source": [
    "**Задание 22**"
   ]
  },
  {
   "cell_type": "code",
   "execution_count": 27,
   "metadata": {
    "deletable": false,
    "id": "APAcLpOr_Zcu"
   },
   "outputs": [
    {
     "data": {
      "text/html": [
       "<div>\n",
       "<style scoped>\n",
       "    .dataframe tbody tr th:only-of-type {\n",
       "        vertical-align: middle;\n",
       "    }\n",
       "\n",
       "    .dataframe tbody tr th {\n",
       "        vertical-align: top;\n",
       "    }\n",
       "\n",
       "    .dataframe thead th {\n",
       "        text-align: right;\n",
       "    }\n",
       "</style>\n",
       "<table border=\"1\" class=\"dataframe\">\n",
       "  <thead>\n",
       "    <tr style=\"text-align: right;\">\n",
       "      <th></th>\n",
       "      <th>city</th>\n",
       "      <th>monday</th>\n",
       "      <th>wednesday</th>\n",
       "      <th>friday</th>\n",
       "    </tr>\n",
       "  </thead>\n",
       "  <tbody>\n",
       "    <tr>\n",
       "      <th>0</th>\n",
       "      <td>Moscow</td>\n",
       "      <td>15740</td>\n",
       "      <td>11056</td>\n",
       "      <td>15945</td>\n",
       "    </tr>\n",
       "    <tr>\n",
       "      <th>1</th>\n",
       "      <td>Saint-Petersburg</td>\n",
       "      <td>5614</td>\n",
       "      <td>7003</td>\n",
       "      <td>5895</td>\n",
       "    </tr>\n",
       "  </tbody>\n",
       "</table>\n",
       "</div>"
      ],
      "text/plain": [
       "               city  monday  wednesday  friday\n",
       "0            Moscow   15740      11056   15945\n",
       "1  Saint-Petersburg    5614       7003    5895"
      ]
     },
     "execution_count": 27,
     "metadata": {},
     "output_type": "execute_result"
    }
   ],
   "source": [
    "columns = ['city', 'monday', 'wednesday', 'friday']\n",
    "days = ['Monday', 'Wednesday', 'Friday']\n",
    "\n",
    "dat_cities = []\n",
    "dat_city = []\n",
    "for city in n_cities.index:\n",
    "    dat_city.append(city)\n",
    "    for day in days:\n",
    "        dat_city.append(number_tracks(day, city))\n",
    "    dat_cities.append(dat_city)\n",
    "    dat_city = []\n",
    "\n",
    "info = pd.DataFrame(data=dat_cities,columns=columns)# создание таблицы с результатами\n",
    "info # вывод таблицы на экран"
   ]
  },
  {
   "cell_type": "markdown",
   "metadata": {
    "deletable": false,
    "editable": false,
    "id": "-EgPIHYu_Zcu"
   },
   "source": [
    "**Выводы**\n",
    "\n",
    "Данные показывают разницу поведения пользователей:\n",
    "\n",
    "- В Москве пик прослушиваний приходится на понедельник и пятницу, а в среду заметен спад.\n",
    "- В Петербурге, наоборот, больше слушают музыку по средам. Активность в понедельник и пятницу здесь почти в равной мере уступает среде.\n",
    "\n",
    "Значит, данные говорят в пользу первой гипотезы."
   ]
  },
  {
   "cell_type": "markdown",
   "metadata": {
    "deletable": false,
    "editable": false,
    "id": "atZAxtq4_Zcu"
   },
   "source": [
    "### Музыка в начале и в конце недели"
   ]
  },
  {
   "cell_type": "markdown",
   "metadata": {
    "deletable": false,
    "editable": false,
    "id": "eXrQqXFH_Zcu"
   },
   "source": [
    "Согласно второй гипотезе, утром в понедельник в Москве преобладают одни жанры, а в Петербурге — другие. Так же и вечером пятницы преобладают разные жанры — в зависимости от города."
   ]
  },
  {
   "cell_type": "markdown",
   "metadata": {
    "deletable": false,
    "editable": false,
    "id": "S8UcW6Hw_Zcu",
    "tags": [
     "start_task"
    ]
   },
   "source": [
    "**Задание 23**"
   ]
  },
  {
   "cell_type": "code",
   "execution_count": 28,
   "metadata": {
    "deletable": false,
    "id": "qeaFfM_P_Zcu"
   },
   "outputs": [],
   "source": [
    "moscow_general = df[df['city'] == 'Moscow'] # получение таблицы moscow_general из тех строк таблицы df, для которых значение в столбце 'city' равно 'Moscow'\n",
    "#print(moscow_general)\n"
   ]
  },
  {
   "cell_type": "code",
   "execution_count": 29,
   "metadata": {
    "deletable": false,
    "id": "ORaVRKto_Zcu"
   },
   "outputs": [],
   "source": [
    "spb_general = df[df['city'] == 'Saint-Petersburg'] # получение таблицы spb_general из тех строк таблицы df, для которых значение в столбце 'city' равно 'Saint-Petersburg'\n",
    "#print(spb_general)\n"
   ]
  },
  {
   "cell_type": "markdown",
   "metadata": {
    "deletable": false,
    "editable": false,
    "id": "MEJV-CX2_Zcu",
    "tags": [
     "start_task"
    ]
   },
   "source": [
    "**Задание 24**"
   ]
  },
  {
   "cell_type": "code",
   "execution_count": 30,
   "metadata": {
    "deletable": false,
    "id": "laJT9BYl_Zcu"
   },
   "outputs": [],
   "source": [
    "def genre_weekday(df, day, time1, time2):\n",
    "    # последовательная фильтрация\n",
    "    # оставляем в genre_df только те строки df, у которых день равен day\n",
    "    genre_df = df[df['day'] == day]# ваш код здесь\n",
    "    # оставляем в genre_df только те строки genre_df, у которых время меньше time2\n",
    "    genre_df = genre_df[genre_df['time'] < time2]# ваш код здесь\n",
    "    # оставляем в genre_df только те строки genre_df, у которых время больше time1\n",
    "    genre_df = genre_df[genre_df['time'] > time1]# ваш код здесь\n",
    "    # сгруппируем отфильтрованный датафрейм по столбцу с названиями жанров, возьмём столбец genre и посчитаем кол-во строк для каждого жанра методом count()\n",
    "    genre_df_grouped = genre_df.groupby('genre')['genre'].count()# ваш код здесь\n",
    "    # отсортируем результат по убыванию (чтобы в начале Series оказались самые популярные жанры)\n",
    "    genre_df_sorted = genre_df_grouped.sort_values(ascending=False)# ваш код здесь\n",
    "    # вернём Series с 10 самыми популярными жанрами в указанный отрезок времени заданного дня\n",
    "    return genre_df_sorted[:10]"
   ]
  },
  {
   "cell_type": "markdown",
   "metadata": {
    "deletable": false,
    "editable": false,
    "id": "la2s2_PF_Zcu",
    "tags": [
     "start_task"
    ]
   },
   "source": [
    "**Задание 25**"
   ]
  },
  {
   "cell_type": "code",
   "execution_count": 31,
   "metadata": {
    "deletable": false,
    "id": "yz7itPUQ_Zcu"
   },
   "outputs": [
    {
     "data": {
      "text/plain": [
       "genre\n",
       "pop            781\n",
       "dance          549\n",
       "electronic     480\n",
       "rock           474\n",
       "hiphop         286\n",
       "ruspop         186\n",
       "world          181\n",
       "rusrap         175\n",
       "alternative    164\n",
       "unknown        161\n",
       "Name: genre, dtype: int64"
      ]
     },
     "execution_count": 31,
     "metadata": {},
     "output_type": "execute_result"
    }
   ],
   "source": [
    "genre_weekday(moscow_general, 'Monday', '07:00', '11:00') # вызов функции для утра понедельника в Москве (вместо df — таблица moscow_general)"
   ]
  },
  {
   "cell_type": "code",
   "execution_count": 32,
   "metadata": {
    "deletable": false,
    "id": "kwUcHPdy_Zcu"
   },
   "outputs": [
    {
     "data": {
      "text/plain": [
       "genre\n",
       "pop            218\n",
       "dance          182\n",
       "rock           162\n",
       "electronic     147\n",
       "hiphop          80\n",
       "ruspop          64\n",
       "alternative     58\n",
       "rusrap          55\n",
       "jazz            44\n",
       "classical       40\n",
       "Name: genre, dtype: int64"
      ]
     },
     "execution_count": 32,
     "metadata": {},
     "output_type": "execute_result"
    }
   ],
   "source": [
    "genre_weekday(spb_general, 'Monday', '07:00', '11:00') # вызов функции для утра понедельника в Петербурге (вместо df — таблица spb_general)"
   ]
  },
  {
   "cell_type": "code",
   "execution_count": 33,
   "metadata": {
    "deletable": false,
    "id": "EzXVRE1o_Zcu"
   },
   "outputs": [
    {
     "data": {
      "text/plain": [
       "genre\n",
       "pop            713\n",
       "rock           517\n",
       "dance          495\n",
       "electronic     482\n",
       "hiphop         273\n",
       "world          208\n",
       "ruspop         170\n",
       "alternative    163\n",
       "classical      163\n",
       "rusrap         142\n",
       "Name: genre, dtype: int64"
      ]
     },
     "execution_count": 33,
     "metadata": {},
     "output_type": "execute_result"
    }
   ],
   "source": [
    "genre_weekday(moscow_general, 'Friday', '17:00', '23:00') # вызов функции для вечера пятницы в Москве"
   ]
  },
  {
   "cell_type": "code",
   "execution_count": 34,
   "metadata": {
    "deletable": false,
    "id": "JZaEKu5v_Zcu"
   },
   "outputs": [
    {
     "data": {
      "text/plain": [
       "genre\n",
       "pop            256\n",
       "electronic     216\n",
       "rock           216\n",
       "dance          210\n",
       "hiphop          97\n",
       "alternative     63\n",
       "jazz            61\n",
       "classical       60\n",
       "rusrap          59\n",
       "world           54\n",
       "Name: genre, dtype: int64"
      ]
     },
     "execution_count": 34,
     "metadata": {},
     "output_type": "execute_result"
    }
   ],
   "source": [
    "genre_weekday(spb_general, 'Friday', '17:00', '23:00') # вызов функции для вечера пятницы в Петербурге"
   ]
  },
  {
   "cell_type": "markdown",
   "metadata": {
    "deletable": false,
    "editable": false,
    "id": "wrCe4MNX_Zcu"
   },
   "source": [
    "**Выводы**\n",
    "\n",
    "Если сравнить топ-10 жанров в понедельник утром, можно сделать такие выводы:\n",
    "\n",
    "1. В Москве и Петербурге слушают похожую музыку. Единственное различие — в московский рейтинг вошёл жанр “world”, а в петербургский — джаз и классика.\n",
    "\n",
    "2. В Москве пропущенных значений оказалось так много, что значение `'unknown'` заняло десятое место среди самых популярных жанров. Значит, пропущенные значения занимают существенную долю в данных и угрожают достоверности исследования.\n",
    "\n",
    "Вечер пятницы не меняет эту картину. Некоторые жанры поднимаются немного выше, другие спускаются, но в целом топ-10 остаётся тем же самым.\n",
    "\n",
    "Таким образом, вторая гипотеза подтвердилась лишь частично:\n",
    "* Пользователи слушают похожую музыку в начале недели и в конце.\n",
    "* Разница между Москвой и Петербургом не слишком выражена. В Москве чаще слушают русскую популярную музыку, в Петербурге — джаз.\n",
    "\n",
    "Однако пропуски в данных ставят под сомнение этот результат. В Москве их так много, что рейтинг топ-10 мог бы выглядеть иначе, если бы не утерянные  данные о жанрах."
   ]
  },
  {
   "cell_type": "markdown",
   "metadata": {
    "deletable": false,
    "editable": false,
    "id": "JolODAqr_Zcu"
   },
   "source": [
    "### Жанровые предпочтения в Москве и Петербурге\n",
    "\n",
    "Гипотеза: Петербург — столица рэпа, музыку этого жанра там слушают чаще, чем в Москве.  А Москва — город контрастов, в котором, тем не менее, преобладает поп-музыка."
   ]
  },
  {
   "cell_type": "markdown",
   "metadata": {
    "deletable": false,
    "editable": false,
    "id": "DlegSvaT_Zcu",
    "tags": [
     "start_task"
    ]
   },
   "source": [
    "**Задание 26**"
   ]
  },
  {
   "cell_type": "code",
   "execution_count": 44,
   "metadata": {
    "deletable": false,
    "id": "r19lIPke_Zcu"
   },
   "outputs": [],
   "source": [
    "moscow_genres = moscow_general.groupby('genre')['genre'].count() # одной строкой: группировка таблицы moscow_general по столбцу 'genre', выбор столбца `genre`, подсчёт числа значений 'genre' методом count(), сохранение в moscow_genres\n",
    "moscow_genres = moscow_genres.sort_values(ascending=False)# сортировка получившегося Series в порядке убывания и сохранение обратно в moscow_genres"
   ]
  },
  {
   "cell_type": "markdown",
   "metadata": {
    "deletable": false,
    "editable": false,
    "id": "6kMuomxTiIr8",
    "tags": [
     "start_task"
    ]
   },
   "source": [
    "**Задание 27**"
   ]
  },
  {
   "cell_type": "code",
   "execution_count": 45,
   "metadata": {
    "deletable": false,
    "id": "WhCSooF8_Zcv"
   },
   "outputs": [
    {
     "data": {
      "text/plain": [
       "genre\n",
       "pop            5892\n",
       "dance          4435\n",
       "rock           3965\n",
       "electronic     3786\n",
       "hiphop         2096\n",
       "classical      1616\n",
       "world          1432\n",
       "alternative    1379\n",
       "ruspop         1372\n",
       "rusrap         1161\n",
       "Name: genre, dtype: int64"
      ]
     },
     "execution_count": 45,
     "metadata": {},
     "output_type": "execute_result"
    }
   ],
   "source": [
    "moscow_genres.head(10) # просмотр первых 10 строк moscow_genres"
   ]
  },
  {
   "cell_type": "markdown",
   "metadata": {
    "deletable": false,
    "editable": false,
    "id": "cnPG2vnN_Zcv",
    "tags": [
     "start_task"
    ]
   },
   "source": [
    "**Задание 28**"
   ]
  },
  {
   "cell_type": "code",
   "execution_count": 46,
   "metadata": {
    "deletable": false,
    "id": "gluLIpE7_Zcv"
   },
   "outputs": [],
   "source": [
    "spb_genres = spb_general.groupby('genre')['genre'].count() # одной строкой: группировка таблицы spb_general по столбцу 'genre', выбор столбца `genre`, подсчёт числа значений 'genre' методом count(), сохранение в spb_genres\n",
    "spb_genres = spb_genres.sort_values(ascending=False) # сортировка получившегося Series в порядке убывания и сохранение обратно в spb_genres"
   ]
  },
  {
   "cell_type": "markdown",
   "metadata": {
    "deletable": false,
    "editable": false,
    "id": "5Doha_ODgyQ8",
    "tags": [
     "start_task"
    ]
   },
   "source": [
    "**Задание 29**"
   ]
  },
  {
   "cell_type": "code",
   "execution_count": 47,
   "metadata": {
    "deletable": false,
    "id": "uaGJHjVU_Zcv"
   },
   "outputs": [
    {
     "data": {
      "text/plain": [
       "genre\n",
       "pop            2431\n",
       "dance          1932\n",
       "rock           1879\n",
       "electronic     1736\n",
       "hiphop          960\n",
       "alternative     649\n",
       "classical       646\n",
       "rusrap          564\n",
       "ruspop          538\n",
       "world           515\n",
       "Name: genre, dtype: int64"
      ]
     },
     "execution_count": 47,
     "metadata": {},
     "output_type": "execute_result"
    }
   ],
   "source": [
    "spb_genres.head(10) # просмотр первых 10 строк spb_genres"
   ]
  },
  {
   "cell_type": "markdown",
   "metadata": {
    "deletable": false,
    "editable": false,
    "id": "RY51YJYu_Zcv"
   },
   "source": [
    "**Выводы**"
   ]
  },
  {
   "cell_type": "markdown",
   "metadata": {
    "deletable": false,
    "editable": false,
    "id": "nVhnJEm__Zcv"
   },
   "source": [
    "Гипотеза частично подтвердилась:\n",
    "* Поп-музыка — самый популярный жанр в Москве, как и предполагала гипотеза. Более того, в топ-10 жанров встречается близкий жанр — русская популярная музыка.\n",
    "* Вопреки ожиданиям, рэп одинаково популярен в Москве и Петербурге.\n"
   ]
  },
  {
   "cell_type": "markdown",
   "metadata": {
    "deletable": false,
    "editable": false,
    "id": "ykKQ0N65_Zcv"
   },
   "source": [
    "## Итоги исследования"
   ]
  },
  {
   "cell_type": "markdown",
   "metadata": {
    "deletable": false,
    "editable": false,
    "id": "tjUwbHb3_Zcv"
   },
   "source": [
    "Вы проверили три гипотезы и установили:\n",
    "\n",
    "1. День недели по-разному влияет на активность пользователей в Москве и Петербурге.\n",
    "\n",
    "Первая гипотеза полностью подтвердилась.\n",
    "\n",
    "2. Музыкальные предпочтения не сильно меняются в течение недели — будь то Москва или Петербург. Небольшие различия заметны в начале недели, по понедельникам:\n",
    "* в Москве слушают музыку жанра “world”,\n",
    "* в Петербурге — джаз и классику.\n",
    "\n",
    "Таким образом, вторая гипотеза подтвердилась лишь отчасти. Этот результат мог оказаться иным, если бы не пропуски в данных.\n",
    "\n",
    "3. Во вкусах пользователей Москвы и Петербурга больше общего, чем различий. Вопреки ожиданиям, предпочтения жанров в Петербурге напоминают московские.\n",
    "\n",
    "Третья гипотеза не подтвердилась. Если различия в предпочтениях и существуют, на основной массе пользователей они незаметны.\n",
    "\n",
    "**На практике исследования содержат проверки статистических гипотез.**\n",
    "Из части данных одного сервиса невозможно сделать какие-то выводы о всех пользователях сервиса без методов статистики.\n",
    "Проверки статистических гипотез покажут, насколько они достоверны, исходя из имеющихся данных.\n",
    "С методами проверок гипотез вы ещё познакомитесь в следующих темах."
   ]
  }
 ],
 "metadata": {
  "ExecuteTimeLog": [
   {
    "duration": 54,
    "start_time": "2024-02-13T14:36:47.186Z"
   },
   {
    "duration": 409,
    "start_time": "2024-02-13T14:36:56.392Z"
   },
   {
    "duration": 31,
    "start_time": "2024-02-13T14:36:59.366Z"
   },
   {
    "duration": 48,
    "start_time": "2024-02-13T14:37:19.214Z"
   },
   {
    "duration": 269,
    "start_time": "2024-02-13T14:45:26.730Z"
   },
   {
    "duration": 34,
    "start_time": "2024-02-13T14:46:02.839Z"
   },
   {
    "duration": 20,
    "start_time": "2024-02-13T14:47:59.620Z"
   },
   {
    "duration": 7,
    "start_time": "2024-02-13T14:48:39.885Z"
   },
   {
    "duration": 12,
    "start_time": "2024-02-13T14:48:59.404Z"
   },
   {
    "duration": 32,
    "start_time": "2024-02-13T14:49:51.761Z"
   },
   {
    "duration": 2,
    "start_time": "2024-02-13T14:56:25.028Z"
   },
   {
    "duration": 50,
    "start_time": "2024-02-13T18:37:09.355Z"
   },
   {
    "duration": 460,
    "start_time": "2024-02-13T18:37:24.675Z"
   },
   {
    "duration": 243,
    "start_time": "2024-02-13T18:37:25.137Z"
   },
   {
    "duration": 18,
    "start_time": "2024-02-13T18:37:25.382Z"
   },
   {
    "duration": 33,
    "start_time": "2024-02-13T18:37:25.402Z"
   },
   {
    "duration": 2,
    "start_time": "2024-02-13T18:37:25.437Z"
   },
   {
    "duration": 3,
    "start_time": "2024-02-13T18:37:28.929Z"
   },
   {
    "duration": 12,
    "start_time": "2024-02-13T18:47:35.617Z"
   },
   {
    "duration": 3,
    "start_time": "2024-02-13T18:50:43.991Z"
   },
   {
    "duration": 29,
    "start_time": "2024-02-13T19:10:09.429Z"
   },
   {
    "duration": 45,
    "start_time": "2024-02-13T19:17:52.629Z"
   },
   {
    "duration": 32,
    "start_time": "2024-02-13T19:18:38.018Z"
   },
   {
    "duration": 27,
    "start_time": "2024-02-13T19:19:13.448Z"
   },
   {
    "duration": 72,
    "start_time": "2024-02-13T19:22:15.808Z"
   },
   {
    "duration": 64,
    "start_time": "2024-02-13T19:24:36.288Z"
   },
   {
    "duration": 115,
    "start_time": "2024-02-13T19:24:49.964Z"
   },
   {
    "duration": 61,
    "start_time": "2024-02-13T19:24:58.374Z"
   },
   {
    "duration": 7,
    "start_time": "2024-02-13T19:27:59.840Z"
   },
   {
    "duration": 21,
    "start_time": "2024-02-13T19:40:45.590Z"
   },
   {
    "duration": 11,
    "start_time": "2024-02-13T19:41:14.378Z"
   },
   {
    "duration": 11,
    "start_time": "2024-02-13T19:42:09.655Z"
   },
   {
    "duration": 73,
    "start_time": "2024-02-13T19:44:39.481Z"
   },
   {
    "duration": 7,
    "start_time": "2024-02-13T19:45:30.325Z"
   },
   {
    "duration": 48,
    "start_time": "2024-02-14T07:05:07.555Z"
   },
   {
    "duration": 406,
    "start_time": "2024-02-14T07:05:18.996Z"
   },
   {
    "duration": 231,
    "start_time": "2024-02-14T07:05:19.404Z"
   },
   {
    "duration": 17,
    "start_time": "2024-02-14T07:05:19.637Z"
   },
   {
    "duration": 45,
    "start_time": "2024-02-14T07:05:19.656Z"
   },
   {
    "duration": 7,
    "start_time": "2024-02-14T07:05:19.702Z"
   },
   {
    "duration": 27,
    "start_time": "2024-02-14T07:05:19.711Z"
   },
   {
    "duration": 26,
    "start_time": "2024-02-14T07:05:19.740Z"
   },
   {
    "duration": 25,
    "start_time": "2024-02-14T07:05:19.768Z"
   },
   {
    "duration": 31,
    "start_time": "2024-02-14T07:05:19.794Z"
   },
   {
    "duration": 36,
    "start_time": "2024-02-14T07:05:19.827Z"
   },
   {
    "duration": 26,
    "start_time": "2024-02-14T07:05:19.865Z"
   },
   {
    "duration": 76,
    "start_time": "2024-02-14T07:05:19.892Z"
   },
   {
    "duration": 87,
    "start_time": "2024-02-14T07:05:19.969Z"
   },
   {
    "duration": 69,
    "start_time": "2024-02-14T07:05:20.057Z"
   },
   {
    "duration": 7,
    "start_time": "2024-02-14T07:05:20.128Z"
   },
   {
    "duration": 37,
    "start_time": "2024-02-14T07:05:20.137Z"
   },
   {
    "duration": 21,
    "start_time": "2024-02-14T07:05:20.176Z"
   },
   {
    "duration": 59,
    "start_time": "2024-02-14T07:05:20.199Z"
   },
   {
    "duration": 29,
    "start_time": "2024-02-14T07:05:22.653Z"
   },
   {
    "duration": 33,
    "start_time": "2024-02-14T07:05:48.878Z"
   },
   {
    "duration": 27,
    "start_time": "2024-02-14T07:06:19.679Z"
   },
   {
    "duration": 12,
    "start_time": "2024-02-14T07:06:28.669Z"
   },
   {
    "duration": 77,
    "start_time": "2024-02-14T07:08:04.083Z"
   },
   {
    "duration": 87,
    "start_time": "2024-02-14T07:08:59.957Z"
   },
   {
    "duration": 1215,
    "start_time": "2024-02-14T07:09:38.156Z"
   },
   {
    "duration": 1261,
    "start_time": "2024-02-14T07:13:32.792Z"
   },
   {
    "duration": 12,
    "start_time": "2024-02-14T07:13:48.491Z"
   },
   {
    "duration": 1140,
    "start_time": "2024-02-14T07:17:47.141Z"
   },
   {
    "duration": 1160,
    "start_time": "2024-02-14T07:18:54.480Z"
   },
   {
    "duration": 13,
    "start_time": "2024-02-14T07:27:36.957Z"
   },
   {
    "duration": 11,
    "start_time": "2024-02-14T07:29:52.761Z"
   },
   {
    "duration": 12,
    "start_time": "2024-02-14T07:30:23.073Z"
   },
   {
    "duration": 1177,
    "start_time": "2024-02-14T07:30:54.791Z"
   },
   {
    "duration": 86,
    "start_time": "2024-02-14T07:32:00.439Z"
   },
   {
    "duration": 17,
    "start_time": "2024-02-14T07:32:06.842Z"
   },
   {
    "duration": 11,
    "start_time": "2024-02-14T07:38:48.041Z"
   },
   {
    "duration": 11,
    "start_time": "2024-02-14T07:39:26.154Z"
   },
   {
    "duration": 52,
    "start_time": "2024-02-14T07:41:25.777Z"
   },
   {
    "duration": 67,
    "start_time": "2024-02-14T07:41:51.572Z"
   },
   {
    "duration": 1173,
    "start_time": "2024-02-14T07:46:45.006Z"
   },
   {
    "duration": 21,
    "start_time": "2024-02-14T07:47:13.829Z"
   },
   {
    "duration": 3,
    "start_time": "2024-02-14T07:51:18.903Z"
   },
   {
    "duration": 180,
    "start_time": "2024-02-14T07:51:18.908Z"
   },
   {
    "duration": 13,
    "start_time": "2024-02-14T07:51:19.091Z"
   },
   {
    "duration": 53,
    "start_time": "2024-02-14T07:51:19.106Z"
   },
   {
    "duration": 3,
    "start_time": "2024-02-14T07:51:19.161Z"
   },
   {
    "duration": 5,
    "start_time": "2024-02-14T07:51:19.165Z"
   },
   {
    "duration": 14,
    "start_time": "2024-02-14T07:51:19.171Z"
   },
   {
    "duration": 4,
    "start_time": "2024-02-14T07:51:19.187Z"
   },
   {
    "duration": 48,
    "start_time": "2024-02-14T07:51:19.193Z"
   },
   {
    "duration": 17,
    "start_time": "2024-02-14T07:51:19.242Z"
   },
   {
    "duration": 24,
    "start_time": "2024-02-14T07:51:19.262Z"
   },
   {
    "duration": 73,
    "start_time": "2024-02-14T07:51:19.288Z"
   },
   {
    "duration": 71,
    "start_time": "2024-02-14T07:51:19.363Z"
   },
   {
    "duration": 50,
    "start_time": "2024-02-14T07:51:19.436Z"
   },
   {
    "duration": 7,
    "start_time": "2024-02-14T07:51:19.487Z"
   },
   {
    "duration": 29,
    "start_time": "2024-02-14T07:51:19.495Z"
   },
   {
    "duration": 8,
    "start_time": "2024-02-14T07:51:19.525Z"
   },
   {
    "duration": 21,
    "start_time": "2024-02-14T07:51:19.535Z"
   },
   {
    "duration": 22,
    "start_time": "2024-02-14T07:58:11.817Z"
   },
   {
    "duration": 23,
    "start_time": "2024-02-14T08:21:13.434Z"
   },
   {
    "duration": 33,
    "start_time": "2024-02-14T08:21:58.536Z"
   },
   {
    "duration": 110,
    "start_time": "2024-02-14T09:25:47.013Z"
   },
   {
    "duration": 1385,
    "start_time": "2024-02-14T09:26:06.477Z"
   },
   {
    "duration": 2,
    "start_time": "2024-02-14T09:26:27.259Z"
   },
   {
    "duration": 173,
    "start_time": "2024-02-14T09:26:27.263Z"
   },
   {
    "duration": 11,
    "start_time": "2024-02-14T09:26:27.438Z"
   },
   {
    "duration": 31,
    "start_time": "2024-02-14T09:26:27.451Z"
   },
   {
    "duration": 2,
    "start_time": "2024-02-14T09:26:27.485Z"
   },
   {
    "duration": 9,
    "start_time": "2024-02-14T09:26:27.489Z"
   },
   {
    "duration": 29,
    "start_time": "2024-02-14T09:26:27.499Z"
   },
   {
    "duration": 6,
    "start_time": "2024-02-14T09:26:27.529Z"
   },
   {
    "duration": 27,
    "start_time": "2024-02-14T09:26:27.537Z"
   },
   {
    "duration": 18,
    "start_time": "2024-02-14T09:26:27.566Z"
   },
   {
    "duration": 55,
    "start_time": "2024-02-14T09:26:27.586Z"
   },
   {
    "duration": 68,
    "start_time": "2024-02-14T09:26:27.642Z"
   },
   {
    "duration": 73,
    "start_time": "2024-02-14T09:26:27.711Z"
   },
   {
    "duration": 68,
    "start_time": "2024-02-14T09:26:27.786Z"
   },
   {
    "duration": 7,
    "start_time": "2024-02-14T09:26:27.855Z"
   },
   {
    "duration": 13,
    "start_time": "2024-02-14T09:26:27.863Z"
   },
   {
    "duration": 6,
    "start_time": "2024-02-14T09:26:27.878Z"
   },
   {
    "duration": 1401,
    "start_time": "2024-02-14T09:26:27.886Z"
   },
   {
    "duration": 1472,
    "start_time": "2024-02-14T09:26:30.793Z"
   },
   {
    "duration": 24,
    "start_time": "2024-02-14T09:27:29.680Z"
   },
   {
    "duration": 1263,
    "start_time": "2024-02-14T09:28:02.029Z"
   },
   {
    "duration": 1427,
    "start_time": "2024-02-14T09:28:19.769Z"
   },
   {
    "duration": 1254,
    "start_time": "2024-02-14T09:30:35.448Z"
   },
   {
    "duration": 4,
    "start_time": "2024-02-14T09:43:11.978Z"
   },
   {
    "duration": 3,
    "start_time": "2024-02-14T09:45:22.764Z"
   },
   {
    "duration": 25,
    "start_time": "2024-02-14T09:45:35.910Z"
   },
   {
    "duration": 36,
    "start_time": "2024-02-14T09:48:34.080Z"
   },
   {
    "duration": 35,
    "start_time": "2024-02-14T09:49:18.202Z"
   },
   {
    "duration": 22,
    "start_time": "2024-02-14T09:49:55.510Z"
   },
   {
    "duration": 13,
    "start_time": "2024-02-14T09:57:07.279Z"
   },
   {
    "duration": 27,
    "start_time": "2024-02-14T10:34:24.823Z"
   },
   {
    "duration": 12,
    "start_time": "2024-02-14T10:50:50.522Z"
   },
   {
    "duration": 11,
    "start_time": "2024-02-14T10:51:31.780Z"
   },
   {
    "duration": 4,
    "start_time": "2024-02-14T10:58:45.684Z"
   },
   {
    "duration": 16,
    "start_time": "2024-02-14T11:06:17.466Z"
   },
   {
    "duration": 8,
    "start_time": "2024-02-14T11:08:34.127Z"
   },
   {
    "duration": 14,
    "start_time": "2024-02-14T11:08:45.937Z"
   },
   {
    "duration": 16,
    "start_time": "2024-02-14T11:09:17.411Z"
   },
   {
    "duration": 4,
    "start_time": "2024-02-14T11:10:35.080Z"
   },
   {
    "duration": 4,
    "start_time": "2024-02-14T11:18:59.194Z"
   },
   {
    "duration": 4,
    "start_time": "2024-02-14T11:19:19.250Z"
   },
   {
    "duration": 850,
    "start_time": "2024-02-14T11:20:40.813Z"
   },
   {
    "duration": 19,
    "start_time": "2024-02-14T11:21:21.598Z"
   },
   {
    "duration": 20,
    "start_time": "2024-02-14T11:22:22.735Z"
   },
   {
    "duration": 78,
    "start_time": "2024-02-14T11:23:17.047Z"
   },
   {
    "duration": 21,
    "start_time": "2024-02-14T11:23:23.796Z"
   },
   {
    "duration": 18,
    "start_time": "2024-02-14T11:26:09.392Z"
   },
   {
    "duration": 105,
    "start_time": "2024-02-14T11:26:29.052Z"
   },
   {
    "duration": 20,
    "start_time": "2024-02-14T11:26:34.259Z"
   },
   {
    "duration": 3,
    "start_time": "2024-02-14T11:26:51.964Z"
   },
   {
    "duration": 11,
    "start_time": "2024-02-14T11:27:27.075Z"
   },
   {
    "duration": 78,
    "start_time": "2024-02-14T11:29:50.292Z"
   },
   {
    "duration": 76,
    "start_time": "2024-02-14T11:30:55.016Z"
   },
   {
    "duration": 15,
    "start_time": "2024-02-14T11:31:37.545Z"
   },
   {
    "duration": 13,
    "start_time": "2024-02-14T11:32:49.206Z"
   },
   {
    "duration": 15,
    "start_time": "2024-02-14T11:33:59.010Z"
   },
   {
    "duration": 3,
    "start_time": "2024-02-14T11:36:03.020Z"
   },
   {
    "duration": 173,
    "start_time": "2024-02-14T11:36:03.025Z"
   },
   {
    "duration": 11,
    "start_time": "2024-02-14T11:36:03.200Z"
   },
   {
    "duration": 45,
    "start_time": "2024-02-14T11:36:03.212Z"
   },
   {
    "duration": 2,
    "start_time": "2024-02-14T11:36:03.259Z"
   },
   {
    "duration": 11,
    "start_time": "2024-02-14T11:36:03.263Z"
   },
   {
    "duration": 12,
    "start_time": "2024-02-14T11:36:03.275Z"
   },
   {
    "duration": 7,
    "start_time": "2024-02-14T11:36:03.289Z"
   },
   {
    "duration": 29,
    "start_time": "2024-02-14T11:36:03.297Z"
   },
   {
    "duration": 21,
    "start_time": "2024-02-14T11:36:03.327Z"
   },
   {
    "duration": 23,
    "start_time": "2024-02-14T11:36:03.350Z"
   },
   {
    "duration": 66,
    "start_time": "2024-02-14T11:36:03.375Z"
   },
   {
    "duration": 62,
    "start_time": "2024-02-14T11:36:03.443Z"
   },
   {
    "duration": 59,
    "start_time": "2024-02-14T11:36:03.507Z"
   },
   {
    "duration": 6,
    "start_time": "2024-02-14T11:36:03.567Z"
   },
   {
    "duration": 12,
    "start_time": "2024-02-14T11:36:03.575Z"
   },
   {
    "duration": 30,
    "start_time": "2024-02-14T11:36:03.589Z"
   },
   {
    "duration": 12,
    "start_time": "2024-02-14T11:36:03.621Z"
   },
   {
    "duration": 11,
    "start_time": "2024-02-14T11:36:03.635Z"
   },
   {
    "duration": 3,
    "start_time": "2024-02-14T11:36:03.648Z"
   },
   {
    "duration": 31,
    "start_time": "2024-02-14T11:36:03.652Z"
   },
   {
    "duration": 39,
    "start_time": "2024-02-14T11:36:03.685Z"
   },
   {
    "duration": 14,
    "start_time": "2024-02-14T11:36:03.725Z"
   },
   {
    "duration": 14,
    "start_time": "2024-02-14T11:36:03.741Z"
   },
   {
    "duration": 15,
    "start_time": "2024-02-14T11:36:03.757Z"
   },
   {
    "duration": 45,
    "start_time": "2024-02-14T11:36:03.773Z"
   },
   {
    "duration": 62,
    "start_time": "2024-02-14T13:47:29.199Z"
   },
   {
    "duration": 396,
    "start_time": "2024-02-14T13:47:39.362Z"
   },
   {
    "duration": 461,
    "start_time": "2024-02-14T13:47:39.760Z"
   },
   {
    "duration": 17,
    "start_time": "2024-02-14T13:47:40.222Z"
   },
   {
    "duration": 39,
    "start_time": "2024-02-14T13:47:40.241Z"
   },
   {
    "duration": 2,
    "start_time": "2024-02-14T13:47:40.281Z"
   },
   {
    "duration": 5,
    "start_time": "2024-02-14T13:47:40.285Z"
   },
   {
    "duration": 14,
    "start_time": "2024-02-14T13:47:40.292Z"
   },
   {
    "duration": 19,
    "start_time": "2024-02-14T13:47:40.308Z"
   },
   {
    "duration": 38,
    "start_time": "2024-02-14T13:47:40.328Z"
   },
   {
    "duration": 28,
    "start_time": "2024-02-14T13:47:40.368Z"
   },
   {
    "duration": 26,
    "start_time": "2024-02-14T13:47:40.398Z"
   },
   {
    "duration": 84,
    "start_time": "2024-02-14T13:47:40.426Z"
   },
   {
    "duration": 94,
    "start_time": "2024-02-14T13:47:40.512Z"
   },
   {
    "duration": 58,
    "start_time": "2024-02-14T13:47:40.607Z"
   },
   {
    "duration": 20,
    "start_time": "2024-02-14T13:47:40.667Z"
   },
   {
    "duration": 13,
    "start_time": "2024-02-14T13:47:40.689Z"
   },
   {
    "duration": 10,
    "start_time": "2024-02-14T13:47:40.705Z"
   },
   {
    "duration": 26,
    "start_time": "2024-02-14T13:47:40.716Z"
   },
   {
    "duration": 46,
    "start_time": "2024-02-14T13:47:40.744Z"
   },
   {
    "duration": 5,
    "start_time": "2024-02-14T13:47:40.792Z"
   },
   {
    "duration": 28,
    "start_time": "2024-02-14T13:47:40.799Z"
   },
   {
    "duration": 15,
    "start_time": "2024-02-14T13:47:40.828Z"
   },
   {
    "duration": 20,
    "start_time": "2024-02-14T13:47:40.845Z"
   },
   {
    "duration": 43,
    "start_time": "2024-02-14T13:47:40.866Z"
   },
   {
    "duration": 19,
    "start_time": "2024-02-14T13:47:40.910Z"
   },
   {
    "duration": 16,
    "start_time": "2024-02-14T13:47:44.041Z"
   },
   {
    "duration": 28,
    "start_time": "2024-02-14T13:51:44.106Z"
   },
   {
    "duration": 4,
    "start_time": "2024-02-14T13:51:54.900Z"
   },
   {
    "duration": 4,
    "start_time": "2024-02-14T13:58:05.194Z"
   },
   {
    "duration": 5,
    "start_time": "2024-02-14T13:59:30.898Z"
   },
   {
    "duration": 4,
    "start_time": "2024-02-14T14:02:23.961Z"
   },
   {
    "duration": 4,
    "start_time": "2024-02-14T14:03:06.933Z"
   },
   {
    "duration": 4,
    "start_time": "2024-02-14T14:03:15.599Z"
   },
   {
    "duration": 5,
    "start_time": "2024-02-14T14:03:19.997Z"
   },
   {
    "duration": 377,
    "start_time": "2024-02-14T19:32:21.498Z"
   },
   {
    "duration": 210,
    "start_time": "2024-02-14T19:32:21.877Z"
   },
   {
    "duration": 14,
    "start_time": "2024-02-14T19:32:22.089Z"
   },
   {
    "duration": 29,
    "start_time": "2024-02-14T19:32:22.105Z"
   },
   {
    "duration": 2,
    "start_time": "2024-02-14T19:32:22.135Z"
   },
   {
    "duration": 6,
    "start_time": "2024-02-14T19:32:22.139Z"
   },
   {
    "duration": 11,
    "start_time": "2024-02-14T19:32:22.146Z"
   },
   {
    "duration": 5,
    "start_time": "2024-02-14T19:32:22.158Z"
   },
   {
    "duration": 24,
    "start_time": "2024-02-14T19:32:22.165Z"
   },
   {
    "duration": 20,
    "start_time": "2024-02-14T19:32:22.191Z"
   },
   {
    "duration": 17,
    "start_time": "2024-02-14T19:32:22.213Z"
   },
   {
    "duration": 57,
    "start_time": "2024-02-14T19:32:22.231Z"
   },
   {
    "duration": 65,
    "start_time": "2024-02-14T19:32:22.301Z"
   },
   {
    "duration": 56,
    "start_time": "2024-02-14T19:32:22.368Z"
   },
   {
    "duration": 7,
    "start_time": "2024-02-14T19:32:22.425Z"
   },
   {
    "duration": 13,
    "start_time": "2024-02-14T19:32:22.433Z"
   },
   {
    "duration": 6,
    "start_time": "2024-02-14T19:32:22.447Z"
   },
   {
    "duration": 14,
    "start_time": "2024-02-14T19:32:22.454Z"
   },
   {
    "duration": 10,
    "start_time": "2024-02-14T19:32:22.469Z"
   },
   {
    "duration": 22,
    "start_time": "2024-02-14T19:32:22.480Z"
   },
   {
    "duration": 19,
    "start_time": "2024-02-14T19:32:22.503Z"
   },
   {
    "duration": 12,
    "start_time": "2024-02-14T19:32:22.524Z"
   },
   {
    "duration": 37,
    "start_time": "2024-02-14T19:32:22.537Z"
   },
   {
    "duration": 10,
    "start_time": "2024-02-14T19:32:22.575Z"
   },
   {
    "duration": 22,
    "start_time": "2024-02-14T19:32:22.586Z"
   },
   {
    "duration": 14,
    "start_time": "2024-02-14T19:32:22.609Z"
   },
   {
    "duration": 3,
    "start_time": "2024-02-14T19:43:39.491Z"
   },
   {
    "duration": 24,
    "start_time": "2024-02-14T19:48:46.423Z"
   },
   {
    "duration": 25,
    "start_time": "2024-02-14T19:54:36.159Z"
   },
   {
    "duration": 16,
    "start_time": "2024-02-14T19:55:03.187Z"
   },
   {
    "duration": 25,
    "start_time": "2024-02-14T19:55:23.084Z"
   },
   {
    "duration": 48,
    "start_time": "2024-02-14T19:57:09.017Z"
   },
   {
    "duration": 52,
    "start_time": "2024-02-14T19:57:32.944Z"
   },
   {
    "duration": 47,
    "start_time": "2024-02-14T19:57:53.710Z"
   },
   {
    "duration": 50,
    "start_time": "2024-02-14T19:58:42.332Z"
   },
   {
    "duration": 51,
    "start_time": "2024-02-14T19:59:49.864Z"
   },
   {
    "duration": 49,
    "start_time": "2024-02-14T20:00:04.311Z"
   },
   {
    "duration": 48,
    "start_time": "2024-02-14T20:01:25.618Z"
   },
   {
    "duration": 57,
    "start_time": "2024-02-14T20:01:46.604Z"
   },
   {
    "duration": 58,
    "start_time": "2024-02-14T20:04:34.983Z"
   },
   {
    "duration": 63,
    "start_time": "2024-02-14T20:06:07.139Z"
   },
   {
    "duration": 52,
    "start_time": "2024-02-14T20:06:21.519Z"
   },
   {
    "duration": 50,
    "start_time": "2024-02-14T20:06:25.898Z"
   },
   {
    "duration": 13,
    "start_time": "2024-02-14T20:33:07.584Z"
   },
   {
    "duration": 11,
    "start_time": "2024-02-14T20:34:27.872Z"
   },
   {
    "duration": 26,
    "start_time": "2024-02-14T20:38:59.772Z"
   },
   {
    "duration": 3,
    "start_time": "2024-02-14T20:56:15.618Z"
   },
   {
    "duration": 2,
    "start_time": "2024-02-14T21:00:24.626Z"
   },
   {
    "duration": 145,
    "start_time": "2024-02-14T21:00:24.629Z"
   },
   {
    "duration": 8,
    "start_time": "2024-02-14T21:00:24.775Z"
   },
   {
    "duration": 40,
    "start_time": "2024-02-14T21:00:24.785Z"
   },
   {
    "duration": 14,
    "start_time": "2024-02-14T21:00:24.826Z"
   },
   {
    "duration": 15,
    "start_time": "2024-02-14T21:00:24.842Z"
   },
   {
    "duration": 24,
    "start_time": "2024-02-14T21:00:24.859Z"
   },
   {
    "duration": 14,
    "start_time": "2024-02-14T21:00:24.885Z"
   },
   {
    "duration": 23,
    "start_time": "2024-02-14T21:00:24.900Z"
   },
   {
    "duration": 22,
    "start_time": "2024-02-14T21:00:24.924Z"
   },
   {
    "duration": 22,
    "start_time": "2024-02-14T21:00:24.948Z"
   },
   {
    "duration": 57,
    "start_time": "2024-02-14T21:00:24.971Z"
   },
   {
    "duration": 57,
    "start_time": "2024-02-14T21:00:25.029Z"
   },
   {
    "duration": 51,
    "start_time": "2024-02-14T21:00:25.087Z"
   },
   {
    "duration": 6,
    "start_time": "2024-02-14T21:00:25.139Z"
   },
   {
    "duration": 12,
    "start_time": "2024-02-14T21:00:25.146Z"
   },
   {
    "duration": 10,
    "start_time": "2024-02-14T21:00:25.159Z"
   },
   {
    "duration": 45,
    "start_time": "2024-02-14T21:00:25.171Z"
   },
   {
    "duration": 15,
    "start_time": "2024-02-14T21:00:25.217Z"
   },
   {
    "duration": 2,
    "start_time": "2024-02-14T21:00:25.234Z"
   },
   {
    "duration": 29,
    "start_time": "2024-02-14T21:00:25.237Z"
   },
   {
    "duration": 41,
    "start_time": "2024-02-14T21:00:25.267Z"
   },
   {
    "duration": 21,
    "start_time": "2024-02-14T21:00:25.309Z"
   },
   {
    "duration": 9,
    "start_time": "2024-02-14T21:00:25.331Z"
   },
   {
    "duration": 13,
    "start_time": "2024-02-14T21:00:25.341Z"
   },
   {
    "duration": 19,
    "start_time": "2024-02-14T21:00:25.356Z"
   },
   {
    "duration": 48,
    "start_time": "2024-02-14T21:00:25.376Z"
   },
   {
    "duration": 8,
    "start_time": "2024-02-14T21:00:25.426Z"
   },
   {
    "duration": 10,
    "start_time": "2024-02-14T21:00:25.437Z"
   },
   {
    "duration": 4,
    "start_time": "2024-02-14T21:00:37.505Z"
   },
   {
    "duration": 4,
    "start_time": "2024-02-14T21:01:46.735Z"
   },
   {
    "duration": 2,
    "start_time": "2024-02-14T21:02:20.089Z"
   },
   {
    "duration": 145,
    "start_time": "2024-02-14T21:02:20.094Z"
   },
   {
    "duration": 9,
    "start_time": "2024-02-14T21:02:20.240Z"
   },
   {
    "duration": 26,
    "start_time": "2024-02-14T21:02:20.250Z"
   },
   {
    "duration": 2,
    "start_time": "2024-02-14T21:02:20.278Z"
   },
   {
    "duration": 19,
    "start_time": "2024-02-14T21:02:20.282Z"
   },
   {
    "duration": 12,
    "start_time": "2024-02-14T21:02:20.303Z"
   },
   {
    "duration": 14,
    "start_time": "2024-02-14T21:02:20.317Z"
   },
   {
    "duration": 31,
    "start_time": "2024-02-14T21:02:20.333Z"
   },
   {
    "duration": 23,
    "start_time": "2024-02-14T21:02:20.366Z"
   },
   {
    "duration": 33,
    "start_time": "2024-02-14T21:02:20.393Z"
   },
   {
    "duration": 49,
    "start_time": "2024-02-14T21:02:20.427Z"
   },
   {
    "duration": 57,
    "start_time": "2024-02-14T21:02:20.477Z"
   },
   {
    "duration": 46,
    "start_time": "2024-02-14T21:02:20.535Z"
   },
   {
    "duration": 21,
    "start_time": "2024-02-14T21:02:20.582Z"
   },
   {
    "duration": 25,
    "start_time": "2024-02-14T21:02:20.604Z"
   },
   {
    "duration": 9,
    "start_time": "2024-02-14T21:02:20.630Z"
   },
   {
    "duration": 16,
    "start_time": "2024-02-14T21:02:20.640Z"
   },
   {
    "duration": 8,
    "start_time": "2024-02-14T21:02:20.657Z"
   },
   {
    "duration": 4,
    "start_time": "2024-02-14T21:02:20.667Z"
   },
   {
    "duration": 15,
    "start_time": "2024-02-14T21:02:20.672Z"
   },
   {
    "duration": 19,
    "start_time": "2024-02-14T21:02:20.688Z"
   },
   {
    "duration": 10,
    "start_time": "2024-02-14T21:02:20.709Z"
   },
   {
    "duration": 20,
    "start_time": "2024-02-14T21:02:20.720Z"
   },
   {
    "duration": 12,
    "start_time": "2024-02-14T21:02:20.742Z"
   },
   {
    "duration": 12,
    "start_time": "2024-02-14T21:02:20.756Z"
   },
   {
    "duration": 69,
    "start_time": "2024-02-14T21:02:20.769Z"
   },
   {
    "duration": 9,
    "start_time": "2024-02-14T21:02:20.839Z"
   },
   {
    "duration": 7,
    "start_time": "2024-02-14T21:02:20.851Z"
   },
   {
    "duration": 3,
    "start_time": "2024-02-14T21:02:26.654Z"
   },
   {
    "duration": 2,
    "start_time": "2024-02-14T21:03:24.443Z"
   },
   {
    "duration": 138,
    "start_time": "2024-02-14T21:03:24.447Z"
   },
   {
    "duration": 16,
    "start_time": "2024-02-14T21:03:24.586Z"
   },
   {
    "duration": 21,
    "start_time": "2024-02-14T21:03:24.603Z"
   },
   {
    "duration": 2,
    "start_time": "2024-02-14T21:03:24.626Z"
   },
   {
    "duration": 3,
    "start_time": "2024-02-14T21:03:24.629Z"
   },
   {
    "duration": 16,
    "start_time": "2024-02-14T21:03:24.633Z"
   },
   {
    "duration": 4,
    "start_time": "2024-02-14T21:03:24.651Z"
   },
   {
    "duration": 24,
    "start_time": "2024-02-14T21:03:24.656Z"
   },
   {
    "duration": 20,
    "start_time": "2024-02-14T21:03:24.681Z"
   },
   {
    "duration": 16,
    "start_time": "2024-02-14T21:03:24.703Z"
   },
   {
    "duration": 61,
    "start_time": "2024-02-14T21:03:24.720Z"
   },
   {
    "duration": 67,
    "start_time": "2024-02-14T21:03:24.782Z"
   },
   {
    "duration": 58,
    "start_time": "2024-02-14T21:03:24.851Z"
   },
   {
    "duration": 6,
    "start_time": "2024-02-14T21:03:24.911Z"
   },
   {
    "duration": 10,
    "start_time": "2024-02-14T21:03:24.918Z"
   },
   {
    "duration": 6,
    "start_time": "2024-02-14T21:03:24.929Z"
   },
   {
    "duration": 9,
    "start_time": "2024-02-14T21:03:24.936Z"
   },
   {
    "duration": 8,
    "start_time": "2024-02-14T21:03:24.946Z"
   },
   {
    "duration": 2,
    "start_time": "2024-02-14T21:03:24.955Z"
   },
   {
    "duration": 12,
    "start_time": "2024-02-14T21:03:24.959Z"
   },
   {
    "duration": 11,
    "start_time": "2024-02-14T21:03:25.001Z"
   },
   {
    "duration": 12,
    "start_time": "2024-02-14T21:03:25.014Z"
   },
   {
    "duration": 10,
    "start_time": "2024-02-14T21:03:25.027Z"
   },
   {
    "duration": 35,
    "start_time": "2024-02-14T21:03:25.038Z"
   },
   {
    "duration": 25,
    "start_time": "2024-02-14T21:03:25.074Z"
   },
   {
    "duration": 48,
    "start_time": "2024-02-14T21:03:25.101Z"
   },
   {
    "duration": 9,
    "start_time": "2024-02-14T21:03:25.151Z"
   },
   {
    "duration": 8,
    "start_time": "2024-02-14T21:03:25.162Z"
   },
   {
    "duration": 5,
    "start_time": "2024-02-14T21:03:34.025Z"
   },
   {
    "duration": 13,
    "start_time": "2024-02-14T21:05:01.841Z"
   },
   {
    "duration": 2,
    "start_time": "2024-02-14T21:06:53.409Z"
   },
   {
    "duration": 140,
    "start_time": "2024-02-14T21:06:53.413Z"
   },
   {
    "duration": 8,
    "start_time": "2024-02-14T21:06:53.554Z"
   },
   {
    "duration": 32,
    "start_time": "2024-02-14T21:06:53.563Z"
   },
   {
    "duration": 4,
    "start_time": "2024-02-14T21:06:53.597Z"
   },
   {
    "duration": 4,
    "start_time": "2024-02-14T21:06:53.602Z"
   },
   {
    "duration": 6,
    "start_time": "2024-02-14T21:06:53.607Z"
   },
   {
    "duration": 16,
    "start_time": "2024-02-14T21:06:53.614Z"
   },
   {
    "duration": 20,
    "start_time": "2024-02-14T21:06:53.631Z"
   },
   {
    "duration": 12,
    "start_time": "2024-02-14T21:06:53.652Z"
   },
   {
    "duration": 43,
    "start_time": "2024-02-14T21:06:53.666Z"
   },
   {
    "duration": 49,
    "start_time": "2024-02-14T21:06:53.710Z"
   },
   {
    "duration": 64,
    "start_time": "2024-02-14T21:06:53.760Z"
   },
   {
    "duration": 45,
    "start_time": "2024-02-14T21:06:53.825Z"
   },
   {
    "duration": 6,
    "start_time": "2024-02-14T21:06:53.871Z"
   },
   {
    "duration": 23,
    "start_time": "2024-02-14T21:06:53.878Z"
   },
   {
    "duration": 6,
    "start_time": "2024-02-14T21:06:53.903Z"
   },
   {
    "duration": 14,
    "start_time": "2024-02-14T21:06:53.911Z"
   },
   {
    "duration": 15,
    "start_time": "2024-02-14T21:06:53.926Z"
   },
   {
    "duration": 3,
    "start_time": "2024-02-14T21:06:53.942Z"
   },
   {
    "duration": 15,
    "start_time": "2024-02-14T21:06:53.946Z"
   },
   {
    "duration": 10,
    "start_time": "2024-02-14T21:06:53.963Z"
   },
   {
    "duration": 31,
    "start_time": "2024-02-14T21:06:53.974Z"
   },
   {
    "duration": 10,
    "start_time": "2024-02-14T21:06:54.006Z"
   },
   {
    "duration": 13,
    "start_time": "2024-02-14T21:06:54.018Z"
   },
   {
    "duration": 15,
    "start_time": "2024-02-14T21:06:54.032Z"
   },
   {
    "duration": 67,
    "start_time": "2024-02-14T21:06:54.048Z"
   },
   {
    "duration": 9,
    "start_time": "2024-02-14T21:06:54.117Z"
   },
   {
    "duration": 7,
    "start_time": "2024-02-14T21:06:54.129Z"
   },
   {
    "duration": 3,
    "start_time": "2024-02-14T21:06:54.138Z"
   },
   {
    "duration": 13,
    "start_time": "2024-02-14T21:06:54.143Z"
   },
   {
    "duration": 9,
    "start_time": "2024-02-14T21:06:54.158Z"
   },
   {
    "duration": 42,
    "start_time": "2024-02-14T21:06:54.168Z"
   },
   {
    "duration": 14,
    "start_time": "2024-02-14T21:07:00.324Z"
   },
   {
    "duration": 3,
    "start_time": "2024-02-14T21:07:33.845Z"
   },
   {
    "duration": 70,
    "start_time": "2024-02-14T21:07:37.080Z"
   },
   {
    "duration": 3,
    "start_time": "2024-02-14T21:07:47.612Z"
   },
   {
    "duration": 12,
    "start_time": "2024-02-14T21:07:49.848Z"
   },
   {
    "duration": 2,
    "start_time": "2024-02-14T21:07:59.358Z"
   },
   {
    "duration": 149,
    "start_time": "2024-02-14T21:07:59.361Z"
   },
   {
    "duration": 9,
    "start_time": "2024-02-14T21:07:59.511Z"
   },
   {
    "duration": 24,
    "start_time": "2024-02-14T21:07:59.521Z"
   },
   {
    "duration": 2,
    "start_time": "2024-02-14T21:07:59.547Z"
   },
   {
    "duration": 9,
    "start_time": "2024-02-14T21:07:59.550Z"
   },
   {
    "duration": 8,
    "start_time": "2024-02-14T21:07:59.560Z"
   },
   {
    "duration": 5,
    "start_time": "2024-02-14T21:07:59.569Z"
   },
   {
    "duration": 36,
    "start_time": "2024-02-14T21:07:59.575Z"
   },
   {
    "duration": 13,
    "start_time": "2024-02-14T21:07:59.613Z"
   },
   {
    "duration": 19,
    "start_time": "2024-02-14T21:07:59.629Z"
   },
   {
    "duration": 69,
    "start_time": "2024-02-14T21:07:59.649Z"
   },
   {
    "duration": 57,
    "start_time": "2024-02-14T21:07:59.720Z"
   },
   {
    "duration": 61,
    "start_time": "2024-02-14T21:07:59.779Z"
   },
   {
    "duration": 7,
    "start_time": "2024-02-14T21:07:59.841Z"
   },
   {
    "duration": 9,
    "start_time": "2024-02-14T21:07:59.849Z"
   },
   {
    "duration": 10,
    "start_time": "2024-02-14T21:07:59.860Z"
   },
   {
    "duration": 13,
    "start_time": "2024-02-14T21:07:59.871Z"
   },
   {
    "duration": 10,
    "start_time": "2024-02-14T21:07:59.901Z"
   },
   {
    "duration": 2,
    "start_time": "2024-02-14T21:07:59.913Z"
   },
   {
    "duration": 13,
    "start_time": "2024-02-14T21:07:59.917Z"
   },
   {
    "duration": 11,
    "start_time": "2024-02-14T21:07:59.931Z"
   },
   {
    "duration": 11,
    "start_time": "2024-02-14T21:07:59.943Z"
   },
   {
    "duration": 9,
    "start_time": "2024-02-14T21:07:59.955Z"
   },
   {
    "duration": 43,
    "start_time": "2024-02-14T21:07:59.966Z"
   },
   {
    "duration": 48,
    "start_time": "2024-02-14T21:08:00.010Z"
   },
   {
    "duration": 71,
    "start_time": "2024-02-14T21:08:00.059Z"
   },
   {
    "duration": 11,
    "start_time": "2024-02-14T21:08:00.132Z"
   },
   {
    "duration": 32,
    "start_time": "2024-02-14T21:08:00.145Z"
   },
   {
    "duration": 20,
    "start_time": "2024-02-14T21:08:00.179Z"
   },
   {
    "duration": 41,
    "start_time": "2024-02-14T21:08:00.200Z"
   },
   {
    "duration": 41,
    "start_time": "2024-02-14T21:08:00.242Z"
   },
   {
    "duration": 36,
    "start_time": "2024-02-14T21:08:00.285Z"
   },
   {
    "duration": 29,
    "start_time": "2024-02-14T21:08:00.322Z"
   },
   {
    "duration": 46,
    "start_time": "2024-02-15T10:10:19.650Z"
   },
   {
    "duration": 434,
    "start_time": "2024-02-15T10:10:29.124Z"
   },
   {
    "duration": 243,
    "start_time": "2024-02-15T10:10:29.561Z"
   },
   {
    "duration": 18,
    "start_time": "2024-02-15T10:10:29.805Z"
   },
   {
    "duration": 31,
    "start_time": "2024-02-15T10:10:29.825Z"
   },
   {
    "duration": 2,
    "start_time": "2024-02-15T10:10:29.859Z"
   },
   {
    "duration": 7,
    "start_time": "2024-02-15T10:10:29.863Z"
   },
   {
    "duration": 32,
    "start_time": "2024-02-15T10:10:29.872Z"
   },
   {
    "duration": 8,
    "start_time": "2024-02-15T10:10:29.905Z"
   },
   {
    "duration": 38,
    "start_time": "2024-02-15T10:10:29.915Z"
   },
   {
    "duration": 27,
    "start_time": "2024-02-15T10:10:29.955Z"
   },
   {
    "duration": 26,
    "start_time": "2024-02-15T10:10:29.984Z"
   },
   {
    "duration": 123,
    "start_time": "2024-02-15T10:10:30.012Z"
   },
   {
    "duration": 81,
    "start_time": "2024-02-15T10:10:30.137Z"
   },
   {
    "duration": 149,
    "start_time": "2024-02-15T10:10:30.220Z"
   },
   {
    "duration": 165,
    "start_time": "2024-02-15T10:10:30.370Z"
   },
   {
    "duration": 44,
    "start_time": "2024-02-15T10:10:30.537Z"
   },
   {
    "duration": 20,
    "start_time": "2024-02-15T10:10:30.583Z"
   },
   {
    "duration": 31,
    "start_time": "2024-02-15T10:10:30.604Z"
   },
   {
    "duration": 41,
    "start_time": "2024-02-15T10:10:30.636Z"
   },
   {
    "duration": 32,
    "start_time": "2024-02-15T10:10:30.678Z"
   },
   {
    "duration": 54,
    "start_time": "2024-02-15T10:10:30.712Z"
   },
   {
    "duration": 31,
    "start_time": "2024-02-15T10:10:30.768Z"
   },
   {
    "duration": 65,
    "start_time": "2024-02-15T10:10:30.800Z"
   },
   {
    "duration": 56,
    "start_time": "2024-02-15T10:10:30.867Z"
   },
   {
    "duration": 82,
    "start_time": "2024-02-15T10:10:30.925Z"
   },
   {
    "duration": 52,
    "start_time": "2024-02-15T10:10:31.008Z"
   },
   {
    "duration": 74,
    "start_time": "2024-02-15T10:10:32.900Z"
   },
   {
    "duration": 59,
    "start_time": "2024-02-15T10:12:54.565Z"
   },
   {
    "duration": 71,
    "start_time": "2024-02-15T10:13:05.901Z"
   },
   {
    "duration": 59,
    "start_time": "2024-02-15T10:13:11.245Z"
   },
   {
    "duration": 73,
    "start_time": "2024-02-15T10:24:30.786Z"
   },
   {
    "duration": 71,
    "start_time": "2024-02-15T10:24:51.130Z"
   },
   {
    "duration": 103,
    "start_time": "2024-02-15T10:24:57.827Z"
   },
   {
    "duration": 69,
    "start_time": "2024-02-15T10:25:02.809Z"
   },
   {
    "duration": 65,
    "start_time": "2024-02-15T11:26:31.005Z"
   },
   {
    "duration": 62,
    "start_time": "2024-02-15T11:26:46.637Z"
   },
   {
    "duration": 65,
    "start_time": "2024-02-15T11:27:43.635Z"
   },
   {
    "duration": 26,
    "start_time": "2024-02-15T11:32:32.546Z"
   },
   {
    "duration": 6,
    "start_time": "2024-02-15T11:33:07.357Z"
   },
   {
    "duration": 2,
    "start_time": "2024-02-15T11:33:36.208Z"
   },
   {
    "duration": 164,
    "start_time": "2024-02-15T11:33:36.212Z"
   },
   {
    "duration": 10,
    "start_time": "2024-02-15T11:33:36.378Z"
   },
   {
    "duration": 31,
    "start_time": "2024-02-15T11:33:36.389Z"
   },
   {
    "duration": 2,
    "start_time": "2024-02-15T11:33:36.421Z"
   },
   {
    "duration": 20,
    "start_time": "2024-02-15T11:33:36.425Z"
   },
   {
    "duration": 17,
    "start_time": "2024-02-15T11:33:36.447Z"
   },
   {
    "duration": 5,
    "start_time": "2024-02-15T11:33:36.465Z"
   },
   {
    "duration": 23,
    "start_time": "2024-02-15T11:33:36.472Z"
   },
   {
    "duration": 16,
    "start_time": "2024-02-15T11:33:36.496Z"
   },
   {
    "duration": 32,
    "start_time": "2024-02-15T11:33:36.514Z"
   },
   {
    "duration": 61,
    "start_time": "2024-02-15T11:33:36.547Z"
   },
   {
    "duration": 69,
    "start_time": "2024-02-15T11:33:36.610Z"
   },
   {
    "duration": 47,
    "start_time": "2024-02-15T11:33:36.681Z"
   },
   {
    "duration": 18,
    "start_time": "2024-02-15T11:33:36.730Z"
   },
   {
    "duration": 15,
    "start_time": "2024-02-15T11:33:36.750Z"
   },
   {
    "duration": 7,
    "start_time": "2024-02-15T11:33:36.766Z"
   },
   {
    "duration": 16,
    "start_time": "2024-02-15T11:33:36.774Z"
   },
   {
    "duration": 21,
    "start_time": "2024-02-15T11:33:36.791Z"
   },
   {
    "duration": 3,
    "start_time": "2024-02-15T11:33:36.814Z"
   },
   {
    "duration": 29,
    "start_time": "2024-02-15T11:33:36.818Z"
   },
   {
    "duration": 12,
    "start_time": "2024-02-15T11:33:36.848Z"
   },
   {
    "duration": 12,
    "start_time": "2024-02-15T11:33:36.862Z"
   },
   {
    "duration": 12,
    "start_time": "2024-02-15T11:33:36.876Z"
   },
   {
    "duration": 22,
    "start_time": "2024-02-15T11:33:36.889Z"
   },
   {
    "duration": 41,
    "start_time": "2024-02-15T11:33:36.912Z"
   },
   {
    "duration": 62,
    "start_time": "2024-02-15T11:33:38.874Z"
   },
   {
    "duration": 363,
    "start_time": "2024-02-15T13:56:31.763Z"
   },
   {
    "duration": 228,
    "start_time": "2024-02-15T13:56:32.129Z"
   },
   {
    "duration": 16,
    "start_time": "2024-02-15T13:56:32.358Z"
   },
   {
    "duration": 29,
    "start_time": "2024-02-15T13:56:32.376Z"
   },
   {
    "duration": 6,
    "start_time": "2024-02-15T13:56:32.406Z"
   },
   {
    "duration": 8,
    "start_time": "2024-02-15T13:56:32.413Z"
   },
   {
    "duration": 15,
    "start_time": "2024-02-15T13:56:32.422Z"
   },
   {
    "duration": 10,
    "start_time": "2024-02-15T13:56:32.438Z"
   },
   {
    "duration": 41,
    "start_time": "2024-02-15T13:56:32.449Z"
   },
   {
    "duration": 19,
    "start_time": "2024-02-15T13:56:32.492Z"
   },
   {
    "duration": 32,
    "start_time": "2024-02-15T13:56:32.512Z"
   },
   {
    "duration": 69,
    "start_time": "2024-02-15T13:56:32.545Z"
   },
   {
    "duration": 71,
    "start_time": "2024-02-15T13:56:32.616Z"
   },
   {
    "duration": 61,
    "start_time": "2024-02-15T13:56:32.689Z"
   },
   {
    "duration": 7,
    "start_time": "2024-02-15T13:56:32.751Z"
   },
   {
    "duration": 12,
    "start_time": "2024-02-15T13:56:32.759Z"
   },
   {
    "duration": 6,
    "start_time": "2024-02-15T13:56:32.773Z"
   },
   {
    "duration": 12,
    "start_time": "2024-02-15T13:56:32.781Z"
   },
   {
    "duration": 41,
    "start_time": "2024-02-15T13:56:32.794Z"
   },
   {
    "duration": 3,
    "start_time": "2024-02-15T13:56:32.836Z"
   },
   {
    "duration": 38,
    "start_time": "2024-02-15T13:56:32.841Z"
   },
   {
    "duration": 15,
    "start_time": "2024-02-15T13:56:32.880Z"
   },
   {
    "duration": 17,
    "start_time": "2024-02-15T13:56:32.896Z"
   },
   {
    "duration": 24,
    "start_time": "2024-02-15T13:56:32.915Z"
   },
   {
    "duration": 16,
    "start_time": "2024-02-15T13:56:32.941Z"
   },
   {
    "duration": 16,
    "start_time": "2024-02-15T13:56:32.958Z"
   },
   {
    "duration": 103,
    "start_time": "2024-02-15T13:56:32.976Z"
   },
   {
    "duration": 12,
    "start_time": "2024-02-15T13:56:33.083Z"
   },
   {
    "duration": 22,
    "start_time": "2024-02-15T13:56:33.096Z"
   },
   {
    "duration": 8,
    "start_time": "2024-02-15T13:56:33.120Z"
   },
   {
    "duration": 33,
    "start_time": "2024-02-15T13:56:33.130Z"
   },
   {
    "duration": 13,
    "start_time": "2024-02-15T13:56:33.165Z"
   },
   {
    "duration": 27,
    "start_time": "2024-02-15T13:56:33.180Z"
   },
   {
    "duration": 25,
    "start_time": "2024-02-15T13:56:33.209Z"
   },
   {
    "duration": 11,
    "start_time": "2024-02-15T13:59:26.150Z"
   },
   {
    "duration": 30,
    "start_time": "2024-02-15T14:00:06.394Z"
   },
   {
    "duration": 11,
    "start_time": "2024-02-15T14:02:16.692Z"
   },
   {
    "duration": 65,
    "start_time": "2024-02-15T14:03:31.797Z"
   },
   {
    "duration": 142,
    "start_time": "2024-02-15T14:03:59.964Z"
   },
   {
    "duration": 71,
    "start_time": "2024-02-15T14:04:18.735Z"
   },
   {
    "duration": 63,
    "start_time": "2024-02-15T14:04:28.874Z"
   },
   {
    "duration": 9,
    "start_time": "2024-02-15T14:05:48.001Z"
   },
   {
    "duration": 17,
    "start_time": "2024-02-15T14:06:07.866Z"
   },
   {
    "duration": 8,
    "start_time": "2024-02-15T14:06:54.954Z"
   },
   {
    "duration": 5,
    "start_time": "2024-02-15T14:07:16.660Z"
   },
   {
    "duration": 6,
    "start_time": "2024-02-15T14:10:30.054Z"
   },
   {
    "duration": 5,
    "start_time": "2024-02-15T14:10:51.886Z"
   }
  ],
  "celltoolbar": "Отсутствует",
  "colab": {
   "collapsed_sections": [
    "E0vqbgi9ay0H",
    "VUC88oWjTJw2"
   ],
   "provenance": []
  },
  "kernelspec": {
   "display_name": "Python 3 (ipykernel)",
   "language": "python",
   "name": "python3"
  },
  "language_info": {
   "codemirror_mode": {
    "name": "ipython",
    "version": 3
   },
   "file_extension": ".py",
   "mimetype": "text/x-python",
   "name": "python",
   "nbconvert_exporter": "python",
   "pygments_lexer": "ipython3",
   "version": "3.9.5"
  },
  "toc": {
   "base_numbering": 1,
   "nav_menu": {
    "height": "215px",
    "width": "403px"
   },
   "number_sections": true,
   "sideBar": true,
   "skip_h1_title": true,
   "title_cell": "Table of Contents",
   "title_sidebar": "Contents",
   "toc_cell": false,
   "toc_position": {
    "height": "calc(100% - 180px)",
    "left": "10px",
    "top": "150px",
    "width": "285.825px"
   },
   "toc_section_display": true,
   "toc_window_display": false
  }
 },
 "nbformat": 4,
 "nbformat_minor": 1
}
